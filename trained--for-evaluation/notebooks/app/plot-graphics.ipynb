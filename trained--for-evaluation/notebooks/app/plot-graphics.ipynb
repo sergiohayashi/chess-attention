{
 "cells": [
  {
   "cell_type": "code",
   "execution_count": 35,
   "id": "b6e336a3",
   "metadata": {},
   "outputs": [],
   "source": [
    "# import tensorflow as tf\n",
    "# device_name = tf.test.gpu_device_name()\n",
    "# if device_name != '/device:GPU:0':\n",
    "#   raise SystemError('GPU device not found')\n",
    "# print('Found GPU at: {}'.format(device_name))\n",
    "\n",
    "# You'll generate plots of attention in order to see which p arts of an image\n",
    "# our model focuses on during captioning\n",
    "import matplotlib.pyplot as plt\n",
    "\n",
    "# Scikit-learn includes many helpful utilities\n",
    "from sklearn.model_selection import train_test_split\n",
    "from sklearn.utils import shuffle\n",
    "\n",
    "import re\n",
    "import numpy as np  \n",
    "import os\n",
    "import time\n",
    "import json\n",
    "from glob import glob\n",
    "from PIL import Image\n",
    "import pickle\n",
    "import cv2\n",
    "from sklearn.utils import shuffle\n",
    "\n",
    "from IPython.display import clear_output, display\n",
    "import os.path\n",
    "from os import path\n",
    "import shutil\n",
    "import PIL\n",
    "from pathlib import Path\n",
    "from matplotlib import pyplot as plt\n",
    "\n",
    "from IPython.display import clear_output\n",
    "\n",
    "import numpy as np\n",
    "\n",
    "from PIL import ImageFont\n",
    "from PIL import Image, ImageDraw\n",
    "from PIL import ImageColor\n",
    "\n",
    "from scipy.ndimage.interpolation import map_coordinates\n",
    "from scipy.ndimage.filters import gaussian_filter\n",
    "\n",
    "import random\n",
    "\n",
    "import time\n",
    "import shutil\n",
    "import uuid\n",
    "from shutil import copyfile\n",
    "from collections import Counter\n",
    "\n",
    "import json\n",
    "\n",
    "from scipy.ndimage.filters import gaussian_filter1d\n",
    "from matplotlib.pyplot import figure\n",
    "\n",
    "from mpl_toolkits.axes_grid1 import host_subplot\n",
    "import matplotlib.pyplot as plt"
   ]
  },
  {
   "cell_type": "code",
   "execution_count": 2,
   "id": "baf31909",
   "metadata": {},
   "outputs": [],
   "source": [
    "\n",
    "noteach= [0.7894737124443054,\n",
    "   0.7631579041481018,\n",
    "   0.7894737124443054,\n",
    "   0.7894737124443054,\n",
    "   0.7789473533630371,\n",
    "   0.7719298005104065,\n",
    "   0.743107795715332,\n",
    "   0.7094298005104065,\n",
    "   0.6822612285614014,\n",
    "   0.6587719321250916,\n",
    "   0.6419457793235779,\n",
    "   0.6293859481811523,\n",
    "   0.6160593628883362,\n",
    "   0.5958646535873413,\n",
    "   0.5789473652839661,\n",
    "   0.5707237124443054]"
   ]
  },
  {
   "cell_type": "code",
   "execution_count": 3,
   "id": "a589e03c",
   "metadata": {},
   "outputs": [],
   "source": [
    "teach= [0.7456140518188477,\n",
    "   0.7368420958518982,\n",
    "   0.7426900863647461,\n",
    "   0.7368420958518982,\n",
    "   0.7280701994895935,\n",
    "   0.7207602262496948,\n",
    "   0.7042606472969055,\n",
    "   0.6798245906829834,\n",
    "   0.6588693857192993,\n",
    "   0.6377192735671997,\n",
    "   0.6116427183151245,\n",
    "   0.5957602262496948,\n",
    "   0.571524977684021,\n",
    "   0.5501253008842468,\n",
    "   0.5356724858283997,\n",
    "   0.5202850699424744]"
   ]
  },
  {
   "cell_type": "code",
   "execution_count": 4,
   "id": "bd3b7593",
   "metadata": {},
   "outputs": [],
   "source": [
    "curriculum =[0.7982456088066101,\n",
    "   0.7675438523292542,\n",
    "   0.7251461744308472,\n",
    "   0.7083333134651184,\n",
    "   0.6947368383407593,\n",
    "   0.6754385828971863,\n",
    "   0.6578947305679321,\n",
    "   0.6392543911933899,\n",
    "   0.6198830604553223,\n",
    "   0.5973684191703796,\n",
    "   0.579744815826416,\n",
    "   0.5665204524993896,\n",
    "   0.551956832408905,\n",
    "   0.530075192451477,\n",
    "   0.5181286334991455,\n",
    "   0.5137061476707458]"
   ]
  },
  {
   "cell_type": "code",
   "execution_count": 5,
   "id": "777b7231",
   "metadata": {},
   "outputs": [
    {
     "data": {
      "image/png": "[encoded data removed]",
      "text/plain": [
       "<Figure size 432x288 with 1 Axes>"
      ]
     },
     "metadata": {
      "needs_background": "light"
     },
     "output_type": "display_data"
    }
   ],
   "source": [
    "# plt.plot(train_loss)\n",
    "plt.plot(gaussian_filter1d(noteach, sigma=2))\n",
    "plt.plot(gaussian_filter1d(teach, sigma=2))\n",
    "plt.plot(gaussian_filter1d(curriculum, sigma=2))\n",
    "\n",
    "# plt.xlabel('Tamanho da sequência considerada')\n",
    "plt.ylabel('loss')\n",
    "plt.gca().legend(('sem teacher forcing','com teacher forcing', 'curriculum'))\n",
    "plt.show()"
   ]
  },
  {
   "cell_type": "code",
   "execution_count": 6,
   "id": "3d5debdd",
   "metadata": {},
   "outputs": [],
   "source": [
    "best = [([0.8508771657943726,\n",
    "   0.8464912176132202,\n",
    "   0.8421052694320679,\n",
    "   0.8333333134651184,\n",
    "   0.8350877165794373,\n",
    "   0.817251443862915,\n",
    "   0.8070175647735596,\n",
    "   0.7861841917037964,\n",
    "   0.7709551453590393,\n",
    "   0.7552631497383118,\n",
    "   0.7336522936820984,\n",
    "   0.7141813039779663,\n",
    "   0.6977058053016663,\n",
    "   0.6791979670524597,\n",
    "   0.6649122834205627,\n",
    "   0.6573464870452881],\n",
    "  [0.07456140220165253,\n",
    "   0.08552631735801697,\n",
    "   0.09064327925443649,\n",
    "   0.096491239964962,\n",
    "   0.09576023370027542,\n",
    "   0.11038011312484741,\n",
    "   0.1216583102941513,\n",
    "   0.13446637988090515,\n",
    "   0.14746588468551636,\n",
    "   0.15698830783367157,\n",
    "   0.17236842215061188,\n",
    "   0.18634259700775146,\n",
    "   0.19982007145881653,\n",
    "   0.21577905118465424,\n",
    "   0.228684201836586,\n",
    "   0.23622991144657135],\n",
    "  'test-8lines')]"
   ]
  },
  {
   "cell_type": "code",
   "execution_count": 7,
   "id": "506612a2",
   "metadata": {},
   "outputs": [
    {
     "data": {
      "text/plain": [
       "[0.8508771657943726,\n",
       " 0.8464912176132202,\n",
       " 0.8421052694320679,\n",
       " 0.8333333134651184,\n",
       " 0.8350877165794373,\n",
       " 0.817251443862915,\n",
       " 0.8070175647735596,\n",
       " 0.7861841917037964,\n",
       " 0.7709551453590393,\n",
       " 0.7552631497383118,\n",
       " 0.7336522936820984,\n",
       " 0.7141813039779663,\n",
       " 0.6977058053016663,\n",
       " 0.6791979670524597,\n",
       " 0.6649122834205627,\n",
       " 0.6573464870452881]"
      ]
     },
     "execution_count": 7,
     "metadata": {},
     "output_type": "execute_result"
    }
   ],
   "source": [
    "best[0][0]"
   ]
  },
  {
   "cell_type": "code",
   "execution_count": 8,
   "id": "147d507f",
   "metadata": {},
   "outputs": [
    {
     "data": {
      "text/plain": [
       "[0.07456140220165253,\n",
       " 0.08552631735801697,\n",
       " 0.09064327925443649,\n",
       " 0.096491239964962,\n",
       " 0.09576023370027542,\n",
       " 0.11038011312484741,\n",
       " 0.1216583102941513,\n",
       " 0.13446637988090515,\n",
       " 0.14746588468551636,\n",
       " 0.15698830783367157,\n",
       " 0.17236842215061188,\n",
       " 0.18634259700775146,\n",
       " 0.19982007145881653,\n",
       " 0.21577905118465424,\n",
       " 0.228684201836586,\n",
       " 0.23622991144657135]"
      ]
     },
     "execution_count": 8,
     "metadata": {},
     "output_type": "execute_result"
    }
   ],
   "source": [
    "best[0][1]"
   ]
  },
  {
   "cell_type": "code",
   "execution_count": 9,
   "id": "e81b1166",
   "metadata": {},
   "outputs": [],
   "source": [
    "data1 = best[0][0]\n",
    "data2 = best[0][1]\n",
    "t = np.arange(1, 16+1)"
   ]
  },
  {
   "cell_type": "code",
   "execution_count": 10,
   "id": "6c578415",
   "metadata": {},
   "outputs": [
    {
     "data": {
      "text/plain": [
       "array([ 1,  2,  3,  4,  5,  6,  7,  8,  9, 10, 11, 12, 13, 14, 15, 16])"
      ]
     },
     "execution_count": 10,
     "metadata": {},
     "output_type": "execute_result"
    }
   ],
   "source": [
    "t"
   ]
  },
  {
   "cell_type": "code",
   "execution_count": 33,
   "id": "09c65e21",
   "metadata": {},
   "outputs": [
    {
     "data": {
      "image/png": "[encoded data removed]",
      "text/plain": [
       "<Figure size 432x288 with 2 Axes>"
      ]
     },
     "metadata": {
      "needs_background": "light"
     },
     "output_type": "display_data"
    }
   ],
   "source": [
    "# Create some mock data\n",
    "# t = np.arange(0.01, 10.0, 0.01)\n",
    "# data1 = np.exp(t)\n",
    "# data2 = np.sin(2 * np.pi * t)\n",
    "\n",
    "fig, ax1 = plt.subplots()\n",
    "# plt.gca().legend((\n",
    "#     'acurácia', \n",
    "#     'CER', \n",
    "#     'xx', \n",
    "# ))\n",
    "color = 'tab:red'\n",
    "ax1.set_xlabel('tamanho da sequência considerada')\n",
    "ax1.set_ylabel('acurácia testes', color=color)\n",
    "ax1.set_ylim([0.2, 1])\n",
    "ax1.plot(t, data1, color=color)\n",
    "ax1.plot(t, data1, 'ro', label = 'Quantity 1')\n",
    "ax1.tick_params(axis='y', labelcolor=color)\n",
    "\n",
    "ax2 = ax1.twinx()  # instantiate a second axes that shares the same x-axis\n",
    "\n",
    "color = 'tab:blue'\n",
    "ax2.set_ylabel('CER', color=color)  # we already handled the x-label with ax1\n",
    "ax2.plot(t, data2, color=color, linestyle='dashed', label = 'Quantity 1')\n",
    "ax2.set_ylim([0, 0.8])\n",
    "ax2.tick_params(axis='y', labelcolor=color)\n",
    "fig.legend(loc=\"upper center\")\n",
    "\n",
    "\n",
    "\n",
    "fig.tight_layout()  # otherwise the right y-label is slightly clipped\n",
    "plt.show()"
   ]
  },
  {
   "cell_type": "code",
   "execution_count": 41,
   "id": "e0092da4",
   "metadata": {},
   "outputs": [
    {
     "data": {
      "image/png": "[encoded data removed]",
      "text/plain": [
       "<Figure size 432x288 with 1 Axes>"
      ]
     },
     "metadata": {
      "needs_background": "light"
     },
     "output_type": "display_data"
    }
   ],
   "source": [
    "\n",
    "# fig, ax1 = plt.subplots()\n",
    "# color = 'tab:red'\n",
    "# ax1.set_xlabel('tamanho da sequência considerada')\n",
    "# ax1.set_ylabel('acurácia testes', color=color)\n",
    "# ax1.set_ylim([0.2, 1])\n",
    "# ax1.plot(t, data1, color=color)\n",
    "# ax1.plot(t, data1, 'ro', label = 'Quantity 1')\n",
    "# ax1.tick_params(axis='y', labelcolor=color)\n",
    "\n",
    "# ax2 = ax1.twinx()  # instantiate a second axes that shares the same x-axis\n",
    "\n",
    "# color = 'tab:blue'\n",
    "# ax2.set_ylabel('CER', color=color)  # we already handled the x-label with ax1\n",
    "# ax2.plot(t, data2, color=color, linestyle='dashed', label = 'Quantity 1')\n",
    "# ax2.set_ylim([0, 0.8])\n",
    "# ax2.tick_params(axis='y', labelcolor=color)\n",
    "# fig.legend(loc=\"upper center\")\n",
    "\n",
    "\n",
    "\n",
    "# fig.tight_layout()  # otherwise the right y-label is slightly clipped\n",
    "# plt.show()\n",
    "\n",
    "# ----------\n",
    "host = host_subplot(111)\n",
    "\n",
    "#eixo x\n",
    "host.set_xlabel(\"tamanho da sequência considerada\")\n",
    "\n",
    "# eixo 1\n",
    "host.set_ylabel(\"acurácia\")\n",
    "host.set_ylim([0.2, 1])\n",
    "host.tick_params(axis='y', labelcolor='tab:red')\n",
    "host.yaxis.get_label().set_color(color='tab:red')\n",
    "\n",
    "# eixo 2\n",
    "par = host.twinx()\n",
    "par.set_ylabel(\"CER\")\n",
    "par.tick_params(axis='y', labelcolor='tab:blue')\n",
    "par.yaxis.get_label().set_color(color='tab:blue')\n",
    "par.set_ylim([0, 0.8])\n",
    "\n",
    "\n",
    "# graficos\n",
    "host.plot(t, gaussian_filter1d(data1, sigma=2), 'ro', linewidth=2, label=\"acurácia teste\")\n",
    "par.plot(t, gaussian_filter1d(data2, sigma=2), color='tab:blue', label='CER')\n",
    "\n",
    "# legendas\n",
    "leg = plt.legend( loc='upper center')\n",
    "leg.texts[0].set_color(color='tab:red')\n",
    "leg.texts[1].set_color(color='tab:blue')\n",
    "\n",
    "\n",
    "plt.show()\n",
    "\n"
   ]
  }
 ],
 "metadata": {
  "kernelspec": {
   "display_name": "Python 3 (ipykernel)",
   "language": "python",
   "name": "python3"
  },
  "language_info": {
   "codemirror_mode": {
    "name": "ipython",
    "version": 3
   },
   "file_extension": ".py",
   "mimetype": "text/x-python",
   "name": "python",
   "nbconvert_exporter": "python",
   "pygments_lexer": "ipython3",
   "version": "3.9.6"
  }
 },
 "nbformat": 4,
 "nbformat_minor": 5
}
