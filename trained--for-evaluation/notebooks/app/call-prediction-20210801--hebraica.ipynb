{
 "cells": [
  {
   "cell_type": "code",
   "execution_count": 1,
   "id": "000643c2",
   "metadata": {},
   "outputs": [
    {
     "name": "stdout",
     "output_type": "stream",
     "text": [
      "Found GPU at: /device:GPU:0\n",
      "2.5.0\n",
      "Found GPU at: /device:GPU:0\n",
      "2.5.0\n",
      "Found GPU at: /device:GPU:0\n",
      "Found GPU at: /device:GPU:0\n",
      "2.5.0\n"
     ]
    }
   ],
   "source": [
    "from model_controller import ModelPredictController, ModelTrainController\n",
    "from plotter import Plotter\n",
    "from glob import glob\n",
    "from IPython.display import Image"
   ]
  },
  {
   "cell_type": "code",
   "execution_count": 2,
   "id": "e21d81d6",
   "metadata": {},
   "outputs": [],
   "source": [
    "model = ModelPredictController();"
   ]
  },
  {
   "cell_type": "code",
   "execution_count": 3,
   "id": "dd19eac1",
   "metadata": {},
   "outputs": [
    {
     "name": "stdout",
     "output_type": "stream",
     "text": [
      "building...\n",
      "total do vocabularario=  179\n",
      "VOCAB_SIZE 180\n"
     ]
    }
   ],
   "source": [
    "model.load()"
   ]
  },
  {
   "cell_type": "code",
   "execution_count": 4,
   "id": "bdb3b70b",
   "metadata": {
    "scrolled": true
   },
   "outputs": [
    {
     "name": "stdout",
     "output_type": "stream",
     "text": [
      "restore from pretraining  ../best_checkpoint/1006/checkpoints/train\\ckpt-48 ...\n",
      "evaluating total images:  114 ...\n",
      "evaluating  0 ...\n",
      "------------------------ 0 ------------------------------\n",
      "predicted ['e4', 'c5', 'Nf3', 'e6']\n",
      "expected ['e4', 'c5', 'Nf3', 'e6', 'd4', 'cxd4', 'Nxd4', 'a6', 'c4', 'Qc7', 'Nc3', 'Nf6', 'Be3', 'Bb4', 'Qd2', 'Nxe4']\n",
      "------------------------ 1 ------------------------------\n",
      "predicted ['e4', 'c5', 'Nf3', 'd6']\n",
      "expected ['e4', 'c5', 'Nf3', 'd6', 'Bb5+', 'Bd7', 'Bxd7+', 'Nxd7', 'O-O', 'Ngf6', 'Re1', 'e5', 'c3', 'Be7', 'd3', 'O-O']\n",
      "------------------------ 2 ------------------------------\n",
      "predicted ['Nf3', 'Nf6', 'g3', 'd5']\n",
      "expected ['Nf3', 'Nf6', 'g3', 'd5', 'c4', 'e6', 'b3', 'Be7', 'Bb2', 'O-O', 'Bg2', 'Nbd7', 'O-O', 'c6', 'd3', 'Re8']\n",
      "------------------------ 3 ------------------------------\n",
      "predicted ['c4', 'c5', 'Nc3', 'Nc6']\n",
      "expected ['c4', 'c5', 'Nc3', 'Nc6', 'g3', 'g6', 'Bg2', 'Bg7', 'Nf3', 'd6', 'O-O', 'e5', 'd3', 'Nge7', 'Rb1', 'O-O']\n",
      "------------------------ 4 ------------------------------\n",
      "predicted ['d4', 'd5', 'Bf4', 'Nf6']\n",
      "expected ['d4', 'd5', 'Bf4', 'Nf6', 'e3', 'c5', 'c3', 'Qb6', 'Qb3', 'c4', 'Qc2', 'g6', 'Nd2', 'Nc6', 'e4', 'e6']\n",
      "evaluating  100 ...\n",
      "len 1 accuracy 0.8508771657943726 cir 0.07309942\n",
      "len 2 accuracy 0.8421052694320679 cir 0.0877193\n",
      "len 3 accuracy 0.859649121761322 cir 0.07919103\n",
      "len 4 accuracy 0.8399122953414917 cir 0.090095036\n",
      "evaluating total images:  78 ...\n",
      "evaluating  0 ...\n",
      "------------------------ 0 ------------------------------\n",
      "predicted ['d4', 'Nf6', 'Nf3', 'd6']\n",
      "expected ['d4', 'Nf6', 'Nf3', 'g6']\n",
      "------------------------ 1 ------------------------------\n",
      "predicted ['c4', 'c5', 'Qd7', 'e6']\n",
      "expected ['e4', 'e5', 'Bc4', 'd6']\n",
      "------------------------ 2 ------------------------------\n",
      "predicted ['e4', 'e6', 'd4', 'd5']\n",
      "expected ['e4', 'e6', 'd4', 'd5']\n",
      "------------------------ 3 ------------------------------\n",
      "predicted ['e4', 'e6', 'd5', 'c3']\n",
      "expected ['e4', 'e6', 'd3', 'c5']\n",
      "------------------------ 4 ------------------------------\n",
      "predicted ['e4', 'c5', 'Nf3', 'Nc6']\n",
      "expected ['e4', 'c5', 'Nf3', 'Nc6']\n",
      "len 1 accuracy 0.7692307829856873 cir 0.12179487\n",
      "len 2 accuracy 0.7243589758872986 cir 0.1474359\n",
      "len 3 accuracy 0.7136752009391785 cir 0.17735043\n",
      "len 4 accuracy 0.6858974099159241 cir 0.19711539\n",
      "evaluating total images:  192 ...\n",
      "evaluating  0 ...\n",
      "------------------------ 0 ------------------------------\n",
      "predicted ['e4', 'c5', 'Nf3', 'e6']\n",
      "expected ['e4', 'c5', 'Nf3', 'e6', 'd4', 'cxd4', 'Nxd4', 'a6', 'c4', 'Qc7', 'Nc3', 'Nf6', 'Be3', 'Bb4', 'Qd2', 'Nxe4']\n",
      "------------------------ 1 ------------------------------\n",
      "predicted ['e4', 'c5', 'Nf3', 'd6']\n",
      "expected ['e4', 'c5', 'Nf3', 'd6', 'Bb5+', 'Bd7', 'Bxd7+', 'Nxd7', 'O-O', 'Ngf6', 'Re1', 'e5', 'c3', 'Be7', 'd3', 'O-O']\n",
      "------------------------ 2 ------------------------------\n",
      "predicted ['Nf3', 'Nf6', 'g3', 'd5']\n",
      "expected ['Nf3', 'Nf6', 'g3', 'd5', 'c4', 'e6', 'b3', 'Be7', 'Bb2', 'O-O', 'Bg2', 'Nbd7', 'O-O', 'c6', 'd3', 'Re8']\n",
      "------------------------ 3 ------------------------------\n",
      "predicted ['c4', 'c5', 'Nc3', 'Nc6']\n",
      "expected ['c4', 'c5', 'Nc3', 'Nc6', 'g3', 'g6', 'Bg2', 'Bg7', 'Nf3', 'd6', 'O-O', 'e5', 'd3', 'Nge7', 'Rb1', 'O-O']\n",
      "------------------------ 4 ------------------------------\n",
      "predicted ['d4', 'd5', 'Bf4', 'Nf6']\n",
      "expected ['d4', 'd5', 'Bf4', 'Nf6', 'e3', 'c5', 'c3', 'Qb6', 'Qb3', 'c4', 'Qc2', 'g6', 'Nd2', 'Nc6', 'e4', 'e6']\n",
      "evaluating  100 ...\n",
      "len 1 accuracy 0.8177083134651184 cir 0.09288195\n",
      "len 2 accuracy 0.7994791865348816 cir 0.11328125\n",
      "len 3 accuracy 0.8055555820465088 cir 0.11921298\n",
      "len 4 accuracy 0.7799479365348816 cir 0.132704\n"
     ]
    }
   ],
   "source": [
    "model.restoreFromBestCheckpoint()\n",
    "model.evaluateForTest('test')\n",
    "model.evaluateForTest('irt_hebraica_jan2020-2--metade-2')\n",
    "model.evaluateForTest('test_plus_irt_hebraica_jan2020-2--metade-2')"
   ]
  },
  {
   "cell_type": "code",
   "execution_count": 5,
   "id": "0b6ff80d",
   "metadata": {
    "scrolled": true
   },
   "outputs": [
    {
     "name": "stdout",
     "output_type": "stream",
     "text": [
      "restore from pretraining  ../train-folder/checkpoints/1006_hebraica_metade-1-20210801\\ckpt-50 ...\n",
      "evaluating total images:  114 ...\n",
      "evaluating  0 ...\n",
      "------------------------ 0 ------------------------------\n",
      "predicted ['e4', 'e5', 'Nf3', 'e6']\n",
      "expected ['e4', 'c5', 'Nf3', 'e6', 'd4', 'cxd4', 'Nxd4', 'a6', 'c4', 'Qc7', 'Nc3', 'Nf6', 'Be3', 'Bb4', 'Qd2', 'Nxe4']\n",
      "------------------------ 1 ------------------------------\n",
      "predicted ['e4', 'c5', 'Nf3', 'd6']\n",
      "expected ['e4', 'c5', 'Nf3', 'd6', 'Bb5+', 'Bd7', 'Bxd7+', 'Nxd7', 'O-O', 'Ngf6', 'Re1', 'e5', 'c3', 'Be7', 'd3', 'O-O']\n",
      "------------------------ 2 ------------------------------\n",
      "predicted ['Nf3', 'Nf6', 'g3', 'd5']\n",
      "expected ['Nf3', 'Nf6', 'g3', 'd5', 'c4', 'e6', 'b3', 'Be7', 'Bb2', 'O-O', 'Bg2', 'Nbd7', 'O-O', 'c6', 'd3', 'Re8']\n",
      "------------------------ 3 ------------------------------\n",
      "predicted ['c4', 'c5', 'Nc3', 'e6']\n",
      "expected ['c4', 'c5', 'Nc3', 'Nc6', 'g3', 'g6', 'Bg2', 'Bg7', 'Nf3', 'd6', 'O-O', 'e5', 'd3', 'Nge7', 'Rb1', 'O-O']\n",
      "------------------------ 4 ------------------------------\n",
      "predicted ['d4', 'd5', 'Bf4', 'g6']\n",
      "expected ['d4', 'd5', 'Bf4', 'Nf6', 'e3', 'c5', 'c3', 'Qb6', 'Qb3', 'c4', 'Qc2', 'g6', 'Nd2', 'Nc6', 'e4', 'e6']\n",
      "evaluating  100 ...\n",
      "len 1 accuracy 0.8421052694320679 cir 0.08187135\n",
      "len 2 accuracy 0.8070175647735596 cir 0.11111111\n",
      "len 3 accuracy 0.8187134265899658 cir 0.10745615\n",
      "len 4 accuracy 0.7938596606254578 cir 0.123720765\n",
      "evaluating total images:  78 ...\n",
      "evaluating  0 ...\n",
      "------------------------ 0 ------------------------------\n",
      "predicted ['d4', 'Nf6', 'Nf3', 'g6']\n",
      "expected ['d4', 'Nf6', 'Nf3', 'g6']\n",
      "------------------------ 1 ------------------------------\n",
      "predicted ['e4', 'e6', 'Bg4', 'e6']\n",
      "expected ['e4', 'e5', 'Bc4', 'd6']\n",
      "------------------------ 2 ------------------------------\n",
      "predicted ['e4', 'e6', 'd4', 'd5']\n",
      "expected ['e4', 'e6', 'd4', 'd5']\n",
      "------------------------ 3 ------------------------------\n",
      "predicted ['e4', 'e6', 'g3', 'c5']\n",
      "expected ['e4', 'e6', 'd3', 'c5']\n",
      "------------------------ 4 ------------------------------\n",
      "predicted ['e4', 'c5', 'Nf3', 'Nc6']\n",
      "expected ['e4', 'c5', 'Nf3', 'Nc6']\n",
      "len 1 accuracy 0.8461538553237915 cir 0.083333336\n",
      "len 2 accuracy 0.7692307829856873 cir 0.13782051\n",
      "len 3 accuracy 0.7735042572021484 cir 0.15242164\n",
      "len 4 accuracy 0.7628205418586731 cir 0.1565171\n",
      "evaluating total images:  192 ...\n",
      "evaluating  0 ...\n",
      "------------------------ 0 ------------------------------\n",
      "predicted ['e4', 'c5', 'Nf3', 'e6']\n",
      "expected ['e4', 'c5', 'Nf3', 'e6', 'd4', 'cxd4', 'Nxd4', 'a6', 'c4', 'Qc7', 'Nc3', 'Nf6', 'Be3', 'Bb4', 'Qd2', 'Nxe4']\n",
      "------------------------ 1 ------------------------------\n",
      "predicted ['e4', 'c5', 'Nf3', 'd6']\n",
      "expected ['e4', 'c5', 'Nf3', 'd6', 'Bb5+', 'Bd7', 'Bxd7+', 'Nxd7', 'O-O', 'Ngf6', 'Re1', 'e5', 'c3', 'Be7', 'd3', 'O-O']\n",
      "------------------------ 2 ------------------------------\n",
      "predicted ['Nf3', 'Nf6', 'g3', 'd5']\n",
      "expected ['Nf3', 'Nf6', 'g3', 'd5', 'c4', 'e6', 'b3', 'Be7', 'Bb2', 'O-O', 'Bg2', 'Nbd7', 'O-O', 'c6', 'd3', 'Re8']\n",
      "------------------------ 3 ------------------------------\n",
      "predicted ['c4', 'c5', 'Nc3', 'e6']\n",
      "expected ['c4', 'c5', 'Nc3', 'Nc6', 'g3', 'g6', 'Bg2', 'Bg7', 'Nf3', 'd6', 'O-O', 'e5', 'd3', 'Nge7', 'Rb1', 'O-O']\n",
      "------------------------ 4 ------------------------------\n",
      "predicted ['d4', 'd5', 'Bf4', 'g6']\n",
      "expected ['d4', 'd5', 'Bf4', 'Nf6', 'e3', 'c5', 'c3', 'Qb6', 'Qb3', 'c4', 'Qc2', 'g6', 'Nd2', 'Nc6', 'e4', 'e6']\n",
      "evaluating  100 ...\n",
      "len 1 accuracy 0.8541666865348816 cir 0.07204861\n",
      "len 2 accuracy 0.796875 cir 0.11501736\n",
      "len 3 accuracy 0.7951388955116272 cir 0.12037038\n",
      "len 4 accuracy 0.77734375 cir 0.13498265\n"
     ]
    }
   ],
   "source": [
    "model.restoreFromCheckpointName('1006_hebraica_metade-1-20210801')\n",
    "model.evaluateForTest('test')\n",
    "model.evaluateForTest('irt_hebraica_jan2020-2--metade-2')\n",
    "model.evaluateForTest('test_plus_irt_hebraica_jan2020-2--metade-2')"
   ]
  },
  {
   "cell_type": "code",
   "execution_count": 7,
   "id": "8173c395",
   "metadata": {},
   "outputs": [
    {
     "name": "stdout",
     "output_type": "stream",
     "text": [
      "restore from pretraining  ../train-folder/checkpoints/1006_hebraica_metade-1\\ckpt-50 ...\n",
      "evaluating total images:  114 ...\n",
      "evaluating  0 ...\n",
      "------------------------ 0 ------------------------------\n",
      "predicted ['e4', 'c5', 'Nf3', 'e6']\n",
      "expected ['e4', 'c5', 'Nf3', 'e6', 'd4', 'cxd4', 'Nxd4', 'a6', 'c4', 'Qc7', 'Nc3', 'Nf6', 'Be3', 'Bb4', 'Qd2', 'Nxe4']\n",
      "------------------------ 1 ------------------------------\n",
      "predicted ['e4', 'c5', 'Nf3', 'd6']\n",
      "expected ['e4', 'c5', 'Nf3', 'd6', 'Bb5+', 'Bd7', 'Bxd7+', 'Nxd7', 'O-O', 'Ngf6', 'Re1', 'e5', 'c3', 'Be7', 'd3', 'O-O']\n",
      "------------------------ 2 ------------------------------\n",
      "predicted ['Nf3', 'Nf6', 'g3', 'd5']\n",
      "expected ['Nf3', 'Nf6', 'g3', 'd5', 'c4', 'e6', 'b3', 'Be7', 'Bb2', 'O-O', 'Bg2', 'Nbd7', 'O-O', 'c6', 'd3', 'Re8']\n",
      "------------------------ 3 ------------------------------\n",
      "predicted ['c4', 'e5', 'Nc3', 'Nc6']\n",
      "expected ['c4', 'c5', 'Nc3', 'Nc6', 'g3', 'g6', 'Bg2', 'Bg7', 'Nf3', 'd6', 'O-O', 'e5', 'd3', 'Nge7', 'Rb1', 'O-O']\n",
      "------------------------ 4 ------------------------------\n",
      "predicted ['d4', 'd6', 'Bf4', 'Nf6']\n",
      "expected ['d4', 'd5', 'Bf4', 'Nf6', 'e3', 'c5', 'c3', 'Qb6', 'Qb3', 'c4', 'Qc2', 'g6', 'Nd2', 'Nc6', 'e4', 'e6']\n",
      "evaluating  100 ...\n",
      "len 1 accuracy 0.8333333134651184 cir 0.08187135\n",
      "len 2 accuracy 0.7938596606254578 cir 0.11805556\n",
      "len 3 accuracy 0.8157894611358643 cir 0.1118421\n",
      "len 4 accuracy 0.8070175647735596 cir 0.1189693\n",
      "evaluating total images:  78 ...\n",
      "evaluating  0 ...\n",
      "------------------------ 0 ------------------------------\n",
      "predicted ['d4', 'Nf6', 'Nf3', 'd6']\n",
      "expected ['d4', 'Nf6', 'Nf3', 'g6']\n",
      "------------------------ 1 ------------------------------\n",
      "predicted ['d4', 'c5', 'Bd7', 'd6']\n",
      "expected ['e4', 'e5', 'Bc4', 'd6']\n",
      "------------------------ 2 ------------------------------\n",
      "predicted ['e4', 'e6', 'd4', 'd5']\n",
      "expected ['e4', 'e6', 'd4', 'd5']\n",
      "------------------------ 3 ------------------------------\n",
      "predicted ['e4', 'g6', 'd3', 'c3']\n",
      "expected ['e4', 'e6', 'd3', 'c5']\n",
      "------------------------ 4 ------------------------------\n",
      "predicted ['e4', 'c5', 'Nf3', 'Nc6']\n",
      "expected ['e4', 'c5', 'Nf3', 'Nc6']\n",
      "len 1 accuracy 0.8589743375778198 cir 0.070512824\n",
      "len 2 accuracy 0.7820512652397156 cir 0.12606838\n",
      "len 3 accuracy 0.7777777910232544 cir 0.13105415\n",
      "len 4 accuracy 0.7628205418586731 cir 0.14396368\n",
      "evaluating total images:  192 ...\n",
      "evaluating  0 ...\n",
      "------------------------ 0 ------------------------------\n",
      "predicted ['e4', 'c5', 'Nf3', 'e6']\n",
      "expected ['e4', 'c5', 'Nf3', 'e6', 'd4', 'cxd4', 'Nxd4', 'a6', 'c4', 'Qc7', 'Nc3', 'Nf6', 'Be3', 'Bb4', 'Qd2', 'Nxe4']\n",
      "------------------------ 1 ------------------------------\n",
      "predicted ['e4', 'c5', 'Nf3', 'd6']\n",
      "expected ['e4', 'c5', 'Nf3', 'd6', 'Bb5+', 'Bd7', 'Bxd7+', 'Nxd7', 'O-O', 'Ngf6', 'Re1', 'e5', 'c3', 'Be7', 'd3', 'O-O']\n",
      "------------------------ 2 ------------------------------\n",
      "predicted ['Nf3', 'Nf6', 'g3', 'd5']\n",
      "expected ['Nf3', 'Nf6', 'g3', 'd5', 'c4', 'e6', 'b3', 'Be7', 'Bb2', 'O-O', 'Bg2', 'Nbd7', 'O-O', 'c6', 'd3', 'Re8']\n",
      "------------------------ 3 ------------------------------\n",
      "predicted ['c4', 'e5', 'Nc3', 'c6']\n",
      "expected ['c4', 'c5', 'Nc3', 'Nc6', 'g3', 'g6', 'Bg2', 'Bg7', 'Nf3', 'd6', 'O-O', 'e5', 'd3', 'Nge7', 'Rb1', 'O-O']\n",
      "------------------------ 4 ------------------------------\n",
      "predicted ['d4', 'd5', 'Bf4', 'Nf6']\n",
      "expected ['d4', 'd5', 'Bf4', 'Nf6', 'e3', 'c5', 'c3', 'Qb6', 'Qb3', 'c4', 'Qc2', 'g6', 'Nd2', 'Nc6', 'e4', 'e6']\n",
      "evaluating  100 ...\n",
      "len 1 accuracy 0.828125 cir 0.08506945\n",
      "len 2 accuracy 0.7942708134651184 cir 0.11762153\n",
      "len 3 accuracy 0.8055555820465088 cir 0.11631945\n",
      "len 4 accuracy 0.7890625 cir 0.12608507\n"
     ]
    }
   ],
   "source": [
    "model.restoreFromCheckpointName('1006_hebraica_metade-1')\n",
    "model.evaluateForTest('test')\n",
    "model.evaluateForTest('irt_hebraica_jan2020-2--metade-2')\n",
    "model.evaluateForTest('test_plus_irt_hebraica_jan2020-2--metade-2')"
   ]
  },
  {
   "cell_type": "code",
   "execution_count": null,
   "id": "75da5c60",
   "metadata": {},
   "outputs": [],
   "source": []
  }
 ],
 "metadata": {
  "kernelspec": {
   "display_name": "Python 3 (ipykernel)",
   "language": "python",
   "name": "python3"
  },
  "language_info": {
   "codemirror_mode": {
    "name": "ipython",
    "version": 3
   },
   "file_extension": ".py",
   "mimetype": "text/x-python",
   "name": "python",
   "nbconvert_exporter": "python",
   "pygments_lexer": "ipython3",
   "version": "3.9.6"
  }
 },
 "nbformat": 4,
 "nbformat_minor": 5
}
