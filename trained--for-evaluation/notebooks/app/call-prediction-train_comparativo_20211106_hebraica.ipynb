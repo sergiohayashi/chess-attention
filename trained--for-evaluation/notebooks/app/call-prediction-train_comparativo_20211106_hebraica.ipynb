{
 "cells": [
  {
   "cell_type": "code",
   "execution_count": 1,
   "id": "000643c2",
   "metadata": {},
   "outputs": [
    {
     "name": "stdout",
     "output_type": "stream",
     "text": [
      "Found GPU at: /device:GPU:0\n",
      "2.5.0\n",
      "Found GPU at: /device:GPU:0\n",
      "2.5.0\n",
      "Found GPU at: /device:GPU:0\n",
      "Found GPU at: /device:GPU:0\n",
      "2.5.0\n"
     ]
    }
   ],
   "source": [
    "from model_controller import ModelPredictController, ModelTrainController\n",
    "from plotter import Plotter\n",
    "from glob import glob\n",
    "from IPython.display import Image"
   ]
  },
  {
   "cell_type": "code",
   "execution_count": 2,
   "id": "e21d81d6",
   "metadata": {},
   "outputs": [],
   "source": [
    "model = ModelPredictController(NUM_LINHAS=8);"
   ]
  },
  {
   "cell_type": "code",
   "execution_count": 3,
   "id": "dd19eac1",
   "metadata": {},
   "outputs": [
    {
     "name": "stdout",
     "output_type": "stream",
     "text": [
      "building...\n",
      "total do vocabulario=  179\n",
      "VOCAB_SIZE 180\n"
     ]
    }
   ],
   "source": [
    "model.load()"
   ]
  },
  {
   "cell_type": "code",
   "execution_count": 6,
   "id": "ffc49de1",
   "metadata": {},
   "outputs": [
    {
     "name": "stdout",
     "output_type": "stream",
     "text": [
      "restore from pretraining  ../train-folder/checkpoints/train_comparativo_20211106_curriculum_4_\\ckpt-6 ...\n"
     ]
    }
   ],
   "source": [
    "model.restoreFromCheckpointName('train_comparativo_20211106_curriculum_4_')\n",
    "model.evaluateForTest('test-8lines', plot_attention=True, _len= 16)\n"
   ]
  },
  {
   "cell_type": "code",
   "execution_count": null,
   "id": "88e15902",
   "metadata": {},
   "outputs": [],
   "source": [
    "model.restoreFromCheckpointName('train_comparativo_20211106_curriculum_4_')\n",
    "model.evaluateForTest('test-8lines', plot_attention=True, _len= 16)"
   ]
  },
  {
   "cell_type": "code",
   "execution_count": null,
   "id": "489f5d76",
   "metadata": {},
   "outputs": [],
   "source": [
    "model.restoreFromCheckpointName('train_comparativo_20211106_curriculum_4_')\n",
    "model.evaluateForTest('test-8lines', plot_attention=True, _len= 16)"
   ]
  }
 ],
 "metadata": {
  "kernelspec": {
   "display_name": "Python 3 (ipykernel)",
   "language": "python",
   "name": "python3"
  },
  "language_info": {
   "codemirror_mode": {
    "name": "ipython",
    "version": 3
   },
   "file_extension": ".py",
   "mimetype": "text/x-python",
   "name": "python",
   "nbconvert_exporter": "python",
   "pygments_lexer": "ipython3",
   "version": "3.9.6"
  }
 },
 "nbformat": 4,
 "nbformat_minor": 5
}
