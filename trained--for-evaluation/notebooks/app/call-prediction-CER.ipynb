{
 "cells": [
  {
   "cell_type": "code",
   "execution_count": 1,
   "id": "000643c2",
   "metadata": {},
   "outputs": [
    {
     "name": "stdout",
     "output_type": "stream",
     "text": [
      "Found GPU at: /device:GPU:0\n",
      "2.5.0\n",
      "Found GPU at: /device:GPU:0\n",
      "2.5.0\n",
      "Found GPU at: /device:GPU:0\n",
      "Found GPU at: /device:GPU:0\n",
      "2.5.0\n"
     ]
    }
   ],
   "source": [
    "from model_controller import ModelPredictController, ModelTrainController\n",
    "from plotter import Plotter\n",
    "from glob import glob\n",
    "from IPython.display import Image"
   ]
  },
  {
   "cell_type": "code",
   "execution_count": 2,
   "id": "e21d81d6",
   "metadata": {},
   "outputs": [],
   "source": [
    "import evaluator"
   ]
  },
  {
   "cell_type": "code",
   "execution_count": 6,
   "id": "205f2519",
   "metadata": {},
   "outputs": [
    {
     "name": "stdout",
     "output_type": "stream",
     "text": [
      "nosso 1 0.296875\n",
      "textract 0.48958334\n",
      "pentoprint 0.6145834\n",
      "nosso 2 0.3854167\n"
     ]
    }
   ],
   "source": [
    "expected= ['e4','c5','Nc3','e6','d3','d6','g3','a6','Be3','b5','Qd7','Bb7','Bg2','Qc7','Nge2','Nf6']\n",
    "p1 = ['b4','c5','Nc3','e6','d3','d6','g3','a6','Bg2','b6','Bd2','Bb7','Bg2','Nd7','Nxd5','Nxd7']\n",
    "p2 = ['04','ck','Ne3','R6','d3','d6','g3','0','ge3','br','0d+','Bh?','Bg}','Qek','Aff Neh','Nf{']\n",
    "p3 = ['04','05','No3','eb','d3','','','','','','Qd7','367','Bg2','Q7','','',]\n",
    "p4 = ['b4','c5','Nc3','e6','d3','d6','g3','e6','Bg2','Bb7','Bd2','Bb7','Be2','Nd7','Nbd2','Qxd5']\n",
    "\n",
    "print( 'nosso 1', evaluator.cir_line(p1, expected))\n",
    "print( 'textract', evaluator.cir_line(p2, expected))\n",
    "print( 'pentoprint', evaluator.cir_line(p3, expected))\n",
    "print( 'nosso 2', evaluator.cir_line(p4, expected))\n"
   ]
  },
  {
   "cell_type": "code",
   "execution_count": 3,
   "id": "2713f215",
   "metadata": {},
   "outputs": [
    {
     "name": "stdout",
     "output_type": "stream",
     "text": [
      "nosso 1 0.296875\n",
      "textract 0.48958334\n",
      "pentoprint 0.6145834\n",
      "nosso 2 0.3854167\n"
     ]
    }
   ],
   "source": [
    "expected= ['e4','c5','Nc3','e6','d3','d6','g3','a6','Be3','b5','Qd7','Bb7','Bg2','Qc7','Nge2','Nf6']\n",
    "p1 = ['b4','c5','Nc3','e6','d3','d6','g3','a6','Bg2','b6','Bd2','Bb7','Bg2','Nd7','Nxd5','Nxd7']\n",
    "p2 = ['04','ck','Ne3','R6','d3','d6','g3','0','ge3','br','0d+','Bh?','Bg}','Qek','Aff Neh','Nf{']\n",
    "p3 = ['04','05','No3','eb','d3','','','','','','Qd7','367','Bg2','Q7','','',]\n",
    "p4 = ['b4','c5','Nc3','e6','d3','d6','g3','e6','Bg2','Bb7','Bd2','Bb7','Be2','Nd7','Nbd2','Qxd5']\n",
    "\n",
    "print( 'nosso 1', evaluator.cir_line(p1, expected))\n",
    "print( 'textract', evaluator.cir_line(p2, expected))\n",
    "print( 'pentoprint', evaluator.cir_line(p3, expected))\n",
    "print( 'nosso 2', evaluator.cir_line(p4, expected))"
   ]
  },
  {
   "cell_type": "code",
   "execution_count": 19,
   "id": "bf90cba8",
   "metadata": {},
   "outputs": [
    {
     "data": {
      "text/plain": [
       "2.0"
      ]
     },
     "execution_count": 19,
     "metadata": {},
     "output_type": "execute_result"
    }
   ],
   "source": [
    "evaluator.cir_word( 'Aff Neh', 'Nf6')"
   ]
  },
  {
   "cell_type": "code",
   "execution_count": 12,
   "id": "8c18b098",
   "metadata": {},
   "outputs": [
    {
     "name": "stdout",
     "output_type": "stream",
     "text": [
      "pentoprint 0.45833334\n"
     ]
    }
   ],
   "source": [
    "print( 'pentoprint', evaluator.cir_line(p3[0:4], expected[0:4]))"
   ]
  }
 ],
 "metadata": {
  "kernelspec": {
   "display_name": "Python 3 (ipykernel)",
   "language": "python",
   "name": "python3"
  },
  "language_info": {
   "codemirror_mode": {
    "name": "ipython",
    "version": 3
   },
   "file_extension": ".py",
   "mimetype": "text/x-python",
   "name": "python",
   "nbconvert_exporter": "python",
   "pygments_lexer": "ipython3",
   "version": "3.9.6"
  }
 },
 "nbformat": 4,
 "nbformat_minor": 5
}
