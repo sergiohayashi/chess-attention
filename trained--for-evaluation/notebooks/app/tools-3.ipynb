{
 "cells": [
  {
   "cell_type": "code",
   "execution_count": 1,
   "id": "472a103f",
   "metadata": {},
   "outputs": [],
   "source": [
    "import matplotlib.pyplot as plt\n",
    "\n",
    "import random\n",
    "import re\n",
    "import numpy as np  \n",
    "import os\n",
    "import time\n",
    "import json\n",
    "from glob import glob\n",
    "from PIL import Image\n",
    "import pickle\n",
    "import cv2\n",
    "\n",
    "from IPython.display import clear_output, display\n",
    "import os.path\n",
    "from os import path\n",
    "import shutil\n",
    "from shutil import copyfile\n",
    "from pathlib import Path\n",
    "import PIL\n",
    "from PIL import Image, ImageOps"
   ]
  },
  {
   "cell_type": "code",
   "execution_count": 2,
   "id": "1515a97c",
   "metadata": {},
   "outputs": [],
   "source": [
    "files = glob( 'C:/mestrado/repos-github/chess-attention/trained--for-evaluation/notebooks/test-data/irt_hebraica_jan2020-2--metade/images/*.jpg')"
   ]
  },
  {
   "cell_type": "code",
   "execution_count": 3,
   "id": "1e7f0ff8",
   "metadata": {},
   "outputs": [
    {
     "data": {
      "text/plain": [
       "155"
      ]
     },
     "execution_count": 3,
     "metadata": {},
     "output_type": "execute_result"
    }
   ],
   "source": [
    "len( files)"
   ]
  },
  {
   "cell_type": "code",
   "execution_count": 4,
   "id": "d53c0b9d",
   "metadata": {},
   "outputs": [],
   "source": [
    "random.shuffle( files)"
   ]
  },
  {
   "cell_type": "code",
   "execution_count": 6,
   "id": "e4a8109f",
   "metadata": {},
   "outputs": [
    {
     "name": "stdout",
     "output_type": "stream",
     "text": [
      "irt_hebraica_jan2020_110.jpg\n",
      "irt_hebraica_jan2020_019.jpg\n",
      "irt_hebraica_jan2020_004.jpg\n",
      "irt_hebraica_jan2020_161.jpg\n",
      "irt_hebraica_jan2020_040.jpg\n",
      "irt_hebraica_jan2020_180.jpg\n",
      "irt_hebraica_jan2020_021.jpg\n",
      "irt_hebraica_jan2020_008.jpg\n",
      "irt_hebraica_jan2020_149.jpg\n",
      "irt_hebraica_jan2020_145.jpg\n",
      "irt_hebraica_jan2020_113.jpg\n",
      "irt_hebraica_jan2020_053.jpg\n",
      "irt_hebraica_jan2020_141.jpg\n",
      "irt_hebraica_jan2020_080.jpg\n",
      "irt_hebraica_jan2020_003.jpg\n",
      "irt_hebraica_jan2020_102.jpg\n",
      "irt_hebraica_jan2020_035.jpg\n",
      "irt_hebraica_jan2020_125.jpg\n",
      "irt_hebraica_jan2020_092.jpg\n",
      "irt_hebraica_jan2020_032.jpg\n",
      "irt_hebraica_jan2020_051.jpg\n",
      "irt_hebraica_jan2020_084.jpg\n",
      "irt_hebraica_jan2020_140.jpg\n",
      "irt_hebraica_jan2020_033.jpg\n",
      "irt_hebraica_jan2020_050.jpg\n",
      "irt_hebraica_jan2020_052.jpg\n",
      "irt_hebraica_jan2020_037.jpg\n",
      "irt_hebraica_jan2020_111.jpg\n",
      "irt_hebraica_jan2020_017.jpg\n",
      "irt_hebraica_jan2020_081.jpg\n",
      "irt_hebraica_jan2020_121.jpg\n",
      "irt_hebraica_jan2020_096.jpg\n",
      "irt_hebraica_jan2020_165.jpg\n",
      "irt_hebraica_jan2020_034.jpg\n",
      "irt_hebraica_jan2020_046.jpg\n",
      "irt_hebraica_jan2020_169.jpg\n",
      "irt_hebraica_jan2020_014.jpg\n",
      "irt_hebraica_jan2020_072.jpg\n",
      "irt_hebraica_jan2020_085.jpg\n",
      "irt_hebraica_jan2020_023.jpg\n",
      "irt_hebraica_jan2020_138.jpg\n",
      "irt_hebraica_jan2020_130.jpg\n",
      "irt_hebraica_jan2020_048.jpg\n",
      "irt_hebraica_jan2020_174.jpg\n",
      "irt_hebraica_jan2020_157.jpg\n",
      "irt_hebraica_jan2020_041.jpg\n",
      "irt_hebraica_jan2020_156.jpg\n",
      "irt_hebraica_jan2020_147.jpg\n",
      "irt_hebraica_jan2020_100.jpg\n",
      "irt_hebraica_jan2020_073.jpg\n",
      "irt_hebraica_jan2020_127.jpg\n",
      "irt_hebraica_jan2020_108.jpg\n",
      "irt_hebraica_jan2020_002.jpg\n",
      "irt_hebraica_jan2020_117.jpg\n",
      "irt_hebraica_jan2020_163.jpg\n",
      "irt_hebraica_jan2020_172.jpg\n",
      "irt_hebraica_jan2020_171.jpg\n",
      "irt_hebraica_jan2020_115.jpg\n",
      "irt_hebraica_jan2020_150.jpg\n",
      "irt_hebraica_jan2020_154.jpg\n",
      "irt_hebraica_jan2020_012.jpg\n",
      "irt_hebraica_jan2020_137.jpg\n",
      "irt_hebraica_jan2020_116.jpg\n",
      "irt_hebraica_jan2020_094.jpg\n",
      "irt_hebraica_jan2020_087.jpg\n",
      "irt_hebraica_jan2020_173.jpg\n",
      "irt_hebraica_jan2020_101.jpg\n",
      "irt_hebraica_jan2020_105.jpg\n",
      "irt_hebraica_jan2020_086.jpg\n",
      "irt_hebraica_jan2020_001.jpg\n",
      "irt_hebraica_jan2020_005.jpg\n",
      "irt_hebraica_jan2020_047.jpg\n",
      "irt_hebraica_jan2020_036.jpg\n",
      "irt_hebraica_jan2020_064.jpg\n",
      "irt_hebraica_jan2020_131.jpg\n",
      "irt_hebraica_jan2020_120.jpg\n",
      "irt_hebraica_jan2020_026.jpg\n",
      "irt_hebraica_jan2020_071.jpg\n",
      "irt_hebraica_jan2020_104.jpg\n",
      "irt_hebraica_jan2020_144.jpg\n",
      "irt_hebraica_jan2020_175.jpg\n",
      "irt_hebraica_jan2020_129.jpg\n",
      "irt_hebraica_jan2020_151.jpg\n",
      "irt_hebraica_jan2020_061.jpg\n",
      "irt_hebraica_jan2020_177.jpg\n",
      "irt_hebraica_jan2020_022.jpg\n",
      "irt_hebraica_jan2020_045.jpg\n",
      "irt_hebraica_jan2020_063.jpg\n",
      "irt_hebraica_jan2020_070.jpg\n",
      "irt_hebraica_jan2020_124.jpg\n",
      "irt_hebraica_jan2020_118.jpg\n",
      "irt_hebraica_jan2020_135.jpg\n",
      "irt_hebraica_jan2020_039.jpg\n",
      "irt_hebraica_jan2020_103.jpg\n",
      "irt_hebraica_jan2020_038.jpg\n",
      "irt_hebraica_jan2020_066.jpg\n",
      "irt_hebraica_jan2020_018.jpg\n",
      "irt_hebraica_jan2020_030.jpg\n",
      "irt_hebraica_jan2020_122.jpg\n",
      "irt_hebraica_jan2020_020.jpg\n",
      "irt_hebraica_jan2020_166.jpg\n",
      "irt_hebraica_jan2020_042.jpg\n",
      "irt_hebraica_jan2020_069.jpg\n",
      "irt_hebraica_jan2020_044.jpg\n",
      "irt_hebraica_jan2020_106.jpg\n",
      "irt_hebraica_jan2020_178.jpg\n",
      "irt_hebraica_jan2020_090.jpg\n",
      "irt_hebraica_jan2020_062.jpg\n",
      "irt_hebraica_jan2020_160.jpg\n",
      "irt_hebraica_jan2020_057.jpg\n",
      "irt_hebraica_jan2020_093.jpg\n",
      "irt_hebraica_jan2020_068.jpg\n",
      "irt_hebraica_jan2020_055.jpg\n",
      "irt_hebraica_jan2020_133.jpg\n",
      "irt_hebraica_jan2020_143.jpg\n",
      "irt_hebraica_jan2020_083.jpg\n",
      "irt_hebraica_jan2020_107.jpg\n",
      "irt_hebraica_jan2020_054.jpg\n",
      "irt_hebraica_jan2020_076.jpg\n",
      "irt_hebraica_jan2020_112.jpg\n",
      "irt_hebraica_jan2020_016.jpg\n",
      "irt_hebraica_jan2020_142.jpg\n",
      "irt_hebraica_jan2020_058.jpg\n",
      "irt_hebraica_jan2020_060.jpg\n",
      "irt_hebraica_jan2020_098.jpg\n",
      "irt_hebraica_jan2020_007.jpg\n",
      "irt_hebraica_jan2020_082.jpg\n",
      "irt_hebraica_jan2020_109.jpg\n",
      "irt_hebraica_jan2020_006.jpg\n",
      "irt_hebraica_jan2020_099.jpg\n",
      "irt_hebraica_jan2020_091.jpg\n",
      "irt_hebraica_jan2020_114.jpg\n",
      "irt_hebraica_jan2020_119.jpg\n",
      "irt_hebraica_jan2020_025.jpg\n",
      "irt_hebraica_jan2020_167.jpg\n",
      "irt_hebraica_jan2020_139.jpg\n",
      "irt_hebraica_jan2020_089.jpg\n",
      "irt_hebraica_jan2020_027.jpg\n",
      "irt_hebraica_jan2020_059.jpg\n",
      "irt_hebraica_jan2020_013.jpg\n",
      "irt_hebraica_jan2020_015.jpg\n",
      "irt_hebraica_jan2020_079.jpg\n",
      "irt_hebraica_jan2020_028.jpg\n",
      "irt_hebraica_jan2020_162.jpg\n",
      "irt_hebraica_jan2020_126.jpg\n",
      "irt_hebraica_jan2020_024.jpg\n",
      "irt_hebraica_jan2020_123.jpg\n",
      "irt_hebraica_jan2020_043.jpg\n",
      "irt_hebraica_jan2020_095.jpg\n",
      "irt_hebraica_jan2020_179.jpg\n",
      "irt_hebraica_jan2020_009.jpg\n",
      "irt_hebraica_jan2020_158.jpg\n",
      "irt_hebraica_jan2020_168.jpg\n",
      "irt_hebraica_jan2020_031.jpg\n",
      "irt_hebraica_jan2020_049.jpg\n"
     ]
    }
   ],
   "source": [
    "for f in files:\n",
    "    print( Path( f).name)"
   ]
  },
  {
   "cell_type": "code",
   "execution_count": 8,
   "id": "2ba772c9",
   "metadata": {},
   "outputs": [
    {
     "name": "stdout",
     "output_type": "stream",
     "text": [
      "77\n"
     ]
    }
   ],
   "source": [
    "n= int( len( files)/2)\n",
    "print( n)"
   ]
  },
  {
   "cell_type": "code",
   "execution_count": 9,
   "id": "1c0f69fb",
   "metadata": {},
   "outputs": [],
   "source": [
    "files1 = files[0:n]\n",
    "files2 = files[n:]"
   ]
  },
  {
   "cell_type": "code",
   "execution_count": 10,
   "id": "e7ebb259",
   "metadata": {},
   "outputs": [
    {
     "data": {
      "text/plain": [
       "155"
      ]
     },
     "execution_count": 10,
     "metadata": {},
     "output_type": "execute_result"
    }
   ],
   "source": [
    "len( files1)+ len( files2)"
   ]
  },
  {
   "cell_type": "code",
   "execution_count": 13,
   "id": "0114b97c",
   "metadata": {},
   "outputs": [],
   "source": [
    "# remove files1 de irt_hebraica_jan2020-2--metade\n",
    "for f in files1:\n",
    "    os.remove(f)\n",
    "    os.remove( f.replace( 'images', 'labels').replace( '.jpg', '.pgn'))"
   ]
  },
  {
   "cell_type": "code",
   "execution_count": 16,
   "id": "df6dcc08",
   "metadata": {},
   "outputs": [],
   "source": [
    "# remove files2 de mixed-com-hebraica\n",
    "for f in files2:\n",
    "    newf = os.path.join( 'C:/mestrado/repos-github/chess-attention/trained--for-evaluation/notebooks/train-folder/tmp/mixed-com-hebraica/train/images',\n",
    "           Path( f).name)\n",
    "#     os.remove( newf)\n",
    "    os.remove( newf.replace( '.jpg', '.jpg.npy'))"
   ]
  }
 ],
 "metadata": {
  "kernelspec": {
   "display_name": "Python 3 (ipykernel)",
   "language": "python",
   "name": "python3"
  },
  "language_info": {
   "codemirror_mode": {
    "name": "ipython",
    "version": 3
   },
   "file_extension": ".py",
   "mimetype": "text/x-python",
   "name": "python",
   "nbconvert_exporter": "python",
   "pygments_lexer": "ipython3",
   "version": "3.9.6"
  }
 },
 "nbformat": 4,
 "nbformat_minor": 5
}
