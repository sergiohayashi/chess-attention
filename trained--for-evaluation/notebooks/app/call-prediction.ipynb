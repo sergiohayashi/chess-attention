{
 "cells": [
  {
   "cell_type": "code",
   "execution_count": 1,
   "id": "000643c2",
   "metadata": {},
   "outputs": [
    {
     "name": "stdout",
     "output_type": "stream",
     "text": [
      "Found GPU at: /device:GPU:0\n",
      "2.5.0\n",
      "Found GPU at: /device:GPU:0\n",
      "2.5.0\n",
      "Found GPU at: /device:GPU:0\n",
      "Found GPU at: /device:GPU:0\n",
      "2.5.0\n"
     ]
    }
   ],
   "source": [
    "from model_controller import ModelPredictController, ModelTrainController\n",
    "from plotter import Plotter\n",
    "from glob import glob\n",
    "from IPython.display import Image"
   ]
  },
  {
   "cell_type": "code",
   "execution_count": 2,
   "id": "e21d81d6",
   "metadata": {},
   "outputs": [],
   "source": [
    "model = ModelPredictController();"
   ]
  },
  {
   "cell_type": "code",
   "execution_count": 3,
   "id": "dd19eac1",
   "metadata": {},
   "outputs": [
    {
     "name": "stdout",
     "output_type": "stream",
     "text": [
      "building...\n",
      "total do vocabularario=  179\n",
      "VOCAB_SIZE 180\n"
     ]
    }
   ],
   "source": [
    "model.load()"
   ]
  },
  {
   "cell_type": "code",
   "execution_count": 4,
   "id": "ffc49de1",
   "metadata": {},
   "outputs": [
    {
     "name": "stdout",
     "output_type": "stream",
     "text": [
      "restore from pretraining  ../train-folder/checkpoints/handwritten-only\\ckpt-2 ...\n"
     ]
    }
   ],
   "source": [
    "model.restoreFromCheckpointName('handwritten-only')\n",
    "# model.restoreFromBestCheckpoint()\n"
   ]
  },
  {
   "cell_type": "code",
   "execution_count": 5,
   "id": "537f8769",
   "metadata": {
    "scrolled": false
   },
   "outputs": [
    {
     "name": "stdout",
     "output_type": "stream",
     "text": [
      "evaluating total images:  114 ...\n",
      "evaluating  0 ...\n",
      "------------------------ 0 ------------------------------\n",
      "predicted ['e4', 'c5', 'Nf3', 'e6']\n",
      "expected ['e4', 'c5', 'Nf3', 'e6', 'd4', 'cxd4', 'Nxd4', 'a6', 'c4', 'Qc7', 'Nc3', 'Nf6', 'Be3', 'Bb4', 'Qd2', 'Nxe4']\n",
      "------------------------ 1 ------------------------------\n",
      "predicted ['e4', 'c5', 'Nf3', 'd6']\n",
      "expected ['e4', 'c5', 'Nf3', 'd6', 'Bb5+', 'Bd7', 'Bxd7+', 'Nxd7', 'O-O', 'Ngf6', 'Re1', 'e5', 'c3', 'Be7', 'd3', 'O-O']\n",
      "------------------------ 2 ------------------------------\n",
      "predicted ['Nf3', 'Nf6', 'g3', 'Bg7']\n",
      "expected ['Nf3', 'Nf6', 'g3', 'd5', 'c4', 'e6', 'b3', 'Be7', 'Bb2', 'O-O', 'Bg2', 'Nbd7', 'O-O', 'c6', 'd3', 'Re8']\n",
      "------------------------ 3 ------------------------------\n",
      "predicted ['c4', 'c5', 'Nc3', 'Nc6']\n",
      "expected ['c4', 'c5', 'Nc3', 'Nc6', 'g3', 'g6', 'Bg2', 'Bg7', 'Nf3', 'd6', 'O-O', 'e5', 'd3', 'Nge7', 'Rb1', 'O-O']\n",
      "------------------------ 4 ------------------------------\n",
      "predicted ['d4', 'd5', 'c4', 'b6']\n",
      "expected ['d4', 'd5', 'Bf4', 'Nf6', 'e3', 'c5', 'c3', 'Qb6', 'Qb3', 'c4', 'Qc2', 'g6', 'Nd2', 'Nc6', 'e4', 'e6']\n",
      "evaluating  100 ...\n",
      "len 1 accuracy 0.8508771657943726 cir 0.08625731\n",
      "len 2 accuracy 0.8070175647735596 cir 0.118421055\n",
      "len 3 accuracy 0.7836257219314575 cir 0.14546782\n",
      "len 4 accuracy 0.7390350699424744 cir 0.17489037\n"
     ]
    }
   ],
   "source": [
    "model.evaluateForTest('test', plot_attention=False)"
   ]
  },
  {
   "cell_type": "code",
   "execution_count": 6,
   "id": "c8357e80",
   "metadata": {},
   "outputs": [
    {
     "name": "stdout",
     "output_type": "stream",
     "text": [
      "evaluating total images:  180 ...\n",
      "evaluating  0 ...\n",
      "------------------------ 0 ------------------------------\n",
      "predicted ['e4', 'c5', 'd3', 'g6']\n",
      "expected ['e4', 'c5', 'Nf3', 'e6']\n",
      "------------------------ 1 ------------------------------\n",
      "predicted ['e4', 'c5', 'Nf6', 'e6']\n",
      "expected ['e4', 'e5', 'Nf3', 'e6']\n",
      "------------------------ 2 ------------------------------\n",
      "predicted ['e4', 'e5', 'Nf6', 'Nc6']\n",
      "expected ['e4', 'e5', 'Nf3', 'Nc6']\n",
      "------------------------ 3 ------------------------------\n",
      "predicted ['e4', 'e5', 'Nf3', 'Nc6']\n",
      "expected ['e4', 'e5', 'Nf3', 'Nc6']\n",
      "------------------------ 4 ------------------------------\n",
      "predicted ['d4', 'Nf6', 'Bg5', 'Nf6']\n",
      "expected ['d4', 'Nf6', 'Nf3', 'g6']\n",
      "evaluating  100 ...\n",
      "len 1 accuracy 0.7277777791023254 cir 0.19166666\n",
      "len 2 accuracy 0.6416666507720947 cir 0.24629632\n",
      "len 3 accuracy 0.5833333134651184 cir 0.30416667\n",
      "len 4 accuracy 0.543055534362793 cir 0.33310187\n"
     ]
    }
   ],
   "source": [
    "model.evaluateForTest('irt_hebraica_jan2020', plot_attention=False)"
   ]
  }
 ],
 "metadata": {
  "kernelspec": {
   "display_name": "Python 3 (ipykernel)",
   "language": "python",
   "name": "python3"
  },
  "language_info": {
   "codemirror_mode": {
    "name": "ipython",
    "version": 3
   },
   "file_extension": ".py",
   "mimetype": "text/x-python",
   "name": "python",
   "nbconvert_exporter": "python",
   "pygments_lexer": "ipython3",
   "version": "3.9.6"
  }
 },
 "nbformat": 4,
 "nbformat_minor": 5
}
