{
 "cells": [
  {
   "cell_type": "code",
   "execution_count": 1,
   "id": "000643c2",
   "metadata": {},
   "outputs": [
    {
     "name": "stdout",
     "output_type": "stream",
     "text": [
      "Found GPU at: /device:GPU:0\n",
      "2.5.0\n",
      "Found GPU at: /device:GPU:0\n",
      "2.5.0\n",
      "Found GPU at: /device:GPU:0\n",
      "Found GPU at: /device:GPU:0\n",
      "2.5.0\n"
     ]
    }
   ],
   "source": [
    "from model_controller import ModelPredictController, ModelTrainController\n",
    "from plotter import Plotter\n",
    "from glob import glob\n",
    "from IPython.display import Image"
   ]
  },
  {
   "cell_type": "code",
   "execution_count": 2,
   "id": "e21d81d6",
   "metadata": {},
   "outputs": [],
   "source": [
    "model = ModelPredictController(NUM_LINHAS=8);"
   ]
  },
  {
   "cell_type": "code",
   "execution_count": 3,
   "id": "dd19eac1",
   "metadata": {},
   "outputs": [
    {
     "name": "stdout",
     "output_type": "stream",
     "text": [
      "building...\n",
      "total do vocabulario=  179\n",
      "VOCAB_SIZE 180\n"
     ]
    }
   ],
   "source": [
    "model.load()"
   ]
  },
  {
   "cell_type": "code",
   "execution_count": 4,
   "id": "dee1d995",
   "metadata": {},
   "outputs": [],
   "source": [
    "def restore_and_predict_for( snapshots):\n",
    "\tresults= []\n",
    "\t\n",
    "\tfor snap in snapshots:\n",
    "\t\tprint( '-----------', snap)\n",
    "\t\tmodel.restoreFromCheckpointName( snap)\n",
    "\t\tr= model.evaluateForTest('test-8lines', plot_attention=False, _len= 16)\n",
    "\t\t\n",
    "\t\tresults.append( {\n",
    "\t\t\t'snapshot': snap,\n",
    "\t\t\t'result': r\n",
    "\t\t})\n",
    "\treturn results\n",
    "\t"
   ]
  },
  {
   "cell_type": "code",
   "execution_count": 7,
   "id": "4f937e00",
   "metadata": {},
   "outputs": [
    {
     "name": "stdout",
     "output_type": "stream",
     "text": [
      "----------- train_20211026_final_8lines_INCR_LEN__NO_TEACH__HANDWRITTEN_ONLY--dataset-8lines-v002-somente_handwriten\n",
      "restore from pretraining  ../train-folder/checkpoints/train_20211026_final_8lines_INCR_LEN__NO_TEACH__HANDWRITTEN_ONLY--dataset-8lines-v002-somente_handwriten\\ckpt-1 ...\n",
      "target_len=  16\n",
      "evaluating dataset  test-8lines\n",
      "evaluating total images:  114 ...\n",
      "evaluating  0 ...\n",
      "evaluating  100 ...\n",
      "--------------< Indice por tamanho de sequencia >----------------------------\n",
      "len 1 accuracy 0.8421052694320679 cir 0.112573095\n",
      "len 2 accuracy 0.8070175647735596 cir 0.121345036\n",
      "len 3 accuracy 0.6695906519889832 cir 0.2563353\n",
      "len 4 accuracy 0.6776315569877625 cir 0.24141084\n",
      "len 5 accuracy 0.5894736647605896 cir 0.33304095\n",
      "len 6 accuracy 0.5701754093170166 cir 0.3420078\n",
      "len 7 accuracy 0.5150375962257385 cir 0.4135547\n",
      "len 8 accuracy 0.5 cir 0.4241411\n",
      "len 9 accuracy 0.4571150243282318 cir 0.47082523\n",
      "len 10 accuracy 0.4394736886024475 cir 0.48134503\n",
      "len 11 accuracy 0.40271133184432983 cir 0.5266348\n",
      "len 12 accuracy 0.3896198868751526 cir 0.5409844\n",
      "len 13 accuracy 0.3663967549800873 cir 0.567915\n",
      "len 14 accuracy 0.35213032364845276 cir 0.5835422\n",
      "len 15 accuracy 0.33391812443733215 cir 0.6103801\n",
      "len 16 accuracy 0.3344298303127289 cir 0.6073648\n",
      "----------- train_20211026_curriculum_try2_8lines_INCR_LEN__NO_TEACH__CURRICULUM--curriculum-8-linhas--etapa-1\n",
      "restore from pretraining  ../train-folder/checkpoints/train_20211026_curriculum_try2_8lines_INCR_LEN__NO_TEACH__CURRICULUM--curriculum-8-linhas--etapa-1\\ckpt-1 ...\n",
      "target_len=  16\n",
      "evaluating dataset  test-8lines\n",
      "evaluating total images:  114 ...\n",
      "evaluating  0 ...\n",
      "evaluating  100 ...\n",
      "--------------< Indice por tamanho de sequencia >----------------------------\n",
      "len 1 accuracy 0.7894737124443054 cir 0.10672515\n",
      "len 2 accuracy 0.6885964870452881 cir 0.17397662\n",
      "len 3 accuracy 0.6812865734100342 cir 0.19078948\n",
      "len 4 accuracy 0.6644737124443054 cir 0.20157164\n",
      "len 5 accuracy 0.6526315808296204 cir 0.2125731\n",
      "len 6 accuracy 0.6330409646034241 cir 0.23818226\n",
      "len 7 accuracy 0.6090225577354431 cir 0.2661863\n",
      "len 8 accuracy 0.5756579041481018 cir 0.29475513\n",
      "len 9 accuracy 0.5516569018363953 cir 0.31244314\n",
      "len 10 accuracy 0.5289473533630371 cir 0.3355702\n",
      "len 11 accuracy 0.5039872527122498 cir 0.36766347\n",
      "len 12 accuracy 0.4802631437778473 cir 0.39532164\n",
      "len 13 accuracy 0.46086370944976807 cir 0.41585696\n",
      "len 14 accuracy 0.441729336977005 cir 0.43865916\n",
      "len 15 accuracy 0.4385964870452881 cir 0.44273883\n",
      "len 16 accuracy 0.43311402201652527 cir 0.44575113\n",
      "----------- train_20211026_curriculum_try2_8lines_INCR_LEN__NO_TEACH__CURRICULUM--curriculum-8-linhas--etapa-2\n",
      "restore from pretraining  ../train-folder/checkpoints/train_20211026_curriculum_try2_8lines_INCR_LEN__NO_TEACH__CURRICULUM--curriculum-8-linhas--etapa-2\\ckpt-2 ...\n",
      "target_len=  16\n",
      "evaluating dataset  test-8lines\n",
      "evaluating total images:  114 ...\n",
      "evaluating  0 ...\n",
      "evaluating  100 ...\n",
      "--------------< Indice por tamanho de sequencia >----------------------------\n",
      "len 1 accuracy 0.7368420958518982 cir 0.14546785\n",
      "len 2 accuracy 0.6666666865348816 cir 0.20358187\n",
      "len 3 accuracy 0.6637426614761353 cir 0.22344057\n",
      "len 4 accuracy 0.6578947305679321 cir 0.22331874\n",
      "len 5 accuracy 0.6508771777153015 cir 0.22675437\n",
      "len 6 accuracy 0.6271929740905762 cir 0.2453704\n",
      "len 7 accuracy 0.6190476417541504 cir 0.25428155\n",
      "len 8 accuracy 0.594298243522644 cir 0.27649853\n",
      "len 9 accuracy 0.5808966755867004 cir 0.2890676\n",
      "len 10 accuracy 0.5631579160690308 cir 0.3048246\n",
      "len 11 accuracy 0.5470494627952576 cir 0.31790274\n",
      "len 12 accuracy 0.5314327478408813 cir 0.33064082\n",
      "len 13 accuracy 0.5215924382209778 cir 0.34137428\n",
      "len 14 accuracy 0.5 cir 0.3610589\n",
      "len 15 accuracy 0.4900584816932678 cir 0.36973685\n",
      "len 16 accuracy 0.48245614767074585 cir 0.3804825\n",
      "----------- train_20211026_curriculum_try2_8lines_INCR_LEN__NO_TEACH__CURRICULUM--curriculum-8-linhas--etapa-3\n",
      "restore from pretraining  ../train-folder/checkpoints/train_20211026_curriculum_try2_8lines_INCR_LEN__NO_TEACH__CURRICULUM--curriculum-8-linhas--etapa-3\\ckpt-3 ...\n",
      "target_len=  16\n",
      "evaluating dataset  test-8lines\n",
      "evaluating total images:  114 ...\n",
      "evaluating  0 ...\n",
      "evaluating  100 ...\n",
      "--------------< Indice por tamanho de sequencia >----------------------------\n",
      "len 1 accuracy 0.8508771657943726 cir 0.07163743\n",
      "len 2 accuracy 0.7850877046585083 cir 0.12280702\n",
      "len 3 accuracy 0.7426900863647461 cir 0.1554581\n",
      "len 4 accuracy 0.734649121761322 cir 0.15880847\n",
      "len 5 accuracy 0.7210526466369629 cir 0.16959065\n",
      "len 6 accuracy 0.6915204524993896 cir 0.18810916\n",
      "len 7 accuracy 0.6616541147232056 cir 0.20864663\n",
      "len 8 accuracy 0.6381579041481018 cir 0.22852705\n",
      "len 9 accuracy 0.6081871390342712 cir 0.25316766\n",
      "len 10 accuracy 0.5877193212509155 cir 0.27513158\n",
      "len 11 accuracy 0.5693780183792114 cir 0.29132113\n",
      "len 12 accuracy 0.557748556137085 cir 0.3031433\n",
      "len 13 accuracy 0.5458839535713196 cir 0.31439498\n",
      "len 14 accuracy 0.5294486284255981 cir 0.33147454\n",
      "len 15 accuracy 0.5181286334991455 cir 0.34417155\n",
      "len 16 accuracy 0.5104166865348816 cir 0.3514894\n",
      "----------- train_20211026_curriculum_try2_8lines_INCR_LEN__NO_TEACH__CURRICULUM--curriculum-8-linhas--etapa-5\n",
      "restore from pretraining  ../train-folder/checkpoints/train_20211026_curriculum_try2_8lines_INCR_LEN__NO_TEACH__CURRICULUM--curriculum-8-linhas--etapa-5\\ckpt-4 ...\n",
      "target_len=  16\n",
      "evaluating dataset  test-8lines\n",
      "evaluating total images:  114 ...\n",
      "evaluating  0 ...\n",
      "evaluating  100 ...\n",
      "--------------< Indice por tamanho de sequencia >----------------------------\n",
      "len 1 accuracy 0.8508771657943726 cir 0.084795326\n",
      "len 2 accuracy 0.7850877046585083 cir 0.13194445\n",
      "len 3 accuracy 0.7514619827270508 cir 0.15643275\n",
      "len 4 accuracy 0.7456140518188477 cir 0.16063596\n",
      "len 5 accuracy 0.738596498966217 cir 0.17178361\n",
      "len 6 accuracy 0.7061403393745422 cir 0.19719787\n",
      "len 7 accuracy 0.6779448390007019 cir 0.22134504\n",
      "len 8 accuracy 0.6480262875556946 cir 0.24782531\n",
      "len 9 accuracy 0.623781681060791 cir 0.26731646\n",
      "len 10 accuracy 0.5938596725463867 cir 0.2868567\n",
      "len 11 accuracy 0.5781499147415161 cir 0.30031896\n",
      "len 12 accuracy 0.5635964870452881 cir 0.31543618\n",
      "len 13 accuracy 0.5479082465171814 cir 0.3312528\n",
      "len 14 accuracy 0.5288220643997192 cir 0.34949875\n",
      "len 15 accuracy 0.5187134742736816 cir 0.35704675\n",
      "len 16 accuracy 0.5104166865348816 cir 0.36529607\n",
      "----------- train_20211026_curriculum_try2_8lines_INCR_LEN__NO_TEACH__CURRICULUM_ref1_--curriculum-8-linhas--etapa-5\n",
      "restore from pretraining  ../train-folder/checkpoints/train_20211026_curriculum_try2_8lines_INCR_LEN__NO_TEACH__CURRICULUM_ref1_--curriculum-8-linhas--etapa-5\\ckpt-5 ...\n",
      "target_len=  16\n",
      "evaluating dataset  test-8lines\n",
      "evaluating total images:  114 ...\n",
      "evaluating  0 ...\n",
      "evaluating  100 ...\n",
      "--------------< Indice por tamanho de sequencia >----------------------------\n",
      "len 1 accuracy 0.8684210777282715 cir 0.06871345\n",
      "len 2 accuracy 0.8289473652839661 cir 0.10453217\n",
      "len 3 accuracy 0.8187134265899658 cir 0.10550682\n",
      "len 4 accuracy 0.8048245906829834 cir 0.11056287\n",
      "len 5 accuracy 0.7824561595916748 cir 0.12792398\n",
      "len 6 accuracy 0.7514619827270508 cir 0.14778265\n",
      "len 7 accuracy 0.738095223903656 cir 0.15935674\n",
      "len 8 accuracy 0.7105262875556946 cir 0.18265715\n",
      "len 9 accuracy 0.6959064602851868 cir 0.19433074\n",
      "len 10 accuracy 0.6684210300445557 cir 0.21157895\n",
      "len 11 accuracy 0.660287082195282 cir 0.21757045\n",
      "len 12 accuracy 0.6447368264198303 cir 0.22904482\n",
      "len 13 accuracy 0.6342779994010925 cir 0.23627982\n",
      "len 14 accuracy 0.6159147620201111 cir 0.25180662\n",
      "len 15 accuracy 0.6029239892959595 cir 0.26287523\n",
      "len 16 accuracy 0.5926535129547119 cir 0.26878655\n"
     ]
    }
   ],
   "source": [
    "\t\t\n",
    "results = restore_and_predict_for( [\n",
    "'train_20211026_final_8lines_INCR_LEN__NO_TEACH__HANDWRITTEN_ONLY--dataset-8lines-v002-somente_handwriten',\n",
    "'train_20211026_curriculum_try2_8lines_INCR_LEN__NO_TEACH__CURRICULUM--curriculum-8-linhas--etapa-1',\n",
    "'train_20211026_curriculum_try2_8lines_INCR_LEN__NO_TEACH__CURRICULUM--curriculum-8-linhas--etapa-2',\n",
    "'train_20211026_curriculum_try2_8lines_INCR_LEN__NO_TEACH__CURRICULUM--curriculum-8-linhas--etapa-3',\n",
    "'train_20211026_curriculum_try2_8lines_INCR_LEN__NO_TEACH__CURRICULUM--curriculum-8-linhas--etapa-5',\n",
    "'train_20211026_curriculum_try2_8lines_INCR_LEN__NO_TEACH__CURRICULUM_ref1_--curriculum-8-linhas--etapa-5',\n",
    "])"
   ]
  },
  {
   "cell_type": "code",
   "execution_count": 8,
   "id": "5f58b50b",
   "metadata": {},
   "outputs": [
    {
     "data": {
      "text/plain": [
       "[{'snapshot': 'train_20211026_final_8lines_INCR_LEN__NO_TEACH__HANDWRITTEN_ONLY--dataset-8lines-v002-somente_handwriten',\n",
       "  'result': [([0.8421052694320679,\n",
       "     0.8070175647735596,\n",
       "     0.6695906519889832,\n",
       "     0.6776315569877625,\n",
       "     0.5894736647605896,\n",
       "     0.5701754093170166,\n",
       "     0.5150375962257385,\n",
       "     0.5,\n",
       "     0.4571150243282318,\n",
       "     0.4394736886024475,\n",
       "     0.40271133184432983,\n",
       "     0.3896198868751526,\n",
       "     0.3663967549800873,\n",
       "     0.35213032364845276,\n",
       "     0.33391812443733215,\n",
       "     0.3344298303127289],\n",
       "    'test')]},\n",
       " {'snapshot': 'train_20211026_curriculum_try2_8lines_INCR_LEN__NO_TEACH__CURRICULUM--curriculum-8-linhas--etapa-1',\n",
       "  'result': [([0.7894737124443054,\n",
       "     0.6885964870452881,\n",
       "     0.6812865734100342,\n",
       "     0.6644737124443054,\n",
       "     0.6526315808296204,\n",
       "     0.6330409646034241,\n",
       "     0.6090225577354431,\n",
       "     0.5756579041481018,\n",
       "     0.5516569018363953,\n",
       "     0.5289473533630371,\n",
       "     0.5039872527122498,\n",
       "     0.4802631437778473,\n",
       "     0.46086370944976807,\n",
       "     0.441729336977005,\n",
       "     0.4385964870452881,\n",
       "     0.43311402201652527],\n",
       "    'test')]},\n",
       " {'snapshot': 'train_20211026_curriculum_try2_8lines_INCR_LEN__NO_TEACH__CURRICULUM--curriculum-8-linhas--etapa-2',\n",
       "  'result': [([0.7368420958518982,\n",
       "     0.6666666865348816,\n",
       "     0.6637426614761353,\n",
       "     0.6578947305679321,\n",
       "     0.6508771777153015,\n",
       "     0.6271929740905762,\n",
       "     0.6190476417541504,\n",
       "     0.594298243522644,\n",
       "     0.5808966755867004,\n",
       "     0.5631579160690308,\n",
       "     0.5470494627952576,\n",
       "     0.5314327478408813,\n",
       "     0.5215924382209778,\n",
       "     0.5,\n",
       "     0.4900584816932678,\n",
       "     0.48245614767074585],\n",
       "    'test')]},\n",
       " {'snapshot': 'train_20211026_curriculum_try2_8lines_INCR_LEN__NO_TEACH__CURRICULUM--curriculum-8-linhas--etapa-3',\n",
       "  'result': [([0.8508771657943726,\n",
       "     0.7850877046585083,\n",
       "     0.7426900863647461,\n",
       "     0.734649121761322,\n",
       "     0.7210526466369629,\n",
       "     0.6915204524993896,\n",
       "     0.6616541147232056,\n",
       "     0.6381579041481018,\n",
       "     0.6081871390342712,\n",
       "     0.5877193212509155,\n",
       "     0.5693780183792114,\n",
       "     0.557748556137085,\n",
       "     0.5458839535713196,\n",
       "     0.5294486284255981,\n",
       "     0.5181286334991455,\n",
       "     0.5104166865348816],\n",
       "    'test')]},\n",
       " {'snapshot': 'train_20211026_curriculum_try2_8lines_INCR_LEN__NO_TEACH__CURRICULUM--curriculum-8-linhas--etapa-5',\n",
       "  'result': [([0.8508771657943726,\n",
       "     0.7850877046585083,\n",
       "     0.7514619827270508,\n",
       "     0.7456140518188477,\n",
       "     0.738596498966217,\n",
       "     0.7061403393745422,\n",
       "     0.6779448390007019,\n",
       "     0.6480262875556946,\n",
       "     0.623781681060791,\n",
       "     0.5938596725463867,\n",
       "     0.5781499147415161,\n",
       "     0.5635964870452881,\n",
       "     0.5479082465171814,\n",
       "     0.5288220643997192,\n",
       "     0.5187134742736816,\n",
       "     0.5104166865348816],\n",
       "    'test')]},\n",
       " {'snapshot': 'train_20211026_curriculum_try2_8lines_INCR_LEN__NO_TEACH__CURRICULUM_ref1_--curriculum-8-linhas--etapa-5',\n",
       "  'result': [([0.8684210777282715,\n",
       "     0.8289473652839661,\n",
       "     0.8187134265899658,\n",
       "     0.8048245906829834,\n",
       "     0.7824561595916748,\n",
       "     0.7514619827270508,\n",
       "     0.738095223903656,\n",
       "     0.7105262875556946,\n",
       "     0.6959064602851868,\n",
       "     0.6684210300445557,\n",
       "     0.660287082195282,\n",
       "     0.6447368264198303,\n",
       "     0.6342779994010925,\n",
       "     0.6159147620201111,\n",
       "     0.6029239892959595,\n",
       "     0.5926535129547119],\n",
       "    'test')]}]"
      ]
     },
     "execution_count": 8,
     "metadata": {},
     "output_type": "execute_result"
    }
   ],
   "source": [
    "results"
   ]
  },
  {
   "cell_type": "code",
   "execution_count": 15,
   "id": "cd6b70fe",
   "metadata": {},
   "outputs": [
    {
     "data": {
      "text/plain": [
       "[0.8421052694320679,\n",
       " 0.8070175647735596,\n",
       " 0.6695906519889832,\n",
       " 0.6776315569877625,\n",
       " 0.5894736647605896,\n",
       " 0.5701754093170166,\n",
       " 0.5150375962257385,\n",
       " 0.5,\n",
       " 0.4571150243282318,\n",
       " 0.4394736886024475,\n",
       " 0.40271133184432983,\n",
       " 0.3896198868751526,\n",
       " 0.3663967549800873,\n",
       " 0.35213032364845276,\n",
       " 0.33391812443733215,\n",
       " 0.3344298303127289]"
      ]
     },
     "execution_count": 15,
     "metadata": {},
     "output_type": "execute_result"
    }
   ],
   "source": [
    "results[0]['result'][0][0]"
   ]
  },
  {
   "cell_type": "code",
   "execution_count": 16,
   "id": "5a9484d9",
   "metadata": {},
   "outputs": [
    {
     "name": "stdout",
     "output_type": "stream",
     "text": [
      "train_20211026_final_8lines_INCR_LEN__NO_TEACH__HANDWRITTEN_ONLY--dataset-8lines-v002-somente_handwriten\n",
      "[0.8421052694320679, 0.8070175647735596, 0.6695906519889832, 0.6776315569877625, 0.5894736647605896, 0.5701754093170166, 0.5150375962257385, 0.5, 0.4571150243282318, 0.4394736886024475, 0.40271133184432983, 0.3896198868751526, 0.3663967549800873, 0.35213032364845276, 0.33391812443733215, 0.3344298303127289]\n",
      "train_20211026_curriculum_try2_8lines_INCR_LEN__NO_TEACH__CURRICULUM--curriculum-8-linhas--etapa-1\n",
      "[0.7894737124443054, 0.6885964870452881, 0.6812865734100342, 0.6644737124443054, 0.6526315808296204, 0.6330409646034241, 0.6090225577354431, 0.5756579041481018, 0.5516569018363953, 0.5289473533630371, 0.5039872527122498, 0.4802631437778473, 0.46086370944976807, 0.441729336977005, 0.4385964870452881, 0.43311402201652527]\n",
      "train_20211026_curriculum_try2_8lines_INCR_LEN__NO_TEACH__CURRICULUM--curriculum-8-linhas--etapa-2\n",
      "[0.7368420958518982, 0.6666666865348816, 0.6637426614761353, 0.6578947305679321, 0.6508771777153015, 0.6271929740905762, 0.6190476417541504, 0.594298243522644, 0.5808966755867004, 0.5631579160690308, 0.5470494627952576, 0.5314327478408813, 0.5215924382209778, 0.5, 0.4900584816932678, 0.48245614767074585]\n",
      "train_20211026_curriculum_try2_8lines_INCR_LEN__NO_TEACH__CURRICULUM--curriculum-8-linhas--etapa-3\n",
      "[0.8508771657943726, 0.7850877046585083, 0.7426900863647461, 0.734649121761322, 0.7210526466369629, 0.6915204524993896, 0.6616541147232056, 0.6381579041481018, 0.6081871390342712, 0.5877193212509155, 0.5693780183792114, 0.557748556137085, 0.5458839535713196, 0.5294486284255981, 0.5181286334991455, 0.5104166865348816]\n",
      "train_20211026_curriculum_try2_8lines_INCR_LEN__NO_TEACH__CURRICULUM--curriculum-8-linhas--etapa-5\n",
      "[0.8508771657943726, 0.7850877046585083, 0.7514619827270508, 0.7456140518188477, 0.738596498966217, 0.7061403393745422, 0.6779448390007019, 0.6480262875556946, 0.623781681060791, 0.5938596725463867, 0.5781499147415161, 0.5635964870452881, 0.5479082465171814, 0.5288220643997192, 0.5187134742736816, 0.5104166865348816]\n",
      "train_20211026_curriculum_try2_8lines_INCR_LEN__NO_TEACH__CURRICULUM_ref1_--curriculum-8-linhas--etapa-5\n",
      "[0.8684210777282715, 0.8289473652839661, 0.8187134265899658, 0.8048245906829834, 0.7824561595916748, 0.7514619827270508, 0.738095223903656, 0.7105262875556946, 0.6959064602851868, 0.6684210300445557, 0.660287082195282, 0.6447368264198303, 0.6342779994010925, 0.6159147620201111, 0.6029239892959595, 0.5926535129547119]\n"
     ]
    }
   ],
   "source": [
    "for r in results:\n",
    "    print( r['snapshot'])\n",
    "    print( r['result'][0][0])"
   ]
  },
  {
   "cell_type": "code",
   "execution_count": 18,
   "id": "4eb9ee3b",
   "metadata": {},
   "outputs": [],
   "source": [
    "import matplotlib.pyplot as plt\n",
    "import numpy as np"
   ]
  },
  {
   "cell_type": "code",
   "execution_count": 33,
   "id": "6320f004",
   "metadata": {},
   "outputs": [],
   "source": [
    "def name_for( snaps):\n",
    "    if( snaps.endswith( \"ten\")):\n",
    "        return \"manuscrita\"\n",
    "    elif( snaps.endswith( \"1\")):\n",
    "        return \"etapa-1\"\n",
    "    elif( snaps.endswith( \"2\")):\n",
    "        return \"etapa-2\"\n",
    "    elif( snaps.endswith( \"3\")):\n",
    "        return \"etapa-3\"\n",
    "    elif( snaps.endswith( \"4\")): \n",
    "        return \"etapa-4\"\n",
    "    elif( \"ref\" in snaps): \n",
    "        return \"etapa-5-1\"\n",
    "    else: \n",
    "        return \"etapa-5\"\n"
   ]
  },
  {
   "cell_type": "code",
   "execution_count": 34,
   "id": "4cd46249",
   "metadata": {},
   "outputs": [
    {
     "data": {
      "image/png": "[encoded data removed]",
      "text/plain": [
       "<Figure size 432x288 with 1 Axes>"
      ]
     },
     "metadata": {
      "needs_background": "light"
     },
     "output_type": "display_data"
    }
   ],
   "source": [
    "x = [i for i in range(1,16+1)]\n",
    "legends = []\n",
    "for r in results:\n",
    "    legends.append( name_for( r['snapshot']))\n",
    "    plt.plot(np.array(x), r['result'][0][0])\n",
    "    \n",
    "plt.xlabel('Tamanho da sequência considerada')\n",
    "plt.ylabel('Acurácia na base de testes')\n",
    "# plt.gca().legend(('sequências reais','curriculum'))\n",
    "plt.gca().legend(legends)\n",
    "plt.show()"
   ]
  },
  {
   "cell_type": "code",
   "execution_count": 35,
   "id": "c32c82c9",
   "metadata": {},
   "outputs": [
    {
     "data": {
      "image/png": "[encoded data removed]",
      "text/plain": [
       "<Figure size 432x288 with 1 Axes>"
      ]
     },
     "metadata": {
      "needs_background": "light"
     },
     "output_type": "display_data"
    }
   ],
   "source": [
    "x = [i for i in range(1,16+1)]\n",
    "legends = []\n",
    "for r in [results[0], results[-1]]:\n",
    "    legends.append( name_for( r['snapshot']))\n",
    "    plt.plot(np.array(x), r['result'][0][0])\n",
    "    \n",
    "plt.xlabel('Tamanho da sequência considerada')\n",
    "plt.ylabel('Acurácia na base de testes')\n",
    "# plt.gca().legend(('sequências reais','curriculum'))\n",
    "plt.gca().legend(legends)\n",
    "plt.show()"
   ]
  }
 ],
 "metadata": {
  "kernelspec": {
   "display_name": "Python 3 (ipykernel)",
   "language": "python",
   "name": "python3"
  },
  "language_info": {
   "codemirror_mode": {
    "name": "ipython",
    "version": 3
   },
   "file_extension": ".py",
   "mimetype": "text/x-python",
   "name": "python",
   "nbconvert_exporter": "python",
   "pygments_lexer": "ipython3",
   "version": "3.9.6"
  }
 },
 "nbformat": 4,
 "nbformat_minor": 5
}
