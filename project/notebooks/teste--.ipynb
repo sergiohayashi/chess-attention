{
 "cells": [
  {
   "cell_type": "code",
   "execution_count": 1,
   "id": "000643c2",
   "metadata": {},
   "outputs": [
    {
     "name": "stdout",
     "output_type": "stream",
     "text": [
      "Found GPU at: /device:GPU:0\n",
      "2.5.0\n",
      "Found GPU at: /device:GPU:0\n",
      "2.5.0\n",
      "Found GPU at: /device:GPU:0\n",
      "Found GPU at: /device:GPU:0\n",
      "2.5.0\n"
     ]
    }
   ],
   "source": [
    "from model_controller import ModelPredictController, ModelTrainController\n",
    "from plotter import Plotter\n",
    "from glob import glob\n",
    "from IPython.display import Image"
   ]
  },
  {
   "cell_type": "code",
   "execution_count": 2,
   "id": "e21d81d6",
   "metadata": {},
   "outputs": [],
   "source": [
    "model = ModelPredictController(NUM_LINHAS=8, NO_TEACH=False);"
   ]
  },
  {
   "cell_type": "code",
   "execution_count": 3,
   "id": "dd19eac1",
   "metadata": {},
   "outputs": [
    {
     "name": "stdout",
     "output_type": "stream",
     "text": [
      "building...\n",
      "total do vocabulario=  179\n",
      "VOCAB_SIZE 180\n",
      "Shape da imagem ao final da CNN:  (None, 50, 53, 512)\n"
     ]
    }
   ],
   "source": [
    "model.load()"
   ]
  },
  {
   "cell_type": "code",
   "execution_count": 4,
   "id": "ffc49de1",
   "metadata": {},
   "outputs": [
    {
     "name": "stdout",
     "output_type": "stream",
     "text": [
      "restore from pretraining  ../train-folder/checkpoints/train_comparativo_20211106_handwritten_teacher_10k_---8linhas-handwritten--10k\\ckpt-2 ...\n"
     ]
    }
   ],
   "source": [
    "model.restoreFromCheckpointName('train_comparativo_20211106_handwritten_teacher_10k_---8linhas-handwritten--10k')\n",
    "# model.restoreFromBestCheckpoint()\n"
   ]
  },
  {
   "cell_type": "code",
   "execution_count": 2,
   "id": "537f8769",
   "metadata": {
    "scrolled": false
   },
   "outputs": [
    {
     "ename": "NameError",
     "evalue": "name 'model' is not defined",
     "output_type": "error",
     "traceback": [
      "\u001b[1;31m---------------------------------------------------------------------------\u001b[0m",
      "\u001b[1;31mNameError\u001b[0m                                 Traceback (most recent call last)",
      "\u001b[1;32m~\\AppData\\Local\\Temp/ipykernel_43864/2510354820.py\u001b[0m in \u001b[0;36m<module>\u001b[1;34m\u001b[0m\n\u001b[0;32m      1\u001b[0m \u001b[1;32mfrom\u001b[0m \u001b[0mconfig\u001b[0m \u001b[1;32mimport\u001b[0m \u001b[0mconfig\u001b[0m\u001b[1;33m\u001b[0m\u001b[1;33m\u001b[0m\u001b[0m\n\u001b[0;32m      2\u001b[0m \u001b[0mconfig\u001b[0m\u001b[1;33m[\u001b[0m\u001b[1;34m\"USE_BIG_PLOT\"\u001b[0m\u001b[1;33m]\u001b[0m\u001b[1;33m=\u001b[0m \u001b[1;32mTrue\u001b[0m\u001b[1;33m\u001b[0m\u001b[1;33m\u001b[0m\u001b[0m\n\u001b[1;32m----> 3\u001b[1;33m \u001b[0mmodel\u001b[0m\u001b[1;33m.\u001b[0m\u001b[0mevaluateForTest\u001b[0m\u001b[1;33m(\u001b[0m\u001b[1;34m'test-8lines-kaito'\u001b[0m\u001b[1;33m,\u001b[0m \u001b[0mplot_attention\u001b[0m\u001b[1;33m=\u001b[0m\u001b[1;32mTrue\u001b[0m\u001b[1;33m,\u001b[0m \u001b[0m_len\u001b[0m\u001b[1;33m=\u001b[0m \u001b[1;36m16\u001b[0m\u001b[1;33m)\u001b[0m\u001b[1;33m\u001b[0m\u001b[1;33m\u001b[0m\u001b[0m\n\u001b[0m",
      "\u001b[1;31mNameError\u001b[0m: name 'model' is not defined"
     ]
    }
   ],
   "source": [
    "\n",
    "config[\"USE_BIG_PLOT\"]= True\n",
    "model.evaluateForTest('test-8lines-kaito', plot_attention=True, _len= 16)\n"
   ]
  },
  {
   "cell_type": "code",
   "execution_count": null,
   "id": "00609234",
   "metadata": {},
   "outputs": [],
   "source": []
  }
 ],
 "metadata": {
  "kernelspec": {
   "display_name": "Python 3 (ipykernel)",
   "language": "python",
   "name": "python3"
  },
  "language_info": {
   "codemirror_mode": {
    "name": "ipython",
    "version": 3
   },
   "file_extension": ".py",
   "mimetype": "text/x-python",
   "name": "python",
   "nbconvert_exporter": "python",
   "pygments_lexer": "ipython3",
   "version": "3.9.6"
  }
 },
 "nbformat": 4,
 "nbformat_minor": 5
}
