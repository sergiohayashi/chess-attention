{
 "cells": [
  {
   "cell_type": "code",
   "execution_count": null,
   "id": "000643c2",
   "metadata": {
    "scrolled": false
   },
   "outputs": [],
   "source": [
    "import sys\n",
    "# adiciona app\n",
    "sys.path.append('../app')\n",
    "\n",
    "from model_controller import ModelPredictController, ModelTrainController\n",
    "from plotter import Plotter\n",
    "from glob import glob\n",
    "from IPython.display import Image\n",
    "import config\n",
    "\n",
    "config.PLOT_UNIFIED = True\n",
    "model = ModelPredictController();\n",
    "model.load()\n",
    "\n",
    "for label, checkoint in [\n",
    "#     ('A', 'train_comparativo_20211106_handwritten_teacher_---8linhas-handwritten--5k'),\n",
    "#     ('B', 'train_comparativo_20211106_handwritten_---8linhas-handwritten--5k'),\n",
    "#     ('C', 'train_comparativo_20211106_handwritten_only_2388_---8linhas-handwritten-only-2388'),\n",
    "#     ('D', 'train_comparativo_20211106_random_parts1500_2388_--dataset-v022-7k-shuffle-parts1500'),\n",
    "#     ('E', 'train_comparativo_20211106_handwritten_teacher_tam_menor---8linhas-handwritten--5k'),\n",
    "#     ('F', 'train_comparativo_20211106_handwritten_tam_menor_---8linhas-handwritten--5k'),\n",
    "    ('K', 'train_20220407_icpr2022_70k_ref_10k_ref_2k_part2_1---8linhas-handwritten-only-2388_best --BEST-79_28--'),\n",
    "]:\n",
    "    print( '\\n\\n---{}---{}-----------'.format( label, checkoint))\n",
    "    model.restoreFromCheckpointName(checkoint)\n",
    "    model.evaluateForTest('test-8lines-icpr2022', plot_attention=True, _len= 16)"
   ]
  },
  {
   "cell_type": "code",
   "execution_count": null,
   "id": "ec5d55d1",
   "metadata": {
    "scrolled": false
   },
   "outputs": [],
   "source": [
    "config.PLOT_UNIFIED = True\n",
    "config.USE_BIG_PLOT = True\n",
    "model = ModelPredictController();\n",
    "model.load()\n",
    "\n",
    "for label, checkoint in [\n",
    "    ('K', 'train_20220407_icpr2022_70k_ref_10k_ref_2k_part2_1---8linhas-handwritten-only-2388_best --BEST-79_28--'),\n",
    "]:\n",
    "    print( '\\n\\n---{}---{}-----------'.format( label, checkoint))\n",
    "    model.restoreFromCheckpointName(checkoint)\n",
    "    model.evaluateForTest('test-8lines-icpr2022', plot_attention=True, _len= 16)"
   ]
  }
 ],
 "metadata": {
  "kernelspec": {
   "display_name": "Python 3 (ipykernel)",
   "language": "python",
   "name": "python3"
  },
  "language_info": {
   "codemirror_mode": {
    "name": "ipython",
    "version": 3
   },
   "file_extension": ".py",
   "mimetype": "text/x-python",
   "name": "python",
   "nbconvert_exporter": "python",
   "pygments_lexer": "ipython3",
   "version": "3.9.6"
  }
 },
 "nbformat": 4,
 "nbformat_minor": 5
}
