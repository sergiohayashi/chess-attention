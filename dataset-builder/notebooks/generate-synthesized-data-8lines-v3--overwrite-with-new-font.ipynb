{
 "cells": [
  {
   "cell_type": "code",
   "execution_count": null,
   "metadata": {},
   "outputs": [],
   "source": [
    "#\n",
    "# Revisar manualmente as imagens em C:\\mestrado\\datasets\\samples_font  ok\n",
    "#\n",
    "#\n",
    "# Pegar todas as imagens em final-32K-8lines do tipo sync_**.jpg e sobrescrever\n",
    "# usando como texto a sequencia no id correspondente em portugues.\n",
    "#\n",
    "# Para os fontes carregar a lista de fontes cujas imagens existem em samples_font\n",
    "# buscando as fontes em C:/fonts, mais as fontes do windows usado anteriormente\n",
    "# Usar as fontes aleatoriamente...\n",
    "#\n"
   ]
  },
  {
   "cell_type": "code",
   "execution_count": null,
   "metadata": {},
   "outputs": [],
   "source": [
    "# import tensorflow as tf\n",
    "# device_name = tf.test.gpu_device_name()\n",
    "# if device_name != '/device:GPU:0':\n",
    "#   raise SystemError('GPU device not found')\n",
    "# print('Found GPU at: {}'.format(device_name))\n",
    "\n",
    "# You'll generate plots of attention in order to see which parts of an image\n",
    "# our model focuses on during captioning\n",
    "import matplotlib.pyplot as plt\n",
    "\n",
    "# Scikit-learn includes many helpful utilities\n",
    "from sklearn.model_selection import train_test_split\n",
    "from sklearn.utils import shuffle\n",
    "\n",
    "import re\n",
    "import numpy as np  \n",
    "import os\n",
    "import time\n",
    "import json\n",
    "from glob import glob\n",
    "from PIL import Image\n",
    "import pickle\n",
    "import cv2\n",
    "from sklearn.utils import shuffle\n",
    "\n",
    "# print(tf.__version__) "
   ]
  },
  {
   "cell_type": "code",
   "execution_count": 3,
   "metadata": {},
   "outputs": [],
   "source": [
    "from IPython.display import clear_output, display\n",
    "import os.path\n",
    "from os import path\n",
    "import shutil\n",
    "import PIL\n",
    "from pathlib import Path\n",
    "from matplotlib import pyplot as plt"
   ]
  },
  {
   "cell_type": "code",
   "execution_count": 4,
   "metadata": {},
   "outputs": [],
   "source": [
    "from IPython.display import clear_output"
   ]
  },
  {
   "cell_type": "code",
   "execution_count": 5,
   "metadata": {},
   "outputs": [],
   "source": [
    "import random"
   ]
  },
  {
   "cell_type": "code",
   "execution_count": 6,
   "metadata": {},
   "outputs": [],
   "source": [
    "import re"
   ]
  },
  {
   "cell_type": "code",
   "execution_count": 19,
   "metadata": {},
   "outputs": [],
   "source": [
    "#\n",
    "# gera imagem com jogadas escritas com fonte manuscrito\n",
    "#\n",
    "# -*- coding: utf-8 -*-\n",
    "from PIL import ImageFont\n",
    "from PIL import Image, ImageDraw\n",
    "from PIL import ImageColor"
   ]
  },
  {
   "cell_type": "code",
   "execution_count": 7,
   "metadata": {},
   "outputs": [],
   "source": [
    "def read_label( path):\n",
    "  f= open( path)\n",
    "  d= f.read()\n",
    "  f.close()\n",
    "  return d \n",
    "\n",
    "def write_label( path, text):\n",
    "  f= open( path, \"w\")\n",
    "  f.write( text)\n",
    "  f.close()\n",
    "\n",
    "def show( img, name= 'noname'):\n",
    "  plt.imshow( img)\n",
    "  plt.title( name)\n",
    "  plt.show()\n",
    "\n",
    "def show_gimage( img, name= 'noname'):\n",
    "  plt.imshow( img, cmap= 'gray')\n",
    "  plt.title( name)\n",
    "  plt.show()\n",
    "\n",
    "def _load_image( path):\n",
    "  # return cv2.imread( path, cv2.IMREAD_GRAYSCALE)\n",
    "  return cv2.imread( path)\n",
    "  \n",
    "def write_image( path, img):\n",
    "  cv2.imwrite( path, img)\n",
    "\n",
    "def resize( img, scale_percent= 60, verbose=False):\n",
    "  #scale_percent = 60 # percent of original size\n",
    "  width = int(img.shape[1] * scale_percent / 100)\n",
    "  height = int(img.shape[0] * scale_percent / 100)\n",
    "  dim = (width, height)\n",
    "  if verbose:\n",
    "    print( \"scale\", scale_percent)\n",
    "    print( \"dim\", dim)\n",
    "  # resize image\n",
    "  return cv2.resize(img, dim, interpolation = cv2.INTER_AREA) "
   ]
  },
  {
   "cell_type": "code",
   "execution_count": 8,
   "metadata": {},
   "outputs": [],
   "source": [
    "pgnfile= \"C:/mestrado/datasets/handmade/imagens-originais/pgn_30k_pt.txt\"\n",
    "with open(pgnfile) as f:\n",
    "    lines = [line.rstrip() for line in f]\n",
    "    \n",
    "lines= [re.sub(\"[\\[].*?[\\]]\", \"\", ln) for ln in lines]\n",
    "lines= [ln[8:] for ln in lines]\n",
    "lines= [ln.split()[0:32] for ln in lines]\n",
    "\n",
    "pgnfile= \"C:/mestrado/datasets/handmade/imagens-originais/pgn_30k_eng.txt\"\n",
    "with open(pgnfile) as f:\n",
    "    en_lines = [line.rstrip() for line in f]\n",
    "    \n",
    "en_lines= [re.sub(\"[\\[].*?[\\]]\", \"\", ln) for ln in en_lines]\n",
    "en_lines= [ln[8:] for ln in en_lines]\n",
    "en_lines= [ln.split()[0:32] for ln in en_lines]"
   ]
  },
  {
   "cell_type": "code",
   "execution_count": 9,
   "metadata": {},
   "outputs": [
    {
     "name": "stdout",
     "output_type": "stream",
     "text": [
      "['d4', 'f5', 'Cf3', 'g6', 'g3', 'Bg7', 'Bg2', 'Cf6', 'b4', 'c6', 'c4', 'd5', 'Db3', 'Be6', 'c5', 'Ce4', 'O-O', 'Cd7', 'Bf4', 'O-O', 'Cbd2', 'Bf7', 'De3', 'De8', 'Bh6', 'Cdf6', 'Ce5', 'Cxd2', 'Dxd2', 'Cd7', 'Bxg7', 'Rxg7'] ['d4', 'f5', 'Nf3', 'g6', 'g3', 'Bg7', 'Bg2', 'Nf6', 'b4', 'c6', 'c4', 'd5', 'Qb3', 'Be6', 'c5', 'Ne4', 'O-O', 'Nd7', 'Bf4', 'O-O', 'Nbd2', 'Bf7', 'Qe3', 'Qe8', 'Bh6', 'Ndf6', 'Ne5', 'Nxd2', 'Qxd2', 'Nd7', 'Bxg7', 'Kxg7']\n"
     ]
    }
   ],
   "source": [
    "print( lines[0], en_lines[0])"
   ]
  },
  {
   "cell_type": "code",
   "execution_count": 10,
   "metadata": {},
   "outputs": [
    {
     "name": "stdout",
     "output_type": "stream",
     "text": [
      "30000 30000\n"
     ]
    }
   ],
   "source": [
    "print( len( lines), len(en_lines))"
   ]
  },
  {
   "cell_type": "code",
   "execution_count": null,
   "metadata": {},
   "outputs": [],
   "source": [
    "#\n",
    "# le todos os fontes\n",
    "#"
   ]
  },
  {
   "cell_type": "code",
   "execution_count": 104,
   "metadata": {},
   "outputs": [],
   "source": [
    "new_fonts_files= glob( 'C:/mestrado/datasets/samples_font/*.ttf.jpg')"
   ]
  },
  {
   "cell_type": "code",
   "execution_count": 97,
   "metadata": {},
   "outputs": [
    {
     "name": "stdout",
     "output_type": "stream",
     "text": [
      "126\n"
     ]
    }
   ],
   "source": [
    "print( len( new_fonts_files))"
   ]
  },
  {
   "cell_type": "code",
   "execution_count": 96,
   "metadata": {},
   "outputs": [
    {
     "data": {
      "text/plain": [
       "[]"
      ]
     },
     "execution_count": 96,
     "metadata": {},
     "output_type": "execute_result"
    }
   ],
   "source": [
    "[f for f in new_fonts_files if 'beneg' in f]"
   ]
  },
  {
   "cell_type": "code",
   "execution_count": 105,
   "metadata": {},
   "outputs": [],
   "source": [
    "new_fonts_path= [\n",
    "    os.path.join( 'C:/mestrado/datasets/fonts', \n",
    "                 Path( f).name.replace( '.jpg', '')) for f in new_fonts_files]"
   ]
  },
  {
   "cell_type": "code",
   "execution_count": 20,
   "metadata": {},
   "outputs": [
    {
     "data": {
      "text/plain": [
       "<PIL.ImageFont.FreeTypeFont at 0x20ff3817730>"
      ]
     },
     "execution_count": 20,
     "metadata": {},
     "output_type": "execute_result"
    }
   ],
   "source": [
    "ImageFont.truetype(new_fonts_path[0], 30)"
   ]
  },
  {
   "cell_type": "code",
   "execution_count": 106,
   "metadata": {},
   "outputs": [],
   "source": [
    "new_fonts= [ImageFont.truetype(f, 30) for f in new_fonts_path]"
   ]
  },
  {
   "cell_type": "code",
   "execution_count": 107,
   "metadata": {},
   "outputs": [],
   "source": [
    "fonts= [\n",
    "    ImageFont.truetype('c:/Windows/Fonts/BRADHITC.TTF', 30),\n",
    "    ImageFont.truetype('c:/Windows/Fonts/ITCKRIST.TTF', 30),\n",
    "    ImageFont.truetype('c:/Windows/Fonts/LHANDW.TTF', 30),\n",
    "    ImageFont.truetype('c:/Windows/Fonts/Inkfree.TTF', 30),\n",
    "    ImageFont.truetype('c:/Windows/Fonts/OCRAEXT.TTF', 30),\n",
    "    ImageFont.truetype('c:/Windows/Fonts/TEMPSITC.TTF', 30),\n",
    "    ImageFont.truetype('c:/Windows/Fonts/PAPYRUS.TTF', 30),\n",
    "    ImageFont.truetype('c:/Windows/Fonts/MAIAN.TTF', 30)\n",
    "] "
   ]
  },
  {
   "cell_type": "code",
   "execution_count": 108,
   "metadata": {},
   "outputs": [],
   "source": [
    "all_fonts= new_fonts + fonts"
   ]
  },
  {
   "cell_type": "code",
   "execution_count": 109,
   "metadata": {},
   "outputs": [
    {
     "name": "stdout",
     "output_type": "stream",
     "text": [
      "105 8 113\n"
     ]
    }
   ],
   "source": [
    "print( len( new_fonts), len( fonts), len( all_fonts))"
   ]
  },
  {
   "cell_type": "code",
   "execution_count": 82,
   "metadata": {},
   "outputs": [
    {
     "data": {
      "text/plain": [
       "'A Sensible Armadillo.ttf'"
      ]
     },
     "execution_count": 82,
     "metadata": {},
     "output_type": "execute_result"
    }
   ],
   "source": [
    "Path( new_fonts_path[0]).name"
   ]
  },
  {
   "cell_type": "code",
   "execution_count": 56,
   "metadata": {},
   "outputs": [],
   "source": [
    "#\n",
    "# le todos os arquivos cuja imagem vai sobrescrever\n",
    "#\n",
    "label_files= glob(\n",
    "    os.path.join( 'C:/mestrado/datasets/unified/final-32K-8lines--v2',\n",
    "                 'train/labels/syn*.pgn'))\n",
    "\n",
    "label_files.extend( glob(  \n",
    "    os.path.join( 'C:/mestrado/datasets/unified/final-32K-8lines--v2',\n",
    "                 'valid/labels/syn*.pgn')))"
   ]
  },
  {
   "cell_type": "code",
   "execution_count": 57,
   "metadata": {},
   "outputs": [
    {
     "data": {
      "text/plain": [
       "25641"
      ]
     },
     "execution_count": 57,
     "metadata": {},
     "output_type": "execute_result"
    }
   ],
   "source": [
    "len( label_files)"
   ]
  },
  {
   "cell_type": "code",
   "execution_count": 50,
   "metadata": {},
   "outputs": [
    {
     "data": {
      "text/plain": [
       "6055"
      ]
     },
     "execution_count": 50,
     "metadata": {},
     "output_type": "execute_result"
    }
   ],
   "source": [
    "#\n",
    "# recupera o label original de cada arquivo\n",
    "#"
   ]
  },
  {
   "cell_type": "code",
   "execution_count": 60,
   "metadata": {},
   "outputs": [
    {
     "data": {
      "text/plain": [
       "49"
      ]
     },
     "execution_count": 60,
     "metadata": {},
     "output_type": "execute_result"
    }
   ],
   "source": [
    "int( Path( label_files[0]).name[4:9])"
   ]
  },
  {
   "cell_type": "code",
   "execution_count": 80,
   "metadata": {},
   "outputs": [],
   "source": [
    "def labelof( f):\n",
    "    id= int( Path( f).name[4:9])\n",
    "#     print( id)\n",
    "    return lines[ id-1]"
   ]
  },
  {
   "cell_type": "code",
   "execution_count": 70,
   "metadata": {},
   "outputs": [
    {
     "name": "stdout",
     "output_type": "stream",
     "text": [
      "995\n",
      "labels of  C:/mestrado/datasets/unified/final-32K-8lines--v2\\train/labels\\syn_00995.pgn e4 e6 d4 d5 Cd2 Cf6 e5 Cfd7 Bd3 c5 c3 Cc6 Ce2 cxd4 cxd4 f6\n"
     ]
    }
   ],
   "source": [
    "i= 100\n",
    "print( 'labels of ', label_files[i], ' '.join( labelof( label_files[i])[0:16]))"
   ]
  },
  {
   "cell_type": "code",
   "execution_count": null,
   "metadata": {},
   "outputs": [],
   "source": [
    "# # abre o arquivo original\n",
    "# img = Image.open(\"C:/mestrado/datasets/syn/template/template.jpg\")  # load base image\n",
    "# dctx = ImageDraw.Draw(img)  # create drawing context"
   ]
  },
  {
   "cell_type": "code",
   "execution_count": null,
   "metadata": {},
   "outputs": [],
   "source": [
    "# show( img)"
   ]
  },
  {
   "cell_type": "code",
   "execution_count": null,
   "metadata": {},
   "outputs": [],
   "source": [
    "# fnt= ImageFont.truetype('c:/fonts/GOODDP__.TTF', 30)"
   ]
  },
  {
   "cell_type": "code",
   "execution_count": null,
   "metadata": {},
   "outputs": [],
   "source": [
    "\n",
    "# def load_fonts():\n",
    "#     files= glob( \"C:/fonts/*.ttf\")\n",
    "#     fonts= []\n",
    "#     for f in files:\n",
    "#         fnt= ImageFont.truetype(f, 30)\n",
    "#         fonts.append( (f, fnt))\n",
    "#     return fonts\n",
    "        \n",
    "    \n",
    "# all_fonts= load_fonts()    \n",
    "        \n",
    "# for name,fnt in all_fonts:    \n",
    "#     img = Image.open(\"C:/mestrado/datasets/syn/template/template.jpg\")  # load base image\n",
    "#     dctx = ImageDraw.Draw(img)  # create drawing context\n",
    "\n",
    "#     line= \"CBxd4+\"\n",
    "\n",
    "#     dh_top= 7\n",
    "#     dh_bottom= 13\n",
    "#     h= (img.height - dh_top - dh_bottom)/25.0\n",
    "#     w= img.width/4.0\n",
    "\n",
    "#     txtsz = dctx.textsize(line, fnt)\n",
    "#     x= (w - txtsz[0])/2\n",
    "#     y= 7 + (h - txtsz[1])/2 #+ margin_top\n",
    "#     dctx.text( (x, y), line, font=fnt, fill=\"#000000\")\n",
    "\n",
    "#     imgc= img.crop( (0, 0, w, h+7*2))\n",
    "    \n",
    "#     imgfile= os.path.join( \"C:/mestrado/datasets/samples_font\", Path(name).name+\".jpg\")\n",
    "#     print( 'save to ', imgfile)\n",
    "#     imgc.save( imgfile)    \n"
   ]
  },
  {
   "cell_type": "code",
   "execution_count": null,
   "metadata": {},
   "outputs": [],
   "source": [
    "# showbig( img)"
   ]
  },
  {
   "cell_type": "code",
   "execution_count": null,
   "metadata": {
    "scrolled": false
   },
   "outputs": [],
   "source": [
    "def showbig( img, name= 'noname'):\n",
    "    plt.figure(figsize = (10,10))    \n",
    "    plt.imshow( img)\n",
    "    plt.title( name)\n",
    "    plt.show()\n",
    "    "
   ]
  },
  {
   "cell_type": "code",
   "execution_count": null,
   "metadata": {},
   "outputs": [],
   "source": [
    "# import glob"
   ]
  },
  {
   "cell_type": "code",
   "execution_count": null,
   "metadata": {},
   "outputs": [],
   "source": [
    "# #\n",
    "# #  gerar somente os que nao tem no handwritten\n",
    "# #\n",
    "\n",
    "# # carrega os jogos existentes\n",
    "# handfiles= glob.glob( \"C:/mestrado/datasets/unified/parts/handwritten/labels/*.pgn\")"
   ]
  },
  {
   "cell_type": "code",
   "execution_count": null,
   "metadata": {},
   "outputs": [],
   "source": [
    "# print( len( handfiles))"
   ]
  },
  {
   "cell_type": "code",
   "execution_count": null,
   "metadata": {},
   "outputs": [],
   "source": [
    "# fname= handfiles[0]\n"
   ]
  },
  {
   "cell_type": "code",
   "execution_count": null,
   "metadata": {},
   "outputs": [],
   "source": [
    "# Path(fname).name.split('_')"
   ]
  },
  {
   "cell_type": "code",
   "execution_count": null,
   "metadata": {},
   "outputs": [],
   "source": [
    "# # a3__d5__d4__Nf6_5742_1494_R_part3_scan0145\n",
    "# id= int( Path(fname).name.split('_')[-5])-1\n",
    "# print( id)"
   ]
  },
  {
   "cell_type": "code",
   "execution_count": null,
   "metadata": {},
   "outputs": [],
   "source": [
    "# print( read_label( fname))"
   ]
  },
  {
   "cell_type": "code",
   "execution_count": null,
   "metadata": {},
   "outputs": [],
   "source": [
    "# \" \".join( en_lines[ id])"
   ]
  },
  {
   "cell_type": "code",
   "execution_count": null,
   "metadata": {},
   "outputs": [],
   "source": [
    "# for f in handfiles:\n",
    "#     if 'scan' not in Path(f).name:\n",
    "#         print( Path(f).name)\n"
   ]
  },
  {
   "cell_type": "code",
   "execution_count": null,
   "metadata": {},
   "outputs": [],
   "source": [
    "# s= set()\n",
    "# for f in handfiles:\n",
    "#     s.add( int( Path(f).name.split('_')[-5][-4:])-1)"
   ]
  },
  {
   "cell_type": "code",
   "execution_count": null,
   "metadata": {},
   "outputs": [],
   "source": [
    "# print( len( s))"
   ]
  },
  {
   "cell_type": "code",
   "execution_count": null,
   "metadata": {},
   "outputs": [],
   "source": [
    "# #\n",
    "# # filtra os que tem manual, os que tem tamanho menor de 16\n",
    "# #\n",
    "# new_lines= []\n",
    "# new_en_lines=[]\n",
    "# new_no= []\n",
    "\n",
    "# for i in range( 0, len( lines)):\n",
    "#     if len( en_lines[i])< 32:\n",
    "#         continue\n",
    "#     if i in s:\n",
    "#         continue\n",
    "#     new_lines.append( lines[i]) \n",
    "#     new_en_lines.append( en_lines[i]) \n",
    "#     new_no.append( i)    "
   ]
  },
  {
   "cell_type": "code",
   "execution_count": null,
   "metadata": {},
   "outputs": [],
   "source": [
    "# print( len( new_lines))\n",
    "# print( len( s))\n",
    "# print( len( lines))"
   ]
  },
  {
   "cell_type": "code",
   "execution_count": null,
   "metadata": {},
   "outputs": [],
   "source": [
    "# print( new_no[0:10])"
   ]
  },
  {
   "cell_type": "code",
   "execution_count": null,
   "metadata": {},
   "outputs": [],
   "source": [
    "# #\n",
    "# # separa em valid e test\n",
    "# #\n",
    "# n= len( new_lines)\n",
    "\n",
    "# # precisa fazer shuffle?\n",
    "\n",
    "# n_train= int(n*0.8)\n",
    "# new_train_lines= new_lines[:n_train]\n",
    "# new_train_en_lines=new_en_lines[:n_train]\n",
    "# new_train_no= new_no[:n_train]\n",
    "\n",
    "# new_valid_lines= new_lines[n_train:]\n",
    "# new_valid_en_lines=new_en_lines[n_train:]\n",
    "# new_valid_no= new_no[n_train:]"
   ]
  },
  {
   "cell_type": "code",
   "execution_count": null,
   "metadata": {},
   "outputs": [],
   "source": [
    "# print( n, n_train)"
   ]
  },
  {
   "cell_type": "code",
   "execution_count": 85,
   "metadata": {},
   "outputs": [
    {
     "data": {
      "text/plain": [
       "138"
      ]
     },
     "execution_count": 85,
     "metadata": {},
     "output_type": "execute_result"
    }
   ],
   "source": [
    "len( all_fonts)"
   ]
  },
  {
   "cell_type": "code",
   "execution_count": 111,
   "metadata": {
    "scrolled": false
   },
   "outputs": [
    {
     "name": "stdout",
     "output_type": "stream",
     "text": [
      "Gerando  25641\n",
      "0\n",
      "100\n",
      "200\n",
      "300\n",
      "400\n",
      "500\n",
      "600\n",
      "700\n",
      "800\n",
      "900\n",
      "1000\n",
      "1100\n",
      "1200\n",
      "1300\n",
      "1400\n",
      "1500\n",
      "1600\n",
      "1700\n",
      "1800\n",
      "1900\n",
      "2000\n",
      "2100\n",
      "2200\n",
      "2300\n",
      "2400\n",
      "2500\n",
      "2600\n",
      "2700\n",
      "2800\n",
      "2900\n",
      "3000\n",
      "3100\n",
      "3200\n",
      "3300\n",
      "3400\n",
      "3500\n",
      "3600\n",
      "3700\n",
      "3800\n",
      "3900\n",
      "4000\n",
      "4100\n",
      "4200\n",
      "4300\n",
      "4400\n",
      "4500\n",
      "4600\n",
      "4700\n",
      "4800\n",
      "4900\n",
      "5000\n",
      "5100\n",
      "5200\n",
      "5300\n",
      "5400\n",
      "5500\n",
      "5600\n",
      "5700\n",
      "5800\n",
      "5900\n",
      "6000\n",
      "6100\n",
      "6200\n",
      "6300\n",
      "6400\n",
      "6500\n",
      "6600\n",
      "6700\n",
      "6800\n",
      "6900\n",
      "7000\n",
      "7100\n",
      "7200\n",
      "7300\n",
      "7400\n",
      "7500\n",
      "7600\n",
      "7700\n",
      "7800\n",
      "7900\n",
      "8000\n",
      "8100\n",
      "8200\n",
      "8300\n",
      "8400\n",
      "8500\n",
      "8600\n",
      "8700\n",
      "8800\n",
      "8900\n",
      "9000\n",
      "9100\n",
      "9200\n",
      "9300\n",
      "9400\n",
      "9500\n",
      "9600\n",
      "9700\n",
      "9800\n",
      "9900\n",
      "10000\n",
      "10100\n",
      "10200\n",
      "10300\n",
      "10400\n",
      "10500\n",
      "10600\n",
      "10700\n",
      "10800\n",
      "10900\n",
      "11000\n",
      "11100\n",
      "11200\n",
      "11300\n",
      "11400\n",
      "11500\n",
      "11600\n",
      "11700\n",
      "11800\n",
      "11900\n",
      "12000\n",
      "12100\n",
      "12200\n",
      "12300\n",
      "12400\n",
      "12500\n",
      "12600\n",
      "12700\n",
      "12800\n",
      "12900\n",
      "13000\n",
      "13100\n",
      "13200\n",
      "13300\n",
      "13400\n",
      "13500\n",
      "13600\n",
      "13700\n",
      "13800\n",
      "13900\n",
      "14000\n",
      "14100\n",
      "14200\n",
      "14300\n",
      "14400\n",
      "14500\n",
      "14600\n",
      "14700\n",
      "14800\n",
      "14900\n",
      "15000\n",
      "15100\n",
      "15200\n",
      "15300\n",
      "15400\n",
      "15500\n",
      "15600\n",
      "15700\n",
      "15800\n",
      "15900\n",
      "16000\n",
      "16100\n",
      "16200\n",
      "16300\n",
      "16400\n",
      "16500\n",
      "16600\n",
      "16700\n",
      "16800\n",
      "16900\n",
      "17000\n",
      "17100\n",
      "17200\n",
      "17300\n",
      "17400\n",
      "17500\n",
      "17600\n",
      "17700\n",
      "17800\n",
      "17900\n",
      "18000\n",
      "18100\n",
      "18200\n",
      "18300\n",
      "18400\n",
      "18500\n",
      "18600\n",
      "18700\n",
      "18800\n",
      "18900\n",
      "19000\n",
      "19100\n",
      "19200\n",
      "19300\n",
      "19400\n",
      "19500\n",
      "19600\n",
      "19700\n",
      "19800\n",
      "19900\n",
      "20000\n",
      "20100\n",
      "20200\n",
      "20300\n",
      "20400\n",
      "20500\n",
      "20600\n",
      "20700\n",
      "20800\n",
      "20900\n",
      "21000\n",
      "21100\n",
      "21200\n",
      "21300\n",
      "21400\n",
      "21500\n",
      "21600\n",
      "21700\n",
      "21800\n",
      "21900\n",
      "22000\n",
      "22100\n",
      "22200\n",
      "22300\n",
      "22400\n",
      "22500\n",
      "22600\n",
      "22700\n",
      "22800\n",
      "22900\n",
      "23000\n",
      "23100\n",
      "23200\n",
      "23300\n",
      "23400\n",
      "23500\n",
      "23600\n",
      "23700\n",
      "23800\n",
      "23900\n",
      "24000\n",
      "24100\n",
      "24200\n",
      "24300\n",
      "24400\n",
      "24500\n",
      "24600\n",
      "24700\n",
      "24800\n",
      "24900\n",
      "25000\n",
      "25100\n",
      "25200\n",
      "25300\n",
      "25400\n",
      "25500\n",
      "25600\n"
     ]
    }
   ],
   "source": [
    "img = Image.open(\"C:/mestrado/datasets/syn/template/template.jpg\")  # load base image\n",
    "dctx = ImageDraw.Draw(img)  # create drawing context\n",
    "dh_top= 7\n",
    "dh_bottom= 13\n",
    "h= (img.height - dh_top - dh_bottom)/25.0\n",
    "w= img.width/4.0\n",
    "\n",
    "margin_left= w/4\n",
    "margin_top= h/6\n",
    "\n",
    "def resize_fixed( img):\n",
    "    _dd = (271, 230) #width, height\n",
    "    return cv2.resize(img, _dd, interpolation = cv2.INTER_AREA) \n",
    "\n",
    "def generate_for( line, fnt=None):\n",
    "#     if fnt is None:\n",
    "#         fnt= random.choice( fonts)\n",
    "#     print( fnt.getname())\n",
    "    \n",
    "    img = Image.open(\"C:/mestrado/datasets/syn/template/template.jpg\")  # load base image\n",
    "    dctx = ImageDraw.Draw(img)  # create drawing context\n",
    "\n",
    "    i= 0\n",
    "    for ln in range( 0, 8):\n",
    "        for col in range( 0, 2):\n",
    "            if i>= len( line):\n",
    "                del dctx\n",
    "                return img\n",
    "            \n",
    "            txtsz = dctx.textsize(line[i], fnt)\n",
    "\n",
    "            x= w* col + (w - txtsz[0])/2\n",
    "            y= dh_top + h*ln + (h - txtsz[1])/2 #+ margin_top\n",
    "\n",
    "            dctx.text( (x, y), line[i], font=fnt, fill=\"#000000\")\n",
    "            i= i+1\n",
    "            \n",
    "    del dctx\n",
    "    return img\n",
    "\n",
    "def cut( img):\n",
    "    h= 300\n",
    "    w= 345\n",
    "\n",
    "    img1= img[:h, :w]\n",
    "    return img1\n",
    "\n",
    "def generate_one( no, label, img_file): #pt_line, pgn, no, folder):\n",
    "    id_font= no%len( all_fonts)\n",
    "    img= generate_for( label, all_fonts[id_font])\n",
    "    img= cut( np.asarray(img))\n",
    "    img= resize_fixed( img)\n",
    "    img= PIL.Image.fromarray(np.uint8(img))\n",
    "    img.save( img_file)\n",
    "#     img.save( img_file.replace( '.jpg', '-'+Path( new_fonts_path[id_font]).name+'.jpg'))\n",
    "    return img\n",
    "\n",
    "# img__= generate_one( \n",
    "#     new_train_lines[0], \n",
    "#     \" \".join( new_train_en_lines[0]), \n",
    "#     new_train_no[0]+1, 'train')\n",
    "\n",
    "# show( img__)\n",
    "#\n",
    "#  generate all\n",
    "#\n",
    "_files= label_files\n",
    "print( 'Gerando ', len( _files))\n",
    "for i in range( 0, len( _files)):\n",
    "    \n",
    "    if i%100== 0:\n",
    "        print( i)\n",
    "    \n",
    "    img_file= _files[i].replace( 'labels', 'images.new').replace( '.pgn', '.jpg') \n",
    "    img__= generate_one( i, labelof( _files[i])[0:16], img_file)\n",
    "#     print( img_file)\n",
    "#     show( img__)"
   ]
  },
  {
   "cell_type": "code",
   "execution_count": null,
   "metadata": {},
   "outputs": [],
   "source": [
    "\n",
    "    \n"
   ]
  },
  {
   "cell_type": "code",
   "execution_count": null,
   "metadata": {},
   "outputs": [],
   "source": [
    "# for i in range( 0, len( new_train_lines)):\n",
    "#     if i%100== 0:\n",
    "#         print( 'train', i)\n",
    "#     generate_one( new_train_lines[i], \" \".join( new_train_en_lines[i]), new_train_no[i]+1, 'train')\n",
    "    \n",
    "# for i in range( 0, len( new_valid_lines)):\n",
    "#     if i%100== 0:\n",
    "#         print( 'valid', i)\n",
    "#     generate_one( new_valid_lines[i], \" \".join( new_valid_en_lines[i]), new_valid_no[i]+1, 'valid')"
   ]
  }
 ],
 "metadata": {
  "kernelspec": {
   "display_name": "Python 3",
   "language": "python",
   "name": "python3"
  },
  "language_info": {
   "codemirror_mode": {
    "name": "ipython",
    "version": 3
   },
   "file_extension": ".py",
   "mimetype": "text/x-python",
   "name": "python",
   "nbconvert_exporter": "python",
   "pygments_lexer": "ipython3",
   "version": "3.8.2"
  }
 },
 "nbformat": 4,
 "nbformat_minor": 4
}
