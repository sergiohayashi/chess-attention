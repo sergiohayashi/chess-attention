{
 "cells": [
  {
   "cell_type": "code",
   "execution_count": 1,
   "metadata": {},
   "outputs": [],
   "source": [
    "import numpy as np"
   ]
  },
  {
   "cell_type": "code",
   "execution_count": 4,
   "metadata": {},
   "outputs": [],
   "source": [
    "# You'll generate plots of attention in order to see which parts of an image\n",
    "# our model focuses on during captioning\n",
    "import matplotlib.pyplot as plt\n",
    "\n",
    "# Scikit-learn includes many helpful utilities\n",
    "from sklearn.model_selection import train_test_split\n",
    "from sklearn.utils import shuffle\n",
    "\n",
    "import re\n",
    "import numpy as np  \n",
    "import os\n",
    "import time\n",
    "import json\n",
    "from glob import glob\n",
    "from PIL import Image\n",
    "import pickle\n",
    "import cv2\n",
    "from sklearn.utils import shuffle\n",
    "\n",
    "\n",
    "from IPython.display import clear_output, display\n",
    "import os.path\n",
    "from os import path\n",
    "import shutil\n",
    "import PIL\n",
    "from pathlib import Path\n",
    "from matplotlib import pyplot as plt"
   ]
  },
  {
   "cell_type": "code",
   "execution_count": 5,
   "metadata": {},
   "outputs": [],
   "source": [
    "def read_label( path):\n",
    "  f= open( path)\n",
    "  d= f.read()\n",
    "  f.close()\n",
    "  return d \n",
    "\n",
    "def write_label( path, text):\n",
    "  f= open( path, \"w\")\n",
    "  f.write( text)\n",
    "  f.close()\n",
    "\n",
    "def show_image( img, name= 'noname'):\n",
    "  plt.imshow( img)\n",
    "  plt.title( name)\n",
    "  plt.show()\n",
    "\n",
    "def show_gimage( img, name= 'noname'):\n",
    "  plt.imshow( img, cmap= 'gray')\n",
    "  plt.title( name)\n",
    "  plt.show()\n",
    "\n",
    "def _load_image( path):\n",
    "  # return cv2.imread( path, cv2.IMREAD_GRAYSCALE)\n",
    "  return cv2.imread( path)\n",
    "  \n",
    "def write_image( path, img):\n",
    "  cv2.imwrite( path, img)\n",
    "\n",
    "def resize( img, scale_percent= 60, verbose=False):\n",
    "  #scale_percent = 60 # percent of original size\n",
    "  width = int(img.shape[1] * scale_percent / 100)\n",
    "  height = int(img.shape[0] * scale_percent / 100)\n",
    "  dim = (width, height)\n",
    "  if verbose:\n",
    "    print( \"scale\", scale_percent)\n",
    "    print( \"dim\", dim)\n",
    "  # resize image\n",
    "  return cv2.resize(img, dim, interpolation = cv2.INTER_AREA) "
   ]
  },
  {
   "cell_type": "code",
   "execution_count": 6,
   "metadata": {},
   "outputs": [],
   "source": [
    "from IPython.display import clear_output, display"
   ]
  },
  {
   "cell_type": "code",
   "execution_count": 7,
   "metadata": {},
   "outputs": [],
   "source": [
    "file= \"C:\\mestrado\\datasets_original\\chess_games/all_with_filtered_anotations_since1998.txt\""
   ]
  },
  {
   "cell_type": "code",
   "execution_count": 8,
   "metadata": {},
   "outputs": [],
   "source": [
    "lines= open( file)"
   ]
  },
  {
   "cell_type": "code",
   "execution_count": 9,
   "metadata": {},
   "outputs": [],
   "source": [
    "sample= [next(lines) for x in range( 10)]    "
   ]
  },
  {
   "cell_type": "code",
   "execution_count": 6,
   "metadata": {},
   "outputs": [],
   "source": [
    "f= open( file)\n",
    "sample_1000= [next(f) for x in range( 10)]    "
   ]
  },
  {
   "cell_type": "code",
   "execution_count": null,
   "metadata": {},
   "outputs": [],
   "source": [
    "# with open(file) as f:\n",
    "#     content = [next(f) for x in range( 1000000)]  \n",
    "# # you may also want to remove whitespace characters like `\\n` at the end of each line\n",
    "# content = [x.strip() for x in content]  "
   ]
  },
  {
   "cell_type": "code",
   "execution_count": 12,
   "metadata": {},
   "outputs": [
    {
     "name": "stderr",
     "output_type": "stream",
     "text": [
      "IOPub message rate exceeded.\n",
      "The notebook server will temporarily stop sending output\n",
      "to the client in order to avoid crashing it.\n",
      "To change this limit, set the config variable\n",
      "`--NotebookApp.iopub_msg_rate_limit`.\n",
      "\n",
      "Current values:\n",
      "NotebookApp.iopub_msg_rate_limit=1000.0 (msgs/sec)\n",
      "NotebookApp.rate_limit_window=3.0 (secs)\n",
      "\n"
     ]
    }
   ],
   "source": [
    "def read( n):\n",
    "    buf= []\n",
    "    with open(file) as f:\n",
    "        for x in range( n):\n",
    "            if( x%100== 0):\n",
    "                clear_output(wait=True)\n",
    "                print( x)\n",
    "            buf.append( next( f))\n",
    "    return buf[5:]\n",
    "\n",
    "sample_5mi= read( 3000*1000)"
   ]
  },
  {
   "cell_type": "code",
   "execution_count": 13,
   "metadata": {},
   "outputs": [],
   "source": [
    "import random\n",
    "random.shuffle(sample_5mi)"
   ]
  },
  {
   "cell_type": "code",
   "execution_count": 14,
   "metadata": {},
   "outputs": [],
   "source": [
    "sample_100k= sample_5mi[0:100000]"
   ]
  },
  {
   "cell_type": "code",
   "execution_count": 15,
   "metadata": {},
   "outputs": [],
   "source": [
    "def write_lines_with_line_number( path, lines):\n",
    "    f= open( path, \"w\")\n",
    "    count= 1\n",
    "    for line in lines:\n",
    "        f.write( \"{}: {}\\n\".format( str(count).zfill(6), line))\n",
    "        count+= 1\n",
    "    f.close()\n",
    "    \n"
   ]
  },
  {
   "cell_type": "code",
   "execution_count": 16,
   "metadata": {},
   "outputs": [
    {
     "data": {
      "text/plain": [
       "'000001'"
      ]
     },
     "execution_count": 16,
     "metadata": {},
     "output_type": "execute_result"
    }
   ],
   "source": [
    "str(1).zfill(6)"
   ]
  },
  {
   "cell_type": "code",
   "execution_count": 37,
   "metadata": {},
   "outputs": [
    {
     "name": "stdout",
     "output_type": "stream",
     "text": [
      "000001: B3 d6\n",
      "\n"
     ]
    }
   ],
   "source": [
    "print( \"{}: {}\\n\".format( str(1).zfill(6), \"B3 d6\"))"
   ]
  },
  {
   "cell_type": "code",
   "execution_count": 17,
   "metadata": {},
   "outputs": [],
   "source": [
    "import re"
   ]
  },
  {
   "cell_type": "code",
   "execution_count": 18,
   "metadata": {},
   "outputs": [],
   "source": [
    "def filter_numeros( line):\n",
    "    return re.sub( r\"[W,B]\\d+\\.\", '', line)"
   ]
  },
  {
   "cell_type": "code",
   "execution_count": 19,
   "metadata": {},
   "outputs": [
    {
     "ename": "NameError",
     "evalue": "name 'line_1' is not defined",
     "output_type": "error",
     "traceback": [
      "\u001b[1;31m---------------------------------------------------------------------------\u001b[0m",
      "\u001b[1;31mNameError\u001b[0m                                 Traceback (most recent call last)",
      "\u001b[1;32m<ipython-input-19-c8cea1a86228>\u001b[0m in \u001b[0;36m<module>\u001b[1;34m\u001b[0m\n\u001b[1;32m----> 1\u001b[1;33m \u001b[0mline_2\u001b[0m\u001b[1;33m=\u001b[0m \u001b[0mfilter_numeros\u001b[0m\u001b[1;33m(\u001b[0m \u001b[0mline_1\u001b[0m\u001b[1;33m)\u001b[0m\u001b[1;33m\u001b[0m\u001b[1;33m\u001b[0m\u001b[0m\n\u001b[0m",
      "\u001b[1;31mNameError\u001b[0m: name 'line_1' is not defined"
     ]
    }
   ],
   "source": [
    "line_2= filter_numeros( line_1)"
   ]
  },
  {
   "cell_type": "code",
   "execution_count": 20,
   "metadata": {},
   "outputs": [
    {
     "data": {
      "text/plain": [
       "'jdflkasjd dfasdjf fjk x)'"
      ]
     },
     "execution_count": 20,
     "metadata": {},
     "output_type": "execute_result"
    }
   ],
   "source": [
    "def filter_chaves( s):\n",
    "    _in= False\n",
    "    r= []\n",
    "    for x in s:\n",
    "        if _in:\n",
    "            if x== '}':\n",
    "                _in= False\n",
    "            continue\n",
    "\n",
    "        #not in\n",
    "        if x== '{':\n",
    "            _in= True\n",
    "            continue\n",
    "            \n",
    "        #not in & x!= '{'\n",
    "        r.append( x)\n",
    "    return ''.join(r)\n",
    "\n",
    "filter_chaves( 'jdflkasjd{djklsafd} dfasdjf f{dkjfl}jk {}x)')\n"
   ]
  },
  {
   "cell_type": "code",
   "execution_count": 21,
   "metadata": {},
   "outputs": [
    {
     "data": {
      "text/plain": [
       "'211312 1998.03.08 1/2-1/2 2520 2390 217 date_false result_false welo_false belo_false edate_true setup_false fen_false result2_false oyrange_false blen_false ### W1.e4 B1.e5 W2.Bc4 B2.Nf6 W3.d3 B3.Nc6 W4.Nf3 B4.Be7 W5.O-O B5.O-O W6.Re1 B6.d6 W7.a4 B7.Bg4 W8.h3 B8.Bh5 W9.c3 B9.Kh8 W10.Nbd2 B10.d5 W11.exd5 B11.Nxd5 W12.Nf1 B12.f6 W13.a5 B13.Bc5 W14.Ng3 B14.Bg6 W15.Ne4 B15.Bxe4 W16.dxe4 B16.Nde7 W17.b4 B17.Bd6 W18.Nh4 B18.Qd7 W19.Qg4 B19.Qxg4 W20.hxg4 B20.g5 W21.Nf5 B21.Nxf5 W22.gxf5 B22.Ne7 W23.Be3 B23.Rfd8 W24.Red1 B24.Kg7 W25.g4 B25.b6 W26.axb6 B26.axb6 W27.Rxa8 B27.Rxa8 W28.Bxb6 B28.Ra3 W29.Bxc7 B29.Bxc7 W30.Rd7 B30.Bd6 W31.Rxd6 B31.Rxc3 W32.Be6 B32.Rc1+ W33.Kg2 B33.Rb1 W34.Rb6 B34.Ng8 W35.Rb7+ B35.Kh6 W36.Rf7 B36.Rxb4 W37.Rf8 B37.Rxe4 W38.Rxg8 B38.Rxg4+ W39.Kf3 B39.Rf4+ W40.Ke3 B40.g4 W41.Ke2 B41.Rb4 W42.Kf1 B42.Kh5 W43.Rg7 B43.e4 W44.Kg2 B44.Rd4 W45.Bg8 B45.Rd2 W46.Kf1 B46.h6 W47.Rg6 B47.Kh4 W48.Rxf6 B48.Kg5 W49.Rf8 B49.Kf4 W50.Ke1 B50.Rb2 W51.Ra8 B51.g3 W52.fxg3+ B52.Kxf5 W53.Ra3 B53.h5 W54.Re3 B54.Rh2 W55.Bd5 B55.h4 W56.Bxe4+ B56.Kg5 W57.Bd5 B57.hxg3 W58.Rxg3+ B58.Kf4 W59.Rf3+ B59.Ke5 W60.Bc4 B60.Kd4 W61.Be2 B61.Ke5 W62.Kd2 B62.Ke4 W63.Ra3 B63.Kd4 W64.Ra4+ B64.Ke5 W65.Ke3 B65.Rh1 W66.Ra5+ B66.Kd6 W67.Bd3 B67.Rc1 W68.Kd4 B68.Rd1 W69.Ra6+ B69.Ke7 W70.Ke4 B70.Re1+ W71.Kf5 B71.Rc1 W72.Ke5 B72.Rc5+ W73.Kd4 B73.Rc7 W74.Bc4 B74.Rd7+ W75.Ke5 B75.Rc7 W76.Bd5 B76.Kd8 W77.Rh6 B77.Ke7 W78.Bc6 B78.Kd8 W79.Rd6+ B79.Ke7 W80.Re6+ B80.Kf7 W81.Kf5 B81.Kf8 W82.Be4 B82.Rf7+ W83.Kg5 B83.Re7 W84.Rf6+ B84.Ke8 W85.Bf5 B85.Re1 W86.Rd6 B86.Kf7 W87.Rd7+ B87.Re7 W88.Rd8 B88.Rc7 W89.Rd6 B89.Ke7 W90.Rd5 B90.Ra7 W91.Kf4 B91.Rb7 W92.Ke5 B92.Rc7 W93.Rb5 B93.Kd8 W94.Be6 B94.Ke7 W95.Rb8 B95.Rc5+ W96.Bd5 B96.Rc7 W97.Rg8 B97.Rd7 W98.Rh8 B98.Rc7 W99.Rh6 B99.Kd8 W100.Be6 B100.Ke7 W101.Kd5 B101.Rc1 W102.Rh7+ B102.Kf6 W103.Rf7+ B103.Kg6 W104.Rf4 B104.Rd1+ W105.Ke5 B105.Re1+ W106.Kd6 B106.Rg1 W107.Ke7 B107.Kg5 W108.Rf5+ B108.Kh4 W109.Kf6 \\n'"
      ]
     },
     "execution_count": 21,
     "metadata": {},
     "output_type": "execute_result"
    }
   ],
   "source": [
    "sample_100k[0]"
   ]
  },
  {
   "cell_type": "code",
   "execution_count": 23,
   "metadata": {},
   "outputs": [],
   "source": [
    "def filter_pt( line):\n",
    "    return line.replace( 'R', 'T').replace( 'K', 'R').replace( 'Q', 'D').replace( 'N', 'C')\n",
    "\n",
    "def filter( lines):\n",
    "    lines= [re.split( r'###', line)[1].lstrip().rstrip() for line in lines]\n",
    "    lines= [filter_chaves( line)  for line in lines]\n",
    "    lines= [filter_numeros( line)  for line in lines]\n",
    "#     lines_pt= [filter_pt( line)  for line in lines]\n",
    "    return lines\n",
    "\n",
    "\n",
    "lines_100k= filter( sample_100k)"
   ]
  },
  {
   "cell_type": "code",
   "execution_count": 63,
   "metadata": {},
   "outputs": [],
   "source": [
    "# lines_30k_pt= [filter_pt( line)  for line in lines_30k]"
   ]
  },
  {
   "cell_type": "code",
   "execution_count": 24,
   "metadata": {},
   "outputs": [
    {
     "data": {
      "text/plain": [
       "'e4 e5 Bc4 Nf6 d3 Nc6 Nf3 Be7 O-O O-O Re1 d6 a4 Bg4 h3 Bh5 c3 Kh8 Nbd2 d5 exd5 Nxd5 Nf1 f6 a5 Bc5 Ng3 Bg6 Ne4 Bxe4 dxe4 Nde7 b4 Bd6 Nh4 Qd7 Qg4 Qxg4 hxg4 g5 Nf5 Nxf5 gxf5 Ne7 Be3 Rfd8 Red1 Kg7 g4 b6 axb6 axb6 Rxa8 Rxa8 Bxb6 Ra3 Bxc7 Bxc7 Rd7 Bd6 Rxd6 Rxc3 Be6 Rc1+ Kg2 Rb1 Rb6 Ng8 Rb7+ Kh6 Rf7 Rxb4 Rf8 Rxe4 Rxg8 Rxg4+ Kf3 Rf4+ Ke3 g4 Ke2 Rb4 Kf1 Kh5 Rg7 e4 Kg2 Rd4 Bg8 Rd2 Kf1 h6 Rg6 Kh4 Rxf6 Kg5 Rf8 Kf4 Ke1 Rb2 Ra8 g3 fxg3+ Kxf5 Ra3 h5 Re3 Rh2 Bd5 h4 Bxe4+ Kg5 Bd5 hxg3 Rxg3+ Kf4 Rf3+ Ke5 Bc4 Kd4 Be2 Ke5 Kd2 Ke4 Ra3 Kd4 Ra4+ Ke5 Ke3 Rh1 Ra5+ Kd6 Bd3 Rc1 Kd4 Rd1 Ra6+ Ke7 Ke4 Re1+ Kf5 Rc1 Ke5 Rc5+ Kd4 Rc7 Bc4 Rd7+ Ke5 Rc7 Bd5 Kd8 Rh6 Ke7 Bc6 Kd8 Rd6+ Ke7 Re6+ Kf7 Kf5 Kf8 Be4 Rf7+ Kg5 Re7 Rf6+ Ke8 Bf5 Re1 Rd6 Kf7 Rd7+ Re7 Rd8 Rc7 Rd6 Ke7 Rd5 Ra7 Kf4 Rb7 Ke5 Rc7 Rb5 Kd8 Be6 Ke7 Rb8 Rc5+ Bd5 Rc7 Rg8 Rd7 Rh8 Rc7 Rh6 Kd8 Be6 Ke7 Kd5 Rc1 Rh7+ Kf6 Rf7+ Kg6 Rf4 Rd1+ Ke5 Re1+ Kd6 Rg1 Ke7 Kg5 Rf5+ Kh4 Kf6'"
      ]
     },
     "execution_count": 24,
     "metadata": {},
     "output_type": "execute_result"
    }
   ],
   "source": [
    "lines_100k[0]"
   ]
  },
  {
   "cell_type": "code",
   "execution_count": 68,
   "metadata": {},
   "outputs": [],
   "source": [
    "def add_pos( line):\n",
    "    token= line.split()\n",
    "    s= []\n",
    "    for i in range( 0,len( token)):\n",
    "        if i%2== 0:\n",
    "            s.append( \"[{}]\".format( (int)(i/2+1)))\n",
    "        s.append( token[i])\n",
    "    return \" \".join( s)"
   ]
  },
  {
   "cell_type": "code",
   "execution_count": 72,
   "metadata": {},
   "outputs": [],
   "source": [
    "write_lines_with_line_number( 'C:/mestrado/datasets_original/chess_games/30k_pt/pgn_30k_eng.txt', lines_30k)"
   ]
  },
  {
   "cell_type": "code",
   "execution_count": 73,
   "metadata": {},
   "outputs": [],
   "source": [
    "write_lines_with_line_number( 'C:/mestrado/datasets_original/chess_games/30k_pt/pgn_30k_pt.txt', lines_30k_pt_pos)"
   ]
  },
  {
   "cell_type": "code",
   "execution_count": 27,
   "metadata": {},
   "outputs": [],
   "source": [
    "LABELS_TARGET_DIR= path.join( 'C:\\mestrado\\datasets', 'blank-fullpage-with-sequence', 'labels')"
   ]
  },
  {
   "cell_type": "code",
   "execution_count": 30,
   "metadata": {},
   "outputs": [],
   "source": [
    "for i in range( 0, 50000):\n",
    "    tag= \"game_\"+str(i+1).zfill(6) \n",
    "    write_label( os.path.join( LABELS_TARGET_DIR, tag+ \".pgn\"), lines_100k[i])"
   ]
  }
 ],
 "metadata": {
  "kernelspec": {
   "display_name": "Python 3",
   "language": "python",
   "name": "python3"
  },
  "language_info": {
   "codemirror_mode": {
    "name": "ipython",
    "version": 3
   },
   "file_extension": ".py",
   "mimetype": "text/x-python",
   "name": "python",
   "nbconvert_exporter": "python",
   "pygments_lexer": "ipython3",
   "version": "3.8.2"
  }
 },
 "nbformat": 4,
 "nbformat_minor": 4
}
