{
 "cells": [
  {
   "cell_type": "code",
   "execution_count": 4,
   "metadata": {},
   "outputs": [
    {
     "ename": "NameError",
     "evalue": "name 'tf' is not defined",
     "output_type": "error",
     "traceback": [
      "\u001b[1;31m---------------------------------------------------------------------------\u001b[0m",
      "\u001b[1;31mNameError\u001b[0m                                 Traceback (most recent call last)",
      "\u001b[1;32m<ipython-input-4-f236cab3d455>\u001b[0m in \u001b[0;36m<module>\u001b[1;34m\u001b[0m\n\u001b[0;32m     46\u001b[0m \u001b[1;32mfrom\u001b[0m \u001b[0mscipy\u001b[0m\u001b[1;33m.\u001b[0m\u001b[0mndimage\u001b[0m\u001b[1;33m.\u001b[0m\u001b[0mfilters\u001b[0m \u001b[1;32mimport\u001b[0m \u001b[0mgaussian_filter\u001b[0m\u001b[1;33m\u001b[0m\u001b[1;33m\u001b[0m\u001b[0m\n\u001b[0;32m     47\u001b[0m \u001b[1;33m\u001b[0m\u001b[0m\n\u001b[1;32m---> 48\u001b[1;33m \u001b[0mprint\u001b[0m\u001b[1;33m(\u001b[0m\u001b[0mtf\u001b[0m\u001b[1;33m.\u001b[0m\u001b[0m__version__\u001b[0m\u001b[1;33m)\u001b[0m\u001b[1;33m\u001b[0m\u001b[1;33m\u001b[0m\u001b[0m\n\u001b[0m",
      "\u001b[1;31mNameError\u001b[0m: name 'tf' is not defined"
     ]
    }
   ],
   "source": [
    "# import tensorflow as tf\n",
    "# device_name = tf.test.gpu_device_name()\n",
    "# if device_name != '/device:GPU:0':\n",
    "#   raise SystemError('GPU device not found')\n",
    "# print('Found GPU at: {}'.format(device_name))\n",
    "\n",
    "# You'll generate plots of attention in order to see which parts of an image\n",
    "# our model focuses on during captioning\n",
    "import matplotlib.pyplot as plt\n",
    "\n",
    "# Scikit-learn includes many helpful utilities\n",
    "from sklearn.model_selection import train_test_split\n",
    "from sklearn.utils import shuffle\n",
    "\n",
    "import re\n",
    "import numpy as np  \n",
    "import os\n",
    "import time\n",
    "import json\n",
    "import random\n",
    "import pickle\n",
    "import cv2\n",
    "import os.path\n",
    "from os import path\n",
    "import shutil\n",
    "from glob import glob\n",
    "from shutil import copyfile\n",
    "from pathlib import Path\n",
    "from matplotlib import pyplot as plt\n",
    "from IPython.display import clear_output, display\n",
    "from collections import Counter\n",
    "import builtins\n",
    "\n",
    "from sklearn.utils import shuffle\n",
    "\n",
    "#\n",
    "# gera imagem com jogadas escritas com fonte manuscrito\n",
    "#\n",
    "# -*- coding: utf-8 -*-\n",
    "import PIL\n",
    "from PIL import ImageFont\n",
    "from PIL import Image, ImageDraw\n",
    "from PIL import ImageColor\n",
    "\n",
    "from scipy.ndimage.interpolation import map_coordinates\n",
    "from scipy.ndimage.filters import gaussian_filter\n",
    "\n",
    "# print(tf.__version__) "
   ]
  },
  {
   "cell_type": "code",
   "execution_count": 5,
   "metadata": {},
   "outputs": [],
   "source": [
    "def read_label( path):\n",
    "  f= open( path)\n",
    "  d= f.read()\n",
    "  f.close()\n",
    "  return d \n",
    "\n",
    "def write_label( path, text):\n",
    "  f= open( path, \"w\")\n",
    "  f.write( text)\n",
    "  f.close()\n",
    "\n",
    "def show( img, name= 'noname'):\n",
    "  plt.imshow( img)\n",
    "  plt.title( name)\n",
    "  plt.show()\n",
    "\n",
    "def show_gimage( img, name= 'noname'):\n",
    "  plt.imshow( img, cmap= 'gray')\n",
    "  plt.title( name)\n",
    "  plt.show()\n",
    "\n",
    "def _load_image( path):\n",
    "  # return cv2.imread( path, cv2.IMREAD_GRAYSCALE)\n",
    "  return cv2.imread( path)\n",
    "  \n",
    "def write_image( path, img):\n",
    "  cv2.imwrite( path, img)\n",
    "\n",
    "def resize( img, scale_percent= 60, verbose=False):\n",
    "  #scale_percent = 60 # percent of original size\n",
    "  width = int(img.shape[1] * scale_percent / 100)\n",
    "  height = int(img.shape[0] * scale_percent / 100)\n",
    "  dim = (width, height)\n",
    "  if verbose:\n",
    "    print( \"scale\", scale_percent)\n",
    "    print( \"dim\", dim)\n",
    "  # resize image\n",
    "  return cv2.resize(img, dim, interpolation = cv2.INTER_AREA) "
   ]
  },
  {
   "cell_type": "code",
   "execution_count": 6,
   "metadata": {},
   "outputs": [],
   "source": [
    "# https://gist.github.com/erniejunior/601cdf56d2b424757de5\n",
    "def elastic_transform_2(image, alpha, sigma,random_state=None):\n",
    "#     print( alpha, sigma)\n",
    "    \"\"\"Elastic deformation of images as described in [Simard2003]_.\n",
    "    .. [Simard2003] Simard, Steinkraus and Platt, \"Best Practices for\n",
    "       Convolutional Neural Networks applied to Visual Document Analysis\", in\n",
    "       Proc. of the International Conference on Document Analysis and\n",
    "       Recognition, 2003.\n",
    "    \"\"\"\n",
    "    if random_state is None:\n",
    "        random_state = np.random.RandomState(None)\n",
    "\n",
    "    shape = image.shape\n",
    "    dx = gaussian_filter((random_state.rand(*shape) * 2 - 1), sigma, mode=\"constant\", cval=0) * alpha\n",
    "    dy = gaussian_filter((random_state.rand(*shape) * 2 - 1), sigma, mode=\"constant\", cval=0) * alpha\n",
    "    dz = np.zeros_like(dx)\n",
    "\n",
    "#     x, y, z = np.meshgrid(np.arange(shape[0]), np.arange(shape[1]), np.arange(shape[2]))\n",
    "    x, y, z = np.meshgrid(np.arange(shape[1]), np.arange(shape[0]), np.arange(shape[2]))\n",
    "#     print (x.shape)\n",
    "    indices = np.reshape(y+dy, (-1, 1)), np.reshape(x+dx, (-1, 1)), np.reshape(z, (-1, 1))\n",
    "\n",
    "    distored_image = map_coordinates(image, indices, order=1, mode='reflect')\n",
    "    return distored_image.reshape(image.shape)"
   ]
  },
  {
   "cell_type": "code",
   "execution_count": 7,
   "metadata": {},
   "outputs": [],
   "source": [
    "def transform( img):\n",
    "    # ELASTIC_ALPHA_SIGMA = ((1201, 10), (1501, 12), (991, 8))\n",
    "    if type( img)== PIL.Image.Image:\n",
    "        img= np.asarray( img)\n",
    "        img= elastic_transform_2(img, 1201, 10)  #random.randint( 991, 1501), random.randint( 8, 12))\n",
    "        img= PIL.Image.fromarray( img)\n",
    "        return img\n",
    "    else:\n",
    "        return elastic_transform_2(img, 1201, 10)  #random.randint( 991, 1501), random.randint( 8, 12))"
   ]
  },
  {
   "cell_type": "code",
   "execution_count": null,
   "metadata": {},
   "outputs": [],
   "source": [
    "# pgnfile= \"C:/mestrado/datasets/handmade/imagens-originais/pgn_30k_pt.txt\"\n",
    "# with open(pgnfile) as f:\n",
    "#     lines = [line.rstrip() for line in f]\n",
    "    \n",
    "# lines= [re.sub(\"[\\[].*?[\\]]\", \"\", ln) for ln in lines]\n",
    "# lines= [ln[8:] for ln in lines]\n",
    "# lines= [ln.split()[0:32] for ln in lines]\n",
    "\n",
    "# pgnfile= \"C:/mestrado/datasets/handmade/imagens-originais/pgn_30k_eng.txt\"\n",
    "# with open(pgnfile) as f:\n",
    "#     en_lines = [line.rstrip() for line in f]\n",
    "    \n",
    "# en_lines= [re.sub(\"[\\[].*?[\\]]\", \"\", ln) for ln in en_lines]\n",
    "# en_lines= [ln[8:] for ln in en_lines]\n",
    "# en_lines= [ln.split()[0:32] for ln in en_lines]\n",
    "\n",
    "# pgnfile= \"C:/mestrado/datasets/jogos/pgn_30k_pt.txt\"\n",
    "# with open(pgnfile) as f:\n",
    "#     lines = [line.rstrip() for line in f]\n",
    "    \n",
    "# lines= [re.sub(\"[\\[].*?[\\]]\", \"\", ln) for ln in lines]\n",
    "# lines= [ln[8:] for ln in lines]\n",
    "# lines= [ln.split() for ln in lines]\n",
    "\n",
    "# en_pgnfile= \"C:/mestrado/datasets/jogos/pgn_30k_eng.txt\"\n",
    "# with open(en_pgnfile) as f:\n",
    "#     en_lines = [line.rstrip() for line in f]\n",
    "    \n",
    "# en_lines= [re.sub(\"[\\[].*?[\\]]\", \"\", ln) for ln in en_lines]\n",
    "# en_lines= [ln[8:] for ln in en_lines]\n",
    "# en_lines= [ln.split() for ln in en_lines]"
   ]
  },
  {
   "cell_type": "code",
   "execution_count": null,
   "metadata": {},
   "outputs": [],
   "source": [
    "# print( lines[0], en_lines[0])"
   ]
  },
  {
   "cell_type": "code",
   "execution_count": null,
   "metadata": {},
   "outputs": [],
   "source": [
    "# print( len( lines), len(en_lines))"
   ]
  },
  {
   "cell_type": "code",
   "execution_count": null,
   "metadata": {},
   "outputs": [],
   "source": [
    "#\n",
    "# le todos os fontes\n",
    "#"
   ]
  },
  {
   "cell_type": "code",
   "execution_count": 8,
   "metadata": {},
   "outputs": [],
   "source": [
    "new_fonts_files= glob( 'C:/mestrado/datasets/samples_font--2/*.ttf.jpg')"
   ]
  },
  {
   "cell_type": "code",
   "execution_count": 9,
   "metadata": {},
   "outputs": [
    {
     "name": "stdout",
     "output_type": "stream",
     "text": [
      "120\n"
     ]
    }
   ],
   "source": [
    "print( len( new_fonts_files))"
   ]
  },
  {
   "cell_type": "code",
   "execution_count": 10,
   "metadata": {},
   "outputs": [],
   "source": [
    "new_fonts_path= [\n",
    "    os.path.join( 'C:/mestrado/datasets/fonts', \n",
    "                 Path( f).name.replace( '.jpg', '')) for f in new_fonts_files]"
   ]
  },
  {
   "cell_type": "code",
   "execution_count": 25,
   "metadata": {},
   "outputs": [],
   "source": [
    "new_fonts= [ImageFont.truetype(f, 60) for f in new_fonts_path]"
   ]
  },
  {
   "cell_type": "code",
   "execution_count": 26,
   "metadata": {},
   "outputs": [],
   "source": [
    "fonts= [\n",
    "    ImageFont.truetype('c:/Windows/Fonts/BRADHITC.TTF', 60),\n",
    "    ImageFont.truetype('c:/Windows/Fonts/ITCKRIST.TTF', 60),\n",
    "    ImageFont.truetype('c:/Windows/Fonts/LHANDW.TTF', 60),\n",
    "    ImageFont.truetype('c:/Windows/Fonts/Inkfree.TTF', 60),\n",
    "    ImageFont.truetype('c:/Windows/Fonts/OCRAEXT.TTF', 60),\n",
    "    ImageFont.truetype('c:/Windows/Fonts/TEMPSITC.TTF', 60),\n",
    "    ImageFont.truetype('c:/Windows/Fonts/PAPYRUS.TTF', 60),\n",
    "    ImageFont.truetype('c:/Windows/Fonts/MAIAN.TTF', 60)\n",
    "] "
   ]
  },
  {
   "cell_type": "code",
   "execution_count": 27,
   "metadata": {},
   "outputs": [],
   "source": [
    "all_fonts= new_fonts + fonts"
   ]
  },
  {
   "cell_type": "code",
   "execution_count": 28,
   "metadata": {},
   "outputs": [
    {
     "name": "stdout",
     "output_type": "stream",
     "text": [
      "120 8 128\n"
     ]
    }
   ],
   "source": [
    "print( len( new_fonts), len( fonts), len( all_fonts))"
   ]
  },
  {
   "cell_type": "code",
   "execution_count": 13,
   "metadata": {
    "scrolled": false
   },
   "outputs": [],
   "source": [
    "def showbig( img, name= 'noname'):\n",
    "    plt.figure(figsize = (10,10))    \n",
    "    plt.imshow( img)\n",
    "    plt.title( name)\n",
    "    plt.show()"
   ]
  },
  {
   "cell_type": "code",
   "execution_count": 30,
   "metadata": {},
   "outputs": [],
   "source": [
    "def sp_noise(npimage,prob):\n",
    "    '''\n",
    "    Add salt and pepper noise to image\n",
    "    prob: Probability of the noise\n",
    "    '''\n",
    "    output = np.zeros(npimage.shape,np.uint8)\n",
    "    thres = 1 - prob \n",
    "    for i in range(npimage.shape[0]):\n",
    "        for j in range(npimage.shape[1]):\n",
    "            rdn = random.random()\n",
    "            if rdn < prob:\n",
    "                output[i][j] = 0\n",
    "            elif rdn > thres:\n",
    "                output[i][j] = random.randint( 0, 128)\n",
    "            else:\n",
    "                output[i][j] = npimage[i][j]\n",
    "    return output\n",
    "\n",
    "def sp_noise_pil( pilimg, prob):\n",
    "#     print( 'noise', prob)\n",
    "    img= pilimg\n",
    "    img= np.asarray( img)\n",
    "    img= sp_noise(img, prob)\n",
    "    img= PIL.Image.fromarray( img)\n",
    "    return img\n",
    "\n",
    "def distorce( img):\n",
    "    # ELASTIC_ALPHA_SIGMA = ((1201, 10), (1501, 12), (991, 8))\n",
    "#     print( 'distorce')\n",
    "    if type( img)== PIL.Image.Image:\n",
    "        img= np.asarray( img)\n",
    "        img= elastic_transform_2(img, 991, 8)  #random.randint( 991, 1501), random.randint( 8, 12))\n",
    "        img= PIL.Image.fromarray( img)\n",
    "        return img\n",
    "    else:\n",
    "        return elastic_transform_2(img, 991, 8)  #random.randint( 991, 1501), random.randint( 8, 12))\n",
    "    \n",
    "\n",
    "# Rotate the foreground\n",
    "def rotate( pilimg):\n",
    "#     print( 'rotate')\n",
    "    foreground= pilimg\n",
    "    angle_degrees = random.uniform(-2.5,2.5)\n",
    "#     print( angle_degrees)\n",
    "    foreground = foreground.rotate(angle_degrees, resample=Image.BICUBIC, expand=True, fillcolor = (255,255,255))\n",
    "\n",
    "    # Scale the foreground\n",
    "#     scale = random.random() * .5 + .5 # Pick something between .5 and 1\n",
    "#     scale = 1\n",
    "#     new_size = (int(foreground.size[0] * scale), int(foreground.size[1] * scale))\n",
    "#     foreground = foreground.resize(new_size, resample=Image.BICUBIC)\n",
    "    return foreground\n",
    "#     show( foreground)\n",
    "    \n",
    "\n",
    "def random_transform( pilimg, p):\n",
    "    img= pilimg\n",
    "    if( random.random()< 0.8):\n",
    "        img= rotate( img)\n",
    "#     if( random.random()< 0.1):\n",
    "#         img= distorce( img)\n",
    "    if( random.random()< 0.25):\n",
    "        img= sp_noise_pil( img, random.uniform( 0.001, 0.0001))\n",
    "    \n",
    "    return img"
   ]
  },
  {
   "cell_type": "code",
   "execution_count": null,
   "metadata": {},
   "outputs": [],
   "source": [
    "# pgn_files= glob( 'C:/mestrado/datasets/unified/random-32k-8lines--v5/*/labels/*.pgn')\n",
    "# pgn_files= [f for f in pgn_files if 'scan' in f]\n",
    "# print( len( pgn_files))\n",
    "\n",
    "# all_pgn= []\n",
    "# for f in pgn_files:\n",
    "#     all_pgn.append( read_label( f))\n",
    "\t\n",
    "# all_pgn= [p.split()[0:16] for p in all_pgn]\n",
    "# flat_all_pgn = [t for _list in all_pgn for t in _list]\n",
    "\n",
    "# count16= Counter( flat_all_pgn)\n",
    "\n",
    "# print( 'len( count16)', len( _count16))  #esperado 462\n",
    "# counted16= {k: v for k, v in sorted(count16.items(), key=lambda item: item[1], reverse=True)}\n",
    "# print( counted16)\n",
    "\n"
   ]
  },
  {
   "cell_type": "code",
   "execution_count": null,
   "metadata": {},
   "outputs": [],
   "source": [
    "#\n",
    "# verifica se cobre todos da base randomica\n",
    "#\n",
    "files_r= glob( 'C:\\mestrado\\datasets\\carnaval\\carnaval_8lines_shuffle_parts\\labels\\*.pgn')\\\n",
    "\n",
    "all_rand= []\n",
    "for f in files_r:\n",
    "    all_rand.append( read_label( f))\n",
    "    \n",
    "count16_r= Counter( all_rand)\n",
    "\n",
    "print( 'len( count16)', len( count16_r))  #esperado 165\n",
    "counted16_r= {k: v for k, v in sorted(count16_r.items(), key=lambda item: item[1], reverse=True)}\n",
    "print( counted16_r)\n",
    "\n",
    "words_r= [item for item in count16_r]"
   ]
  },
  {
   "cell_type": "code",
   "execution_count": 14,
   "metadata": {},
   "outputs": [
    {
     "name": "stdout",
     "output_type": "stream",
     "text": [
      "len( count16) 165\n",
      "{'O-O': 115, 'Nf3': 100, 'Nf6': 99, 'd4': 87, 'e4': 76, 'Nc3': 71, 'c5': 63, 'e6': 60, 'Nc6': 59, 'd6': 52, 'd5': 50, 'c4': 43, 'e5': 41, 'g6': 41, 'Be7': 38, 'Nxd4': 37, 'Bg7': 37, 'cxd4': 36, 'a6': 27, 'g3': 26, 'e3': 26, 'Bg2': 24, 'Bd3': 23, 'c6': 22, 'Nbd7': 21, 'd3': 20, 'Bg5': 20, 'Be3': 17, 'c3': 17, 'Bc4': 16, 'Be2': 15, 'Bf4': 14, 'b6': 13, 'Qd2': 12, 'b3': 12, 'Bb7': 12, 'Nbd2': 11, 'exd5': 10, 'Qc2': 9, 'h3': 9, 'f4': 9, 'b5': 9, 'Bb2': 8, 'Nge7': 8, 'Qb6': 8, 'dxe4': 8, 'cxd5': 8, 'Bd6': 8, 'Bb4': 7, 'Nd2': 7, 'Bb5': 7, 'h6': 7, 'Qc7': 6, 'exd4': 6, 'Bxf6': 6, 'f3': 6, 'Be6': 6, 'Nxc6': 6, 'bxc6': 5, 'dxc4': 5, 'Bxc6': 5, 'Qd7': 5, 'Nxe4': 4, 'Qb3': 4, 'Qxd4': 4, 'Qe2': 4, 'Qxd6': 4, 'Nge2': 4, 'Bb5+': 3, 'Bd7': 3, 'Ne4': 3, 'Bg4': 3, 'Bb3': 3, 'Qxc7': 3, 'Nd7': 3, 'Bxc3+': 3, 'bxc3': 3, 'Bxd6': 3, 'Bc5': 3, 'Qa5': 3, 'Nxd5': 3, 'h5': 3, 'Nb5': 3, 'Qa4': 3, 'Bh4': 3, 'Rb8': 3, 'Bg3': 3, 'Nde2': 3, 'Qe7': 3, 'Re1': 2, 'Re8': 2, 'Rb1': 2, 'Ng5': 2, 'Na5': 2, 'dxc6': 2, 'Nd5': 2, 'Qxb2': 2, 'Ba4': 2, 'a4': 2, 'Nb6': 2, 'Qxd5': 2, 'Ne2': 2, 'f5': 2, 'dxc5': 2, 'Qxf6': 2, 'Qd4': 2, 'Qh4': 2, 'Qf3': 2, 'Bd2': 2, 'Bxc4': 2, 'Qd1': 2, 'Qa5+': 2, 'Bf3': 2, 'O-O-O': 2, 'Ngf3': 2, 'Qf6': 2, 'exf6': 2, 'Nb3': 2, 'f6': 2, 'Bxd7+': 1, 'Nxd7': 1, 'Ngf6': 1, 'cxb3': 1, 'Qxb3': 1, 'Qd3': 1, 'Qc3': 1, 'Bxc7': 1, 'Qd6': 1, 'Qxd8+': 1, 'Kxd8': 1, 'Na6': 1, 'a3': 1, 'Qxc4': 1, 'Ne7': 1, 'Qe8': 1, 'Qe1': 1, 'Ne1': 1, 'Nxf6+': 1, 'gxf6': 1, 'Bxc5': 1, 'Bb4+': 1, 'Bxd2+': 1, 'Nbxd2': 1, 'Nxe5': 1, 'Qd5': 1, 'Nce7': 1, 'cxd6': 1, 'g5': 1, 'Nfd7': 1, 'Ndb5': 1, 'Qxe4+': 1, 'Kd8': 1, 'Bh6': 1, 'b4': 1, 'Bxb4': 1, 'Ba5': 1, 'dxc3': 1, 'Bxc3': 1, 'a5': 1, 'Nf1': 1, 'Nc2': 1, 'Nd6+': 1, 'Qg6': 1, 'Bf5': 1, 'Be5': 1}\n"
     ]
    }
   ],
   "source": [
    "pgn_files_test= glob( 'C:/mestrado/datasets/unified/random-32k-8lines--v6/test/labels/*.pgn')\n",
    "all_pgn= []\n",
    "for f in pgn_files_test:\n",
    "    all_pgn.append( read_label( f))\n",
    "all_pgn= [p.split()[0:16] for p in all_pgn]\n",
    "flat_all_pgn = [t for _list in all_pgn for t in _list]\n",
    "\n",
    "\n"
   ]
  },
  {
   "cell_type": "code",
   "execution_count": 58,
   "metadata": {},
   "outputs": [
    {
     "name": "stdout",
     "output_type": "stream",
     "text": [
      "len( count16) 175\n",
      "{'O-O': 218, 'Nf3': 186, 'Nf6': 184, 'd4': 170, 'e4': 140, 'Nc3': 134, 'c5': 121, 'Nc6': 118, 'd5': 113, 'e6': 112, 'd6': 88, 'c4': 80, 'e5': 78, 'Be7': 71, 'g6': 65, 'Bg7': 58, 'a6': 54, 'e3': 49, 'Bg2': 41, 'c6': 41, 'g3': 40, 'Bd3': 40, 'd3': 38, 'Nxd4': 37, 'c3': 37, 'cxd4': 36, 'Nbd7': 34, 'Be3': 33, 'Bg5': 33, 'Bf4': 28, 'Bc4': 28, 'Be2': 28, 'b3': 23, 'b6': 23, 'Nbd2': 22, 'Qd2': 21, 'h3': 19, 'Bb7': 19, 'Bb4': 16, 'Bb2': 16, 'Qb6': 16, 'Qc2': 16, 'Bb5': 16, 'b5': 16, 'Bd6': 16, 'Qc7': 15, 'Bd7': 15, 'Nd2': 13, 'f4': 12, 'Be6': 12, 'Bg4': 11, 'f3': 11, 'a3': 11, 'Nge7': 10, 'exd5': 10, 'h6': 10, 'Bc5': 9, 'Re1': 8, 'dxe4': 8, 'Bb3': 8, 'cxd5': 8, 'Nb6': 8, 'Qb3': 7, 'Qd7': 7, 'O-O-O': 7, 'exd4': 6, 'Nd5': 6, 'Bxf6': 6, 'a4': 6, 'Nge2': 6, 'Nxc6': 6, 'b4': 6, 'Bf5': 6, 'bxc6': 5, 'dxc4': 5, 'Bxc6': 5, 'Qa5': 5, 'Ngf3': 5, 'Nxe4': 4, 'Re8': 4, 'Qxd4': 4, 'Na5': 4, 'Ne4': 4, 'Ba4': 4, 'Qe2': 4, 'Qxd6': 4, 'f5': 4, 'Bd2': 4, 'Nb5': 4, 'Qa4': 4, 'Bf3': 4, 'Nde2': 4, 'Nb3': 4, 'a5': 4, 'Qe7': 4, 'Bb5+': 3, 'Ngf6': 3, 'Rb1': 3, 'Ng5': 3, 'Qxc7': 3, 'Nd7': 3, 'Bxc3+': 3, 'bxc3': 3, 'Ne2': 3, 'Bxd6': 3, 'Nxd5': 3, 'Ne1': 3, 'Qd4': 3, 'h5': 3, 'Qf3': 3, 'Bh4': 3, 'Rb8': 3, 'Bg3': 3, 'Nfd7': 3, 'dxc6': 2, 'Qxb2': 2, 'Qxd5': 2, 'Na6': 2, 'Ne7': 2, 'dxc5': 2, 'Qxf6': 2, 'Qh4': 2, 'Bxc4': 2, 'Qd1': 2, 'Qa5+': 2, 'Ba5': 2, 'Qf6': 2, 'exf6': 2, 'f6': 2, 'Qg6': 2, 'Ne5': 2, 'Nb4': 2, 'Ba7': 2, 'Bxd7+': 1, 'Nxd7': 1, 'cxb3': 1, 'Qxb3': 1, 'Qd3': 1, 'Qc3': 1, 'Bxc7': 1, 'Qd6': 1, 'Qxd8+': 1, 'Kxd8': 1, 'Qxc4': 1, 'Qe8': 1, 'Qe1': 1, 'Nxf6+': 1, 'gxf6': 1, 'Bxc5': 1, 'Bb4+': 1, 'Bxd2+': 1, 'Nbxd2': 1, 'Nxe5': 1, 'Qd5': 1, 'Nce7': 1, 'cxd6': 1, 'g5': 1, 'Ndb5': 1, 'Qxe4+': 1, 'Kd8': 1, 'Bh6': 1, 'Bxb4': 1, 'dxc3': 1, 'Bxc3': 1, 'Nf1': 1, 'Nc2': 1, 'Nd6+': 1, 'Be5': 1, 'Nd4': 1, 'Nh5': 1, 'Nc5': 1, 'Bh7': 1, 'Na4': 1, 'h4': 1, 'Rc8': 1}\n"
     ]
    }
   ],
   "source": [
    "# adiciona os do randomico\n",
    "flat_all_pgn= flat_all_pgn+ all_rand\n",
    "\n",
    "count16= Counter( flat_all_pgn)\n",
    "\n",
    "print( 'len( count16)', len( count16))  #esperado 165\n",
    "counted16= {k: v for k, v in sorted(count16.items(), key=lambda item: item[1], reverse=True)}\n",
    "print( counted16)\n",
    "\n",
    "words= [item for item in count16]\n",
    "#ordena"
   ]
  },
  {
   "cell_type": "code",
   "execution_count": 59,
   "metadata": {},
   "outputs": [],
   "source": [
    "words.sort()"
   ]
  },
  {
   "cell_type": "code",
   "execution_count": 60,
   "metadata": {},
   "outputs": [
    {
     "name": "stdout",
     "output_type": "stream",
     "text": [
      "['Ba4', 'Ba5', 'Ba7', 'Bb2', 'Bb3', 'Bb4', 'Bb4+', 'Bb5', 'Bb5+', 'Bb7', 'Bc4', 'Bc5', 'Bd2', 'Bd3', 'Bd6', 'Bd7', 'Be2', 'Be3', 'Be5', 'Be6', 'Be7', 'Bf3', 'Bf4', 'Bf5', 'Bg2', 'Bg3', 'Bg4', 'Bg5', 'Bg7', 'Bh4', 'Bh6', 'Bh7', 'Bxb4', 'Bxc3', 'Bxc3+', 'Bxc4', 'Bxc5', 'Bxc6', 'Bxc7', 'Bxd2+', 'Bxd6', 'Bxd7+', 'Bxf6', 'Kd8', 'Kxd8', 'Na4', 'Na5', 'Na6', 'Nb3', 'Nb4', 'Nb5', 'Nb6', 'Nbd2', 'Nbd7', 'Nbxd2', 'Nc2', 'Nc3', 'Nc5', 'Nc6', 'Nce7', 'Nd2', 'Nd4', 'Nd5', 'Nd6+', 'Nd7', 'Ndb5', 'Nde2', 'Ne1', 'Ne2', 'Ne4', 'Ne5', 'Ne7', 'Nf1', 'Nf3', 'Nf6', 'Nfd7', 'Ng5', 'Nge2', 'Nge7', 'Ngf3', 'Ngf6', 'Nh5', 'Nxc6', 'Nxd4', 'Nxd5', 'Nxd7', 'Nxe4', 'Nxe5', 'Nxf6+', 'O-O', 'O-O-O', 'Qa4', 'Qa5', 'Qa5+', 'Qb3', 'Qb6', 'Qc2', 'Qc3', 'Qc7', 'Qd1', 'Qd2', 'Qd3', 'Qd4', 'Qd5', 'Qd6', 'Qd7', 'Qe1', 'Qe2', 'Qe7', 'Qe8', 'Qf3', 'Qf6', 'Qg6', 'Qh4', 'Qxb2', 'Qxb3', 'Qxc4', 'Qxc7', 'Qxd4', 'Qxd5', 'Qxd6', 'Qxd8+', 'Qxe4+', 'Qxf6', 'Rb1', 'Rb8', 'Rc8', 'Re1', 'Re8', 'a3', 'a4', 'a5', 'a6', 'b3', 'b4', 'b5', 'b6', 'bxc3', 'bxc6', 'c3', 'c4', 'c5', 'c6', 'cxb3', 'cxd4', 'cxd5', 'cxd6', 'd3', 'd4', 'd5', 'd6', 'dxc3', 'dxc4', 'dxc5', 'dxc6', 'dxe4', 'e3', 'e4', 'e5', 'e6', 'exd4', 'exd5', 'exf6', 'f3', 'f4', 'f5', 'f6', 'g3', 'g5', 'g6', 'gxf6', 'h3', 'h4', 'h5', 'h6']\n"
     ]
    }
   ],
   "source": [
    "print( words)"
   ]
  },
  {
   "cell_type": "code",
   "execution_count": 34,
   "metadata": {},
   "outputs": [],
   "source": [
    "# pgn_files= glob( 'C:/mestrado/datasets/unified/random-32k-8lines--v7/test/labels/*.pgn')\n",
    "\n",
    "# all_pgn= []\n",
    "# for f in pgn_files:\n",
    "#     all_pgn.append( read_label( f))\n",
    "\t\n",
    "# lines_test= [p.split()[0:16] for p in all_pgn]"
   ]
  },
  {
   "cell_type": "code",
   "execution_count": null,
   "metadata": {},
   "outputs": [],
   "source": [
    "# lines_test"
   ]
  },
  {
   "cell_type": "code",
   "execution_count": 36,
   "metadata": {},
   "outputs": [],
   "source": [
    "# flat_test_pgn = [t for _list in lines_test for t in _list]"
   ]
  },
  {
   "cell_type": "code",
   "execution_count": 40,
   "metadata": {},
   "outputs": [
    {
     "data": {
      "text/plain": [
       "[]"
      ]
     },
     "execution_count": 40,
     "metadata": {},
     "output_type": "execute_result"
    }
   ],
   "source": [
    "# [p for p in flat_test_pgn if p not in words]"
   ]
  },
  {
   "cell_type": "code",
   "execution_count": null,
   "metadata": {},
   "outputs": [],
   "source": [
    "# # le os primeiros 16\n",
    "# pgnfile= \"C:/mestrado/datasets/jogos/pgn_30k_eng.txt\"\n",
    "# with open(pgnfile) as f:\n",
    "# \tlines = [line.rstrip() for line in f]\n",
    "# lines= [re.sub(\"[\\[].*?[\\]]\", \"\", ln) for ln in lines]\n",
    "# lines= [ln[8:] for ln in lines]\n",
    "# lines16= [ln.split()[:16] for ln in lines]\n",
    "# flat_all_pgn = [t for _list in lines16 for t in _list]\n",
    "# count16= Counter( flat_all_pgn)\n",
    "# words= [item for item in count16]\n"
   ]
  },
  {
   "cell_type": "code",
   "execution_count": 15,
   "metadata": {},
   "outputs": [],
   "source": [
    "# \n",
    "# transforma de portugues para ingles, para gerar pgn\n",
    "def pt_to_pgn( w):\n",
    "    # R=> K\n",
    "    # T=> R\n",
    "    # C=> N\n",
    "    # B=> B\n",
    "    # D=> Q\n",
    "\n",
    "#     print( w, '=> ')\n",
    "    png= w.replace( 'R', 'K').replace( 'T', 'R').replace( 'C', 'N').replace( 'D', 'Q')\n",
    "#     print( png)\n",
    "    return png\n",
    "\n",
    "def to_pgn( label):\n",
    "    return [pt_to_pgn( w) for w in label]"
   ]
  },
  {
   "cell_type": "code",
   "execution_count": 16,
   "metadata": {},
   "outputs": [],
   "source": [
    "def pgn_to_pt( w):\n",
    "    # R => T\n",
    "    # K => R\n",
    "    # N => C\n",
    "    # Q => D\n",
    "    \n",
    "    return w.replace( 'R', 'T').replace( 'K', 'R').replace( 'N', 'C').replace( 'Q', 'D')"
   ]
  },
  {
   "cell_type": "code",
   "execution_count": 17,
   "metadata": {},
   "outputs": [
    {
     "name": "stdout",
     "output_type": "stream",
     "text": [
      "['Be5', 'Bg3', 'e6', 'd4', 'g6', 'Cge7', 'Db6', 'Dd4', 'Cf6', 'Bxb4', 'Cfd7', 'Cxc6', 'Bg5', 'Bg5', 'Bg5', 'De8']\n"
     ]
    }
   ],
   "source": [
    "def random_label_from_vocab():\n",
    "    label= []\n",
    "    for i in range( 0, 16):\n",
    "        label.append( \n",
    "            pgn_to_pt( words[random.randrange( 0, len( words))])\n",
    "        )\n",
    "    return label\n",
    "\n",
    "\n",
    "print( random_label_from_vocab())"
   ]
  },
  {
   "cell_type": "code",
   "execution_count": 19,
   "metadata": {},
   "outputs": [],
   "source": [
    "dd= {w:0 for w in words}"
   ]
  },
  {
   "cell_type": "code",
   "execution_count": 20,
   "metadata": {},
   "outputs": [],
   "source": [
    "for i in range( 0, 10000*16):\n",
    "    w= words[random.randrange( 0, len( words))]\n",
    "    dd[ w]= dd[ w]+1\n",
    "    "
   ]
  },
  {
   "cell_type": "code",
   "execution_count": 21,
   "metadata": {
    "scrolled": true
   },
   "outputs": [
    {
     "name": "stdout",
     "output_type": "stream",
     "text": [
      "{'e4': 1016, 'c5': 938, 'Nf3': 978, 'e6': 973, 'd4': 946, 'cxd4': 961, 'Nxd4': 916, 'a6': 938, 'c4': 959, 'Qc7': 985, 'Nc3': 935, 'Nf6': 926, 'Be3': 977, 'Bb4': 946, 'Qd2': 955, 'Nxe4': 1013, 'd6': 923, 'Bb5+': 907, 'Bd7': 967, 'Bxd7+': 1023, 'Nxd7': 1016, 'O-O': 959, 'Ngf6': 972, 'Re1': 976, 'e5': 966, 'c3': 949, 'Be7': 1023, 'd3': 972, 'g3': 894, 'd5': 946, 'b3': 967, 'Bb2': 939, 'Bg2': 969, 'Nbd7': 1043, 'c6': 967, 'Re8': 949, 'Nc6': 978, 'g6': 1046, 'Bg7': 916, 'Nge7': 1022, 'Rb1': 984, 'Bf4': 966, 'e3': 921, 'Qb6': 991, 'Qb3': 952, 'Qc2': 952, 'Nd2': 921, 'Bc4': 952, 'h3': 946, 'exd4': 1012, 'Qxd4': 986, 'Ng5': 941, 'exd5': 998, 'Na5': 940, 'dxc6': 978, 'bxc6': 984, 'Bd3': 954, 'Nd5': 936, 'f4': 1013, 'Ne4': 946, 'dxe4': 973, 'Bg4': 976, 'Nbd2': 962, 'Qxb2': 920, 'Bb5': 1008, 'Ba4': 953, 'b5': 1046, 'Bb3': 976, 'cxd5': 956, 'Bg5': 966, 'Bxf6': 925, 'Be2': 1023, 'b6': 981, 'Bb7': 959, 'dxc4': 1053, 'a4': 1067, 'cxb3': 955, 'Qxb3': 982, 'Qd3': 967, 'Qc3': 959, 'Bxc7': 961, 'Qxc7': 1000, 'Nb6': 971, 'f3': 988, 'Qxd5': 936, 'Qd6': 983, 'Bxc6': 969, 'Qxd8+': 1005, 'Kxd8': 955, 'Qe2': 989, 'Nd7': 971, 'Be6': 921, 'Na6': 1027, 'a3': 947, 'Bxc3+': 981, 'bxc3': 923, 'Ne2': 1005, 'Bd6': 925, 'Bxd6': 945, 'Qxd6': 947, 'Qxc4': 978, 'Nge2': 939, 'Bc5': 1017, 'Ne7': 940, 'f5': 944, 'Qe8': 925, 'dxc5': 996, 'Qa5': 987, 'Qe1': 990, 'Nxc6': 957, 'Nxd5': 985, 'h6': 974, 'Ne1': 1038, 'Nxf6+': 971, 'Qxf6': 971, 'Qd4': 960, 'Qh4': 977, 'h5': 941, 'Qf3': 1000, 'gxf6': 1030, 'Bxc5': 945, 'Bb4+': 934, 'Bd2': 968, 'Bxd2+': 1020, 'Nbxd2': 1027, 'Bxc4': 919, 'Qd7': 968, 'Nb5': 971, 'Qa4': 985, 'Nxe5': 1015, 'Qd5': 1001, 'Bh4': 1014, 'Rb8': 970, 'Nce7': 934, 'cxd6': 925, 'Qd1': 997, 'Qa5+': 935, 'g5': 960, 'Bg3': 929, 'Nfd7': 993, 'Ndb5': 977, 'Qxe4+': 1023, 'Kd8': 980, 'Bf3': 979, 'O-O-O': 945, 'Ngf3': 936, 'Bh6': 947, 'b4': 1014, 'Bxb4': 939, 'Ba5': 967, 'Qf6': 938, 'dxc3': 1019, 'Bxc3': 949, 'exf6': 954, 'Nde2': 958, 'Nb3': 977, 'a5': 1024, 'Qe7': 977, 'f6': 922, 'Nf1': 961, 'Nc2': 923, 'Nd6+': 961, 'Qg6': 978, 'Bf5': 992, 'Be5': 950}\n"
     ]
    }
   ],
   "source": [
    "print( dd)"
   ]
  },
  {
   "cell_type": "code",
   "execution_count": 22,
   "metadata": {},
   "outputs": [
    {
     "data": {
      "text/plain": [
       "894"
      ]
     },
     "execution_count": 22,
     "metadata": {},
     "output_type": "execute_result"
    }
   ],
   "source": [
    "min( [v for (k,v) in dd.items()])"
   ]
  },
  {
   "cell_type": "code",
   "execution_count": 23,
   "metadata": {},
   "outputs": [
    {
     "data": {
      "text/plain": [
       "1067"
      ]
     },
     "execution_count": 23,
     "metadata": {},
     "output_type": "execute_result"
    }
   ],
   "source": [
    "max( [v for (k,v) in dd.items()])"
   ]
  },
  {
   "cell_type": "code",
   "execution_count": 62,
   "metadata": {
    "scrolled": false
   },
   "outputs": [
    {
     "name": "stdout",
     "output_type": "stream",
     "text": [
      "19900 ....\n",
      "DONE!\n"
     ]
    }
   ],
   "source": [
    "img = Image.open(\"C:/mestrado/datasets/syn/template/template-2x.jpg\")  # load base image\n",
    "dctx = ImageDraw.Draw(img)  # create drawing context\n",
    "dh_top= 14\n",
    "dh_bottom= 26\n",
    "h= (img.height - dh_top - dh_bottom)/25.0\n",
    "w= img.width/4.0\n",
    "\n",
    "margin_left= w/4\n",
    "margin_top= h/6\n",
    "\n",
    "# def resize_fixed( img):\n",
    "#     _dd = (271, 230) #width, height\n",
    "#     return cv2.resize(img, _dd, interpolation = cv2.INTER_AREA) \n",
    "\n",
    "def generate_for( line):\n",
    "#     if fnt is None:\n",
    "#         fnt= random.choice( fonts)\n",
    "#     print( fnt.getname())\n",
    "    \n",
    "    img = Image.open(\"C:/mestrado/datasets/syn/template/template-2x.jpg\")  # load base image\n",
    "    dctx = ImageDraw.Draw(img)  # create drawing context\n",
    "\n",
    "    i= 0\n",
    "    for ln in range( 0, 8):\n",
    "        for col in range( 0, 2):\n",
    "            if i>= len( line):\n",
    "                del dctx\n",
    "                return img\n",
    "        \n",
    "            fnt= random.choice( all_fonts)\n",
    "            txtsz = dctx.textsize(line[i], fnt)\n",
    "        \n",
    "            x= w* col + (w - txtsz[0])/2\n",
    "            if random.random()< 0.7:\n",
    "                xmargem= int( (w - txtsz[0])/3)\n",
    "                x+= random.randint( -xmargem, xmargem)\n",
    "            y= dh_top + h*ln + (h - txtsz[1])/2 #+ margin_top\n",
    "\n",
    "            dctx.text( (x, y), line[i], font=fnt, fill=\"#000000\")\n",
    "            i= i+1\n",
    "            \n",
    "    del dctx \n",
    "    return img\n",
    "\n",
    "def cut( img):\n",
    "    h= 600\n",
    "    w= 690 #345\n",
    "\n",
    "    img1= img[:h, :w]\n",
    "    return img1\n",
    "\n",
    "def generate_one( label): #pt_line, pgn, no, folder):\n",
    "#     id_font= no%len( all_fonts)\n",
    "    img= generate_for( label)\n",
    "    img= cut( np.asarray(img))\n",
    "    img= PIL.Image.fromarray(np.uint8(img))\n",
    "    return img\n",
    "\n",
    "\n",
    "# def __generate():\n",
    "#     _files= label_files\n",
    "# #     print( 'Gerando ', len( _files))\n",
    "#     for i in range( 0, len( _files)):\n",
    "#         if i%100== 0:\n",
    "#             print( i)\n",
    "#         img_file= _files[i].replace( 'labels', 'images.new').replace( '.pgn', '.jpg') \n",
    "#         img= generate_one( i, labelof( _files[i])[0:16], img_file)\n",
    "        \n",
    "#         img= random_transform( img, 0.3)\n",
    "#         img.save( img_file)\n",
    "# #         print( img_file)\n",
    "# #         show( img__)\n",
    "# #         show( transform( img__))\n",
    "# #         return img\n",
    "    \n",
    "# __generate()\n",
    "# img1= __generate()\n",
    "# show( img1)\n",
    "# pilimg= img1\n",
    "# npimg= np.asarray( img1)\n",
    "\n",
    "\n",
    "def __generate_random( N):\n",
    "    dataset_dir= 'C:/mestrado/datasets/unified/random-32k-8lines--v9'\n",
    "    \n",
    "    N_train= int(N*0.8)\n",
    "    print( 'N', N, 'N_train', N_train)\n",
    "    \n",
    "    for i in range( 0, N):\n",
    "        if( i%100== 0):\n",
    "            clear_output(wait=True)\n",
    "            print( i, '....')\n",
    "        label_pt= random_label_from_vocab()\n",
    "        img= generate_one( label_pt)\n",
    "        img= random_transform( img, 0.3)\n",
    "        pgn= to_pgn( label_pt)\n",
    "\n",
    "        folder= 'train' if i< N_train else 'valid'\n",
    "        \n",
    "        # save\n",
    "#         show( img)\n",
    "        img_file= os.path.join( dataset_dir, folder, 'images', 'random-syn-'+ str(i+1).zfill( 5)+'.jpg')\n",
    "        img.save( img_file)\n",
    "        write_label( img_file.replace( 'images', 'labels').replace( '.jpg', '.pgn'), \n",
    "                    \" \".join( to_pgn( label_pt)))\n",
    "\n",
    "__generate_random( 20000)\n",
    "print( 'DONE!')"
   ]
  },
  {
   "cell_type": "code",
   "execution_count": 33,
   "metadata": {},
   "outputs": [],
   "source": [
    "# def gererate_all_labels():\n",
    "#     pgn_files= glob( 'C:/mestrado/datasets/unified/random-32k-8lines--v7/*/labels/*.pgn')\n",
    "#     all_pgn= []\n",
    "#     for f in pgn_files:\n",
    "#         all_pgn.append( read_label( f))\n",
    "        \n",
    "#     all_pgn= [' '.join( p.split()[0:16]) for p in all_pgn]\n",
    "    \n",
    "#     write_label( 'C:/mestrado/datasets/unified/random-32k-8lines--v7/all-labels-.pgn', \n",
    "#            '\\n'.join( all_pgn))\n",
    "    \n",
    "# gererate_all_labels()"
   ]
  },
  {
   "cell_type": "code",
   "execution_count": 35,
   "metadata": {},
   "outputs": [],
   "source": [
    "words.sort()"
   ]
  },
  {
   "cell_type": "code",
   "execution_count": 61,
   "metadata": {},
   "outputs": [],
   "source": [
    "#somente 1 linha com as words ordenado\n",
    "write_label( 'C:/mestrado/datasets/unified/random-32k-8lines--v9/all-labels-.pgn', \n",
    "           ' '.join( words))"
   ]
  },
  {
   "cell_type": "code",
   "execution_count": null,
   "metadata": {},
   "outputs": [],
   "source": [
    "# pgn_files= glob( 'C:/mestrado/datasets/unified/random-32k-8lines--v6/*/labels/*.pgn')"
   ]
  },
  {
   "cell_type": "code",
   "execution_count": null,
   "metadata": {},
   "outputs": [],
   "source": [
    "# all_pgn= []\n",
    "# for f in pgn_files:\n",
    "#     all_pgn.append( read_label( f))\n",
    "\n",
    "# pat= \"Nc3 d5 c4\""
   ]
  },
  {
   "cell_type": "code",
   "execution_count": null,
   "metadata": {},
   "outputs": [],
   "source": [
    "# for i in range( 0, len( all_pgn)):\n",
    "#     if all_pgn[i].startswith( \"Nc3 d5\"):\n",
    "#         print( i, all_pgn[i])"
   ]
  },
  {
   "cell_type": "code",
   "execution_count": 41,
   "metadata": {},
   "outputs": [],
   "source": [
    "# \n",
    "# copia test set imagem original\n",
    "#\n",
    "img_files= glob( 'C:/mestrado/datasets/unified/random-32k-8lines--v9/test/images/*.jpg')"
   ]
  },
  {
   "cell_type": "code",
   "execution_count": 42,
   "metadata": {},
   "outputs": [
    {
     "data": {
      "text/plain": [
       "114"
      ]
     },
     "execution_count": 42,
     "metadata": {},
     "output_type": "execute_result"
    }
   ],
   "source": [
    "len( img_files)"
   ]
  },
  {
   "cell_type": "code",
   "execution_count": 50,
   "metadata": {},
   "outputs": [
    {
     "name": "stdout",
     "output_type": "stream",
     "text": [
      "C:/mestrado/datasets/carnaval/carnaval_8lines/carnaval_8lines/images\\carnaval_0004_line_1_8.jpg\n",
      "C:/mestrado/datasets/carnaval/carnaval_8lines/carnaval_8lines/images\\carnaval_0015_line_1_8.jpg\n",
      "C:/mestrado/datasets/carnaval/carnaval_8lines/carnaval_8lines/images\\carnaval_0023_line_1_8.jpg\n",
      "C:/mestrado/datasets/carnaval/carnaval_8lines/carnaval_8lines/images\\carnaval_0029_line_1_8.jpg\n",
      "C:/mestrado/datasets/carnaval/carnaval_8lines/carnaval_8lines/images\\carnaval_0032_line_1_8.jpg\n",
      "C:/mestrado/datasets/carnaval/carnaval_8lines/carnaval_8lines/images\\carnaval_0033_line_1_8.jpg\n",
      "C:/mestrado/datasets/carnaval/carnaval_8lines/carnaval_8lines/images\\carnaval_0038_line_1_8.jpg\n",
      "C:/mestrado/datasets/carnaval/carnaval_8lines/carnaval_8lines/images\\carnaval_0040_line_1_8.jpg\n",
      "C:/mestrado/datasets/carnaval/carnaval_8lines/carnaval_8lines/images\\carnaval_0042_line_1_8.jpg\n",
      "C:/mestrado/datasets/carnaval/carnaval_8lines/carnaval_8lines/images\\carnaval_0051_line_1_8.jpg\n",
      "C:/mestrado/datasets/carnaval/carnaval_8lines/carnaval_8lines/images\\carnaval_0055_line_1_8.jpg\n",
      "C:/mestrado/datasets/carnaval/carnaval_8lines/carnaval_8lines/images\\carnaval_0058_line_1_8.jpg\n",
      "C:/mestrado/datasets/carnaval/carnaval_8lines/carnaval_8lines/images\\carnaval_0059_line_1_8.jpg\n",
      "C:/mestrado/datasets/carnaval/carnaval_8lines/carnaval_8lines/images\\carnaval_0067_line_1_8.jpg\n",
      "C:/mestrado/datasets/carnaval/carnaval_8lines/carnaval_8lines/images\\carnaval_0068_line_1_8.jpg\n",
      "C:/mestrado/datasets/carnaval/carnaval_8lines/carnaval_8lines/images\\carnaval_0071_line_1_8.jpg\n",
      "C:/mestrado/datasets/carnaval/carnaval_8lines/carnaval_8lines/images\\carnaval_0072_line_1_8.jpg\n",
      "C:/mestrado/datasets/carnaval/carnaval_8lines/carnaval_8lines/images\\carnaval_0082_line_1_8.jpg\n",
      "C:/mestrado/datasets/carnaval/carnaval_8lines/carnaval_8lines/images\\carnaval_0086_line_1_8.jpg\n",
      "C:/mestrado/datasets/carnaval/carnaval_8lines/carnaval_8lines/images\\carnaval_0090_line_1_8.jpg\n",
      "C:/mestrado/datasets/carnaval/carnaval_8lines/carnaval_8lines/images\\carnaval_0091_line_1_8.jpg\n",
      "C:/mestrado/datasets/carnaval/carnaval_8lines/carnaval_8lines/images\\carnaval_0104_line_1_8.jpg\n",
      "C:/mestrado/datasets/carnaval/carnaval_8lines/carnaval_8lines/images\\carnaval_0106_line_1_8.jpg\n",
      "C:/mestrado/datasets/carnaval/carnaval_8lines/carnaval_8lines/images\\carnaval_0109_line_1_8.jpg\n",
      "C:/mestrado/datasets/carnaval/carnaval_8lines/carnaval_8lines/images\\carnaval_0114_line_1_8.jpg\n",
      "C:/mestrado/datasets/carnaval/carnaval_8lines/carnaval_8lines/images\\carnaval_0124_line_1_8.jpg\n",
      "C:/mestrado/datasets/carnaval/carnaval_8lines/carnaval_8lines/images\\carnaval_0144_line_1_8.jpg\n",
      "C:/mestrado/datasets/carnaval/carnaval_8lines/carnaval_8lines/images\\carnaval_0150_line_1_8.jpg\n",
      "C:/mestrado/datasets/carnaval/carnaval_8lines/carnaval_8lines/images\\carnaval_0155_line_1_8.jpg\n",
      "C:/mestrado/datasets/carnaval/carnaval_8lines/carnaval_8lines/images\\carnaval_0156_line_1_8.jpg\n",
      "C:/mestrado/datasets/carnaval/carnaval_8lines/carnaval_8lines/images\\carnaval_0157_line_1_8.jpg\n",
      "C:/mestrado/datasets/carnaval/carnaval_8lines/carnaval_8lines/images\\carnaval_0161_line_1_8.jpg\n",
      "C:/mestrado/datasets/carnaval/carnaval_8lines/carnaval_8lines/images\\carnaval_0164_line_1_8.jpg\n",
      "C:/mestrado/datasets/carnaval/carnaval_8lines/carnaval_8lines/images\\carnaval_0170_line_1_8.jpg\n",
      "C:/mestrado/datasets/carnaval/carnaval_8lines/carnaval_8lines/images\\carnaval_0172_line_1_8.jpg\n",
      "C:/mestrado/datasets/carnaval/carnaval_8lines/carnaval_8lines/images\\carnaval_0174_line_1_8.jpg\n",
      "C:/mestrado/datasets/carnaval/carnaval_8lines/carnaval_8lines/images\\carnaval_0176_line_1_8.jpg\n",
      "C:/mestrado/datasets/carnaval/carnaval_8lines/carnaval_8lines/images\\carnaval_0181_line_1_8.jpg\n",
      "C:/mestrado/datasets/carnaval/carnaval_8lines/carnaval_8lines/images\\carnaval_0204_line_1_8.jpg\n",
      "C:/mestrado/datasets/carnaval/carnaval_8lines/carnaval_8lines/images\\carnaval_0213_line_1_8.jpg\n",
      "C:/mestrado/datasets/carnaval/carnaval_8lines/carnaval_8lines/images\\carnaval_0223_line_1_8.jpg\n",
      "C:/mestrado/datasets/carnaval/carnaval_8lines/carnaval_8lines/images\\carnaval_0227_line_1_8.jpg\n",
      "C:/mestrado/datasets/carnaval/carnaval_8lines/carnaval_8lines/images\\carnaval_0230_line_1_8.jpg\n",
      "C:/mestrado/datasets/carnaval/carnaval_8lines/carnaval_8lines/images\\carnaval_0232_line_1_8.jpg\n",
      "C:/mestrado/datasets/carnaval/carnaval_8lines/carnaval_8lines/images\\carnaval_0233_line_1_8.jpg\n",
      "C:/mestrado/datasets/carnaval/carnaval_8lines/carnaval_8lines/images\\carnaval_0234_line_1_8.jpg\n",
      "C:/mestrado/datasets/carnaval/carnaval_8lines/carnaval_8lines/images\\carnaval_0252_line_1_8.jpg\n",
      "C:/mestrado/datasets/carnaval/carnaval_8lines/carnaval_8lines/images\\carnaval_0268_line_1_8.jpg\n",
      "C:/mestrado/datasets/carnaval/carnaval_8lines/carnaval_8lines/images\\carnaval_0271_line_1_8.jpg\n",
      "C:/mestrado/datasets/carnaval/carnaval_8lines/carnaval_8lines/images\\carnaval_0282_line_1_8.jpg\n",
      "C:/mestrado/datasets/carnaval/carnaval_8lines/carnaval_8lines/images\\carnaval_0283_line_1_8.jpg\n",
      "C:/mestrado/datasets/carnaval/carnaval_8lines/carnaval_8lines/images\\carnaval_0286_line_1_8.jpg\n",
      "C:/mestrado/datasets/carnaval/carnaval_8lines/carnaval_8lines/images\\carnaval_0287_line_1_8.jpg\n",
      "C:/mestrado/datasets/carnaval/carnaval_8lines/carnaval_8lines/images\\carnaval_0294_line_1_8.jpg\n",
      "C:/mestrado/datasets/carnaval/carnaval_8lines/carnaval_8lines/images\\carnaval_0297_line_1_8.jpg\n",
      "C:/mestrado/datasets/carnaval/carnaval_8lines/carnaval_8lines/images\\carnaval_0298_line_1_8.jpg\n",
      "C:/mestrado/datasets/carnaval/carnaval_8lines/carnaval_8lines/images\\carnaval_0324_line_1_8.jpg\n",
      "C:/mestrado/datasets/carnaval/carnaval_8lines/carnaval_8lines/images\\carnaval_0328_line_1_8.jpg\n",
      "C:/mestrado/datasets/carnaval/carnaval_8lines/carnaval_8lines/images\\carnaval_0330_line_1_8.jpg\n",
      "C:/mestrado/datasets/carnaval/carnaval_8lines/carnaval_8lines/images\\carnaval_0335_line_1_8.jpg\n",
      "C:/mestrado/datasets/carnaval/carnaval_8lines/carnaval_8lines/images\\carnaval_0347_line_1_8.jpg\n",
      "C:/mestrado/datasets/carnaval/carnaval_8lines/carnaval_8lines/images\\carnaval_0356_line_1_8.jpg\n",
      "C:/mestrado/datasets/carnaval/carnaval_8lines/carnaval_8lines/images\\carnaval_0357_line_1_8.jpg\n",
      "C:/mestrado/datasets/carnaval/carnaval_8lines/carnaval_8lines/images\\carnaval_0361_line_1_8.jpg\n",
      "C:/mestrado/datasets/carnaval/carnaval_8lines/carnaval_8lines/images\\carnaval_0367_line_1_8.jpg\n",
      "C:/mestrado/datasets/carnaval/carnaval_8lines/carnaval_8lines/images\\carnaval_0372_line_1_8.jpg\n",
      "C:/mestrado/datasets/carnaval/carnaval_8lines/carnaval_8lines/images\\carnaval_0373_line_1_8.jpg\n",
      "C:/mestrado/datasets/carnaval/carnaval_8lines/carnaval_8lines/images\\carnaval_0375_line_1_8.jpg\n",
      "C:/mestrado/datasets/carnaval/carnaval_8lines/carnaval_8lines/images\\carnaval_0379_line_1_8.jpg\n",
      "C:/mestrado/datasets/carnaval/carnaval_8lines/carnaval_8lines/images\\carnaval_0395_line_1_8.jpg\n",
      "C:/mestrado/datasets/carnaval/carnaval_8lines/carnaval_8lines/images\\carnaval_0401_line_1_8.jpg\n",
      "C:/mestrado/datasets/carnaval/carnaval_8lines/carnaval_8lines/images\\carnaval_0404_line_1_8.jpg\n",
      "C:/mestrado/datasets/carnaval/carnaval_8lines/carnaval_8lines/images\\carnaval_0408_line_1_8.jpg\n",
      "C:/mestrado/datasets/carnaval/carnaval_8lines/carnaval_8lines/images\\carnaval_0422_line_1_8.jpg\n",
      "C:/mestrado/datasets/carnaval/carnaval_8lines/carnaval_8lines/images\\carnaval_0425_line_1_8.jpg\n",
      "C:/mestrado/datasets/carnaval/carnaval_8lines/carnaval_8lines/images\\carnaval_0426_line_1_8.jpg\n",
      "C:/mestrado/datasets/carnaval/carnaval_8lines/carnaval_8lines/images\\carnaval_0444_line_1_8.jpg\n",
      "C:/mestrado/datasets/carnaval/carnaval_8lines/carnaval_8lines/images\\carnaval_0449_line_1_8.jpg\n",
      "C:/mestrado/datasets/carnaval/carnaval_8lines/carnaval_8lines/images\\carnaval_0466_line_1_8.jpg\n",
      "C:/mestrado/datasets/carnaval/carnaval_8lines/carnaval_8lines/images\\carnaval_0473_line_1_8.jpg\n",
      "C:/mestrado/datasets/carnaval/carnaval_8lines/carnaval_8lines/images\\carnaval_0483_line_1_8.jpg\n",
      "C:/mestrado/datasets/carnaval/carnaval_8lines/carnaval_8lines/images\\carnaval_0485_line_1_8.jpg\n",
      "C:/mestrado/datasets/carnaval/carnaval_8lines/carnaval_8lines/images\\carnaval_0487_line_1_8.jpg\n",
      "C:/mestrado/datasets/carnaval/carnaval_8lines/carnaval_8lines/images\\carnaval_0494_line_1_8.jpg\n",
      "C:/mestrado/datasets/carnaval/carnaval_8lines/carnaval_8lines/images\\carnaval_0501_line_1_8.jpg\n",
      "C:/mestrado/datasets/carnaval/carnaval_8lines/carnaval_8lines/images\\carnaval_0503_line_1_8.jpg\n",
      "C:/mestrado/datasets/carnaval/carnaval_8lines/carnaval_8lines/images\\carnaval_0507_line_1_8.jpg\n",
      "C:/mestrado/datasets/carnaval/carnaval_8lines/carnaval_8lines/images\\carnaval_0509_line_1_8.jpg\n",
      "C:/mestrado/datasets/carnaval/carnaval_8lines/carnaval_8lines/images\\carnaval_0514_line_1_8.jpg\n",
      "C:/mestrado/datasets/carnaval/carnaval_8lines/carnaval_8lines/images\\carnaval_0542_line_1_8.jpg\n"
     ]
    },
    {
     "name": "stdout",
     "output_type": "stream",
     "text": [
      "C:/mestrado/datasets/carnaval/carnaval_8lines/carnaval_8lines/images\\carnaval_0544_line_1_8.jpg\n",
      "C:/mestrado/datasets/carnaval/carnaval_8lines/carnaval_8lines/images\\carnaval_0551_line_1_8.jpg\n",
      "C:/mestrado/datasets/carnaval/carnaval_8lines/carnaval_8lines/images\\carnaval_0553_line_1_8.jpg\n",
      "C:/mestrado/datasets/carnaval/carnaval_8lines/carnaval_8lines/images\\carnaval_0554_line_1_8.jpg\n",
      "C:/mestrado/datasets/carnaval/carnaval_8lines/carnaval_8lines/images\\carnaval_0565_line_1_8.jpg\n",
      "C:/mestrado/datasets/carnaval/carnaval_8lines/carnaval_8lines/images\\carnaval_0569_line_1_8.jpg\n",
      "C:/mestrado/datasets/carnaval/carnaval_8lines/carnaval_8lines/images\\carnaval_0578_line_1_8.jpg\n",
      "C:/mestrado/datasets/carnaval/carnaval_8lines/carnaval_8lines/images\\carnaval_0580_line_1_8.jpg\n",
      "C:/mestrado/datasets/carnaval/carnaval_8lines/carnaval_8lines/images\\carnaval_0589_line_1_8.jpg\n",
      "C:/mestrado/datasets/carnaval/carnaval_8lines/carnaval_8lines/images\\carnaval_0590_line_1_8.jpg\n",
      "C:/mestrado/datasets/carnaval/carnaval_8lines/carnaval_8lines/images\\carnaval_0592_line_1_8.jpg\n",
      "C:/mestrado/datasets/carnaval/carnaval_8lines/carnaval_8lines/images\\carnaval_0596_line_1_8.jpg\n",
      "C:/mestrado/datasets/carnaval/carnaval_8lines/carnaval_8lines/images\\carnaval_0598_line_1_8.jpg\n",
      "C:/mestrado/datasets/carnaval/carnaval_8lines/carnaval_8lines/images\\carnaval_0601_line_1_8.jpg\n",
      "C:/mestrado/datasets/carnaval/carnaval_8lines/carnaval_8lines/images\\carnaval_0606_line_1_8.jpg\n",
      "C:/mestrado/datasets/carnaval/carnaval_8lines/carnaval_8lines/images\\carnaval_0607_line_1_8.jpg\n",
      "C:/mestrado/datasets/carnaval/carnaval_8lines/carnaval_8lines/images\\carnaval_0608_line_1_8.jpg\n",
      "C:/mestrado/datasets/carnaval/carnaval_8lines/carnaval_8lines/images\\carnaval_0614_line_1_8.jpg\n",
      "C:/mestrado/datasets/carnaval/carnaval_8lines/carnaval_8lines/images\\carnaval_0625_line_1_8.jpg\n",
      "C:/mestrado/datasets/carnaval/carnaval_8lines/carnaval_8lines/images\\carnaval_0626_line_1_8.jpg\n",
      "C:/mestrado/datasets/carnaval/carnaval_8lines/carnaval_8lines/images\\carnaval_0629_line_1_8.jpg\n",
      "C:/mestrado/datasets/carnaval/carnaval_8lines/carnaval_8lines/images\\carnaval_0648_line_1_8.jpg\n",
      "C:/mestrado/datasets/carnaval/carnaval_8lines/carnaval_8lines/images\\carnaval_0655_line_1_8.jpg\n",
      "C:/mestrado/datasets/carnaval/carnaval_8lines/carnaval_8lines/images\\carnaval_0676_line_1_8.jpg\n"
     ]
    }
   ],
   "source": [
    "origin_dir= \"C:/mestrado/datasets/carnaval/carnaval_8lines/carnaval_8lines/images\"\n",
    "for f in img_files:\n",
    "    f_from= os.path.join( origin_dir, Path( f).name.replace('fullpage','line_1_8'))\n",
    "    print( f_from)\n",
    "    copyfile( f_from, f)\n",
    "    "
   ]
  },
  {
   "cell_type": "code",
   "execution_count": 52,
   "metadata": {},
   "outputs": [],
   "source": []
  },
  {
   "cell_type": "code",
   "execution_count": 53,
   "metadata": {},
   "outputs": [
    {
     "data": {
      "text/plain": [
       "1426"
      ]
     },
     "execution_count": 53,
     "metadata": {},
     "output_type": "execute_result"
    }
   ],
   "source": [
    "len( files)"
   ]
  },
  {
   "cell_type": "code",
   "execution_count": 54,
   "metadata": {},
   "outputs": [],
   "source": []
  },
  {
   "cell_type": "code",
   "execution_count": 56,
   "metadata": {},
   "outputs": [
    {
     "name": "stdout",
     "output_type": "stream",
     "text": [
      "len( count16) 102\n",
      "{'O-O': 103, 'Nf3': 86, 'Nf6': 85, 'd4': 83, 'e4': 64, 'Nc3': 63, 'd5': 63, 'Nc6': 59, 'c5': 58, 'e6': 52, 'c4': 37, 'e5': 37, 'd6': 36, 'Be7': 33, 'a6': 27, 'g6': 24, 'e3': 23, 'Bg7': 21, 'c3': 20, 'c6': 19, 'd3': 18, 'Bg2': 17, 'Bd3': 17, 'Be3': 16, 'Bf4': 14, 'g3': 14, 'Nbd7': 13, 'Be2': 13, 'Bg5': 13, 'Bd7': 12, 'Bc4': 12, 'b3': 11, 'Nbd2': 11, 'a3': 10, 'h3': 10, 'b6': 10, 'Qc7': 9, 'Bb5': 9, 'Qd2': 9, 'Bb4': 9, 'Bg4': 8, 'Bb2': 8, 'Qb6': 8, 'Bd6': 8, 'Qc2': 7, 'Bb7': 7, 'b5': 7, 'Re1': 6, 'Nd2': 6, 'Bc5': 6, 'Be6': 6, 'Nb6': 6, 'Bb3': 5, 'f3': 5, 'b4': 5, 'Bf5': 5, 'O-O-O': 5, 'a4': 4, 'Nd5': 4, 'Qb3': 3, 'Ngf3': 3, 'h6': 3, 'a5': 3, 'f4': 3, 'Ngf6': 2, 'Re8': 2, 'Ne5': 2, 'Na5': 2, 'Ba4': 2, 'f5': 2, 'Nb3': 2, 'Qa5': 2, 'Nge7': 2, 'Nfd7': 2, 'Bf3': 2, 'Nb4': 2, 'Ba7': 2, 'Ne1': 2, 'Nge2': 2, 'Qd7': 2, 'Bd2': 2, 'Nd4': 1, 'Nh5': 1, 'Ng5': 1, 'Qe7': 1, 'Ne7': 1, 'Na6': 1, 'Ne2': 1, 'Ba5': 1, 'Rb1': 1, 'Nc5': 1, 'Ne4': 1, 'Qa4': 1, 'Qf3': 1, 'Bh7': 1, 'Na4': 1, 'h4': 1, 'Rc8': 1, 'Nb5': 1, 'Qg6': 1, 'Qd4': 1, 'Nde2': 1}\n"
     ]
    }
   ],
   "source": []
  },
  {
   "cell_type": "code",
   "execution_count": 57,
   "metadata": {},
   "outputs": [
    {
     "name": "stdout",
     "output_type": "stream",
     "text": [
      "Nd4\n",
      "Ne5\n",
      "Nh5\n",
      "Nb4\n",
      "Ba7\n",
      "Nc5\n",
      "Bh7\n",
      "Na4\n",
      "h4\n",
      "Rc8\n"
     ]
    }
   ],
   "source": [
    "for w in words_r:\n",
    "    if w not in words:\n",
    "        print( w)"
   ]
  }
 ],
 "metadata": {
  "kernelspec": {
   "display_name": "Python 3",
   "language": "python",
   "name": "python3"
  },
  "language_info": {
   "codemirror_mode": {
    "name": "ipython",
    "version": 3
   },
   "file_extension": ".py",
   "mimetype": "text/x-python",
   "name": "python",
   "nbconvert_exporter": "python",
   "pygments_lexer": "ipython3",
   "version": "3.8.2"
  }
 },
 "nbformat": 4,
 "nbformat_minor": 4
}
