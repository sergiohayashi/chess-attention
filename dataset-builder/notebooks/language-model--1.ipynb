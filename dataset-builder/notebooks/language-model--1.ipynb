{
 "cells": [
  {
   "cell_type": "code",
   "execution_count": 1,
   "metadata": {},
   "outputs": [],
   "source": [
    "import tensorflow as tf\n",
    "\n",
    "import numpy as np\n",
    "import os\n",
    "import time"
   ]
  },
  {
   "cell_type": "code",
   "execution_count": 2,
   "metadata": {},
   "outputs": [],
   "source": [
    "from glob import glob"
   ]
  },
  {
   "cell_type": "code",
   "execution_count": 20,
   "metadata": {},
   "outputs": [],
   "source": [
    "import matplotlib.pyplot as plt\n",
    "import matplotlib.ticker as ticker\n",
    "from sklearn.model_selection import train_test_split\n",
    "\n",
    "import unicodedata\n",
    "import re\n",
    "import io"
   ]
  },
  {
   "cell_type": "code",
   "execution_count": 7,
   "metadata": {},
   "outputs": [],
   "source": [
    "# read sequences\n",
    "files= glob( 'C:/mestrado/originais/datasets/score_sheet/aberto_carnaval/datasets/carnaval_fullpage/labels/*.pgn')"
   ]
  },
  {
   "cell_type": "code",
   "execution_count": 8,
   "metadata": {},
   "outputs": [
    {
     "data": {
      "text/plain": [
       "684"
      ]
     },
     "execution_count": 8,
     "metadata": {},
     "output_type": "execute_result"
    }
   ],
   "source": [
    "len( files)"
   ]
  },
  {
   "cell_type": "code",
   "execution_count": 11,
   "metadata": {},
   "outputs": [],
   "source": [
    "def read_label( path):\n",
    "  f= open( path)\n",
    "  d= f.read()\n",
    "  f.close()\n",
    "  return d "
   ]
  },
  {
   "cell_type": "code",
   "execution_count": 46,
   "metadata": {},
   "outputs": [],
   "source": [
    "labels= [read_label( f) for f in files]\n",
    "labels= [lab.split() for lab in labels]\n",
    "labels= [x[0:16] for x in labels]\n",
    "labels= [\" \".join( splitted) for splitted in labels]\n",
    "labels= ['<start> ' + label + ' <end>' for label in labels]\n"
   ]
  },
  {
   "cell_type": "code",
   "execution_count": 47,
   "metadata": {},
   "outputs": [
    {
     "data": {
      "text/plain": [
       "'<start> d4 Nf6 c4 g6 Nc3 Bg7 e4 d6 Be2 O-O Be3 Na6 Nf3 e5 O-O Ng4 <end>'"
      ]
     },
     "execution_count": 47,
     "metadata": {},
     "output_type": "execute_result"
    }
   ],
   "source": [
    "labels[0]"
   ]
  },
  {
   "cell_type": "code",
   "execution_count": 48,
   "metadata": {},
   "outputs": [],
   "source": [
    "tokenizer = tf.keras.preprocessing.text.Tokenizer(num_words=5000,\n",
    "                                                oov_token=\"<unk>\",\n",
    "                                                filters= ' ')\n",
    "                                                # filters='!\"#$%&()*+.,-/:;=?@[\\]^_`{|}~ ')\n",
    "\n",
    "#forca a usar sempre uma lista com todas as words com 1 ocorrecia de cada word\n",
    "tokenizer.fit_on_texts(labels)\n",
    "tokenizer.word_index['<pad>'] = 0\n",
    "tokenizer.index_word[0] = '<pad>'\n",
    "#tokenizer.fit_on_texts([\" \".join( _unique_labels)])\n"
   ]
  },
  {
   "cell_type": "code",
   "execution_count": 49,
   "metadata": {},
   "outputs": [
    {
     "data": {
      "text/plain": [
       "263"
      ]
     },
     "execution_count": 49,
     "metadata": {},
     "output_type": "execute_result"
    }
   ],
   "source": [
    "len( tokenizer.word_index)"
   ]
  },
  {
   "cell_type": "code",
   "execution_count": null,
   "metadata": {},
   "outputs": [],
   "source": [
    "# 3. Cria par deslocando uma casa\n",
    "def create_dataset(num_examples):\n",
    "  word_pairs = [[preprocess_sentence(w) for w in l.split('\\t')]  for l in labels[:num_examples]]\n",
    "\n",
    "  return zip(*word_pairs)"
   ]
  },
  {
   "cell_type": "code",
   "execution_count": 21,
   "metadata": {},
   "outputs": [
    {
     "name": "stdout",
     "output_type": "stream",
     "text": [
      "(('John', 'Jenny'), ('Charles', 'Christy'), ('Mike', 'Monica'))\n"
     ]
    }
   ],
   "source": [
    "a = (\"John\", \"Charles\", \"Mike\")\n",
    "b = (\"Jenny\", \"Christy\", \"Monica\", \"Vicky\")\n",
    "\n",
    "x = zip(a, b)\n",
    "\n",
    "#use the tuple() function to display a readable version of the result:\n",
    "\n",
    "print(tuple(x))"
   ]
  },
  {
   "cell_type": "code",
   "execution_count": 22,
   "metadata": {},
   "outputs": [
    {
     "name": "stdout",
     "output_type": "stream",
     "text": [
      "<zip object at 0x000001F94D6E41C0>\n"
     ]
    }
   ],
   "source": [
    "print( x)"
   ]
  },
  {
   "cell_type": "code",
   "execution_count": 24,
   "metadata": {},
   "outputs": [
    {
     "ename": "ValueError",
     "evalue": "not enough values to unpack (expected 2, got 0)",
     "output_type": "error",
     "traceback": [
      "\u001b[1;31m---------------------------------------------------------------------------\u001b[0m",
      "\u001b[1;31mValueError\u001b[0m                                Traceback (most recent call last)",
      "\u001b[1;32m<ipython-input-24-d91837a64cbe>\u001b[0m in \u001b[0;36m<module>\u001b[1;34m\u001b[0m\n\u001b[1;32m----> 1\u001b[1;33m \u001b[0mz\u001b[0m\u001b[1;33m,\u001b[0m \u001b[0mt\u001b[0m\u001b[1;33m=\u001b[0m \u001b[0mx\u001b[0m\u001b[1;33m\u001b[0m\u001b[1;33m\u001b[0m\u001b[0m\n\u001b[0m",
      "\u001b[1;31mValueError\u001b[0m: not enough values to unpack (expected 2, got 0)"
     ]
    }
   ],
   "source": [
    "z, t= x"
   ]
  },
  {
   "cell_type": "code",
   "execution_count": 25,
   "metadata": {},
   "outputs": [
    {
     "name": "stdout",
     "output_type": "stream",
     "text": [
      "Downloading data from http://storage.googleapis.com/download.tensorflow.org/data/spa-eng.zip\n",
      "2646016/2638744 [==============================] - 0s 0us/step\n"
     ]
    }
   ],
   "source": [
    "# Download the file\n",
    "path_to_zip = tf.keras.utils.get_file(\n",
    "    'spa-eng.zip', origin='http://storage.googleapis.com/download.tensorflow.org/data/spa-eng.zip',\n",
    "    extract=True)\n",
    "\n",
    "path_to_file = os.path.dirname(path_to_zip)+\"/spa-eng/spa.txt\""
   ]
  },
  {
   "cell_type": "code",
   "execution_count": 26,
   "metadata": {},
   "outputs": [],
   "source": [
    "# Converts the unicode file to ascii\n",
    "def unicode_to_ascii(s):\n",
    "  return ''.join(c for c in unicodedata.normalize('NFD', s)\n",
    "      if unicodedata.category(c) != 'Mn')\n",
    "\n",
    "\n",
    "def preprocess_sentence(w):\n",
    "  w = unicode_to_ascii(w.lower().strip())\n",
    "\n",
    "  # creating a space between a word and the punctuation following it\n",
    "  # eg: \"he is a boy.\" => \"he is a boy .\"\n",
    "  # Reference:- https://stackoverflow.com/questions/3645931/python-padding-punctuation-with-white-spaces-keeping-punctuation\n",
    "  w = re.sub(r\"([?.!,¿])\", r\" \\1 \", w)\n",
    "  w = re.sub(r'[\" \"]+', \" \", w)\n",
    "\n",
    "  # replacing everything with space except (a-z, A-Z, \".\", \"?\", \"!\", \",\")\n",
    "  w = re.sub(r\"[^a-zA-Z?.!,¿]+\", \" \", w)\n",
    "\n",
    "  w = w.strip()\n",
    "\n",
    "  # adding a start and an end token to the sentence\n",
    "  # so that the model know when to start and stop predicting.\n",
    "  w = '<start> ' + w + ' <end>'\n",
    "  return w"
   ]
  },
  {
   "cell_type": "code",
   "execution_count": 27,
   "metadata": {},
   "outputs": [
    {
     "name": "stdout",
     "output_type": "stream",
     "text": [
      "<start> may i borrow this book ? <end>\n",
      "b'<start> \\xc2\\xbf puedo tomar prestado este libro ? <end>'\n"
     ]
    }
   ],
   "source": [
    "en_sentence = u\"May I borrow this book?\"\n",
    "sp_sentence = u\"¿Puedo tomar prestado este libro?\"\n",
    "print(preprocess_sentence(en_sentence))\n",
    "print(preprocess_sentence(sp_sentence).encode('utf-8'))"
   ]
  },
  {
   "cell_type": "code",
   "execution_count": 28,
   "metadata": {},
   "outputs": [],
   "source": [
    "# 1. Remove the accents\n",
    "# 2. Clean the sentences\n",
    "# 3. Return word pairs in the format: [ENGLISH, SPANISH]\n",
    "def create_dataset(path, num_examples):\n",
    "  lines = io.open(path, encoding='UTF-8').read().strip().split('\\n')\n",
    "\n",
    "  word_pairs = [[preprocess_sentence(w) for w in l.split('\\t')]  for l in lines[:num_examples]]\n",
    "\n",
    "  return zip(*word_pairs)"
   ]
  },
  {
   "cell_type": "code",
   "execution_count": 29,
   "metadata": {},
   "outputs": [
    {
     "name": "stdout",
     "output_type": "stream",
     "text": [
      "<start> if you want to sound like a native speaker , you must be willing to practice saying the same sentence over and over in the same way that banjo players practice the same phrase over and over until they can play it correctly and at the desired tempo . <end>\n",
      "<start> si quieres sonar como un hablante nativo , debes estar dispuesto a practicar diciendo la misma frase una y otra vez de la misma manera en que un musico de banjo practica el mismo fraseo una y otra vez hasta que lo puedan tocar correctamente y en el tiempo esperado . <end>\n"
     ]
    }
   ],
   "source": [
    "en, sp = create_dataset(path_to_file, None)\n",
    "print(en[-1])\n",
    "print(sp[-1])"
   ]
  },
  {
   "cell_type": "code",
   "execution_count": 30,
   "metadata": {},
   "outputs": [
    {
     "name": "stdout",
     "output_type": "stream",
     "text": [
      "C:\\Users\\hayashi\\.keras\\datasets/spa-eng/spa.txt\n"
     ]
    }
   ],
   "source": [
    "print( path_to_file)"
   ]
  },
  {
   "cell_type": "code",
   "execution_count": 36,
   "metadata": {},
   "outputs": [],
   "source": [
    "x= [[1, 2], [3,4], [5, 6]]"
   ]
  },
  {
   "cell_type": "code",
   "execution_count": 39,
   "metadata": {},
   "outputs": [],
   "source": [
    "a, b= zip([1, 2], [3,4], [5, 6])"
   ]
  },
  {
   "cell_type": "code",
   "execution_count": 50,
   "metadata": {},
   "outputs": [
    {
     "data": {
      "text/plain": [
       "['<start> d4 Nf6 c4 g6 Nc3 Bg7 e4 d6 Be2 O-O Be3 Na6 Nf3 e5 O-O Ng4 <end>',\n",
       " '<start> e4 c5 Nf3 e6 d4 cxd4 Nxd4 Nf6 Nc3 d6 Bb5+ Nbd7 O-O Be7 Be3 O-O <end>',\n",
       " '<start> e4 e5 Nf3 Nc6 Bc4 Nf6 Ng5 d5 exd5 Na5 Bb5+ c6 dxc6 bxc6 Bd3 Nd5 <end>',\n",
       " '<start> e4 c5 Nf3 e6 d4 cxd4 Nxd4 a6 c4 Qc7 Nc3 Nf6 Be3 Bb4 Qd2 Nxe4 <end>',\n",
       " '<start> d4 c6 Nf3 d5 c3 Nf6 Bf4 g6 e3 Bg7 Nbd2 O-O Bd3 Nbd7 Ne5 Nh5 <end>',\n",
       " '<start> e4 c5 Nf3 d6 d4 cxd4 Nxd4 Nf6 Nc3 g6 f4 Nc6 Bb5 Bd7 Be3 Bg7 <end>',\n",
       " '<start> c4 e5 Nc3 Nf6 g3 c5 e3 Nc6 Nge2 Bd6 Bg2 b6 O-O Bb7 d4 exd4 <end>',\n",
       " '<start> e4 e5 d4 exd4 Qxd4 Nc6 Qe3 d6 Nc3 g6 Bd2 Bg7 O-O-O Be6 f3 Qd7 <end>',\n",
       " '<start> f4 d5 Nf3 Nf6 e3 g6 Be2 Bg7 O-O O-O Qe1 c5 d3 Nc6 Qh4 Bg4 <end>',\n",
       " '<start> c4 c6 Nf3 d5 d4 Nf6 g3 Bf5 Nc3 e6 Nh4 Be4 f3 Bg6 Qb3 Qb6 <end>',\n",
       " '<start> e4 e5 Nf3 Nc6 Bb5 g6 Bxc6 dxc6 O-O Bg7 d3 Nf6 Nc3 Bg4 Be3 b6 <end>',\n",
       " '<start> Nf3 Nf6 g3 d5 c4 e6 b3 Be7 Bb2 O-O Bg2 Nbd7 O-O c6 d3 Re8 <end>',\n",
       " '<start> e4 e5 Nf3 Nc6 d4 exd4 c3 d3 Bxd3 Bc5 Bc4 d6 O-O Nf6 b4 Bb6 <end>',\n",
       " '<start> d4 c6 c4 d5 Nf3 Nf6 Bf4 Bf5 e3 e6 Nc3 Bb4 Qb3 Bxc3+ Qxc3 Ne4 <end>',\n",
       " '<start> e4 c5 Nf3 d6 Bb5+ Bd7 Bxd7+ Nxd7 O-O Ngf6 Re1 e5 c3 Be7 d3 O-O <end>',\n",
       " '<start> Nf3 d5 b3 Bg4 Ne5 Bh5 Bb2 Nd7 g3 e6 Bg2 Ngf6 O-O Bd6 Nxd7 Qxd7 <end>',\n",
       " '<start> e4 e5 Nf3 Nc6 Bc4 Be7 O-O Nf6 Nc3 O-O a3 d6 d3 Bg4 Be3 Nd4 <end>',\n",
       " '<start> e4 d6 d4 e6 Nd2 Nc6 Ngf3 Nf6 Bd3 Ng4 O-O Qf6 h3 Nh6 c3 Ne7 <end>',\n",
       " '<start> e4 e5 Nf3 Nc6 Bc4 Bc5 c3 Nf6 d3 d6 Be3 Bb6 O-O O-O Re1 Be6 <end>',\n",
       " '<start> e4 e5 Nf3 Nc6 d4 exd4 c3 d3 Bxd3 Bc5 Bc4 d6 O-O Nf6 b4 Bb6 <end>',\n",
       " '<start> e4 c5 Nf3 Nc6 Nc3 e5 Bc4 Be7 Nd5 Nf6 d3 h6 a3 O-O h3 d6 <end>',\n",
       " '<start> e4 e5 Nf3 Nc6 Bb5 g6 Bxc6 dxc6 O-O Bg7 d3 Nf6 Nc3 Bg4 Be3 b6 <end>',\n",
       " '<start> Nf3 Nf6 g3 d5 c4 e6 b3 Be7 Bb2 O-O Bg2 Nbd7 O-O c6 d3 Re8 <end>',\n",
       " '<start> c4 c6 Nf3 d5 d4 Nf6 g3 Bf5 Nc3 e6 Nh4 Be4 f3 Bg6 Qb3 Qb6 <end>',\n",
       " '<start> e4 c5 Nf3 Nc6 d4 cxd4 Nxd4 g6 Nc3 Bg7 Be3 Nf6 Bc4 O-O Bb3 d6 <end>',\n",
       " '<start> e4 c6 d3 d5 Nd2 dxe4 dxe4 e5 Ngf3 Bg4 Be2 Nd7 b3 Ngf6 Bb2 Bc5 <end>',\n",
       " '<start> d4 d5 Bf4 Nf6 Nf3 Bf5 h3 e6 e3 c5 c3 Qb6 Qb3 Nbd7 Nbd2 Be7 <end>',\n",
       " '<start> d4 Nf6 Bf4 e6 e3 b6 Nd2 Bb7 Ngf3 c5 c3 Be7 Bd3 d5 O-O c4 <end>',\n",
       " '<start> c4 c5 Nc3 Nc6 g3 g6 Bg2 Bg7 Nf3 d6 O-O e5 d3 Nge7 Rb1 O-O <end>',\n",
       " '<start> d4 c6 Nf3 d5 c3 Nf6 Bf4 g6 e3 Bg7 Nbd2 O-O Bd3 Nbd7 Ne5 Nh5 <end>',\n",
       " '<start> e4 c5 Nf3 e6 d4 cxd4 Nxd4 a6 c4 Qc7 Nc3 Nf6 Be3 Bb4 Qd2 Nxe4 <end>',\n",
       " '<start> d4 d5 Bf4 Nf6 e3 c5 c3 Qb6 Qb3 c4 Qc2 g6 Nd2 Nc6 e4 e6 <end>',\n",
       " '<start> e4 e5 Nf3 d6 Nc3 Nc6 Bc4 Be7 h3 Nf6 d4 exd4 Nxd4 Nxd4 Qxd4 O-O <end>',\n",
       " '<start> Nf3 f5 b3 Nf6 Bb2 e6 e3 d5 c4 c6 Be2 Bd6 O-O Qe7 d4 O-O <end>',\n",
       " '<start> c4 c5 Nc3 Nc6 g3 g6 Bg2 Bg7 Nf3 e5 d3 Nge7 O-O d6 Bd2 O-O <end>',\n",
       " '<start> e4 c5 Nc3 Nc6 Nf3 d6 g3 g6 Bg2 Bg7 O-O Nf6 d4 cxd4 Nxd4 O-O <end>',\n",
       " '<start> g3 d5 Bg2 Nf6 c4 c6 Nf3 dxc4 Qc2 b5 a4 Bb7 b3 cxb3 Qxb3 a6 <end>',\n",
       " '<start> e4 e5 Nf3 Nc6 Bc4 Nf6 Ng5 d5 exd5 Na5 Bb5+ c6 dxc6 bxc6 Bd3 Nd5 <end>',\n",
       " '<start> c4 c5 Nc3 Nc6 g3 g6 Bg2 Bg7 Nf3 d6 O-O e5 d3 Nge7 Rb1 O-O <end>',\n",
       " '<start> e4 c5 Nf3 g6 d4 cxd4 Nxd4 Nc6 f4 Bg7 Nf3 d6 Bd3 Nf6 O-O O-O <end>',\n",
       " '<start> Nf3 d5 b3 Nf6 Bb2 e6 e3 Be7 c4 c5 cxd5 exd5 d4 O-O Nbd2 b6 <end>',\n",
       " '<start> Nf3 Nf6 g3 d5 Bg2 g6 d3 Bg7 O-O O-O Nc3 d4 Ne4 Nxe4 dxe4 c5 <end>',\n",
       " '<start> d4 Nf6 Bf4 g6 e3 Bg7 Qd3 O-O Qc3 Nd5 Bxc7 Qxc7 Qd2 Nc6 e4 Nb6 <end>',\n",
       " '<start> c4 e5 Nc3 Nf6 g3 c5 e3 Nc6 Nge2 Bd6 Bg2 b6 O-O Bb7 d4 exd4 <end>',\n",
       " '<start> e4 c5 Nc3 Nc6 Bb5 g6 Bxc6 dxc6 f4 Bg7 Nf3 Nf6 O-O O-O d3 b6 <end>',\n",
       " '<start> e4 e6 d4 d5 Nd2 Bb4 c3 Ba5 Bd3 Nf6 e5 Nfd7 Ngf3 c5 O-O Nc6 <end>',\n",
       " '<start> e4 c5 Nf3 Nc6 d4 cxd4 Nxd4 e6 Be2 Bc5 Be3 Qb6 c3 Bxd4 Bxd4 Nxd4 <end>',\n",
       " '<start> e4 c5 c3 Nf6 e5 Nd5 Bc4 e6 d4 cxd4 cxd4 Nb6 Bb3 d6 Nf3 dxe5 <end>',\n",
       " '<start> e4 c5 Nf3 Nc6 Bb5 g6 O-O Bg7 Bxc6 dxc6 h3 Nf6 d3 Nd7 c3 e5 <end>',\n",
       " '<start> d4 Nf6 c4 e6 Nf3 d5 cxd5 exd5 Bg5 c6 Nc3 Be7 Bxf6 Bxf6 e3 O-O <end>',\n",
       " '<start> e4 c6 Nf3 d5 e5 Bg4 d4 e6 Bd3 c5 c3 Nc6 Be3 Qb6 Nbd2 Qxb2 <end>',\n",
       " '<start> e4 e5 Nf3 Nc6 Bc4 Be7 O-O Nf6 Nc3 O-O a3 d6 d3 Bg4 Be3 Nd4 <end>',\n",
       " '<start> Nf3 Nf6 g3 d5 Bg2 e6 O-O Be7 d3 O-O Nbd2 Nbd7 e4 dxe4 dxe4 e5 <end>',\n",
       " '<start> e4 e5 Nf3 Nc6 Bc4 Nf6 d3 Bc5 c3 d6 Bb3 h6 Nbd2 O-O h3 Be6 <end>',\n",
       " '<start> Nf3 Nf6 g3 d5 Bg2 e6 O-O Be7 d3 O-O Nbd2 Nbd7 e4 dxe4 dxe4 e5 <end>',\n",
       " '<start> e4 e6 d4 d5 Nc3 Nf6 exd5 exd5 Bd3 Be7 Bf4 c6 h3 h6 Qf3 Be6 <end>',\n",
       " '<start> c4 e6 Nc3 Nf6 g3 d5 cxd5 exd5 Bg2 Be6 d3 Nc6 Nf3 Qd7 O-O Bh3 <end>',\n",
       " '<start> e4 e5 Nf3 Nc6 Bb5 a6 Ba4 Nf6 O-O b5 Bb3 Be7 Re1 O-O c3 d5 <end>',\n",
       " '<start> d4 Nf6 c4 e6 Nf3 d5 cxd5 exd5 Bg5 c6 Nc3 Be7 Bxf6 Bxf6 e3 O-O <end>',\n",
       " '<start> e4 c5 c3 Nf6 e5 Nd5 Bc4 e6 d4 cxd4 cxd4 Nb6 Bb3 d6 Nf3 dxe5 <end>',\n",
       " '<start> e4 c5 Nf3 Nc6 Bb5 g6 O-O Bg7 Bxc6 dxc6 h3 Nf6 d3 Nd7 c3 e5 <end>',\n",
       " '<start> e4 c5 f4 Nc6 Nf3 e6 Be2 Nf6 d3 d5 e5 Nd7 O-O f6 exf6 Nxf6 <end>',\n",
       " '<start> d4 d5 c4 Nf6 Nc3 Nc6 Bf4 a6 Nf3 Bg4 e3 e6 Bd3 Nh5 cxd5 Nxf4 <end>',\n",
       " '<start> e4 c6 d3 d5 Nd2 dxe4 dxe4 e5 Ngf3 Bg4 Be2 Nd7 b3 Ngf6 Bb2 Bc5 <end>',\n",
       " '<start> d4 d5 c4 e6 Nc3 c6 cxd5 exd5 Nf3 Nf6 Bg5 Bd6 e3 Bg4 h3 Bxf3 <end>',\n",
       " '<start> Nf3 Nf6 g3 d5 Bg2 g6 d3 Bg7 O-O O-O Nc3 d4 Ne4 Nxe4 dxe4 c5 <end>',\n",
       " '<start> d4 Nf6 Nf3 g6 Bf4 Bg7 h3 O-O e3 d5 Be2 c5 c3 b6 O-O Bb7 <end>',\n",
       " '<start> e4 c5 Nf3 g6 d4 cxd4 Nxd4 Nc6 f4 Bg7 Nf3 d6 Bd3 Nf6 O-O O-O <end>',\n",
       " '<start> e4 c5 Nf3 d6 d4 cxd4 Nxd4 Nf6 Nc3 a6 Qf3 g6 h3 Bg7 Be3 Bd7 <end>',\n",
       " '<start> d4 Nf6 Nf3 g6 Bf4 Bg7 Nc3 d6 e4 O-O h3 Nfd7 Qd2 e5 Bg5 Qe8 <end>',\n",
       " '<start> d4 d5 Bf4 Nf6 e3 c5 c3 Qb6 Qb3 c4 Qc2 g6 Nd2 Nc6 e4 e6 <end>',\n",
       " '<start> g3 d5 Bg2 Nf6 c4 c6 Nf3 dxc4 Qc2 b5 a4 Bb7 b3 cxb3 Qxb3 a6 <end>',\n",
       " '<start> Nf3 f5 b3 Nf6 Bb2 e6 e3 d5 c4 c6 Be2 Bd6 O-O Qe7 d4 O-O <end>',\n",
       " '<start> e4 c5 Nf3 d6 d4 cxd4 Nxd4 Nf6 Nc3 g6 Be3 Bg7 f3 Nc6 Qd2 O-O <end>',\n",
       " '<start> e4 d6 d4 Nf6 Nc3 e5 Nf3 Nbd7 Bc4 Be7 O-O c6 a4 b6 Qe2 a6 <end>',\n",
       " '<start> e4 e5 Nf3 Nc6 Bc4 Bc5 b4 Bxb4 c3 Be7 d4 d6 Be3 Nf6 Nbd2 O-O <end>',\n",
       " '<start> c4 Nf6 Nc3 g6 g3 Bg7 Bg2 O-O e4 d6 Nge2 c5 O-O Nc6 d3 Bd7 <end>',\n",
       " '<start> Nf3 c5 c4 Nc6 d4 cxd4 Nxd4 g6 e4 Bg7 Be3 Nf6 Nc3 d6 Be2 O-O <end>',\n",
       " '<start> d3 g6 Nf3 Bg7 g3 d6 Bg2 Nf6 O-O O-O Nbd2 Nc6 e4 e5 Nc4 h6 <end>',\n",
       " '<start> e4 c5 Nf3 Nc6 d4 cxd4 Nxd4 Nf6 Nc3 e5 Nb3 Bb4 Bd3 d5 exd5 Nxd5 <end>',\n",
       " '<start> e4 c5 c3 Nf6 e5 Nd5 Nf3 e6 d4 cxd4 cxd4 Nc6 Bb5 Qa5+ Nc3 Nxc3 <end>',\n",
       " '<start> d4 Nf6 Bf4 g6 e3 Bg7 Qd3 O-O Qc3 Nd5 Bxc7 Qxc7 Qd2 Nc6 e4 Nb6 <end>',\n",
       " '<start> e4 e6 d4 d5 Nc3 Bb4 e5 c5 a3 Bxc3+ bxc3 Ne7 Bb5+ Bd7 a4 Qa5 <end>',\n",
       " '<start> e4 c5 Nf3 d6 d4 cxd4 Nxd4 Nf6 Nc3 a6 h3 e5 Nde2 h5 Bg5 Be6 <end>',\n",
       " '<start> e4 Nf6 Bd3 e5 c3 d5 Qe2 Nc6 exd5 Qxd5 f3 Be6 Bc2 Qc5 d3 Nd5 <end>',\n",
       " '<start> e4 c5 Nf3 d6 d4 cxd4 Nxd4 Nf6 Nc3 a6 Bg5 e6 f3 Be7 Qd2 O-O <end>',\n",
       " '<start> e4 e6 d4 d5 Nd2 dxe4 Nxe4 Nd7 Nf3 Ngf6 Ng3 c5 Bd3 b6 O-O Bb7 <end>',\n",
       " '<start> c4 Nf6 Nf3 g6 b3 Bg7 Bb2 O-O g3 b6 Bg2 Bb7 O-O c5 d3 d5 <end>',\n",
       " '<start> e4 e5 Nf3 Nc6 Bb5 a6 Ba4 Nf6 O-O b5 Bb3 Be7 Re1 O-O c3 d5 <end>',\n",
       " '<start> e4 d5 exd5 Qxd5 Nc3 Qd6 d4 Nf6 Nf3 a6 Bc4 b5 Bb3 Bb7 O-O e6 <end>',\n",
       " '<start> e4 c5 Nf3 g6 d4 cxd4 Qxd4 Nf6 Bb5 Nc6 Bxc6 dxc6 Qxd8+ Kxd8 Nc3 Bg7 <end>',\n",
       " '<start> Nf3 Nf6 b3 g6 Bb2 Bg7 e3 c5 c4 Nc6 d4 cxd4 Nxd4 O-O Be2 Nxd4 <end>',\n",
       " '<start> e4 e5 Nf3 Nc6 Bb5 a6 Bxc6 dxc6 O-O Bd6 d3 Ne7 Be3 O-O c3 Ng6 <end>',\n",
       " '<start> c4 Nf6 Nf3 g6 b3 Bg7 Bb2 O-O g3 b6 Bg2 Bb7 O-O c5 d3 d5 <end>',\n",
       " '<start> e4 e6 d4 d5 Nd2 dxe4 Nxe4 Nd7 Nf3 Ngf6 Ng3 c5 Bd3 b6 O-O Bb7 <end>',\n",
       " '<start> e4 c5 Nf3 d6 d4 cxd4 Nxd4 Nf6 Nc3 a6 Bg5 e6 f3 Be7 Qd2 O-O <end>',\n",
       " '<start> e4 Nf6 Bd3 e5 c3 d5 Qe2 Nc6 exd5 Qxd5 f3 Be6 Bc2 Qc5 d3 Nd5 <end>',\n",
       " '<start> e4 e6 d4 d5 Nc3 Bb4 e5 c5 a3 Bxc3+ bxc3 Ne7 Bb5+ Bd7 a4 Qa5 <end>',\n",
       " '<start> e4 c5 Nf3 d6 d4 cxd4 Nxd4 Nf6 Nc3 a6 Bg5 e6 Bd3 Be7 O-O b5 <end>',\n",
       " '<start> e4 c5 Nf3 d6 c3 g6 d4 cxd4 cxd4 Bg7 h3 a6 Nc3 Nc6 Be2 Nf6 <end>',\n",
       " '<start> d4 Nf6 c4 g6 Nf3 Bg7 Nc3 d6 b3 c6 Bb2 O-O e3 Nbd7 Be2 a6 <end>',\n",
       " '<start> e4 c6 d4 d5 Nc3 dxe4 Nxe4 Nf6 Nxf6+ gxf6 Be3 Bf5 Bd3 e6 Bxf5 Qa5+ <end>',\n",
       " '<start> d3 g6 Nf3 Bg7 g3 d6 Bg2 Nf6 O-O O-O Nbd2 Nc6 e4 e5 Nc4 h6 <end>',\n",
       " '<start> e4 c5 Nf3 e6 d3 Nc6 g3 Nf6 Bg2 d5 Qe2 Be7 O-O O-O e5 Nd7 <end>',\n",
       " '<start> e4 c5 Nf3 d6 d4 cxd4 Nxd4 Nf6 Nc3 a6 Be2 e5 Nb3 Be7 Bg5 Be6 <end>',\n",
       " '<start> e4 c5 Nf3 e6 d4 cxd4 Nxd4 Nf6 Nc3 d6 Bb5+ Nbd7 O-O Be7 Be3 O-O <end>',\n",
       " '<start> e4 d6 d4 Nf6 Nc3 e5 Nf3 Nbd7 Bc4 Be7 O-O c6 a4 b6 Qe2 a6 <end>',\n",
       " '<start> d4 d5 c4 c6 Nf3 Nf6 Qc2 g6 e3 Bg7 Nc3 O-O Bd3 Be6 b3 Na6 <end>',\n",
       " '<start> d4 d5 c4 c6 Nf3 Nf6 Qc2 g6 e3 Bg7 Nc3 O-O Bd3 Be6 b3 Na6 <end>',\n",
       " '<start> c4 Nf6 g3 c5 Bg2 Nc6 Nf3 d5 cxd5 Nxd5 Nc3 g6 O-O Bg7 Qb3 Nxc3 <end>',\n",
       " '<start> c4 Nf6 Nc3 g6 g3 Bg7 Bg2 O-O e4 d6 Nge2 c5 O-O Nc6 d3 Bd7 <end>',\n",
       " '<start> e4 e5 Nf3 Nc6 Bc4 Bc5 b4 Bxb4 c3 Be7 d4 d6 Be3 Nf6 Nbd2 O-O <end>',\n",
       " '<start> d4 Nf6 c4 g6 Nc3 d5 Nf3 Bg7 Qb3 dxc4 Qxc4 a6 Bf4 b5 Qxc7 Qxc7 <end>',\n",
       " '<start> d4 Nf6 c4 e6 Nc3 Bb4 e3 O-O a3 Bxc3+ bxc3 c5 Bd3 Nc6 Ne2 d6 <end>',\n",
       " '<start> e4 c5 Nf3 Nc6 Bb5 e5 O-O Bd6 a4 Nge7 Nc3 a6 Bc4 Nd4 d3 Ne6 <end>',\n",
       " '<start> e4 e5 Nf3 Nc6 Bc4 Bc5 c3 Nf6 d3 d6 Be3 Bb6 O-O O-O Re1 Be6 <end>',\n",
       " '<start> e4 e6 d4 d5 Nd2 Nf6 e5 Nfd7 Bd3 c5 c3 Nc6 Ne2 cxd4 cxd4 Qb6 <end>',\n",
       " '<start> e4 c5 Nc3 Nc6 Bb5 g6 Bxc6 dxc6 f4 Bg7 Nf3 Nf6 O-O O-O d3 b6 <end>',\n",
       " '<start> e4 c5 c3 Nf6 e5 Nd5 Nf3 e6 d4 cxd4 cxd4 Nc6 Bb5 Qa5+ Nc3 Nxc3 <end>',\n",
       " '<start> e4 c5 Nf3 Nc6 d4 cxd4 Nxd4 Nf6 Nc3 e5 Nb3 Bb4 Bd3 d5 exd5 Nxd5 <end>',\n",
       " '<start> Nf3 Nf6 c4 d5 g3 Bf5 Bg2 Nc6 cxd5 Nxd5 O-O Ndb4 d3 e6 Nc3 Be7 <end>',\n",
       " '<start> e4 c5 Nf3 e6 d4 cxd4 Nxd4 Nf6 Nc3 d6 Bg5 Nbd7 Qd2 a6 O-O-O Qc7 <end>',\n",
       " '<start> e4 d6 Nf3 Nf6 Nc3 g6 Bc4 Bg7 Bb3 O-O O-O c5 d4 cxd4 Nxd4 Nc6 <end>',\n",
       " '<start> d4 d5 Bf4 Nf6 e3 Bg4 Nf3 e6 Bd3 Bd6 Bxd6 Qxd6 c3 O-O Nbd2 c5 <end>',\n",
       " '<start> e4 c5 Nf3 d6 d4 cxd4 Nxd4 Nf6 Nc3 a6 Be3 h6 f3 e6 Qd2 Be7 <end>',\n",
       " '<start> e4 c5 Nf3 Nc6 d4 cxd4 Nxd4 Nf6 Nc3 e5 Ndb5 d6 Nd5 Nxd5 exd5 Nb8 <end>',\n",
       " '<start> d4 Nf6 Bf4 e6 Nf3 c5 c3 Qb6 Qc2 Nc6 e3 d5 Be2 Bd7 h3 Rc8 <end>',\n",
       " '<start> d4 Nf6 Nf3 g6 c4 Bg7 g3 d6 Bg2 O-O O-O c6 Nc3 Na6 e4 Bg4 <end>',\n",
       " '<start> Nf3 d5 b3 Bg4 Ne5 Bh5 Bb2 Nd7 g3 e6 Bg2 Ngf6 O-O Bd6 Nxd7 Qxd7 <end>',\n",
       " '<start> e4 c5 Nc3 a6 f4 b5 Nf3 Bb7 d3 d5 exd5 Nf6 Ne4 Qxd5 Nxf6+ gxf6 <end>',\n",
       " '<start> e4 c5 Nf3 Nc6 d4 cxd4 Nxd4 e6 Nb5 d6 c4 Nf6 N1c3 a6 Na3 Be7 <end>',\n",
       " '<start> e4 c5 Nc3 Nc6 g3 g6 Bg2 Bg7 d3 d6 Be3 Rb8 a4 a6 Qd2 b5 <end>',\n",
       " '<start> Nf3 Nf6 g3 d5 Bg2 Bg4 c4 Bxf3 Bxf3 c6 d4 e6 O-O Be7 Nc3 O-O <end>',\n",
       " '<start> e4 c5 Nc3 a6 f4 b5 Nf3 Bb7 d3 d5 exd5 Nf6 Ne4 Qxd5 Nxf6+ gxf6 <end>',\n",
       " '<start> e4 e5 Nf3 Nc6 Bc4 Nf6 d3 Bc5 c3 d6 Bb3 h6 Nbd2 O-O h3 Be6 <end>',\n",
       " '<start> d4 f5 g4 e6 gxf5 exf5 Bg2 d5 Nc3 c6 Bf4 Nf6 Qd3 Be7 O-O-O b5 <end>',\n",
       " '<start> e4 e5 Nf3 Nc6 Bb5 a6 Ba4 d6 h3 Bd7 O-O g5 d4 g4 d5 Nce7 <end>',\n",
       " '<start> e4 c5 Nf3 d6 d4 cxd4 Nxd4 Nf6 Nc3 a6 Be3 h6 f3 e6 Qd2 Be7 <end>',\n",
       " '<start> e4 c5 Nf3 d6 d4 cxd4 Nxd4 Nf6 Nc3 a6 h3 e5 Nde2 h5 Bg5 Be6 <end>',\n",
       " '<start> e4 d6 Nf3 Nf6 Nc3 g6 Bc4 Bg7 Bb3 O-O O-O c5 d4 cxd4 Nxd4 Nc6 <end>',\n",
       " '<start> d4 d5 Bf4 Nf6 e3 Bg4 Nf3 e6 Bd3 Bd6 Bxd6 Qxd6 c3 O-O Nbd2 c5 <end>',\n",
       " '<start> e4 e5 Nf3 f5 Bd3 fxe4 Bxe4 d5 Bd3 e4 Bb5+ c6 Ne5 Qg5 Nf7 Qxg2 <end>',\n",
       " '<start> d4 Nf6 c4 g6 Nf3 Bg7 Nc3 d6 b3 c6 Bb2 O-O e3 Nbd7 Be2 a6 <end>',\n",
       " '<start> c4 Nf6 g3 g6 Bg2 Bg7 Nc3 O-O Nf3 d6 O-O Nc6 b3 e5 d3 a6 <end>',\n",
       " '<start> e4 e6 d4 d5 Nd2 Bb4 c3 Ba5 Bd3 Nf6 e5 Nfd7 Ngf3 c5 O-O Nc6 <end>',\n",
       " '<start> e4 c5 Nf3 d6 d4 cxd4 Nxd4 Nf6 Nc3 Nbd7 Be2 a6 O-O e6 Bf3 Be7 <end>',\n",
       " '<start> e4 c5 Nf3 Nc6 Bb5 e5 O-O Bd6 a4 Nge7 Nc3 a6 Bc4 Nd4 d3 Ne6 <end>',\n",
       " '<start> d4 Nf6 c4 e6 Nc3 Bb4 e3 O-O a3 Bxc3+ bxc3 c5 Bd3 Nc6 Ne2 d6 <end>',\n",
       " '<start> e4 c5 Nc3 Nc6 Nf3 d6 g3 g6 Bg2 Bg7 O-O Nf6 d4 cxd4 Nxd4 O-O <end>',\n",
       " '<start> d4 Nf6 c4 g6 Nc3 d5 Nf3 Bg7 Qb3 dxc4 Qxc4 a6 Bf4 b5 Qxc7 Qxc7 <end>',\n",
       " '<start> c4 Nf6 g3 c5 Bg2 Nc6 Nf3 d5 cxd5 Nxd5 Nc3 g6 O-O Bg7 Qb3 Nxc3 <end>',\n",
       " '<start> Nf3 Nf6 g3 g6 Bg2 Bg7 O-O O-O d4 d5 c4 c6 b3 e6 Bb2 Nbd7 <end>',\n",
       " '<start> e4 c5 c3 d6 d4 cxd4 cxd4 Nf6 Bd3 g6 Ne2 Bg7 O-O O-O Nbc3 Nc6 <end>',\n",
       " '<start> c4 d6 g3 Nf6 Bg2 Nc6 Nc3 Bf5 Nf3 Nb4 Qa4+ Nc6 d4 e6 d5 exd5 <end>',\n",
       " '<start> c4 c5 Nc3 d6 g3 Nf6 Bg2 g6 e4 Bg7 Nge2 O-O d3 Nc6 O-O e5 <end>',\n",
       " '<start> Nf3 d5 c4 c6 g3 Nf6 Bg2 g6 b3 Bg7 Bb2 O-O O-O Re8 d4 Nbd7 <end>',\n",
       " '<start> e4 e5 Nf3 Nc6 Bc4 Bc5 c3 Nf6 d3 d6 O-O O-O h3 Be6 Bb5 Ne7 <end>',\n",
       " '<start> e4 c5 Nf3 Nc6 d4 cxd4 Nxd4 e6 Nc3 a6 Nxc6 bxc6 Bd3 d5 O-O Nf6 <end>',\n",
       " '<start> e4 e6 d4 d5 Nd2 Nf6 e5 Nfd7 Bd3 c5 c3 Nc6 Ne2 Qb6 O-O cxd4 <end>',\n",
       " '<start> d4 Nf6 c4 d6 Nc3 Nbd7 e4 e5 d5 a5 Be2 Nc5 f3 Be7 Be3 b6 <end>',\n",
       " '<start> e4 c5 Nf3 d6 d4 cxd4 Nxd4 Nf6 Nc3 a6 Bc4 e6 O-O Be7 f4 O-O <end>',\n",
       " '<start> e4 e5 Nf3 Nc6 Bb5 a6 Ba4 Nf6 O-O Be7 Re1 b5 Bb3 O-O c3 d5 <end>',\n",
       " '<start> e4 e5 Nf3 Nc6 Bc4 Nf6 d3 Bc5 O-O a6 Bb3 d6 c3 Ba7 Re1 h6 <end>',\n",
       " '<start> d4 e6 c4 f5 Nc3 Nf6 Bg5 c6 e3 d5 Nf3 Bd6 Bd3 O-O O-O Qe8 <end>',\n",
       " '<start> Nf3 Nf6 c4 e6 g3 b6 Bg2 Bb7 O-O Be7 Nc3 O-O b3 Ne4 Nxe4 Bxe4 <end>',\n",
       " '<start> d4 Nf6 c4 c5 Nf3 g6 Bg5 Bg7 e3 O-O Nc3 Qa5 Qc2 Nc6 Be2 h6 <end>',\n",
       " '<start> g3 Nf6 Bg2 g6 c4 Bg7 Nc3 c5 Nf3 O-O O-O Nc6 d3 e5 Rb1 d5 <end>',\n",
       " '<start> e4 e6 d4 d5 Nc3 Bb4 e5 c5 a3 Bxc3+ bxc3 Qc7 Qg4 f5 Qh5+ g6 <end>',\n",
       " '<start> e4 e6 d4 d5 Nc3 c5 e5 Qb6 Nf3 Bd7 Rb1 Nc6 Be3 Nge7 dxc5 Qa5 <end>',\n",
       " '<start> d4 Nf6 c4 e6 Nc3 d5 cxd5 exd5 Bg5 Be7 e3 O-O Bd3 c6 Qc2 Nbd7 <end>',\n",
       " '<start> e4 c5 Nf3 d6 d4 cxd4 Nxd4 Nf6 Nc3 a6 Bg5 e6 Qd2 Be7 O-O-O Nbd7 <end>',\n",
       " '<start> d4 Nf6 c4 e6 Nc3 d5 cxd5 exd5 Bg5 Be7 e3 O-O Bd3 c6 Qc2 Nbd7 <end>',\n",
       " '<start> e4 e6 d4 d5 Nc3 Bb4 e5 c5 a3 Bxc3+ bxc3 Qc7 Qg4 f5 Qh5+ g6 <end>',\n",
       " '<start> e4 e6 d4 d5 Nc3 c5 e5 Qb6 Nf3 Bd7 Rb1 Nc6 Be3 Nge7 dxc5 Qa5 <end>',\n",
       " '<start> d4 Nf6 c4 c5 Nf3 g6 Bg5 Bg7 e3 O-O Nc3 Qa5 Qc2 Nc6 Be2 h6 <end>',\n",
       " '<start> e4 c5 Nc3 Nc6 f4 g6 Nf3 Bg7 Bb5 e6 O-O Nge7 Qe1 a6 Bxc6 Nxc6 <end>',\n",
       " '<start> Nf3 d5 g3 Nf6 Bg2 c6 d3 h6 Nbd2 Bf5 O-O e6 b3 Bh7 Bb2 Be7 <end>',\n",
       " '<start> e4 c5 Nf3 d6 c3 Nf6 g3 Bd7 d3 Nc6 Bg2 g6 O-O Bg7 Re1 O-O <end>',\n",
       " '<start> d4 d5 Nf3 Nf6 g3 e6 c4 g6 Bg2 Bg7 Nc3 O-O O-O Nbd7 Bg5 b6 <end>',\n",
       " '<start> d4 Nf6 Nf3 g6 c4 Bg7 Nc3 d6 e4 O-O Be2 Na6 O-O e5 h3 Qe8 <end>',\n",
       " '<start> e4 c5 Nf3 d6 d4 cxd4 Nxd4 Nf6 Nc3 a6 Bc4 e6 O-O Be7 f4 O-O <end>',\n",
       " '<start> d4 Nf6 c4 d6 Nc3 Nbd7 e4 e5 d5 a5 Be2 Nc5 f3 Be7 Be3 b6 <end>',\n",
       " '<start> e4 c5 Nf3 a6 a4 Nc6 c3 Nf6 Qc2 g6 Be2 Bg7 O-O O-O d3 d5 <end>',\n",
       " '<start> e4 c5 Nf3 d6 d4 cxd4 Nxd4 Nf6 Nc3 a6 Be2 b5 a3 Bb7 f3 e6 <end>',\n",
       " '<start> e4 g6 d4 Bg7 Nf3 d6 Be2 Nf6 Nc3 c6 O-O O-O a4 Bg4 h3 Bxf3 <end>',\n",
       " '<start> Nf3 Nf6 c4 e6 g3 b6 Bg2 Bb7 O-O d5 cxd5 Nxd5 b3 Be7 Bb2 O-O <end>',\n",
       " '<start> e4 g6 Nf3 Bg7 d4 c5 c4 cxd4 Nxd4 Nc6 Be3 Nf6 Nc3 d6 h3 O-O <end>',\n",
       " '<start> c4 d6 g3 Nf6 Bg2 Nc6 Nc3 Bf5 Nf3 Nb4 Qa4+ Nc6 d4 e6 d5 exd5 <end>',\n",
       " '<start> e4 c5 c3 d6 d4 cxd4 cxd4 Nf6 Bd3 g6 Ne2 Bg7 O-O O-O Nbc3 Nc6 <end>',\n",
       " '<start> e4 c5 Nf3 d6 d4 cxd4 Nxd4 Nf6 Nc3 g6 Be3 Bg7 Be2 O-O O-O Nc6 <end>',\n",
       " '<start> e4 g6 Nf3 Bg7 d4 c5 c4 cxd4 Nxd4 Nc6 Be3 Nf6 Nc3 d6 h3 O-O <end>',\n",
       " '<start> b4 d5 Bb2 Nf6 d3 Bf5 Nd2 e6 a3 c5 b5 Qb6 Bxf6 gxf6 c4 a6 <end>',\n",
       " '<start> e4 e5 Nf3 Nc6 Bc4 Bc5 c3 Nf6 d3 d6 O-O O-O h3 Be6 Bb5 Ne7 <end>',\n",
       " '<start> e4 c6 d4 d5 exd5 cxd5 Bd3 Nc6 c3 Nf6 h3 g6 Nf3 Bg7 Bf4 O-O <end>',\n",
       " '<start> Nf3 c5 g3 Nc6 Bg2 e5 d3 g6 e4 Bg7 c3 d6 a4 Nge7 Nbd2 O-O <end>',\n",
       " '<start> Nc3 c5 Nf3 Nc6 d4 cxd4 Nxd4 g6 Nxc6 bxc6 Qd4 Nf6 Qh4 h5 e4 d6 <end>',\n",
       " '<start> e4 e5 Nf3 Nc6 Bb5 a6 Ba4 Bc5 O-O b5 Bb3 Nf6 Nxe5 Nxe5 d4 Bxd4 <end>',\n",
       " '<start> e4 c5 Nf3 e6 d4 cxd4 Nxd4 a6 Nc3 d6 Be3 Nf6 a4 b6 f3 Qc7 <end>',\n",
       " '<start> d4 Nf6 Nf3 c5 e3 b6 b3 g6 Bb2 Bg7 d5 O-O c4 d6 Bd3 e6 <end>',\n",
       " '<start> c4 e6 g3 d5 Bg2 Nf6 Nf3 c6 b3 Nbd7 Bb2 Bd6 O-O e5 Ne1 O-O <end>',\n",
       " '<start> d4 Nf6 c4 e6 a3 d5 Nf3 c5 cxd5 exd5 Nc3 Bf5 e3 Nc6 dxc5 Bxc5 <end>',\n",
       " '<start> e4 e6 d4 d5 Nd2 Be7 Ngf3 Nf6 e5 Nfd7 Bd3 c5 c3 Nc6 Bc2 cxd4 <end>',\n",
       " '<start> d4 d5 c4 e6 Nf3 Nf6 Nc3 Be7 e3 O-O Bd2 Nbd7 Rc1 b6 cxd5 exd5 <end>',\n",
       " '<start> Nf3 Nf6 g3 g6 Bg2 Bg7 O-O O-O d4 d6 c4 a6 Nc3 Nc6 e4 Na5 <end>',\n",
       " '<start> e4 e5 Nf3 Nc6 Bc4 Nf6 d3 Bc5 O-O a6 Bb3 d6 c3 Ba7 Re1 h6 <end>',\n",
       " '<start> e4 e6 d4 d5 Nc3 Nf6 e5 Nfd7 f4 c5 Nf3 Be7 Be3 b6 Qd2 Nc6 <end>',\n",
       " '<start> Nf3 e6 c4 f5 g3 Nf6 Bg2 d5 O-O Bd6 Nc3 c6 d3 e5 cxd5 Nxd5 <end>',\n",
       " '<start> e4 c5 Nf3 d6 d4 cxd4 Nxd4 Nf6 Nc3 a6 Bg5 e6 Qd2 Be7 O-O-O Nbd7 <end>',\n",
       " '<start> e4 c6 d4 d5 Nc3 dxe4 Nxe4 Nf6 Nxf6+ gxf6 Nf3 Bg4 Be2 Qc7 h3 Bh5 <end>',\n",
       " '<start> e4 c5 Nf3 e6 d3 Nc6 g3 g6 Bg2 Bg7 O-O Nge7 c3 O-O d4 cxd4 <end>',\n",
       " '<start> e4 c6 d4 d5 Nc3 dxe4 Nxe4 Nf6 Nxf6+ gxf6 Nf3 Bg4 Be2 Qc7 h3 Bh5 <end>',\n",
       " '<start> e4 c5 Nf3 e6 d3 Nc6 g3 g6 Bg2 Bg7 O-O Nge7 c3 O-O d4 cxd4 <end>',\n",
       " '<start> Nf3 e6 c4 f5 g3 Nf6 Bg2 d5 O-O Bd6 Nc3 c6 d3 e5 cxd5 Nxd5 <end>',\n",
       " '<start> d4 Nf6 c4 e6 a3 d5 Nf3 c5 cxd5 exd5 Nc3 Bf5 e3 Nc6 dxc5 Bxc5 <end>',\n",
       " '<start> e4 c5 Nf3 Nc6 d4 cxd4 Nxd4 g6 Be3 Bg7 Nxc6 bxc6 c3 Rb8 Qc2 Qa5 <end>',\n",
       " '<start> d4 Nf6 Nf3 c5 e3 b6 b3 g6 Bb2 Bg7 d5 O-O c4 d6 Bd3 e6 <end>',\n",
       " '<start> e4 e5 Nf3 Nc6 Bb5 a6 Ba4 Bc5 O-O b5 Bb3 Nf6 Nxe5 Nxe5 d4 Bxd4 <end>',\n",
       " '<start> Nf3 c5 g3 Nc6 Bg2 e5 d3 g6 e4 Bg7 c3 d6 a4 Nge7 Nbd2 O-O <end>',\n",
       " '<start> d4 Nf6 Nf3 e6 Bf4 d5 e3 Bd6 Bg5 h6 Bh4 Nbd7 Bd3 c5 c3 c4 <end>',\n",
       " '<start> b4 d5 Bb2 Nf6 d3 Bf5 Nd2 e6 a3 c5 b5 Qb6 Bxf6 gxf6 c4 a6 <end>',\n",
       " '<start> e4 c5 Nf3 d6 g3 Nc6 Bg2 Nf6 d3 e6 O-O Be7 Nbd2 O-O c3 Bd7 <end>',\n",
       " '<start> e4 c5 Nf3 d6 d4 cxd4 Nxd4 Nf6 Nc3 g6 Be3 Bg7 Be2 O-O O-O Nc6 <end>',\n",
       " '<start> e4 c5 Nf3 d6 d4 cxd4 Nxd4 Nf6 Nc3 g6 Be3 Bg7 f3 O-O Qd2 Nc6 <end>',\n",
       " '<start> Nf3 Nf6 g3 g6 b3 Bg7 Bb2 O-O Bg2 c5 c4 d5 cxd5 Nxd5 Bxg7 Kxg7 <end>',\n",
       " '<start> d4 d5 c4 e6 Nc3 Nf6 Nf3 Be7 e3 O-O Be2 b6 O-O Bb7 Bd2 Nbd7 <end>',\n",
       " '<start> e4 e5 Nf3 Nc6 Bb5 d6 d4 a6 Bxc6+ bxc6 dxe5 Bg4 exd6 Bxd6 O-O Ne7 <end>',\n",
       " '<start> d4 e6 Bf4 d5 Nf3 c6 e3 Bd6 Bxd6 Qxd6 Nbd2 Nf6 Bd3 O-O O-O Nbd7 <end>',\n",
       " '<start> Nf3 d5 g3 Bg4 Bg2 c6 O-O Nf6 d3 Nbd7 Nbd2 e5 Ne1 Bc5 c4 O-O <end>',\n",
       " '<start> e4 c5 Nf3 e6 d4 cxd4 Nxd4 Nf6 Nc3 Nc6 Nxc6 bxc6 Bd3 d5 O-O Be7 <end>',\n",
       " '<start> c4 e6 Nf3 Nf6 b3 d5 Bb2 Be7 g3 O-O Bg2 b6 O-O Bb7 d4 dxc4 <end>',\n",
       " '<start> c4 Nf6 Nc3 c5 e4 d6 g3 g6 Bg2 Bg7 Nge2 O-O O-O Nc6 d3 Rb8 <end>',\n",
       " '<start> e4 d5 exd5 Nf6 Nf3 Qxd5 c4 Qa5 Be2 Bg4 O-O e6 d4 c6 Nc3 Be7 <end>',\n",
       " '<start> d4 d5 Bf4 Nf6 e3 e6 Nf3 c5 c3 Be7 h3 O-O Nbd2 h6 Bd3 Nbd7 <end>',\n",
       " '<start> c4 e6 g3 d5 Bg2 Nf6 Nf3 c6 b3 Nbd7 Bb2 Bd6 O-O e5 Ne1 O-O <end>',\n",
       " '<start> d4 d5 c4 e6 Nf3 Nf6 Nc3 Nc6 e4 h6 Bd3 g5 Be3 g4 Ng1 Bb4 <end>',\n",
       " '<start> e4 e6 d4 d5 Nd2 Be7 Ngf3 Nf6 e5 Nfd7 Bd3 c5 c3 Nc6 Bc2 cxd4 <end>',\n",
       " '<start> e4 c5 Nf3 Nc6 d4 cxd4 Nxd4 e6 Nc3 a6 Nxc6 bxc6 Bd3 d5 O-O Nf6 <end>',\n",
       " '<start> Nf3 d5 b3 c5 Bb2 Nc6 e3 Bg4 Be2 Nf6 O-O e6 d3 Bd6 Nbd2 Qc7 <end>',\n",
       " '<start> c4 e5 Nc3 Nf6 g3 d5 cxd5 Nxd5 Bg2 Nc6 e3 Nb6 Nge2 Nb4 d4 exd4 <end>',\n",
       " '<start> d4 b6 Nf3 Bb7 g3 c5 d5 Nf6 c4 e6 Bg2 exd5 Nh4 g6 O-O Bg7 <end>',\n",
       " '<start> c4 Nf6 Nc3 e6 d4 d5 cxd5 exd5 Bg5 Nbd7 Nf3 Be7 e3 O-O Bd3 Re8 <end>',\n",
       " '<start> e4 c5 Bb5 a6 Ba4 b5 Bb3 c4 e5 e6 Qf3 Nc6 Ne2 Bb7 d4 Qc7 <end>',\n",
       " '<start> e4 c5 Nf3 Nc6 Bb5 g6 Bxc6 bxc6 O-O Bg7 Re1 Nf6 e5 Nd5 d4 cxd4 <end>',\n",
       " '<start> e4 c5 Nf3 Nc6 Bb5 g6 Bxc6 bxc6 O-O Bg7 Re1 Nf6 e5 Nd5 d4 cxd4 <end>',\n",
       " '<start> d4 Nf6 Bg5 e6 Nf3 c5 e3 Qb6 Bxf6 Qxb2 Nbd2 gxf6 Bd3 Nc6 dxc5 Bxc5 <end>',\n",
       " '<start> e4 c5 c3 Nf6 Nf3 Nc6 e5 Ng4 d4 cxd4 cxd4 g6 Bc4 Bg7 Ng5 O-O <end>',\n",
       " '<start> e4 d6 d4 Nf6 Nc3 Nbd7 Bc4 e5 Nf3 Be7 h3 O-O O-O c6 Qe2 b5 <end>',\n",
       " '<start> c4 e5 Nc3 Nf6 g3 d5 cxd5 Nxd5 Bg2 Nc6 e3 Nb6 Nge2 Nb4 d4 exd4 <end>',\n",
       " '<start> e4 c5 Nf3 d6 d4 cxd4 Nxd4 Nf6 Nc3 g6 Be2 Bg7 O-O O-O Be3 Nc6 <end>',\n",
       " '<start> d4 Nf6 c4 e6 Nf3 b6 a3 Bb7 Nc3 d5 e3 Be7 Be2 O-O O-O Nbd7 <end>',\n",
       " '<start> Nf3 Nf6 c4 e6 g3 b6 Bg2 Bb7 O-O Be7 Nc3 O-O b3 Ne4 Nxe4 Bxe4 <end>',\n",
       " '<start> e4 c5 Nf3 g6 d4 cxd4 Nxd4 Nc6 c4 Nf6 Nc3 d6 Be2 Nxd4 Qxd4 Bg7 <end>',\n",
       " '<start> e4 c5 d4 cxd4 c3 dxc3 Nxc3 Nc6 Nf3 g6 Bc4 Bg7 O-O e6 Qe2 Nge7 <end>',\n",
       " '<start> e4 c5 Nf3 d6 c3 Nf6 Bc4 Nc6 Qe2 g6 h3 Bg7 O-O O-O d4 cxd4 <end>',\n",
       " '<start> d4 Nf6 Nf3 c5 c3 d5 Bf4 Nc6 e3 Qb6 Qc1 Bf5 Be2 h6 h3 Rc8 <end>',\n",
       " '<start> c4 e6 Nf3 Nf6 b3 d5 Bb2 Be7 g3 O-O Bg2 b6 O-O Bb7 d4 dxc4 <end>',\n",
       " '<start> c4 Nf6 Nc3 c5 e4 d6 g3 g6 Bg2 Bg7 Nge2 O-O O-O Nc6 d3 Rb8 <end>',\n",
       " '<start> d4 d5 c4 e6 Nf3 c6 Nc3 Nf6 Bg5 dxc4 a4 Bb4 e4 b5 axb5 cxb5 <end>',\n",
       " '<start> d4 e6 Bf4 d5 Nf3 c6 e3 Bd6 Bxd6 Qxd6 Nbd2 Nf6 Bd3 O-O O-O Nbd7 <end>',\n",
       " '<start> e4 c5 Nc3 d6 f4 Nc6 Nf3 Nf6 Bb5 Bd7 d3 e6 O-O Be7 Be3 Ng4 <end>',\n",
       " '<start> Nf3 d5 c4 c6 g3 Nf6 Bg2 g6 b3 Bg7 Bb2 O-O O-O Re8 d4 Nbd7 <end>',\n",
       " '<start> e4 e5 Nf3 Nc6 Bb5 d6 d4 a6 Bxc6+ bxc6 dxe5 Bg4 exd6 Bxd6 O-O Ne7 <end>',\n",
       " '<start> Nc3 Ne4 Nxe4 Bxe4 O-O O-O Ne1 Bxg2 Nxg2 d5 Qa4 Qd7 Qxd7 Nxd7 cxd5 exd5 <end>',\n",
       " '<start> Nf3 d5 g3 Bg4 Bg2 c6 O-O Nf6 d3 Nbd7 Nbd2 e5 Ne1 Bc5 c4 O-O <end>',\n",
       " '<start> e4 c6 d4 d5 exd5 cxd5 c4 dxc4 Bxc4 e6 Nf3 Bd6 O-O Nf6 Bg5 O-O <end>',\n",
       " '<start> d4 d5 c4 e6 Nc3 Nf6 Nf3 Be7 e3 O-O Be2 b6 O-O Bb7 Bd2 Nbd7 <end>',\n",
       " '<start> e4 e6 d4 d5 Nc3 Nf6 Bg5 dxe4 Nxe4 Be7 Nxf6+ Bxf6 Bxf6 Qxf6 Bd3 c5 <end>',\n",
       " '<start> d4 Nf6 Nf3 e6 g3 b6 Bg2 Bb7 O-O Be7 c4 d5 b3 O-O Bb2 Ne4 <end>',\n",
       " '<start> d4 Nf6 Nf3 e6 c4 Bb4+ Bd2 c5 Bxb4 cxb4 g3 b6 Bg2 Bb7 O-O a5 <end>',\n",
       " '<start> Nc3 c5 Nf3 Nc6 d4 cxd4 Nxd4 g6 Nxc6 bxc6 Qd4 Nf6 Qh4 h5 e4 d6 <end>',\n",
       " '<start> e4 g6 d4 Bg7 c4 Nc6 Be3 e5 d5 Nd4 f4 c5 Bxd4 exd4 e5 d6 <end>',\n",
       " '<start> e4 c5 Nf3 e6 d4 cxd4 Nxd4 Nf6 Nc3 d6 Be3 Be7 Qf3 O-O h3 a6 <end>',\n",
       " '<start> Nf3 d5 b3 c5 Bb2 Nc6 e3 Bg4 Be2 Nf6 O-O e6 d3 Bd6 Nbd2 Qc7 <end>',\n",
       " '<start> d4 d5 c4 e6 Nf3 Nf6 Nc3 Nc6 e4 h6 Bd3 g5 Be3 g4 Ng1 Bb4 <end>',\n",
       " '<start> e4 e5 Nf3 Nc6 Bc4 Bc5 c3 Nf6 d4 exd4 cxd4 Bb4+ Bd2 Bxd2+ Nbxd2 d5 <end>',\n",
       " '<start> e4 c5 Nf3 d6 g3 Nc6 Bg2 Nf6 d3 e6 O-O Be7 Nbd2 O-O c3 Bd7 <end>',\n",
       " '<start> d4 d5 Nf3 Nf6 Bf4 Bf5 e3 e6 Bd3 Ne4 Nbd2 Nxd2 Qxd2 Bxd3 Qxd3 Nd7 <end>',\n",
       " '<start> Nf3 Nf6 b3 g6 Bb2 Bg7 e3 O-O Be2 b6 O-O Bb7 d4 d5 Nbd2 Nbd7 <end>',\n",
       " '<start> c4 Nf6 g3 g6 Bg2 d5 Nf3 Bg7 O-O O-O cxd5 Nxd5 Nc3 Nxc3 dxc3 Nc6 <end>',\n",
       " '<start> e4 c5 Nf3 d6 d4 cxd4 Nxd4 Nf6 Nc3 a6 Bg5 e6 f4 Be7 Qf3 Qc7 <end>',\n",
       " '<start> e4 c5 Nf3 d6 d4 cxd4 Nxd4 Nf6 Nc3 a6 Bg5 e6 f4 Be7 Qf3 Qc7 <end>',\n",
       " '<start> e4 d6 d4 Nf6 Nc3 Nbd7 Bc4 e5 Nf3 Be7 h3 O-O O-O c6 Qe2 b5 <end>',\n",
       " '<start> d4 Nf6 c4 g6 Nc3 d5 e3 Bg7 Nf3 O-O Be2 c6 O-O Nbd7 cxd5 cxd5 <end>',\n",
       " '<start> e4 c5 Nf3 d6 d4 cxd4 Nxd4 Nc6 Nc3 g6 Be2 Bg7 Be3 Nf6 O-O O-O <end>',\n",
       " '<start> d4 Nf6 Bg5 e6 Nf3 c5 e3 Qb6 Bxf6 Qxb2 Nbd2 gxf6 Bd3 Nc6 dxc5 Bxc5 <end>',\n",
       " '<start> e4 e5 Nf3 Nc6 Bc4 Bc5 c3 Nf6 d4 exd4 cxd4 Bb4+ Bd2 Bxd2+ Nbxd2 d5 <end>',\n",
       " '<start> e4 c5 d3 Nc6 Nf3 g6 g3 Bg7 Bg2 d6 O-O Nf6 Nbd2 O-O Re1 Qc7 <end>',\n",
       " '<start> Nf3 Nf6 g3 g6 Bg2 Bg7 O-O O-O d4 d6 c4 a6 Nc3 Nc6 e4 Na5 <end>',\n",
       " '<start> e4 c5 Nf3 d6 d4 cxd4 Nxd4 Nf6 Nc3 g6 Be2 Bg7 O-O O-O Be3 Nc6 <end>',\n",
       " '<start> e4 c5 Nf3 d6 d4 cxd4 Nxd4 Nf6 Nc3 g6 f4 Bg7 e5 dxe5 fxe5 Nd5 <end>',\n",
       " '<start> e4 d6 d4 Nf6 Nc3 Nbd7 Nf3 e5 dxe5 dxe5 Bc4 Bb4 O-O O-O Nd5 Nxd5 <end>',\n",
       " '<start> d4 Nf6 Nf3 c5 c3 d5 Bf4 Nc6 e3 Qb6 Qc1 Bf5 Be2 h6 h3 Rc8 <end>',\n",
       " '<start> e4 c5 Nf3 d6 c3 Nf6 Bc4 Nc6 Qe2 g6 h3 Bg7 O-O O-O d4 cxd4 <end>',\n",
       " '<start> d4 Nf6 Nf3 e6 g3 b6 Bg2 Bb7 O-O Be7 c4 d5 b3 O-O Bb2 Ne4 <end>',\n",
       " '<start> c4 e6 Nc3 f5 e3 Nf6 Nge2 c6 d3 d5 cxd5 exd5 g3 Bd6 Bg2 O-O <end>',\n",
       " '<start> e4 c5 Nc3 e6 f4 Nc6 Nf3 Nge7 Bb5 g6 Bxc6 Nxc6 O-O Bg7 d3 d6 <end>',\n",
       " '<start> e4 c6 d4 d5 exd5 cxd5 c4 dxc4 Bxc4 e6 Nf3 Bd6 O-O Nf6 Bg5 O-O <end>',\n",
       " '<start> d4 Nf6 Nf3 g6 c4 Bg7 g3 O-O Bg2 d6 O-O Nbd7 Nc3 c5 e4 a6 <end>',\n",
       " '<start> d4 Nf6 Nf3 e6 Bf4 d5 e3 Bd6 Bg5 h6 Bh4 Nbd7 Bd3 c5 c3 c4 <end>',\n",
       " '<start> d4 Nf6 Bf4 e6 e3 c5 c3 d5 Be2 Nc6 Nf3 Bd6 Bxd6 Qxd6 Bb5 O-O <end>',\n",
       " '<start> d4 Nf6 c4 g6 Nf3 Bg7 g3 O-O Bg2 d6 O-O Nbd7 Nc3 e5 dxe5 dxe5 <end>',\n",
       " '<start> d4 Nf6 c4 c5 Nf3 cxd4 Nxd4 g6 g3 Bg7 Bg2 O-O Nc3 Nc6 O-O Qb6 <end>',\n",
       " '<start> Nf3 e6 g3 d5 Bg2 Bd6 O-O f5 d3 c6 e4 Nd7 exf5 exf5 Re1+ Ne7 <end>',\n",
       " '<start> e4 c5 Nf3 e6 d4 cxd4 Nxd4 Nf6 Nc3 Nc6 Nxc6 bxc6 Bd3 d5 O-O Be7 <end>',\n",
       " '<start> c4 Nf6 d4 d5 Nc3 c6 e3 Bf5 Nf3 e6 Bd3 Bxd3 Qxd3 dxc4 Qxc4 Be7 <end>',\n",
       " '<start> Nf3 Nf6 c4 g6 b3 Bg7 Bb2 O-O g3 c5 Bg2 Ng4 Qc2 d6 Bxg7 Kxg7 <end>',\n",
       " '<start> d4 Nf6 c4 e6 Nc3 Bb4 Nf3 O-O Bg5 h6 Bh4 Bxc3+ bxc3 d5 e3 b6 <end>',\n",
       " '<start> e4 e6 d4 d5 Nc3 Nf6 Bg5 dxe4 Nxe4 Be7 Nxf6+ Bxf6 Bxf6 Qxf6 Bd3 c5 <end>',\n",
       " '<start> e4 c5 Nc3 Nc6 Bb5 e5 d3 Nf6 f4 d6 Nf3 Bg4 O-O Be7 h3 Bd7 <end>',\n",
       " '<start> e4 g6 d4 Bg7 c4 Nc6 Be3 e5 d5 Nd4 f4 c5 Bxd4 exd4 e5 d6 <end>',\n",
       " '<start> d4 Nf6 Nf3 e6 Bf4 c5 e3 Nc6 c3 Qb6 Qc1 Nh5 Bg3 Nxg3 hxg3 d5 <end>',\n",
       " '<start> e4 e5 Nf3 Nc6 Bb5 a6 Ba4 Nf6 d3 b5 Bb3 Be7 O-O Bb7 c3 O-O <end>',\n",
       " '<start> e4 c5 d3 Nc6 Nf3 g6 g3 Bg7 Bg2 d6 O-O e5 Nbd2 Nge7 Re1 O-O <end>',\n",
       " '<start> e4 g6 Nf3 Bg7 g3 d6 Bg2 Nf6 d3 O-O O-O c5 Re1 e5 Nbd2 Nc6 <end>',\n",
       " '<start> d4 Nf6 Bf4 g6 e3 Bg7 Nf3 O-O Bd3 d6 O-O Nfd7 Bg5 f6 Bh4 g5 <end>',\n",
       " '<start> d4 Nf6 c4 e6 Nf3 b6 a3 Bb7 Nc3 d5 e3 Be7 Be2 O-O O-O Nbd7 <end>',\n",
       " '<start> c4 e6 Nc3 d5 d4 Be7 g3 Nf6 Bg2 O-O Nf3 c5 cxd5 Nxd5 O-O Nc6 <end>',\n",
       " '<start> c4 Nf6 Nc3 e6 Nf3 Bb4 Qc2 h6 a3 Bxc3 Qxc3 b6 b4 Bb7 Bb2 d5 <end>',\n",
       " '<start> d4 Nf6 Nf3 c5 g3 g6 Bg2 Bg7 O-O O-O c4 cxd4 Nxd4 d6 Nc3 Nbd7 <end>',\n",
       " '<start> d4 Nf6 c4 g6 Nc3 d5 cxd5 Nxd5 Bd2 Bg7 e4 Nxc3 Bxc3 O-O h3 c5 <end>',\n",
       " '<start> e4 c5 Nf3 d6 d4 cxd4 Nxd4 Nf6 Nc3 g6 Be3 Bg7 f3 Nc6 Qd2 O-O <end>',\n",
       " '<start> e4 c5 Nf3 e6 d4 cxd4 Nxd4 Nf6 Nc3 d6 Be2 a6 Bf3 Nbd7 O-O Qc7 <end>',\n",
       " '<start> e4 e5 Nf3 d6 d4 exd4 Qxd4 Nc6 Bb5 Bd7 Bxc6 Bxc6 Nc3 Qd7 Bf4 Nf6 <end>',\n",
       " '<start> c4 Nf6 g3 e6 Bg2 d5 cxd5 exd5 Nf3 Be7 O-O O-O d4 c5 dxc5 Bxc5 <end>',\n",
       " '<start> d4 Nf6 Bf4 c5 e3 Qb6 b3 d5 Nf3 Nc6 c3 Bf5 Be2 e6 O-O Be7 <end>',\n",
       " '<start> Nf3 d5 c4 c6 e3 Nf6 Nc3 a6 d4 Bf5 Nh4 Bg4 Qb3 Ra7 h3 Bh5 <end>',\n",
       " '<start> e4 c5 Nf3 e6 d4 cxd4 Nxd4 Nc6 Be3 Nf6 Nd2 e5 Nb5 Be7 Bc4 O-O <end>',\n",
       " '<start> Nf3 d5 c4 c6 e3 Nf6 Nc3 a6 d4 Bf5 Nh4 Bg4 Qb3 Ra7 h3 Bh5 <end>',\n",
       " '<start> e4 c5 Nf3 e6 d4 cxd4 Nxd4 Nc6 Be3 Nf6 Nd2 e5 Nb5 Be7 Bc4 O-O <end>',\n",
       " '<start> d4 Nf6 c4 e6 g3 d5 Bg2 Be7 Nf3 O-O O-O dxc4 Ne5 Nc6 Nxc6 bxc6 <end>',\n",
       " '<start> d4 Nf6 Bf4 c5 e3 Qb6 b3 d5 Nf3 Nc6 c3 Bf5 Be2 e6 O-O Be7 <end>',\n",
       " '<start> e4 d6 d4 Nf6 Nc3 Bg4 Be2 Bxe2 Ngxe2 Nbd7 O-O e5 d5 c5 Be3 Be7 <end>',\n",
       " '<start> e4 c5 Nf3 Nc6 g3 e5 Bg2 Nf6 O-O d6 Re1 h6 c3 c4 d4 cxd3 <end>',\n",
       " '<start> e4 e5 Nf3 Nc6 c3 d5 Qa4 dxe4 Nxe5 Qd5 Nxc6 bxc6 Bc4 Qd7 O-O Nf6 <end>',\n",
       " '<start> d4 e6 c4 f5 Nc3 Nf6 Bg5 c6 e3 d5 Nf3 Bd6 Bd3 O-O O-O Qe8 <end>',\n",
       " '<start> d4 Nf6 c4 g6 Nc3 d5 cxd5 Nxd5 Bd2 Bg7 e4 Nxc3 Bxc3 O-O h3 c5 <end>',\n",
       " '<start> e4 e5 Nf3 d6 d4 Nd7 Bc4 Be7 c3 Ngf6 Nbd2 h6 h3 O-O O-O c6 <end>',\n",
       " '<start> c4 Nf6 Nc3 e6 Nf3 Bb4 Qc2 h6 a3 Bxc3 Qxc3 b6 b4 Bb7 Bb2 d5 <end>',\n",
       " '<start> e4 c5 Nf3 g6 d4 cxd4 Nxd4 Nc6 c4 Nf6 Nc3 d6 Be2 Nxd4 Qxd4 Bg7 <end>',\n",
       " '<start> c4 e5 Nc3 Nc6 g3 h5 Bg2 h4 g4 h3 Bxc6 dxc6 e3 Nh6 Qb3 Nxg4 <end>',\n",
       " '<start> e4 c5 Nf3 d6 d4 cxd4 Nxd4 Nf6 Nc3 g6 f4 Bg7 e5 dxe5 fxe5 Nd5 <end>',\n",
       " '<start> c4 Nf6 g3 e6 Bg2 d5 Nf3 Bc5 d4 Bb4+ Bd2 c5 O-O Nc6 cxd5 exd5 <end>',\n",
       " '<start> d4 d5 c4 e6 cxd5 exd5 Nc3 f5 Bf4 c6 e3 Nf6 Nf3 Be7 Bd3 O-O <end>',\n",
       " '<start> e4 Nf6 e5 Nd5 d4 d6 Nf3 g6 Bc4 Nb6 Bb3 Bg7 Ng5 e6 f4 h6 <end>',\n",
       " '<start> d4 Nf6 Nf3 e6 c4 Bb4+ Bd2 a5 Nc3 O-O Qc2 d5 e3 b6 Bd3 Bb7 <end>',\n",
       " '<start> d4 Nf6 c4 e6 Nc3 Bb4 Nf3 O-O Bg5 h6 Bh4 Bxc3+ bxc3 d5 e3 b6 <end>',\n",
       " '<start> Nf3 Nf6 c4 g6 b3 Bg7 Bb2 O-O g3 c5 Bg2 Ng4 Qc2 d6 Bxg7 Kxg7 <end>',\n",
       " '<start> c4 Nf6 g3 c5 Bg2 g6 Nc3 Nc6 Nf3 Bg7 d4 cxd4 Nxd4 O-O O-O Ng4 <end>',\n",
       " '<start> e4 c5 Nc3 e6 f4 Nc6 Nf3 Nge7 Bb5 g6 Bxc6 Nxc6 O-O Bg7 d3 d6 <end>',\n",
       " '<start> e4 c5 Nc3 d6 f4 Nc6 Nf3 Nf6 Bb5 Bd7 d3 e6 O-O Be7 Be3 Ng4 <end>',\n",
       " '<start> Nc3 Ne4 Nxe4 Bxe4 O-O O-O Ne1 Bxg2 Nxg2 d5 Qa4 Qd7 Qxd7 Nxd7 cxd5 exd5 <end>',\n",
       " '<start> e4 c5 Nc3 e6 Nge2 Nc6 g3 g6 Bg2 Bg7 d3 Nge7 Bg5 Rb8 Qd2 b5 <end>',\n",
       " '<start> Nf3 Nf6 g3 g6 Bg2 Bg7 d4 d6 O-O O-O c4 Nbd7 Nc3 e5 Bg5 c6 <end>',\n",
       " '<start> e4 e6 d4 d5 Nd2 c5 dxc5 Bxc5 Qg4 g6 Ngf3 Nf6 Qf4 Be7 e5 Nfd7 <end>',\n",
       " '<start> e4 c5 Nf3 e6 d4 cxd4 Nxd4 Nf6 Nc3 Nc6 Be3 Bb4 Bd3 d5 exd5 Nxd5 <end>',\n",
       " '<start> Nf3 d5 g3 Nf6 Bg2 c6 O-O e6 d3 Be7 Nbd2 Nbd7 e4 dxe4 dxe4 e5 <end>',\n",
       " '<start> d4 Nf6 Nf3 e6 c4 Bb4+ Bd2 c5 Bxb4 cxb4 g3 b6 Bg2 Bb7 O-O a5 <end>',\n",
       " '<start> e4 c5 Nf3 e6 d4 cxd4 Nxd4 a6 Nc3 Qc7 Be3 Nf6 a3 Nc6 Qd2 d6 <end>',\n",
       " '<start> e4 c5 d3 Nc6 Nf3 g6 g3 Bg7 Bg2 d6 O-O e5 Nbd2 Nge7 Re1 O-O <end>',\n",
       " '<start> e4 e5 Nf3 Nc6 Bb5 a6 Ba4 Nf6 d3 b5 Bb3 Be7 O-O Bb7 c3 O-O <end>',\n",
       " '<start> e4 c5 d4 cxd4 c3 dxc3 Nxc3 Nc6 Nf3 g6 Bc4 Bg7 O-O e6 Qe2 Nge7 <end>',\n",
       " '<start> d4 Nf6 Bf4 g6 e3 Bg7 Nf3 O-O Bd3 d6 O-O Nfd7 Bg5 f6 Bh4 g5 <end>',\n",
       " '<start> d4 Nf6 c4 e6 Nf3 d5 cxd5 exd5 Bg5 Be7 Qc2 O-O Nc3 h6 Bh4 c6 <end>',\n",
       " '<start> e4 c5 d3 Nc6 Nf3 g6 g3 Bg7 Bg2 d6 O-O Nf6 Nbd2 O-O Re1 Qc7 <end>',\n",
       " '<start> e4 c5 Nf3 e6 d4 cxd4 Nxd4 a6 Be2 Nf6 Bf3 Qc7 O-O Be7 Re1 d6 <end>',\n",
       " '<start> d4 Nf6 c4 g6 Nf3 Bg7 g3 O-O Bg2 d6 O-O Nbd7 Nc3 c5 e3 Rb8 <end>',\n",
       " '<start> e4 e5 Nf3 Nc6 Bb5 a6 Bxc6 dxc6 O-O Bg4 h3 Bxf3 Qxf3 Bc5 d3 Qf6 <end>',\n",
       " '<start> e4 e5 Nf3 d6 d4 Nd7 Bc4 Be7 c3 Ngf6 Nbd2 h6 h3 O-O O-O c6 <end>',\n",
       " '<start> e4 c5 Nf3 Nc6 d4 cxd4 Nxd4 e5 Nb3 Nf6 Nc3 Bb4 Bc4 Bxc3+ bxc3 Nxe4 <end>',\n",
       " '<start> e4 e5 Nf3 Nf6 Nc3 Nc6 Bb5 Bd6 d4 exd4 Nxd4 O-O O-O Re8 Re1 Nxd4 <end>',\n",
       " '<start> Nf3 Nf6 b3 g6 Bb2 Bg7 e3 O-O Be2 b6 O-O Bb7 d4 d5 Nbd2 Nbd7 <end>',\n",
       " '<start> Nf3 g6 c4 c5 g3 Bg7 Bg2 Nc6 Nc3 d6 O-O Qd7 Qa4 e6 d3 Nge7 <end>',\n",
       " '<start> e4 e6 d4 d5 exd5 exd5 Bd3 c5 dxc5 Bxc5 Nf3 Nc6 O-O Nge7 Nbd2 Bg4 <end>',\n",
       " '<start> e4 Nc6 d4 e5 d5 Nce7 d6 cxd6 Qxd6 Nc6 Qd1 Nf6 Bg5 Qa5+ Bd2 Qb6 <end>',\n",
       " '<start> e4 c5 Nc3 Nc6 g3 g6 Bg2 Bg7 d3 d6 Be3 Rb8 a4 a6 Qd2 b5 <end>',\n",
       " '<start> e4 Nc6 d4 e5 d5 Nce7 d6 cxd6 Qxd6 Nc6 Qd1 Nf6 Bg5 Qa5+ Bd2 Qb6 <end>',\n",
       " '<start> d4 Nf6 c4 e6 g3 d5 Bg2 Be7 Nf3 O-O O-O dxc4 Ne5 Nc6 Nxc6 bxc6 <end>',\n",
       " '<start> Nf3 g6 c4 c5 g3 Bg7 Bg2 Nc6 Nc3 d6 O-O Qd7 Qa4 e6 d3 Nge7 <end>',\n",
       " '<start> e4 e6 d4 d5 exd5 exd5 Bd3 c5 dxc5 Bxc5 Nf3 Nc6 O-O Nge7 Nbd2 Bg4 <end>',\n",
       " '<start> d4 b6 Nf3 Bb7 g3 c5 d5 Nf6 c4 e6 Bg2 exd5 Nh4 g6 O-O Bg7 <end>',\n",
       " '<start> e4 e5 Nf3 Nc6 c3 d5 Qa4 dxe4 Nxe5 Qd5 Nxc6 bxc6 Bc4 Qd7 O-O Nf6 <end>',\n",
       " '<start> e4 c5 Nf3 Nc6 d4 cxd4 Nxd4 e5 Nb3 Nf6 Nc3 Bb4 Bc4 Bxc3+ bxc3 Nxe4 <end>',\n",
       " '<start> e4 c5 Nf3 d6 d4 cxd4 Nxd4 Nf6 Nc3 g6 g3 Bg7 Bg2 Nc6 O-O O-O <end>',\n",
       " '<start> e4 c5 Nf3 e6 d4 cxd4 Nxd4 a6 Be2 Nf6 Bf3 Qc7 O-O Be7 Re1 d6 <end>',\n",
       " '<start> d4 Nf6 c4 g6 Nf3 Bg7 g3 O-O Bg2 d6 O-O Nbd7 Nc3 c5 e3 Rb8 <end>',\n",
       " '<start> d4 d5 c4 c6 Nf3 Nf6 Nc3 g6 cxd5 cxd5 Bf4 Bg7 e3 O-O h3 a6 <end>',\n",
       " '<start> Nf3 c5 c4 Nc6 g3 g6 Bg2 Bg7 O-O d6 Nc3 e5 d3 Nge7 Bg5 h6 <end>',\n",
       " '<start> c4 Nf6 g3 e6 Bg2 d5 Nf3 Bc5 d4 Bb4+ Bd2 c5 O-O Nc6 cxd5 exd5 <end>',\n",
       " '<start> Nc3 Nf6 Nf3 g6 e4 d6 d4 Bg7 h3 O-O Be3 Nbd7 Qd2 e5 Bh6 Re8 <end>',\n",
       " '<start> d4 Nf6 c4 g6 f3 d5 cxd5 Nxd5 e4 Nb6 Nc3 Bg7 Be3 O-O Qd2 e5 <end>',\n",
       " '<start> d4 Nf6 Nf3 e6 c4 Bb4+ Bd2 a5 Nc3 O-O Qc2 d5 e3 b6 Bd3 Bb7 <end>',\n",
       " '<start> e4 c5 Nf3 e6 d4 cxd4 Nxd4 Nf6 Nc3 Nc6 Be3 Bb4 Bd3 d5 exd5 Nxd5 <end>',\n",
       " '<start> c4 Nf6 g3 c5 Bg2 g6 Nc3 Nc6 Nf3 Bg7 d4 cxd4 Nxd4 O-O O-O Ng4 <end>',\n",
       " '<start> d4 e6 c4 c5 Nf3 Nf6 Bg5 h6 Bh4 Qb6 b3 Nc6 e3 g5 Bg3 Ne4 <end>',\n",
       " '<start> c4 Nf6 d4 d5 Nc3 c6 e3 Bf5 Nf3 e6 Bd3 Bxd3 Qxd3 dxc4 Qxc4 Be7 <end>',\n",
       " '<start> Nf3 Nf6 g3 g6 Bg2 Bg7 d4 d6 O-O O-O c4 Nbd7 Nc3 e5 Bg5 c6 <end>',\n",
       " '<start> Nf3 Nf6 g3 g6 b3 Bg7 Bb2 O-O Bg2 c5 c4 d5 cxd5 Nxd5 Bxg7 Kxg7 <end>',\n",
       " '<start> d4 Nf6 c4 c5 Nf3 cxd4 Nxd4 g6 g3 Bg7 Bg2 O-O Nc3 Nc6 O-O Qb6 <end>',\n",
       " '<start> Nf3 e6 g3 d5 Bg2 Bd6 O-O f5 d3 c6 e4 Nd7 exf5 exf5 Re1+ Ne7 <end>',\n",
       " '<start> e4 c5 Nc3 e6 Nge2 Nc6 g3 g6 Bg2 Bg7 d3 Nge7 Bg5 Rb8 Qd2 b5 <end>',\n",
       " '<start> d4 g6 c4 Bg7 e4 d6 Nf3 Nd7 Be2 c5 d5 Ngf6 Nc3 O-O O-O a6 <end>',\n",
       " '<start> d4 d5 c4 e6 Nf3 Nf6 Nc3 c5 cxd5 exd5 g3 cxd4 Nxd4 Bc5 Bg2 Nc6 <end>',\n",
       " '<start> e4 e6 d4 d5 Nc3 dxe4 Nxe4 Nc6 Nf3 Be7 Be3 Nf6 Bd3 b6 c3 Bb7 <end>',\n",
       " '<start> e4 c5 Nc3 Nc6 f4 a6 Nf3 g6 d3 Bg7 Be2 e6 O-O Nge7 Be3 Nd4 <end>',\n",
       " '<start> e4 c5 Nf3 Nc6 d4 cxd4 Nxd4 Nf6 Nc3 d6 Bg5 e6 Qd2 Be7 O-O-O d5 <end>',\n",
       " '<start> d4 Nf6 c4 a6 Nc3 c5 d5 b5 e3 b4 Na4 d6 b3 g6 h4 Bg7 <end>',\n",
       " '<start> e4 e6 d4 d5 Nd2 Nf6 e5 Nfd7 Bd3 c5 c3 Nc6 Ne2 Qb6 O-O cxd4 <end>',\n",
       " '<start> d4 Nf6 Nf3 e6 Bf4 c5 e3 Nc6 c3 Qb6 Qc1 Nh5 Bg3 Nxg3 hxg3 d5 <end>',\n",
       " '<start> e4 Nf6 e5 Nd5 d4 d6 Nf3 g6 Bc4 Nb6 Bb3 Bg7 Ng5 e6 f4 h6 <end>',\n",
       " '<start> d4 d5 c4 e6 Nc3 f5 g3 dxc4 Bg2 c6 Nf3 Nf6 Ne5 Nbd7 Nxc4 Be7 <end>',\n",
       " '<start> d4 Nf6 c4 e6 Nf3 d5 cxd5 exd5 Bg5 Be7 Qc2 O-O Nc3 h6 Bh4 c6 <end>',\n",
       " '<start> c4 e5 Nc3 Nc6 g3 h5 Bg2 h4 g4 h3 Bxc6 dxc6 e3 Nh6 Qb3 Nxg4 <end>',\n",
       " '<start> d4 d5 Nf3 Nf6 Bg5 e6 c4 Be7 e3 O-O Bd3 dxc4 Bxc4 a6 O-O b5 <end>',\n",
       " '<start> e4 e5 Nf3 Nc6 Bb5 a6 Ba4 Nf6 O-O Be7 Re1 b5 Bb3 O-O c3 d5 <end>',\n",
       " '<start> c4 Nf6 Nc3 d5 d4 Bf5 Nf3 Nc6 e3 Nb4 Qa4+ Nc6 Ne5 Bd7 Nxd7 Qxd7 <end>',\n",
       " '<start> d4 d5 c4 e6 Nc3 Nf6 cxd5 exd5 Bg5 Be7 e3 h6 Bf4 O-O Qc2 Nh5 <end>',\n",
       " '<start> Nf3 Nf6 g3 g6 b3 b6 Bg2 Bb7 Bb2 Bg7 O-O c5 c4 Nc6 d4 cxd4 <end>',\n",
       " '<start> c4 Nf6 g3 e6 Bg2 d5 cxd5 exd5 Nf3 Be7 O-O O-O d4 c5 dxc5 Bxc5 <end>',\n",
       " '<start> e4 e5 Nf3 Nc6 d4 exd4 Nxd4 Qh4 Nc3 Bb4 Ndb5 Qxe4+ Be2 Bxc3+ bxc3 Kd8 <end>',\n",
       " '<start> e4 e5 Nf3 Nc6 d4 exd4 Nxd4 Qh4 Nc3 Bb4 Ndb5 Qxe4+ Be2 Bxc3+ bxc3 Kd8 <end>',\n",
       " '<start> e4 e5 Nf3 Nc6 d4 exd4 Nxd4 Nf6 Nc3 Bb4 Nxc6 bxc6 Bd3 d5 exd5 O-O <end>',\n",
       " '<start> d4 Nf6 c4 e6 Nf3 d5 Nc3 Be7 Bf4 O-O e3 b6 Bd3 dxc4 Bxc4 Bb7 <end>',\n",
       " '<start> e4 c5 Nf3 e6 d4 cxd4 Nxd4 Nf6 Nc3 d6 Be2 a6 Bf3 Nbd7 O-O Qc7 <end>',\n",
       " '<start> Nf3 d5 g3 Nf6 Bg2 c6 d3 h6 Nbd2 Bf5 O-O e6 b3 Bh7 Bb2 Be7 <end>',\n",
       " '<start> e4 e5 Nf3 Nc6 Bc4 Bc5 O-O Nf6 d3 O-O Re1 d6 c3 a6 Bb3 Ba7 <end>',\n",
       " '<start> e4 e5 Nf3 Nc6 Bc4 Nf6 Nc3 Bc5 d3 Qe7 Bg5 O-O Nd5 Qd6 Bxf6 gxf6 <end>',\n",
       " '<start> e4 e5 Nf3 Nc6 Bb5 a6 Ba4 d6 c3 Bd7 d4 g6 O-O Bg7 d5 Nce7 <end>',\n",
       " '<start> Nf3 g6 c4 Bg7 g3 Nf6 Bg2 O-O Nc3 c5 d3 Nc6 Rb1 d5 cxd5 Nxd5 <end>',\n",
       " '<start> d4 d5 c4 e6 Nc3 f5 g3 dxc4 Bg2 c6 Nf3 Nf6 Ne5 Nbd7 Nxc4 Be7 <end>',\n",
       " '<start> e4 c5 Nf3 Nc6 d4 cxd4 Nxd4 g6 Nc3 Bg7 Be3 Nf6 Bc4 O-O Bb3 d6 <end>',\n",
       " '<start> c4 Nf6 Nc3 g6 g3 Bg7 Bg2 O-O e4 d6 Nge2 c5 O-O Nc6 d3 a6 <end>',\n",
       " '<start> e4 c5 Nf3 d6 d4 cxd4 Nxd4 Nf6 Nc3 g6 f4 Nc6 Bb5 Bd7 Be3 Bg7 <end>',\n",
       " '<start> e4 g6 d4 Bg7 Nf3 d6 Be2 Nf6 Nc3 c6 O-O O-O a4 Bg4 h3 Bxf3 <end>',\n",
       " '<start> e4 c5 Nc3 Nc6 Bb5 e5 d3 Nf6 f4 d6 Nf3 Bg4 O-O Be7 h3 Bd7 <end>',\n",
       " '<start> e4 c5 Nc3 Nc6 f4 a6 Nf3 g6 d3 Bg7 Be2 e6 O-O Nge7 Be3 Nd4 <end>',\n",
       " '<start> e4 c5 Nf3 d6 d4 cxd4 Nxd4 Nf6 Nc3 a6 Be3 e6 g4 Nc6 g5 Nd7 <end>',\n",
       " '<start> e4 e6 d4 d5 Nc3 dxe4 Nxe4 Nc6 Nf3 Be7 Be3 Nf6 Bd3 b6 c3 Bb7 <end>',\n",
       " '<start> e4 e5 Nf3 Nc6 Bc4 Bc5 c3 Nf6 d3 d6 Bb3 O-O Nbd2 Be6 Bc2 a6 <end>',\n",
       " '<start> d4 d5 c4 e6 Nf3 Nf6 Nc3 c5 cxd5 exd5 g3 cxd4 Nxd4 Bc5 Bg2 Nc6 <end>',\n",
       " '<start> e4 c5 c3 g6 d4 cxd4 cxd4 d5 e5 Nc6 Nf3 Bg4 Bb5 e6 O-O Qb6 <end>',\n",
       " '<start> e4 c5 Nf3 d6 d4 cxd4 Nxd4 Nf6 Nc3 g6 Be3 Bg7 f3 O-O Qd2 Nc6 <end>',\n",
       " '<start> e4 e5 Nf3 Nf6 Nc3 Nc6 Bc4 Bb4 d3 O-O O-O d6 Bg5 h6 Bh4 Bxc3 <end>',\n",
       " '<start> e4 c5 Nf3 d6 d4 cxd4 Nxd4 Nf6 Nc3 a6 Be3 e6 g4 Nc6 g5 Nd7 <end>',\n",
       " '<start> e4 e5 Nf3 Nc6 Bc4 Bc5 b4 Bxb4 c3 Ba5 Qb3 Qf6 d4 exd4 O-O dxc3 <end>',\n",
       " '<start> d4 Nf6 c4 a6 Nc3 c5 d5 b5 e3 b4 Na4 d6 b3 g6 h4 Bg7 <end>',\n",
       " '<start> e4 c5 Nf3 Nc6 d4 cxd4 Nxd4 Nf6 Nc3 d6 Bg5 e6 Qd2 Be7 O-O-O d5 <end>',\n",
       " '<start> e4 c5 Nf3 a6 a4 Nc6 c3 Nf6 Qc2 g6 Be2 Bg7 O-O O-O d3 d5 <end>',\n",
       " '<start> d4 d5 Nf3 Nf6 Nc3 e6 a3 Be7 Bf4 O-O e3 c6 Bd3 b6 O-O Bb7 <end>',\n",
       " '<start> e4 c5 Nf3 e6 d4 cxd4 Nxd4 a6 Nc3 Qc7 Be3 Nf6 a3 Nc6 Qd2 d6 <end>',\n",
       " '<start> Nc3 Nf6 Nf3 g6 e4 d6 d4 Bg7 h3 O-O Be3 Nbd7 Qd2 e5 Bh6 Re8 <end>',\n",
       " '<start> e4 c5 Nf3 e6 d4 cxd4 Nxd4 a6 Nc3 d6 Be3 Nf6 a4 b6 f3 Qc7 <end>',\n",
       " '<start> d4 d5 c4 e6 Nf3 Nf6 Nc3 Be7 e3 O-O Bd2 Nbd7 Rc1 b6 cxd5 exd5 <end>',\n",
       " '<start> d4 d5 c4 c6 Nf3 Nf6 Nc3 g6 cxd5 cxd5 Bf4 Bg7 e3 O-O h3 a6 <end>',\n",
       " '<start> e4 e5 Nf3 Nc6 Bc4 Bc5 O-O Nf6 d3 O-O Re1 d6 c3 a6 Bb3 Ba7 <end>',\n",
       " '<start> d4 d5 Nf3 Nf6 g3 e6 c4 g6 Bg2 Bg7 Nc3 O-O O-O Nbd7 Bg5 b6 <end>',\n",
       " '<start> e4 c5 Nf3 d6 d4 cxd4 Nxd4 Nf6 Nc3 g6 Be3 Bg7 Qd2 O-O Bh6 Nc6 <end>',\n",
       " '<start> d4 Nf6 Bf4 d5 e3 Bf5 c4 e6 Qb3 Qc8 Nc3 c6 Rc1 Nbd7 Nf3 Be7 <end>',\n",
       " '<start> d4 d5 c4 c6 Nc3 Nf6 Bf4 e6 e3 Bd6 Nf3 O-O Qc2 Bxf4 exf4 Qd6 <end>',\n",
       " '<start> e4 e5 Nf3 d6 d4 exd4 Qxd4 Nc6 Bb5 Bd7 Bxc6 Bxc6 Nc3 Qd7 Bf4 Nf6 <end>',\n",
       " '<start> e4 c5 Nc3 d6 g3 Nc6 Bg2 g6 d3 Bg7 Be3 e6 Qd2 Nge7 Nge2 Nd4 <end>',\n",
       " '<start> e4 c5 Nf3 d6 d4 cxd4 Nxd4 Nf6 Nc3 a6 Be2 e6 O-O Be7 a4 Nc6 <end>',\n",
       " '<start> d4 Nf6 Bf4 d6 e3 e6 c3 Nbd7 Nd2 a6 Ngf3 Be7 Ng5 b5 Qf3 Rb8 <end>',\n",
       " '<start> d4 Nf6 Bf4 d6 e3 e6 c3 Nbd7 Nd2 a6 Ngf3 Be7 Ng5 b5 Qf3 Rb8 <end>',\n",
       " '<start> e4 c5 Nc3 d6 g3 Nc6 Bg2 g6 d3 Bg7 Be3 e6 Qd2 Nge7 Nge2 Nd4 <end>',\n",
       " '<start> e4 e5 Nf3 Nc6 d4 exd4 Nxd4 Nf6 Nc3 Bb4 Nxc6 bxc6 Bd3 d5 exd5 O-O <end>',\n",
       " '<start> e4 c5 Nf3 g6 d4 cxd4 Nxd4 Nc6 Nxc6 bxc6 Qd4 Nf6 e5 Qa5+ Nc3 c5 <end>',\n",
       " '<start> e4 e6 d4 d5 Nc3 Nf6 e5 Nfd7 f4 c5 Nf3 Be7 Be3 b6 Qd2 Nc6 <end>',\n",
       " '<start> d4 d5 c4 c6 Nc3 Nf6 Bf4 e6 e3 Bd6 Nf3 O-O Qc2 Bxf4 exf4 Qd6 <end>',\n",
       " '<start> e4 e5 Nf3 Nf6 Nc3 Nc6 Bb5 Bd6 d4 exd4 Nxd4 O-O O-O Re8 Re1 Nxd4 <end>',\n",
       " '<start> e4 c5 Nf3 d6 d4 cxd4 Nxd4 Nf6 Nc3 g6 Be3 Bg7 Qd2 O-O Bh6 Nc6 <end>',\n",
       " '<start> d4 d5 Nf3 Nf6 Bg5 e6 c4 Be7 e3 O-O Bd3 dxc4 Bxc4 a6 O-O b5 <end>',\n",
       " '<start> e4 e5 Nf3 Nc6 Bb5 a6 Ba4 d6 c3 Bd7 d4 g6 O-O Bg7 d5 Nce7 <end>',\n",
       " '<start> e4 c5 Nf3 d6 d4 cxd4 Nxd4 Nf6 Nc3 g6 g3 Bg7 Bg2 Nc6 O-O O-O <end>',\n",
       " '<start> e4 d6 d4 Nf6 Nc3 Nbd7 Nf3 e5 dxe5 dxe5 Bc4 Bb4 O-O O-O Nd5 Nxd5 <end>',\n",
       " '<start> e4 Nc6 d4 Nf6 f3 g6 Bf4 Bg7 c3 d6 Bb5 O-O Ne2 a6 Ba4 Nh5 <end>',\n",
       " '<start> e4 c5 Nf3 Nc6 d4 cxd4 Nxd4 g6 Be3 Bg7 Nxc6 bxc6 c3 Rb8 Qc2 Qa5 <end>',\n",
       " '<start> c4 Nf6 Nc3 g6 g3 Bg7 Bg2 O-O e4 d6 Nge2 c5 O-O Nc6 d3 a6 <end>',\n",
       " '<start> e4 c5 Nf3 Nc6 d4 cxd4 Nxd4 g6 Nc3 Bg7 Be3 Nf6 Bc4 O-O Bb3 d6 <end>',\n",
       " '<start> d4 Nf6 g3 d5 c4 e6 Bg2 Be7 Nf3 O-O O-O Nbd7 Nc3 dxc4 Qa4 Nb6 <end>',\n",
       " '<start> d4 Nf6 c4 g6 f3 d5 cxd5 Nxd5 e4 Nb6 Nc3 Bg7 Be3 O-O Qd2 e5 <end>',\n",
       " '<start> c4 c5 Nc3 d6 g3 Nf6 Bg2 g6 e4 Bg7 Nge2 O-O d3 Nc6 O-O e5 <end>',\n",
       " '<start> e4 e5 Nf3 Nc6 Bc4 Bc5 b4 Bxb4 c3 Ba5 Qb3 Qf6 d4 exd4 O-O dxc3 <end>',\n",
       " '<start> c4 c5 Nc3 Nc6 g3 g6 Bg2 Bg7 Nf3 e5 d3 Nge7 O-O d6 Bd2 O-O <end>',\n",
       " '<start> e4 e5 Nf3 Nf6 Nc3 Nc6 Bc4 Bb4 d3 O-O O-O d6 Bg5 h6 Bh4 Bxc3 <end>',\n",
       " '<start> Nf3 e6 g3 d5 Bg2 Bd6 O-O f5 d3 c6 e4 Nd7 exf5 exf5 Re1+ Ne7 <end>',\n",
       " '<start> e4 c5 Nf3 d6 d4 cxd4 Nxd4 Nf6 Nc3 g6 Be3 Bg7 f3 Nc6 Qd2 O-O <end>',\n",
       " '<start> d4 Nf6 Nc3 d5 Nf3 Bg4 Bf4 a6 Ne5 Bh5 Qd2 e6 f3 Nfd7 g4 Bg6 <end>',\n",
       " '<start> b3 e5 Bb2 Nc6 e3 Nf6 c4 g6 Nc3 Bg7 Be2 O-O d3 d5 cxd5 Nxd5 <end>',\n",
       " '<start> e4 c5 Nf3 d6 d4 cxd4 Qxd4 Nc6 Qe3 Nf6 Be2 g6 O-O Bg7 h3 O-O <end>',\n",
       " '<start> e4 c5 Nf3 e6 Qe2 Nc6 g3 g6 Bg2 Bg7 O-O Nge7 d3 d5 Nbd2 b6 <end>',\n",
       " '<start> d4 Nf6 c4 e6 g3 d5 Nf3 c6 Qc2 Be7 Bg2 O-O O-O b6 Nbd2 Bb7 <end>',\n",
       " '<start> e4 c5 Nf3 e6 d3 Nc6 g3 Nf6 Bg2 d5 Qe2 Be7 O-O O-O e5 Nd7 <end>',\n",
       " '<start> e4 c5 Nf3 d6 Bb5+ Bd7 Bxd7+ Nxd7 O-O Ngf6 Re1 e5 c3 Be7 d3 O-O <end>',\n",
       " '<start> e4 c5 Nf3 d6 d4 cxd4 Bb5+ Bd7 Bxd7+ Qxd7 Nxd4 e5 Nf5 Nf6 Nc3 g6 <end>',\n",
       " '<start> c4 Nf6 g3 g6 Bg2 Bg7 Nc3 O-O Nf3 d6 O-O Nc6 b3 e5 d3 a6 <end>',\n",
       " '<start> d4 Nf6 c4 g6 Nc3 Bg7 e4 d6 f3 O-O Be3 Nbd7 Qd2 e5 Nge2 a5 <end>',\n",
       " '<start> d4 d5 c4 c6 Nf3 Nf6 g3 g6 Bg2 Bg7 O-O O-O Nc3 Nbd7 Qc2 a6 <end>',\n",
       " '<start> d4 Nf6 Bf4 g6 e3 Bg7 Nf3 d6 Be2 O-O O-O Nbd7 Nbd2 b6 c4 Bb7 <end>',\n",
       " '<start> Nf3 d5 d4 Nf6 b3 e6 g3 Be7 Bg2 O-O O-O c5 e3 Nc6 Bb2 b6 <end>',\n",
       " '<start> c4 Nf6 Nf3 e6 e3 b6 Nc3 Bb7 b3 Be7 Bb2 c5 Qc2 O-O Be2 Nc6 <end>',\n",
       " '<start> d4 d5 c4 e6 Nc3 Be7 Bf4 Nf6 Nf3 O-O e3 b6 cxd5 exd5 Bd3 c5 <end>',\n",
       " '<start> c4 e5 g3 Nf6 Bg2 d5 cxd5 Nxd5 Nc3 Nb6 a4 a5 d3 Bb4 Nf3 Qe7 <end>',\n",
       " '<start> e4 e5 Nf3 Nc6 Bb5 a6 Ba4 d6 h3 Bd7 O-O g5 d4 g4 d5 Nce7 <end>',\n",
       " '<start> e4 d6 d4 Nf6 Nc3 g6 Nf3 c6 Bg5 Qa5 Bxf6 exf6 Bd3 Bg7 O-O O-O <end>',\n",
       " '<start> c4 Nf6 Nc3 d5 cxd5 Nxd5 Nf3 c5 e4 Nc7 Bc4 Nc6 O-O Be6 Be2 Nd4 <end>',\n",
       " '<start> Nf3 c5 c4 Nc6 Nc3 g6 e3 e5 g3 Bg7 Bg2 Nge7 O-O O-O d3 d6 <end>',\n",
       " '<start> d4 f5 Nf3 Nf6 Bg5 e6 e3 Be7 Bd3 d5 O-O O-O c4 c6 Nbd2 Nbd7 <end>',\n",
       " '<start> e4 e6 d3 d5 Nd2 Nf6 Ngf3 dxe4 dxe4 Bc5 h3 c6 g3 Qc7 c3 a5 <end>',\n",
       " '<start> e4 c5 Nf3 e6 d3 Nc6 g3 g6 Bg2 Bg7 O-O Nge7 c3 O-O h4 d5 <end>',\n",
       " '<start> e4 c5 Nf3 d6 d4 cxd4 Nxd4 Nf6 f3 a6 c4 Nbd7 Nc3 g6 Be3 Bg7 <end>',\n",
       " '<start> e4 c5 Nf3 d6 d4 cxd4 Nxd4 Nf6 Nc3 a6 h3 e5 Nde2 h5 g3 Be6 <end>',\n",
       " '<start> e4 c5 Nf3 d6 d4 cxd4 Nxd4 Nf6 f3 a6 c4 Nbd7 Nc3 g6 Be3 Bg7 <end>',\n",
       " '<start> Nf3 Nf6 b3 g6 Bb2 Bg7 e3 c5 c4 Nc6 d4 cxd4 Nxd4 O-O Be2 Nxd4 <end>',\n",
       " '<start> d4 Nf6 Nf3 e6 Bf4 c5 e3 Nc6 c3 Qb6 Qb3 Nd5 Bg3 d6 Bd3 Be7 <end>',\n",
       " '<start> d4 f5 Nf3 Nf6 Bg5 e6 e3 Be7 Bd3 d5 O-O O-O c4 c6 Nbd2 Nbd7 <end>',\n",
       " '<start> d4 Nf6 Bf4 e6 Nf3 c5 c3 Qb6 Qc2 Nc6 e3 d5 Be2 Bd7 h3 Rc8 <end>',\n",
       " '<start> e4 d6 d4 Nf6 Nc3 Nbd7 Nf3 e5 Bc4 Be7 O-O c6 a4 b6 Qe2 h6 <end>',\n",
       " '<start> e4 e6 d3 d5 Nd2 c5 Ngf3 Nc6 g3 Qc7 Bg2 Bd7 O-O f6 Re1 O-O-O <end>',\n",
       " '<start> e4 d6 d4 Nf6 Nc3 g6 Nf3 c6 Bg5 Qa5 Bxf6 exf6 Bd3 Bg7 O-O O-O <end>',\n",
       " '<start> e4 e5 d4 exd4 Bc4 Nf6 Nf3 Bb4+ Bd2 Bxd2+ Nbxd2 Nc6 O-O O-O Re1 d5 <end>',\n",
       " '<start> e4 c5 Nc3 Nc6 g3 e6 Bg2 Nge7 Nge2 d5 exd5 Nxd5 Nxd5 exd5 d4 Be6 <end>',\n",
       " '<start> c4 Nf6 Nf3 e6 e3 b6 Nc3 Bb7 b3 Be7 Bb2 c5 Qc2 O-O Be2 Nc6 <end>',\n",
       " '<start> e4 e6 d4 d5 Nc3 Nf6 e5 Nfd7 f4 c5 Nf3 Nc6 Be3 a6 Qd2 cxd4 <end>',\n",
       " '<start> Nf3 d5 d4 Nf6 b3 e6 g3 Be7 Bg2 O-O O-O c5 e3 Nc6 Bb2 b6 <end>',\n",
       " '<start> d4 Nf6 Bf4 g6 e3 Bg7 Nf3 d6 Be2 O-O O-O Nbd7 Nbd2 b6 c4 Bb7 <end>',\n",
       " '<start> e4 c5 Nf3 d6 d4 cxd4 Nxd4 Nf6 Nc3 a6 Bg5 e6 Bd3 Be7 O-O b5 <end>',\n",
       " '<start> d4 Nf6 Nf3 d5 Bf4 Bf5 e3 e6 Bd3 Bd6 Bg3 Ne4 Be5 f6 Bg3 Qe7 <end>',\n",
       " '<start> e4 c5 Nf3 d6 d4 cxd4 Bb5+ Bd7 Bxd7+ Qxd7 Nxd4 e5 Nf5 Nf6 Nc3 g6 <end>',\n",
       " '<start> e4 g6 Nf3 Bg7 Bc4 c5 d4 cxd4 Nxd4 Nc6 Be3 Nf6 Nc3 O-O Bb3 d6 <end>',\n",
       " '<start> d4 d5 c4 e6 Nf3 c6 Nc3 Nf6 Bg5 dxc4 a4 Bb4 e4 b5 axb5 cxb5 <end>',\n",
       " '<start> e4 c5 Nf3 d6 d4 cxd4 Qxd4 Nc6 Qe3 Nf6 Be2 g6 O-O Bg7 h3 O-O <end>',\n",
       " '<start> e4 c5 Nf3 e6 Qe2 Nc6 g3 g6 Bg2 Bg7 O-O Nge7 d3 d5 Nbd2 b6 <end>',\n",
       " '<start> b3 e5 Bb2 Nc6 e3 Nf6 c4 g6 Nc3 Bg7 Be2 O-O d3 d5 cxd5 Nxd5 <end>',\n",
       " '<start> d4 Nf6 Bg5 g6 Bxf6 exf6 e3 Bg7 Bd3 f5 Nc3 O-O Qf3 d6 Nge2 Nd7 <end>',\n",
       " '<start> c4 c6 Nf3 d5 e3 Nf6 Nc3 e6 b3 Be7 Bb2 O-O Qc2 Nbd7 Rg1 dxc4 <end>',\n",
       " '<start> e4 c6 d4 d5 Nc3 dxe4 Nxe4 Nf6 Nxf6+ exf6 Nf3 Bd6 Bd3 O-O O-O Re8 <end>',\n",
       " '<start> e4 c5 Nf3 d6 d4 cxd4 Nxd4 Nf6 Nc3 g6 Be2 Bg7 Be3 Nc6 Nb3 O-O <end>',\n",
       " '<start> d4 Nf6 c4 e6 g3 d5 Nf3 c6 Qc2 Be7 Bg2 O-O O-O b6 Nbd2 Bb7 <end>',\n",
       " '<start> e4 c5 Nf3 e6 d4 cxd4 Nxd4 Nf6 Nc3 d6 Bg5 Be7 Qd2 a6 O-O-O O-O <end>',\n",
       " '<start> e4 e6 d4 b6 Nf3 Bb7 Nc3 Bb4 Bd3 d6 O-O Bxc3 bxc3 Nd7 c4 e5 <end>',\n",
       " '<start> e4 c5 Nf3 d6 d4 cxd4 Nxd4 Nf6 Nc3 a6 Be2 e5 Nb3 Be7 Bg5 Be6 <end>',\n",
       " '<start> d4 g6 c4 Bg7 Nc3 Nf6 e4 O-O Nf3 d6 Be2 Nbd7 O-O b6 h3 h6 <end>',\n",
       " '<start> e4 c6 d4 d5 Nc3 dxe4 Nxe4 Nf6 Nxf6+ gxf6 Be3 Bf5 Bd3 e6 Bxf5 Qa5+ <end>',\n",
       " '<start> c4 Nf6 g3 g6 Bg2 d5 Nf3 Bg7 O-O O-O cxd5 Nxd5 Nc3 Nxc3 dxc3 Nc6 <end>',\n",
       " '<start> e4 e5 Nf3 Nf6 d4 Nxe4 Bd3 d5 Nxe5 Bd6 O-O O-O Qf3 Nf6 Bg5 Be7 <end>',\n",
       " '<start> e4 c5 Nf3 g6 Nc3 Bg7 d4 cxd4 Nxd4 Nc6 Nb3 Nf6 Be2 O-O O-O d5 <end>',\n",
       " '<start> e4 c5 Nf3 d6 d4 cxd4 Nxd4 Nf6 Nc3 g6 f4 Nc6 Bb5 Bd7 Be3 Bg7 <end>',\n",
       " '<start> d4 Nf6 c4 g6 Nc3 Bg7 e4 d6 f3 O-O Be3 Nbd7 Qd2 e5 Nge2 a5 <end>',\n",
       " '<start> d4 Nf6 c4 e6 Nc3 d5 cxd5 exd5 Bg5 Nbd7 e3 c6 Bd3 Be7 Nge2 O-O <end>',\n",
       " '<start> e4 e5 Nf3 Nc6 d4 exd4 Nxd4 Qe7 Nc3 a6 Be3 Nf6 f3 h6 Bc4 d6 <end>',\n",
       " '<start> e4 e6 d4 d5 Nd2 Nc6 Ngf3 Nf6 e5 Nd7 Be2 f6 exf6 Qxf6 Nf1 Bd6 <end>',\n",
       " '<start> e4 c5 Nf3 Nc6 d4 cxd4 Nxd4 Nf6 Nc3 e5 Ndb5 d6 Nd5 Nxd5 exd5 Nb8 <end>',\n",
       " '<start> d4 d5 c4 e6 Nc3 Be7 Bf4 Nf6 Nf3 O-O e3 b6 cxd5 exd5 Bd3 c5 <end>',\n",
       " '<start> Nf3 Nf6 g3 d5 Bg2 Bg4 c4 Bxf3 Bxf3 c6 d4 e6 O-O Be7 Nc3 O-O <end>',\n",
       " '<start> c4 g6 Nc3 Bg7 g3 e6 Bg2 Ne7 Nf3 O-O O-O d5 cxd5 Nxd5 Nxd5 exd5 <end>',\n",
       " '<start> e4 c5 Nf3 Nc6 d4 cxd4 Nxd4 e6 Nb5 d6 c4 Nf6 N1c3 a6 Na3 Be7 <end>',\n",
       " '<start> d4 Nf6 c4 d5 cxd5 Nxd5 e4 Nb6 Be3 e6 Nc3 Bb4 Nf3 O-O Bd3 f5 <end>',\n",
       " '<start> e4 e6 d3 d5 Nd2 Nf6 Ngf3 dxe4 dxe4 Bc5 h3 c6 g3 Qc7 c3 a5 <end>',\n",
       " '<start> d4 Nf6 Nf3 e6 Bf4 c5 e3 Nc6 c3 Qb6 Qb3 Nd5 Bg3 d6 Bd3 Be7 <end>',\n",
       " '<start> e4 e5 Nf3 Nc6 Bb5 g6 O-O Bg7 c3 Nge7 Re1 O-O d4 exd4 cxd4 d5 <end>',\n",
       " '<start> c4 g6 Nc3 Bg7 g3 e6 Bg2 Ne7 Nf3 O-O O-O d5 cxd5 Nxd5 Nxd5 exd5 <end>',\n",
       " '<start> e4 c5 Nf3 d6 d4 cxd4 Nxd4 Nf6 Nc3 a6 h3 e5 Nde2 h5 g3 Be6 <end>',\n",
       " '<start> d4 f5 g4 e6 gxf5 exf5 Bg2 d5 Nc3 c6 Bf4 Nf6 Qd3 Be7 O-O-O b5 <end>',\n",
       " '<start> Nf3 c5 c4 Nc6 Nc3 g6 e3 e5 g3 Bg7 Bg2 Nge7 O-O O-O d3 d6 <end>',\n",
       " '<start> e4 c5 Nc3 Nc6 g3 e6 Bg2 Nge7 Nge2 d5 exd5 Nxd5 Nxd5 exd5 d4 Be6 <end>',\n",
       " '<start> Nf3 c5 c4 Nc6 d4 cxd4 Nxd4 g6 Nc3 Bg7 Nc2 d6 e4 Nf6 Be2 O-O <end>',\n",
       " '<start> e4 e5 Nf3 Nc6 d4 exd4 Nxd4 Qe7 Nc3 a6 Be3 Nf6 f3 h6 Bc4 d6 <end>',\n",
       " '<start> e4 e6 d3 d5 Nd2 c5 Ngf3 Nc6 g3 Qc7 Bg2 Bd7 O-O f6 Re1 O-O-O <end>',\n",
       " '<start> d4 Nf6 c4 e6 Nc3 d5 cxd5 exd5 Bg5 Nbd7 e3 c6 Bd3 Be7 Nge2 O-O <end>',\n",
       " '<start> e4 e5 Nf3 Nf6 Nc3 Bb4 Bc4 d6 d3 c6 O-O O-O Bg5 Nbd7 Ne2 Re8 <end>',\n",
       " '<start> e4 e6 d4 d5 Nc3 Nf6 e5 Nfd7 f4 c5 Nf3 Nc6 Be3 a6 Qd2 cxd4 <end>',\n",
       " '<start> e4 c5 Nf3 e6 d4 cxd4 Nxd4 Nf6 Nc3 d6 Be3 Be7 Qf3 O-O h3 a6 <end>',\n",
       " '<start> e4 c5 Nf3 e6 d4 cxd4 Nxd4 Nf6 Nc3 d6 Bg5 Nbd7 Qd2 a6 O-O-O Qc7 <end>',\n",
       " '<start> e4 e5 Nf3 f5 Bd3 fxe4 Bxe4 d5 Bd3 e4 Bb5+ c6 Ne5 Qg5 Nf7 Qxg2 <end>',\n",
       " '<start> e4 c5 Nf3 d6 d4 cxd4 Nxd4 Nf6 Nc3 Nbd7 Be2 a6 O-O e6 Bf3 Be7 <end>',\n",
       " '<start> e4 e6 d4 d5 e5 c5 Nf3 Nc6 c3 Nge7 Bb5 Ng6 Bxc6+ bxc6 O-O Ba6 <end>',\n",
       " '<start> e4 c5 Nf3 e6 d4 cxd4 Nxd4 Nc6 Nxc6 bxc6 Nc3 Qc7 Bd3 Nf6 O-O d5 <end>',\n",
       " '<start> d4 g6 c4 Bg7 Nc3 Nf6 e4 O-O Nf3 d6 Be2 Nbd7 O-O b6 h3 h6 <end>',\n",
       " '<start> e4 e6 d4 b6 Nf3 Bb7 Nc3 Bb4 Bd3 d6 O-O Bxc3 bxc3 Nd7 c4 e5 <end>',\n",
       " '<start> c4 e5 Nc3 Nf6 g3 d5 cxd5 Nxd5 Bg2 Nb6 Nf3 Nc6 O-O Be7 d3 O-O <end>',\n",
       " '<start> Nf3 Nf6 g3 g6 Bg2 Bg7 O-O O-O d4 d5 c4 c6 b3 e6 Bb2 Nbd7 <end>',\n",
       " '<start> d4 Nf6 Bg5 g6 Bxf6 exf6 e3 Bg7 Bd3 f5 Nc3 O-O Qf3 d6 Nge2 Nd7 <end>',\n",
       " '<start> e4 Nf6 d3 d5 e5 Nfd7 d4 c5 c3 Nc6 a3 c4 Be2 Nb6 h3 Bf5 <end>',\n",
       " '<start> e4 e6 d4 d5 e5 c5 c3 Nc6 Nf3 Qb6 Bd3 cxd4 cxd4 Bd7 O-O Nxd4 <end>',\n",
       " '<start> e4 c5 Nf3 e6 d3 Nc6 g3 g6 Bg2 Bg7 O-O Nge7 c3 d5 Qe2 O-O <end>',\n",
       " '<start> e4 c5 Nf3 d6 d4 cxd4 Nxd4 Nf6 Nc3 g6 Be2 Bg7 Be3 Nc6 Nb3 O-O <end>',\n",
       " '<start> e4 c5 Nf3 Nc6 d4 cxd4 Nxd4 e5 Nb5 a6 Nd6+ Bxd6 Qxd6 Qf6 Qd1 Qg6 <end>',\n",
       " '<start> e4 e6 b3 c5 Bb2 Nc6 f4 Qc7 g3 d5 Nc3 d4 Nce2 Nf6 Bg2 d3 <end>',\n",
       " '<start> Nf3 b6 g3 Bb7 Bg2 e6 c4 Nf6 O-O c5 Nc3 Be7 d3 O-O e4 d6 <end>',\n",
       " '<start> Nf3 Nf6 c4 e6 g3 b6 Bg2 Bb7 O-O d5 cxd5 Nxd5 b3 Be7 Bb2 O-O <end>',\n",
       " '<start> e4 c5 c3 g6 Nf3 Bg7 d4 cxd4 cxd4 Nf6 Bd3 O-O O-O d6 Nc3 Bg4 <end>',\n",
       " '<start> e4 c5 Nf3 a6 Bc4 b5 Bxf7+ Kxf7 Ne5+ Ke6 Qh5 Nh6 d4 cxd4 Nf7 Qc7 <end>',\n",
       " '<start> d4 d5 c4 c6 Nf3 Nf6 g3 g6 Bg2 Bg7 O-O O-O Nc3 Nbd7 Qc2 a6 <end>',\n",
       " '<start> Nf3 d5 g3 Nf6 Bg2 e6 O-O Be7 c4 O-O b3 b6 Bb2 Nbd7 cxd5 exd5 <end>',\n",
       " '<start> e4 g6 d4 Bg7 Nf3 c6 c4 e6 Nc3 h6 Bf4 d6 Bd3 Qe7 e5 d5 <end>',\n",
       " '<start> e4 c5 Nf3 Nc6 d4 cxd4 Nxd4 e6 Nxc6 bxc6 Be2 d5 exd5 cxd5 O-O Nf6 <end>',\n",
       " '<start> e4 c5 Nf3 d6 Bb5+ Nd7 d4 cxd4 Qxd4 Qa5+ Nc3 Ngf6 Bg5 a6 Bxd7+ Nxd7 <end>',\n",
       " '<start> e4 c5 Nf3 d6 d4 cxd4 Nxd4 Nf6 Nc3 a6 h3 e5 Nde2 Be7 Bg5 Be6 <end>',\n",
       " '<start> d4 Nf6 c4 g6 Nc3 d5 b3 Bg7 Bf4 O-O e3 c5 Bd3 Nc6 Nge2 dxc4 <end>',\n",
       " '<start> e4 e5 d4 exd4 Bc4 Nf6 Nf3 Bb4+ Bd2 Bxd2+ Nbxd2 Nc6 O-O O-O Re1 d5 <end>',\n",
       " '<start> d4 d5 Nf3 Nf6 Bf4 c5 e3 Nc6 c3 Qb6 Qc1 Bf5 Nbd2 e6 Be2 Be7 <end>',\n",
       " '<start> e4 d5 e5 c5 d4 cxd4 Qxd4 Nc6 Bb5 e6 Bxc6+ bxc6 Ne2 c5 Qg4 c4 <end>',\n",
       " '<start> e4 d6 d4 Nf6 Nc3 Nbd7 Nf3 e5 Bc4 Be7 O-O c6 a4 b6 Qe2 h6 <end>',\n",
       " '<start> e4 c5 Nf3 Nc6 d4 cxd4 Nxd4 Nf6 Nc3 d6 Bg5 e6 Qd2 Be7 f4 Qc7 <end>',\n",
       " '<start> e4 c5 Nf3 g6 d4 cxd4 Nxd4 Nc6 Nxc6 bxc6 Qd4 Nf6 e5 Qa5+ Nc3 c5 <end>',\n",
       " '<start> Nf3 c5 c4 Nc6 d4 cxd4 Nxd4 g6 e4 Bg7 Be3 Nf6 Nc3 d6 Be2 O-O <end>',\n",
       " '<start> d4 c6 c4 d5 Nf3 Nf6 Bf4 Bf5 e3 e6 Nc3 Bb4 Qb3 Bxc3+ Qxc3 Ne4 <end>',\n",
       " '<start> c4 e6 Nc3 Nf6 g3 d5 cxd5 exd5 Bg2 Be6 d3 Nc6 Nf3 Qd7 O-O Bh3 <end>',\n",
       " '<start> c4 e5 Nc3 Nf6 g3 c6 Bg2 d5 cxd5 cxd5 Qb3 d4 Bxb7 Bxb7 Qxb7 Nbd7 <end>',\n",
       " '<start> e4 c5 Nf3 Nc6 d4 cxd4 Nxd4 Nf6 Nc3 d6 Bg5 e6 Qd2 Be7 f4 Qc7 <end>',\n",
       " '<start> e4 c5 Nf3 e6 d4 cxd4 Nxd4 Nc6 Be3 Qc7 Nc3 a6 Be2 Nf6 O-O Bb4 <end>',\n",
       " '<start> d4 d5 Bg5 Nf6 Bxf6 exf6 e3 Bd6 Bd3 c6 Nd2 O-O h3 Re8 Ngf3 Nd7 <end>',\n",
       " '<start> e4 d5 e5 c5 d4 cxd4 Qxd4 Nc6 Bb5 e6 Bxc6+ bxc6 Ne2 c5 Qg4 c4 <end>',\n",
       " '<start> Nf3 c5 c4 Nc6 d4 cxd4 Nxd4 g6 Nc3 Bg7 Nc2 d6 e4 Nf6 Be2 O-O <end>',\n",
       " '<start> c4 e5 g3 Nf6 Bg2 d5 cxd5 Nxd5 Nc3 Nb6 a4 a5 d3 Bb4 Nf3 Qe7 <end>',\n",
       " '<start> e4 c5 Nf3 Nc6 d4 cxd4 Nxd4 g6 Nc3 Bg7 Be3 Nf6 Bc4 O-O Bb3 d6 <end>',\n",
       " '<start> e4 c6 d4 d5 e5 c5 c3 Nc6 Nf3 Bg4 Be2 Qb6 O-O Bxf3 Bxf3 cxd4 <end>',\n",
       " '<start> e4 c5 Nf3 d6 Bb5+ Nd7 d4 cxd4 Qxd4 Qa5+ Nc3 Ngf6 Bg5 a6 Bxd7+ Nxd7 <end>',\n",
       " '<start> e4 c5 Nf3 Nc6 d4 cxd4 Nxd4 e6 Nxc6 bxc6 Be2 d5 exd5 cxd5 O-O Nf6 <end>',\n",
       " '<start> d4 d5 Bf4 Nf6 Nf3 Bf5 h3 e6 e3 c5 c3 Qb6 Qb3 Nbd7 Nbd2 Be7 <end>',\n",
       " '<start> d4 Nf6 Nf3 d5 Bf4 c5 e3 Nc6 c3 Qb6 Qb3 c4 Qxb6 axb6 Na3 Bf5 <end>',\n",
       " '<start> Nf3 d5 g3 Nf6 Bg2 e6 O-O Be7 c4 O-O b3 b6 Bb2 Nbd7 cxd5 exd5 <end>',\n",
       " '<start> Nf3 d5 b3 Nf6 Bb2 e6 e3 Be7 c4 c5 cxd5 exd5 d4 O-O Nbd2 b6 <end>',\n",
       " '<start> e4 c5 Nc3 e6 f4 a6 Nf3 Qc7 g3 Nc6 Bg2 g6 O-O Bg7 d3 Nge7 <end>',\n",
       " '<start> e4 c5 c3 g6 Nf3 Bg7 d4 cxd4 cxd4 Nf6 Bd3 O-O O-O d6 Nc3 Bg4 <end>',\n",
       " '<start> c4 c5 Nc3 Nc6 g3 g6 Bg2 Nf6 e3 d6 Nge2 Bg7 d3 O-O O-O Qd7 <end>',\n",
       " '<start> Nf3 b6 g3 Bb7 Bg2 e6 c4 Nf6 O-O c5 Nc3 Be7 d3 O-O e4 d6 <end>',\n",
       " '<start> e4 c5 Nf3 Nc6 d4 cxd4 Nxd4 e5 Nb5 a6 Nd6+ Bxd6 Qxd6 Qf6 Qd1 Qg6 <end>',\n",
       " '<start> e4 e6 b3 c5 Bb2 Nc6 f4 Qc7 g3 d5 Nc3 d4 Nce2 Nf6 Bg2 d3 <end>',\n",
       " '<start> e4 e5 Nf3 d6 Nc3 Nc6 Bc4 Be7 h3 Nf6 d4 exd4 Nxd4 Nxd4 Qxd4 O-O <end>',\n",
       " '<start> c4 Nf6 g3 e5 Bg2 Nc6 Nc3 d6 e4 Be7 Nge2 Be6 d3 Qd7 O-O Bh3 <end>',\n",
       " '<start> e4 e6 d4 d5 e5 c5 c3 Nc6 Nf3 Qb6 Bd3 cxd4 cxd4 Bd7 O-O Nxd4 <end>',\n",
       " '<start> e4 Nf6 d3 d5 e5 Nfd7 d4 c5 c3 Nc6 a3 c4 Be2 Nb6 h3 Bf5 <end>',\n",
       " '<start> d4 Nf6 c4 e6 Nc3 Bb4 Qb3 Bxc3+ Qxc3 O-O Nf3 Ne4 Qc2 f5 e3 b6 <end>',\n",
       " '<start> d4 Nf6 c4 e6 Nf3 d5 g3 Be7 Bg2 O-O O-O b6 cxd5 exd5 Nc3 Bb7 <end>',\n",
       " '<start> e4 c5 Nf3 Nc6 Nc3 e6 d4 cxd4 Nxd4 Nf6 Be2 Bb4 O-O Bxc3 bxc3 Nxe4 <end>',\n",
       " '<start> e4 c5 Nf3 d6 d4 cxd4 Nxd4 Nf6 Nc3 a6 Bd3 e5 Nde2 Be6 f4 b5 <end>',\n",
       " '<start> c4 e5 Nc3 Nf6 g3 d5 cxd5 Nxd5 Bg2 Nb6 Nf3 Nc6 O-O Be7 d3 O-O <end>',\n",
       " '<start> e4 c5 Nf3 e6 d3 Nc6 g3 g6 Bg2 Bg7 O-O Nge7 c3 d5 Qe2 O-O <end>',\n",
       " '<start> c4 c6 Nf3 d5 e3 Nf6 Nc3 e6 b3 Be7 Bb2 O-O Qc2 Nbd7 Rg1 dxc4 <end>',\n",
       " '<start> e4 c5 Nc3 e6 g3 d5 exd5 exd5 Bg2 Nf6 d4 cxd4 Qxd4 Nc6 Qa4 Be6 <end>',\n",
       " '<start> e4 c5 Nf3 a6 Bc4 b5 Bxf7+ Kxf7 Ne5+ Ke6 Qh5 Nh6 d4 cxd4 Nf7 Qc7 <end>',\n",
       " '<start> e4 c5 Nc3 e6 f4 a6 Nf3 Qc7 g3 Nc6 Bg2 g6 O-O Bg7 d3 Nge7 <end>',\n",
       " '<start> d4 Nf6 c4 e6 Nc3 Bb4 Bd2 O-O e4 Bxc3 Bxc3 Nxe4 Bb4 d6 Bd3 f5 <end>',\n",
       " '<start> e4 g6 d4 Bg7 Nc3 d6 f4 a6 Nf3 b5 Bd3 Nd7 e5 e6 O-O d5 <end>',\n",
       " '<start> e4 e5 Nf3 Nc6 Bb5 Nf6 O-O d6 d4 Bd7 c3 Nxe4 Bxc6 Bxc6 dxe5 Be7 <end>',\n",
       " '<start> d4 Nf6 c4 g6 Nc3 d5 cxd5 Nxd5 e4 Nxc3 bxc3 Bg7 Be3 c5 Bc4 O-O <end>',\n",
       " '<start> e4 Nf6 e5 Nd5 c4 Nb6 d4 d6 exd6 cxd6 Nf3 g6 Nc3 Bg7 Be2 Nc6 <end>',\n",
       " '<start> e4 c5 f4 Nc6 Nf3 e6 Be2 Nf6 d3 d5 e5 Nd7 O-O f6 exf6 Nxf6 <end>',\n",
       " '<start> e4 e5 Nf3 Nc6 d4 exd4 Nxd4 Qe7 Nc3 a6 Be3 Nf6 f3 h6 Bc4 d6 <end>',\n",
       " '<start> e4 c5 Nf3 d6 d4 cxd4 Nxd4 Nf6 Nc3 a6 h3 e5 Nde2 Be7 Bg5 Be6 <end>',\n",
       " '<start> Nf3 c5 c4 Nc6 Nc3 Nf6 d4 cxd4 Nxd4 g6 e4 d6 Be2 Bg7 Be3 a6 <end>',\n",
       " '<start> d4 Nf6 Nf3 g6 g3 Bg7 Bg2 d6 O-O O-O c4 Nbd7 Nc3 e5 dxe5 dxe5 <end>',\n",
       " '<start> Nf3 Nf6 c4 g6 g3 Bg7 Bg2 O-O O-O c5 d4 b6 dxc5 Bb7 cxb6 Qxb6 <end>',\n",
       " '<start> e4 e5 Nf3 Nc6 Bb5 g6 O-O Bg7 c3 Nge7 Re1 O-O d4 exd4 cxd4 d5 <end>',\n",
       " '<start> e4 c6 Nf3 d5 e5 Bg4 d4 e6 Bd3 c5 c3 Nc6 Be3 Qb6 Nbd2 Qxb2 <end>',\n",
       " '<start> e4 c5 d4 cxd4 Nf3 d6 Nxd4 Nf6 Nc3 g6 f4 Nbd7 Bb5 a6 Be2 Bg7 <end>',\n",
       " '<start> e4 c5 Nf3 e6 d3 Nc6 g3 g6 Bg2 Bg7 O-O Nge7 c3 O-O h4 d5 <end>',\n",
       " '<start> d4 Nf6 c4 d5 cxd5 Nxd5 e4 Nb6 Be3 e6 Nc3 Bb4 Nf3 O-O Bd3 f5 <end>',\n",
       " '<start> e4 c5 Nf3 e6 d4 cxd4 Nxd4 Nc6 Be3 Qc7 Nc3 a6 Be2 Nf6 O-O Bb4 <end>',\n",
       " '<start> e4 c5 d4 cxd4 Nf3 d6 Nxd4 Nf6 Nc3 g6 f4 Nbd7 Bb5 a6 Be2 Bg7 <end>',\n",
       " '<start> Nf3 Nf6 c4 g6 g3 Bg7 Bg2 O-O O-O c5 d4 b6 dxc5 Bb7 cxb6 Qxb6 <end>',\n",
       " '<start> c4 e5 Nc3 Nf6 g3 c6 Bg2 d5 cxd5 cxd5 Qb3 d4 Bxb7 Bxb7 Qxb7 Nbd7 <end>',\n",
       " '<start> d4 d5 Bg5 Nf6 Bxf6 exf6 e3 Bd6 Bd3 c6 Nd2 O-O h3 Re8 Ngf3 Nd7 <end>',\n",
       " '<start> Nf3 c5 c4 Nc6 Nc3 Nf6 d4 cxd4 Nxd4 g6 e4 d6 Be2 Bg7 Be3 a6 <end>',\n",
       " '<start> e4 c6 d4 d5 e5 c5 c3 Nc6 Nf3 Bg4 Be2 Qb6 O-O Bxf3 Bxf3 cxd4 <end>',\n",
       " '<start> e4 e6 d4 d5 Nd2 Nc6 Ngf3 Nf6 e5 Nd7 Be2 f6 exf6 Qxf6 Nf1 Bd6 <end>',\n",
       " '<start> e4 Nf6 e5 Nd5 c4 Nb6 d4 d6 exd6 cxd6 Nf3 g6 Nc3 Bg7 Be2 Nc6 <end>',\n",
       " '<start> d4 Nf6 c4 g6 Nc3 d5 cxd5 Nxd5 e4 Nxc3 bxc3 Bg7 Be3 c5 Bc4 O-O <end>',\n",
       " '<start> e4 e5 Nf3 Nf6 Nc3 Bb4 Bc4 d6 d3 c6 O-O O-O Bg5 Nbd7 Ne2 Re8 <end>',\n",
       " '<start> d4 d5 c4 e6 Nc3 c6 cxd5 exd5 Nf3 Nf6 Bg5 Bd6 e3 Bg4 h3 Bxf3 <end>',\n",
       " '<start> e4 g6 d4 Bg7 Nc3 d6 f4 a6 Nf3 b5 Bd3 Nd7 e5 e6 O-O d5 <end>',\n",
       " '<start> d4 Nf6 Nf3 d5 Bf4 Bf5 e3 e6 Bd3 Bd6 Bg3 Ne4 Be5 f6 Bg3 Qe7 <end>',\n",
       " '<start> d4 Nf6 c4 g6 Nc3 d5 cxd5 Nxd5 e4 Nxc3 bxc3 Bg7 Be3 c5 Bc4 O-O <end>',\n",
       " '<start> e4 c6 d4 d5 exd5 cxd5 Bd3 Nc6 c3 Nf6 h3 g6 Nf3 Bg7 Bf4 O-O <end>',\n",
       " '<start> d4 Nf6 Nf3 g6 Bf4 Bg7 h3 O-O e3 d5 Be2 c5 c3 b6 O-O Bb7 <end>',\n",
       " '<start> e4 e6 d4 d5 e5 c5 Nf3 Nc6 c3 Nge7 Bb5 Ng6 Bxc6+ bxc6 O-O Ba6 <end>',\n",
       " '<start> e4 c5 Nf3 d6 d4 cxd4 Nxd4 Nf6 Nc3 a6 Qf3 g6 h3 Bg7 Be3 Bd7 <end>',\n",
       " '<start> c4 Nf6 g3 e5 Bg2 Nc6 Nc3 d6 e4 Be7 Nge2 Be6 d3 Qd7 O-O Bh3 <end>',\n",
       " '<start> e4 c5 Nf3 e6 d4 cxd4 Nxd4 Nf6 Nc3 d6 Bg5 Be7 Qd2 a6 O-O-O O-O <end>',\n",
       " '<start> d4 Nf6 c4 g6 Nc3 Bg7 e4 d6 Be2 O-O Be3 Na6 Nf3 e5 O-O Ng4 <end>',\n",
       " '<start> e4 c5 Nf3 d6 d4 cxd4 Nxd4 Nf6 Nc3 a6 Bd3 e5 Nde2 Be6 f4 b5 <end>',\n",
       " '<start> d4 Nf6 c4 e6 Nf3 d5 g3 Be7 Bg2 O-O O-O b6 cxd5 exd5 Nc3 Bb7 <end>',\n",
       " '<start> d4 Nf6 c4 e6 Nc3 Bb4 Qb3 Bxc3+ Qxc3 O-O Nf3 Ne4 Qc2 f5 e3 b6 <end>']"
      ]
     },
     "execution_count": 50,
     "metadata": {},
     "output_type": "execute_result"
    }
   ],
   "source": [
    "labels"
   ]
  },
  {
   "cell_type": "code",
   "execution_count": 57,
   "metadata": {},
   "outputs": [],
   "source": [
    "labels_tensor= tokenizer.texts_to_sequences( labels)\n",
    "labels_tensor= tf.keras.preprocessing.sequence.pad_sequences(labels_tensor,\n",
    "                                                         padding='post')"
   ]
  },
  {
   "cell_type": "code",
   "execution_count": 58,
   "metadata": {},
   "outputs": [
    {
     "data": {
      "text/plain": [
       "array([[  2,   7,   6, ...,   4, 113,   3],\n",
       "       [  2,   8,  10, ...,  30,   4,   3],\n",
       "       [  2,   8,  18, ...,  29,  72,   3],\n",
       "       ...,\n",
       "       [  2,   8,  10, ...,  47,  54,   3],\n",
       "       [  2,   7,   6, ...,   9,  41,   3],\n",
       "       [  2,   7,   6, ...,  26,  33,   3]])"
      ]
     },
     "execution_count": 58,
     "metadata": {},
     "output_type": "execute_result"
    }
   ],
   "source": [
    "labels_tensor"
   ]
  },
  {
   "cell_type": "code",
   "execution_count": 70,
   "metadata": {},
   "outputs": [],
   "source": [
    "target1_tensor= labels_tensor[:,1:]"
   ]
  },
  {
   "cell_type": "code",
   "execution_count": 71,
   "metadata": {},
   "outputs": [],
   "source": [
    "target_tensor= labels_tensor[:,:]"
   ]
  },
  {
   "cell_type": "code",
   "execution_count": 72,
   "metadata": {},
   "outputs": [
    {
     "data": {
      "text/plain": [
       "array([[  2,   7,   6, ...,   4, 113,   3],\n",
       "       [  2,   8,  10, ...,  30,   4,   3],\n",
       "       [  2,   8,  18, ...,  29,  72,   3],\n",
       "       ...,\n",
       "       [  2,   8,  10, ...,  47,  54,   3],\n",
       "       [  2,   7,   6, ...,   9,  41,   3],\n",
       "       [  2,   7,   6, ...,  26,  33,   3]])"
      ]
     },
     "execution_count": 72,
     "metadata": {},
     "output_type": "execute_result"
    }
   ],
   "source": [
    "target_tensor"
   ]
  },
  {
   "cell_type": "code",
   "execution_count": 73,
   "metadata": {},
   "outputs": [],
   "source": [
    "input_tensor_train, input_tensor_val, target_tensor_train, target_tensor_val =train_test_split( labels_tensor, target_tensor, test_size= 0.2)"
   ]
  },
  {
   "cell_type": "code",
   "execution_count": 74,
   "metadata": {},
   "outputs": [
    {
     "name": "stdout",
     "output_type": "stream",
     "text": [
      "547 547 137 137\n"
     ]
    }
   ],
   "source": [
    "print(len(input_tensor_train), len(target_tensor_train), len(input_tensor_val), len(target_tensor_val))"
   ]
  },
  {
   "cell_type": "code",
   "execution_count": 75,
   "metadata": {},
   "outputs": [],
   "source": [
    "def convert(lang, tensor):\n",
    "  for t in tensor:\n",
    "    if t!=0:\n",
    "      print (\"%d ----> %s\" % (t, lang.index_word[t]))"
   ]
  },
  {
   "cell_type": "code",
   "execution_count": 76,
   "metadata": {},
   "outputs": [
    {
     "name": "stdout",
     "output_type": "stream",
     "text": [
      "2 ----> <start>\n",
      "8 ----> e4\n",
      "10 ----> c5\n",
      "5 ----> nf3\n",
      "13 ----> e6\n",
      "24 ----> d3\n",
      "11 ----> nc6\n",
      "20 ----> g3\n",
      "6 ----> nf6\n",
      "21 ----> bg2\n",
      "12 ----> d5\n",
      "85 ----> qe2\n",
      "22 ----> be7\n",
      "4 ----> o-o\n",
      "4 ----> o-o\n",
      "18 ----> e5\n",
      "61 ----> nd7\n",
      "3 ----> <end>\n"
     ]
    }
   ],
   "source": [
    "convert( tokenizer, input_tensor_train[0])"
   ]
  },
  {
   "cell_type": "code",
   "execution_count": 77,
   "metadata": {},
   "outputs": [
    {
     "name": "stdout",
     "output_type": "stream",
     "text": [
      "Input Language; index to word mapping\n",
      "2 ----> <start>\n",
      "8 ----> e4\n",
      "10 ----> c5\n",
      "5 ----> nf3\n",
      "13 ----> e6\n",
      "24 ----> d3\n",
      "11 ----> nc6\n",
      "20 ----> g3\n",
      "6 ----> nf6\n",
      "21 ----> bg2\n",
      "12 ----> d5\n",
      "85 ----> qe2\n",
      "22 ----> be7\n",
      "4 ----> o-o\n",
      "4 ----> o-o\n",
      "18 ----> e5\n",
      "61 ----> nd7\n",
      "3 ----> <end>\n",
      "\n",
      "Target Language; index to word mapping\n",
      "2 ----> <start>\n",
      "8 ----> e4\n",
      "10 ----> c5\n",
      "5 ----> nf3\n",
      "13 ----> e6\n",
      "24 ----> d3\n",
      "11 ----> nc6\n",
      "20 ----> g3\n",
      "6 ----> nf6\n",
      "21 ----> bg2\n",
      "12 ----> d5\n",
      "85 ----> qe2\n",
      "22 ----> be7\n",
      "4 ----> o-o\n",
      "4 ----> o-o\n",
      "18 ----> e5\n",
      "61 ----> nd7\n",
      "3 ----> <end>\n"
     ]
    }
   ],
   "source": [
    "print (\"Input Language; index to word mapping\")\n",
    "convert(tokenizer, input_tensor_train[0])\n",
    "print ()\n",
    "print (\"Target Language; index to word mapping\")\n",
    "convert(tokenizer, target_tensor_train[0])"
   ]
  },
  {
   "cell_type": "code",
   "execution_count": 79,
   "metadata": {},
   "outputs": [],
   "source": [
    "inp_lang= tokenizer\n",
    "targ_lang= tokenizer"
   ]
  },
  {
   "cell_type": "code",
   "execution_count": 80,
   "metadata": {},
   "outputs": [],
   "source": [
    "BUFFER_SIZE = len(input_tensor_train)\n",
    "BATCH_SIZE = 64\n",
    "steps_per_epoch = len(input_tensor_train)//BATCH_SIZE\n",
    "embedding_dim = 256\n",
    "units = 1024\n",
    "vocab_inp_size = len(inp_lang.word_index)+1\n",
    "vocab_tar_size = len(targ_lang.word_index)+1\n",
    "\n",
    "dataset = tf.data.Dataset.from_tensor_slices((input_tensor_train, target_tensor_train)).shuffle(BUFFER_SIZE)\n",
    "dataset = dataset.batch(BATCH_SIZE, drop_remainder=True)"
   ]
  },
  {
   "cell_type": "code",
   "execution_count": 81,
   "metadata": {},
   "outputs": [
    {
     "data": {
      "text/plain": [
       "(TensorShape([64, 18]), TensorShape([64, 18]))"
      ]
     },
     "execution_count": 81,
     "metadata": {},
     "output_type": "execute_result"
    }
   ],
   "source": [
    "example_input_batch, example_target_batch = next(iter(dataset))\n",
    "example_input_batch.shape, example_target_batch.shape"
   ]
  },
  {
   "cell_type": "code",
   "execution_count": 82,
   "metadata": {},
   "outputs": [],
   "source": [
    "class Encoder(tf.keras.Model):\n",
    "  def __init__(self, vocab_size, embedding_dim, enc_units, batch_sz):\n",
    "    super(Encoder, self).__init__()\n",
    "    self.batch_sz = batch_sz\n",
    "    self.enc_units = enc_units\n",
    "    self.embedding = tf.keras.layers.Embedding(vocab_size, embedding_dim)\n",
    "    self.gru = tf.keras.layers.GRU(self.enc_units,\n",
    "                                   return_sequences=True,\n",
    "                                   return_state=True,\n",
    "                                   recurrent_initializer='glorot_uniform')\n",
    "\n",
    "  def call(self, x, hidden):\n",
    "    x = self.embedding(x)\n",
    "    output, state = self.gru(x, initial_state = hidden)\n",
    "    return output, state\n",
    "\n",
    "  def initialize_hidden_state(self):\n",
    "    return tf.zeros((self.batch_sz, self.enc_units))"
   ]
  },
  {
   "cell_type": "code",
   "execution_count": 83,
   "metadata": {},
   "outputs": [
    {
     "name": "stdout",
     "output_type": "stream",
     "text": [
      "Encoder output shape: (batch size, sequence length, units) (64, 18, 1024)\n",
      "Encoder Hidden state shape: (batch size, units) (64, 1024)\n"
     ]
    }
   ],
   "source": [
    "encoder = Encoder(vocab_inp_size, embedding_dim, units, BATCH_SIZE)\n",
    "\n",
    "# sample input\n",
    "sample_hidden = encoder.initialize_hidden_state()\n",
    "sample_output, sample_hidden = encoder(example_input_batch, sample_hidden)\n",
    "print ('Encoder output shape: (batch size, sequence length, units) {}'.format(sample_output.shape))\n",
    "print ('Encoder Hidden state shape: (batch size, units) {}'.format(sample_hidden.shape))"
   ]
  },
  {
   "cell_type": "code",
   "execution_count": 84,
   "metadata": {},
   "outputs": [],
   "source": [
    "class BahdanauAttention(tf.keras.layers.Layer):\n",
    "  def __init__(self, units):\n",
    "    super(BahdanauAttention, self).__init__()\n",
    "    self.W1 = tf.keras.layers.Dense(units)\n",
    "    self.W2 = tf.keras.layers.Dense(units)\n",
    "    self.V = tf.keras.layers.Dense(1)\n",
    "\n",
    "  def call(self, query, values):\n",
    "    # query hidden state shape == (batch_size, hidden size)\n",
    "    # query_with_time_axis shape == (batch_size, 1, hidden size)\n",
    "    # values shape == (batch_size, max_len, hidden size)\n",
    "    # we are doing this to broadcast addition along the time axis to calculate the score\n",
    "    query_with_time_axis = tf.expand_dims(query, 1)\n",
    "\n",
    "    # score shape == (batch_size, max_length, 1)\n",
    "    # we get 1 at the last axis because we are applying score to self.V\n",
    "    # the shape of the tensor before applying self.V is (batch_size, max_length, units)\n",
    "    score = self.V(tf.nn.tanh(\n",
    "        self.W1(query_with_time_axis) + self.W2(values)))\n",
    "\n",
    "    # attention_weights shape == (batch_size, max_length, 1)\n",
    "    attention_weights = tf.nn.softmax(score, axis=1)\n",
    "\n",
    "    # context_vector shape after sum == (batch_size, hidden_size)\n",
    "    context_vector = attention_weights * values\n",
    "    context_vector = tf.reduce_sum(context_vector, axis=1)\n",
    "\n",
    "    return context_vector, attention_weights"
   ]
  },
  {
   "cell_type": "code",
   "execution_count": 85,
   "metadata": {},
   "outputs": [
    {
     "name": "stdout",
     "output_type": "stream",
     "text": [
      "Attention result shape: (batch size, units) (64, 1024)\n",
      "Attention weights shape: (batch_size, sequence_length, 1) (64, 18, 1)\n"
     ]
    }
   ],
   "source": [
    "attention_layer = BahdanauAttention(10)\n",
    "attention_result, attention_weights = attention_layer(sample_hidden, sample_output)\n",
    "\n",
    "print(\"Attention result shape: (batch size, units) {}\".format(attention_result.shape))\n",
    "print(\"Attention weights shape: (batch_size, sequence_length, 1) {}\".format(attention_weights.shape))"
   ]
  },
  {
   "cell_type": "code",
   "execution_count": 87,
   "metadata": {},
   "outputs": [],
   "source": [
    "class Decoder(tf.keras.Model):\n",
    "  def __init__(self, vocab_size, embedding_dim, dec_units, batch_sz):\n",
    "    super(Decoder, self).__init__()\n",
    "    self.batch_sz = batch_sz\n",
    "    self.dec_units = dec_units\n",
    "    self.embedding = tf.keras.layers.Embedding(vocab_size, embedding_dim)\n",
    "    self.gru = tf.keras.layers.GRU(self.dec_units,\n",
    "                                   return_sequences=True,\n",
    "                                   return_state=True,\n",
    "                                   recurrent_initializer='glorot_uniform')\n",
    "    self.fc = tf.keras.layers.Dense(vocab_size)\n",
    "\n",
    "    # used for attention\n",
    "    self.attention = BahdanauAttention(self.dec_units)\n",
    "\n",
    "  def call(self, x, hidden, enc_output):\n",
    "    # enc_output shape == (batch_size, max_length, hidden_size)\n",
    "    context_vector, attention_weights = self.attention(hidden, enc_output)\n",
    "\n",
    "    # x shape after passing through embedding == (batch_size, 1, embedding_dim)\n",
    "    x = self.embedding(x)\n",
    "\n",
    "    # x shape after concatenation == (batch_size, 1, embedding_dim + hidden_size)\n",
    "    x = tf.concat([tf.expand_dims(context_vector, 1), x], axis=-1)\n",
    "\n",
    "    # passing the concatenated vector to the GRU\n",
    "    output, state = self.gru(x)\n",
    "\n",
    "    # output shape == (batch_size * 1, hidden_size)\n",
    "    output = tf.reshape(output, (-1, output.shape[2]))\n",
    "\n",
    "    # output shape == (batch_size, vocab)\n",
    "    x = self.fc(output)\n",
    "\n",
    "    return x, state, attention_weights"
   ]
  },
  {
   "cell_type": "code",
   "execution_count": 88,
   "metadata": {},
   "outputs": [
    {
     "name": "stdout",
     "output_type": "stream",
     "text": [
      "Decoder output shape: (batch_size, vocab size) (64, 264)\n"
     ]
    }
   ],
   "source": [
    "decoder = Decoder(vocab_tar_size, embedding_dim, units, BATCH_SIZE)\n",
    "\n",
    "sample_decoder_output, _, _ = decoder(tf.random.uniform((BATCH_SIZE, 1)),\n",
    "                                      sample_hidden, sample_output)\n",
    "\n",
    "print ('Decoder output shape: (batch_size, vocab size) {}'.format(sample_decoder_output.shape))"
   ]
  },
  {
   "cell_type": "code",
   "execution_count": 89,
   "metadata": {},
   "outputs": [],
   "source": [
    "optimizer = tf.keras.optimizers.Adam()\n",
    "loss_object = tf.keras.losses.SparseCategoricalCrossentropy(\n",
    "    from_logits=True, reduction='none')\n",
    "\n",
    "def loss_function(real, pred):\n",
    "  mask = tf.math.logical_not(tf.math.equal(real, 0))\n",
    "  loss_ = loss_object(real, pred)\n",
    "\n",
    "  mask = tf.cast(mask, dtype=loss_.dtype)\n",
    "  loss_ *= mask\n",
    "\n",
    "  return tf.reduce_mean(loss_)"
   ]
  },
  {
   "cell_type": "code",
   "execution_count": 90,
   "metadata": {},
   "outputs": [],
   "source": [
    "checkpoint_dir = './training_checkpoints'\n",
    "checkpoint_prefix = os.path.join(checkpoint_dir, \"ckpt\")\n",
    "checkpoint = tf.train.Checkpoint(optimizer=optimizer,\n",
    "                                 encoder=encoder,\n",
    "                                 decoder=decoder)"
   ]
  },
  {
   "cell_type": "code",
   "execution_count": 91,
   "metadata": {},
   "outputs": [],
   "source": [
    "@tf.function\n",
    "def train_step(inp, targ, enc_hidden):\n",
    "  loss = 0\n",
    "\n",
    "  with tf.GradientTape() as tape:\n",
    "    enc_output, enc_hidden = encoder(inp, enc_hidden)\n",
    "\n",
    "    dec_hidden = enc_hidden\n",
    "\n",
    "    dec_input = tf.expand_dims([targ_lang.word_index['<start>']] * BATCH_SIZE, 1)\n",
    "\n",
    "    # Teacher forcing - feeding the target as the next input\n",
    "    for t in range(1, targ.shape[1]):\n",
    "      # passing enc_output to the decoder\n",
    "      predictions, dec_hidden, _ = decoder(dec_input, dec_hidden, enc_output)\n",
    "\n",
    "      loss += loss_function(targ[:, t], predictions)\n",
    "\n",
    "      # using teacher forcing\n",
    "      dec_input = tf.expand_dims(targ[:, t], 1)\n",
    "\n",
    "  batch_loss = (loss / int(targ.shape[1]))\n",
    "\n",
    "  variables = encoder.trainable_variables + decoder.trainable_variables\n",
    "\n",
    "  gradients = tape.gradient(loss, variables)\n",
    "\n",
    "  optimizer.apply_gradients(zip(gradients, variables))\n",
    "\n",
    "  return batch_loss"
   ]
  },
  {
   "cell_type": "code",
   "execution_count": 95,
   "metadata": {},
   "outputs": [
    {
     "name": "stdout",
     "output_type": "stream",
     "text": [
      "Epoch 1 Batch 0 Loss 0.0734\n",
      "Epoch 1 Loss 0.1413\n",
      "Time taken for 1 epoch 13.178000450134277 sec\n",
      "\n",
      "Epoch 2 Batch 0 Loss 0.1519\n",
      "Epoch 2 Loss 0.1427\n",
      "Time taken for 1 epoch 14.893232107162476 sec\n",
      "\n",
      "Epoch 3 Batch 0 Loss 0.1042\n",
      "Epoch 3 Loss 0.2226\n",
      "Time taken for 1 epoch 13.69899868965149 sec\n",
      "\n",
      "Epoch 4 Batch 0 Loss 0.2022\n",
      "Epoch 4 Loss 0.2613\n",
      "Time taken for 1 epoch 14.632159948348999 sec\n",
      "\n",
      "Epoch 5 Batch 0 Loss 0.1592\n",
      "Epoch 5 Loss 0.1510\n",
      "Time taken for 1 epoch 13.435999393463135 sec\n",
      "\n"
     ]
    }
   ],
   "source": [
    "EPOCHS = 5\n",
    "\n",
    "for epoch in range(EPOCHS):\n",
    "  start = time.time()\n",
    "\n",
    "  enc_hidden = encoder.initialize_hidden_state()\n",
    "  total_loss = 0\n",
    "\n",
    "  for (batch, (inp, targ)) in enumerate(dataset.take(steps_per_epoch)):\n",
    "    batch_loss = train_step(inp, targ, enc_hidden)\n",
    "    total_loss += batch_loss\n",
    "\n",
    "    if batch % 100 == 0:\n",
    "      print('Epoch {} Batch {} Loss {:.4f}'.format(epoch + 1,\n",
    "                                                   batch,\n",
    "                                                   batch_loss.numpy()))\n",
    "  # saving (checkpoint) the model every 2 epochs\n",
    "  if (epoch + 1) % 2 == 0:\n",
    "    checkpoint.save(file_prefix = checkpoint_prefix)\n",
    "\n",
    "  print('Epoch {} Loss {:.4f}'.format(epoch + 1,\n",
    "                                      total_loss / steps_per_epoch))\n",
    "  print('Time taken for 1 epoch {} sec\\n'.format(time.time() - start))"
   ]
  },
  {
   "cell_type": "code",
   "execution_count": 101,
   "metadata": {},
   "outputs": [],
   "source": [
    "max_length_targ= 18\n",
    "max_length_inp= 18\n",
    "def evaluate(sentence):\n",
    "  attention_plot = np.zeros((max_length_targ, max_length_inp))\n",
    "\n",
    "  sentence = preprocess_sentence(sentence)\n",
    "\n",
    "  inputs = [inp_lang.word_index[i] for i in sentence.split(' ')]\n",
    "  inputs = tf.keras.preprocessing.sequence.pad_sequences([inputs],\n",
    "                                                         maxlen=max_length_inp,\n",
    "                                                         padding='post')\n",
    "  inputs = tf.convert_to_tensor(inputs)\n",
    "\n",
    "  result = ''\n",
    "\n",
    "  hidden = [tf.zeros((1, units))]\n",
    "  enc_out, enc_hidden = encoder(inputs, hidden)\n",
    "\n",
    "  dec_hidden = enc_hidden\n",
    "  dec_input = tf.expand_dims([targ_lang.word_index['<start>']], 0)\n",
    "\n",
    "  for t in range(max_length_targ):\n",
    "    predictions, dec_hidden, attention_weights = decoder(dec_input,\n",
    "                                                         dec_hidden,\n",
    "                                                         enc_out)\n",
    "\n",
    "    # storing the attention weights to plot later on\n",
    "    attention_weights = tf.reshape(attention_weights, (-1, ))\n",
    "    attention_plot[t] = attention_weights.numpy()\n",
    "\n",
    "    predicted_id = tf.argmax(predictions[0]).numpy()\n",
    "\n",
    "    result += targ_lang.index_word[predicted_id] + ' '\n",
    "\n",
    "    if targ_lang.index_word[predicted_id] == '<end>':\n",
    "      return result, sentence, attention_plot\n",
    "\n",
    "    # the predicted ID is fed back into the model\n",
    "    dec_input = tf.expand_dims([predicted_id], 0)\n",
    "\n",
    "  return result, sentence, attention_plot"
   ]
  },
  {
   "cell_type": "code",
   "execution_count": 98,
   "metadata": {},
   "outputs": [],
   "source": [
    "# function for plotting the attention weights\n",
    "def plot_attention(attention, sentence, predicted_sentence):\n",
    "  fig = plt.figure(figsize=(10,10))\n",
    "  ax = fig.add_subplot(1, 1, 1)\n",
    "  ax.matshow(attention, cmap='viridis')\n",
    "\n",
    "  fontdict = {'fontsize': 14}\n",
    "\n",
    "  ax.set_xticklabels([''] + sentence, fontdict=fontdict, rotation=90)\n",
    "  ax.set_yticklabels([''] + predicted_sentence, fontdict=fontdict)\n",
    "\n",
    "  ax.xaxis.set_major_locator(ticker.MultipleLocator(1))\n",
    "  ax.yaxis.set_major_locator(ticker.MultipleLocator(1))\n",
    "\n",
    "  plt.show()"
   ]
  },
  {
   "cell_type": "code",
   "execution_count": 96,
   "metadata": {},
   "outputs": [],
   "source": [
    "def preprocess_sentence(w):\n",
    "#   w = unicode_to_ascii(w.lower().strip())\n",
    "\n",
    "  # creating a space between a word and the punctuation following it\n",
    "  # eg: \"he is a boy.\" => \"he is a boy .\"\n",
    "  # Reference:- https://stackoverflow.com/questions/3645931/python-padding-punctuation-with-white-spaces-keeping-punctuation\n",
    "#   w = re.sub(r\"([?.!,¿])\", r\" \\1 \", w)\n",
    "#   w = re.sub(r'[\" \"]+', \" \", w)\n",
    "\n",
    "  # replacing everything with space except (a-z, A-Z, \".\", \"?\", \"!\", \",\")\n",
    "#   w = re.sub(r\"[^a-zA-Z?.!,¿]+\", \" \", w)\n",
    "\n",
    "  w = w.strip()\n",
    "\n",
    "  # adding a start and an end token to the sentence\n",
    "  # so that the model know when to start and stop predicting.\n",
    "  w = '<start> ' + w + ' <end>'\n",
    "  return w"
   ]
  },
  {
   "cell_type": "code",
   "execution_count": 99,
   "metadata": {},
   "outputs": [],
   "source": [
    "def translate(sentence):\n",
    "  result, sentence, attention_plot = evaluate(sentence)\n",
    "\n",
    "  print('Input: %s' % (sentence))\n",
    "  print('Predicted translation: {}'.format(result))\n",
    "\n",
    "  attention_plot = attention_plot[:len(result.split(' ')), :len(sentence.split(' '))]\n",
    "  plot_attention(attention_plot, sentence.split(' '), result.split(' '))"
   ]
  },
  {
   "cell_type": "code",
   "execution_count": 117,
   "metadata": {
    "scrolled": false
   },
   "outputs": [
    {
     "name": "stdout",
     "output_type": "stream",
     "text": [
      "Input: <start> d4 nf6 c4 g6 nc3 bg7 e4 d6 be2 o-o be3 na6 nf3 e5 o-o ng4 <end>\n",
      "Predicted translation: d4 nf6 c4 g6 nc3 bg7 e4 d6 be2 o-o be3 na6 nf3 e5 o-o ng4 <end> \n"
     ]
    },
    {
     "data": {
      "image/png": "[encoded data removed]",
      "text/plain": [
       "<Figure size 720x720 with 1 Axes>"
      ]
     },
     "metadata": {
      "needs_background": "light"
     },
     "output_type": "display_data"
    },
    {
     "name": "stdout",
     "output_type": "stream",
     "text": [
      "Input: <start> e4 c5 nf3 e6 d4 cxd4 nxd4 nf6 nc3 d6 bb5+ nbd7 o-o be7 be3 o-o <end>\n",
      "Predicted translation: e4 c5 nf3 e6 d4 cxd4 nxd4 nf6 nc3 d6 bb5+ nbd7 o-o be7 be3 o-o <end> \n"
     ]
    },
    {
     "data": {
      "image/png": "[encoded data removed]",
      "text/plain": [
       "<Figure size 720x720 with 1 Axes>"
      ]
     },
     "metadata": {
      "needs_background": "light"
     },
     "output_type": "display_data"
    },
    {
     "name": "stdout",
     "output_type": "stream",
     "text": [
      "Input: <start> e4 e5 nf3 nc6 bc4 nf6 ng5 d5 exd5 na5 bb5+ c6 dxc6 bxc6 bd3 nd5 <end>\n",
      "Predicted translation: e4 e5 nf3 nc6 bc4 nf6 ng5 d5 exd5 cxd5 nxf4 c6 d3 d5 <end> \n"
     ]
    },
    {
     "data": {
      "image/png": "[encoded data removed]",
      "text/plain": [
       "<Figure size 720x720 with 1 Axes>"
      ]
     },
     "metadata": {
      "needs_background": "light"
     },
     "output_type": "display_data"
    },
    {
     "name": "stdout",
     "output_type": "stream",
     "text": [
      "Input: <start> e4 c5 nf3 e6 d4 cxd4 nxd4 a6 c4 qc7 nc3 nf6 be3 bb4 qd2 nxe4 <end>\n",
      "Predicted translation: e4 c5 nf3 e6 d4 cxd4 nxd4 a6 c4 qc7 nc3 nf6 be3 bb4 qd2 nxe4 <end> \n"
     ]
    },
    {
     "data": {
      "image/png": "[encoded data removed]",
      "text/plain": [
       "<Figure size 720x720 with 1 Axes>"
      ]
     },
     "metadata": {
      "needs_background": "light"
     },
     "output_type": "display_data"
    }
   ],
   "source": [
    "for i in range( 0,4):\n",
    "    translate( \" \".join( labels[i].split()[1:-1]).lower())"
   ]
  },
  {
   "cell_type": "code",
   "execution_count": 114,
   "metadata": {},
   "outputs": [
    {
     "data": {
      "text/plain": [
       "'d4 Nf6 c4 g6 Nc3 Bg7 e4 d6 Be2 O-O Be3 Na6 Nf3 e5 O-O Ng4'"
      ]
     },
     "execution_count": 114,
     "metadata": {},
     "output_type": "execute_result"
    }
   ],
   "source": [
    "\" \".join( labels[0].split()[1:-1])"
   ]
  }
 ],
 "metadata": {
  "kernelspec": {
   "display_name": "Python 3",
   "language": "python",
   "name": "python3"
  },
  "language_info": {
   "codemirror_mode": {
    "name": "ipython",
    "version": 3
   },
   "file_extension": ".py",
   "mimetype": "text/x-python",
   "name": "python",
   "nbconvert_exporter": "python",
   "pygments_lexer": "ipython3",
   "version": "3.8.2"
  }
 },
 "nbformat": 4,
 "nbformat_minor": 4
}
