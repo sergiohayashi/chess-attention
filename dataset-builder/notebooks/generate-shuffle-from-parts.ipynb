{
 "cells": [
  {
   "cell_type": "code",
   "execution_count": 14,
   "metadata": {
    "scrolled": true
   },
   "outputs": [
    {
     "name": "stdout",
     "output_type": "stream",
     "text": [
      "Found GPU at: \n",
      "2.2.0\n"
     ]
    }
   ],
   "source": [
    "import tensorflow as tf\n",
    "device_name = tf.test.gpu_device_name()\n",
    "# if device_name != '/device:GPU:0':\n",
    "#   raise SystemError('GPU device not found')\n",
    "print('Found GPU at: {}'.format(device_name))\n",
    "\n",
    "# You'll generate plots of attention in order to see which parts of an image\n",
    "# our model focuses on during captioning\n",
    "import matplotlib.pyplot as plt\n",
    "\n",
    "# Scikit-learn includes many helpful utilities\n",
    "from sklearn.model_selection import train_test_split\n",
    "from sklearn.utils import shuffle\n",
    "\n",
    "import re\n",
    "import numpy as np  \n",
    "import os\n",
    "import time\n",
    "import json\n",
    "from glob import glob\n",
    "from PIL import Image\n",
    "import pickle\n",
    "import cv2\n",
    "from sklearn.utils import shuffle\n",
    "\n",
    "print(tf.__version__) \n"
   ]
  },
  {
   "cell_type": "code",
   "execution_count": 15,
   "metadata": {},
   "outputs": [],
   "source": [
    "from IPython.display import clear_output, display\n",
    "import os.path\n",
    "from os import path\n",
    "import shutil\n",
    "import PIL\n",
    "from pathlib import Path\n",
    "from matplotlib import pyplot as plt"
   ]
  },
  {
   "cell_type": "code",
   "execution_count": 16,
   "metadata": {},
   "outputs": [],
   "source": [
    "BASE_DIR= '/mestrado/datasets'\n",
    "IMG_ORG_DIR= path.join( BASE_DIR, 'carnaval_8lines_shuffle_parts', 'images')\n",
    "LABELS_ORG_DIR= path.join( BASE_DIR, 'carnaval_8lines_shuffle_parts', 'labels')"
   ]
  },
  {
   "cell_type": "code",
   "execution_count": 17,
   "metadata": {},
   "outputs": [],
   "source": [
    "def read_label( path):\n",
    "  f= open( path)\n",
    "  d= f.read()\n",
    "  f.close()\n",
    "  return d \n",
    "\n",
    "def write_label( path, text):\n",
    "  f= open( path, \"w\")\n",
    "  f.write( text)\n",
    "  f.close()\n",
    "\n",
    "def show_image( img, name= 'noname'):\n",
    "  plt.imshow( img)\n",
    "  plt.title( name)\n",
    "  plt.show()\n",
    "\n",
    "def show_gimage( img, name= 'noname'):\n",
    "  plt.imshow( img, cmap= 'gray')\n",
    "  plt.title( name)\n",
    "  plt.show()\n",
    "\n",
    "def _load_image( path):\n",
    "  # return cv2.imread( path, cv2.IMREAD_GRAYSCALE)\n",
    "  return cv2.imread( path)\n",
    "  \n",
    "def write_image( path, img):\n",
    "  cv2.imwrite( path, img)\n",
    "\n",
    "def resize( img, scale_percent= 60, verbose=False):\n",
    "  #scale_percent = 60 # percent of original size\n",
    "  width = int(img.shape[1] * scale_percent / 100)\n",
    "  height = int(img.shape[0] * scale_percent / 100)\n",
    "  dim = (width, height)\n",
    "  if verbose:\n",
    "    print( \"scale\", scale_percent)\n",
    "    print( \"dim\", dim)\n",
    "  # resize image\n",
    "  return cv2.resize(img, dim, interpolation = cv2.INTER_AREA) "
   ]
  },
  {
   "cell_type": "code",
   "execution_count": 18,
   "metadata": {},
   "outputs": [],
   "source": [
    "def _load_all():\n",
    "    all_images= glob( os.path.join( IMG_ORG_DIR, \"*.jpg\"))\n",
    "    all_images.sort()\n",
    "    all_images_content= [_load_image( f) for f in all_images]    \n",
    "    all_images_content= np.asarray( all_images_content)\n",
    "\n",
    "    all_labels=glob( os.path.join( LABELS_ORG_DIR, \"*.pgn\"))\n",
    "    all_labels.sort()\n",
    "\n",
    "    all_labels_content= [read_label( f) for f in all_labels]\n",
    "    return all_images, all_images_content, all_labels, all_labels_content\n",
    "\n",
    "def cut( img, lines, cols):\n",
    "    cuts= []\n",
    "    h= (int)(img.shape[ 0]/lines)\n",
    "    w= (int)(img.shape[ 1]/cols)\n",
    "\n",
    "    for i in range(0,lines):\n",
    "      for j in range(0,cols):\n",
    "        cuts.append( img[ (i*h):(i+1)*h, (j*w):(j+1)*w])\n",
    "    return np.array( cuts)\n",
    "\n",
    "def rebuild( cuts):\n",
    "    return np.concatenate( \n",
    "        (np.concatenate( (cuts[0], cuts[2], cuts[4], cuts[6], cuts[8], cuts[10], cuts[12], cuts[14]), axis=0),\n",
    "        np.concatenate( (cuts[1], cuts[3], cuts[5], cuts[7], cuts[9], cuts[11], cuts[13], cuts[15]), axis=0)),\n",
    "        axis= 1\n",
    "    )\n",
    "\n",
    "def _shuffle( img, label, k):\n",
    "    cuts= cut( img, 8, 2)\n",
    "\n",
    "    newcuts, newlabel= shuffle( cuts, label, random_state= k)\n",
    "    newimg= rebuild( newcuts)\n",
    "    return newimg, newlabel\n"
   ]
  },
  {
   "cell_type": "code",
   "execution_count": 19,
   "metadata": {
    "scrolled": false
   },
   "outputs": [
    {
     "name": "stdout",
     "output_type": "stream",
     "text": [
      "0\n",
      "500\n",
      "1000\n",
      "1500\n",
      "2000\n",
      "2500\n",
      "3000\n",
      "3500\n",
      "DONE\n"
     ]
    }
   ],
   "source": [
    "IMG_TARGET_DIR= path.join( BASE_DIR, 'carnaval_8lines_shuffle_from_parts_4k', 'images')\n",
    "LABELS_TARGET_DIR= path.join( BASE_DIR, 'carnaval_8lines_shuffle_from_parts_4k', 'labels')\n",
    "\n",
    "all_images, all_image_content, all_labels_files, label_content= _load_all()\n",
    "\n",
    "new_cuts= all_image_content\n",
    "new_labels= label_content\n",
    "\n",
    "size= len( new_cuts)\n",
    "def generate(N):\n",
    "    count= 0;\n",
    "    \n",
    "    for i in range( 0, N):\n",
    "        id= [np.random.randint(0, size) for _ in range( 0, 16)]\n",
    "        \n",
    "        img= rebuild( [new_cuts[j] for j in id])\n",
    "        label= [new_labels[j] for j in id]\n",
    "        tag= \"shuffled_\"+str(i+1).zfill(5) \n",
    "        write_image( os.path.join( IMG_TARGET_DIR, tag+ \".jpg\"), resize( img, 50))\n",
    "        write_label( os.path.join( LABELS_TARGET_DIR, tag+ \".pgn\"), \" \".join( label))\n",
    "        if i%500== 0:\n",
    "            print( i)\n",
    "            \n",
    "generate(4000)\n",
    "print( \"DONE\")"
   ]
  }
 ],
 "metadata": {
  "kernelspec": {
   "display_name": "Python 3",
   "language": "python",
   "name": "python3"
  },
  "language_info": {
   "codemirror_mode": {
    "name": "ipython",
    "version": 3
   },
   "file_extension": ".py",
   "mimetype": "text/x-python",
   "name": "python",
   "nbconvert_exporter": "python",
   "pygments_lexer": "ipython3",
   "version": "3.8.2"
  }
 },
 "nbformat": 4,
 "nbformat_minor": 4
}
