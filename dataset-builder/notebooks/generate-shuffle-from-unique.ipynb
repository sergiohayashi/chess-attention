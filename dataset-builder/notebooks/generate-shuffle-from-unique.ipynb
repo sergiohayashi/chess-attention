{
 "cells": [
  {
   "cell_type": "code",
   "execution_count": 1,
   "metadata": {},
   "outputs": [
    {
     "name": "stdout",
     "output_type": "stream",
     "text": [
      "Found GPU at: \n",
      "2.2.0\n"
     ]
    }
   ],
   "source": [
    "import tensorflow as tf\n",
    "device_name = tf.test.gpu_device_name()\n",
    "# if device_name != '/device:GPU:0':\n",
    "#   raise SystemError('GPU device not found')\n",
    "print('Found GPU at: {}'.format(device_name))\n",
    "\n",
    "# You'll generate plots of attention in order to see which parts of an image\n",
    "# our model focuses on during captioning\n",
    "import matplotlib.pyplot as plt\n",
    "\n",
    "# Scikit-learn includes many helpful utilities\n",
    "from sklearn.model_selection import train_test_split\n",
    "from sklearn.utils import shuffle\n",
    "\n",
    "import re\n",
    "import numpy as np  \n",
    "import os\n",
    "import time\n",
    "import json\n",
    "from glob import glob\n",
    "from PIL import Image\n",
    "import pickle\n",
    "import cv2\n",
    "from sklearn.utils import shuffle\n",
    "\n",
    "print(tf.__version__) \n"
   ]
  },
  {
   "cell_type": "code",
   "execution_count": 2,
   "metadata": {},
   "outputs": [],
   "source": [
    "from IPython.display import clear_output, display\n",
    "import os.path\n",
    "from os import path\n",
    "import shutil\n",
    "import PIL\n",
    "from pathlib import Path\n",
    "from matplotlib import pyplot as plt"
   ]
  },
  {
   "cell_type": "code",
   "execution_count": 3,
   "metadata": {},
   "outputs": [],
   "source": [
    "BASE_DIR= '/mestrado/datasets'\n",
    "IMG_ORG_DIR= path.join( BASE_DIR, 'carnaval_8lines_shuffle_orig', 'images')\n",
    "LABELS_ORG_DIR= path.join( BASE_DIR, 'carnaval_8lines_shuffle_orig', 'labels')\n",
    "IMG_TARGET_DIR= path.join( BASE_DIR, 'carnaval_8lines_unique', 'images')\n",
    "LABELS_TARGET_DIR= path.join( BASE_DIR, 'carnaval_8lines_unique', 'labels')"
   ]
  },
  {
   "cell_type": "code",
   "execution_count": 4,
   "metadata": {},
   "outputs": [],
   "source": [
    "def read_label( path):\n",
    "  f= open( path)\n",
    "  d= f.read()\n",
    "  f.close()\n",
    "  return d \n",
    "\n",
    "def write_label( path, text):\n",
    "  f= open( path, \"w\")\n",
    "  f.write( text)\n",
    "  f.close()\n",
    "\n",
    "def show_image( img, name= 'noname'):\n",
    "  plt.imshow( img)\n",
    "  plt.title( name)\n",
    "  plt.show()\n",
    "\n",
    "def show_gimage( img, name= 'noname'):\n",
    "  plt.imshow( img, cmap= 'gray')\n",
    "  plt.title( name)\n",
    "  plt.show()\n",
    "\n",
    "def _load_image( path):\n",
    "  # return cv2.imread( path, cv2.IMREAD_GRAYSCALE)\n",
    "  return cv2.imread( path)\n",
    "  \n",
    "def write_image( path, img):\n",
    "  cv2.imwrite( path, img)\n",
    "\n",
    "def resize( img, scale_percent= 60, verbose=False):\n",
    "  #scale_percent = 60 # percent of original size\n",
    "  width = int(img.shape[1] * scale_percent / 100)\n",
    "  height = int(img.shape[0] * scale_percent / 100)\n",
    "  dim = (width, height)\n",
    "  if verbose:\n",
    "    print( \"scale\", scale_percent)\n",
    "    print( \"dim\", dim)\n",
    "  # resize image\n",
    "  return cv2.resize(img, dim, interpolation = cv2.INTER_AREA) "
   ]
  },
  {
   "cell_type": "code",
   "execution_count": 15,
   "metadata": {},
   "outputs": [],
   "source": [
    "def _load_all():\n",
    "    all_images= glob( os.path.join( IMG_ORG_DIR, \"*_0392_line_1_8.jpg\"))\n",
    "    # all_images= glob( '/content/carnaval_8lines/images/*.jpg')\n",
    "    all_images.sort()\n",
    "    all_images_content= [_load_image( f) for f in all_images]    \n",
    "    all_images_content= np.asarray( all_images_content)\n",
    "\n",
    "    all_labels=glob( os.path.join( LABELS_ORG_DIR, \"*_0392_line_1_8.pgn\"))\n",
    "    all_labels.sort()\n",
    "\n",
    "    #ler todo o conteudo de labels e criar o vocabulario\n",
    "    all_labels_content= [read_label( f) for f in all_labels]\n",
    "    all_labels_content= [label.split() for label in all_labels_content]\n",
    "\n",
    "    # pega somente os primeiros 4, equivalente a 1 poagina\n",
    "    all_labels_content= [x[0:16] for x in all_labels_content]\n",
    "\n",
    "    #complementa onde falta para completar 100\n",
    "    all_labels_content= [\n",
    "                np.pad( x, (0,16-len(x)), 'constant', constant_values= 'end') for x in all_labels_content]\n",
    "    return all_images, all_images_content, all_labels, all_labels_content\n",
    "\n",
    "\n",
    "def cut( img, lines, cols):\n",
    "    cuts= []\n",
    "    h= (int)(img.shape[ 0]/lines)\n",
    "    w= (int)(img.shape[ 1]/cols)\n",
    "\n",
    "    for i in range(0,lines):\n",
    "      for j in range(0,cols):\n",
    "        cuts.append( img[ (i*h):(i+1)*h, (j*w):(j+1)*w])\n",
    "    return np.array( cuts)\n",
    "\n",
    "def rebuild( cuts):\n",
    "    return np.concatenate( \n",
    "        (np.concatenate( (cuts[0], cuts[2], cuts[4], cuts[6], cuts[8], cuts[10], cuts[12], cuts[14]), axis=0),\n",
    "        np.concatenate( (cuts[1], cuts[3], cuts[5], cuts[7], cuts[9], cuts[11], cuts[13], cuts[15]), axis=0)),\n",
    "        axis= 1\n",
    "    )\n",
    "\n",
    "def _shuffle( img, label, k):\n",
    "    cuts= cut( img, 8, 2)\n",
    "\n",
    "    # newcuts, newlabel= np.random.shuffle( cuts)\n",
    "    newcuts, newlabel= shuffle( cuts, label, random_state= k)\n",
    "    newimg= rebuild( newcuts)\n",
    "    return newimg, newlabel\n"
   ]
  },
  {
   "cell_type": "code",
   "execution_count": 16,
   "metadata": {},
   "outputs": [],
   "source": [
    "all_images, all_image_content, all_labels, label_content= _load_all()"
   ]
  },
  {
   "cell_type": "code",
   "execution_count": 17,
   "metadata": {},
   "outputs": [
    {
     "data": {
      "text/plain": [
       "['/mestrado/datasets\\\\carnaval_8lines_shuffle_orig\\\\images\\\\carnaval_0392_line_1_8.jpg']"
      ]
     },
     "execution_count": 17,
     "metadata": {},
     "output_type": "execute_result"
    }
   ],
   "source": [
    "all_images"
   ]
  },
  {
   "cell_type": "code",
   "execution_count": 18,
   "metadata": {
    "scrolled": true
   },
   "outputs": [
    {
     "name": "stdout",
     "output_type": "stream",
     "text": [
      "['d4' 'Nf6' 'Nf3' 'e6' 'c4' 'Bb4+' 'Bd2' 'a5' 'Nc3' 'O-O' 'Qc2' 'd5' 'e3'\n",
      " 'b6' 'Bd3' 'Bb7']\n"
     ]
    },
    {
     "data": {
      "image/png": "[encoded data removed]",
      "text/plain": [
       "<Figure size 432x288 with 1 Axes>"
      ]
     },
     "metadata": {
      "needs_background": "light"
     },
     "output_type": "display_data"
    }
   ],
   "source": [
    "print( label_content[0])\n",
    "show_image( all_image_content[0])"
   ]
  },
  {
   "cell_type": "code",
   "execution_count": 19,
   "metadata": {},
   "outputs": [
    {
     "name": "stdout",
     "output_type": "stream",
     "text": [
      "(290, 339, 3)\n"
     ]
    }
   ],
   "source": [
    "print( resize( all_image_content[0], 50).shape)"
   ]
  },
  {
   "cell_type": "code",
   "execution_count": 21,
   "metadata": {
    "scrolled": false
   },
   "outputs": [
    {
     "name": "stdout",
     "output_type": "stream",
     "text": [
      "100\n",
      "200\n",
      "300\n",
      "400\n",
      "500\n",
      "600\n",
      "700\n",
      "800\n",
      "900\n",
      "1000\n",
      "1100\n",
      "1200\n",
      "1300\n",
      "1400\n",
      "1500\n",
      "1600\n",
      "1700\n",
      "1800\n",
      "1900\n",
      "2000\n",
      "2100\n",
      "2200\n",
      "2300\n",
      "2400\n",
      "2500\n",
      "2600\n",
      "2700\n",
      "2800\n",
      "2900\n",
      "3000\n",
      "DONE\n"
     ]
    }
   ],
   "source": [
    "def generate(N):\n",
    "    count= 0;\n",
    "    while True:\n",
    "        for i in range( 0, len( all_image_content)):\n",
    "            img, label= _shuffle(all_image_content[i], label_content[i], count)\n",
    "            tag= \"_\"+ str(count).zfill(5)+\"_MM\" \n",
    "            write_image( \n",
    "                os.path.join( IMG_TARGET_DIR, \n",
    "                             os.path.basename( all_images[i]).replace( \".jpg\", tag+\".jpg\")), resize( img, 50))\n",
    "            write_label( \n",
    "                os.path.join( LABELS_TARGET_DIR, \n",
    "                             os.path.basename( all_labels[i]).replace( \".pgn\", tag+\".pgn\")), \" \".join( label))\n",
    "            count+= 1\n",
    "            if count%100== 0:\n",
    "                print( count)\n",
    "            if count>= N:\n",
    "                return\n",
    "            \n",
    "generate(3000)\n",
    "print( \"DONE\")\n"
   ]
  },
  {
   "cell_type": "code",
   "execution_count": null,
   "metadata": {},
   "outputs": [],
   "source": [
    "#le os arquivos de imagens"
   ]
  },
  {
   "cell_type": "code",
   "execution_count": null,
   "metadata": {},
   "outputs": [],
   "source": [
    "def read_text_file( filename):\n",
    "    f= open( filename, 'r')\n",
    "    d= f.read()\n",
    "    f.close()\n",
    "    return d"
   ]
  },
  {
   "cell_type": "code",
   "execution_count": null,
   "metadata": {},
   "outputs": [],
   "source": [
    "def show( img):\n",
    "    plt.imshow( img)\n",
    "    plt.title( 'picture')\n",
    "    plt.show()"
   ]
  },
  {
   "cell_type": "code",
   "execution_count": null,
   "metadata": {},
   "outputs": [],
   "source": [
    "#le imagem e label para \n",
    "def read_original( original_image_file):\n",
    "    \n",
    "    #original_file= \"carnaval_original_0001.jpg\"    \n",
    "    filename= Path( original_image_file).name\n",
    "\n",
    "    img= cv2.imread( original_image_file)\n",
    "    label= read_text_file( \n",
    "        path.join( Path( original_image_file).parent, \n",
    "                  \"..\", \n",
    "                  \"labels\",\n",
    "                  filename[0:-3]+\"pgn\"\n",
    "                 )\n",
    "    )\n",
    "    return img, line_to_words( label)\n",
    "\n",
    "img, label= read_original( filenames[0])"
   ]
  },
  {
   "cell_type": "code",
   "execution_count": null,
   "metadata": {},
   "outputs": [],
   "source": [
    "show( img)"
   ]
  },
  {
   "cell_type": "code",
   "execution_count": null,
   "metadata": {},
   "outputs": [],
   "source": [
    "label"
   ]
  },
  {
   "cell_type": "code",
   "execution_count": null,
   "metadata": {},
   "outputs": [],
   "source": [
    "def filter_numeros( line):\n",
    "    return re.sub( r\"\\d+\\.\", '', line)"
   ]
  },
  {
   "cell_type": "code",
   "execution_count": null,
   "metadata": {},
   "outputs": [],
   "source": [
    "filter_numeros( label)"
   ]
  },
  {
   "cell_type": "code",
   "execution_count": null,
   "metadata": {},
   "outputs": [],
   "source": [
    "def filter_chaves( s):\n",
    "    _in= False\n",
    "    r= []\n",
    "    for x in s:\n",
    "        if _in:\n",
    "            if x== '}':\n",
    "                _in= False\n",
    "            continue\n",
    "\n",
    "        #not in\n",
    "        if x== '{':\n",
    "            _in= True\n",
    "            continue\n",
    "            \n",
    "        #not in & x!= '{'\n",
    "        r.append( x)\n",
    "    return ''.join(r)\n",
    "\n",
    "filter_chaves( 'jdflkasjd{djklsafd} dfasdjf f{dkjfl}jk {}x)')\n",
    "\n"
   ]
  },
  {
   "cell_type": "code",
   "execution_count": null,
   "metadata": {},
   "outputs": [],
   "source": [
    "def lines_to_words( all_lines):\n",
    "    #filtered= [re.split( r'###', line)[1].lstrip().rstrip() for line in all_lines]\n",
    "    filtered= [line.lstrip().rstrip() for line in all_lines]\n",
    "    filtered= [filter_chaves( line) for line in filtered]\n",
    "    filtered= [filter_numeros( line) for line in filtered]\n",
    "    filtered= [line.split() for line in filtered]\n",
    "    all_words= np.concatenate( filtered)   # matriz para vetor..\n",
    "    return all_words\n",
    "    \n",
    "    #unique, counts= np.unique( all_words, return_counts= True)\n",
    "    #words= np.asarray( (unique, counts)).T\n",
    "    #return words"
   ]
  },
  {
   "cell_type": "code",
   "execution_count": null,
   "metadata": {},
   "outputs": [],
   "source": [
    "def line_to_words( line):\n",
    "    return lines_to_words([line])"
   ]
  },
  {
   "cell_type": "code",
   "execution_count": null,
   "metadata": {},
   "outputs": [],
   "source": [
    "#words= line_to_words( label)"
   ]
  },
  {
   "cell_type": "code",
   "execution_count": null,
   "metadata": {},
   "outputs": [],
   "source": [
    "len( words)"
   ]
  },
  {
   "cell_type": "code",
   "execution_count": null,
   "metadata": {},
   "outputs": [],
   "source": [
    "def write_text_file( filename, data):\n",
    "    f= open( filename, \"w\")\n",
    "    f.write( data)\n",
    "    f.close()\n",
    "    #print( \"Write text to \"+ filename)"
   ]
  },
  {
   "cell_type": "code",
   "execution_count": null,
   "metadata": {},
   "outputs": [],
   "source": [
    "def crop_only( img, y, h, x, w):\n",
    "    crop_img= img[ y:y+h, x:x+w]\n",
    "    return crop_img"
   ]
  },
  {
   "cell_type": "code",
   "execution_count": null,
   "metadata": {},
   "outputs": [],
   "source": [
    "# 1. Gerar recorte de 8 linhas, tirando a coluna do meio e salvar \n",
    "# em 8lines. Nomear como \"carnaval_0001_line1_8\"\n",
    "def do_crop_8lines( img):\n",
    "    crop_img= crop_only( img, 599-pad, 560+2*pad, 467, 774)\n",
    "    final_img= np.concatenate((\n",
    "        crop_only( crop_img, 0, crop_img.shape[0], 0, 339), \n",
    "        crop_only( crop_img, 0, crop_img.shape[0], 339+96, 339)\n",
    "    ), axis=1)\n",
    "    return final_img\n",
    "\n",
    "def extract_8lines_image( img):\n",
    "    return do_crop_8lines( img)\n",
    "\n",
    "def generate_8lines( img, words, image_fullpath):\n",
    "    if len( words)< 16:\n",
    "        print( \"Menos de 16 movimentos. Skip..\")\n",
    "        return None\n",
    "    \n",
    "    folder= path.join( BASE_DIR, \"carnaval_8lines\")\n",
    "    \n",
    "    #original_file= \"carnaval_original_0001.jpg\"    \n",
    "    filename= Path( image_fullpath).name\n",
    "    \n",
    "    # define nome\n",
    "    new_name= \"carnaval_\"+filename[18:22]+ \"_line_1_8\"\n",
    "    new_image_file= path.join( folder, \"images\", new_name+ '.jpg')\n",
    "    new_label_file= path.join( folder, \"labels\", new_name+ '.pgn')\n",
    "    \n",
    "    new_img= extract_8lines_image( img)  #TODO: extrair imagem\n",
    "    new_pgn= \" \".join( words[0:16])  #TODO: extrair texto\n",
    "    \n",
    "    # escreve arquivo\n",
    "    cv2.imwrite( new_image_file, new_img)\n",
    "    #print( \"Write image to  \"+ new_image_file)\n",
    "    write_text_file( new_label_file, new_pgn)\n",
    "    \n",
    "    return new_img"
   ]
  },
  {
   "cell_type": "code",
   "execution_count": null,
   "metadata": {},
   "outputs": [],
   "source": [
    "def crop_4lines( img_crop8):\n",
    "    #primeiras 4 linhas\n",
    "    return crop_only( img_crop8, 0, 70*4+2*pad, 0, img_crop8.shape[1])\n",
    "\n",
    "# 2. Gerar recorte de 4 linhas (1_4), a partir do recorte de \n",
    "# 8 e gerar os arquivos. Nomear como \"carnaval_0001_line1_4\"\n",
    "def generate_4lines( img_crop8, words, image_fullpath):\n",
    "    if len( words)< 8:\n",
    "        return\n",
    "    \n",
    "    folder= path.join( BASE_DIR, \"carnaval_4lines\")\n",
    "    \n",
    "    #original_file= \"carnaval_original_0001.jpg\"    \n",
    "    filename= Path( image_fullpath).name\n",
    "    \n",
    "    # define nome\n",
    "    new_name= \"carnaval_\"+filename[18:22]+ \"_line_1_4\"\n",
    "    new_image_file= path.join( folder, \"images\", new_name+ '.jpg')\n",
    "    new_label_file= path.join( folder, \"labels\", new_name+ '.pgn')\n",
    "    \n",
    "    new_img= crop_4lines( img_crop8)  #TODO: extrair imagem\n",
    "    new_pgn= \" \".join( words[0:8])  #TODO: extrair texto\n",
    "    \n",
    "    # escreve arquivo\n",
    "    cv2.imwrite( new_image_file, new_img)\n",
    "    #print( \"Write image to  \"+ new_image_file)\n",
    "    write_text_file( new_label_file, new_pgn)\n",
    "    \n",
    "    return new_img"
   ]
  },
  {
   "cell_type": "code",
   "execution_count": null,
   "metadata": {},
   "outputs": [],
   "source": [
    "# 3. Gerar rocorte de 2 linhas, para cada sequencia de 2 linhas, nomeando\n",
    "# como line1_2, line2_3, line3_4, line4_5, .. \"carnaval_0001_line1_2\"\n",
    "def crop_2lines( img_crop8, linha=0):\n",
    "    #linha: 0, 1, 2... 6   \n",
    "    y= linha*70\n",
    "    return crop_only( img_crop8, y, 70*2+2*pad, 0, img_crop8.shape[1])\n",
    "\n",
    "# 2. Gerar recorte de 4 linhas (1_4), a partir do recorte de \n",
    "# 8 e gerar os arquivos. Nomear como \"carnaval_0001_line1_4\"\n",
    "def generate_2lines( img_crop8, words, image_fullpath):\n",
    "    if len( words)< 8:\n",
    "        return\n",
    "    \n",
    "    folder= path.join( BASE_DIR, \"carnaval_2lines\")\n",
    "    \n",
    "    #original_file= \"carnaval_original_0001.jpg\"    \n",
    "    filename= Path( image_fullpath).name\n",
    "    \n",
    "    #0,1,..6\n",
    "    for linha in range(0,7):\n",
    "    \n",
    "        # define nome\n",
    "        new_name= \"carnaval_\"+filename[18:22]+ \"_line_\"+str(linha+1)+\"_\"+ str(linha+3)\n",
    "        new_image_file= path.join( folder, \"images\", new_name+ '.jpg')\n",
    "        new_label_file= path.join( folder, \"labels\", new_name+ '.pgn')\n",
    "\n",
    "        new_img= crop_2lines( img_crop8, linha)  #TODO: extrair imagem\n",
    "        new_pgn= \" \".join( words[linha*2:linha*2+4])  #TODO: extrair texto\n",
    "\n",
    "        # escreve arquivo\n",
    "        cv2.imwrite( new_image_file, new_img)\n",
    "        #print( \"Write image to  \"+ new_image_file)\n",
    "        write_text_file( new_label_file, new_pgn)"
   ]
  },
  {
   "cell_type": "code",
   "execution_count": null,
   "metadata": {},
   "outputs": [],
   "source": [
    "# 4. Gerar recorte de 1 linhas, para cada linhas nomeando como \n",
    "# line_1, line_2. \"carnaval_0001_line1\"\n",
    "# 3. Gerar rocorte de 2 linhas, para cada sequencia de 2 linhas, nomeando\n",
    "# como line1_2, line2_3, line3_4, line4_5, .. \"carnaval_0001_line1_2\"\n",
    "def crop_1_line( img_crop8, linha=0):\n",
    "    #linha: 0, 1, 2... 7   \n",
    "    y= linha*70\n",
    "    return crop_only( img_crop8, y, 70+2*pad, 0, img_crop8.shape[1])\n",
    "\n",
    "# 2. Gerar recorte de 4 linhas (1_4), a partir do recorte de \n",
    "# 8 e gerar os arquivos. Nomear como \"carnaval_0001_line1_4\"\n",
    "def generate_1line( img_crop8, words, image_fullpath):\n",
    "    if len( words)< 8:\n",
    "        return\n",
    "    \n",
    "    folder= path.join( BASE_DIR, \"carnaval_1line\")\n",
    "    \n",
    "    #original_file= \"carnaval_original_0001.jpg\"    \n",
    "    filename= Path( image_fullpath).name\n",
    "    \n",
    "    #0,1,..7\n",
    "    for linha in range(0,8):\n",
    "    \n",
    "        # define nome\n",
    "        new_name= \"carnaval_\"+filename[18:22]+ \"_line_\"+str(linha+1)\n",
    "        new_image_file= path.join( folder, \"images\", new_name+ '.jpg')\n",
    "        new_label_file= path.join( folder, \"labels\", new_name+ '.pgn')\n",
    "\n",
    "        new_img= crop_1_line( img_crop8, linha)  #TODO: extrair imagem\n",
    "        new_pgn= \" \".join( words[linha*2:linha*2+2])  #TODO: extrair texto\n",
    "\n",
    "        # escreve arquivo\n",
    "        cv2.imwrite( new_image_file, new_img)\n",
    "        #print( \"Write image to  \"+ new_image_file)\n",
    "        write_text_file( new_label_file, new_pgn)\n"
   ]
  },
  {
   "cell_type": "code",
   "execution_count": null,
   "metadata": {},
   "outputs": [],
   "source": [
    "# 5. Gerar recorte de 1 word, para todas as linhas, nomeando como \n",
    "# word_1, word_2, word_.... \"carnaval_0001_word1\"\n",
    "\n",
    "# 4. Gerar recorte de 1 linhas, para cada linhas nomeando como \n",
    "# line_1, line_2. \"carnaval_0001_line1\"\n",
    "# 3. Gerar rocorte de 2 linhas, para cada sequencia de 2 linhas, nomeando\n",
    "# como line1_2, line2_3, line3_4, line4_5, .. \"carnaval_0001_line1_2\"\n",
    "def crop_1word( img_crop8, linha, coluna):\n",
    "    #linha: 0, 1, ...7\n",
    "    #coluna: 0, 1\n",
    "    y= linha*70\n",
    "    x= coluna*339\n",
    "    return crop_only( img_crop8, y, 70+2*pad, x, 339)\n",
    "\n",
    "# 2. Gerar recorte de 4 linhas (1_4), a partir do recorte de \n",
    "# 8 e gerar os arquivos. Nomear como \"carnaval_0001_line1_4\"\n",
    "def generate_1word( img_crop8, words, image_fullpath):\n",
    "    if len( words)< 16:\n",
    "        return\n",
    "    \n",
    "    folder= path.join( BASE_DIR, \"carnaval_1word\")\n",
    "    \n",
    "    #original_file= \"carnaval_original_0001.jpg\"    \n",
    "    filename= Path( image_fullpath).name\n",
    "    \n",
    "    #0,1,..7\n",
    "    word= 0\n",
    "    for linha in range(0,8):\n",
    "        #0,1,..7\n",
    "        for coluna in [0,1]:\n",
    "    \n",
    "            # define nome\n",
    "            new_name= \"carnaval_\"+filename[18:22]+ \"_word_\"+str(word+1)\n",
    "            new_image_file= path.join( folder, \"images\", new_name+ '.jpg')\n",
    "            new_label_file= path.join( folder, \"labels\", new_name+ '.pgn')\n",
    "\n",
    "            new_img= crop_1word( img_crop8, linha, coluna)  #TODO: extrair imagem\n",
    "            new_pgn= words[word]  #TODO: extrair texto\n",
    "\n",
    "            # escreve arquivo\n",
    "            cv2.imwrite( new_image_file, new_img)\n",
    "            #print( \"Write image to  \"+ new_image_file)\n",
    "            write_text_file( new_label_file, new_pgn)\n",
    "            word= word+1\n"
   ]
  },
  {
   "cell_type": "code",
   "execution_count": null,
   "metadata": {},
   "outputs": [],
   "source": [
    "len( filenames)"
   ]
  },
  {
   "cell_type": "code",
   "execution_count": null,
   "metadata": {
    "scrolled": true
   },
   "outputs": [],
   "source": [
    "#TODO: adicionar padding vertical nas imagens\n",
    "\n",
    "def generate_all( filenames):\n",
    "    total= len( filenames)\n",
    "    count= 1\n",
    "    for f in filenames:\n",
    "        print( \"Processando \"+ f+\"...\"+ str(count)+\"/\"+str(total))\n",
    "        img, words= read_original( f)\n",
    "        #print( words[0:10])\n",
    "        #print( img.shape)\n",
    "        #show( img)\n",
    "\n",
    "        if len( words)< 16:\n",
    "            print( \"NAO TEM 16 MOVIMENTOS. SKIP..\")\n",
    "            continue\n",
    "        \n",
    "        img_8crop= generate_8lines( img, words, f)\n",
    "        #show( img_8crop)\n",
    "        \n",
    "        #generate 4 lines\n",
    "        generate_4lines( img_8crop, words, f)\n",
    "        #generate 2 lines\n",
    "        generate_2lines( img_8crop, words, f)\n",
    "        #generate 1 line\n",
    "        generate_1line( img_8crop, words, f)\n",
    "        #generate 1 word\n",
    "        generate_1word( img_8crop, words, f)\n",
    "        count= count+1\n",
    "\n",
    "\n",
    "generate_all( filenames)"
   ]
  },
  {
   "cell_type": "code",
   "execution_count": null,
   "metadata": {},
   "outputs": [],
   "source": [
    "# 1. Gerar recorte de 8 linhas, tirando a coluna do meio e salvar \n",
    "# em 8lines. Nomear como \"carnaval_0001_line1_8\"\n",
    "def do_crop_full( img):\n",
    "    return crop_only( img, 570, 1800, 440, 1585)\n",
    "    \n",
    "def generate_fullpage( img, words, image_fullpath):\n",
    "    \n",
    "    folder= path.join( BASE_DIR, \"carnaval_fullpage\")\n",
    "    \n",
    "    #original_file= \"carnaval_original_0001.jpg\"    \n",
    "    filename= Path( image_fullpath).name\n",
    "    \n",
    "    # define nome\n",
    "    new_name= \"carnaval_\"+filename[18:22]+ \"_fullpage\"\n",
    "    new_image_file= path.join( folder, \"images\", new_name+ '.jpg')\n",
    "    new_label_file= path.join( folder, \"labels\", new_name+ '.pgn')\n",
    "    \n",
    "    new_img= do_crop_full( img)  #TODO: extrair imagem\n",
    "    new_pgn= \" \".join( words)  #TODO: extrair texto\n",
    "    \n",
    "    # escreve arquivo\n",
    "    cv2.imwrite( new_image_file, new_img)\n",
    "    #print( \"Write image to  \"+ new_image_file)\n",
    "    write_text_file( new_label_file, new_pgn)\n",
    "    \n",
    "    return new_img"
   ]
  },
  {
   "cell_type": "code",
   "execution_count": null,
   "metadata": {},
   "outputs": [],
   "source": [
    "def generate_all_full( filenames):\n",
    "    total= len( filenames)\n",
    "    count= 1\n",
    "    for f in filenames:\n",
    "        print( \"Processando \"+ f+\"...\"+ str(count)+\"/\"+str(total))\n",
    "        img, words= read_original( f)\n",
    "\n",
    "        if len( words)< 16:\n",
    "            print( \"NAO TEM 16 MOVIMENTOS. SKIP..\")\n",
    "            continue\n",
    "        \n",
    "        img_8crop= generate_fullpage( img, words, f)\n",
    "        count= count+1\n",
    "\n",
    "\n",
    "generate_all_full( filenames)"
   ]
  }
 ],
 "metadata": {
  "kernelspec": {
   "display_name": "Python 3",
   "language": "python",
   "name": "python3"
  },
  "language_info": {
   "codemirror_mode": {
    "name": "ipython",
    "version": 3
   },
   "file_extension": ".py",
   "mimetype": "text/x-python",
   "name": "python",
   "nbconvert_exporter": "python",
   "pygments_lexer": "ipython3",
   "version": "3.8.2"
  }
 },
 "nbformat": 4,
 "nbformat_minor": 4
}
