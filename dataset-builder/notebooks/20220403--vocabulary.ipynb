{
 "cells": [
  {
   "cell_type": "code",
   "execution_count": 1,
   "id": "38630a95",
   "metadata": {},
   "outputs": [],
   "source": [
    "import sys\n",
    "sys.path.append('../app')"
   ]
  },
  {
   "cell_type": "code",
   "execution_count": 2,
   "id": "e2b4c5f9",
   "metadata": {},
   "outputs": [],
   "source": [
    "from game_data import GameData"
   ]
  },
  {
   "cell_type": "code",
   "execution_count": 3,
   "id": "72eae15b",
   "metadata": {},
   "outputs": [],
   "source": [
    "data = GameData.load( 10)"
   ]
  },
  {
   "cell_type": "code",
   "execution_count": 4,
   "id": "aadd981b",
   "metadata": {},
   "outputs": [
    {
     "data": {
      "text/plain": [
       "(['c4 Nf6 Nc3 g6 e4 d6 d4 Bg7 f3 O-O Be3 a6 Qd2 c6 c5 b5 cxb6 Nbd7 Nh3 Nxb6 Nf2 a5 Be2 Ba6 O-O Nfd7 Rac1 d5 b3 a4 e5 axb3 axb3 Bxe2 Nxe2 Ra3 Rc3 Qa8 Rfc1 Qa6 Nf4 Qb5 Qd1 e6 N4d3 Rb8 h4 Nc8 Rxc6 Ne7 R6c3 Rxb3',\n",
       "  'd4 d5 Nf3 Nf6 Bf4 e6 Nbd2 c5 e3 Be7 c3 O-O Bd3 Nc6 Ne5 Nxe5 Bxe5 b6 Qf3 Bb7 O-O-O Nd7 Qh3 f5 Bf4 a6 g4 g6 gxf5 exf5 Rhg1 b5 Bxf5 Nf6 Rxg6+ hxg6 Be6+ Rf7 Qh6 Qf8 Qxg6+ Qg7 Bxf7+ Kh8 dxc5 Qxg6 Bxg6 Bxc5 h4 b4 Be5 Kg7 Rg1 bxc3 Bxc3 Be7 Nf3 Kf8 Ng5 Kg7 Ne6+ Kh6 Be5 Nh5 Bd3 Bf6 Rg6+ Kh7 Rxf6+ Kg8 Rh6 Kf7 Ng5+ Ke7 Rxh5',\n",
       "  'd4 d5 c4 c6 Nc3 Nf6 cxd5 cxd5 Bf4 Nc6 e3 a6 Rc1 Bg4 f3 Bd7 Bd3 g6 Bg5 e6 f4 h6 Bh4 Be7 Nf3 Rc8 Ne5 O-O O-O Kg7 Qf3 Ng8 Bxe7 Ncxe7 g4 f6 Nxd7 Qxd7 f5 exf5 gxf5 g5 h4 b5 a3 Qd6 Kg2 Rf7 Rf2 Kf8 Rfc2 g4 Qg3 Qxg3+ Kxg3 h5 Ne2 Rxc2 Rxc2 Ke8 Kf4 Kd7 Ng3 Rh7 a4 bxa4 Bxa6 Nc6 Bb5 Ne7 Bxa4 Kd6 Rc5 Ne5 dxe5+ fxe5+ Kg5 Kxc5 f6 Ng8 Kg6 Rh6+ Kg7 Rxf6 Kxg8 Rf3 Nxh5 g3 Nxg3 Rxg3+ Kf7 Rh3 Ke6 Rxh4 Kxe5 Re4+ Kf5 Rxa4',\n",
       "  'Nf3 d5 c4 d4 g3 g6 Bg2 Bg7 O-O e5 d3 Ne7 b4 O-O a4 a5 bxa5 Rxa5 Nbd2 Bd7 c5 Rxc5 Nc4 e4 Nfd2 exd3 exd3 Bc6 Ne4 Rd5 Ba3 Re8 Re1 Nf5 Qd2 Qc8 Na5 Rde5 Nxc6 Nxc6 Rab1 Nfe7 f4 Re6 Bh3 Nf5 Rb5 Nce7 Reb1 b6 a5 bxa5 Ng5 c6 Rb8 Qc7 Nxe6 fxe6 R1b7',\n",
       "  'Nf3 Nf6 c4 e6 d4 b6 g3 Ba6 b3 b5 cxb5 Bxb5 Bg2 Bc6 O-O Qc8 Ba3 Bxa3 Nxa3 O-O Nc4 a5 Rc1 Qb7 Qd2 Qa7 Rfd1 d6 Qe1 Bd5 Nh4',\n",
       "  'e4 e5 Nf3 Nc6 Bb5 a6 Ba4 Nf6 O-O b5 Bb3 Bc5 c3 d6 Re1 O-O d4 Bb6 Be3 Rb8 h3 Bd7 Nbd2 Re8 Bc2 Na7 b4 Nc8 a4 Bc6 a5 Ba7 dxe5 Bxe3 Rxe3 dxe5 Nb3 Nd6 Nc5 Ra8 Nd2 Qe7 Qe2 Red8 Rd1 g6 Bb3 Kh8 Rf1 Nh5 g3 Nb7 Nd3 Rd7 f4 exf4 Nxf4 Nxf4 Rxf4 Rf8 Nf3 Rdd8 e5 Bd7 Rf6 Nd6 Ng5 h6 Qf2 Kg7 Nh7 Nc4 Nxf8 Rxf8 Bxc4 bxc4 Rxa6 Bf5 g4 Qg5 Kh2',\n",
       "  'd4 Nf6 c4 g6 Nf3 Bg7 g3 O-O Bg2 c6 Nc3 d5 cxd5 cxd5 Ne5 e6 O-O Nfd7 f4',\n",
       "  'c4 c5 Nf3 Nc6 g3 e5 Nc3 g6 Bg2 Bg7 O-O d6 d3 Nge7 Ne1 Be6 Nd5 O-O Nc2 Rb8 a4 Qd7 Bg5 f6 Bd2 Bh3 e4 Bxg2 Kxg2 a5 Nxe7+ Qxe7',\n",
       "  'd4 Nf6 c4 d6 Nc3 c6 e4 Na6 f4 e5 dxe5 Bg4 Be2 Bxe2 Qxe2 dxe5 fxe5 Nd7 Nf3 Ndc5 O-O Qd3 Qf2 Qxc4 Ng5 Nd3 Qf5 Be7 Nd5 cxd5 Qxf7+ Kd8 Ne6+ Kd7 Bg5 Rae8 exd5 Qg4 h3 Qe4 Nf8+ Rhxf8 Qe6+ Kc7 Bxe7 Qe3+ Kh1 Rxf1+ Rxf1 Nf2+ Kh2 Qf4+ Kg1 Nxh3+ Qxh3 Qxe5 d6+ Kc6 Rc1+ Kb6 Qb3+ Ka5 Qa3+ Kb6 Qb3+ Ka5 Rc4 b5 Qc3+ Qxc3 Rxc3 Nb8 Rc7 Kb6 Bh4 Rg8 Bf2+ Ka5 d7',\n",
       "  'd4 f5 g3 Nf6 Bg2 g6 c3 Bg7 Qb3 c6 Nh3 Qb6 Nd2 Qxb3 axb3 d6 Nc4 Na6 Rxa6 d5 Nb6 bxa6 Nxa8 Bb7 Nc7+ Kd7 Bf4 Nh5 Kd2 e5 Nxd5'],\n",
       " ['c4 Cf6 Cc3 g6 e4 d6 d4 Bg7 f3 O-O Be3 a6 Dd2 c6 c5 b5 cxb6 Cbd7 Ch3 Cxb6 Cf2 a5 Be2 Ba6 O-O Cfd7 Tac1 d5 b3 a4 e5 axb3 axb3 Bxe2 Cxe2 Ta3 Tc3 Da8 Tfc1 Da6 Cf4 Db5 Dd1 e6 C4d3 Tb8 h4 Cc8 Txc6 Ce7 T6c3 Txb3',\n",
       "  'd4 d5 Cf3 Cf6 Bf4 e6 Cbd2 c5 e3 Be7 c3 O-O Bd3 Cc6 Ce5 Cxe5 Bxe5 b6 Df3 Bb7 O-O-O Cd7 Dh3 f5 Bf4 a6 g4 g6 gxf5 exf5 Thg1 b5 Bxf5 Cf6 Txg6+ hxg6 Be6+ Tf7 Dh6 Df8 Dxg6+ Dg7 Bxf7+ Rh8 dxc5 Dxg6 Bxg6 Bxc5 h4 b4 Be5 Rg7 Tg1 bxc3 Bxc3 Be7 Cf3 Rf8 Cg5 Rg7 Ce6+ Rh6 Be5 Ch5 Bd3 Bf6 Tg6+ Rh7 Txf6+ Rg8 Th6 Rf7 Cg5+ Re7 Txh5',\n",
       "  'd4 d5 c4 c6 Cc3 Cf6 cxd5 cxd5 Bf4 Cc6 e3 a6 Tc1 Bg4 f3 Bd7 Bd3 g6 Bg5 e6 f4 h6 Bh4 Be7 Cf3 Tc8 Ce5 O-O O-O Rg7 Df3 Cg8 Bxe7 Ccxe7 g4 f6 Cxd7 Dxd7 f5 exf5 gxf5 g5 h4 b5 a3 Dd6 Rg2 Tf7 Tf2 Rf8 Tfc2 g4 Dg3 Dxg3+ Rxg3 h5 Ce2 Txc2 Txc2 Re8 Rf4 Rd7 Cg3 Th7 a4 bxa4 Bxa6 Cc6 Bb5 Ce7 Bxa4 Rd6 Tc5 Ce5 dxe5+ fxe5+ Rg5 Rxc5 f6 Cg8 Rg6 Th6+ Rg7 Txf6 Rxg8 Tf3 Cxh5 g3 Cxg3 Txg3+ Rf7 Th3 Re6 Txh4 Rxe5 Te4+ Rf5 Txa4',\n",
       "  'Cf3 d5 c4 d4 g3 g6 Bg2 Bg7 O-O e5 d3 Ce7 b4 O-O a4 a5 bxa5 Txa5 Cbd2 Bd7 c5 Txc5 Cc4 e4 Cfd2 exd3 exd3 Bc6 Ce4 Td5 Ba3 Te8 Te1 Cf5 Dd2 Dc8 Ca5 Tde5 Cxc6 Cxc6 Tab1 Cfe7 f4 Te6 Bh3 Cf5 Tb5 Cce7 Teb1 b6 a5 bxa5 Cg5 c6 Tb8 Dc7 Cxe6 fxe6 T1b7',\n",
       "  'Cf3 Cf6 c4 e6 d4 b6 g3 Ba6 b3 b5 cxb5 Bxb5 Bg2 Bc6 O-O Dc8 Ba3 Bxa3 Cxa3 O-O Cc4 a5 Tc1 Db7 Dd2 Da7 Tfd1 d6 De1 Bd5 Ch4',\n",
       "  'e4 e5 Cf3 Cc6 Bb5 a6 Ba4 Cf6 O-O b5 Bb3 Bc5 c3 d6 Te1 O-O d4 Bb6 Be3 Tb8 h3 Bd7 Cbd2 Te8 Bc2 Ca7 b4 Cc8 a4 Bc6 a5 Ba7 dxe5 Bxe3 Txe3 dxe5 Cb3 Cd6 Cc5 Ta8 Cd2 De7 De2 Ted8 Td1 g6 Bb3 Rh8 Tf1 Ch5 g3 Cb7 Cd3 Td7 f4 exf4 Cxf4 Cxf4 Txf4 Tf8 Cf3 Tdd8 e5 Bd7 Tf6 Cd6 Cg5 h6 Df2 Rg7 Ch7 Cc4 Cxf8 Txf8 Bxc4 bxc4 Txa6 Bf5 g4 Dg5 Rh2',\n",
       "  'd4 Cf6 c4 g6 Cf3 Bg7 g3 O-O Bg2 c6 Cc3 d5 cxd5 cxd5 Ce5 e6 O-O Cfd7 f4',\n",
       "  'c4 c5 Cf3 Cc6 g3 e5 Cc3 g6 Bg2 Bg7 O-O d6 d3 Cge7 Ce1 Be6 Cd5 O-O Cc2 Tb8 a4 Dd7 Bg5 f6 Bd2 Bh3 e4 Bxg2 Rxg2 a5 Cxe7+ Dxe7',\n",
       "  'd4 Cf6 c4 d6 Cc3 c6 e4 Ca6 f4 e5 dxe5 Bg4 Be2 Bxe2 Dxe2 dxe5 fxe5 Cd7 Cf3 Cdc5 O-O Dd3 Df2 Dxc4 Cg5 Cd3 Df5 Be7 Cd5 cxd5 Dxf7+ Rd8 Ce6+ Rd7 Bg5 Tae8 exd5 Dg4 h3 De4 Cf8+ Thxf8 De6+ Rc7 Bxe7 De3+ Rh1 Txf1+ Txf1 Cf2+ Rh2 Df4+ Rg1 Cxh3+ Dxh3 Dxe5 d6+ Rc6 Tc1+ Rb6 Db3+ Ra5 Da3+ Rb6 Db3+ Ra5 Tc4 b5 Dc3+ Dxc3 Txc3 Cb8 Tc7 Rb6 Bh4 Tg8 Bf2+ Ra5 d7',\n",
       "  'd4 f5 g3 Cf6 Bg2 g6 c3 Bg7 Db3 c6 Ch3 Db6 Cd2 Dxb3 axb3 d6 Cc4 Ca6 Txa6 d5 Cb6 bxa6 Cxa8 Bb7 Cc7+ Rd7 Bf4 Ch5 Rd2 e5 Cxd5'])"
      ]
     },
     "execution_count": 4,
     "metadata": {},
     "output_type": "execute_result"
    }
   ],
   "source": [
    "data"
   ]
  }
 ],
 "metadata": {
  "kernelspec": {
   "display_name": "Python 3 (ipykernel)",
   "language": "python",
   "name": "python3"
  },
  "language_info": {
   "codemirror_mode": {
    "name": "ipython",
    "version": 3
   },
   "file_extension": ".py",
   "mimetype": "text/x-python",
   "name": "python",
   "nbconvert_exporter": "python",
   "pygments_lexer": "ipython3",
   "version": "3.9.6"
  }
 },
 "nbformat": 4,
 "nbformat_minor": 5
}
