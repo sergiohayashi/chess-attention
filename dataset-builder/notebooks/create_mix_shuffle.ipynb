{
 "cells": [
  {
   "cell_type": "code",
   "execution_count": 2,
   "metadata": {},
   "outputs": [],
   "source": [
    "# You'll generate plots of attention in order to see which parts of an image\n",
    "# our model focuses on during captioning\n",
    "import matplotlib.pyplot as plt\n",
    "\n",
    "# Scikit-learn includes many helpful utilities\n",
    "from sklearn.model_selection import train_test_split\n",
    "from sklearn.utils import shuffle\n",
    "\n",
    "import re\n",
    "import numpy as np  \n",
    "import os\n",
    "import time\n",
    "import json\n",
    "from glob import glob\n",
    "from PIL import Image\n",
    "import pickle\n",
    "import cv2\n",
    "from sklearn.utils import shuffle\n",
    "\n"
   ]
  },
  {
   "cell_type": "code",
   "execution_count": 3,
   "metadata": {},
   "outputs": [],
   "source": [
    "from IPython.display import clear_output, display\n",
    "import os.path\n",
    "from os import path\n",
    "import shutil\n",
    "import PIL\n",
    "from pathlib import Path\n",
    "from matplotlib import pyplot as plt"
   ]
  },
  {
   "cell_type": "code",
   "execution_count": 4,
   "metadata": {},
   "outputs": [],
   "source": [
    "from IPython.display import clear_output"
   ]
  },
  {
   "cell_type": "code",
   "execution_count": 6,
   "metadata": {},
   "outputs": [],
   "source": [
    "def read_label( path):\n",
    "  f= open( path)\n",
    "  d= f.read()\n",
    "  f.close()\n",
    "  return d \n",
    "\n",
    "def write_label( path, text):\n",
    "  f= open( path, \"w\")\n",
    "  f.write( text)\n",
    "  f.close()\n",
    "\n",
    "def show( img, name= 'noname'):\n",
    "  plt.imshow( img)\n",
    "  plt.title( name)\n",
    "  plt.show()\n",
    "\n",
    "def show_gimage( img, name= 'noname'):\n",
    "  plt.imshow( img, cmap= 'gray')\n",
    "  plt.title( name)\n",
    "  plt.show()\n",
    "\n",
    "def _load_image( path):\n",
    "  # return cv2.imread( path, cv2.IMREAD_GRAYSCALE)\n",
    "  return cv2.imread( path)\n",
    "  \n",
    "def write_image( path, img):\n",
    "  cv2.imwrite( path, img)\n",
    "\n",
    "def resize( img, scale_percent= 60, verbose=False):\n",
    "  #scale_percent = 60 # percent of original size\n",
    "  width = int(img.shape[1] * scale_percent / 100)\n",
    "  height = int(img.shape[0] * scale_percent / 100)\n",
    "  dim = (width, height)\n",
    "  if verbose:\n",
    "    print( \"scale\", scale_percent)\n",
    "    print( \"dim\", dim)\n",
    "  # resize image\n",
    "  return cv2.resize(img, dim, interpolation = cv2.INTER_AREA) "
   ]
  },
  {
   "cell_type": "code",
   "execution_count": 64,
   "metadata": {},
   "outputs": [],
   "source": [
    "# read all files\n",
    "\n",
    "list1= glob( \n",
    "        os.path.join( \"C:/mestrado/datasets/carnaval/carnaval_fullpage_shuffle_from_parts_5k/images\", \n",
    "                     \"*.jpg\"))\n",
    "list2= glob( \n",
    "        os.path.join( \"C:/mestrado/datasets/carnaval/carnaval_fullpage_shuffle_from_parts_5k_min70_lances/images\", \n",
    "                     \"*.jpg\"))\n",
    "list3= glob( \n",
    "        os.path.join( \"C:/mestrado/datasets/carnaval/carnaval_fullpage_shuffle_from_parts_5k_100lances/images\", \n",
    "                     \"*.jpg\"))\n",
    "\n",
    "all= list1+ list2+ list3\n"
   ]
  },
  {
   "cell_type": "code",
   "execution_count": 17,
   "metadata": {},
   "outputs": [
    {
     "data": {
      "text/plain": [
       "15000"
      ]
     },
     "execution_count": 17,
     "metadata": {},
     "output_type": "execute_result"
    }
   ],
   "source": [
    "all= list1+ list2+ list3\n",
    "len( all)"
   ]
  },
  {
   "cell_type": "code",
   "execution_count": 12,
   "metadata": {},
   "outputs": [],
   "source": [
    "import random\n",
    "random.shuffle( all)"
   ]
  },
  {
   "cell_type": "code",
   "execution_count": 65,
   "metadata": {},
   "outputs": [
    {
     "name": "stdout",
     "output_type": "stream",
     "text": [
      "['C:/mestrado/datasets/carnaval/carnaval_fullpage_shuffle_from_parts_5k_min70_lances/images\\\\shuffled_01969.jpg', 'C:/mestrado/datasets/carnaval/carnaval_fullpage_shuffle_from_parts_5k/images\\\\shuffled_03025.jpg', 'C:/mestrado/datasets/carnaval/carnaval_fullpage_shuffle_from_parts_5k_min70_lances/images\\\\shuffled_01722.jpg', 'C:/mestrado/datasets/carnaval/carnaval_fullpage_shuffle_from_parts_5k/images\\\\shuffled_04733.jpg', 'C:/mestrado/datasets/carnaval/carnaval_fullpage_shuffle_from_parts_5k_min70_lances/images\\\\shuffled_00811.jpg', 'C:/mestrado/datasets/carnaval/carnaval_fullpage_shuffle_from_parts_5k/images\\\\shuffled_00961.jpg', 'C:/mestrado/datasets/carnaval/carnaval_fullpage_shuffle_from_parts_5k_100lances/images\\\\shuffled_00680.jpg', 'C:/mestrado/datasets/carnaval/carnaval_fullpage_shuffle_from_parts_5k_min70_lances/images\\\\shuffled_02956.jpg', 'C:/mestrado/datasets/carnaval/carnaval_fullpage_shuffle_from_parts_5k_100lances/images\\\\shuffled_01798.jpg', 'C:/mestrado/datasets/carnaval/carnaval_fullpage_shuffle_from_parts_5k_100lances/images\\\\shuffled_01166.jpg']\n",
      "['C:/mestrado/datasets/carnaval/carnaval_fullpage_shuffle_from_parts_5k/images\\\\shuffled_02644.jpg', 'C:/mestrado/datasets/carnaval/carnaval_fullpage_shuffle_from_parts_5k_min70_lances/images\\\\shuffled_02429.jpg', 'C:/mestrado/datasets/carnaval/carnaval_fullpage_shuffle_from_parts_5k_100lances/images\\\\shuffled_00772.jpg', 'C:/mestrado/datasets/carnaval/carnaval_fullpage_shuffle_from_parts_5k/images\\\\shuffled_02910.jpg', 'C:/mestrado/datasets/carnaval/carnaval_fullpage_shuffle_from_parts_5k_100lances/images\\\\shuffled_00727.jpg', 'C:/mestrado/datasets/carnaval/carnaval_fullpage_shuffle_from_parts_5k_100lances/images\\\\shuffled_02008.jpg', 'C:/mestrado/datasets/carnaval/carnaval_fullpage_shuffle_from_parts_5k/images\\\\shuffled_02042.jpg', 'C:/mestrado/datasets/carnaval/carnaval_fullpage_shuffle_from_parts_5k/images\\\\shuffled_02975.jpg', 'C:/mestrado/datasets/carnaval/carnaval_fullpage_shuffle_from_parts_5k_100lances/images\\\\shuffled_01226.jpg', 'C:/mestrado/datasets/carnaval/carnaval_fullpage_shuffle_from_parts_5k_min70_lances/images\\\\shuffled_01761.jpg']\n"
     ]
    }
   ],
   "source": [
    "random.shuffle( all)\n",
    "print(all[0:10])\n",
    "print( all[-10:])"
   ]
  },
  {
   "cell_type": "code",
   "execution_count": 66,
   "metadata": {},
   "outputs": [],
   "source": [
    "from shutil import copyfile"
   ]
  },
  {
   "cell_type": "code",
   "execution_count": 70,
   "metadata": {},
   "outputs": [
    {
     "ename": "KeyboardInterrupt",
     "evalue": "",
     "output_type": "error",
     "traceback": [
      "\u001b[1;31m---------------------------------------------------------------------------\u001b[0m",
      "\u001b[1;31mKeyboardInterrupt\u001b[0m                         Traceback (most recent call last)",
      "\u001b[1;32m<ipython-input-70-d5edc84f5fef>\u001b[0m in \u001b[0;36m<module>\u001b[1;34m\u001b[0m\n\u001b[0;32m      2\u001b[0m \u001b[0mcount\u001b[0m\u001b[1;33m=\u001b[0m \u001b[1;36m1001\u001b[0m\u001b[1;33m\u001b[0m\u001b[1;33m\u001b[0m\u001b[0m\n\u001b[0;32m      3\u001b[0m \u001b[1;32mfor\u001b[0m \u001b[0mf\u001b[0m \u001b[1;32min\u001b[0m \u001b[0mall\u001b[0m\u001b[1;33m:\u001b[0m\u001b[1;33m\u001b[0m\u001b[1;33m\u001b[0m\u001b[0m\n\u001b[1;32m----> 4\u001b[1;33m     copyfile( f, \n\u001b[0m\u001b[0;32m      5\u001b[0m              os.path.join(\"C:/mestrado/datasets/carnaval/carnaval_fullpage_shuffle_mix/images\", str(count)+\".jpg\"))\n\u001b[0;32m      6\u001b[0m     copyfile( f.replace( 'images', 'labels').replace( '.jpg', '.pgn'), \n",
      "\u001b[1;32mc:\\users\\hayashi\\appdata\\local\\programs\\python\\python38\\lib\\shutil.py\u001b[0m in \u001b[0;36mcopyfile\u001b[1;34m(src, dst, follow_symlinks)\u001b[0m\n\u001b[0;32m    259\u001b[0m         \u001b[0mos\u001b[0m\u001b[1;33m.\u001b[0m\u001b[0msymlink\u001b[0m\u001b[1;33m(\u001b[0m\u001b[0mos\u001b[0m\u001b[1;33m.\u001b[0m\u001b[0mreadlink\u001b[0m\u001b[1;33m(\u001b[0m\u001b[0msrc\u001b[0m\u001b[1;33m)\u001b[0m\u001b[1;33m,\u001b[0m \u001b[0mdst\u001b[0m\u001b[1;33m)\u001b[0m\u001b[1;33m\u001b[0m\u001b[1;33m\u001b[0m\u001b[0m\n\u001b[0;32m    260\u001b[0m     \u001b[1;32melse\u001b[0m\u001b[1;33m:\u001b[0m\u001b[1;33m\u001b[0m\u001b[1;33m\u001b[0m\u001b[0m\n\u001b[1;32m--> 261\u001b[1;33m         \u001b[1;32mwith\u001b[0m \u001b[0mopen\u001b[0m\u001b[1;33m(\u001b[0m\u001b[0msrc\u001b[0m\u001b[1;33m,\u001b[0m \u001b[1;34m'rb'\u001b[0m\u001b[1;33m)\u001b[0m \u001b[1;32mas\u001b[0m \u001b[0mfsrc\u001b[0m\u001b[1;33m,\u001b[0m \u001b[0mopen\u001b[0m\u001b[1;33m(\u001b[0m\u001b[0mdst\u001b[0m\u001b[1;33m,\u001b[0m \u001b[1;34m'wb'\u001b[0m\u001b[1;33m)\u001b[0m \u001b[1;32mas\u001b[0m \u001b[0mfdst\u001b[0m\u001b[1;33m:\u001b[0m\u001b[1;33m\u001b[0m\u001b[1;33m\u001b[0m\u001b[0m\n\u001b[0m\u001b[0;32m    262\u001b[0m             \u001b[1;31m# macOS\u001b[0m\u001b[1;33m\u001b[0m\u001b[1;33m\u001b[0m\u001b[1;33m\u001b[0m\u001b[0m\n\u001b[0;32m    263\u001b[0m             \u001b[1;32mif\u001b[0m \u001b[0m_HAS_FCOPYFILE\u001b[0m\u001b[1;33m:\u001b[0m\u001b[1;33m\u001b[0m\u001b[1;33m\u001b[0m\u001b[0m\n",
      "\u001b[1;31mKeyboardInterrupt\u001b[0m: "
     ]
    }
   ],
   "source": [
    "# copia os primeiros 5000 e salva\n",
    "count= 1001\n",
    "for f in all:\n",
    "    copyfile( f, \n",
    "             os.path.join(\"C:/mestrado/datasets/carnaval/carnaval_fullpage_shuffle_mix/images\", str(count)+\".jpg\"))\n",
    "    copyfile( f.replace( 'images', 'labels').replace( '.jpg', '.pgn'), \n",
    "              os.path.join(\"C:/mestrado/datasets/carnaval/carnaval_fullpage_shuffle_mix/labels\", str(count)+\".pgn\"))\n",
    "    count+= 1\n"
   ]
  }
 ],
 "metadata": {
  "kernelspec": {
   "display_name": "Python 3",
   "language": "python",
   "name": "python3"
  },
  "language_info": {
   "codemirror_mode": {
    "name": "ipython",
    "version": 3
   },
   "file_extension": ".py",
   "mimetype": "text/x-python",
   "name": "python",
   "nbconvert_exporter": "python",
   "pygments_lexer": "ipython3",
   "version": "3.8.2"
  }
 },
 "nbformat": 4,
 "nbformat_minor": 4
}
