{
 "cells": [
  {
   "cell_type": "code",
   "execution_count": 2,
   "metadata": {},
   "outputs": [],
   "source": [
    "# import tensorflow as tf\n",
    "# device_name = tf.test.gpu_device_name()\n",
    "# if device_name != '/device:GPU:0':\n",
    "#   raise SystemError('GPU device not found')\n",
    "# print('Found GPU at: {}'.format(device_name))\n",
    "\n",
    "# You'll generate plots of attention in order to see which parts of an image\n",
    "# our model focuses on during captioning\n",
    "import matplotlib.pyplot as plt\n",
    "\n",
    "# Scikit-learn includes many helpful utilities\n",
    "from sklearn.model_selection import train_test_split\n",
    "from sklearn.utils import shuffle\n",
    "\n",
    "import re\n",
    "import numpy as np  \n",
    "import os\n",
    "import time\n",
    "import json\n",
    "from glob import glob\n",
    "from PIL import Image\n",
    "import pickle\n",
    "import cv2\n",
    "from sklearn.utils import shuffle\n",
    "\n",
    "# print(tf.__version__) "
   ]
  },
  {
   "cell_type": "code",
   "execution_count": 3,
   "metadata": {},
   "outputs": [],
   "source": [
    "from IPython.display import clear_output, display\n",
    "import os.path\n",
    "from os import path\n",
    "import shutil\n",
    "import PIL\n",
    "from pathlib import Path\n",
    "from matplotlib import pyplot as plt"
   ]
  },
  {
   "cell_type": "code",
   "execution_count": 4,
   "metadata": {},
   "outputs": [],
   "source": [
    "from IPython.display import clear_output"
   ]
  },
  {
   "cell_type": "code",
   "execution_count": 84,
   "metadata": {},
   "outputs": [],
   "source": [
    "import random"
   ]
  },
  {
   "cell_type": "code",
   "execution_count": 121,
   "metadata": {},
   "outputs": [],
   "source": [
    "import re"
   ]
  },
  {
   "cell_type": "code",
   "execution_count": 45,
   "metadata": {},
   "outputs": [],
   "source": [
    "def read_label( path):\n",
    "  f= open( path)\n",
    "  d= f.read()\n",
    "  f.close()\n",
    "  return d \n",
    "\n",
    "def write_label( path, text):\n",
    "  f= open( path, \"w\")\n",
    "  f.write( text)\n",
    "  f.close()\n",
    "\n",
    "def show( img, name= 'noname'):\n",
    "  plt.imshow( img)\n",
    "  plt.title( name)\n",
    "  plt.show()\n",
    "\n",
    "def show_gimage( img, name= 'noname'):\n",
    "  plt.imshow( img, cmap= 'gray')\n",
    "  plt.title( name)\n",
    "  plt.show()\n",
    "\n",
    "def _load_image( path):\n",
    "  # return cv2.imread( path, cv2.IMREAD_GRAYSCALE)\n",
    "  return cv2.imread( path)\n",
    "  \n",
    "def write_image( path, img):\n",
    "  cv2.imwrite( path, img)\n",
    "\n",
    "def resize( img, scale_percent= 60, verbose=False):\n",
    "  #scale_percent = 60 # percent of original size\n",
    "  width = int(img.shape[1] * scale_percent / 100)\n",
    "  height = int(img.shape[0] * scale_percent / 100)\n",
    "  dim = (width, height)\n",
    "  if verbose:\n",
    "    print( \"scale\", scale_percent)\n",
    "    print( \"dim\", dim)\n",
    "  # resize image\n",
    "  return cv2.resize(img, dim, interpolation = cv2.INTER_AREA) \n",
    "\n"
   ]
  },
  {
   "cell_type": "code",
   "execution_count": 123,
   "metadata": {},
   "outputs": [],
   "source": [
    "pgnfile= \"C:/mestrado/datasets/handmade/imagens-originais/pgn_30k_pt.txt\"\n",
    "lines= open( pgnfile)\n",
    "lines10k= [next(lines) for x in range( 10000)]\n",
    "lines= [re.sub(\"[\\[].*?[\\]]\", \"\", ln) for ln in lines10k]\n",
    "lines= [ln[8:-1].split()[0:100] for ln in lines]"
   ]
  },
  {
   "cell_type": "code",
   "execution_count": 124,
   "metadata": {},
   "outputs": [
    {
     "data": {
      "text/plain": [
       "'000001: [1] d4 f5 [2] Cf3 g6 [3] g3 Bg7 [4] Bg2 Cf6 [5] b4 c6 [6] c4 d5 [7] Db3 Be6 [8] c5 Ce4 [9] O-O Cd7 [10] Bf4 O-O [11] Cbd2 Bf7 [12] De3 De8 [13] Bh6 Cdf6 [14] Ce5 Cxd2 [15] Dxd2 Cd7 [16] Bxg7 Rxg7 [17] Df4 Be6 [18] a4 Cxe5 [19] Dxe5+ Tf6 [20] f4 Rg8 [21] Tfb1 Bc8 [22] Dc7 Dd7 [23] Dxd7 Bxd7 [24] b5 Tff8 [25] e3 e6 [26] Bf1 Rf7 [27] a5 Tfb8 [28] Tb2 Re7 [29] Tab1 Tc8 [30] bxc6 bxc6 [31] Ba6 Tc7 [32] Tb8 Txb8 [33] Txb8 Be8 [34] Bb7 Bd7 [35] a6 Be8 [36] Ta8 Bd7 [37] Rf2 Rf6 [38] Th8 Rg7 [39] Ta8 Rf6 [40] Re2 h6 [41] Rd2 g5 [42] Rc3 gxf4 [43] exf4\\n'"
      ]
     },
     "execution_count": 124,
     "metadata": {},
     "output_type": "execute_result"
    }
   ],
   "source": [
    "lines10k[0]"
   ]
  },
  {
   "cell_type": "code",
   "execution_count": 144,
   "metadata": {},
   "outputs": [
    {
     "data": {
      "text/plain": [
       "['d4',\n",
       " 'f5',\n",
       " 'Cf3',\n",
       " 'g6',\n",
       " 'g3',\n",
       " 'Bg7',\n",
       " 'Bg2',\n",
       " 'Cf6',\n",
       " 'b4',\n",
       " 'c6',\n",
       " 'c4',\n",
       " 'd5',\n",
       " 'Db3',\n",
       " 'Be6',\n",
       " 'c5',\n",
       " 'Ce4',\n",
       " 'O-O',\n",
       " 'Cd7',\n",
       " 'Bf4',\n",
       " 'O-O',\n",
       " 'Cbd2',\n",
       " 'Bf7',\n",
       " 'De3',\n",
       " 'De8',\n",
       " 'Bh6',\n",
       " 'Cdf6',\n",
       " 'Ce5',\n",
       " 'Cxd2',\n",
       " 'Dxd2',\n",
       " 'Cd7',\n",
       " 'Bxg7',\n",
       " 'Rxg7',\n",
       " 'Df4',\n",
       " 'Be6',\n",
       " 'a4',\n",
       " 'Cxe5',\n",
       " 'Dxe5+',\n",
       " 'Tf6',\n",
       " 'f4',\n",
       " 'Rg8',\n",
       " 'Tfb1',\n",
       " 'Bc8',\n",
       " 'Dc7',\n",
       " 'Dd7',\n",
       " 'Dxd7',\n",
       " 'Bxd7',\n",
       " 'b5',\n",
       " 'Tff8',\n",
       " 'e3',\n",
       " 'e6',\n",
       " 'Bf1',\n",
       " 'Rf7',\n",
       " 'a5',\n",
       " 'Tfb8',\n",
       " 'Tb2',\n",
       " 'Re7',\n",
       " 'Tab1',\n",
       " 'Tc8',\n",
       " 'bxc6',\n",
       " 'bxc6',\n",
       " 'Ba6',\n",
       " 'Tc7',\n",
       " 'Tb8',\n",
       " 'Txb8',\n",
       " 'Txb8',\n",
       " 'Be8',\n",
       " 'Bb7',\n",
       " 'Bd7',\n",
       " 'a6',\n",
       " 'Be8',\n",
       " 'Ta8',\n",
       " 'Bd7',\n",
       " 'Rf2',\n",
       " 'Rf6',\n",
       " 'Th8',\n",
       " 'Rg7',\n",
       " 'Ta8',\n",
       " 'Rf6',\n",
       " 'Re2',\n",
       " 'h6',\n",
       " 'Rd2',\n",
       " 'g5',\n",
       " 'Rc3',\n",
       " 'gxf4',\n",
       " 'exf4']"
      ]
     },
     "execution_count": 144,
     "metadata": {},
     "output_type": "execute_result"
    }
   ],
   "source": [
    "lines[0]"
   ]
  },
  {
   "cell_type": "code",
   "execution_count": 68,
   "metadata": {},
   "outputs": [
    {
     "data": {
      "text/plain": [
       "'000001: d4 f5 Nf3 g6 g3 Bg7 Bg2 Nf6 b4 c6 c4 d5 Qb3 Be6 c5 Ne4 O-O Nd7 Bf4 O-O Nbd2 Bf7 Qe3 Qe8 Bh6 Ndf6 Ne5 Nxd2 Qxd2 Nd7 Bxg7 Kxg7 Qf4 Be6 a4 Nxe5 Qxe5+ Rf6 f4 Kg8 Rfb1 Bc8 Qc7 Qd7 Qxd7 Bxd7 b5 Rff8 e3 e6 Bf1 Kf7 a5 Rfb8 Rb2 Ke7 Rab1 Rc8 bxc6 bxc6 Ba6 Rc7 Rb8 Rxb8 Rxb8 Be8 Bb7 Bd7 a6 Be8 Ra8 Bd7 Kf2 Kf6 Rh8 Kg7 Ra8 Kf6 Ke2 h6 Kd2 g5 Kc3 gxf4 exf4\\n'"
      ]
     },
     "execution_count": 68,
     "metadata": {},
     "output_type": "execute_result"
    }
   ],
   "source": [
    "lines10k[0]"
   ]
  },
  {
   "cell_type": "code",
   "execution_count": 122,
   "metadata": {},
   "outputs": [
    {
     "data": {
      "text/plain": [
       "'000001:  d4 f5  Cf3 g6  g3 Bg7  Bg2 Cf6  b4 c6  c4 d5  Db3 Be6  c5 Ce4  O-O Cd7  Bf4 O-O  Cbd2 Bf7  De3 De8  Bh6 Cdf6  Ce5 Cxd2  Dxd2 Cd7  Bxg7 Rxg7  Df4 Be6  a4 Cxe5  Dxe5+ Tf6  f4 Rg8  Tfb1 Bc8  Dc7 Dd7  Dxd7 Bxd7  b5 Tff8  e3 e6  Bf1 Rf7  a5 Tfb8  Tb2 Re7  Tab1 Tc8  bxc6 bxc6  Ba6 Tc7  Tb8 Txb8  Txb8 Be8  Bb7 Bd7  a6 Be8  Ta8 Bd7  Rf2 Rf6  Th8 Rg7  Ta8 Rf6  Re2 h6  Rd2 g5  Rc3 gxf4  exf4\\n'"
      ]
     },
     "execution_count": 122,
     "metadata": {},
     "output_type": "execute_result"
    }
   ],
   "source": [
    "re.sub(\"[\\[].*?[\\]]\", \"\", lines10k[0])"
   ]
  },
  {
   "cell_type": "code",
   "execution_count": 74,
   "metadata": {},
   "outputs": [
    {
     "data": {
      "text/plain": [
       "10000"
      ]
     },
     "execution_count": 74,
     "metadata": {},
     "output_type": "execute_result"
    }
   ],
   "source": [
    "len( lines)"
   ]
  },
  {
   "cell_type": "code",
   "execution_count": 75,
   "metadata": {},
   "outputs": [
    {
     "data": {
      "text/plain": [
       "['d4',\n",
       " 'f5',\n",
       " 'Nf3',\n",
       " 'g6',\n",
       " 'g3',\n",
       " 'Bg7',\n",
       " 'Bg2',\n",
       " 'Nf6',\n",
       " 'b4',\n",
       " 'c6',\n",
       " 'c4',\n",
       " 'd5',\n",
       " 'Qb3',\n",
       " 'Be6',\n",
       " 'c5',\n",
       " 'Ne4',\n",
       " 'O-O',\n",
       " 'Nd7',\n",
       " 'Bf4',\n",
       " 'O-O',\n",
       " 'Nbd2',\n",
       " 'Bf7',\n",
       " 'Qe3',\n",
       " 'Qe8',\n",
       " 'Bh6',\n",
       " 'Ndf6',\n",
       " 'Ne5',\n",
       " 'Nxd2',\n",
       " 'Qxd2',\n",
       " 'Nd7',\n",
       " 'Bxg7',\n",
       " 'Kxg7',\n",
       " 'Qf4',\n",
       " 'Be6',\n",
       " 'a4',\n",
       " 'Nxe5',\n",
       " 'Qxe5+',\n",
       " 'Rf6',\n",
       " 'f4',\n",
       " 'Kg8',\n",
       " 'Rfb1',\n",
       " 'Bc8',\n",
       " 'Qc7',\n",
       " 'Qd7',\n",
       " 'Qxd7',\n",
       " 'Bxd7',\n",
       " 'b5',\n",
       " 'Rff8',\n",
       " 'e3',\n",
       " 'e6',\n",
       " 'Bf1',\n",
       " 'Kf7',\n",
       " 'a5',\n",
       " 'Rfb8',\n",
       " 'Rb2',\n",
       " 'Ke7',\n",
       " 'Rab1',\n",
       " 'Rc8',\n",
       " 'bxc6',\n",
       " 'bxc6',\n",
       " 'Ba6',\n",
       " 'Rc7',\n",
       " 'Rb8',\n",
       " 'Rxb8',\n",
       " 'Rxb8',\n",
       " 'Be8',\n",
       " 'Bb7',\n",
       " 'Bd7',\n",
       " 'a6',\n",
       " 'Be8',\n",
       " 'Ra8',\n",
       " 'Bd7',\n",
       " 'Kf2',\n",
       " 'Kf6',\n",
       " 'Rh8',\n",
       " 'Kg7',\n",
       " 'Ra8',\n",
       " 'Kf6',\n",
       " 'Ke2',\n",
       " 'h6',\n",
       " 'Kd2',\n",
       " 'g5',\n",
       " 'Kc3',\n",
       " 'gxf4',\n",
       " 'exf4']"
      ]
     },
     "execution_count": 75,
     "metadata": {},
     "output_type": "execute_result"
    }
   ],
   "source": [
    "lines[0]"
   ]
  },
  {
   "cell_type": "code",
   "execution_count": 131,
   "metadata": {},
   "outputs": [],
   "source": [
    "en_pgnfile= \"C:/mestrado/datasets/handmade/imagens-originais/pgn_30k_eng.txt\"\n",
    "en_lines= open( en_pgnfile)\n",
    "en_lines10k= [next(en_lines) for x in range( 10000)]\n",
    "en_lines= [ln[8:-1].split()[0:100] for ln in en_lines10k]"
   ]
  },
  {
   "cell_type": "code",
   "execution_count": 147,
   "metadata": {},
   "outputs": [],
   "source": [
    "#\n",
    "# gera imagem com jogadas escritas com fonte manuscrito\n",
    "#\n",
    "from PIL import Image, ImageDraw\n",
    "from PIL import ImageColor"
   ]
  },
  {
   "cell_type": "code",
   "execution_count": 149,
   "metadata": {},
   "outputs": [],
   "source": [
    "# abre o arquivo original\n",
    "img = Image.open(\"C:/mestrado/datasets/syn/template/template.jpg\")  # load base image\n",
    "dctx = ImageDraw.Draw(img)  # create drawing context"
   ]
  },
  {
   "cell_type": "code",
   "execution_count": 150,
   "metadata": {},
   "outputs": [
    {
     "data": {
      "image/png": "[encoded data removed]",
      "text/plain": [
       "<Figure size 432x288 with 1 Axes>"
      ]
     },
     "metadata": {
      "needs_background": "light"
     },
     "output_type": "display_data"
    }
   ],
   "source": [
    "show( img)"
   ]
  },
  {
   "cell_type": "code",
   "execution_count": 10,
   "metadata": {},
   "outputs": [],
   "source": [
    "# -*- coding: utf-8 -*-\n",
    "from PIL import ImageFont\n"
   ]
  },
  {
   "cell_type": "code",
   "execution_count": 11,
   "metadata": {},
   "outputs": [],
   "source": [
    "fnt = ImageFont.truetype('c:/Windows/Fonts/msmincho.ttc', 30)"
   ]
  },
  {
   "cell_type": "code",
   "execution_count": 12,
   "metadata": {},
   "outputs": [],
   "source": [
    "# text to draw\n",
    "txt = u\"東京タワーと三縁山増上寺\"  # Tokyo tower and San'en-zan Zōjō-ji\n",
    "\n",
    "# calculate text size\n",
    "txtsz = dctx.textsize(txt, fnt)"
   ]
  },
  {
   "cell_type": "code",
   "execution_count": 17,
   "metadata": {},
   "outputs": [],
   "source": [
    "# draw text\n",
    "\n",
    "dctx.text(\n",
    "    # draw text at near (right, top)\n",
    "#    (img.width - txtsz[0] - 20, 20),\n",
    "    (0, 0),\n",
    "    txt,\n",
    "    font=fnt,\n",
    "    fill=\"#000000\"\n",
    "    )"
   ]
  },
  {
   "cell_type": "code",
   "execution_count": 34,
   "metadata": {},
   "outputs": [],
   "source": [
    "# del dctx  # destroy drawing context\n",
    "del dctx"
   ]
  },
  {
   "cell_type": "code",
   "execution_count": 18,
   "metadata": {},
   "outputs": [
    {
     "data": {
      "image/png": "[encoded data removed]",
      "text/plain": [
       "<Figure size 432x288 with 1 Axes>"
      ]
     },
     "metadata": {
      "needs_background": "light"
     },
     "output_type": "display_data"
    }
   ],
   "source": [
    "show( img)"
   ]
  },
  {
   "cell_type": "code",
   "execution_count": 21,
   "metadata": {},
   "outputs": [],
   "source": [
    "h= 0"
   ]
  },
  {
   "cell_type": "code",
   "execution_count": 46,
   "metadata": {},
   "outputs": [
    {
     "ename": "NameError",
     "evalue": "name 'dctx' is not defined",
     "output_type": "error",
     "traceback": [
      "\u001b[1;31m---------------------------------------------------------------------------\u001b[0m",
      "\u001b[1;31mNameError\u001b[0m                                 Traceback (most recent call last)",
      "\u001b[1;32m<ipython-input-46-80e5ac90d743>\u001b[0m in \u001b[0;36m<module>\u001b[1;34m\u001b[0m\n\u001b[0;32m      1\u001b[0m \u001b[0mfnt\u001b[0m \u001b[1;33m=\u001b[0m \u001b[0mImageFont\u001b[0m\u001b[1;33m.\u001b[0m\u001b[0mtruetype\u001b[0m\u001b[1;33m(\u001b[0m\u001b[1;34m'c:/Windows/Fonts/BRADHITC.TTF'\u001b[0m\u001b[1;33m,\u001b[0m \u001b[1;36m30\u001b[0m\u001b[1;33m)\u001b[0m\u001b[1;33m\u001b[0m\u001b[1;33m\u001b[0m\u001b[0m\n\u001b[1;32m----> 2\u001b[1;33m \u001b[0mdctx\u001b[0m\u001b[1;33m.\u001b[0m\u001b[0mtext\u001b[0m\u001b[1;33m(\u001b[0m \u001b[1;33m(\u001b[0m\u001b[1;36m0\u001b[0m\u001b[1;33m,\u001b[0m \u001b[0mh\u001b[0m\u001b[1;33m)\u001b[0m\u001b[1;33m,\u001b[0m \u001b[1;34m\"Cxf5\"\u001b[0m\u001b[1;33m,\u001b[0m \u001b[0mfont\u001b[0m\u001b[1;33m=\u001b[0m\u001b[0mfnt\u001b[0m\u001b[1;33m,\u001b[0m \u001b[0mfill\u001b[0m\u001b[1;33m=\u001b[0m\u001b[1;34m\"#000000\"\u001b[0m\u001b[1;33m)\u001b[0m\u001b[1;33m\u001b[0m\u001b[1;33m\u001b[0m\u001b[0m\n\u001b[0m\u001b[0;32m      3\u001b[0m \u001b[0mh\u001b[0m\u001b[1;33m+=\u001b[0m \u001b[1;36m30\u001b[0m\u001b[1;33m\u001b[0m\u001b[1;33m\u001b[0m\u001b[0m\n\u001b[0;32m      4\u001b[0m \u001b[0mshowbig\u001b[0m\u001b[1;33m(\u001b[0m \u001b[0mimg\u001b[0m\u001b[1;33m)\u001b[0m\u001b[1;33m\u001b[0m\u001b[1;33m\u001b[0m\u001b[0m\n",
      "\u001b[1;31mNameError\u001b[0m: name 'dctx' is not defined"
     ]
    }
   ],
   "source": [
    "fnt = ImageFont.truetype('c:/Windows/Fonts/BRADHITC.TTF', 30)\n",
    "dctx.text( (0, h), \"Cxf5\", font=fnt, fill=\"#000000\")\n",
    "h+= 30\n"
   ]
  },
  {
   "cell_type": "code",
   "execution_count": 30,
   "metadata": {},
   "outputs": [],
   "source": [
    "img.save(\"C:/mestrado/datasets/handmade/generated/samples/sample.jpg\")"
   ]
  },
  {
   "cell_type": "code",
   "execution_count": 61,
   "metadata": {},
   "outputs": [
    {
     "name": "stdout",
     "output_type": "stream",
     "text": [
      "35.2 169.5\n"
     ]
    }
   ],
   "source": [
    "dh_top= 7\n",
    "dh_bottom= 13\n",
    "h= (img.height - dh_top - dh_bottom)/25.0\n",
    "w= img.width/4.0\n",
    "print( h, w)"
   ]
  },
  {
   "cell_type": "code",
   "execution_count": 59,
   "metadata": {},
   "outputs": [
    {
     "name": "stdout",
     "output_type": "stream",
     "text": [
      "5.866666666666667 42.375\n"
     ]
    }
   ],
   "source": [
    "margin_left= w/4\n",
    "margin_top= h/6\n",
    "print( margin_top, margin_left)"
   ]
  },
  {
   "cell_type": "code",
   "execution_count": 113,
   "metadata": {},
   "outputs": [],
   "source": [
    "all_fonts= [\n",
    "    ImageFont.truetype('c:/Windows/Fonts/BRADHITC.TTF', 30),\n",
    "    ImageFont.truetype('c:/Windows/Fonts/CHILLER.TTF', 30),\n",
    "    ImageFont.truetype('c:/Windows/Fonts/FORTE.TTF', 30),\n",
    "    ImageFont.truetype('c:/Windows/Fonts/ITCKRIST.TTF', 30),\n",
    "    ImageFont.truetype('c:/Windows/Fonts/FREESCPT.TTF', 30),\n",
    "    ImageFont.truetype('c:/Windows/Fonts/LHANDW.TTF', 30),\n",
    "    ImageFont.truetype('c:/Windows/Fonts/GIGI.TTF', 30),\n",
    "    ImageFont.truetype('c:/Windows/Fonts/Gabriola.TTF', 30),\n",
    "    ImageFont.truetype('c:/Windows/Fonts/Inkfree.TTF', 30),\n",
    "    ImageFont.truetype('c:/Windows/Fonts/MTCORSVA.TTF', 30),\n",
    "    ImageFont.truetype('c:/Windows/Fonts/LCALLIG.TTF', 30),\n",
    "    ImageFont.truetype('c:/Windows/Fonts/MTCORSVA.TTF', 30),\n",
    "    ImageFont.truetype('c:/Windows/Fonts/OCRAEXT.TTF', 30),\n",
    "    ImageFont.truetype('c:/Windows/Fonts/PRISTINA.TTF', 30),\n",
    "    ImageFont.truetype('c:/Windows/Fonts/RAGE.TTF', 30),\n",
    "#     ImageFont.truetype('c:/Windows/Fonts/sserife.fon', 30),\n",
    "    ImageFont.truetype('c:/Windows/Fonts/TEMPSITC.TTF', 30),\n",
    "\n",
    "    ImageFont.truetype('c:/Windows/Fonts/PAPYRUS.TTF', 30),\n",
    "    ImageFont.truetype('c:/Windows/Fonts/PRISTINA.TTF', 30),\n",
    "    \n",
    "    ImageFont.truetype('c:/Windows/Fonts/MAIAN.TTF', 30)\n",
    "] \n",
    "\n"
   ]
  },
  {
   "cell_type": "code",
   "execution_count": 140,
   "metadata": {},
   "outputs": [],
   "source": [
    "fonts= [\n",
    "    ImageFont.truetype('c:/Windows/Fonts/BRADHITC.TTF', 30),\n",
    "#     ImageFont.truetype('c:/Windows/Fonts/CHILLER.TTF', 30),\n",
    "#     ImageFont.truetype('c:/Windows/Fonts/FORTE.TTF', 30),\n",
    "    ImageFont.truetype('c:/Windows/Fonts/ITCKRIST.TTF', 30),\n",
    "#     ImageFont.truetype('c:/Windows/Fonts/FREESCPT.TTF', 30),\n",
    "    ImageFont.truetype('c:/Windows/Fonts/LHANDW.TTF', 30),\n",
    "#     ImageFont.truetype('c:/Windows/Fonts/GIGI.TTF', 30),\n",
    "#     ImageFont.truetype('c:/Windows/Fonts/Gabriola.TTF', 30),\n",
    "    ImageFont.truetype('c:/Windows/Fonts/Inkfree.TTF', 30),\n",
    "#     ImageFont.truetype('c:/Windows/Fonts/MTCORSVA.TTF', 30),\n",
    "#     ImageFont.truetype('c:/Windows/Fonts/LCALLIG.TTF', 30),\n",
    "#     ImageFont.truetype('c:/Windows/Fonts/MTCORSVA.TTF', 30),\n",
    "    ImageFont.truetype('c:/Windows/Fonts/OCRAEXT.TTF', 30),\n",
    "#     ImageFont.truetype('c:/Windows/Fonts/PRISTINA.TTF', 30),\n",
    "#     ImageFont.truetype('c:/Windows/Fonts/RAGE.TTF', 30),\n",
    "    ImageFont.truetype('c:/Windows/Fonts/TEMPSITC.TTF', 30),\n",
    "    ImageFont.truetype('c:/Windows/Fonts/PAPYRUS.TTF', 30),\n",
    "#     ImageFont.truetype('c:/Windows/Fonts/PRISTINA.TTF', 30),\n",
    "    ImageFont.truetype('c:/Windows/Fonts/MAIAN.TTF', 30)\n",
    "] \n"
   ]
  },
  {
   "cell_type": "code",
   "execution_count": 198,
   "metadata": {
    "scrolled": false
   },
   "outputs": [],
   "source": [
    "def showbig( img, name= 'noname'):\n",
    "    plt.figure(figsize = (10,10))    \n",
    "    plt.imshow( img)\n",
    "    plt.title( name)\n",
    "    plt.show()\n",
    "    \n",
    "def generate_for( line, fnt=None):\n",
    "    if fnt is None:\n",
    "        fnt= random.choice( fonts)\n",
    "#     print( fnt.getname())\n",
    "    \n",
    "    img = Image.open(\"C:/mestrado/datasets/syn/template/template.jpg\")  # load base image\n",
    "    dctx = ImageDraw.Draw(img)  # create drawing context\n",
    "\n",
    "    i= 0\n",
    "    for ln in range( 0, 25):\n",
    "        for col in range( 0, 2):\n",
    "            if i>= len( line):\n",
    "                del dctx\n",
    "                return img\n",
    "            \n",
    "            txtsz = dctx.textsize(line[i], fnt)\n",
    "\n",
    "            x= w* col + (w - txtsz[0])/2\n",
    "            y= dh_top + h*ln + (h - txtsz[1])/2 #+ margin_top\n",
    "\n",
    "            dctx.text( (x, y), line[i], font=fnt, fill=\"#000000\")\n",
    "            i+= 1\n",
    "\n",
    "    for ln in range( 0, 25):\n",
    "        for col in range( 2, 4):\n",
    "            if i>= len( line):\n",
    "                del dctx\n",
    "                return img\n",
    "            \n",
    "            txtsz = dctx.textsize(line[i], fnt)\n",
    "\n",
    "            x= w* col + (w - txtsz[0])/2\n",
    "            y= dh_top + h*ln #+ margin_top\n",
    "\n",
    "            dctx.text( (x, y), line[i], font=fnt, fill=\"#000000\")\n",
    "            i+= 1\n",
    "            \n",
    "    del dctx\n",
    "    return img\n",
    "\n",
    "\n",
    "def generate_one( pt_line, pgn, no):\n",
    "    img= generate_for( pt_line)\n",
    "\n",
    "    fname= \"syn_\"+str(no).zfill(5)\n",
    "    img.save( \n",
    "        os.path.join( \n",
    "            \"C:/mestrado/datasets/unified/parts/sync-except-handwritten\",\n",
    "            \"images\", fname+ \".jpg\"))\n",
    "\n",
    "    write_label( \n",
    "        os.path.join( \n",
    "            \"C:/mestrado/datasets/unified/parts/sync-except-handwritten\",\n",
    "            \"labels\", fname+ \".pgn\"), pgn)        \n",
    "\n",
    "    \n",
    "    \n",
    "#----------------------\n",
    "# generate\n",
    "#----------------------\n",
    "# for i in range( 0, 10000):\n",
    "#     if i%100== 0:\n",
    "#         print( i)\n",
    "#     generate_one( lines[i], \" \".join( en_lines[i]), i)             \n",
    "\n",
    "#----------------------\n",
    "# show image\n",
    "#----------------------\n",
    "# i= 0\n",
    "# for f in fonts:\n",
    "#     print( i, f.getname())\n",
    "#     img= generate_for( lines[2], f)\n",
    "#     showbig( img)\n",
    "#     i+= 1"
   ]
  },
  {
   "cell_type": "code",
   "execution_count": 152,
   "metadata": {},
   "outputs": [],
   "source": [
    "import glob"
   ]
  },
  {
   "cell_type": "code",
   "execution_count": 190,
   "metadata": {},
   "outputs": [],
   "source": [
    "#\n",
    "#  gerar somente os que nao tem no handwritten\n",
    "#\n",
    "\n",
    "# carrega os jogos existentes\n",
    "handfiles= glob.glob( \"C:/mestrado/datasets/unified/parts/handwritten/labels/*.pgn\")"
   ]
  },
  {
   "cell_type": "code",
   "execution_count": 156,
   "metadata": {},
   "outputs": [
    {
     "name": "stdout",
     "output_type": "stream",
     "text": [
      "3422\n"
     ]
    }
   ],
   "source": [
    "print( len( handfiles))"
   ]
  },
  {
   "cell_type": "code",
   "execution_count": 157,
   "metadata": {},
   "outputs": [],
   "source": [
    "fname= handfiles[0]\n"
   ]
  },
  {
   "cell_type": "code",
   "execution_count": 183,
   "metadata": {},
   "outputs": [
    {
     "data": {
      "text/plain": [
       "['a3',\n",
       " '',\n",
       " 'd5',\n",
       " '',\n",
       " 'd4',\n",
       " '',\n",
       " 'Nf6',\n",
       " '5742',\n",
       " '1494',\n",
       " 'R',\n",
       " 'part3',\n",
       " 'scan0145.pgn']"
      ]
     },
     "execution_count": 183,
     "metadata": {},
     "output_type": "execute_result"
    }
   ],
   "source": [
    "Path(fname).name.split('_')"
   ]
  },
  {
   "cell_type": "code",
   "execution_count": 169,
   "metadata": {},
   "outputs": [
    {
     "name": "stdout",
     "output_type": "stream",
     "text": [
      "5741\n"
     ]
    }
   ],
   "source": [
    "# a3__d5__d4__Nf6_5742_1494_R_part3_scan0145\n",
    "id= int( Path(fname).name.split('_')[-5])-1\n",
    "print( id)"
   ]
  },
  {
   "cell_type": "code",
   "execution_count": 166,
   "metadata": {},
   "outputs": [
    {
     "name": "stdout",
     "output_type": "stream",
     "text": [
      "a3 d5 d4 Nf6 Nf3 Bg4 e3 e6 Be2 Bd6 c4 c6 Nbd2 Nbd7 b4 O-O Bb2 Ne4 Ne5 Bxe2 Qxe2 Nxd2 Qxd2 Bxe5 dxe5 dxc4 Rd1 Nb6 Qe2 Qc7 Qg4 c5 O-O cxb4 axb4 c3 Rc1 Na4 Rxc3 Nxc3 Rc1 Rfd8 Bxc3 Rac8 h3 Qc4 e4 Qd3 Qh4 Rd7\n"
     ]
    }
   ],
   "source": [
    "print( read_label( fname))"
   ]
  },
  {
   "cell_type": "code",
   "execution_count": 171,
   "metadata": {},
   "outputs": [
    {
     "data": {
      "text/plain": [
       "'a3 d5 d4 Nf6 Nf3 Bg4 e3 e6 Be2 Bd6 c4 c6 Nbd2 Nbd7 b4 O-O Bb2 Ne4 Ne5 Bxe2 Qxe2 Nxd2 Qxd2 Bxe5 dxe5 dxc4 Rd1 Nb6 Qe2 Qc7 Qg4 c5 O-O cxb4 axb4 c3 Rc1 Na4 Rxc3 Nxc3 Rc1 Rfd8 Bxc3 Rac8 h3 Qc4 e4 Qd3 Qh4 Rd7'"
      ]
     },
     "execution_count": 171,
     "metadata": {},
     "output_type": "execute_result"
    }
   ],
   "source": [
    "\" \".join( en_lines[ id])"
   ]
  },
  {
   "cell_type": "code",
   "execution_count": 185,
   "metadata": {},
   "outputs": [],
   "source": [
    "for f in handfiles:\n",
    "    if 'scan' not in Path(f).name:\n",
    "        print( Path(f).name)\n"
   ]
  },
  {
   "cell_type": "code",
   "execution_count": 192,
   "metadata": {},
   "outputs": [],
   "source": [
    "s= set()\n",
    "for f in handfiles:\n",
    "    s.add( int( Path(f).name.split('_')[-5][-4:])-1)"
   ]
  },
  {
   "cell_type": "code",
   "execution_count": 202,
   "metadata": {},
   "outputs": [
    {
     "name": "stdout",
     "output_type": "stream",
     "text": [
      "2742\n"
     ]
    }
   ],
   "source": [
    "print( len( s))"
   ]
  },
  {
   "cell_type": "code",
   "execution_count": 199,
   "metadata": {},
   "outputs": [
    {
     "data": {
      "text/plain": [
       "56"
      ]
     },
     "execution_count": 199,
     "metadata": {},
     "output_type": "execute_result"
    }
   ],
   "source": [
    "len( en_lines[i])"
   ]
  },
  {
   "cell_type": "code",
   "execution_count": 204,
   "metadata": {},
   "outputs": [
    {
     "name": "stdout",
     "output_type": "stream",
     "text": [
      "100\n",
      "200\n",
      "300\n",
      "400\n",
      "500\n",
      "600\n",
      "700\n",
      "800\n",
      "900\n",
      "1000\n",
      "1100\n",
      "1200\n",
      "1300\n",
      "1400\n",
      "1500\n",
      "1600\n",
      "1700\n",
      "1800\n",
      "1900\n",
      "2000\n",
      "2100\n",
      "2200\n",
      "2300\n",
      "2400\n",
      "2500\n",
      "2600\n",
      "2700\n",
      "2800\n",
      "2900\n",
      "3000\n",
      "3100\n",
      "3200\n",
      "3300\n",
      "3400\n",
      "3500\n",
      "3600\n",
      "3700\n",
      "3800\n",
      "3900\n",
      "4000\n",
      "4100\n",
      "4200\n",
      "4300\n",
      "4400\n",
      "4500\n",
      "4600\n",
      "4700\n",
      "4800\n",
      "4900\n",
      "5000\n",
      "5100\n",
      "5200\n",
      "5300\n",
      "5400\n",
      "5500\n",
      "5600\n",
      "5700\n",
      "5800\n",
      "5900\n",
      "6000\n",
      "6100\n",
      "6200\n",
      "6300\n",
      "6400\n",
      "6500\n",
      "6600\n",
      "6700\n",
      "6800\n",
      "6900\n",
      "7000\n",
      "7100\n",
      "7200\n",
      "7300\n",
      "7400\n",
      "7500\n",
      "7600\n",
      "7700\n",
      "7800\n",
      "7900\n",
      "8000\n",
      "8100\n",
      "8200\n",
      "8300\n",
      "8400\n",
      "8500\n",
      "8600\n",
      "8700\n",
      "8800\n",
      "8900\n",
      "9000\n",
      "9100\n",
      "9200\n",
      "9300\n",
      "9400\n",
      "9500\n",
      "9600\n",
      "9700\n",
      "9800\n",
      "9900\n"
     ]
    }
   ],
   "source": [
    "for i in range( 100, 10000): \n",
    "    if i%100== 0:\n",
    "        print( i)\n",
    "    if len( en_lines[i])< 50:\n",
    "        continue\n",
    "    if i in s:\n",
    "        pass\n",
    "#         print( \"pass \"+ str(i+1))\n",
    "    else:\n",
    "#         print( 'generating for '+ str(i+1))\n",
    "        generate_one( lines[i], \" \".join( en_lines[i]), i+1)             \n"
   ]
  }
 ],
 "metadata": {
  "kernelspec": {
   "display_name": "Python 3",
   "language": "python",
   "name": "python3"
  },
  "language_info": {
   "codemirror_mode": {
    "name": "ipython",
    "version": 3
   },
   "file_extension": ".py",
   "mimetype": "text/x-python",
   "name": "python",
   "nbconvert_exporter": "python",
   "pygments_lexer": "ipython3",
   "version": "3.8.2"
  }
 },
 "nbformat": 4,
 "nbformat_minor": 4
}
