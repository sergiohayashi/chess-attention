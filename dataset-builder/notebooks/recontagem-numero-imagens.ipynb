{
 "cells": [
  {
   "cell_type": "code",
   "execution_count": 1,
   "id": "ba23590b",
   "metadata": {},
   "outputs": [],
   "source": [
    "# import tensorflow as tf\n",
    "# device_name = tf.test.gpu_device_name()\n",
    "# if device_name != '/device:GPU:0':\n",
    "#   raise SystemError('GPU device not found')\n",
    "# print('Found GPU at: {}'.format(device_name))\n",
    "\n",
    "# You'll generate plots of attention in order to see which p arts of an image\n",
    "# our model focuses on during captioning\n",
    "import matplotlib.pyplot as plt\n",
    "\n",
    "# Scikit-learn includes many helpful utilities\n",
    "from sklearn.model_selection import train_test_split\n",
    "from sklearn.utils import shuffle\n",
    "\n",
    "import re\n",
    "import numpy as np  \n",
    "import os\n",
    "import time\n",
    "import json\n",
    "from glob import glob\n",
    "from PIL import Image\n",
    "import pickle\n",
    "import cv2\n",
    "from sklearn.utils import shuffle\n",
    "\n",
    "from IPython.display import clear_output, display\n",
    "import os.path\n",
    "from os import path\n",
    "import shutil\n",
    "import PIL\n",
    "from pathlib import Path\n",
    "from matplotlib import pyplot as plt\n",
    "\n",
    "from IPython.display import clear_output\n",
    "\n",
    "import numpy as np\n",
    "\n",
    "from PIL import ImageFont\n",
    "from PIL import Image, ImageDraw\n",
    "from PIL import ImageColor\n",
    "\n",
    "from scipy.ndimage.interpolation import map_coordinates\n",
    "from scipy.ndimage.filters import gaussian_filter\n",
    "\n",
    "import random\n",
    "\n",
    "import time\n",
    "import shutil\n",
    "import uuid\n",
    "from shutil import copyfile\n",
    "from collections import Counter"
   ]
  },
  {
   "cell_type": "code",
   "execution_count": 21,
   "id": "c11d0694",
   "metadata": {},
   "outputs": [
    {
     "name": "stdout",
     "output_type": "stream",
     "text": [
      "471\n",
      "['carnaval_0001', 'carnaval_0002', 'carnaval_0003', 'carnaval_0004', 'carnaval_0005', 'carnaval_0007', 'carnaval_0013', 'carnaval_0015', 'carnaval_0016', 'carnaval_0017']\n"
     ]
    }
   ],
   "source": [
    "def read_all(folder):\n",
    "    files = glob( os.path.join( folder, '*.jpg'))\n",
    "    files = [Path( f).name[:13] for f in files]\n",
    "    return files\n",
    "    \n",
    "    \n",
    "all= read_all( r'C:\\mestrado\\repos-github\\chess-attention\\dataset-builder\\pool_8lines\\torneio-all\\images')    \n",
    "print( len( all))\n",
    "print( all[:10])"
   ]
  },
  {
   "cell_type": "code",
   "execution_count": 22,
   "id": "fad2a280",
   "metadata": {},
   "outputs": [],
   "source": [
    "f_except = read_all( r'C:\\mestrado\\repos-github\\chess-attention\\dataset-builder\\pool_8lines\\torneio-except-test\\images')\n",
    "f_test = read_all( r'C:\\mestrado\\repos-github\\chess-attention\\trained--for-evaluation\\notebooks\\test-data\\test-8lines\\images')"
   ]
  },
  {
   "cell_type": "code",
   "execution_count": 13,
   "id": "ed74c4b8",
   "metadata": {},
   "outputs": [
    {
     "name": "stdout",
     "output_type": "stream",
     "text": [
      "['carnaval_0001_line_1_8.jpg', 'carnaval_0002_line_1_8.jpg', 'carnaval_0003_line_1_8.jpg', 'carnaval_0004_line_1_8.jpg', 'carnaval_0005_line_1_8.jpg', 'carnaval_0007_line_1_8.jpg', 'carnaval_0013_line_1_8.jpg', 'carnaval_0015_line_1_8.jpg', 'carnaval_0016_line_1_8.jpg', 'carnaval_0017_line_1_8.jpg']\n"
     ]
    }
   ],
   "source": [
    "print( all[:10])"
   ]
  },
  {
   "cell_type": "code",
   "execution_count": 27,
   "id": "140edf8c",
   "metadata": {},
   "outputs": [
    {
     "name": "stdout",
     "output_type": "stream",
     "text": [
      "all 471\n",
      "except 378\n",
      "test 114\n"
     ]
    }
   ],
   "source": [
    "print( 'all', len( all))\n",
    "print( 'except', len( f_except))\n",
    "print( 'test', len( f_test))\n"
   ]
  },
  {
   "cell_type": "code",
   "execution_count": 23,
   "id": "e9724b6a",
   "metadata": {},
   "outputs": [
    {
     "name": "stdout",
     "output_type": "stream",
     "text": [
      "21\n",
      "['carnaval_0067', 'carnaval_0156', 'carnaval_0170', 'carnaval_0172', 'carnaval_0213', 'carnaval_0230', 'carnaval_0234', 'carnaval_0283', 'carnaval_0356', 'carnaval_0372', 'carnaval_0395', 'carnaval_0404', 'carnaval_0408', 'carnaval_0422', 'carnaval_0444', 'carnaval_0485', 'carnaval_0487', 'carnaval_0501', 'carnaval_0551', 'carnaval_0596', 'carnaval_0676']\n"
     ]
    }
   ],
   "source": [
    "f_test_not_in_all= [f for f in f_test if f not in all]\n",
    "print( len( f_test_not_in_all))\n",
    "print( f_test_not_in_all)"
   ]
  },
  {
   "cell_type": "code",
   "execution_count": 24,
   "id": "5005b05f",
   "metadata": {},
   "outputs": [
    {
     "name": "stdout",
     "output_type": "stream",
     "text": [
      "0\n"
     ]
    }
   ],
   "source": [
    "f_test_not_in_all= [f for f in f_except if f not in all]\n",
    "print( len( f_test_not_in_all))"
   ]
  },
  {
   "cell_type": "code",
   "execution_count": 15,
   "id": "319ef95b",
   "metadata": {},
   "outputs": [],
   "source": [
    "def intersection(lst1, lst2):\n",
    "    return list(set(lst1) & set(lst2))"
   ]
  },
  {
   "cell_type": "code",
   "execution_count": 28,
   "id": "e877633f",
   "metadata": {},
   "outputs": [
    {
     "data": {
      "text/plain": [
       "93"
      ]
     },
     "execution_count": 28,
     "metadata": {},
     "output_type": "execute_result"
    }
   ],
   "source": [
    "len( intersection( all, f_test))"
   ]
  },
  {
   "cell_type": "code",
   "execution_count": 29,
   "id": "4dceac87",
   "metadata": {},
   "outputs": [
    {
     "data": {
      "text/plain": [
       "21"
      ]
     },
     "execution_count": 29,
     "metadata": {},
     "output_type": "execute_result"
    }
   ],
   "source": [
    "len( f_test)- 93"
   ]
  },
  {
   "cell_type": "code",
   "execution_count": 32,
   "id": "75d6bdc2",
   "metadata": {},
   "outputs": [
    {
     "data": {
      "text/plain": [
       "378"
      ]
     },
     "execution_count": 32,
     "metadata": {},
     "output_type": "execute_result"
    }
   ],
   "source": [
    "len( intersection( f_except, all))"
   ]
  },
  {
   "cell_type": "code",
   "execution_count": 33,
   "id": "7eb693c0",
   "metadata": {},
   "outputs": [
    {
     "data": {
      "text/plain": [
       "471"
      ]
     },
     "execution_count": 33,
     "metadata": {},
     "output_type": "execute_result"
    }
   ],
   "source": [
    "378+93"
   ]
  },
  {
   "cell_type": "code",
   "execution_count": 34,
   "id": "c0f7f329",
   "metadata": {},
   "outputs": [],
   "source": [
    "f_test_only = [f for f in f_test if f not in all]"
   ]
  },
  {
   "cell_type": "code",
   "execution_count": 35,
   "id": "565f4882",
   "metadata": {},
   "outputs": [
    {
     "name": "stdout",
     "output_type": "stream",
     "text": [
      "21\n"
     ]
    }
   ],
   "source": [
    "print( len( f_test_only))"
   ]
  },
  {
   "cell_type": "code",
   "execution_count": 36,
   "id": "a46551c8",
   "metadata": {},
   "outputs": [
    {
     "name": "stdout",
     "output_type": "stream",
     "text": [
      "['carnaval_0067', 'carnaval_0156', 'carnaval_0170', 'carnaval_0172', 'carnaval_0213', 'carnaval_0230', 'carnaval_0234', 'carnaval_0283', 'carnaval_0356', 'carnaval_0372', 'carnaval_0395', 'carnaval_0404', 'carnaval_0408', 'carnaval_0422', 'carnaval_0444', 'carnaval_0485', 'carnaval_0487', 'carnaval_0501', 'carnaval_0551', 'carnaval_0596', 'carnaval_0676']\n"
     ]
    }
   ],
   "source": [
    "print( f_test_only)"
   ]
  },
  {
   "cell_type": "code",
   "execution_count": 37,
   "id": "26c0ff98",
   "metadata": {},
   "outputs": [
    {
     "data": {
      "text/plain": [
       "492"
      ]
     },
     "execution_count": 37,
     "metadata": {},
     "output_type": "execute_result"
    }
   ],
   "source": [
    "378+114"
   ]
  }
 ],
 "metadata": {
  "kernelspec": {
   "display_name": "Python 3 (ipykernel)",
   "language": "python",
   "name": "python3"
  },
  "language_info": {
   "codemirror_mode": {
    "name": "ipython",
    "version": 3
   },
   "file_extension": ".py",
   "mimetype": "text/x-python",
   "name": "python",
   "nbconvert_exporter": "python",
   "pygments_lexer": "ipython3",
   "version": "3.9.6"
  }
 },
 "nbformat": 4,
 "nbformat_minor": 5
}
