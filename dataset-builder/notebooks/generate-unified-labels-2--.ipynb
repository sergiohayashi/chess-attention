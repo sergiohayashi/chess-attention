{
 "cells": [
  {
   "cell_type": "code",
   "execution_count": 2,
   "metadata": {},
   "outputs": [],
   "source": [
    "# You'll generate plots of attention in order to see which parts of an image\n",
    "# our model focuses on during captioning\n",
    "import matplotlib.pyplot as plt\n",
    "\n",
    "# Scikit-learn includes many helpful utilities\n",
    "from sklearn.model_selection import train_test_split\n",
    "from sklearn.utils import shuffle\n",
    "\n",
    "import re\n",
    "import numpy as np  \n",
    "import os\n",
    "import time\n",
    "import json\n",
    "from glob import glob\n",
    "import pickle\n",
    "from sklearn.utils import shuffle\n",
    "\n",
    "from IPython.display import clear_output, display\n",
    "import os.path\n",
    "from os import path\n",
    "import shutil\n",
    "from pathlib import Path"
   ]
  },
  {
   "cell_type": "code",
   "execution_count": 3,
   "metadata": {},
   "outputs": [],
   "source": [
    "def read_label( path):\n",
    "  f= open( path)\n",
    "  d= f.read()\n",
    "  f.close()\n",
    "  return d "
   ]
  },
  {
   "cell_type": "code",
   "execution_count": 5,
   "metadata": {},
   "outputs": [],
   "source": [
    "def write_label( path, text):\n",
    "  f= open( path, \"w\")\n",
    "  f.write( text)\n",
    "  f.close()"
   ]
  },
  {
   "cell_type": "code",
   "execution_count": 16,
   "metadata": {},
   "outputs": [],
   "source": [
    "# le todos do carnaval\n",
    "files= glob( os.path.join( 'C:/mestrado/datasets/unified/parts/vocabulary/from-carnaval', \"*.pgn\"))\n",
    "labels= [read_label(f) for f in files]"
   ]
  },
  {
   "cell_type": "code",
   "execution_count": 17,
   "metadata": {},
   "outputs": [
    {
     "data": {
      "text/plain": [
       "684"
      ]
     },
     "execution_count": 17,
     "metadata": {},
     "output_type": "execute_result"
    }
   ],
   "source": [
    "len( labels)"
   ]
  },
  {
   "cell_type": "code",
   "execution_count": null,
   "metadata": {},
   "outputs": [],
   "source": [
    "# le os 10k dos manuais"
   ]
  },
  {
   "cell_type": "code",
   "execution_count": 10,
   "metadata": {},
   "outputs": [],
   "source": [
    "with open('C:/mestrado/datasets/unified/parts/vocabulary/from-handmade/pgn_10k_eng.txt') as file:\n",
    "    lines = [line.strip() for line in file]"
   ]
  },
  {
   "cell_type": "code",
   "execution_count": 11,
   "metadata": {},
   "outputs": [
    {
     "data": {
      "text/plain": [
       "10000"
      ]
     },
     "execution_count": 11,
     "metadata": {},
     "output_type": "execute_result"
    }
   ],
   "source": [
    "len( lines)"
   ]
  },
  {
   "cell_type": "code",
   "execution_count": 12,
   "metadata": {},
   "outputs": [
    {
     "name": "stdout",
     "output_type": "stream",
     "text": [
      "000001: d4 f5 Nf3 g6 g3 Bg7 Bg2 Nf6 b4 c6 c4 d5 Qb3 Be6 c5 Ne4 O-O Nd7 Bf4 O-O Nbd2 Bf7 Qe3 Qe8 Bh6 Ndf6 Ne5 Nxd2 Qxd2 Nd7 Bxg7 Kxg7 Qf4 Be6 a4 Nxe5 Qxe5+ Rf6 f4 Kg8 Rfb1 Bc8 Qc7 Qd7 Qxd7 Bxd7 b5 Rff8 e3 e6 Bf1 Kf7 a5 Rfb8 Rb2 Ke7 Rab1 Rc8 bxc6 bxc6 Ba6 Rc7 Rb8 Rxb8 Rxb8 Be8 Bb7 Bd7 a6 Be8 Ra8 Bd7 Kf2 Kf6 Rh8 Kg7 Ra8 Kf6 Ke2 h6 Kd2 g5 Kc3 gxf4 exf4\n"
     ]
    }
   ],
   "source": [
    "print( lines[0])"
   ]
  },
  {
   "cell_type": "code",
   "execution_count": 13,
   "metadata": {},
   "outputs": [],
   "source": [
    "_lines= [ln[8:] for ln in lines]"
   ]
  },
  {
   "cell_type": "code",
   "execution_count": 14,
   "metadata": {},
   "outputs": [
    {
     "data": {
      "text/plain": [
       "'d4 f5 Nf3 g6 g3 Bg7 Bg2 Nf6 b4 c6 c4 d5 Qb3 Be6 c5 Ne4 O-O Nd7 Bf4 O-O Nbd2 Bf7 Qe3 Qe8 Bh6 Ndf6 Ne5 Nxd2 Qxd2 Nd7 Bxg7 Kxg7 Qf4 Be6 a4 Nxe5 Qxe5+ Rf6 f4 Kg8 Rfb1 Bc8 Qc7 Qd7 Qxd7 Bxd7 b5 Rff8 e3 e6 Bf1 Kf7 a5 Rfb8 Rb2 Ke7 Rab1 Rc8 bxc6 bxc6 Ba6 Rc7 Rb8 Rxb8 Rxb8 Be8 Bb7 Bd7 a6 Be8 Ra8 Bd7 Kf2 Kf6 Rh8 Kg7 Ra8 Kf6 Ke2 h6 Kd2 g5 Kc3 gxf4 exf4'"
      ]
     },
     "execution_count": 14,
     "metadata": {},
     "output_type": "execute_result"
    }
   ],
   "source": [
    "_lines[0]"
   ]
  },
  {
   "cell_type": "code",
   "execution_count": 18,
   "metadata": {},
   "outputs": [],
   "source": [
    "all_labels= labels + _lines"
   ]
  },
  {
   "cell_type": "code",
   "execution_count": 19,
   "metadata": {},
   "outputs": [
    {
     "data": {
      "text/plain": [
       "10684"
      ]
     },
     "execution_count": 19,
     "metadata": {},
     "output_type": "execute_result"
    }
   ],
   "source": [
    "len( all_labels)"
   ]
  },
  {
   "cell_type": "code",
   "execution_count": 31,
   "metadata": {},
   "outputs": [],
   "source": [
    "tokens= [set( ln.split()[:16]) for ln in all_labels]"
   ]
  },
  {
   "cell_type": "code",
   "execution_count": 23,
   "metadata": {},
   "outputs": [
    {
     "data": {
      "text/plain": [
       "10684"
      ]
     },
     "execution_count": 23,
     "metadata": {},
     "output_type": "execute_result"
    }
   ],
   "source": [
    "len( tokens)"
   ]
  },
  {
   "cell_type": "code",
   "execution_count": 32,
   "metadata": {},
   "outputs": [],
   "source": [
    "all= set()"
   ]
  },
  {
   "cell_type": "code",
   "execution_count": 33,
   "metadata": {},
   "outputs": [],
   "source": [
    "for s in tokens:\n",
    "    all= all.union( s)"
   ]
  },
  {
   "cell_type": "code",
   "execution_count": 34,
   "metadata": {},
   "outputs": [
    {
     "data": {
      "text/plain": [
       "623"
      ]
     },
     "execution_count": 34,
     "metadata": {},
     "output_type": "execute_result"
    }
   ],
   "source": [
    "len( all)"
   ]
  },
  {
   "cell_type": "code",
   "execution_count": null,
   "metadata": {},
   "outputs": [],
   "source": [
    "import re"
   ]
  },
  {
   "cell_type": "code",
   "execution_count": null,
   "metadata": {},
   "outputs": [],
   "source": [
    "with open('C:/mestrado/datasets/unified/labels/unified-all-labels.txt', 'w') as f:\n",
    "    for item in all_labels:\n",
    "        f.write(\"%s\\n\" % item)"
   ]
  },
  {
   "cell_type": "code",
   "execution_count": null,
   "metadata": {},
   "outputs": [],
   "source": [
    "#\n",
    "# remove pontuacao (+, =, !, #, x)\n",
    "#\n",
    "\n",
    "def cleanup(line):\n",
    "    return re.sub('[^0-9a-zA-Z -]+', '', line).replace( 'x', '')\n",
    "\n",
    "#le arquivo\n",
    "with open('C:/mestrado/datasets/unified/labels/unified-all-labels.txt') as file:\n",
    "    lines = [line.strip() for line in file]\n",
    "    \n",
    "with open('C:/mestrado/datasets/unified/labels/unified-all-labels-noponct.txt', 'w') as f:\n",
    "    for ln in lines:\n",
    "        f.write(\"%s\\n\" % cleanup(ln))"
   ]
  },
  {
   "cell_type": "code",
   "execution_count": null,
   "metadata": {},
   "outputs": [],
   "source": [
    "# \n",
    "# limpa pontuacao do dataset\n",
    "#\n",
    "def read_label( path):\n",
    "  f= open( path)\n",
    "  d= f.read()\n",
    "  f.close()\n",
    "  return d \n",
    "\n",
    "def write_label( path, text):\n",
    "  f= open( path, \"w\")\n",
    "  f.write( text)\n",
    "  f.close()\n",
    "\n",
    "files= glob( os.path.join( \"C:/mestrado/datasets/unified/dataset/unified-all-fullpage-noponct/labels_orig\", \"*.pgn\"))\n",
    "count= 1\n",
    "for f in files:\n",
    "    labels= read_label(f)\n",
    "    write_label( os.path.join( \"C:/mestrado/datasets/unified/dataset/unified-all-fullpage-noponct/labels\", Path( f).name),\n",
    "                cleanup( labels))\n",
    "    if count%100== 0:\n",
    "        print( count)\n",
    "    count+= 1"
   ]
  },
  {
   "cell_type": "code",
   "execution_count": null,
   "metadata": {},
   "outputs": [],
   "source": [
    "#\n",
    "# conta o numero de tokens\n",
    "#\n",
    "with open('C:/mestrado/datasets/unified/labels/unified-all-labels-noponct.txt') as file:\n",
    "    lines = [line.strip() for line in file]\n",
    "\n",
    "tokens= [set( ln.split()) for ln in lines]\n",
    "all= set()\n",
    "for s in tokens:\n",
    "    all= all.union( s)\n",
    "print( len( all))"
   ]
  },
  {
   "cell_type": "code",
   "execution_count": null,
   "metadata": {},
   "outputs": [],
   "source": [
    "#\n",
    "# conta o numero de tokens\n",
    "#\n",
    "\n",
    "all= set()\n",
    "files= glob( os.path.join( \"C:/mestrado/datasets/unified/dataset/unified-all-fullpage-noponct/labels\", \"*.pgn\"))\n",
    "for f in files:\n",
    "    with open(f) as file:\n",
    "        lines = [line.strip() for line in file]\n",
    "    tokens= [set( ln.split()) for ln in lines]\n",
    "    for s in tokens:\n",
    "        all= all.union( s)\n",
    "\n",
    "print( len( all))"
   ]
  }
 ],
 "metadata": {
  "kernelspec": {
   "display_name": "Python 3",
   "language": "python",
   "name": "python3"
  },
  "language_info": {
   "codemirror_mode": {
    "name": "ipython",
    "version": 3
   },
   "file_extension": ".py",
   "mimetype": "text/x-python",
   "name": "python",
   "nbconvert_exporter": "python",
   "pygments_lexer": "ipython3",
   "version": "3.8.2"
  }
 },
 "nbformat": 4,
 "nbformat_minor": 4
}
