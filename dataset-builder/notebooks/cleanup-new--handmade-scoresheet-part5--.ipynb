{
 "cells": [
  {
   "cell_type": "code",
   "execution_count": 1,
   "metadata": {},
   "outputs": [
    {
     "name": "stdout",
     "output_type": "stream",
     "text": [
      "Found GPU at: \n",
      "2.2.0\n"
     ]
    }
   ],
   "source": [
    "import tensorflow as tf\n",
    "device_name = tf.test.gpu_device_name()\n",
    "# if device_name != '/device:GPU:0':\n",
    "#   raise SystemError('GPU device not found')\n",
    "print('Found GPU at: {}'.format(device_name))\n",
    "\n",
    "# You'll generate plots of attention in order to see which parts of an image\n",
    "# our model focuses on during captioning\n",
    "import matplotlib.pyplot as plt\n",
    "\n",
    "# Scikit-learn includes many helpful utilities\n",
    "from sklearn.model_selection import train_test_split\n",
    "from sklearn.utils import shuffle\n",
    "\n",
    "import re\n",
    "import numpy as np  \n",
    "import os\n",
    "import time\n",
    "import json\n",
    "from glob import glob\n",
    "from PIL import Image\n",
    "import pickle\n",
    "import cv2\n",
    "from sklearn.utils import shuffle\n",
    "\n",
    "print(tf.__version__) "
   ]
  },
  {
   "cell_type": "code",
   "execution_count": 2,
   "metadata": {},
   "outputs": [],
   "source": [
    "from IPython.display import clear_output, display\n",
    "import os.path\n",
    "from os import path\n",
    "import shutil\n",
    "import PIL\n",
    "from pathlib import Path\n",
    "from matplotlib import pyplot as plt"
   ]
  },
  {
   "cell_type": "code",
   "execution_count": 3,
   "metadata": {},
   "outputs": [],
   "source": [
    "from IPython.display import clear_output"
   ]
  },
  {
   "cell_type": "code",
   "execution_count": 4,
   "metadata": {},
   "outputs": [],
   "source": [
    "def read_label( path):\n",
    "  f= open( path)\n",
    "  d= f.read()\n",
    "  f.close()\n",
    "  return d \n",
    "\n",
    "def write_label( path, text):\n",
    "  f= open( path, \"w\")\n",
    "  f.write( text)\n",
    "  f.close()\n",
    "\n",
    "def show( img, name= 'noname'):\n",
    "  plt.imshow( img)\n",
    "  plt.title( name)\n",
    "  plt.show()\n",
    "\n",
    "def show_gimage( img, name= 'noname'):\n",
    "  plt.imshow( img, cmap= 'gray')\n",
    "  plt.title( name)\n",
    "  plt.show()\n",
    "\n",
    "def _load_image( path):\n",
    "  # return cv2.imread( path, cv2.IMREAD_GRAYSCALE)\n",
    "  return cv2.imread( path)\n",
    "  \n",
    "def write_image( path, img):\n",
    "  cv2.imwrite( path, img)\n",
    "\n",
    "def resize( img, scale_percent= 60, verbose=False):\n",
    "  #scale_percent = 60 # percent of original size\n",
    "  width = int(img.shape[1] * scale_percent / 100)\n",
    "  height = int(img.shape[0] * scale_percent / 100)\n",
    "  dim = (width, height)\n",
    "  if verbose:\n",
    "    print( \"scale\", scale_percent)\n",
    "    print( \"dim\", dim)\n",
    "  # resize image\n",
    "  return cv2.resize(img, dim, interpolation = cv2.INTER_AREA) "
   ]
  },
  {
   "cell_type": "code",
   "execution_count": 8,
   "metadata": {},
   "outputs": [
    {
     "name": "stdout",
     "output_type": "stream",
     "text": [
      "4100 ...\n",
      "4200 ...\n",
      "4300 ...\n",
      "4400 ...\n",
      "4500 ...\n",
      "4600 ...\n",
      "4700 ...\n"
     ]
    }
   ],
   "source": [
    "#\n",
    "# parte 1 - faz split da imagem original e gera um arquivo para cada jogada\n",
    "#\n",
    "\n",
    "count= 4000;\n",
    "output_folder= \"C:/mestrado/datasets/handmade/imagens-originais/all_splitted_part5-\"\n",
    "def split( img):\n",
    "#     print( img.shape) #esperado (2480, 3504, 3)\n",
    "    h= 2230+50  #2280\n",
    "    w= 1545+10  #1555\n",
    "    \n",
    "    img1= img[100:100+h, 115:115+w]\n",
    "    img2= img[110:110+h, 1845:1845+w]\n",
    "#     img1= img[115:113+h, 145:145+w]\n",
    "#     img2= img[130:130+h, 1860:1860+w]\n",
    "    \n",
    "    # esperado \n",
    "    return img1, img2\n",
    "\n",
    "def split_and_save( tag, file):\n",
    "    global count\n",
    "    img= cv2.imread( file)\n",
    "    img= cv2.rotate(img, cv2.ROTATE_90_COUNTERCLOCKWISE)\n",
    "    img1, img2= split( img)\n",
    "    \n",
    "    fname= os.path.join( output_folder, \"9999_\"+str(count).zfill(4)+\"_L_\"+ tag+\"_\"+ Path( file).name)\n",
    "    count+= 1\n",
    "    write_image( fname, img1)\n",
    "    fname= os.path.join( output_folder, \"9999_\"+str(count).zfill(4)+\"_R_\"+ tag+\"_\"+ Path( file).name)\n",
    "    count+= 1\n",
    "    write_image( fname, img2)\n",
    "    if( count%100== 0 or count%100== 1):\n",
    "        print( count, \"...\")\n",
    "    \n",
    "for tag,folder in [\n",
    "    (\"part5\", \"C:/mestrado/datasets/handmade/imagens-originais/scanned_images-part5\")]:\n",
    "    \n",
    "    files= glob( os.path.join( folder, \"*.jpg\"))\n",
    "    for f in files:\n",
    "        split_and_save( tag, f)"
   ]
  },
  {
   "cell_type": "code",
   "execution_count": 11,
   "metadata": {},
   "outputs": [],
   "source": [
    "#\n",
    "# parte 1.2 - traz as imagens pequenas\n",
    "#\n",
    "\n",
    "count= 5000;\n",
    "output_folder= \"C:/mestrado/datasets/handmade/imagens-originais/all_splitted_part5-\"\n",
    "# def split( img):\n",
    "# #     print( img.shape) #esperado (2480, 3504, 3)\n",
    "#     h= 2230+50  #2280\n",
    "#     w= 1545+10  #1555\n",
    "    \n",
    "#     img1= img[100:100+h, 115:115+w]\n",
    "#     img2= img[110:110+h, 1845:1845+w]\n",
    "# #     img1= img[115:113+h, 145:145+w]\n",
    "# #     img2= img[130:130+h, 1860:1860+w]\n",
    "    \n",
    "#     # esperado \n",
    "#     return img1, img2\n",
    "\n",
    "def resize_and_save( tag, file):\n",
    "    global count\n",
    "    img= cv2.imread( file)\n",
    "    \n",
    "    img= cv2.resize(img, (1555, 2280), interpolation = cv2.INTER_AREA)  \n",
    "#     write_image( os.path.join( dest_imgdir, Path( f).name), img3)    \n",
    "    \n",
    "#     img= cv2.rotate(img, cv2.ROTATE_90_COUNTERCLOCKWISE)\n",
    "#     img1, img2= split( img)\n",
    "    \n",
    "    fname= os.path.join( output_folder, \"9999_\"+str(count).zfill(4)+\"_L_\"+ tag+\"_\"+ Path( file).name)\n",
    "    count+= 1\n",
    "    write_image( fname, img)\n",
    "    \n",
    "#     fname= os.path.join( output_folder, \"9999_\"+str(count).zfill(4)+\"_R_\"+ tag+\"_\"+ Path( file).name)\n",
    "#     count+= 1\n",
    "#     write_image( fname, img2)\n",
    "#     if( count%100== 0 or count%100== 1):\n",
    "#         print( count, \"...\")\n",
    "    \n",
    "for tag,folder in [\n",
    "    (\"part6\", \"C:/mestrado/datasets/handmade/imagens-originais/scanned_images-part6\")]:\n",
    "    \n",
    "    files= glob( os.path.join( folder, \"*.jpg\"))\n",
    "    for f in files:\n",
    "        resize_and_save( tag, f)"
   ]
  },
  {
   "cell_type": "code",
   "execution_count": 12,
   "metadata": {},
   "outputs": [],
   "source": [
    "import time"
   ]
  },
  {
   "cell_type": "code",
   "execution_count": 13,
   "metadata": {},
   "outputs": [],
   "source": [
    "import shutil"
   ]
  },
  {
   "cell_type": "code",
   "execution_count": 17,
   "metadata": {},
   "outputs": [],
   "source": [
    "#\n",
    "# passo 2, identifcar o numero\n",
    "#\n",
    "def showbig( img, name= 'noname'):\n",
    "    plt.figure(figsize = (5,2))    \n",
    "    plt.imshow( img)\n",
    "    plt.title( name)\n",
    "    plt.show()\n",
    "\n",
    "output_folder= \"C:/mestrado/datasets/handmade/imagens-originais/all_splitted_part5-\"\n",
    "files= glob( os.path.join( output_folder, \"9999*.jpg\"))\n",
    "k= len( files)\n",
    "n= None\n",
    "for f in files:\n",
    "    clear_output()\n",
    "    if n is None or len( n)<= 0:\n",
    "        print( \"Movido para _hold\")\n",
    "    else:\n",
    "        print( 'Salvo como', ofile)\n",
    "    img= cv2.imread( f)\n",
    "    img= img[10:240,10:800]\n",
    "    print( k, f)\n",
    "    k-= 1\n",
    "    showbig( img)\n",
    "#     print( 'tesseract=>',pytesseract.image_to_string(img))\n",
    "    n= input()\n",
    "    if n is None or len( n)<= 0:\n",
    "        print( \"None informado. move para hold\")\n",
    "        shutil.move( f, 'C:/mestrado/datasets/handmade/imagens-originais/all_splitted_part5-/_hold')\n",
    "        time.sleep( 1)\n",
    "    elif n=='x':\n",
    "        print( 'bye!')\n",
    "        break\n",
    "    else:\n",
    "        ofile= f.replace( '9999', n.zfill(4)) \n",
    "        os.rename( f, ofile)\n",
    "        print( 'Salva como ', ofile)"
   ]
  },
  {
   "cell_type": "code",
   "execution_count": null,
   "metadata": {},
   "outputs": [],
   "source": [
    "#\n",
    "# passo 3, renomear para 4 digitos no primeiro bloco\n",
    "#\n",
    "files= glob( os.path.join( output_folder, \"*.jpg\"))\n",
    "k= len( files)\n",
    "for f in files:\n",
    "    p= Path( f)\n",
    "    t= p.name.split( '_')[0]\n",
    "    q= t.zfill(4)+'_'\n",
    "    newf= f.replace( t+'_', q)\n",
    "    if( newf != f):\n",
    "        print( f, '=>', newf)\n",
    "        os.rename( f, newf)"
   ]
  },
  {
   "cell_type": "code",
   "execution_count": 18,
   "metadata": {},
   "outputs": [],
   "source": [
    "from shutil import copyfile"
   ]
  },
  {
   "cell_type": "code",
   "execution_count": null,
   "metadata": {},
   "outputs": [],
   "source": [
    "#\n",
    "# passo 3.1 - limipar fullpage\n",
    "#"
   ]
  },
  {
   "cell_type": "code",
   "execution_count": 19,
   "metadata": {},
   "outputs": [],
   "source": [
    "output_folder= \"C:/mestrado/datasets/handmade/imagens-originais/all_splitted_part5-\"\n",
    "files= glob( os.path.join( output_folder, \"*.jpg\"))    \n",
    "pgnfile= \"C:/mestrado/datasets/handmade/imagens-originais/pgn_30k_eng.txt\"\n",
    "lines= open( pgnfile)\n",
    "lines10k= [next(lines) for x in range( 10000)]"
   ]
  },
  {
   "cell_type": "code",
   "execution_count": 20,
   "metadata": {},
   "outputs": [
    {
     "name": "stdout",
     "output_type": "stream",
     "text": [
      "prev C:/mestrado/datasets/handmade/imagens-originais/all_splitted_part5-\\6783_4001_R_part5_scan.jpg\n",
      "prev ['c4', 'g6', 'd4', 'Nf6']\n"
     ]
    },
    {
     "data": {
      "image/png": "[encoded data removed]",
      "text/plain": [
       "<Figure size 288x144 with 1 Axes>"
      ]
     },
     "metadata": {
      "needs_background": "light"
     },
     "output_type": "display_data"
    },
    {
     "name": "stdout",
     "output_type": "stream",
     "text": [
      "----------------\n",
      "1 776 C:/mestrado/datasets/handmade/imagens-originais/all_splitted_part5-\\9495_4365_R_part5_scan0186.jpg\n",
      "['c4', 'e5', 'Nc3', 'Nf6']\n"
     ]
    },
    {
     "data": {
      "image/png": "[encoded data removed]",
      "text/plain": [
       "<Figure size 288x144 with 1 Axes>"
      ]
     },
     "metadata": {
      "needs_background": "light"
     },
     "output_type": "display_data"
    },
    {
     "name": "stdout",
     "output_type": "stream",
     "text": [
      "\n"
     ]
    }
   ],
   "source": [
    "def showbig( img, name= 'noname'):\n",
    "    plt.figure(figsize = (4,2))    \n",
    "    plt.imshow( img)\n",
    "    plt.title( name)\n",
    "    plt.show()\n",
    "    \n",
    "def showsmall( img, name= 'noname'):\n",
    "    plt.figure(figsize = (2,2))    \n",
    "    plt.imshow( img)\n",
    "    plt.title( name)\n",
    "    plt.show()\n",
    "    \n",
    "k= len( files)\n",
    "kk= 0\n",
    "m= None\n",
    "hold= None\n",
    "_f= None\n",
    "_lab= None\n",
    "for f in files:\n",
    "    clear_output()\n",
    "    print( 'prev', _f)\n",
    "    print( 'prev', _lab)\n",
    "    if hold:\n",
    "        print( \"Movido para _hold =>\", Path(hold).name)\n",
    "        \n",
    "    # ---\n",
    "    n= int( Path( f).name.split( '_')[0])\n",
    "    # o pgn (n-1)\n",
    "    lnlabel= lines10k[n-1][8:len(lines10k[n-1])-1]\n",
    "\n",
    "    img= cv2.imread( f)\n",
    "    showbig( img[10:200,10:800])\n",
    "    \n",
    "    # extrai as primeireas 2 jogadas (para por no nome)\n",
    "    print( '----------------')\n",
    "    print( k, kk, f)\n",
    "    k-= 1\n",
    "    kk+= 1\n",
    "\n",
    "    print( lnlabel.split()[0:4])\n",
    "    _lab= lnlabel.split()[0:4]\n",
    "\n",
    "    showbig( img[400:800,10:800])\n",
    "#     showbig( img[(img.shape[0]-200):img.shape[0],(img.shape[1]-800):img.shape[1]])\n",
    "\n",
    "    m= input()\n",
    "    _f= f\n",
    "    hold= None\n",
    "    if m is None or len( m)<= 0:\n",
    "        pass\n",
    "    elif m=='x':\n",
    "        print( 'bye!')\n",
    "        break\n",
    "    else:\n",
    "        hold= f\n",
    "        print( \"move para hold\")\n",
    "        shutil.move( f, 'C:/mestrado/datasets/handmade/imagens-originais/all_splitted_part5-/_hold')\n",
    "#         time.sleep( 1)"
   ]
  },
  {
   "cell_type": "code",
   "execution_count": 21,
   "metadata": {
    "scrolled": true
   },
   "outputs": [
    {
     "name": "stdout",
     "output_type": "stream",
     "text": [
      "prev C:/mestrado/datasets/handmade/imagens-originais/all_splitted_part5-\\6542_4407_R_part5_scan0207.jpg\n",
      "----------------\n",
      "239 538 C:/mestrado/datasets/handmade/imagens-originais/all_splitted_part5-\\6543_4408_L_part5_scan0208.jpg\n"
     ]
    },
    {
     "data": {
      "image/png": "[encoded data removed]",
      "text/plain": [
       "<Figure size 288x144 with 1 Axes>"
      ]
     },
     "metadata": {
      "needs_background": "light"
     },
     "output_type": "display_data"
    },
    {
     "name": "stdout",
     "output_type": "stream",
     "text": [
      "x\n",
      "bye!\n"
     ]
    }
   ],
   "source": [
    "#\n",
    "# pass 3.2 limpar os que estao com a parte inferir cortado\n",
    "#\n",
    "def showbig( img, name= 'noname'):\n",
    "    plt.figure(figsize = (4,2))    \n",
    "    plt.imshow( img)\n",
    "    plt.title( name)\n",
    "    plt.show()\n",
    "    \n",
    "def showsmall( img, name= 'noname'):\n",
    "    plt.figure(figsize = (2,2))    \n",
    "    plt.imshow( img)\n",
    "    plt.title( name)\n",
    "    plt.show()\n",
    "    \n",
    "output_folder= \"C:/mestrado/datasets/handmade/imagens-originais/all_splitted_part5-\"\n",
    "files= glob( os.path.join( output_folder, \"*.jpg\"))\n",
    "k= len( files)\n",
    "kk= 0\n",
    "m= None\n",
    "hold= None\n",
    "_f= None\n",
    "_lab= None\n",
    "for f in files:\n",
    "    clear_output()\n",
    "    print( 'prev', _f)\n",
    "    if hold:\n",
    "        print( \"MOVIDO PARA -HOLD =>\", Path(hold).name)\n",
    "        \n",
    "    img= cv2.imread( f)\n",
    "    print( '----------------')\n",
    "    print( k, kk, f)\n",
    "    k-= 1\n",
    "    kk+= 1\n",
    "\n",
    "    showbig( img[(img.shape[0]-200):img.shape[0],(img.shape[1]-800):img.shape[1]])\n",
    "\n",
    "    m= input()\n",
    "    _f= f\n",
    "    hold= None\n",
    "    if m is None or len( m)<= 0:\n",
    "        pass\n",
    "    elif m=='x':\n",
    "        print( 'bye!')\n",
    "        break\n",
    "    else:\n",
    "        hold= f\n",
    "        print( \"move para hold\")\n",
    "        shutil.move( f, 'C:/mestrado/datasets/handmade/imagens-originais/all_splitted_part5-/_hold')\n"
   ]
  },
  {
   "cell_type": "code",
   "execution_count": null,
   "metadata": {},
   "outputs": [],
   "source": [
    "#\n",
    "# passo 4 - Criar arquivo de label para cada um dos arquivos\n",
    "# "
   ]
  },
  {
   "cell_type": "code",
   "execution_count": 22,
   "metadata": {},
   "outputs": [],
   "source": [
    "imagesdir= 'C:/mestrado/datasets/handmade/imagens-originais/all_splitted_part5-'\n",
    "dest_imgdir= 'C:/mestrado/datasets/handmade/imagens-originais/paired-part5-/images_with_header'\n",
    "dest_labeldir= 'C:/mestrado/datasets/handmade/imagens-originais/paired-part5-/labels'\n",
    "\n",
    "pgnfile= \"C:/mestrado/datasets/handmade/imagens-originais/pgn_30k_eng.txt\"\n",
    "lines= open( pgnfile)\n",
    "lines10k= [next(lines) for x in range( 10000)]\n",
    "\n",
    "output_folder= \"C:/mestrado/datasets/handmade/imagens-originais/all_splitted_part5-\"\n",
    "files= glob( os.path.join( output_folder, \"*.jpg\"))"
   ]
  },
  {
   "cell_type": "code",
   "execution_count": 23,
   "metadata": {},
   "outputs": [
    {
     "name": "stdout",
     "output_type": "stream",
     "text": [
      "777\n"
     ]
    }
   ],
   "source": [
    "print( len( files))"
   ]
  },
  {
   "cell_type": "code",
   "execution_count": 24,
   "metadata": {},
   "outputs": [
    {
     "name": "stdout",
     "output_type": "stream",
     "text": [
      "100\n",
      "200\n",
      "300\n",
      "400\n",
      "500\n",
      "600\n",
      "700\n",
      "done\n"
     ]
    }
   ],
   "source": [
    "def showbig( img, name= 'noname'):\n",
    "    plt.figure(figsize = (10,10))    \n",
    "    plt.imshow( img)\n",
    "    plt.title( name)\n",
    "    plt.show()\n",
    "    \n",
    "count= 1\n",
    "for f in files:\n",
    "#     print( f)\n",
    "    if count%100== 0:\n",
    "        print( count)\n",
    "    count+= 1\n",
    "    # o numero da jogada..\n",
    "    n= int( Path( f).name.split( '_')[0])\n",
    "\n",
    "    # o pgn (n-1)\n",
    "    lnlabel= lines10k[n-1][8:len(lines10k[n-1])-1]\n",
    "\n",
    "    # extrai as primeireas 2 jogadas (para por no nome)\n",
    "    h= ''.join( list( map( lambda x: x.ljust( 4, '_'), lnlabel.split()[0:4])))\n",
    "    \n",
    "    # nome do arquivo\n",
    "    fname= h+Path( f).name\n",
    "\n",
    "    # fullpath\n",
    "    labpath= os.path.join( dest_labeldir, fname).replace( '.jpg', '.pgn')\n",
    "    imgpath= os.path.join( dest_imgdir, fname)\n",
    "\n",
    "    # salva aquivo de label\n",
    "#     print( 'label', labpath)\n",
    "    write_label( labpath, lnlabel)\n",
    "    # copia arquivo da imagem\n",
    "#     print( 'image', imgpath)\n",
    "    shutil.copyfile( f, imgpath)\n",
    "    \n",
    "#     print( lnlabel)\n",
    "#     showbig( cv2.imread( f))    \n",
    "#     input()\n",
    "#     clear_output()\n",
    "print( 'done')"
   ]
  },
  {
   "cell_type": "code",
   "execution_count": 31,
   "metadata": {},
   "outputs": [],
   "source": [
    "#orig_imgdir= 'C:/mestrado/datasets/handmade/imagens-originais/paired-part5-/images_with_header'\n",
    "orig_imgdir= 'C:/mestrado/datasets/handmade/imagens-originais/paired-part5-/images_with_header/_hold'\n",
    "dest_imgdir= 'C:/mestrado/datasets/handmade/imagens-originais/paired-part5-/images'\n",
    "files= glob( os.path.join( orig_imgdir, \"*.jpg\"))"
   ]
  },
  {
   "cell_type": "code",
   "execution_count": 32,
   "metadata": {},
   "outputs": [
    {
     "name": "stdout",
     "output_type": "stream",
     "text": [
      "10\n"
     ]
    }
   ],
   "source": [
    "#\n",
    "# final step - trim the images\n",
    "#\n",
    "def showsmall( img, name= 'noname'):\n",
    "    plt.figure(figsize = (4,6))    \n",
    "    plt.imshow( img)\n",
    "    plt.title( name)\n",
    "    plt.show()\n",
    "    \n",
    "    \n",
    "def crop_only( img, y, h, x, w):\n",
    "    crop_img= img[ y:y+h, x:x+w]\n",
    "    return crop_img\n",
    "\n",
    "\n",
    "# w= 335 \n",
    "w= 320 \n",
    "\n",
    "count= 1\n",
    "for f in files:\n",
    "    # trim\n",
    "#     clear_output()\n",
    "    if count%10== 0:\n",
    "        print( count)\n",
    "    count+= 1\n",
    "    \n",
    "#     clear_output()\n",
    "    img= cv2.imread( f)\n",
    "#     show( img)\n",
    "\n",
    "    img1= img[504:,:]\n",
    "    img2= np.concatenate((\n",
    "        img1[:, 3:(3+w)],\n",
    "        img1[:, 435:(435+w)],\n",
    "        img1[:, 772:(772+w)],\n",
    "        img1[:, 1200:(1200+w)]\n",
    "    ), axis= 1)\n",
    "#     showsmall( img1[:, 5:(5+w)])\n",
    "#     showsmall( img1[:, 435:(435+w)])\n",
    "#     showsmall( img1[:, 772:(772+w)])\n",
    "#     showsmall( img1[:, 1200:(1200+w)])\n",
    "    \n",
    "\n",
    "#     m= input()    \n",
    "    img3= cv2.resize(img2, (678, 900), interpolation = cv2.INTER_AREA)  \n",
    "    write_image( os.path.join( dest_imgdir, Path( f).name), img3)\n"
   ]
  },
  {
   "cell_type": "code",
   "execution_count": null,
   "metadata": {},
   "outputs": [],
   "source": [
    "print( 1)"
   ]
  },
  {
   "cell_type": "code",
   "execution_count": 30,
   "metadata": {},
   "outputs": [
    {
     "name": "stdout",
     "output_type": "stream",
     "text": [
      "prev C:/mestrado/datasets/handmade/imagens-originais/paired-part5-/images\\Nf3_Nf6_g3__g6__6708_4177_R_part5_scan0092.jpg\n",
      "----------------\n",
      "1 776 C:/mestrado/datasets/handmade/imagens-originais/paired-part5-/images\\Nf3_Nf6_Nc3_c5__6304_4612_L_part5_scan0310.jpg\n"
     ]
    },
    {
     "data": {
      "image/png": "[encoded data removed]",
      "text/plain": [
       "<Figure size 720x144 with 1 Axes>"
      ]
     },
     "metadata": {
      "needs_background": "light"
     },
     "output_type": "display_data"
    },
    {
     "name": "stdout",
     "output_type": "stream",
     "text": [
      "\n"
     ]
    }
   ],
   "source": [
    "#\n",
    "# Corrigir as imagens deslocadas\n",
    "#\n",
    "#\n",
    "# pass 3.2 limpar os que estao com a parte inferir cortado\n",
    "#\n",
    "def showbig( img, name= 'noname'):\n",
    "    plt.figure(figsize = (10,2))    \n",
    "    plt.imshow( img)\n",
    "    plt.title( name)\n",
    "    plt.show()\n",
    "    \n",
    "def showsmall( img, name= 'noname'):\n",
    "    plt.figure(figsize = (2,2))    \n",
    "    plt.imshow( img)\n",
    "    plt.title( name)\n",
    "    plt.show()\n",
    "    \n",
    "original_folder= 'C:/mestrado/datasets/handmade/imagens-originais/paired-part5-/images_with_header'\n",
    "images_folder= 'C:/mestrado/datasets/handmade/imagens-originais/paired-part5-/images'\n",
    "files= glob( os.path.join( images_folder, \"*.jpg\"))\n",
    "k= len( files)\n",
    "kk= 0\n",
    "m= None\n",
    "hold= None\n",
    "_f= None\n",
    "_lab= None\n",
    "for f in files:\n",
    "    clear_output()\n",
    "    print( 'prev', _f)\n",
    "    if hold:\n",
    "        print( \"MOVIDO PARA -HOLD =>\", Path(hold).name)\n",
    "        \n",
    "    img= cv2.imread( f)\n",
    "    print( '----------------')\n",
    "    print( k, kk, f)\n",
    "    k-= 1\n",
    "    kk+= 1\n",
    "\n",
    "    showbig( img[(img.shape[0]-200):img.shape[0],:])\n",
    "\n",
    "    m= input()\n",
    "    _f= f\n",
    "    hold= None\n",
    "    if m is None or len( m)<= 0:\n",
    "        pass\n",
    "    elif m=='x':\n",
    "        print( 'bye!')\n",
    "        break\n",
    "    else:\n",
    "        hold= f\n",
    "        print( \"move original para hold\")\n",
    "        shutil.move( \n",
    "            os.path.join( original_folder, Path(f).name), \n",
    "            os.path.join( original_folder, '_hold'))"
   ]
  },
  {
   "cell_type": "code",
   "execution_count": null,
   "metadata": {},
   "outputs": [],
   "source": [
    "#\n",
    "# Rever as imagens do torneio (deixar identificavel pelo nome) para poder juntar com o dataset manual\n",
    "# Remover todos com erro, ou ilegíveis. Deixar somente os perfeitamente legiveis, com 0 erro\n",
    "#\n"
   ]
  }
 ],
 "metadata": {
  "kernelspec": {
   "display_name": "Python 3",
   "language": "python",
   "name": "python3"
  },
  "language_info": {
   "codemirror_mode": {
    "name": "ipython",
    "version": 3
   },
   "file_extension": ".py",
   "mimetype": "text/x-python",
   "name": "python",
   "nbconvert_exporter": "python",
   "pygments_lexer": "ipython3",
   "version": "3.8.2"
  }
 },
 "nbformat": 4,
 "nbformat_minor": 4
}
