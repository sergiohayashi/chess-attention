{
 "cells": [
  {
   "cell_type": "code",
   "execution_count": null,
   "metadata": {},
   "outputs": [],
   "source": [
    "#http://chessstream.com/ImageToPGNEditor.aspx?ScoresheetImageID=1"
   ]
  },
  {
   "cell_type": "code",
   "execution_count": 1,
   "metadata": {},
   "outputs": [],
   "source": [
    "import requests"
   ]
  },
  {
   "cell_type": "code",
   "execution_count": 2,
   "metadata": {},
   "outputs": [],
   "source": [
    "url= \"http://chessstream.com/ImageToPGNEditor.aspx?ScoresheetImageID=1\""
   ]
  },
  {
   "cell_type": "code",
   "execution_count": 3,
   "metadata": {},
   "outputs": [],
   "source": [
    "r= requests.get( url)"
   ]
  },
  {
   "cell_type": "code",
   "execution_count": 4,
   "metadata": {},
   "outputs": [
    {
     "data": {
      "text/plain": [
       "'\\r\\n\\r\\n<!DOCTYPE html PUBLIC \"-//W3C//DTD XHTML 1.0 Strict//EN\" \"http://www.w3.org/TR/xhtml1/DTD/xhtml1-strict.dtd\">\\r\\n<html xmlns=\"http://www.w3.org/1999/xhtml\" xml:lang=\"en\">\\r\\n<head><title>\\r\\n\\r\\n</title><link href=\"styles/Site.css\" rel=\"stylesheet\" type=\"text/css\" /><link href=\"styles/jquery-ui-1.8.custom.css\" rel=\"Stylesheet\" type=\"text/css\" />\\r\\n    <script src=\"/scripts/jquery-1.8.3.js?v=20130110041843\" type=\"text/javascript\"></script>\\r\\n    <script src=\"/scripts/ssch.js?v=20170910112019\" type=\"text/javascript\"></script>\\r\\n    <script src=\"/scripts/jquery-ui-1.8.custom.min.js?v=20130110041855\" type=\"text/javascript\"></script>\\r\\n    <script src=\"/scripts/jquery.tablesorter.mod.js?v=20130110041858\" type=\"text/javascript\"></script>\\r\\n    <script src=\"/scripts/json2.js?v=20130603173633\" type=\"text/javascript\"></script>\\r\\n    <script src=\"/scripts/xboard.js?v=20171026012157\" type=\"text/javascript\"></script>\\r\\n    <script type=\"text/javascript\">\\r\\n\\r\\n    </script>\\r\\n    \\r\\n    \\r\\n    <script src=\"/scripts/pgnyui.js?v=20130828042317\" type=\"text/javascript\"></script>\\r\\n    <script src=\"/scripts/pgnviewer.js?v=20161226200744\" type=\"text/javascript\"></script>\\r\\n    <link type=\"text/css\" rel=\"stylesheet\" href=\"/styles/board-min.css\" />\\r\\n\\r\\n    <style type=\"text/css\">\\r\\n    \\r\\n    .notationwrap\\r\\n    {   \\r\\n        /*background-color:Blue;*/\\r\\n        float:left;\\r\\n        width:350px;\\r\\n        height:461px;\\r\\n        overflow:scroll;\\r\\n        overflow-x:hidden;\\r\\n        padding-top:5px;\\r\\n    }\\r\\n    \\r\\n    .notationlist\\r\\n    {\\r\\n        /*background-color:Red;*/\\r\\n        float:left;\\r\\n        width:320px; \\r\\n        padding-top:5px;\\r\\n        padding-left:5px;\\r\\n        padding-right:5px;\\r\\n        padding-bottom:10px;      \\r\\n    }\\r\\n    \\r\\n    .ncell\\r\\n    {\\r\\n        /* background-color:Blue; */\\r\\n        float:left;\\r\\n        width:40px;\\r\\n        padding:3px;        \\r\\n        height:30px;\\r\\n        font-weight:bold;\\r\\n        font-size:20px;        \\r\\n    }\\r\\n    \\r\\n    .ccell\\r\\n    {\\r\\n        float:left;\\r\\n        width:110px;\\r\\n        height:30px;\\r\\n        font-weight:bold;\\r\\n        font-size:20px;\\r\\n        padding:4px;\\r\\n        margin:0px;\\r\\n        overflow:hidden;\\r\\n        border:1px solid transparent;    \\r\\n    } \\r\\n    \\r\\n    .selectedcell\\r\\n    {\\r\\n        background-color:#ffffff;        \\r\\n        float:left;      \\r\\n        border:1px solid #ffffff;        \\r\\n    }   \\r\\n    \\r\\n    .lastcell\\r\\n    {\\r\\n        background-color:#ffffff;        \\r\\n        float:left;    \\r\\n        border:1px solid #ffffff;           \\r\\n    } \\r\\n            \\r\\n    </style>\\r\\n\\r\\n    <script type=\"text/javascript\">\\r\\n\\r\\n        var WebServices_SubmitGameFromPublicURL = \"/webservices/Utilities.asmx/SubmitGameFromPublic\";\\r\\n        var WebServices_ReleaseThisImageURL = \"/webservices/Utilities.asmx/ReleaseThisImage\";\\r\\n        var WebServices_HoldThisImageURL = \"/webservices/Utilities.asmx/HoldThisImage\";\\r\\n        var WebServices_ParseForPGNFileURL = \"/webservices/Utilities.asmx/ParseForPGNFile\";\\r\\n\\r\\n        var PGN_LF = \"#PGN_LF#\"; \\r\\n        var board1;\\r\\n        var mainHTML = \\'boardNumeric1HolderDiv\\';          // div in the main page\\r\\n        var board1HolderDiv = \\'board1HolderDiv\\';\\r\\n        var notation1HolderDiv = \\'notation1HolderDiv\\';\\r\\n        var pgn1HolderDiv = \\'pgn1HolderDiv\\';\\r\\n        var gameinfo1Div = \\'gameinfo1Div\\';\\r\\n        var colorMarker1Div = \\'colorMarker1Div\\';\\r\\n        var communicationFlag1Div = \\'communicationFlag1Div\\';\\r\\n        var IsIamHoldingIt = \"\";\\r\\n\\r\\n        var listOfAlpha = \\'abcdefgh\\';\\r\\n        var listOfNumeric = \\'12345678\\';\\r\\n\\r\\n        function ShowBoardEditor() {\\r\\n\\r\\n            var html = \\'\\';\\r\\n\\r\\n            html += \\'<table border=0 cellpadding=0 cellspacing=0><tr>\\';\\r\\n\\r\\n            html += \\'<td valign=top align=left style=\"padding:10px;\">\\';\\r\\n\\r\\n            html += \\'<div id=\"\\' + board1HolderDiv + \\'\"></div>\\';\\r\\n\\r\\n            html += \\'<div style=\"float:left; width:490px;\">\\';\\r\\n\\r\\n            html += \\'<div style=\"float:left; width:490px; padding-bottom:10px;\">\\';\\r\\n\\r\\n            html += \\'<input type=\"button\" style=\"width:75px;  height:75px; font-size:30px; \"  value=\"||<\" title=\"Go To First Move\" onclick=\"BackTrackToFirst();\" />&nbsp;\\';\\r\\n            html += \\'<input type=\"button\" style=\"width:160px; height:75px; font-size:30px;\"  value=\"<\" title=\"Go Back\"  onclick=\"BackTrack();\" />&nbsp;\\';\\r\\n            html += \\'<input type=\"button\" style=\"width:160px; height:75px; font-size:30px;\"  value=\">\" title=\"Forward\" onclick=\"ForwardTrack();\" />&nbsp;\\';\\r\\n            html += \\'<input type=\"button\" style=\"width:75px;  height:75px; font-size:30px;\"  value=\">||\" title=\"Go To Last Move\" onclick=\"ForwardTrackToLast();\" />\\';\\r\\n\\r\\n            html += \\'</div>\\';\\r\\n\\r\\n            html += \\'<h1 style=\"font-size:30px; padding-bottom:15px;\">ChessStream.com</h1>\\';\\r\\n\\r\\n            html += \\'<div style=\"float:left; width:490px; padding-bottom:10px;\">\\';\\r\\n\\r\\n            html += \\'<input type=\"button\" style=\"width:121px; height:75px; font-size:20px;\" value=\"Flip Board\" title=\"Flip the Board\"  onclick=\"FlipBoard();\" />\\';\\r\\n            html += \\'<input type=\"button\" style=\"width:120px; height:75px; font-size:20px;\" value=\"White Won\" title=\"Mark the game as White Won\"  onclick=\"WhiteWon();\" />\\';\\r\\n            html += \\'<input type=\"button\" style=\"width:120px; height:75px; font-size:20px;\" value=\"Draw\" title=\"Mark the game as a Draw\"  onclick=\"GameDrew();\" />\\';\\r\\n            html += \\'<input type=\"button\" style=\"width:121px; height:75px; font-size:20px;\" value=\"Black Won\" title=\"Mark the game as Black Won\"  onclick=\"BlackWon();\" />\\';\\r\\n\\r\\n            html += \\'</div>\\';\\r\\n\\r\\n            html += \\'<div style=\"width:480px; overflow:hidden; float:left; height:100px;\" id=\"\\' + gameinfo1Div + \\'\">\\';\\r\\n\\r\\n            html += \\'</div>\\';\\r\\n\\r\\n            html += \\'</div>\\';\\r\\n\\r\\n            html += \\'<div style=\"float:left; width:350px;\">\\';\\r\\n\\r\\n            html += \\'<table border=0 cellpadding=0 style=\"width:312px; padding:0px; margin:0px;\" cellspacing=0><tr>\\';\\r\\n\\r\\n            html += \\'<td valign=top align=left><div id=\"\\' + notation1HolderDiv + \\'\"></div></td>\\';\\r\\n\\r\\n            html += \\'</tr></table>\\';\\r\\n\\r\\n            html += \\'</div>\\';\\r\\n\\r\\n            html += \\'<div style=\"float:left; width:85px;\">\\';\\r\\n            html += \\'<div id=\"\\' + colorMarker1Div + \\'\" style=\"padding-left:35px; padding-top:2px;\"></div>\\';\\r\\n            html += \\'<div style=\"padding-left:3px;\"></div>\\';\\r\\n            html += \\'</div>\\';\\r\\n            html += \\'<div style=\"float:left; width:120px;\">\\';\\r\\n            html += \\'<div id=\"\\' + communicationFlag1Div + \\'\" style=\"padding-left:5px; text-align:center; padding-top:10px;\"></div>\\';\\r\\n            html += \\'</div>\\';\\r\\n\\r\\n\\r\\n            html += \\'</td>\\';\\r\\n\\r\\n            html += \\'</tr>\\';\\r\\n\\r\\n            html += \\'</table>\\';\\r\\n\\r\\n            $(\\'#\\' + mainHTML).html(html);\\r\\n        }\\r\\n\\r\\n        function CheckMoves(pgn) {\\r\\n            var check = TryParsePGN(pgn);\\r\\n            if (check.parsedOk) {\\r\\n                $(\\'#IllegalMovesMessage\\').html(\\'\\');\\r\\n            } else {\\r\\n                $(\\'#IllegalMovesMessage\\').html(\\'There is one or more illegal move(s). Please fix before you submit the game.\\');\\r\\n            }\\r\\n        }\\r\\n\\r\\n        function OnMessageClick() {\\r\\n            board1.boardDimOut();\\r\\n            setCookie(\\'MSGNotClickDrag\\', \\'gotit\\', 100);\\r\\n        }\\r\\n\\r\\n        function RestartTheBoard() {\\r\\n            board1.setScreen(3);\\r\\n            board1.setIsFullSensor(true);\\r\\n            board1.setNotationColor(1); // taking notation on, white\\'s turn\\r\\n            board1.resetMemory();\\r\\n            board1.initView();\\r\\n            board1.initBoard();\\r\\n            board1.resetNotation();\\r\\n            board1.notationViewRefreshMoves();\\r\\n            board1.setServerSync(CheckMoves);\\r\\n            if (getCookie(\\'MSGNotClickDrag\\').length == 0) {\\r\\n                board1.boardNotClickDrag(\\'OnMessageClick()\\');\\r\\n            }\\r\\n        }\\r\\n\\r\\n        function flipThisBoard() {\\r\\n            board1.vflip();\\r\\n            showAlphaNumericCoordinate();\\r\\n        }\\r\\n\\r\\n        function TryParsePGN(pgn) {\\r\\n            dummyBoard = new PgnViewer(\\r\\n                    {\\r\\n                        boardName: \\'dummy\\',\\r\\n                        pgnString: \\'[]\\',\\r\\n                        pieceSize: 32,\\r\\n                        showCoordinates: true,\\r\\n                        disableFlipper: true,\\r\\n                        hidePGNErrors: true\\r\\n                    });\\r\\n\\r\\n            return dummyBoard.setupFromPgn(\\'[]\\' + pgn);\\r\\n        }\\r\\n\\r\\n        function showAlphaNumericCoordinate() {\\r\\n            var isWhite = !board1.isFlip();\\r\\n            var strA = \\'<div style=\"width:20px; height:20px; padding:0px; margin:0px; border:0px; float:left;\"><img style=\"width:20px; height:20px; cursor:pointer;\" onclick=\"flipThisBoard(1);\" title=\"flip\" src=\"/images/chess/flip.gif\"></div>\\';\\r\\n            var strN = \\'\\';\\r\\n            for (var i = 0; i < 8; i++) {\\r\\n                strA += \\'<div style=\"width:58px; height:20px; padding:0px; margin:0px; border:0px; text-align:center; float:left;\"><b>\\' + (isWhite ? listOfAlpha.charAt(i) : listOfAlpha.charAt(7 - i)) + \\'</b></div>\\';\\r\\n                strN += \\'<div style=\"width:20px; height:49px; padding-left:0px; padding-right:0px; padding-bottom:0px; padding-top:10px; margin:0px; border:0px; text-align:center; float:left;\"><b>\\' + (isWhite ? listOfNumeric.charAt(7 - i) : listOfNumeric.charAt(i)) + \\'</b></div>\\';\\r\\n            }\\r\\n            $(\\'#boardAlpha1HolderDiv\\').html(strA);\\r\\n            $(\\'#boardNumeric1HolderDiv\\').html(strN);\\r\\n        }\\r\\n\\r\\n        function ImageToPGNEditorMain() {\\r\\n            //ShowBoardEditor();\\r\\n            board1 = new XSBoard(\\'board1HolderDiv\\', \\'notation1HolderDiv\\', \\'pgn1HolderDiv\\', \\'colorMarker1Div\\', \\'board1\\');\\r\\n            RestartTheBoard();\\r\\n            showAlphaNumericCoordinate();\\r\\n            if (IsIamHoldingIt.length > 0) {\\r\\n                $(\\'#HoldButton\\').attr(\\'disabled\\', \\'disabled\\');\\r\\n                $(\\'#ReleaseButton\\').removeAttr(\\'disabled\\');\\r\\n            } else {\\r\\n                $(\\'#ReleaseButton\\').attr(\\'disabled\\', \\'disabled\\');\\r\\n                $(\\'#HoldButton\\').removeAttr(\\'disabled\\');\\r\\n            }\\r\\n        }\\r\\n\\r\\n        function BackTrack() {\\r\\n            board1.backNotation();\\r\\n        }\\r\\n\\r\\n        function ForwardTrack() {\\r\\n            board1.forwardNotation();\\r\\n        }\\r\\n\\r\\n        function SubmitGame(pgnFromPaste) {\\r\\n\\r\\n            var ScoresheetGuid = \"8edee3ec-a984-42de-916b-d80c3333cf53\";\\r\\n            var white = $(\\'#WhitePlayer\\').val();\\r\\n            var black = $(\\'#BlackPlayer\\').val();\\r\\n            var rnd = $(\\'#RoundNumber\\').val();\\r\\n            var gameresult = $(\\'#GameResult\\').val();\\r\\n            var oname = $(\\'#OperatorName\\').val();\\r\\n            var oemail = $(\\'#OperatorEmail\\').val();\\r\\n            board1.setPGNWhitePlayer(white);\\r\\n            board1.setPGNBlackPlayer(black);\\r\\n            board1.setPGNGameResult(gameresult);\\r\\n            board1.setPGNGameRound(rnd);\\r\\n            //alert(board1.getPGN(\\' \\'));\\r\\n            //alert(oname);\\r\\n            //alert(oemail);\\r\\n            var isChecked = $(\\'#IsWantEmail\\').attr(\\'checked\\') ? true : false;\\r\\n            //alert(isChecked);\\r\\n            $(\\'#SubmitGameButton\\').attr(\\'disabled\\', \\'disabled\\');\\r\\n            $(\\'#SubmitGameAjax\\').css(\\'visibility\\', \\'visible\\');\\r\\n\\r\\n            var postdata = \\'\\';\\r\\n            postdata += WSAddParameter(\\'OperatorName\\', oname);\\r\\n            postdata += WSAddParameter(\\'OperatorEmail\\', oemail);\\r\\n            if (pgnFromPaste) {\\r\\n                postdata += WSAddParameter(\\'PGN\\', pgnFromPaste);\\r\\n            } else {\\r\\n                postdata += WSAddParameter(\\'PGN\\', board1.getPGN(PGN_LF));\\r\\n            }\\r\\n            postdata += WSAddParameter(\\'IsWantEmail\\', isChecked.toString());\\r\\n            postdata += WSAddParameter(\\'ScoresheetGuid\\', ScoresheetGuid);\\r\\n\\r\\n            $.ajax({\\r\\n                url: WebServices_SubmitGameFromPublicURL,\\r\\n                type: \\'POST\\',\\r\\n                data: postdata,\\r\\n                success: function (data) {\\r\\n                    var xmldata = WSGetJSONObjectFromReturn(data);\\r\\n                    if (xmldata.success) {\\r\\n                        $(\\'#SubmitGameButton\\').removeAttr(\\'disabled\\');\\r\\n                        $(\\'#ApplyThisPGNButton\\').removeAttr(\\'disabled\\');\\r\\n                        $(\\'#SubmitGameAjax\\').css(\\'visibility\\', \\'hidden\\');\\r\\n                        if (isChecked.toString() == \\'true\\') {\\r\\n                            alert(\\'Thank you! Please check your email to see if you have received the PGN before you close this window\\');\\r\\n                        } else {\\r\\n                            alert(\\'Thank you!\\');\\r\\n                        }\\r\\n                    }\\r\\n                }\\r\\n            });\\r\\n        }\\r\\n\\r\\n\\r\\n        function HoldThisOne(guid, IsForceOnPreviousHold) {\\r\\n            var postdata = \\'\\';\\r\\n            postdata += WSAddParameter(\\'ScoresheetGuid\\', guid);\\r\\n            postdata += WSAddParameter(\\'IsForceOnPreviousHold\\', IsForceOnPreviousHold ? \\'true\\' : \\'false\\');\\r\\n            $.ajax({\\r\\n                url: WebServices_HoldThisImageURL,\\r\\n                type: \\'POST\\',\\r\\n                data: postdata,\\r\\n                success: function (data) {\\r\\n                    var xmldata = WSGetJSONObjectFromReturn(data);\\r\\n                    if (xmldata.success) {\\r\\n                        //alert(\"Thank you for working on it! It is on hold for you\");\\r\\n                        $(\\'#HoldButton\\').attr(\\'disabled\\', \\'disabled\\');\\r\\n                        $(\\'#ReleaseButton\\').removeAttr(\\'disabled\\');\\r\\n                    } else if ((!xmldata.success) && (xmldata.IsAskingOperatorNeeded)) {\\r\\n                        var r = confirm(\"One or more person is holding on this image, and they may be still working on it. It does not mean that you cannot working on it. You still want to hold this image?\");\\r\\n                        if (r == true) {\\r\\n                            setTimeout(\"HoldThisOne(\\'\" + guid + \"\\', true)\");\\r\\n                        }\\r\\n                    }\\r\\n                }\\r\\n            });\\r\\n        }\\r\\n\\r\\n        function ReleaseThisOne(guid) {\\r\\n            var postdata = \\'\\';\\r\\n            postdata += WSAddParameter(\\'ScoresheetGuid\\', guid);\\r\\n\\r\\n            $.ajax({\\r\\n                url: WebServices_ReleaseThisImageURL,\\r\\n                type: \\'POST\\',\\r\\n                data: postdata,\\r\\n                success: function (data) {\\r\\n                    var xmldata = WSGetJSONObjectFromReturn(data);\\r\\n                    if (xmldata.success) {\\r\\n                        //alert(\"Thank you releasing it.\");\\r\\n                        $(\\'#ReleaseButton\\').attr(\\'disabled\\', \\'disabled\\');\\r\\n                        $(\\'#HoldButton\\').removeAttr(\\'disabled\\');\\r\\n                    }\\r\\n                }\\r\\n            });\\r\\n\\r\\n        }\\r\\n\\r\\n        function ApplyThisPGNToGame() {\\r\\n            var pgn = $(\\'#ApplyPGNText\\').val();\\r\\n            //            alert(pgn);\\r\\n            //            alert(board1.getPGN(PGN_LF));\\r\\n            var postdata = \\'\\';\\r\\n            postdata += WSAddParameter(\\'pgn\\', pgn);\\r\\n\\r\\n            $.ajax({\\r\\n                url: WebServices_ParseForPGNFileURL,\\r\\n                type: \\'POST\\',\\r\\n                data: postdata,\\r\\n                success: function (data) {\\r\\n                    $(\\'#ApplyThisPGNButton\\').attr(\\'disabled\\', \\'disabled\\');\\r\\n                    var xmldata = WSGetJSONObjectFromReturn(data);\\r\\n                    if (xmldata.success) {\\r\\n                        $(\\'#WhitePlayer\\').val(xmldata.White);\\r\\n                        $(\\'#BlackPlayer\\').val(xmldata.Black);\\r\\n                        $(\\'#RoundNumber\\').val(xmldata.CRound);\\r\\n                        $(\\'#GameResult\\').val(xmldata.Result);\\r\\n                        SubmitGame(pgn);\\r\\n                    } else {\\r\\n                        alert(xmldata.message);\\r\\n                    }\\r\\n                }\\r\\n            });\\r\\n        }\\r\\n\\r\\n        function EnlargeThisImage(img) {\\r\\n            $(img).css(\\'width\\', \\'auto\\'); // use current image width\\r\\n            $(\\'#ImageClickMessage\\').html(\\'\\');\\r\\n        }\\r\\n\\r\\n        $(document).ready(ImageToPGNEditorMain);\\r\\n\\r\\n    </script>\\r\\n\\r\\n</head>\\r\\n<body style=\"height:630px;\" >\\r\\n\\r\\n\\r\\n<table border=\"0\" width=\"100%\" cellpadding=\"0\" cellspacing=\"0\">\\r\\n<tr><td>\\r\\n            <div style=\"float:left; width:810px; background-colorx:Blue;\">\\r\\n            <div style=\"width:485px; height:486px; float:left;  background-colorx:yellow; \">\\r\\n            <div style=\"width:20px;  height:466px; float:left;  padding:0px; margin:0px; border:0px; \" id=\"boardNumeric1HolderDiv\"></div>\\r\\n\\r\\n            <div style=\"float:left;  padding:0px; margin:0px; border:0px; \">\\r\\n            <div style=\"width:315px; height:466px; float:left;  padding:0px; margin:0px; border:0px; \" id=\"board1HolderDiv\"></div>\\r\\n            <div style=\"width:0px; height:0px; float:left; z-index:10; position:absolute; padding:0px; margin:0px; border:0px; \" id=\"boardCover1HolderDiv\"></div>\\r\\n            </div>\\r\\n\\r\\n            <div style=\"width:18px;  height:466px; float:left;  padding:0px; margin:0px; border:0px; \" id=\"colorFlag1HolderDiv\"></div>\\r\\n            <div style=\"width:485px; height:20px;  float:left;  padding:0px; margin:0px; border:0px; \" id=\"boardAlpha1HolderDiv\"></div>\\r\\n            </div>\\r\\n\\r\\n            <div style=\"width:320px; height:461px; float:left; overflow:scroll; overflow-x:hidden;\"><div style=\"background-colorx:red;\" id=\"notation1HolderDiv\"></div></div>\\r\\n            <div style=\"width:5px; height:500px; float:left; background-colorx:green;\" id=\"gameInfo1HolderDiv\"></div>\\r\\n\\r\\n            \\r\\n            <input type=\"button\" style=\"width:240px; float:left; height:35px; font-size:12px;\"  value=\"< delete previous move\" title=\"Go Back\"  onclick=\"BackTrack();\" />\\r\\n            <input type=\"button\" style=\"width:240px; float:left; height:35px; font-size:12px;\"  value=\"> forward to next move\" title=\"Forward\" onclick=\"ForwardTrack();\" />\\r\\n\\r\\n\\r\\n            </div>\\r\\n            <div style=\"float:left;\">\\r\\n            <table border=\"0\" style=\"width:750px;\">\\r\\n            <tr><td colspan=\"6\">\\r\\n            <b>Please fill information to identify the game. No need to write full name, just first/last name, and round number, we will put the rest of information for you. Your name/email is optional if you want to get the PGN in your email.</b><br /><span id=\"IllegalMovesMessage\" class=\"error\"></span>\\r\\n            </td>\\r\\n            <td style=\"width:250px;\" valign=\"top\"  >\\r\\n            <b>Or if you already have PGN of this game, please paste here and click Apply.</b>\\r\\n            </td>\\r\\n            </tr>\\r\\n            <tr><td>White</td><td>:</td><td><input id=\"WhitePlayer\" type=\"text\" value=\"\" maxlength=\"100\" style=\"width:150px;\" /></td><td>Black</td><td>:</td><td><input id=\"BlackPlayer\" type=\"text\" value=\"\" maxlength=\"100\" style=\"width:150px;\" /></td>\\r\\n            <td rowspan=\"4\" align=\"right\">\\r\\n            <textarea rows=\"20\" cols=\"7\" id=\"ApplyPGNText\" style=\"width:245px; height:75px;\"></textarea><br />\\r\\n            <input type=\"button\" onclick=\"ApplyThisPGNToGame()\" id=\"ApplyThisPGNButton\" value=\"Apply PGN to this game and Submit\" />\\r\\n            </td>\\r\\n            </tr>\\r\\n            <tr><td>Round</td><td>:</td><td><input id=\"RoundNumber\" type=\"text\" value=\"0\" maxlength=\"2\" style=\"width:50px;\" /></td>\\r\\n            <td>Result</td><td>:</td><td>\\r\\n                <select id=\"GameResult\">\\r\\n                <option value=\"*\">-select one-</option>\\r\\n                <option value=\"1-0\">WHITE WON (1-0)</option>\\r\\n                <option value=\"0-1\">BLACK WON (0-1)</option>\\r\\n                <option value=\"1/2-1/2\">DRAW (1/2-1/2)</option>\\r\\n                </select>\\r\\n            </td>\\r\\n            </tr>\\r\\n\\r\\n            <tr><td>Your&nbsp;Name</td><td>:</td><td><input id=\"OperatorName\" value=\"\" type=\"text\" maxlength=\"100\" style=\"width:150px;\" /></td><td>Email</td><td>:</td><td><input id=\"OperatorEmail\" value=\"\" type=\"text\" maxlength=\"100\" style=\"width:150px;\" /></td></tr>\\r\\n            <tr><td colspan=\"6\">\\r\\n            \\r\\n            <table><tr><td><input type=\"button\" id=\"SubmitGameButton\" onclick=\"SubmitGame()\" value=\"Submit This Game\" /></td><td><img style=\"visibility:hidden;\" id=\"SubmitGameAjax\" src=\"/images/ajax.gif\" /></td><td>&nbsp;<input id=\"IsWantEmail\" type=\"checkbox\" />email me the PGN file</td></tr>\\r\\n            </table>\\r\\n            \\r\\n            </td></tr>\\r\\n            \\r\\n\\r\\n            </table>\\r\\n            </div>\\r\\n\\r\\n</td><td width=\"100%\" valign=\"top\">\\r\\n\\r\\n<br />\\r\\n<table><tr><td>\\r\\n<input id=\"HoldButton\" disabled=\"disabled\" onclick=\"HoldThisOne(\\'8edee3ec-a984-42de-916b-d80c3333cf53\\')\" type=\"button\" value=\"I want to work on it\" />&nbsp;<a rel=\"tooltip\" title=\"Press this if you want to work on it. It will mark that someone is working on it. If you do not finish it in 1 hour, system will automatically release it.\"><img alt=\"help\" border=\"0\" src=\"/images/question.png\" /></a> \\r\\n</td><td>\\r\\n&nbsp;<input id=\"ReleaseButton\" disabled=\"disabled\" onclick=\"ReleaseThisOne(\\'8edee3ec-a984-42de-916b-d80c3333cf53\\')\" type=\"button\" value=\"Nevermind. I realease it for someone else\" />&nbsp;<a rel=\"tooltip\" title=\"Nevermind. The handwritting is hard to read, or I do not have time to do this.\"><img alt=\"help\" border=\"0\" src=\"/images/question.png\" /></a>\\r\\n</td></tr></table>\\r\\n<br /><br />\\r\\n<span id=\"ImageClickMessage\">click image to enlarge</span><br />\\r\\n<img onclick=\"EnlargeThisImage(this);\" src=\"http://scoresheet.chessstream.com/8edee3ec-a984-42de-916b-d80c3333cf53.jpg\" style=\"width:300px; cursor:hand;\" />\\r\\n</td></tr></table>\\r\\n\\r\\n            \\r\\n<div style=\"display:none; id=\"pgn1HolderDiv\"></div>\\r\\n<div style=\"display:none;\" id=\"colorMarker1Div\"></div>\\r\\n\\r\\n<div style=\"display:none;\">\\r\\n<div style=\"float:left;\" id=\"dummy-container\"></div>\\r\\n<div id=\"dummy-moves\"></div>\\r\\n</div>\\r\\n\\r\\n\\r\\n\\r\\n    \\r\\n<!-- Start of StatCounter Code for Default Guide -->\\r\\n<script type=\"text/javascript\">\\r\\n    var environment = \\'Production\\';\\r\\n    var sc_project = 8697712;\\r\\n    var sc_invisible = 1;\\r\\n    var sc_security = \"797cf30b\";\\r\\n    var scJsHost = ((\"https:\" == document.location.protocol) ? \"https://secure.\" : \"http://www.\");\\r\\n    if (environment == \\'Production\\') {\\r\\n        document.write(\"<sc\" + \"ript type=\\'text/javascript\\' src=\\'\" + scJsHost + \"statcounter.com/counter/counter.js\\'></\" + \"script>\");\\r\\n    }\\r\\n</script>\\r\\n<noscript><div class=\"statcounter\"><a title=\"free hit\\r\\ncounters\" href=\"http://statcounter.com/free-hit-counter/\"\\r\\ntarget=\"_blank\"><img class=\"statcounter\"\\r\\nsrc=\"http://c.statcounter.com/8697712/0/797cf30b/1/\"\\r\\nalt=\"free hit counters\" /></a></div></noscript>\\r\\n<!-- End of StatCounter Code for Default Guide -->\\r\\n\\r\\n</body>\\r\\n</html>\\r\\n'"
      ]
     },
     "execution_count": 4,
     "metadata": {},
     "output_type": "execute_result"
    }
   ],
   "source": [
    "r.text"
   ]
  },
  {
   "cell_type": "code",
   "execution_count": 5,
   "metadata": {},
   "outputs": [],
   "source": [
    "import re"
   ]
  },
  {
   "cell_type": "code",
   "execution_count": 6,
   "metadata": {},
   "outputs": [],
   "source": [
    "pat= re.search( 'http://scoresheet.chessstream.com/(.*).jpg', r.text)"
   ]
  },
  {
   "cell_type": "code",
   "execution_count": 7,
   "metadata": {},
   "outputs": [
    {
     "data": {
      "text/plain": [
       "'8edee3ec-a984-42de-916b-d80c3333cf53'"
      ]
     },
     "execution_count": 7,
     "metadata": {},
     "output_type": "execute_result"
    }
   ],
   "source": [
    "pat.group(1)"
   ]
  },
  {
   "cell_type": "code",
   "execution_count": 8,
   "metadata": {},
   "outputs": [],
   "source": [
    "imgurl= 'http://scoresheet.chessstream.com/'+ pat.group(1)+'.jpg'"
   ]
  },
  {
   "cell_type": "code",
   "execution_count": 9,
   "metadata": {},
   "outputs": [
    {
     "data": {
      "text/plain": [
       "2269166"
      ]
     },
     "execution_count": 9,
     "metadata": {},
     "output_type": "execute_result"
    }
   ],
   "source": [
    "folder= \"./../datasets/score_sheet/chessstream/\"\n",
    "filename = imgurl.split('/')[-1]\n",
    "r = requests.get(imgurl, allow_redirects=True)\n",
    "open(folder+ filename, 'wb').write(r.content)"
   ]
  },
  {
   "cell_type": "code",
   "execution_count": 6,
   "metadata": {},
   "outputs": [],
   "source": [
    "def get_score( id):\n",
    "    url= \"http://chessstream.com/ImageToPGNEditor.aspx?ScoresheetImageID=\"+str( id)\n",
    "    r= requests.get( url)\n",
    "    pat= re.search( 'http://scoresheet.chessstream.com/(.*).jpg', r.text)\n",
    "    imgurl= 'http://scoresheet.chessstream.com/'+ pat.group(1)+'.jpg'\n",
    "    print( \"getting \"+ str(id)+\"=> \"+ imgurl+\"...\")\n",
    "    folder= \"./../datasets/score_sheet/chessstream/\"\n",
    "    filename = imgurl.split('/')[-1]\n",
    "    r = requests.get(imgurl, allow_redirects=True)\n",
    "    open(folder+ filename, 'wb').write(r.content)\n",
    "    \n",
    "    "
   ]
  },
  {
   "cell_type": "code",
   "execution_count": 7,
   "metadata": {},
   "outputs": [
    {
     "name": "stdout",
     "output_type": "stream",
     "text": [
      "getting 2=> http://scoresheet.chessstream.com/d605dfe4-80c2-4336-aeaf-536f60c0a07b.jpg...\n"
     ]
    }
   ],
   "source": [
    "get_score( 2)"
   ]
  },
  {
   "cell_type": "code",
   "execution_count": 10,
   "metadata": {
    "scrolled": false
   },
   "outputs": [
    {
     "name": "stdout",
     "output_type": "stream",
     "text": [
      "getting 2749=> http://scoresheet.chessstream.com/00000000-0000-0000-0000-000000000000.jpg...\n",
      "getting 2750=> http://scoresheet.chessstream.com/00000000-0000-0000-0000-000000000000.jpg...\n",
      "getting 2751=> http://scoresheet.chessstream.com/00000000-0000-0000-0000-000000000000.jpg...\n",
      "getting 2752=> http://scoresheet.chessstream.com/00000000-0000-0000-0000-000000000000.jpg...\n",
      "getting 2753=> http://scoresheet.chessstream.com/00000000-0000-0000-0000-000000000000.jpg...\n",
      "Oops, error in 2754\n",
      "getting 2755=> http://scoresheet.chessstream.com/00000000-0000-0000-0000-000000000000.jpg...\n",
      "getting 2756=> http://scoresheet.chessstream.com/00000000-0000-0000-0000-000000000000.jpg...\n",
      "getting 2757=> http://scoresheet.chessstream.com/00000000-0000-0000-0000-000000000000.jpg...\n",
      "getting 2758=> http://scoresheet.chessstream.com/00000000-0000-0000-0000-000000000000.jpg...\n",
      "getting 2759=> http://scoresheet.chessstream.com/00000000-0000-0000-0000-000000000000.jpg...\n",
      "getting 2760=> http://scoresheet.chessstream.com/00000000-0000-0000-0000-000000000000.jpg...\n",
      "getting 2761=> http://scoresheet.chessstream.com/00000000-0000-0000-0000-000000000000.jpg...\n",
      "getting 2762=> http://scoresheet.chessstream.com/00000000-0000-0000-0000-000000000000.jpg...\n",
      "getting 2763=> http://scoresheet.chessstream.com/00000000-0000-0000-0000-000000000000.jpg...\n",
      "getting 2764=> http://scoresheet.chessstream.com/00000000-0000-0000-0000-000000000000.jpg...\n",
      "getting 2765=> http://scoresheet.chessstream.com/00000000-0000-0000-0000-000000000000.jpg...\n",
      "getting 2766=> http://scoresheet.chessstream.com/00000000-0000-0000-0000-000000000000.jpg...\n",
      "getting 2767=> http://scoresheet.chessstream.com/00000000-0000-0000-0000-000000000000.jpg...\n",
      "getting 2768=> http://scoresheet.chessstream.com/00000000-0000-0000-0000-000000000000.jpg...\n",
      "getting 2769=> http://scoresheet.chessstream.com/00000000-0000-0000-0000-000000000000.jpg...\n",
      "getting 2770=> http://scoresheet.chessstream.com/00000000-0000-0000-0000-000000000000.jpg...\n",
      "getting 2771=> http://scoresheet.chessstream.com/00000000-0000-0000-0000-000000000000.jpg...\n",
      "getting 2772=> http://scoresheet.chessstream.com/00000000-0000-0000-0000-000000000000.jpg...\n",
      "getting 2773=> http://scoresheet.chessstream.com/00000000-0000-0000-0000-000000000000.jpg...\n",
      "getting 2774=> http://scoresheet.chessstream.com/00000000-0000-0000-0000-000000000000.jpg...\n",
      "getting 2775=> http://scoresheet.chessstream.com/00000000-0000-0000-0000-000000000000.jpg...\n",
      "getting 2776=> http://scoresheet.chessstream.com/00000000-0000-0000-0000-000000000000.jpg...\n",
      "getting 2777=> http://scoresheet.chessstream.com/00000000-0000-0000-0000-000000000000.jpg...\n",
      "getting 2778=> http://scoresheet.chessstream.com/00000000-0000-0000-0000-000000000000.jpg...\n",
      "getting 2779=> http://scoresheet.chessstream.com/00000000-0000-0000-0000-000000000000.jpg...\n",
      "getting 2780=> http://scoresheet.chessstream.com/00000000-0000-0000-0000-000000000000.jpg...\n",
      "getting 2781=> http://scoresheet.chessstream.com/00000000-0000-0000-0000-000000000000.jpg...\n",
      "getting 2782=> http://scoresheet.chessstream.com/00000000-0000-0000-0000-000000000000.jpg...\n",
      "getting 2783=> http://scoresheet.chessstream.com/00000000-0000-0000-0000-000000000000.jpg...\n",
      "getting 2784=> http://scoresheet.chessstream.com/00000000-0000-0000-0000-000000000000.jpg...\n",
      "getting 2785=> http://scoresheet.chessstream.com/00000000-0000-0000-0000-000000000000.jpg...\n",
      "getting 2786=> http://scoresheet.chessstream.com/00000000-0000-0000-0000-000000000000.jpg...\n",
      "getting 2787=> http://scoresheet.chessstream.com/00000000-0000-0000-0000-000000000000.jpg...\n",
      "getting 2788=> http://scoresheet.chessstream.com/00000000-0000-0000-0000-000000000000.jpg...\n",
      "getting 2789=> http://scoresheet.chessstream.com/00000000-0000-0000-0000-000000000000.jpg...\n",
      "getting 2790=> http://scoresheet.chessstream.com/00000000-0000-0000-0000-000000000000.jpg...\n",
      "getting 2791=> http://scoresheet.chessstream.com/00000000-0000-0000-0000-000000000000.jpg...\n",
      "getting 2792=> http://scoresheet.chessstream.com/00000000-0000-0000-0000-000000000000.jpg...\n",
      "getting 2793=> http://scoresheet.chessstream.com/00000000-0000-0000-0000-000000000000.jpg...\n",
      "getting 2794=> http://scoresheet.chessstream.com/00000000-0000-0000-0000-000000000000.jpg...\n",
      "getting 2795=> http://scoresheet.chessstream.com/00000000-0000-0000-0000-000000000000.jpg...\n",
      "getting 2796=> http://scoresheet.chessstream.com/00000000-0000-0000-0000-000000000000.jpg...\n",
      "getting 2797=> http://scoresheet.chessstream.com/00000000-0000-0000-0000-000000000000.jpg...\n",
      "getting 2798=> http://scoresheet.chessstream.com/00000000-0000-0000-0000-000000000000.jpg...\n",
      "getting 2799=> http://scoresheet.chessstream.com/00000000-0000-0000-0000-000000000000.jpg...\n"
     ]
    }
   ],
   "source": [
    "#1 - 2747\n",
    "for id in range( 2749, 2800):\n",
    "    try:\n",
    "        get_score( id)\n",
    "    except:\n",
    "        print( \"Oops, error in \"+ str( id))\n",
    "        pass"
   ]
  }
 ],
 "metadata": {
  "kernelspec": {
   "display_name": "Python 3",
   "language": "python",
   "name": "python3"
  },
  "language_info": {
   "codemirror_mode": {
    "name": "ipython",
    "version": 3
   },
   "file_extension": ".py",
   "mimetype": "text/x-python",
   "name": "python",
   "nbconvert_exporter": "python",
   "pygments_lexer": "ipython3",
   "version": "3.8.2"
  }
 },
 "nbformat": 4,
 "nbformat_minor": 4
}
