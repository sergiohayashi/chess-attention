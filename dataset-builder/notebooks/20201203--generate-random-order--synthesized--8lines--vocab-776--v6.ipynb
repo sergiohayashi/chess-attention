{
 "cells": [
  {
   "cell_type": "code",
   "execution_count": 1,
   "metadata": {},
   "outputs": [],
   "source": [
    "#\n",
    "# Revisar manualmente as imagens em C:\\mestrado\\datasets\\samples_font  ok\n",
    "#\n",
    "#\n",
    "# Pegar todas as imagens em final-32K-8lines do tipo sync_**.jpg e sobrescrever\n",
    "# usando como texto a sequencia no id correspondente em portugues.\n",
    "#\n",
    "# Para os fontes carregar a lista de fontes cujas imagens existem em samples_font\n",
    "# buscando as fontes em C:/fonts, mais as fontes do windows usado anteriormente\n",
    "# Usar as fontes aleatoriamente...\n",
    "#\n"
   ]
  },
  {
   "cell_type": "code",
   "execution_count": 2,
   "metadata": {},
   "outputs": [
    {
     "name": "stdout",
     "output_type": "stream",
     "text": [
      "11\n"
     ]
    }
   ],
   "source": [
    "print( 11)"
   ]
  },
  {
   "cell_type": "code",
   "execution_count": 2,
   "metadata": {},
   "outputs": [],
   "source": [
    "# import tensorflow as tf\n",
    "# device_name = tf.test.gpu_device_name()\n",
    "# if device_name != '/device:GPU:0':\n",
    "#   raise SystemError('GPU device not found')\n",
    "# print('Found GPU at: {}'.format(device_name))\n",
    "\n",
    "# You'll generate plots of attention in order to see which parts of an image\n",
    "# our model focuses on during captioning\n",
    "import matplotlib.pyplot as plt\n",
    "\n",
    "# Scikit-learn includes many helpful utilities\n",
    "from sklearn.model_selection import train_test_split\n",
    "from sklearn.utils import shuffle\n",
    "\n",
    "import re\n",
    "import numpy as np  \n",
    "import os\n",
    "import time\n",
    "import json\n",
    "import random\n",
    "import pickle\n",
    "import cv2\n",
    "import os.path\n",
    "from os import path\n",
    "import shutil\n",
    "from glob import glob\n",
    "from shutil import copyfile\n",
    "from pathlib import Path\n",
    "from matplotlib import pyplot as plt\n",
    "from IPython.display import clear_output, display\n",
    "from collections import Counter\n",
    "import builtins\n",
    "\n",
    "from sklearn.utils import shuffle\n",
    "\n",
    "#\n",
    "# gera imagem com jogadas escritas com fonte manuscrito\n",
    "#\n",
    "# -*- coding: utf-8 -*-\n",
    "import PIL\n",
    "from PIL import ImageFont\n",
    "from PIL import Image, ImageDraw\n",
    "from PIL import ImageColor\n",
    "\n",
    "from scipy.ndimage.interpolation import map_coordinates\n",
    "from scipy.ndimage.filters import gaussian_filter\n",
    "\n",
    "# print(tf.__version__) "
   ]
  },
  {
   "cell_type": "code",
   "execution_count": 3,
   "metadata": {},
   "outputs": [],
   "source": [
    "def read_label( path):\n",
    "  f= open( path)\n",
    "  d= f.read()\n",
    "  f.close()\n",
    "  return d \n",
    "\n",
    "def write_label( path, text):\n",
    "  f= open( path, \"w\")\n",
    "  f.write( text)\n",
    "  f.close()\n",
    "\n",
    "def show( img, name= 'noname'):\n",
    "  plt.imshow( img)\n",
    "  plt.title( name)\n",
    "  plt.show()\n",
    "\n",
    "def show_gimage( img, name= 'noname'):\n",
    "  plt.imshow( img, cmap= 'gray')\n",
    "  plt.title( name)\n",
    "  plt.show()\n",
    "\n",
    "def _load_image( path):\n",
    "  # return cv2.imread( path, cv2.IMREAD_GRAYSCALE)\n",
    "  return cv2.imread( path)\n",
    "  \n",
    "def write_image( path, img):\n",
    "  cv2.imwrite( path, img)\n",
    "\n",
    "def resize( img, scale_percent= 60, verbose=False):\n",
    "  #scale_percent = 60 # percent of original size\n",
    "  width = int(img.shape[1] * scale_percent / 100)\n",
    "  height = int(img.shape[0] * scale_percent / 100)\n",
    "  dim = (width, height)\n",
    "  if verbose:\n",
    "    print( \"scale\", scale_percent)\n",
    "    print( \"dim\", dim)\n",
    "  # resize image\n",
    "  return cv2.resize(img, dim, interpolation = cv2.INTER_AREA) "
   ]
  },
  {
   "cell_type": "code",
   "execution_count": 15,
   "metadata": {},
   "outputs": [],
   "source": [
    "\n",
    "# https://gist.github.com/erniejunior/601cdf56d2b424757de5\n",
    "def elastic_transform_2(image, alpha, sigma,random_state=None):\n",
    "#     print( alpha, sigma)\n",
    "    \"\"\"Elastic deformation of images as described in [Simard2003]_.\n",
    "    .. [Simard2003] Simard, Steinkraus and Platt, \"Best Practices for\n",
    "       Convolutional Neural Networks applied to Visual Document Analysis\", in\n",
    "       Proc. of the International Conference on Document Analysis and\n",
    "       Recognition, 2003.\n",
    "    \"\"\"\n",
    "    if random_state is None:\n",
    "        random_state = np.random.RandomState(None)\n",
    "\n",
    "    shape = image.shape\n",
    "    dx = gaussian_filter((random_state.rand(*shape) * 2 - 1), sigma, mode=\"constant\", cval=0) * alpha\n",
    "    dy = gaussian_filter((random_state.rand(*shape) * 2 - 1), sigma, mode=\"constant\", cval=0) * alpha\n",
    "    dz = np.zeros_like(dx)\n",
    "\n",
    "#     x, y, z = np.meshgrid(np.arange(shape[0]), np.arange(shape[1]), np.arange(shape[2]))\n",
    "    x, y, z = np.meshgrid(np.arange(shape[1]), np.arange(shape[0]), np.arange(shape[2]))\n",
    "#     print (x.shape)\n",
    "    indices = np.reshape(y+dy, (-1, 1)), np.reshape(x+dx, (-1, 1)), np.reshape(z, (-1, 1))\n",
    "\n",
    "    distored_image = map_coordinates(image, indices, order=1, mode='reflect')\n",
    "    return distored_image.reshape(image.shape)"
   ]
  },
  {
   "cell_type": "code",
   "execution_count": 16,
   "metadata": {},
   "outputs": [],
   "source": [
    "def transform( img):\n",
    "    # ELASTIC_ALPHA_SIGMA = ((1201, 10), (1501, 12), (991, 8))\n",
    "    if type( img)== PIL.Image.Image:\n",
    "        img= np.asarray( img)\n",
    "        img= elastic_transform_2(img, 1201, 10)  #random.randint( 991, 1501), random.randint( 8, 12))\n",
    "        img= PIL.Image.fromarray( img)\n",
    "        return img\n",
    "    else:\n",
    "        return elastic_transform_2(img, 1201, 10)  #random.randint( 991, 1501), random.randint( 8, 12))\n",
    "    "
   ]
  },
  {
   "cell_type": "code",
   "execution_count": 10,
   "metadata": {},
   "outputs": [],
   "source": [
    "# pgnfile= \"C:/mestrado/datasets/handmade/imagens-originais/pgn_30k_pt.txt\"\n",
    "# with open(pgnfile) as f:\n",
    "#     lines = [line.rstrip() for line in f]\n",
    "    \n",
    "# lines= [re.sub(\"[\\[].*?[\\]]\", \"\", ln) for ln in lines]\n",
    "# lines= [ln[8:] for ln in lines]\n",
    "# lines= [ln.split()[0:32] for ln in lines]\n",
    "\n",
    "# pgnfile= \"C:/mestrado/datasets/handmade/imagens-originais/pgn_30k_eng.txt\"\n",
    "# with open(pgnfile) as f:\n",
    "#     en_lines = [line.rstrip() for line in f]\n",
    "    \n",
    "# en_lines= [re.sub(\"[\\[].*?[\\]]\", \"\", ln) for ln in en_lines]\n",
    "# en_lines= [ln[8:] for ln in en_lines]\n",
    "# en_lines= [ln.split()[0:32] for ln in en_lines]\n",
    "\n",
    "# pgnfile= \"C:/mestrado/datasets/jogos/pgn_30k_pt.txt\"\n",
    "# with open(pgnfile) as f:\n",
    "#     lines = [line.rstrip() for line in f]\n",
    "    \n",
    "# lines= [re.sub(\"[\\[].*?[\\]]\", \"\", ln) for ln in lines]\n",
    "# lines= [ln[8:] for ln in lines]\n",
    "# lines= [ln.split() for ln in lines]\n",
    "\n",
    "# en_pgnfile= \"C:/mestrado/datasets/jogos/pgn_30k_eng.txt\"\n",
    "# with open(en_pgnfile) as f:\n",
    "#     en_lines = [line.rstrip() for line in f]\n",
    "    \n",
    "# en_lines= [re.sub(\"[\\[].*?[\\]]\", \"\", ln) for ln in en_lines]\n",
    "# en_lines= [ln[8:] for ln in en_lines]\n",
    "# en_lines= [ln.split() for ln in en_lines]"
   ]
  },
  {
   "cell_type": "code",
   "execution_count": 25,
   "metadata": {},
   "outputs": [
    {
     "name": "stdout",
     "output_type": "stream",
     "text": [
      "['d4', 'f5', 'Cf3', 'g6', 'g3', 'Bg7', 'Bg2', 'Cf6', 'b4', 'c6', 'c4', 'd5', 'Db3', 'Be6', 'c5', 'Ce4', 'O-O', 'Cd7', 'Bf4', 'O-O', 'Cbd2', 'Bf7', 'De3', 'De8', 'Bh6', 'Cdf6', 'Ce5', 'Cxd2', 'Dxd2', 'Cd7', 'Bxg7', 'Rxg7', 'Df4', 'Be6', 'a4', 'Cxe5', 'Dxe5+', 'Tf6', 'f4', 'Rg8', 'Tfb1', 'Bc8', 'Dc7', 'Dd7', 'Dxd7', 'Bxd7', 'b5', 'Tff8', 'e3', 'e6', 'Bf1', 'Rf7', 'a5', 'Tfb8', 'Tb2', 'Re7', 'Tab1', 'Tc8', 'bxc6', 'bxc6', 'Ba6', 'Tc7', 'Tb8', 'Txb8', 'Txb8', 'Be8', 'Bb7', 'Bd7', 'a6', 'Be8', 'Ta8', 'Bd7', 'Rf2', 'Rf6', 'Th8', 'Rg7', 'Ta8', 'Rf6', 'Re2', 'h6', 'Rd2', 'g5', 'Rc3', 'gxf4', 'exf4'] ['d4', 'f5', 'Nf3', 'g6', 'g3', 'Bg7', 'Bg2', 'Nf6', 'b4', 'c6', 'c4', 'd5', 'Qb3', 'Be6', 'c5', 'Ne4', 'O-O', 'Nd7', 'Bf4', 'O-O', 'Nbd2', 'Bf7', 'Qe3', 'Qe8', 'Bh6', 'Ndf6', 'Ne5', 'Nxd2', 'Qxd2', 'Nd7', 'Bxg7', 'Kxg7', 'Qf4', 'Be6', 'a4', 'Nxe5', 'Qxe5+', 'Rf6', 'f4', 'Kg8', 'Rfb1', 'Bc8', 'Qc7', 'Qd7', 'Qxd7', 'Bxd7', 'b5', 'Rff8', 'e3', 'e6', 'Bf1', 'Kf7', 'a5', 'Rfb8', 'Rb2', 'Ke7', 'Rab1', 'Rc8', 'bxc6', 'bxc6', 'Ba6', 'Rc7', 'Rb8', 'Rxb8', 'Rxb8', 'Be8', 'Bb7', 'Bd7', 'a6', 'Be8', 'Ra8', 'Bd7', 'Kf2', 'Kf6', 'Rh8', 'Kg7', 'Ra8', 'Kf6', 'Ke2', 'h6', 'Kd2', 'g5', 'Kc3', 'gxf4', 'exf4']\n"
     ]
    }
   ],
   "source": [
    "# print( lines[0], en_lines[0])"
   ]
  },
  {
   "cell_type": "code",
   "execution_count": 26,
   "metadata": {},
   "outputs": [
    {
     "name": "stdout",
     "output_type": "stream",
     "text": [
      "30000 30000\n"
     ]
    }
   ],
   "source": [
    "# print( len( lines), len(en_lines))"
   ]
  },
  {
   "cell_type": "code",
   "execution_count": null,
   "metadata": {},
   "outputs": [],
   "source": [
    "#\n",
    "# le todos os fontes\n",
    "#"
   ]
  },
  {
   "cell_type": "code",
   "execution_count": 17,
   "metadata": {},
   "outputs": [],
   "source": [
    "new_fonts_files= glob( 'C:/mestrado/datasets/samples_font/*.ttf.jpg')"
   ]
  },
  {
   "cell_type": "code",
   "execution_count": 18,
   "metadata": {},
   "outputs": [
    {
     "name": "stdout",
     "output_type": "stream",
     "text": [
      "77\n"
     ]
    }
   ],
   "source": [
    "print( len( new_fonts_files))"
   ]
  },
  {
   "cell_type": "code",
   "execution_count": 19,
   "metadata": {},
   "outputs": [],
   "source": [
    "new_fonts_path= [\n",
    "    os.path.join( 'C:/mestrado/datasets/fonts', \n",
    "                 Path( f).name.replace( '.jpg', '')) for f in new_fonts_files]"
   ]
  },
  {
   "cell_type": "code",
   "execution_count": 20,
   "metadata": {},
   "outputs": [],
   "source": [
    "new_fonts= [ImageFont.truetype(f, 30) for f in new_fonts_path]"
   ]
  },
  {
   "cell_type": "code",
   "execution_count": 21,
   "metadata": {},
   "outputs": [],
   "source": [
    "fonts= [\n",
    "    ImageFont.truetype('c:/Windows/Fonts/BRADHITC.TTF', 30),\n",
    "    ImageFont.truetype('c:/Windows/Fonts/ITCKRIST.TTF', 30),\n",
    "    ImageFont.truetype('c:/Windows/Fonts/LHANDW.TTF', 30),\n",
    "    ImageFont.truetype('c:/Windows/Fonts/Inkfree.TTF', 30),\n",
    "    ImageFont.truetype('c:/Windows/Fonts/OCRAEXT.TTF', 30),\n",
    "    ImageFont.truetype('c:/Windows/Fonts/TEMPSITC.TTF', 30),\n",
    "    ImageFont.truetype('c:/Windows/Fonts/PAPYRUS.TTF', 30),\n",
    "    ImageFont.truetype('c:/Windows/Fonts/MAIAN.TTF', 30)\n",
    "] "
   ]
  },
  {
   "cell_type": "code",
   "execution_count": 22,
   "metadata": {},
   "outputs": [],
   "source": [
    "all_fonts= new_fonts + fonts"
   ]
  },
  {
   "cell_type": "code",
   "execution_count": 23,
   "metadata": {},
   "outputs": [
    {
     "name": "stdout",
     "output_type": "stream",
     "text": [
      "77 8 85\n"
     ]
    }
   ],
   "source": [
    "print( len( new_fonts), len( fonts), len( all_fonts))"
   ]
  },
  {
   "cell_type": "code",
   "execution_count": 24,
   "metadata": {},
   "outputs": [],
   "source": [
    "def showbig( img, name= 'noname'):\n",
    "    plt.figure(figsize = (10,10))    \n",
    "    plt.imshow( img)\n",
    "    plt.title( name)\n",
    "    plt.show()"
   ]
  },
  {
   "cell_type": "code",
   "execution_count": 47,
   "metadata": {},
   "outputs": [],
   "source": [
    "def sp_noise(npimage,prob):\n",
    "    '''\n",
    "    Add salt and pepper noise to image\n",
    "    prob: Probability of the noise\n",
    "    '''\n",
    "    output = np.zeros(npimage.shape,np.uint8)\n",
    "    thres = 1 - prob \n",
    "    for i in range(npimage.shape[0]):\n",
    "        for j in range(npimage.shape[1]):\n",
    "            rdn = random.random()\n",
    "            if rdn < prob:\n",
    "                output[i][j] = 0\n",
    "            elif rdn > thres:\n",
    "                output[i][j] = random.randint( 0, 128)\n",
    "            else:\n",
    "                output[i][j] = npimage[i][j]\n",
    "    return output\n",
    "\n",
    "def sp_noise_pil( pilimg, prob):\n",
    "#     print( 'noise', prob)\n",
    "    img= pilimg\n",
    "    img= np.asarray( img)\n",
    "    img= sp_noise(img, prob)\n",
    "    img= PIL.Image.fromarray( img)\n",
    "    return img\n",
    "\n",
    "def distorce( img):\n",
    "    # ELASTIC_ALPHA_SIGMA = ((1201, 10), (1501, 12), (991, 8))\n",
    "#     print( 'distorce')\n",
    "    if type( img)== PIL.Image.Image:\n",
    "        img= np.asarray( img)\n",
    "        img= elastic_transform_2(img, 991, 8)  #random.randint( 991, 1501), random.randint( 8, 12))\n",
    "        img= PIL.Image.fromarray( img)\n",
    "        return img\n",
    "    else:\n",
    "        return elastic_transform_2(img, 991, 8)  #random.randint( 991, 1501), random.randint( 8, 12))\n",
    "    \n",
    "\n",
    "# Rotate the foreground\n",
    "def rotate( pilimg):\n",
    "#     print( 'rotate')\n",
    "    foreground= pilimg\n",
    "    angle_degrees = random.uniform(-2.5,2.5)\n",
    "#     print( angle_degrees)\n",
    "    foreground = foreground.rotate(angle_degrees, resample=Image.BICUBIC, expand=True, fillcolor = (255,255,255))\n",
    "\n",
    "    # Scale the foreground\n",
    "#     scale = random.random() * .5 + .5 # Pick something between .5 and 1\n",
    "#     scale = 1\n",
    "#     new_size = (int(foreground.size[0] * scale), int(foreground.size[1] * scale))\n",
    "#     foreground = foreground.resize(new_size, resample=Image.BICUBIC)\n",
    "    return foreground\n",
    "#     show( foreground)\n",
    "    \n",
    "\n",
    "def random_transform( pilimg, p):\n",
    "    img= pilimg\n",
    "    if( random.random()< 0.8):\n",
    "        img= rotate( img)\n",
    "#     if( random.random()< 0.1):\n",
    "#         img= distorce( img)\n",
    "    if( random.random()< 0.25):\n",
    "        img= sp_noise_pil( img, random.uniform( 0.001, 0.0001))\n",
    "    \n",
    "    return img\n"
   ]
  },
  {
   "cell_type": "code",
   "execution_count": 26,
   "metadata": {},
   "outputs": [
    {
     "name": "stdout",
     "output_type": "stream",
     "text": [
      "3186\n",
      "len( count16) 462\n",
      "{'O-O': 2690, 'Nf3': 2630, 'Nf6': 2601, 'd4': 2562, 'e4': 2135, 'Nc3': 2081, 'd5': 1719, 'e6': 1567, 'Nc6': 1545, 'c5': 1510, 'd6': 1418, 'c4': 1411, 'e5': 1338, 'g6': 1037, 'Bg7': 990, 'Be7': 797, 'cxd4': 791, 'c6': 735, 'g3': 683, 'Bg2': 650, 'a6': 641, 'e3': 639, 'Nxd4': 565, 'Bd3': 554, 'c3': 512, 'Bg5': 496, 'Be2': 475, 'd3': 447, 'exd5': 435, 'Nbd7': 420, 'Be3': 391, 'Bc4': 371, 'cxd5': 354, 'b6': 309, 'b5': 300, 'Bg4': 291, 'f4': 281, 'h3': 279, 'Bb4': 269, 'h6': 258, 'a3': 249, 'Bb5': 249, 'Bb7': 243, 'Nbd2': 239, 'b3': 209, 'Qc7': 205, 'Bf4': 200, 'Bf5': 185, 'Bd7': 185, 'Nxe4': 182, 'Nd7': 179, 'Bd6': 177, 'Qd2': 174, 'Re1': 166, 'Qc2': 165, 'f5': 165, 'exd4': 164, 'Nxd5': 161, 'dxe5': 161, 'f3': 156, 'Bb3': 151, 'Bc5': 150, 'Nd2': 149, 'Nge2': 146, 'Bb2': 144, 'a4': 143, 'dxc4': 142, 'dxe4': 140, 'Ne7': 137, 'Qb6': 131, 'Be6': 126, 'Nge7': 120, 'Nd5': 115, 'Qe2': 109, 'dxc5': 109, 'Ne4': 106, 'Ne2': 106, 'Bd2': 106, 'bxc3': 105, 'Nb3': 104, 'Qa5': 100, 'Ba4': 97, 'Ne5': 90, 'a5': 90, 'Qxd5': 88, 'Nxe5': 85, 'Nfd7': 85, 'Nb6': 84, 'Bxf6': 84, 'Bh4': 83, 'b4': 82, 'bxc6': 82, 'Qb3': 80, 'Bxc3+': 79, 'Bxf3': 76, 'Bxc6': 76, 'Nxc3': 75, 'h5': 74, 'Qxd4': 73, 'Bxc4': 72, 'Na6': 72, 'Re8': 69, 'Qe7': 69, 'h4': 68, 'f6': 65, 'Nxc6': 63, 'Bb4+': 61, 'Ngf6': 60, 'g4': 59, 'Bb5+': 58, 'Ngf3': 55, 'Bg6': 52, 'dxc6': 51, 'Bxc5': 50, 'O-O-O': 49, 'Ng3': 48, 'Bxc3': 47, 'g5': 47, 'Rb1': 46, 'Nb5': 43, 'Bh5': 43, 'Nd4': 42, 'exd6': 42, 'Nh6': 40, 'exf6': 40, 'Ndb5': 38, 'Na3': 38, 'Ng5': 37, 'Nh5': 36, 'Rb8': 35, 'Rc1': 34, 'cxb5': 34, 'Nf5': 31, 'Qf3': 31, 'Na5': 31, 'Ng4': 30, 'Ba6': 29, 'Bb6': 29, 'Qd8': 29, 'fxe4': 28, 'Qd7': 28, 'Nh4': 26, 'gxf6': 26, 'Bg3': 26, 'Qf6': 25, 'dxc3': 24, 'Ng6': 24, 'Qd3': 24, 'Bxd7+': 24, 'Bxd3': 23, 'Bc2': 23, 'Qa5+': 22, 'Nxf6+': 22, 'Qxd8+': 22, 'Kxd8': 22, 'Bxe7': 22, 'Qg4': 22, 'Nbc6': 21, 'Qa4': 21, 'Ne8': 20, 'Qxf3': 20, 'Qxf6': 20, 'cxd6': 20, 'exf4': 20, 'Qxd7': 20, 'Bxe4': 19, 'Nc5': 19, 'Qxd6': 18, 'Bxc6+': 18, 'Nc7': 17, 'Qxe7': 17, 'Qd6': 16, 'Qd1': 16, 'Bxd6': 16, 'Qh4+': 15, 'fxe5': 15, 'Nce7': 14, 'Nh3': 14, 'Bxe5': 14, 'bxc4': 14, 'Bxd2+': 14, 'Nd6': 14, 'cxb4': 13, 'dxe6': 13, 'Qh5': 13, 'Qe8': 13, 'bxa6': 13, 'Bxa6': 13, 'Qe1': 13, 'Nb8': 12, 'Nb4': 12, 'Qxd2': 12, 'Ba5': 12, 'Qxc3': 12, 'Qd5': 12, 'Nxf6': 12, 'Ba7': 12, 'Qxd3': 11, 'Rc8': 11, 'Ndf3': 11, 'Bh7': 11, 'Nce2': 10, 'Qc8': 10, 'Bxe2': 10, 'Qa4+': 10, 'Ng8': 10, 'Bxb4': 10, 'Qxd1+': 10, 'fxe6': 10, 'Qd4': 10, 'Kh1': 10, 'axb4': 9, 'Rd1': 9, 'Rg8': 9, 'Nxc5': 9, 'Bh6': 9, 'Nd6+': 9, 'Nxb5': 9, 'exf3': 8, 'Qxc4': 8, 'Bxd4': 8, 'exf5': 8, 'Nxd2': 8, 'Bxf4': 8, 'Qc1': 8, 'Nxd7': 8, 'Qe2+': 8, 'Bxf7+': 8, 'Qh4': 7, 'Bf8': 7, 'Nf4': 7, 'Kf7': 7, 'Qxe4': 7, 'axb5': 7, 'Qxe4+': 7, 'Nxf3': 7, 'Nxg3': 7, 'fxe3': 7, 'Nbxd2': 7, 'Bxb5': 7, 'Qxc5': 7, 'N1c3': 7, 'Qg6': 7, 'Na4': 7, 'Qg3': 7, 'Ne1': 6, 'Bxd2': 6, 'Qh5+': 6, 'hxg6': 6, 'Nxc4': 6, 'Kxd1': 6, 'Nxd6': 6, 'N5c3': 6, 'Qxd8': 6, 'Rxd8': 6, 'Kxf7': 6, 'Kf8': 6, 'Bxd5': 6, 'Kh8': 5, 'Qf7': 5, 'Bxf1': 5, 'Nf8': 5, 'Nfd2': 5, 'Be4': 5, 'Nxg6': 5, 'Kb1': 5, 'cxb3': 5, 'Bxe3': 5, 'axb3': 5, 'Bxe6': 5, 'Ne3': 5, 'Nbc3': 5, 'Qxg7': 5, 'Nc2': 4, 'Ke7': 4, 'Re8+': 4, 'bxc5': 4, 'Qxc6': 4, 'Bc6': 4, 'dxe3': 4, 'Bc7': 4, 'Ne6': 4, 'Nxg5': 4, 'hxg5': 4, 'Nxa6': 4, 'Bf2': 4, 'Qxb2': 4, 'Qe6+': 4, 'Nf1': 4, 'Nd1': 4, 'Bf1': 4, 'Nc4': 4, 'Nxf3+': 4, 'Kxf2': 4, 'Bf6': 4, 'Qxg5': 4, 'gxf3': 4, 'Nh7': 4, 'Qf4': 4, 'Qe7+': 4, 'Qa6': 4, 'Qxe5': 3, 'Bxd7': 3, 'Qxe2': 3, 'Ra7': 3, 'Bxd8': 3, 'Na2': 3, 'Nxg4': 3, 'Be5': 3, 'Nxf5': 3, 'Ke8': 3, 'N1e2': 3, 'Qb1': 3, 'Bxb8': 3, 'Rxb8': 3, 'Nce4': 3, 'Bh2': 3, 'Qxb3': 3, 'Qe4': 3, 'gxf5': 3, 'Bxf5': 3, 'Kf1': 3, 'cxd3': 3, 'Qxg4': 3, 'Qb4+': 3, 'N1f3': 3, 'Nf7': 3, 'N6d7': 3, 'Bxh6': 3, 'Nb1': 3, 'Kf2': 3, 'fxg3': 3, 'hxg3': 3, 'Bxf2+': 3, 'Bxh3': 3, 'exd3': 3, 'Qf5': 2, 'Qxe5+': 2, 'axb6': 2, 'Ngxe7': 2, 'gxf4': 2, 'Ndf6': 2, 'Qxb6': 2, 'Kxf1': 2, 'Bc3': 2, 'Ba3': 2, 'Qa3': 2, 'Qxd2+': 2, 'Bxg7': 2, 'Qxh4': 2, 'Nxh4': 2, 'Qb8': 2, 'Nde2': 2, 'bxa3': 2, 'Nxa3': 2, 'Re1+': 2, 'Nxe3': 2, 'Ba2': 2, 'Bd4': 2, 'gxh5': 2, 'Nxd3+': 2, 'N2c3': 2, 'Qe3': 2, 'Qc4': 2, 'Qxe2+': 2, 'Kxe2': 2, 'Qd5+': 2, 'Nxb3': 2, 'Nd3': 2, 'Qxf7+': 2, 'Kd8': 2, 'Bxg8': 2, 'Bxh7+': 1, 'Ng2': 1, 'fxg2': 1, 'cxd7+': 1, 'Bxg2': 1, 'Nec3': 1, 'Qb5': 1, 'Bxc2': 1, 'cxb6': 1, 'O-O-O+': 1, 'Bg1': 1, 'Kxe7': 1, 'Qb4': 1, 'Qxb5': 1, 'Bxb5+': 1, 'Rxa6': 1, 'Bc8': 1, 'Ngxe5': 1, 'Ncxe5': 1, 'Nxf4': 1, 'Bd5': 1, 'Kh7': 1, 'Qxb4+': 1, 'Kxg7': 1, 'Qxa4': 1, 'Qa6+': 1, 'Kg1': 1, 'Nbxd7': 1, 'Nxc8+': 1, 'Rxc8': 1, 'Qc3': 1, 'Bxh5': 1, 'Ngxf3': 1, 'N5f3': 1, 'Ne5+': 1, 'Kg8': 1, 'Nfd5': 1, 'Nfxd7': 1, 'Rd8+': 1, 'Qxh6': 1, 'Bxd4+': 1, 'Qe4+': 1, 'Qxg3+': 1, 'Qxd1': 1, 'Rxd1': 1, 'Qe5+': 1, 'cxb2': 1, 'Bxb2': 1, 'Nxb4': 1, 'Qd4+': 1, 'Ke1': 1, 'Rxe5+': 1, 'Nxd8': 1, 'Nbxd4': 1, 'Qh6': 1, 'Bxg5': 1, 'fxg7': 1, 'Ned4': 1, 'Nxf2': 1, 'fxg6+': 1, 'Kg7': 1, 'gxh7': 1, 'Qg5+': 1, 'Kxg8': 1, 'Qb3+': 1, 'Bf7': 1, 'Ngxe2': 1, 'Nxg7': 1, 'Bg5+': 1, 'Nhf6': 1, 'Ngxe4': 1, 'Ndb4': 1, 'Rxa1': 1, 'Bxa1': 1, 'Qe8+': 1, 'fxg4': 1, 'N8e7': 1, 'Nd8': 1, 'Qg5': 1, 'Rg1': 1, 'Qxa6': 1, 'Qc5': 1, 'Nxd1': 1, 'Rxg8': 1, 'N2g3': 1, 'Bxb4+': 1, 'Ng7': 1, 'Bf3': 1, 'Bxf8': 1, 'Kxf8': 1}\n"
     ]
    }
   ],
   "source": [
    "pgn_files= glob( 'C:/mestrado/datasets/unified/random-32k-8lines--v5/*/labels/*.pgn')\n",
    "pgn_files= [f for f in pgn_files if 'scan' in f]\n",
    "print( len( pgn_files))\n",
    "\n",
    "all_pgn= []\n",
    "for f in pgn_files:\n",
    "    all_pgn.append( read_label( f))\n",
    "\t\n",
    "all_pgn= [p.split()[0:16] for p in all_pgn]\n",
    "flat_all_pgn = [t for _list in all_pgn for t in _list]\n",
    "\n",
    "count16= Counter( flat_all_pgn)\n",
    "\n",
    "print( 'len( count16)', len( _count16))  #esperado 462\n",
    "counted16= {k: v for k, v in sorted(count16.items(), key=lambda item: item[1], reverse=True)}\n",
    "print( counted16)\n",
    "\n"
   ]
  },
  {
   "cell_type": "code",
   "execution_count": 52,
   "metadata": {},
   "outputs": [
    {
     "data": {
      "text/plain": [
       "3186"
      ]
     },
     "execution_count": 52,
     "metadata": {},
     "output_type": "execute_result"
    }
   ],
   "source": [
    "len( all_pgn)"
   ]
  },
  {
   "cell_type": "code",
   "execution_count": 27,
   "metadata": {},
   "outputs": [],
   "source": [
    "\n",
    "# \n",
    "# transforma de portugues para ingles, para gerar pgn\n",
    "\n",
    "def pt_to_pgn( w):\n",
    "    # R=> K\n",
    "    # T=> R\n",
    "    # C=> N\n",
    "    # B=> B\n",
    "    # D=> Q\n",
    "\n",
    "#     print( w, '=> ')\n",
    "    png= w.replace( 'R', 'K').replace( 'T', 'R').replace( 'C', 'N').replace( 'D', 'Q')\n",
    "#     print( png)\n",
    "    return png\n",
    "\n",
    "def to_pgn( label):\n",
    "    return [pt_to_pgn( w) for w in label]\n"
   ]
  },
  {
   "cell_type": "code",
   "execution_count": 37,
   "metadata": {},
   "outputs": [],
   "source": [
    "def pgn_to_pt( w):\n",
    "    # R => T\n",
    "    # K => R\n",
    "    # N => C\n",
    "    # Q => D\n",
    "    \n",
    "    return w.replace( 'R', 'T').replace( 'K', 'R').replace( 'N', 'C').replace( 'Q', 'D')\n"
   ]
  },
  {
   "cell_type": "code",
   "execution_count": 28,
   "metadata": {},
   "outputs": [],
   "source": [
    "words= [item for item in count16]"
   ]
  },
  {
   "cell_type": "code",
   "execution_count": 29,
   "metadata": {
    "scrolled": true
   },
   "outputs": [
    {
     "name": "stdout",
     "output_type": "stream",
     "text": [
      "462 ['a3', 'd5', 'd4', 'Nf6', 'Nf3', 'Bg4', 'e3', 'e6', 'Be2', 'Bd6', 'c4', 'c6', 'Nbd2', 'Nbd7', 'b4', 'O-O', 'Nc3', 'Be7', 'Qc2', 'Re8', 'e5', 'e4', 'Nce2', 'c5', 'Ng3', 'Be6', 'Bb5+', 'Nd7', 'd3', 'f6', 'b3', 'Bb2', 'Bf5', 'f4', 'h6', 'Ne5', 'h5', 'g6', 'Bg7', 'Ne4', 'Nc6', 'd6', 'Bxf3', 'g3', 'Bg2', 'Ne2', 'Nge7', 'exd4', 'Bb5', 'Bd7', 'a6', 'Ba4', 'Nd4', 'Bc5', 'Nxc6', 'dxc6', 'Ngf6', 'b5', 'a4', 'dxc4', 'Bxc4', 'Nb6', 'Qc7', 'Qd6', 'cxd5', 'Nxd5', 'b6', 'Bb7', 'h3', 'c3', 'Nd2', 'Ngf3', 'Bd3', 'cxd4', 'Qe2', 'Bb4', 'f5', 'fxe4', 'Bxe4', 'Qh4', 'Rb1', 'Rb8', 'cxb4', 'axb4', 'Nxd4', 'Nb5', 'Nc7', 'Nge2', 'Bh5', 'Ne8', 'Nb8', 'bxc6', 'Bxc3', 'Na6', 'Bf4', 'Nxc3', 'bxc3', 'Bg5', 'exd5', 'Qb3', 'Nh6', 'Nce7', 'h4', 'Qd7', 'g4', 'dxe5', 'Qa5+', 'Qxe5', 'Qa5', 'Ne7', 'Nd5', 'Bxh7+', 'Kh8', 'Bf8', 'Bxc3+', 'a5', 'Qxd4', 'Nh3', 'Nf4', 'Ne1', 'Nc2', 'Nb4', 'Qc8', 'Nh4', 'Ng2', 'Nf5', 'Bxe2', 'f3', 'exf3', 'fxg2', 'cxd7+', 'Bxd7', 'Bxg2', 'Qf5', 'Nxf6+', 'gxf6', 'Nbc6', 'Nec3', 'Qa4+', 'Qxc4', 'Rc1', 'Bh4', 'Qd1', 'Rd1', 'Qxd5', 'Qf7', 'Bb4+', 'Bd2', 'Qe7', 'Bxd2', 'Qxd2', 'dxe6', 'Nc5', 'Qh5+', 'Ke7', 'Qxe5+', 'Kf7', 'Qxe4', 'Qf3', 'Re8+', 'Be3', 'Nxe5', 'Bxe5', 'Ng4', 'hxg6', 'bxc5', 'Ba6', 'Bxf1', 'Qb6', 'Nb3', 'exf6', 'dxc3', 'Nh5', 'Qa4', 'Qb5', 'Ba5', 'Qxc3', 'Ng8', 'Ng6', 'Nfd7', 'Re1', 'Bxd4', 'Bb6', 'Qh5', 'exf5', 'Bc4', 'Nf8', 'Nfd2', 'Qxe2', 'Bxf6', 'Ra7', 'Bb3', 'dxe4', 'Qxd8+', 'Kxd8', 'Bxd6', 'Qxd6', 'dxc5', 'Bxc2', 'cxb6', 'axb6', 'Bxd3', 'Qxd3', 'Bxd8', 'Bxc6', 'Rg8', 'Nxd2', 'Nxc4', 'Qxf3', 'Rc8', 'g5', 'Be4', 'Bg6', 'Na2', 'Nxg4', 'Ndf3', 'Qd5', 'Nxe4', 'Nxg6', 'Qxc6', 'Qxf6', 'Bxe7', 'Ngxe7', 'O-O-O', 'Bxc5', 'Bc6', 'axb5', 'Bxf4', 'gxf4', 'Bg3', 'Qxe7', 'Ndf6', 'Bxb4', 'Qxe4+', 'Kb1', 'Qxd1+', 'Kxd1', 'O-O-O+', 'cxb3', 'Qd2', 'Bh7', 'Nxf3', 'Be5', 'Nxg3', 'Nxf5', 'Qc1', 'cxd6', 'dxe3', 'fxe3', 'Qxb6', 'Qf6', 'Ke8', 'bxc4', 'Bxd2+', 'cxb5', 'Bc7', 'Qg4', 'Qd8', 'exf4', 'Ndb5', 'Qd3', 'Qe8', 'N1e2', 'Qb1', 'bxa6', 'Bxa6', 'Kxf1', 'Qh4+', 'Bc2', 'Bg1', 'Ng5', 'Ne6', 'Kxe7', 'Nd6', 'Qb4', 'Nxd6', 'Bxd7+', 'Nxd7', 'Nxg5', 'hxg5', 'Bxb8', 'Rxb8', 'Nxa6', 'fxe6', 'Qxb5', 'Na3', 'Bxb5+', 'N5c3', 'Rxa6', 'Nxc5', 'Nce4', 'Bc8', 'Ngxe5', 'Ncxe5', 'Bc3', 'Nxf4', 'Nxf6', 'Nbxd2', 'Bxb5', 'Ba3', 'Bd5', 'fxe5', 'Bh6', 'Bxe3', 'Qa3', 'Kh7', 'Qxd8', 'Rxd8', 'Na5', 'Bf2', 'Ba7', 'Qxb4+', 'Qxd2+', 'Nd6+', 'Bh2', 'Qd4', 'Qxb3', 'axb3', 'Bxg7', 'Kxg7', 'Qe1', 'exd6', 'Qxh4', 'Nxh4', 'Qxc5', 'Qe2+', 'Bxe6', 'Qe4', 'gxf5', 'Bxf5', 'Qxa4', 'Qxb2', 'Nxb5', 'Qe6+', 'Kf1', 'Qa6+', 'Kg1', 'Qb8', 'Bxc6+', 'Nf1', 'Ne3', 'Nd1', 'Qxd7', 'Nde2', 'Nbxd7', 'Bf1', 'bxa3', 'Nxa3', 'Kh1', 'Nc4', 'Nxc8+', 'Rxc8', 'Re1+', 'Nxe3', 'Qc3', 'cxd3', 'N1c3', 'Ba2', 'Qxg4', 'Qg6', 'Bd4', 'Qb4+', 'Bxh5', 'gxh5', 'Ngxf3', 'N1f3', 'Nxd3+', 'N5f3', 'Nf7', 'Na4', 'N6d7', 'Qg3', 'Bxh6', 'Bxf7+', 'Kxf7', 'Ne5+', 'Kg8', 'Nb1', 'N2c3', 'Nfd5', 'Nfxd7', 'Rd8+', 'Qxh6', 'Qe3', 'Kf8', 'Kf2', 'Bxd4+', 'Qe4+', 'fxg3', 'hxg3', 'Bxd5', 'Qxg3+', 'Nxf3+', 'Bxf2+', 'Kxf2', 'Bxh3', 'exd3', 'Nbc3', 'Bf6', 'Qxd1', 'Rxd1', 'Qe5+', 'Qxg5', 'cxb2', 'Bxb2', 'Nxb4', 'Qc4', 'Qxe2+', 'Kxe2', 'Qd5+', 'Qd4+', 'Ke1', 'Rxe5+', 'gxf3', 'Nxd8', 'Nh7', 'Nxb3', 'Nd3', 'Qxf7+', 'Kd8', 'Qf4', 'Nbxd4', 'Qxg7', 'Qh6', 'Bxg5', 'fxg7', 'Qe7+', 'Ned4', 'Nxf2', 'fxg6+', 'Kg7', 'gxh7', 'Qg5+', 'Bxg8', 'Kxg8', 'Qb3+', 'Bf7', 'Ngxe2', 'Nxg7', 'Bg5+', 'Nhf6', 'Ngxe4', 'Qa6', 'Ndb4', 'Rxa1', 'Bxa1', 'Qe8+', 'fxg4', 'N8e7', 'Nd8', 'Qg5', 'Rg1', 'Qxa6', 'Qc5', 'Nxd1', 'Rxg8', 'N2g3', 'Bxb4+', 'Ng7', 'Bf3', 'Bxf8', 'Kxf8']\n"
     ]
    }
   ],
   "source": [
    "print( len( words), words)"
   ]
  },
  {
   "cell_type": "code",
   "execution_count": 42,
   "metadata": {},
   "outputs": [
    {
     "name": "stdout",
     "output_type": "stream",
     "text": [
      "['Cbd7', 'Bh5', 'Cxb5', 'Ch6', 'Rg8', 'Bg2', 'Ce1', 'cxb4', 'Bb6', 'Txd8', 'Bf2', 'Bxb4+', 'Cgxe7', 'fxg7', 'De4', 'Cxc6']\n"
     ]
    }
   ],
   "source": [
    "def random_label_from_vocab():\n",
    "    label= []\n",
    "    for i in range( 0, 16):\n",
    "        label.append( \n",
    "            pgn_to_pt( words[random.randrange( 0, len( words))])\n",
    "        )\n",
    "    return label\n",
    "\n",
    "\n",
    "print( random_label_from_vocab())\n"
   ]
  },
  {
   "cell_type": "code",
   "execution_count": 31,
   "metadata": {},
   "outputs": [],
   "source": [
    "dd= {w:0 for w in words}"
   ]
  },
  {
   "cell_type": "code",
   "execution_count": 32,
   "metadata": {},
   "outputs": [],
   "source": [
    "for i in range( 0, 20000*16):\n",
    "    w= words[random.randrange( 0, len( words))]\n",
    "    dd[ w]= dd[ w]+1\n",
    "    "
   ]
  },
  {
   "cell_type": "code",
   "execution_count": 33,
   "metadata": {},
   "outputs": [
    {
     "name": "stdout",
     "output_type": "stream",
     "text": [
      "{'a3': 621, 'd5': 722, 'd4': 700, 'Nf6': 738, 'Nf3': 686, 'Bg4': 691, 'e3': 736, 'e6': 685, 'Be2': 637, 'Bd6': 673, 'c4': 633, 'c6': 693, 'Nbd2': 711, 'Nbd7': 720, 'b4': 752, 'O-O': 713, 'Nc3': 637, 'Be7': 689, 'Qc2': 688, 'Re8': 705, 'e5': 618, 'e4': 707, 'Nce2': 667, 'c5': 696, 'Ng3': 662, 'Be6': 713, 'Bb5+': 702, 'Nd7': 668, 'd3': 705, 'f6': 729, 'b3': 674, 'Bb2': 715, 'Bf5': 693, 'f4': 725, 'h6': 637, 'Ne5': 671, 'h5': 707, 'g6': 686, 'Bg7': 698, 'Ne4': 664, 'Nc6': 699, 'd6': 675, 'Bxf3': 659, 'g3': 711, 'Bg2': 699, 'Ne2': 662, 'Nge7': 675, 'exd4': 675, 'Bb5': 650, 'Bd7': 732, 'a6': 660, 'Ba4': 747, 'Nd4': 682, 'Bc5': 722, 'Nxc6': 722, 'dxc6': 706, 'Ngf6': 709, 'b5': 663, 'a4': 709, 'dxc4': 690, 'Bxc4': 678, 'Nb6': 673, 'Qc7': 684, 'Qd6': 657, 'cxd5': 680, 'Nxd5': 698, 'b6': 648, 'Bb7': 710, 'h3': 692, 'c3': 705, 'Nd2': 692, 'Ngf3': 722, 'Bd3': 638, 'cxd4': 745, 'Qe2': 659, 'Bb4': 663, 'f5': 653, 'fxe4': 727, 'Bxe4': 726, 'Qh4': 682, 'Rb1': 675, 'Rb8': 684, 'cxb4': 651, 'axb4': 694, 'Nxd4': 667, 'Nb5': 694, 'Nc7': 748, 'Nge2': 722, 'Bh5': 679, 'Ne8': 687, 'Nb8': 708, 'bxc6': 704, 'Bxc3': 697, 'Na6': 741, 'Bf4': 709, 'Nxc3': 701, 'bxc3': 695, 'Bg5': 718, 'exd5': 722, 'Qb3': 678, 'Nh6': 715, 'Nce7': 671, 'h4': 713, 'Qd7': 650, 'g4': 666, 'dxe5': 728, 'Qa5+': 652, 'Qxe5': 674, 'Qa5': 704, 'Ne7': 699, 'Nd5': 671, 'Bxh7+': 678, 'Kh8': 685, 'Bf8': 707, 'Bxc3+': 656, 'a5': 689, 'Qxd4': 703, 'Nh3': 711, 'Nf4': 720, 'Ne1': 745, 'Nc2': 745, 'Nb4': 677, 'Qc8': 764, 'Nh4': 654, 'Ng2': 699, 'Nf5': 696, 'Bxe2': 729, 'f3': 696, 'exf3': 684, 'fxg2': 689, 'cxd7+': 648, 'Bxd7': 675, 'Bxg2': 684, 'Qf5': 693, 'Nxf6+': 675, 'gxf6': 666, 'Nbc6': 658, 'Nec3': 690, 'Qa4+': 702, 'Qxc4': 680, 'Rc1': 661, 'Bh4': 719, 'Qd1': 706, 'Rd1': 659, 'Qxd5': 695, 'Qf7': 714, 'Bb4+': 737, 'Bd2': 668, 'Qe7': 707, 'Bxd2': 704, 'Qxd2': 677, 'dxe6': 730, 'Nc5': 656, 'Qh5+': 669, 'Ke7': 685, 'Qxe5+': 677, 'Kf7': 683, 'Qxe4': 706, 'Qf3': 708, 'Re8+': 710, 'Be3': 679, 'Nxe5': 684, 'Bxe5': 746, 'Ng4': 725, 'hxg6': 731, 'bxc5': 697, 'Ba6': 649, 'Bxf1': 652, 'Qb6': 697, 'Nb3': 724, 'exf6': 711, 'dxc3': 703, 'Nh5': 654, 'Qa4': 667, 'Qb5': 682, 'Ba5': 672, 'Qxc3': 698, 'Ng8': 704, 'Ng6': 708, 'Nfd7': 702, 'Re1': 674, 'Bxd4': 691, 'Bb6': 691, 'Qh5': 734, 'exf5': 662, 'Bc4': 667, 'Nf8': 720, 'Nfd2': 703, 'Qxe2': 712, 'Bxf6': 733, 'Ra7': 665, 'Bb3': 739, 'dxe4': 670, 'Qxd8+': 766, 'Kxd8': 706, 'Bxd6': 714, 'Qxd6': 641, 'dxc5': 674, 'Bxc2': 701, 'cxb6': 660, 'axb6': 693, 'Bxd3': 657, 'Qxd3': 754, 'Bxd8': 648, 'Bxc6': 702, 'Rg8': 717, 'Nxd2': 715, 'Nxc4': 690, 'Qxf3': 672, 'Rc8': 713, 'g5': 679, 'Be4': 740, 'Bg6': 752, 'Na2': 687, 'Nxg4': 653, 'Ndf3': 683, 'Qd5': 754, 'Nxe4': 698, 'Nxg6': 677, 'Qxc6': 647, 'Qxf6': 673, 'Bxe7': 678, 'Ngxe7': 721, 'O-O-O': 700, 'Bxc5': 733, 'Bc6': 668, 'axb5': 648, 'Bxf4': 710, 'gxf4': 726, 'Bg3': 645, 'Qxe7': 674, 'Ndf6': 671, 'Bxb4': 672, 'Qxe4+': 632, 'Kb1': 681, 'Qxd1+': 737, 'Kxd1': 628, 'O-O-O+': 686, 'cxb3': 693, 'Qd2': 634, 'Bh7': 655, 'Nxf3': 692, 'Be5': 656, 'Nxg3': 728, 'Nxf5': 704, 'Qc1': 748, 'cxd6': 705, 'dxe3': 678, 'fxe3': 679, 'Qxb6': 742, 'Qf6': 680, 'Ke8': 661, 'bxc4': 662, 'Bxd2+': 720, 'cxb5': 699, 'Bc7': 723, 'Qg4': 703, 'Qd8': 713, 'exf4': 698, 'Ndb5': 725, 'Qd3': 721, 'Qe8': 691, 'N1e2': 730, 'Qb1': 683, 'bxa6': 665, 'Bxa6': 698, 'Kxf1': 683, 'Qh4+': 692, 'Bc2': 683, 'Bg1': 690, 'Ng5': 664, 'Ne6': 689, 'Kxe7': 730, 'Nd6': 695, 'Qb4': 676, 'Nxd6': 701, 'Bxd7+': 678, 'Nxd7': 653, 'Nxg5': 662, 'hxg5': 680, 'Bxb8': 687, 'Rxb8': 703, 'Nxa6': 720, 'fxe6': 639, 'Qxb5': 686, 'Na3': 749, 'Bxb5+': 718, 'N5c3': 710, 'Rxa6': 701, 'Nxc5': 661, 'Nce4': 642, 'Bc8': 706, 'Ngxe5': 672, 'Ncxe5': 727, 'Bc3': 682, 'Nxf4': 667, 'Nxf6': 739, 'Nbxd2': 722, 'Bxb5': 633, 'Ba3': 668, 'Bd5': 701, 'fxe5': 688, 'Bh6': 675, 'Bxe3': 714, 'Qa3': 745, 'Kh7': 617, 'Qxd8': 711, 'Rxd8': 691, 'Na5': 720, 'Bf2': 657, 'Ba7': 727, 'Qxb4+': 690, 'Qxd2+': 713, 'Nd6+': 724, 'Bh2': 675, 'Qd4': 704, 'Qxb3': 728, 'axb3': 701, 'Bxg7': 687, 'Kxg7': 659, 'Qe1': 690, 'exd6': 720, 'Qxh4': 711, 'Nxh4': 709, 'Qxc5': 690, 'Qe2+': 714, 'Bxe6': 725, 'Qe4': 686, 'gxf5': 701, 'Bxf5': 724, 'Qxa4': 701, 'Qxb2': 647, 'Nxb5': 698, 'Qe6+': 706, 'Kf1': 630, 'Qa6+': 644, 'Kg1': 697, 'Qb8': 696, 'Bxc6+': 686, 'Nf1': 720, 'Ne3': 713, 'Nd1': 695, 'Qxd7': 749, 'Nde2': 686, 'Nbxd7': 703, 'Bf1': 661, 'bxa3': 653, 'Nxa3': 722, 'Kh1': 690, 'Nc4': 690, 'Nxc8+': 685, 'Rxc8': 717, 'Re1+': 674, 'Nxe3': 698, 'Qc3': 647, 'cxd3': 671, 'N1c3': 718, 'Ba2': 686, 'Qxg4': 697, 'Qg6': 682, 'Bd4': 711, 'Qb4+': 649, 'Bxh5': 727, 'gxh5': 699, 'Ngxf3': 743, 'N1f3': 683, 'Nxd3+': 686, 'N5f3': 688, 'Nf7': 678, 'Na4': 728, 'N6d7': 674, 'Qg3': 685, 'Bxh6': 654, 'Bxf7+': 634, 'Kxf7': 754, 'Ne5+': 706, 'Kg8': 701, 'Nb1': 698, 'N2c3': 702, 'Nfd5': 717, 'Nfxd7': 678, 'Rd8+': 675, 'Qxh6': 663, 'Qe3': 683, 'Kf8': 686, 'Kf2': 762, 'Bxd4+': 687, 'Qe4+': 675, 'fxg3': 704, 'hxg3': 747, 'Bxd5': 632, 'Qxg3+': 690, 'Nxf3+': 666, 'Bxf2+': 683, 'Kxf2': 689, 'Bxh3': 679, 'exd3': 707, 'Nbc3': 737, 'Bf6': 696, 'Qxd1': 664, 'Rxd1': 682, 'Qe5+': 675, 'Qxg5': 688, 'cxb2': 677, 'Bxb2': 695, 'Nxb4': 686, 'Qc4': 699, 'Qxe2+': 692, 'Kxe2': 671, 'Qd5+': 695, 'Qd4+': 691, 'Ke1': 657, 'Rxe5+': 708, 'gxf3': 696, 'Nxd8': 704, 'Nh7': 644, 'Nxb3': 666, 'Nd3': 684, 'Qxf7+': 687, 'Kd8': 742, 'Qf4': 688, 'Nbxd4': 674, 'Qxg7': 653, 'Qh6': 695, 'Bxg5': 688, 'fxg7': 711, 'Qe7+': 678, 'Ned4': 750, 'Nxf2': 712, 'fxg6+': 736, 'Kg7': 667, 'gxh7': 712, 'Qg5+': 675, 'Bxg8': 678, 'Kxg8': 713, 'Qb3+': 732, 'Bf7': 680, 'Ngxe2': 699, 'Nxg7': 667, 'Bg5+': 698, 'Nhf6': 669, 'Ngxe4': 694, 'Qa6': 651, 'Ndb4': 700, 'Rxa1': 671, 'Bxa1': 681, 'Qe8+': 681, 'fxg4': 697, 'N8e7': 723, 'Nd8': 746, 'Qg5': 709, 'Rg1': 749, 'Qxa6': 697, 'Qc5': 714, 'Nxd1': 696, 'Rxg8': 725, 'N2g3': 727, 'Bxb4+': 729, 'Ng7': 682, 'Bf3': 682, 'Bxf8': 681, 'Kxf8': 724}\n"
     ]
    }
   ],
   "source": [
    "print( dd)"
   ]
  },
  {
   "cell_type": "code",
   "execution_count": 34,
   "metadata": {},
   "outputs": [
    {
     "data": {
      "text/plain": [
       "617"
      ]
     },
     "execution_count": 34,
     "metadata": {},
     "output_type": "execute_result"
    }
   ],
   "source": [
    "min( [v for (k,v) in dd.items()])"
   ]
  },
  {
   "cell_type": "code",
   "execution_count": 35,
   "metadata": {},
   "outputs": [
    {
     "data": {
      "text/plain": [
       "766"
      ]
     },
     "execution_count": 35,
     "metadata": {},
     "output_type": "execute_result"
    }
   ],
   "source": [
    "max( [v for (k,v) in dd.items()])"
   ]
  },
  {
   "cell_type": "code",
   "execution_count": 54,
   "metadata": {},
   "outputs": [
    {
     "name": "stdout",
     "output_type": "stream",
     "text": [
      "N 30000 N_train 24000\n",
      "0\n",
      "100\n",
      "200\n",
      "300\n",
      "400\n",
      "500\n",
      "600\n",
      "700\n",
      "800\n",
      "900\n",
      "1000\n",
      "1100\n",
      "1200\n",
      "1300\n",
      "1400\n",
      "1500\n",
      "1600\n",
      "1700\n",
      "1800\n",
      "1900\n",
      "2000\n",
      "2100\n",
      "2200\n",
      "2300\n",
      "2400\n",
      "2500\n",
      "2600\n",
      "2700\n",
      "2800\n",
      "2900\n",
      "3000\n",
      "3100\n",
      "3200\n",
      "3300\n",
      "3400\n",
      "3500\n",
      "3600\n",
      "3700\n",
      "3800\n",
      "3900\n",
      "4000\n",
      "4100\n",
      "4200\n",
      "4300\n",
      "4400\n",
      "4500\n",
      "4600\n",
      "4700\n",
      "4800\n",
      "4900\n",
      "5000\n",
      "5100\n",
      "5200\n",
      "5300\n",
      "5400\n",
      "5500\n",
      "5600\n",
      "5700\n",
      "5800\n",
      "5900\n",
      "6000\n",
      "6100\n",
      "6200\n",
      "6300\n",
      "6400\n",
      "6500\n",
      "6600\n",
      "6700\n",
      "6800\n",
      "6900\n",
      "7000\n",
      "7100\n",
      "7200\n",
      "7300\n",
      "7400\n",
      "7500\n",
      "7600\n",
      "7700\n",
      "7800\n",
      "7900\n",
      "8000\n",
      "8100\n",
      "8200\n",
      "8300\n",
      "8400\n",
      "8500\n",
      "8600\n",
      "8700\n",
      "8800\n",
      "8900\n",
      "9000\n",
      "9100\n",
      "9200\n",
      "9300\n",
      "9400\n",
      "9500\n",
      "9600\n",
      "9700\n",
      "9800\n",
      "9900\n",
      "10000\n",
      "10100\n",
      "10200\n",
      "10300\n",
      "10400\n",
      "10500\n",
      "10600\n",
      "10700\n",
      "10800\n",
      "10900\n",
      "11000\n",
      "11100\n",
      "11200\n",
      "11300\n",
      "11400\n",
      "11500\n",
      "11600\n",
      "11700\n",
      "11800\n",
      "11900\n",
      "12000\n",
      "12100\n",
      "12200\n",
      "12300\n",
      "12400\n",
      "12500\n",
      "12600\n",
      "12700\n",
      "12800\n",
      "12900\n",
      "13000\n",
      "13100\n",
      "13200\n",
      "13300\n",
      "13400\n",
      "13500\n",
      "13600\n",
      "13700\n",
      "13800\n",
      "13900\n",
      "14000\n",
      "14100\n",
      "14200\n",
      "14300\n",
      "14400\n",
      "14500\n",
      "14600\n",
      "14700\n",
      "14800\n",
      "14900\n",
      "15000\n",
      "15100\n",
      "15200\n",
      "15300\n",
      "15400\n",
      "15500\n",
      "15600\n",
      "15700\n",
      "15800\n",
      "15900\n",
      "16000\n",
      "16100\n",
      "16200\n",
      "16300\n",
      "16400\n",
      "16500\n",
      "16600\n",
      "16700\n",
      "16800\n",
      "16900\n",
      "17000\n",
      "17100\n",
      "17200\n",
      "17300\n",
      "17400\n",
      "17500\n",
      "17600\n",
      "17700\n",
      "17800\n",
      "17900\n",
      "18000\n",
      "18100\n",
      "18200\n",
      "18300\n",
      "18400\n",
      "18500\n",
      "18600\n",
      "18700\n",
      "18800\n",
      "18900\n",
      "19000\n",
      "19100\n",
      "19200\n",
      "19300\n",
      "19400\n",
      "19500\n",
      "19600\n",
      "19700\n",
      "19800\n",
      "19900\n",
      "20000\n",
      "20100\n",
      "20200\n",
      "20300\n",
      "20400\n",
      "20500\n",
      "20600\n",
      "20700\n",
      "20800\n",
      "20900\n",
      "21000\n",
      "21100\n",
      "21200\n",
      "21300\n",
      "21400\n",
      "21500\n",
      "21600\n",
      "21700\n",
      "21800\n",
      "21900\n",
      "22000\n",
      "22100\n",
      "22200\n",
      "22300\n",
      "22400\n",
      "22500\n",
      "22600\n",
      "22700\n",
      "22800\n",
      "22900\n",
      "23000\n",
      "23100\n",
      "23200\n",
      "23300\n",
      "23400\n",
      "23500\n",
      "23600\n",
      "23700\n",
      "23800\n",
      "23900\n",
      "24000\n",
      "24100\n",
      "24200\n",
      "24300\n",
      "24400\n",
      "24500\n",
      "24600\n",
      "24700\n",
      "24800\n",
      "24900\n",
      "25000\n",
      "25100\n",
      "25200\n",
      "25300\n",
      "25400\n",
      "25500\n",
      "25600\n",
      "25700\n",
      "25800\n",
      "25900\n",
      "26000\n",
      "26100\n",
      "26200\n",
      "26300\n",
      "26400\n",
      "26500\n",
      "26600\n",
      "26700\n",
      "26800\n",
      "26900\n",
      "27000\n",
      "27100\n",
      "27200\n",
      "27300\n",
      "27400\n",
      "27500\n",
      "27600\n",
      "27700\n",
      "27800\n",
      "27900\n",
      "28000\n",
      "28100\n",
      "28200\n",
      "28300\n",
      "28400\n",
      "28500\n",
      "28600\n",
      "28700\n",
      "28800\n",
      "28900\n",
      "29000\n",
      "29100\n",
      "29200\n",
      "29300\n",
      "29400\n",
      "29500\n",
      "29600\n",
      "29700\n",
      "29800\n",
      "29900\n"
     ]
    }
   ],
   "source": [
    "img = Image.open(\"C:/mestrado/datasets/syn/template/template.jpg\")  # load base image\n",
    "dctx = ImageDraw.Draw(img)  # create drawing context\n",
    "dh_top= 7\n",
    "dh_bottom= 13\n",
    "h= (img.height - dh_top - dh_bottom)/25.0\n",
    "w= img.width/4.0\n",
    "\n",
    "margin_left= w/4\n",
    "margin_top= h/6\n",
    "\n",
    "# def resize_fixed( img):\n",
    "#     _dd = (271, 230) #width, height\n",
    "#     return cv2.resize(img, _dd, interpolation = cv2.INTER_AREA) \n",
    "\n",
    "def generate_for( line):\n",
    "#     if fnt is None:\n",
    "#         fnt= random.choice( fonts)\n",
    "#     print( fnt.getname())\n",
    "    \n",
    "    img = Image.open(\"C:/mestrado/datasets/syn/template/template.jpg\")  # load base image\n",
    "    dctx = ImageDraw.Draw(img)  # create drawing context\n",
    "\n",
    "    i= 0\n",
    "    for ln in range( 0, 8):\n",
    "        for col in range( 0, 2):\n",
    "            if i>= len( line):\n",
    "                del dctx\n",
    "                return img\n",
    "        \n",
    "            fnt= random.choice( fonts)\n",
    "            txtsz = dctx.textsize(line[i], fnt)\n",
    "        \n",
    "            x= w* col + (w - txtsz[0])/2\n",
    "            if random.random()< 0.7:\n",
    "                xmargem= int( (w - txtsz[0])/3)\n",
    "                x+= random.randint( -xmargem, xmargem)\n",
    "            y= dh_top + h*ln + (h - txtsz[1])/2 #+ margin_top\n",
    "\n",
    "            dctx.text( (x, y), line[i], font=fnt, fill=\"#000000\")\n",
    "            i= i+1\n",
    "            \n",
    "    del dctx \n",
    "    return img\n",
    "\n",
    "def cut( img):\n",
    "    h= 300\n",
    "    w= 345\n",
    "\n",
    "    img1= img[:h, :w]\n",
    "    return img1\n",
    "\n",
    "def generate_one( label): #pt_line, pgn, no, folder):\n",
    "#     id_font= no%len( all_fonts)\n",
    "    img= generate_for( label)\n",
    "    img= cut( np.asarray(img))\n",
    "    img= PIL.Image.fromarray(np.uint8(img))\n",
    "    return img\n",
    "\n",
    "\n",
    "# def __generate():\n",
    "#     _files= label_files\n",
    "# #     print( 'Gerando ', len( _files))\n",
    "#     for i in range( 0, len( _files)):\n",
    "#         if i%100== 0:\n",
    "#             print( i)\n",
    "#         img_file= _files[i].replace( 'labels', 'images.new').replace( '.pgn', '.jpg') \n",
    "#         img= generate_one( i, labelof( _files[i])[0:16], img_file)\n",
    "        \n",
    "#         img= random_transform( img, 0.3)\n",
    "#         img.save( img_file)\n",
    "# #         print( img_file)\n",
    "# #         show( img__)\n",
    "# #         show( transform( img__))\n",
    "# #         return img\n",
    "    \n",
    "# __generate()\n",
    "# img1= __generate()\n",
    "# show( img1)\n",
    "# pilimg= img1\n",
    "# npimg= np.asarray( img1)\n",
    "\n",
    "\n",
    "def __generate_random( N):\n",
    "    dataset_dir= 'C:/mestrado/datasets/unified/random-32k-8lines--v6'\n",
    "    \n",
    "    N_train= int(N*0.8)\n",
    "    print( 'N', N, 'N_train', N_train)\n",
    "    \n",
    "    for i in range( 0, N):\n",
    "        if( i%100== 0):\n",
    "            print( i)\n",
    "        label_pt= random_label_from_vocab()\n",
    "        img= generate_one( label_pt)\n",
    "        img= random_transform( img, 0.3)\n",
    "        pgn= to_pgn( label_pt)\n",
    "\n",
    "        folder= 'train' if i< N_train else 'valid'\n",
    "        \n",
    "        # save\n",
    "#         show( img)\n",
    "        img_file= os.path.join( dataset_dir, folder, 'images', 'random-syn-'+ str(i+1).zfill( 5)+'.jpg')\n",
    "        img.save( img_file)\n",
    "        write_label( img_file.replace( 'images', 'labels').replace( '.jpg', '.pgn'), \n",
    "                    \" \".join( to_pgn( label_pt)))\n",
    "\n",
    "__generate_random( 30000)"
   ]
  },
  {
   "cell_type": "code",
   "execution_count": 55,
   "metadata": {},
   "outputs": [],
   "source": [
    "def gererate_all_labels():\n",
    "    pgn_files= glob( 'C:/mestrado/datasets/unified/random-32k-8lines--v6/*/labels/*.pgn')\n",
    "    all_pgn= []\n",
    "    for f in pgn_files:\n",
    "        all_pgn.append( read_label( f))\n",
    "        \n",
    "    all_pgn= [' '.join( p.split()[0:16]) for p in all_pgn]\n",
    "    \n",
    "    write_label( 'C:/mestrado/datasets/unified/random-32k-8lines--v6/all-labels-.pgn', \n",
    "           '\\n'.join( all_pgn))\n",
    "    \n",
    "gererate_all_labels()"
   ]
  },
  {
   "cell_type": "code",
   "execution_count": 7,
   "metadata": {},
   "outputs": [],
   "source": [
    "pgn_files= glob( 'C:/mestrado/datasets/unified/random-32k-8lines--v6/*/labels/*.pgn')\n",
    "\n",
    "\n"
   ]
  },
  {
   "cell_type": "code",
   "execution_count": 8,
   "metadata": {},
   "outputs": [],
   "source": [
    "all_pgn= []\n",
    "for f in pgn_files:\n",
    "    all_pgn.append( read_label( f))\n",
    "\n",
    "pat= \"Nc3 d5 c4\""
   ]
  },
  {
   "cell_type": "code",
   "execution_count": 14,
   "metadata": {},
   "outputs": [
    {
     "name": "stdout",
     "output_type": "stream",
     "text": [
      "2425 Nc3 d5 e4 c6 f4 g6 Nf3 Bg7 e5 h5 d4 Nh6 Be3 Bg4 h3 Nf5\n",
      "2426 Nc3 d5 e4 d4 Nce2 e5 Ng3 Nf6 Nf3 Nc6 Bc4 Be7 O-O O-O d3 h6\n",
      "2427 Nc3 d5 e4 e6 Nf3 Nf6 d3 Be7 Be2 c5 O-O Nc6 Re1 d4 Nb1 e5\n",
      "2428 Nc3 d5 e4 e6 Nf3 Nf6 d3 Be7 Be2 c5 O-O Nc6 Re1 d4 Nb1 e5\n",
      "2429 Nc3 d5 e4 e6 d3 c5 g3 Nf6 Bg2 Nc6 Bd2 Be7 Nf3 O-O O-O d4\n",
      "27245 Nc3 d5 e4 d4 Nce2 e5 Ng3 Nf6 Bc4 Nc6 Nf3 Bd6 d3 h6 a3 Qe7\n"
     ]
    }
   ],
   "source": [
    "for i in range( 0, len( all_pgn)):\n",
    "    if all_pgn[i].startswith( \"Nc3 d5\"):\n",
    "        print( i, all_pgn[i])"
   ]
  }
 ],
 "metadata": {
  "kernelspec": {
   "display_name": "Python 3",
   "language": "python",
   "name": "python3"
  },
  "language_info": {
   "codemirror_mode": {
    "name": "ipython",
    "version": 3
   },
   "file_extension": ".py",
   "mimetype": "text/x-python",
   "name": "python",
   "nbconvert_exporter": "python",
   "pygments_lexer": "ipython3",
   "version": "3.8.2"
  }
 },
 "nbformat": 4,
 "nbformat_minor": 4
}
