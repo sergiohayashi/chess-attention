{
 "cells": [
  {
   "cell_type": "code",
   "execution_count": null,
   "metadata": {},
   "outputs": [],
   "source": [
    "import numpy as np\n",
    "from IPython.display import clear_output, display\n",
    "\n",
    "from glob import glob\n",
    "import os\n",
    "import os.path\n",
    "from os import path\n",
    "\n",
    "import shutil\n",
    "\n",
    "import cv2\n",
    "import PIL\n",
    "\n",
    "import re\n",
    "\n",
    "from pathlib import Path\n",
    "\n",
    "from matplotlib import pyplot as plt"
   ]
  },
  {
   "cell_type": "code",
   "execution_count": 5,
   "metadata": {},
   "outputs": [],
   "source": [
    "from IPython.display import clear_output"
   ]
  },
  {
   "cell_type": "code",
   "execution_count": 13,
   "metadata": {},
   "outputs": [],
   "source": [
    "plt.rcParams[\"figure.figsize\"] = (20,10)"
   ]
  },
  {
   "cell_type": "code",
   "execution_count": 9,
   "metadata": {},
   "outputs": [],
   "source": [
    "def read_label( path):\n",
    "  f= open( path)\n",
    "  d= f.read()\n",
    "  f.close()\n",
    "  return d \n",
    "\n",
    "def write_label( path, text):\n",
    "  f= open( path, \"w\")\n",
    "  f.write( text)\n",
    "  f.close()\n",
    "\n",
    "\n",
    "def show( img):\n",
    "    plt.imshow( img)\n",
    "    plt.title( 'picture')\n",
    "    plt.show()\n",
    "    \n",
    "    \n",
    "def write_text_file( filename, data):\n",
    "    f= open( filename, \"w\")\n",
    "    f.write( data)\n",
    "    f.close()\n",
    "    #print( \"Write text to \"+ filename)\n",
    "\n",
    "\n",
    "def show_image( img, name= 'noname'):\n",
    "  plt.imshow( img)\n",
    "  plt.title( name)\n",
    "  plt.show()\n",
    "\n",
    "def show_gimage( img, name= 'noname'):\n",
    "  plt.imshow( img, cmap= 'gray')\n",
    "  plt.title( name)\n",
    "  plt.show()\n",
    "\n",
    "def _load_image( path):\n",
    "  # return cv2.imread( path, cv2.IMREAD_GRAYSCALE)\n",
    "  return cv2.imread( path)\n",
    "  \n",
    "def write_image( path, img):\n",
    "  cv2.imwrite( path, img)\n",
    "\n",
    "def resize( img, scale_percent= 60, verbose=False):\n",
    "  #scale_percent = 60 # percent of original size\n",
    "  width = int(img.shape[1] * scale_percent / 100)\n",
    "  height = int(img.shape[0] * scale_percent / 100)\n",
    "  dim = (width, height)\n",
    "  if verbose:\n",
    "    print( \"scale\", scale_percent)\n",
    "    print( \"dim\", dim)\n",
    "  # resize image\n",
    "  return cv2.resize(img, dim, interpolation = cv2.INTER_AREA) "
   ]
  },
  {
   "cell_type": "code",
   "execution_count": 25,
   "metadata": {},
   "outputs": [],
   "source": []
  },
  {
   "cell_type": "code",
   "execution_count": 8,
   "metadata": {},
   "outputs": [
    {
     "name": "stdout",
     "output_type": "stream",
     "text": [
      "9\n",
      "continue? (x to exit)\n",
      "x\n"
     ]
    }
   ],
   "source": [
    "for i in range( 0, 10):\n",
    "    clear_output(wait=False)\n",
    "    print( i)\n",
    "    print( 'continue? (x to exit)')\n",
    "    a = input()\n",
    "    \n",
    "    if (a== 'x'):\n",
    "        break"
   ]
  },
  {
   "cell_type": "code",
   "execution_count": 21,
   "metadata": {},
   "outputs": [
    {
     "data": {
      "text/plain": [
       "'carnaval_0005_fullpage.jpg'"
      ]
     },
     "execution_count": 21,
     "metadata": {},
     "output_type": "execute_result"
    }
   ],
   "source": [
    "Path( img_files[i]).name"
   ]
  },
  {
   "cell_type": "code",
   "execution_count": 32,
   "metadata": {},
   "outputs": [],
   "source": [
    "source_dir= \"C:\\mestrado\\datasets\\carnaval_fullpage_clean-label\\carnaval_fullpage\"\n",
    "img_files= glob( os.path.join( source_dir, 'images', \"*.jpg\"))\n",
    "label_files= glob( os.path.join( source_dir, 'labels', \"*.pgn\"))\n",
    "\n",
    "for i in range( 0, 100):\n",
    "    print( img_files[i])\n",
    "    print( read_label( label_files[i]))\n",
    "    show( _load_image( img_files[i]))\n",
    "    \n",
    "    print( 'continue? (x to quit, d do delete)')\n",
    "    a = input()\n",
    "    if (a== 'x'):\n",
    "        break\n",
    "    \n",
    "    if (a== 'd'):\n",
    "        print( \"deleting \", img_files[i])\n",
    "        os.rename( img_files[i], \n",
    "                  os.path.join( r\"C:\\mestrado\\datasets\\carnaval_fullpage_clean-label\\carnaval_fullpage\\images\\_ng\",\n",
    "                              Path( img_files[i]).name\n",
    "                              ));\n",
    "    else:\n",
    "        os.rename( img_files[i], \n",
    "                  os.path.join( r\"C:\\mestrado\\datasets\\carnaval_fullpage_clean-label\\carnaval_fullpage\\images\\ok\",\n",
    "                              Path( img_files[i]).name\n",
    "                              ));\n",
    "    clear_output(wait=False)\n"
   ]
  }
 ],
 "metadata": {
  "kernelspec": {
   "display_name": "Python 3",
   "language": "python",
   "name": "python3"
  },
  "language_info": {
   "codemirror_mode": {
    "name": "ipython",
    "version": 3
   },
   "file_extension": ".py",
   "mimetype": "text/x-python",
   "name": "python",
   "nbconvert_exporter": "python",
   "pygments_lexer": "ipython3",
   "version": "3.8.2"
  }
 },
 "nbformat": 4,
 "nbformat_minor": 4
}
