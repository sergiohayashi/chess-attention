{
 "cells": [
  {
   "cell_type": "code",
   "execution_count": 14,
   "metadata": {},
   "outputs": [],
   "source": [
    "# import tensorflow as tf\n",
    "# device_name = tf.test.gpu_device_name()\n",
    "# if device_name != '/device:GPU:0':\n",
    "#   raise SystemError('GPU device not found')\n",
    "# print('Found GPU at: {}'.format(device_name))\n",
    "\n",
    "# You'll generate plots of attention in order to see which parts of an image\n",
    "# our model focuses on during captioning\n",
    "import matplotlib.pyplot as plt\n",
    "\n",
    "# Scikit-learn includes many helpful utilities\n",
    "from sklearn.model_selection import train_test_split\n",
    "from sklearn.utils import shuffle\n",
    "\n",
    "import re\n",
    "import numpy as np  \n",
    "import os\n",
    "import time\n",
    "import json\n",
    "from glob import glob\n",
    "from PIL import Image\n",
    "import pickle\n",
    "import cv2\n",
    "from sklearn.utils import shuffle\n",
    "\n",
    "# print(tf.__version__) "
   ]
  },
  {
   "cell_type": "code",
   "execution_count": 15,
   "metadata": {},
   "outputs": [],
   "source": [
    "from IPython.display import clear_output, display\n",
    "import os.path\n",
    "from os import path\n",
    "import shutil\n",
    "import PIL\n",
    "from pathlib import Path\n",
    "from matplotlib import pyplot as plt"
   ]
  },
  {
   "cell_type": "code",
   "execution_count": 4,
   "metadata": {},
   "outputs": [],
   "source": [
    "from IPython.display import clear_output"
   ]
  },
  {
   "cell_type": "code",
   "execution_count": 1,
   "metadata": {},
   "outputs": [],
   "source": [
    "import random"
   ]
  },
  {
   "cell_type": "code",
   "execution_count": 2,
   "metadata": {},
   "outputs": [],
   "source": [
    "import re"
   ]
  },
  {
   "cell_type": "code",
   "execution_count": 80,
   "metadata": {},
   "outputs": [],
   "source": [
    "def read_label( path):\n",
    "  f= open( path)\n",
    "  d= f.read()\n",
    "  f.close()\n",
    "  return d \n",
    "\n",
    "def write_label( path, text):\n",
    "  f= open( path, \"w\")\n",
    "  f.write( text)\n",
    "  f.close()\n",
    "\n",
    "def show( img, name= 'noname'):\n",
    "  plt.imshow( img)\n",
    "  plt.title( name)\n",
    "  plt.show()\n",
    "\n",
    "def show_gimage( img, name= 'noname'):\n",
    "  plt.imshow( img, cmap= 'gray')\n",
    "  plt.title( name)\n",
    "  plt.show()\n",
    "\n",
    "def _load_image( path):\n",
    "  # return cv2.imread( path, cv2.IMREAD_GRAYSCALE)\n",
    "  return cv2.imread( path)\n",
    "  \n",
    "def write_image( path, img):\n",
    "  cv2.imwrite( path, img)\n",
    "\n",
    "def resize( img, scale_percent= 60, verbose=False):\n",
    "  #scale_percent = 60 # percent of original size\n",
    "  width = int(img.shape[1] * scale_percent / 100)\n",
    "  height = int(img.shape[0] * scale_percent / 100)\n",
    "  dim = (width, height)\n",
    "  if verbose:\n",
    "    print( \"scale\", scale_percent)\n",
    "    print( \"dim\", dim)\n",
    "  # resize image\n",
    "  return cv2.resize(img, dim, interpolation = cv2.INTER_AREA) "
   ]
  },
  {
   "cell_type": "code",
   "execution_count": 104,
   "metadata": {},
   "outputs": [],
   "source": [
    "# def cleanup(line):\n",
    "#     return re.sub('[^0-9a-zA-Z -]+', '', line).replace( 'x', '')\n"
   ]
  },
  {
   "cell_type": "code",
   "execution_count": null,
   "metadata": {},
   "outputs": [],
   "source": [
    "#\n",
    "# Le todos os labels desta base final-32K-8lines\n",
    "# e sobrescreve os pgn com o texto original (sem alteracao ou trim)\n",
    "#\n",
    "for dd in ['train', 'valid']:\n",
    "    files= glob.glob( os.path.join( \n",
    "            \"C:/mestrado/datasets/unified/parts/synthesized_8lines_30kexcept-handwritten\", folder,\n",
    "            \"labels\", fname+ \".pgn\"), pgn) )\n",
    "    \n",
    "    \n"
   ]
  },
  {
   "cell_type": "code",
   "execution_count": 130,
   "metadata": {},
   "outputs": [],
   "source": [
    "pgnfile= \"C:/mestrado/datasets/handmade/imagens-originais/pgn_30k_pt.txt\"\n",
    "with open(pgnfile) as f:\n",
    "    lines = [line.rstrip() for line in f]\n",
    "    \n",
    "lines= [re.sub(\"[\\[].*?[\\]]\", \"\", ln) for ln in lines]\n",
    "lines= [ln[8:-1] for ln in lines]\n",
    "lines= [cleanup( ln) for ln in lines]\n",
    "lines= [ln.split()[0:32] for ln in lines]\n",
    "\n",
    "pgnfile= \"C:/mestrado/datasets/handmade/imagens-originais/pgn_30k_eng.txt\"\n",
    "with open(pgnfile) as f:\n",
    "    en_lines = [line.rstrip() for line in f]\n",
    "    \n",
    "en_lines= [re.sub(\"[\\[].*?[\\]]\", \"\", ln) for ln in en_lines]\n",
    "en_lines= [ln[8:-1] for ln in en_lines]\n",
    "en_lines= [cleanup( ln) for ln in en_lines]\n",
    "en_lines= [ln.split()[0:32] for ln in en_lines]"
   ]
  },
  {
   "cell_type": "code",
   "execution_count": 132,
   "metadata": {},
   "outputs": [
    {
     "name": "stdout",
     "output_type": "stream",
     "text": [
      "['d4', 'f5', 'Cf3', 'g6', 'g3', 'Bg7', 'Bg2', 'Cf6', 'b4', 'c6', 'c4', 'd5', 'Db3', 'Be6', 'c5', 'Ce4', 'O-O', 'Cd7', 'Bf4', 'O-O', 'Cbd2', 'Bf7', 'De3', 'De8', 'Bh6', 'Cdf6', 'Ce5', 'Cd2', 'Dd2', 'Cd7', 'Bg7', 'Rg7'] ['d4', 'f5', 'Nf3', 'g6', 'g3', 'Bg7', 'Bg2', 'Nf6', 'b4', 'c6', 'c4', 'd5', 'Qb3', 'Be6', 'c5', 'Ne4', 'O-O', 'Nd7', 'Bf4', 'O-O', 'Nbd2', 'Bf7', 'Qe3', 'Qe8', 'Bh6', 'Ndf6', 'Ne5', 'Nd2', 'Qd2', 'Nd7', 'Bg7', 'Kg7']\n"
     ]
    }
   ],
   "source": [
    "print( lines[0], en_lines[0])"
   ]
  },
  {
   "cell_type": "code",
   "execution_count": 108,
   "metadata": {},
   "outputs": [
    {
     "data": {
      "text/plain": [
       "30000"
      ]
     },
     "execution_count": 108,
     "metadata": {},
     "output_type": "execute_result"
    }
   ],
   "source": [
    "len( lines)"
   ]
  },
  {
   "cell_type": "code",
   "execution_count": 109,
   "metadata": {},
   "outputs": [
    {
     "data": {
      "text/plain": [
       "['d4',\n",
       " 'f5',\n",
       " 'Cf3',\n",
       " 'g6',\n",
       " 'g3',\n",
       " 'Bg7',\n",
       " 'Bg2',\n",
       " 'Cf6',\n",
       " 'b4',\n",
       " 'c6',\n",
       " 'c4',\n",
       " 'd5',\n",
       " 'Db3',\n",
       " 'Be6',\n",
       " 'c5',\n",
       " 'Ce4',\n",
       " 'O-O',\n",
       " 'Cd7',\n",
       " 'Bf4',\n",
       " 'O-O',\n",
       " 'Cbd2',\n",
       " 'Bf7',\n",
       " 'De3',\n",
       " 'De8',\n",
       " 'Bh6',\n",
       " 'Cdf6',\n",
       " 'Ce5',\n",
       " 'Cd2',\n",
       " 'Dd2',\n",
       " 'Cd7',\n",
       " 'Bg7',\n",
       " 'Rg7']"
      ]
     },
     "execution_count": 109,
     "metadata": {},
     "output_type": "execute_result"
    }
   ],
   "source": [
    "lines[0]"
   ]
  },
  {
   "cell_type": "code",
   "execution_count": 131,
   "metadata": {},
   "outputs": [],
   "source": [
    "# en_pgnfile= \"C:/mestrado/datasets/handmade/imagens-originais/pgn_30k_eng.txt\"\n",
    "# en_lines= open( en_pgnfile)\n",
    "# with open(en_pgnfile) as f:\n",
    "#     content = f.readlines()\n",
    "# # you may also want to remove whitespace characters like `\\n` at the end of each line\n",
    "# content = [x.strip() for x in content] \n",
    "# en_lines= [ln[8:-1].split()[0:100] for ln in content]\n",
    "\n"
   ]
  },
  {
   "cell_type": "code",
   "execution_count": 11,
   "metadata": {},
   "outputs": [],
   "source": [
    "#\n",
    "# gera imagem com jogadas escritas com fonte manuscrito\n",
    "#\n",
    "from PIL import Image, ImageDraw\n",
    "from PIL import ImageColor"
   ]
  },
  {
   "cell_type": "code",
   "execution_count": 95,
   "metadata": {},
   "outputs": [],
   "source": [
    "# abre o arquivo original\n",
    "img = Image.open(\"C:/mestrado/datasets/syn/template/template.jpg\")  # load base image\n",
    "dctx = ImageDraw.Draw(img)  # create drawing context"
   ]
  },
  {
   "cell_type": "code",
   "execution_count": 96,
   "metadata": {},
   "outputs": [
    {
     "data": {
      "image/png": "[encoded data removed]",
      "text/plain": [
       "<Figure size 432x288 with 1 Axes>"
      ]
     },
     "metadata": {
      "needs_background": "light"
     },
     "output_type": "display_data"
    }
   ],
   "source": [
    "show( img)"
   ]
  },
  {
   "cell_type": "code",
   "execution_count": 17,
   "metadata": {},
   "outputs": [],
   "source": [
    "# -*- coding: utf-8 -*-\n",
    "from PIL import ImageFont\n"
   ]
  },
  {
   "cell_type": "code",
   "execution_count": 18,
   "metadata": {},
   "outputs": [],
   "source": [
    "fonts= [\n",
    "    ImageFont.truetype('c:/Windows/Fonts/BRADHITC.TTF', 30),\n",
    "#     ImageFont.truetype('c:/Windows/Fonts/CHILLER.TTF', 30),\n",
    "#     ImageFont.truetype('c:/Windows/Fonts/FORTE.TTF', 30),\n",
    "    ImageFont.truetype('c:/Windows/Fonts/ITCKRIST.TTF', 30),\n",
    "#     ImageFont.truetype('c:/Windows/Fonts/FREESCPT.TTF', 30),\n",
    "    ImageFont.truetype('c:/Windows/Fonts/LHANDW.TTF', 30),\n",
    "#     ImageFont.truetype('c:/Windows/Fonts/GIGI.TTF', 30),\n",
    "#     ImageFont.truetype('c:/Windows/Fonts/Gabriola.TTF', 30),\n",
    "    ImageFont.truetype('c:/Windows/Fonts/Inkfree.TTF', 30),\n",
    "#     ImageFont.truetype('c:/Windows/Fonts/MTCORSVA.TTF', 30),\n",
    "#     ImageFont.truetype('c:/Windows/Fonts/LCALLIG.TTF', 30),\n",
    "#     ImageFont.truetype('c:/Windows/Fonts/MTCORSVA.TTF', 30),\n",
    "    ImageFont.truetype('c:/Windows/Fonts/OCRAEXT.TTF', 30),\n",
    "#     ImageFont.truetype('c:/Windows/Fonts/PRISTINA.TTF', 30),\n",
    "#     ImageFont.truetype('c:/Windows/Fonts/RAGE.TTF', 30),\n",
    "    ImageFont.truetype('c:/Windows/Fonts/TEMPSITC.TTF', 30),\n",
    "    ImageFont.truetype('c:/Windows/Fonts/PAPYRUS.TTF', 30),\n",
    "#     ImageFont.truetype('c:/Windows/Fonts/PRISTINA.TTF', 30),\n",
    "    ImageFont.truetype('c:/Windows/Fonts/MAIAN.TTF', 30)\n",
    "] \n"
   ]
  },
  {
   "cell_type": "code",
   "execution_count": 60,
   "metadata": {
    "scrolled": false
   },
   "outputs": [],
   "source": [
    "def showbig( img, name= 'noname'):\n",
    "    plt.figure(figsize = (10,10))    \n",
    "    plt.imshow( img)\n",
    "    plt.title( name)\n",
    "    plt.show()\n",
    "    \n",
    "\n",
    "    \n",
    "    \n",
    "#----------------------\n",
    "# generate\n",
    "#----------------------\n",
    "# for i in range( 0, 10000):\n",
    "#     if i%100== 0:\n",
    "#         print( i)\n",
    "#     generate_one( lines[i], \" \".join( en_lines[i]), i)             \n",
    "\n",
    "#----------------------\n",
    "# show image\n",
    "#----------------------\n",
    "# i= 0\n",
    "# for f in fonts:\n",
    "#     print( i, f.getname())\n",
    "#     img= generate_for( lines[2], f)\n",
    "#     showbig( img)\n",
    "#     i+= 1"
   ]
  },
  {
   "cell_type": "code",
   "execution_count": 21,
   "metadata": {},
   "outputs": [],
   "source": [
    "import glob"
   ]
  },
  {
   "cell_type": "code",
   "execution_count": 22,
   "metadata": {},
   "outputs": [],
   "source": [
    "#\n",
    "#  gerar somente os que nao tem no handwritten\n",
    "#\n",
    "\n",
    "# carrega os jogos existentes\n",
    "handfiles= glob.glob( \"C:/mestrado/datasets/unified/parts/handwritten/labels/*.pgn\")"
   ]
  },
  {
   "cell_type": "code",
   "execution_count": 23,
   "metadata": {},
   "outputs": [
    {
     "name": "stdout",
     "output_type": "stream",
     "text": [
      "3422\n"
     ]
    }
   ],
   "source": [
    "print( len( handfiles))"
   ]
  },
  {
   "cell_type": "code",
   "execution_count": 24,
   "metadata": {},
   "outputs": [],
   "source": [
    "fname= handfiles[0]\n"
   ]
  },
  {
   "cell_type": "code",
   "execution_count": 26,
   "metadata": {},
   "outputs": [
    {
     "data": {
      "text/plain": [
       "['a3',\n",
       " '',\n",
       " 'd5',\n",
       " '',\n",
       " 'd4',\n",
       " '',\n",
       " 'Nf6',\n",
       " '5742',\n",
       " '1494',\n",
       " 'R',\n",
       " 'part3',\n",
       " 'scan0145.pgn']"
      ]
     },
     "execution_count": 26,
     "metadata": {},
     "output_type": "execute_result"
    }
   ],
   "source": [
    "Path(fname).name.split('_')"
   ]
  },
  {
   "cell_type": "code",
   "execution_count": 25,
   "metadata": {},
   "outputs": [
    {
     "name": "stdout",
     "output_type": "stream",
     "text": [
      "5741\n"
     ]
    }
   ],
   "source": [
    "# a3__d5__d4__Nf6_5742_1494_R_part3_scan0145\n",
    "id= int( Path(fname).name.split('_')[-5])-1\n",
    "print( id)"
   ]
  },
  {
   "cell_type": "code",
   "execution_count": 27,
   "metadata": {},
   "outputs": [
    {
     "name": "stdout",
     "output_type": "stream",
     "text": [
      "a3 d5 d4 Nf6 Nf3 Bg4 e3 e6 Be2 Bd6 c4 c6 Nbd2 Nbd7 b4 O-O Bb2 Ne4 Ne5 Bxe2 Qxe2 Nxd2 Qxd2 Bxe5 dxe5 dxc4 Rd1 Nb6 Qe2 Qc7 Qg4 c5 O-O cxb4 axb4 c3 Rc1 Na4 Rxc3 Nxc3 Rc1 Rfd8 Bxc3 Rac8 h3 Qc4 e4 Qd3 Qh4 Rd7\n"
     ]
    }
   ],
   "source": [
    "print( read_label( fname))"
   ]
  },
  {
   "cell_type": "code",
   "execution_count": 171,
   "metadata": {},
   "outputs": [
    {
     "data": {
      "text/plain": [
       "'a3 d5 d4 Nf6 Nf3 Bg4 e3 e6 Be2 Bd6 c4 c6 Nbd2 Nbd7 b4 O-O Bb2 Ne4 Ne5 Bxe2 Qxe2 Nxd2 Qxd2 Bxe5 dxe5 dxc4 Rd1 Nb6 Qe2 Qc7 Qg4 c5 O-O cxb4 axb4 c3 Rc1 Na4 Rxc3 Nxc3 Rc1 Rfd8 Bxc3 Rac8 h3 Qc4 e4 Qd3 Qh4 Rd7'"
      ]
     },
     "execution_count": 171,
     "metadata": {},
     "output_type": "execute_result"
    }
   ],
   "source": [
    "\" \".join( en_lines[ id])"
   ]
  },
  {
   "cell_type": "code",
   "execution_count": 185,
   "metadata": {},
   "outputs": [],
   "source": [
    "for f in handfiles:\n",
    "    if 'scan' not in Path(f).name:\n",
    "        print( Path(f).name)\n"
   ]
  },
  {
   "cell_type": "code",
   "execution_count": 28,
   "metadata": {},
   "outputs": [],
   "source": [
    "s= set()\n",
    "for f in handfiles:\n",
    "    s.add( int( Path(f).name.split('_')[-5][-4:])-1)"
   ]
  },
  {
   "cell_type": "code",
   "execution_count": 29,
   "metadata": {},
   "outputs": [
    {
     "name": "stdout",
     "output_type": "stream",
     "text": [
      "2742\n"
     ]
    }
   ],
   "source": [
    "print( len( s))"
   ]
  },
  {
   "cell_type": "code",
   "execution_count": 133,
   "metadata": {},
   "outputs": [],
   "source": [
    "#\n",
    "# filtra os que tem manual, os que tem tamanho menor de 16\n",
    "#\n",
    "new_lines= []\n",
    "new_en_lines=[]\n",
    "new_no= []\n",
    "\n",
    "for i in range( 0, len( lines)):\n",
    "    if len( en_lines[i])< 32:\n",
    "        continue\n",
    "    if i in s:\n",
    "        continue\n",
    "    new_lines.append( lines[i]) \n",
    "    new_en_lines.append( en_lines[i]) \n",
    "    new_no.append( i)    "
   ]
  },
  {
   "cell_type": "code",
   "execution_count": 134,
   "metadata": {},
   "outputs": [
    {
     "name": "stdout",
     "output_type": "stream",
     "text": [
      "25272\n",
      "2742\n",
      "30000\n"
     ]
    }
   ],
   "source": [
    "print( len( new_lines))\n",
    "print( len( s))\n",
    "print( len( lines))"
   ]
  },
  {
   "cell_type": "code",
   "execution_count": 135,
   "metadata": {},
   "outputs": [
    {
     "name": "stdout",
     "output_type": "stream",
     "text": [
      "[48, 49, 89, 163, 177, 273, 312, 360, 628, 629]\n"
     ]
    }
   ],
   "source": [
    "print( new_no[0:10])"
   ]
  },
  {
   "cell_type": "code",
   "execution_count": 136,
   "metadata": {},
   "outputs": [],
   "source": [
    "#\n",
    "# separa em valid e test\n",
    "#\n",
    "n= len( new_lines)\n",
    "\n",
    "# precisa fazer shuffle?\n",
    "\n",
    "n_train= int(n*0.8)\n",
    "new_train_lines= new_lines[:n_train]\n",
    "new_train_en_lines=new_en_lines[:n_train]\n",
    "new_train_no= new_no[:n_train]\n",
    "\n",
    "new_valid_lines= new_lines[n_train:]\n",
    "new_valid_en_lines=new_en_lines[n_train:]\n",
    "new_valid_no= new_no[n_train:]"
   ]
  },
  {
   "cell_type": "code",
   "execution_count": 137,
   "metadata": {},
   "outputs": [
    {
     "name": "stdout",
     "output_type": "stream",
     "text": [
      "25272 20217\n"
     ]
    }
   ],
   "source": [
    "print( n, n_train)"
   ]
  },
  {
   "cell_type": "code",
   "execution_count": 140,
   "metadata": {
    "scrolled": true
   },
   "outputs": [
    {
     "data": {
      "image/png": "[encoded data removed]",
      "text/plain": [
       "<Figure size 432x288 with 1 Axes>"
      ]
     },
     "metadata": {
      "needs_background": "light"
     },
     "output_type": "display_data"
    }
   ],
   "source": [
    "dh_top= 7\n",
    "dh_bottom= 13\n",
    "h= (img.height - dh_top - dh_bottom)/25.0\n",
    "w= img.width/4.0\n",
    "\n",
    "margin_left= w/4\n",
    "margin_top= h/6\n",
    "\n",
    "def resize_fixed( img):\n",
    "  dd = (271, 230) #width, height\n",
    "  return cv2.resize(img, dd, interpolation = cv2.INTER_AREA) \n",
    "\n",
    "def generate_for( line, fnt=None):\n",
    "    if fnt is None:\n",
    "        fnt= random.choice( fonts)\n",
    "#     print( fnt.getname())\n",
    "    \n",
    "    img = Image.open(\"C:/mestrado/datasets/syn/template/template.jpg\")  # load base image\n",
    "    dctx = ImageDraw.Draw(img)  # create drawing context\n",
    "\n",
    "    i= 0\n",
    "    for ln in range( 0, 8):\n",
    "        for col in range( 0, 2):\n",
    "            if i>= len( line):\n",
    "                del dctx\n",
    "                return img\n",
    "            \n",
    "            txtsz = dctx.textsize(line[i], fnt)\n",
    "\n",
    "            x= w* col + (w - txtsz[0])/2\n",
    "            y= dh_top + h*ln + (h - txtsz[1])/2 #+ margin_top\n",
    "\n",
    "            dctx.text( (x, y), line[i], font=fnt, fill=\"#000000\")\n",
    "            i= i+1\n",
    "\n",
    "#     for ln in range( 0, 25):\n",
    "#         for col in range( 2, 4):\n",
    "#             if i>= len( line):\n",
    "#                 del dctx\n",
    "#                 return img\n",
    "            \n",
    "#             txtsz = dctx.textsize(line[i], fnt)\n",
    "\n",
    "#             x= w* col + (w - txtsz[0])/2\n",
    "#             y= dh_top + h*ln #+ margin_top\n",
    "\n",
    "#             dctx.text( (x, y), line[i], font=fnt, fill=\"#000000\")\n",
    "#             i+= 1\n",
    "            \n",
    "    del dctx\n",
    "    return img\n",
    "\n",
    "def cut( img):\n",
    "    h= 300\n",
    "    w= 345\n",
    "\n",
    "    img1= img[:h, :w]\n",
    "    return img1\n",
    "\n",
    "\n",
    "\n",
    "def generate_one( pt_line, pgn, no, folder):\n",
    "    img= generate_for( pt_line)\n",
    "    img= cut( np.asarray(img))\n",
    "    img= resize_fixed( img)\n",
    "    img= PIL.Image.fromarray(np.uint8(img))\n",
    "\n",
    "    fname= \"syn_\"+str(no).zfill(5)\n",
    "    img.save( \n",
    "        os.path.join( \n",
    "            \"C:/mestrado/datasets/unified/parts/synthesized_8lines_30kexcept-handwritten\", folder,\n",
    "            \"images\", fname+ \".jpg\"))\n",
    "\n",
    "    write_label( \n",
    "        os.path.join( \n",
    "            \"C:/mestrado/datasets/unified/parts/synthesized_8lines_30kexcept-handwritten\", folder,\n",
    "            \"labels\", fname+ \".pgn\"), pgn)        \n",
    "    \n",
    "    return img\n",
    "\n",
    "img__= generate_one( new_train_lines[0], \" \".join( new_train_en_lines[0]), new_train_no[0]+1, 'train')\n",
    "show( img__)"
   ]
  },
  {
   "cell_type": "code",
   "execution_count": 142,
   "metadata": {},
   "outputs": [
    {
     "name": "stdout",
     "output_type": "stream",
     "text": [
      "train 0\n",
      "train 100\n",
      "train 200\n",
      "train 300\n",
      "train 400\n",
      "train 500\n",
      "train 600\n",
      "train 700\n",
      "train 800\n",
      "train 900\n",
      "train 1000\n",
      "train 1100\n",
      "train 1200\n",
      "train 1300\n",
      "train 1400\n",
      "train 1500\n",
      "train 1600\n",
      "train 1700\n",
      "train 1800\n",
      "train 1900\n",
      "train 2000\n",
      "train 2100\n",
      "train 2200\n",
      "train 2300\n",
      "train 2400\n",
      "train 2500\n",
      "train 2600\n",
      "train 2700\n",
      "train 2800\n",
      "train 2900\n",
      "train 3000\n",
      "train 3100\n",
      "train 3200\n",
      "train 3300\n",
      "train 3400\n",
      "train 3500\n",
      "train 3600\n",
      "train 3700\n",
      "train 3800\n",
      "train 3900\n",
      "train 4000\n",
      "train 4100\n",
      "train 4200\n",
      "train 4300\n",
      "train 4400\n",
      "train 4500\n",
      "train 4600\n",
      "train 4700\n",
      "train 4800\n",
      "train 4900\n",
      "train 5000\n",
      "train 5100\n",
      "train 5200\n",
      "train 5300\n",
      "train 5400\n",
      "train 5500\n",
      "train 5600\n",
      "train 5700\n",
      "train 5800\n",
      "train 5900\n",
      "train 6000\n",
      "train 6100\n",
      "train 6200\n",
      "train 6300\n",
      "train 6400\n",
      "train 6500\n",
      "train 6600\n",
      "train 6700\n",
      "train 6800\n",
      "train 6900\n",
      "train 7000\n",
      "train 7100\n",
      "train 7200\n",
      "train 7300\n",
      "train 7400\n",
      "train 7500\n",
      "train 7600\n",
      "train 7700\n",
      "train 7800\n",
      "train 7900\n",
      "train 8000\n",
      "train 8100\n",
      "train 8200\n",
      "train 8300\n",
      "train 8400\n",
      "train 8500\n",
      "train 8600\n",
      "train 8700\n",
      "train 8800\n",
      "train 8900\n",
      "train 9000\n",
      "train 9100\n",
      "train 9200\n",
      "train 9300\n",
      "train 9400\n",
      "train 9500\n",
      "train 9600\n",
      "train 9700\n",
      "train 9800\n",
      "train 9900\n",
      "train 10000\n",
      "train 10100\n",
      "train 10200\n",
      "train 10300\n",
      "train 10400\n",
      "train 10500\n",
      "train 10600\n",
      "train 10700\n",
      "train 10800\n",
      "train 10900\n",
      "train 11000\n",
      "train 11100\n",
      "train 11200\n",
      "train 11300\n",
      "train 11400\n",
      "train 11500\n",
      "train 11600\n",
      "train 11700\n",
      "train 11800\n",
      "train 11900\n",
      "train 12000\n",
      "train 12100\n",
      "train 12200\n",
      "train 12300\n",
      "train 12400\n",
      "train 12500\n",
      "train 12600\n",
      "train 12700\n",
      "train 12800\n",
      "train 12900\n",
      "train 13000\n",
      "train 13100\n",
      "train 13200\n",
      "train 13300\n",
      "train 13400\n",
      "train 13500\n",
      "train 13600\n",
      "train 13700\n",
      "train 13800\n",
      "train 13900\n",
      "train 14000\n",
      "train 14100\n",
      "train 14200\n",
      "train 14300\n",
      "train 14400\n",
      "train 14500\n",
      "train 14600\n",
      "train 14700\n",
      "train 14800\n",
      "train 14900\n",
      "train 15000\n",
      "train 15100\n",
      "train 15200\n",
      "train 15300\n",
      "train 15400\n",
      "train 15500\n",
      "train 15600\n",
      "train 15700\n",
      "train 15800\n",
      "train 15900\n",
      "train 16000\n",
      "train 16100\n",
      "train 16200\n",
      "train 16300\n",
      "train 16400\n",
      "train 16500\n",
      "train 16600\n",
      "train 16700\n",
      "train 16800\n",
      "train 16900\n",
      "train 17000\n",
      "train 17100\n",
      "train 17200\n",
      "train 17300\n",
      "train 17400\n",
      "train 17500\n",
      "train 17600\n",
      "train 17700\n",
      "train 17800\n",
      "train 17900\n",
      "train 18000\n",
      "train 18100\n",
      "train 18200\n",
      "train 18300\n",
      "train 18400\n",
      "train 18500\n",
      "train 18600\n",
      "train 18700\n",
      "train 18800\n",
      "train 18900\n",
      "train 19000\n",
      "train 19100\n",
      "train 19200\n",
      "train 19300\n",
      "train 19400\n",
      "train 19500\n",
      "train 19600\n",
      "train 19700\n",
      "train 19800\n",
      "train 19900\n",
      "train 20000\n",
      "train 20100\n",
      "train 20200\n",
      "valid 0\n",
      "valid 100\n",
      "valid 200\n",
      "valid 300\n",
      "valid 400\n",
      "valid 500\n",
      "valid 600\n",
      "valid 700\n",
      "valid 800\n",
      "valid 900\n",
      "valid 1000\n",
      "valid 1100\n",
      "valid 1200\n",
      "valid 1300\n",
      "valid 1400\n",
      "valid 1500\n",
      "valid 1600\n",
      "valid 1700\n",
      "valid 1800\n",
      "valid 1900\n",
      "valid 2000\n",
      "valid 2100\n",
      "valid 2200\n",
      "valid 2300\n",
      "valid 2400\n",
      "valid 2500\n",
      "valid 2600\n",
      "valid 2700\n",
      "valid 2800\n",
      "valid 2900\n",
      "valid 3000\n",
      "valid 3100\n",
      "valid 3200\n",
      "valid 3300\n",
      "valid 3400\n",
      "valid 3500\n",
      "valid 3600\n",
      "valid 3700\n",
      "valid 3800\n",
      "valid 3900\n",
      "valid 4000\n",
      "valid 4100\n",
      "valid 4200\n",
      "valid 4300\n",
      "valid 4400\n",
      "valid 4500\n",
      "valid 4600\n",
      "valid 4700\n",
      "valid 4800\n",
      "valid 4900\n",
      "valid 5000\n"
     ]
    }
   ],
   "source": [
    "for i in range( 0, len( new_train_lines)):\n",
    "    if i%100== 0:\n",
    "        print( 'train', i)\n",
    "    generate_one( new_train_lines[i], \" \".join( new_train_en_lines[i]), new_train_no[i]+1, 'train')\n",
    "    \n",
    "for i in range( 0, len( new_valid_lines)):\n",
    "    if i%100== 0:\n",
    "        print( 'valid', i)\n",
    "    generate_one( new_valid_lines[i], \" \".join( new_valid_en_lines[i]), new_valid_no[i]+1, 'valid')"
   ]
  }
 ],
 "metadata": {
  "kernelspec": {
   "display_name": "Python 3",
   "language": "python",
   "name": "python3"
  },
  "language_info": {
   "codemirror_mode": {
    "name": "ipython",
    "version": 3
   },
   "file_extension": ".py",
   "mimetype": "text/x-python",
   "name": "python",
   "nbconvert_exporter": "python",
   "pygments_lexer": "ipython3",
   "version": "3.8.2"
  }
 },
 "nbformat": 4,
 "nbformat_minor": 4
}
