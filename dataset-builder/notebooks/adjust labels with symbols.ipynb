{
 "cells": [
  {
   "cell_type": "code",
   "execution_count": 1,
   "metadata": {},
   "outputs": [],
   "source": [
    "# import tensorflow as tf\n",
    "# device_name = tf.test.gpu_device_name()\n",
    "# if device_name != '/device:GPU:0':\n",
    "#   raise SystemError('GPU device not found')\n",
    "# print('Found GPU at: {}'.format(device_name))\n",
    "\n",
    "# You'll generate plots of attention in order to see which parts of an image\n",
    "# our model focuses on during captioning\n",
    "import matplotlib.pyplot as plt\n",
    "\n",
    "# Scikit-learn includes many helpful utilities\n",
    "from sklearn.model_selection import train_test_split\n",
    "from sklearn.utils import shuffle\n",
    "\n",
    "import re\n",
    "import numpy as np  \n",
    "import os\n",
    "import time\n",
    "import json\n",
    "from glob import glob\n",
    "from PIL import Image\n",
    "import pickle\n",
    "import cv2\n",
    "from sklearn.utils import shuffle\n",
    "\n",
    "# print(tf.__version__) \n",
    "\n",
    "from IPython.display import clear_output, display\n",
    "import os.path\n",
    "from os import path\n",
    "import shutil\n",
    "import PIL\n",
    "from pathlib import Path\n",
    "from matplotlib import pyplot as plt\n",
    "\n",
    "from IPython.display import clear_output\n",
    "import random\n",
    "import re"
   ]
  },
  {
   "cell_type": "code",
   "execution_count": 12,
   "metadata": {},
   "outputs": [],
   "source": [
    "from pathlib import Path    "
   ]
  },
  {
   "cell_type": "code",
   "execution_count": 2,
   "metadata": {},
   "outputs": [],
   "source": [
    "def read_label( path):\n",
    "  f= open( path)\n",
    "  d= f.read()\n",
    "  f.close()\n",
    "  return d \n",
    "\n",
    "def write_label( path, text):\n",
    "  f= open( path, \"w\")\n",
    "  f.write( text)\n",
    "  f.close()\n",
    "\n",
    "def show( img, name= 'noname'):\n",
    "  plt.imshow( img)\n",
    "  plt.title( name)\n",
    "  plt.show()\n",
    "\n",
    "def show_gimage( img, name= 'noname'):\n",
    "  plt.imshow( img, cmap= 'gray')\n",
    "  plt.title( name)\n",
    "  plt.show()\n",
    "\n",
    "def _load_image( path):\n",
    "  # return cv2.imread( path, cv2.IMREAD_GRAYSCALE)\n",
    "  return cv2.imread( path)\n",
    "  \n",
    "def write_image( path, img):\n",
    "  cv2.imwrite( path, img)\n",
    "\n",
    "def resize( img, scale_percent= 60, verbose=False):\n",
    "  #scale_percent = 60 # percent of original size\n",
    "  width = int(img.shape[1] * scale_percent / 100)\n",
    "  height = int(img.shape[0] * scale_percent / 100)\n",
    "  dim = (width, height)\n",
    "  if verbose:\n",
    "    print( \"scale\", scale_percent)\n",
    "    print( \"dim\", dim)\n",
    "  # resize image\n",
    "  return cv2.resize(img, dim, interpolation = cv2.INTER_AREA) "
   ]
  },
  {
   "cell_type": "code",
   "execution_count": 6,
   "metadata": {},
   "outputs": [],
   "source": [
    "#\n",
    "# le labels em ingles\n",
    "#\n",
    "pgnfile= \"C:/mestrado/datasets/handmade/imagens-originais/pgn_30k_eng.txt\"\n",
    "with open(pgnfile) as f:\n",
    "    en_lines = [line.rstrip() for line in f]\n",
    "    \n",
    "en_lines= [re.sub(\"[\\[].*?[\\]]\", \"\", ln) for ln in en_lines]\n",
    "en_lines= [ln[8:] for ln in en_lines]\n",
    "en_lines= [ln.split()[0:16] for ln in en_lines]"
   ]
  },
  {
   "cell_type": "code",
   "execution_count": 7,
   "metadata": {},
   "outputs": [
    {
     "data": {
      "text/plain": [
       "['d4',\n",
       " 'f5',\n",
       " 'Nf3',\n",
       " 'g6',\n",
       " 'g3',\n",
       " 'Bg7',\n",
       " 'Bg2',\n",
       " 'Nf6',\n",
       " 'b4',\n",
       " 'c6',\n",
       " 'c4',\n",
       " 'd5',\n",
       " 'Qb3',\n",
       " 'Be6',\n",
       " 'c5',\n",
       " 'Ne4']"
      ]
     },
     "execution_count": 7,
     "metadata": {},
     "output_type": "execute_result"
    }
   ],
   "source": [
    "en_lines[0]"
   ]
  },
  {
   "cell_type": "code",
   "execution_count": 10,
   "metadata": {},
   "outputs": [],
   "source": [
    "#\n",
    "# le cada um dos labels do dataset e ve se está igual\n",
    "#\n",
    "d= \"train\"\n",
    "labelfiles= glob( os.path.join( \n",
    "    \"C:/mestrado/datasets/unified/final-32K-8lines\", \n",
    "    d, \"labels\", \"syn*.pgn\"))\n",
    "                                    "
   ]
  },
  {
   "cell_type": "code",
   "execution_count": 11,
   "metadata": {},
   "outputs": [
    {
     "data": {
      "text/plain": [
       "20217"
      ]
     },
     "execution_count": 11,
     "metadata": {},
     "output_type": "execute_result"
    }
   ],
   "source": [
    "len( labelfiles)"
   ]
  },
  {
   "cell_type": "code",
   "execution_count": 18,
   "metadata": {},
   "outputs": [
    {
     "data": {
      "text/plain": [
       "'syn_00049.pgn'"
      ]
     },
     "execution_count": 18,
     "metadata": {},
     "output_type": "execute_result"
    }
   ],
   "source": [
    "Path( labelfiles[0]).name"
   ]
  },
  {
   "cell_type": "code",
   "execution_count": 21,
   "metadata": {},
   "outputs": [
    {
     "data": {
      "text/plain": [
       "49"
      ]
     },
     "execution_count": 21,
     "metadata": {},
     "output_type": "execute_result"
    }
   ],
   "source": [
    "def lnOf( f):\n",
    "    return int( Path( f).name[4:9])\n",
    "\n",
    "lnOf( labelfiles[0])"
   ]
  },
  {
   "cell_type": "code",
   "execution_count": 24,
   "metadata": {},
   "outputs": [],
   "source": [
    "labels= []\n",
    "for f in labelfiles:\n",
    "    labels.append( read_label( f))"
   ]
  },
  {
   "cell_type": "code",
   "execution_count": 25,
   "metadata": {},
   "outputs": [
    {
     "data": {
      "text/plain": [
       "'e4 c5 Nc3 Nc6 Nf3 d6 d4 cxd4 Nxd4 Nf6 Be2 e5 Nb3 Be6 Bg5 a5'"
      ]
     },
     "execution_count": 25,
     "metadata": {},
     "output_type": "execute_result"
    }
   ],
   "source": [
    "labels[0]"
   ]
  },
  {
   "cell_type": "code",
   "execution_count": 27,
   "metadata": {},
   "outputs": [
    {
     "data": {
      "text/plain": [
       "['e4',\n",
       " 'c5',\n",
       " 'Nc3',\n",
       " 'Nc6',\n",
       " 'Nf3',\n",
       " 'd6',\n",
       " 'd4',\n",
       " 'cxd4',\n",
       " 'Nxd4',\n",
       " 'Nf6',\n",
       " 'Be2',\n",
       " 'e5',\n",
       " 'Nb3',\n",
       " 'Be6',\n",
       " 'Bg5',\n",
       " 'a5']"
      ]
     },
     "execution_count": 27,
     "metadata": {},
     "output_type": "execute_result"
    }
   ],
   "source": [
    "en_lines[lnOf( labelfiles[0])-1]"
   ]
  },
  {
   "cell_type": "code",
   "execution_count": 29,
   "metadata": {},
   "outputs": [],
   "source": [
    "pgnfile= \"C:/mestrado/datasets/handmade/imagens-originais/pgn_30k_eng.txt\"\n",
    "with open(pgnfile) as f:\n",
    "    en_lines = [line.rstrip() for line in f]\n",
    "    \n",
    "en_lines= [re.sub(\"[\\[].*?[\\]]\", \"\", ln) for ln in en_lines]\n",
    "en_lines= [ln[8:] for ln in en_lines]\n",
    "#en_lines= [ln.split() for ln in en_lines]"
   ]
  },
  {
   "cell_type": "code",
   "execution_count": 30,
   "metadata": {},
   "outputs": [
    {
     "data": {
      "text/plain": [
       "'d4 f5 Nf3 g6 g3 Bg7 Bg2 Nf6 b4 c6 c4 d5 Qb3 Be6 c5 Ne4 O-O Nd7 Bf4 O-O Nbd2 Bf7 Qe3 Qe8 Bh6 Ndf6 Ne5 Nxd2 Qxd2 Nd7 Bxg7 Kxg7 Qf4 Be6 a4 Nxe5 Qxe5+ Rf6 f4 Kg8 Rfb1 Bc8 Qc7 Qd7 Qxd7 Bxd7 b5 Rff8 e3 e6 Bf1 Kf7 a5 Rfb8 Rb2 Ke7 Rab1 Rc8 bxc6 bxc6 Ba6 Rc7 Rb8 Rxb8 Rxb8 Be8 Bb7 Bd7 a6 Be8 Ra8 Bd7 Kf2 Kf6 Rh8 Kg7 Ra8 Kf6 Ke2 h6 Kd2 g5 Kc3 gxf4 exf4'"
      ]
     },
     "execution_count": 30,
     "metadata": {},
     "output_type": "execute_result"
    }
   ],
   "source": [
    "en_lines[0]"
   ]
  },
  {
   "cell_type": "code",
   "execution_count": 31,
   "metadata": {},
   "outputs": [],
   "source": [
    "all_lines= \"\\n\".join( en_lines)"
   ]
  },
  {
   "cell_type": "code",
   "execution_count": 32,
   "metadata": {},
   "outputs": [],
   "source": [
    "flabels= \"C:/mestrado/datasets/unified/parts/vocabulary/all-30k-eng-labels.txt\"\n",
    "write_label( flabels, all_lines)"
   ]
  }
 ],
 "metadata": {
  "kernelspec": {
   "display_name": "Python 3",
   "language": "python",
   "name": "python3"
  },
  "language_info": {
   "codemirror_mode": {
    "name": "ipython",
    "version": 3
   },
   "file_extension": ".py",
   "mimetype": "text/x-python",
   "name": "python",
   "nbconvert_exporter": "python",
   "pygments_lexer": "ipython3",
   "version": "3.8.2"
  }
 },
 "nbformat": 4,
 "nbformat_minor": 4
}
