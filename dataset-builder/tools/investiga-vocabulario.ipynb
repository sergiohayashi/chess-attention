{
 "cells": [
  {
   "cell_type": "code",
   "execution_count": 2,
   "id": "9ac38b17",
   "metadata": {},
   "outputs": [],
   "source": [
    "# You'll generate plots of attention in order to see which parts of an image\n",
    "# our model focuses on during captioning\n",
    "import matplotlib.pyplot as plt\n",
    "\n",
    "# Scikit-learn includes many helpful utilities\n",
    "from sklearn.model_selection import train_test_split\n",
    "from sklearn.utils import shuffle\n",
    "\n",
    "import re\n",
    "import numpy as np  \n",
    "import os\n",
    "import time\n",
    "import json\n",
    "from glob import glob\n",
    "import pickle\n",
    "from sklearn.utils import shuffle\n",
    "\n",
    "from IPython.display import clear_output, display\n",
    "import os.path\n",
    "from os import path\n",
    "import shutil\n",
    "from pathlib import Path\n",
    "from glob import glob\n",
    "from collections import Counter\n",
    "import builtins"
   ]
  },
  {
   "cell_type": "code",
   "execution_count": 4,
   "id": "b9355d21",
   "metadata": {},
   "outputs": [],
   "source": [
    "pgnfile= \"C:/mestrado/datasets/unified/vocabulary/vocabulary/from-handmade/pgn_10k_eng.txt\"\n",
    "with open(pgnfile) as f:\n",
    "    lines = [line.rstrip() for line in f]\n",
    "    \n",
    "lines= [re.sub(\"[\\[].*?[\\]]\", \"\", ln) for ln in lines]\n",
    "lines= [ln[8:] for ln in lines]\n",
    "lines= [ln.split() for ln in lines]"
   ]
  },
  {
   "cell_type": "code",
   "execution_count": 5,
   "id": "8df026a2",
   "metadata": {},
   "outputs": [
    {
     "data": {
      "text/plain": [
       "10000"
      ]
     },
     "execution_count": 5,
     "metadata": {},
     "output_type": "execute_result"
    }
   ],
   "source": [
    "len( lines)"
   ]
  },
  {
   "cell_type": "code",
   "execution_count": 6,
   "id": "4f3ee76a",
   "metadata": {},
   "outputs": [
    {
     "data": {
      "text/plain": [
       "['d4',\n",
       " 'f5',\n",
       " 'Nf3',\n",
       " 'g6',\n",
       " 'g3',\n",
       " 'Bg7',\n",
       " 'Bg2',\n",
       " 'Nf6',\n",
       " 'b4',\n",
       " 'c6',\n",
       " 'c4',\n",
       " 'd5',\n",
       " 'Qb3',\n",
       " 'Be6',\n",
       " 'c5',\n",
       " 'Ne4',\n",
       " 'O-O',\n",
       " 'Nd7',\n",
       " 'Bf4',\n",
       " 'O-O',\n",
       " 'Nbd2',\n",
       " 'Bf7',\n",
       " 'Qe3',\n",
       " 'Qe8',\n",
       " 'Bh6',\n",
       " 'Ndf6',\n",
       " 'Ne5',\n",
       " 'Nxd2',\n",
       " 'Qxd2',\n",
       " 'Nd7',\n",
       " 'Bxg7',\n",
       " 'Kxg7',\n",
       " 'Qf4',\n",
       " 'Be6',\n",
       " 'a4',\n",
       " 'Nxe5',\n",
       " 'Qxe5+',\n",
       " 'Rf6',\n",
       " 'f4',\n",
       " 'Kg8',\n",
       " 'Rfb1',\n",
       " 'Bc8',\n",
       " 'Qc7',\n",
       " 'Qd7',\n",
       " 'Qxd7',\n",
       " 'Bxd7',\n",
       " 'b5',\n",
       " 'Rff8',\n",
       " 'e3',\n",
       " 'e6',\n",
       " 'Bf1',\n",
       " 'Kf7',\n",
       " 'a5',\n",
       " 'Rfb8',\n",
       " 'Rb2',\n",
       " 'Ke7',\n",
       " 'Rab1',\n",
       " 'Rc8',\n",
       " 'bxc6',\n",
       " 'bxc6',\n",
       " 'Ba6',\n",
       " 'Rc7',\n",
       " 'Rb8',\n",
       " 'Rxb8',\n",
       " 'Rxb8',\n",
       " 'Be8',\n",
       " 'Bb7',\n",
       " 'Bd7',\n",
       " 'a6',\n",
       " 'Be8',\n",
       " 'Ra8',\n",
       " 'Bd7',\n",
       " 'Kf2',\n",
       " 'Kf6',\n",
       " 'Rh8',\n",
       " 'Kg7',\n",
       " 'Ra8',\n",
       " 'Kf6',\n",
       " 'Ke2',\n",
       " 'h6',\n",
       " 'Kd2',\n",
       " 'g5',\n",
       " 'Kc3',\n",
       " 'gxf4',\n",
       " 'exf4']"
      ]
     },
     "execution_count": 6,
     "metadata": {},
     "output_type": "execute_result"
    }
   ],
   "source": [
    "lines[0]"
   ]
  },
  {
   "cell_type": "code",
   "execution_count": 7,
   "id": "73d5b04b",
   "metadata": {},
   "outputs": [],
   "source": [
    "flat_tokens16 = [t for _list in lines for t in _list[0:16]]"
   ]
  },
  {
   "cell_type": "code",
   "execution_count": 9,
   "id": "ef46fdb4",
   "metadata": {},
   "outputs": [
    {
     "name": "stdout",
     "output_type": "stream",
     "text": [
      "len( flat) 157964\n"
     ]
    }
   ],
   "source": [
    "print( 'len( flat)', len( flat_tokens16))"
   ]
  },
  {
   "cell_type": "code",
   "execution_count": 10,
   "id": "6103e6e0",
   "metadata": {},
   "outputs": [
    {
     "name": "stdout",
     "output_type": "stream",
     "text": [
      "len( count16) 620\n"
     ]
    }
   ],
   "source": [
    "count16= Counter( flat_tokens16)\n",
    "print( 'len( count16)', len( count16))"
   ]
  },
  {
   "cell_type": "code",
   "execution_count": 14,
   "id": "19c2c993",
   "metadata": {},
   "outputs": [
    {
     "name": "stdout",
     "output_type": "stream",
     "text": [
      "620\n",
      "['O-O', 'Nf3', 'Nf6', 'd4', 'e4', 'Nc3', 'd5', 'e6', 'Nc6', 'c5', 'd6', 'c4', 'e5', 'g6', 'Bg7', 'cxd4', 'Be7', 'c6', 'g3', 'Bg2', 'a6', 'e3', 'Nxd4', 'Bd3', 'c3', 'Bg5', 'Be2', 'exd5', 'd3', 'Nbd7', 'Be3', 'cxd5', 'Bc4', 'b6', 'b5', 'Bg4', 'f4', 'h6', 'Bb4', 'h3', 'Bb7', 'Bb5', 'a3', 'Nbd2', 'b3', 'Bd6', 'Bd7', 'Bf5', 'Bf4', 'Qc7', 'Nxe4', 'f5', 'exd4', 'Nd7', 'dxc4', 'Qd2', 'dxe5', 'Re1', 'Qc2', 'Nxd5', 'Bc5', 'f3', 'Nd2', 'a4', 'Bb2', 'dxe4', 'Bd2', 'Nge2', 'Qb6', 'Bb3', 'Ne7', 'Nd5', 'Nge7', 'Ne4', 'Be6', 'Qe2', 'bxc3', 'Ne2', 'Qxd5', 'Qa5', 'dxc5', 'Ba4', 'Ne5', 'Nxe5', 'a5', 'Bxf6', 'b4', 'Nxc3', 'Bxc6', 'Nb6', 'Qb3', 'Nfd7', 'Nb3', 'Bxc4', 'bxc6', 'Bxc3+', 'Bb4+', 'Bxf3', 'Qe7', 'Qxd4', 'h4', 'Bh4', 'Na6', 'Bb5+', 'Re8', 'f6', 'h5', 'Nxc6', 'Na3', 'Bxc3', 'Ngf3', 'Ngf6', 'O-O-O', 'g4', 'Ng4', 'dxc6', 'Nd4', 'Ng3', 'Bg6', 'Bxc5', 'Rb1', 'Nb5', 'g5', 'Nh6', 'Bb6', 'Ndb5', 'Bh5', 'Rb8', 'Ba6', 'Qf3', 'Na5', 'Ng5', 'Qd7', 'cxb5', 'Qg4', 'Qd3', 'dxc3', 'exd6', 'exf6', 'Nh5', 'Bxd3', 'Qf6', 'Qxf6', 'fxe5', 'Rc1', 'Qxf3', 'fxe4', 'Ng6', 'Qa4+', 'Nf5', 'gxf6', 'Nh4', 'Qd8', 'Nxf6+', 'Bg3', 'Bxe7', 'exf4', 'Nh3', 'Bxd7+', 'Qa5+', 'Qa4', 'Qd6', 'Nb4', 'Qxe7', 'Qxc4', 'Ne8', 'Qxd8+', 'Bxd2+', 'Nc7', 'Bxd6', 'Bxe4', 'Qe8', 'Qxc3', 'Bc2', 'Kxd8', 'Nbc6', 'Nc5', 'Bxc6+', 'Qxd6', 'Qxd3', 'Nxf6', 'Bxa6', 'Bh7', 'Qxd7', 'cxd6', 'Qxd2', 'Kh1', 'Nd6', 'Nce2', 'Qh5', 'Nxc4', 'cxb4', 'Nxd2', 'Qd5', 'Nf4', 'bxa6', 'Ba5', 'Qc8', 'dxe6', 'exf3', 'bxc4', 'Nb8', 'Bh6', 'Bxb4', 'exf5', 'Qxd1+', 'N1c3', 'Nc2', 'Bxd4', 'Qd1', 'fxe6', 'axb5', 'Qh4', 'Qc1', 'Bxf4', 'Qe1', 'Nce7', 'Nbxd2', 'Rc8', 'Bxe2', 'Nxd7', 'Ba7', 'Bc6', 'Rd1', 'Bxd5', 'Nxg5', 'Qh4+', 'Qxc5', 'Kxf7', 'Bxe6', 'Rg8', 'Nxb5', 'Bf1', 'Kf8', 'axb3', 'Ndf3', 'Qxg7', 'Nc4', 'gxf3', 'axb4', 'Bxe5', 'bxc5', 'Nxc5', 'Nbc3', 'Na4', 'Bxf7+', 'Qxb2', 'Rxd8', 'Bxf5', 'Be4', 'Qxd8', 'Nfd2', 'Qh5+', 'Qd4', 'Ng8', 'Qe2+', 'Bxd2', 'Qxb6', 'Qg3', 'Bxf1', 'Bxb5', 'Qxe4+', 'Kxd1', 'Bf8', 'Nde2', 'Qe3', 'Bxd7', 'Qxe4', 'cxb3', 'Kf1', 'Ba3', 'Qe7+', 'Nxa6', 'Ne1', 'hxg6', 'Bxh6', 'Bc3', 'Rg1', 'hxg5', 'Bf3', 'Nxf3+', 'Qxc6', 'Nxf3', 'Nxf7', 'axb6', 'Qf4', 'Bc7', 'Nxb3', 'Qxb3', 'Nxd6', 'Qxd1', 'Qxg4', 'N5c3', 'Nd6+', 'Bf6', 'Nxg4', 'Qg5', 'Qxe5', 'Qa6', 'Bxe3', 'fxe3', 'Nbxd7', 'gxf5', 'Nec6', 'Nf1', 'Qg6', 'Nf8', 'Ne6', 'Nf7', 'N1f3', 'Nd1', 'Bxg5', 'Qxe2+', 'Rxd1', 'Nxf5', 'Nxg6', 'Bxg2', 'gxf4', 'Rd8', 'Bc1', 'Kxf1', 'Qb8', 'Bxb1', 'Rxb1', 'Bh3', 'Qe6+', 'Nxg3', 'Qxe2', 'Be5', 'Bd5', 'Nxe3', 'Qa3', 'Nd8', 'Ne3', 'Qf7', 'Kd8', 'Nxd3+', 'Bxa3', 'exd3', 'cxd3', 'Ndf6', 'Qb4', 'Kf7', 'Kh8', 'Qxg5', 'Bxg7', 'Ke7', 'Nxh5', 'Qb4+', 'Ngxe5', 'bxa3', 'cxb6', 'Qe4', 'Re8+', 'Bxh3', 'hxg3', 'Bf2', 'Qxd2+', 'Bh2', 'Bxg8', 'gxh5', 'Bc8', 'Qc5', 'Re1+', 'fxg7', 'Ng1', 'fxg6', 'Bd4', 'Rxg8', 'Kb1', 'N2c3', 'Qf5', 'Qxe7+', 'N1e2', 'Qh6', 'Nxe6', 'dxe3', 'Nbxd5', 'Bxc1', 'Qxa4', 'Nd3', 'Kh7', 'Qe5', 'Qxh6', 'Kxg7', 'hxg4', 'fxg2', 'Kxf2', 'Qc4', 'Nb1', 'O-O-O+', 'Bxb5+', 'Bxb8', 'Rxb8', 'Bxb2', 'Nxb4', 'Ba2', 'Qc3', 'Kd7', 'Nxe2', 'Bg5+', 'Qb1', 'Ngxe7', 'Nxe7', 'Nxb6', 'Ke6', 'Rf8', 'Qxf5', 'Nxa4', 'Qxe5+', 'Bxg6', 'Qxd7+', 'Nec3', 'Qe4+', 'Nce4', 'Na2', 'Ke8', 'Bxd8', 'Ndb4', 'N6d7', 'cxd7+', 'Nxf2', 'Bxh5', 'Ng2', 'Na7', 'fxg3', 'Qxe3', 'N1d2', 'Rxf7', 'Nxd8', 'Qc6', 'Qxf7+', 'Qe3+', 'Nxd1', 'Qxc1', 'Bc4+', 'Bb1', 'N7b6', 'Bxf2+', 'bxa4', 'Kf2', 'Kxe7', 'Qe5+', 'Qxb4+', 'Qxb5', 'Qxa6', 'Rxa1', 'Bxa1', 'Nhf6', 'Ra7', 'Nfd5', 'Ngxf3', 'Nfxd7', 'Rxc8', 'Nxf4', 'Nb7', 'Qxb7', 'Bg1', 'Rxh8+', 'Bxh8', 'Qh3', 'Qxe6', 'Bxc7', 'Nf2', 'Qf2', 'cxd2+', 'Rxe4', 'N2f3', 'Rxe5', 'exf7+', 'Bh4+', 'Nbd4', 'Kd2', 'Qd5+', 'Qb6+', 'N8c6', 'g7+', 'gxh8=Q', 'Bxd5+', 'Kxe2', 'Kxg2', 'Qf3+', 'Qxh7', 'Nfe5', 'Qe6', 'Qxb4', 'Ke2', 'Qxc3+', 'Ncxe5', 'Bxg3', 'Qxa5', 'Qb5', 'Nxh4', 'Nh7', 'Kg8', 'Rxe5+', 'Qxh4', 'Nxa3', 'Bxg4', 'N8e7', 'Qxg3+', 'Qe8+', 'Ned4', 'Qxe6+', 'Nxg7', 'Nde7', 'Rh3', 'Ngxe4', 'Nxc8+', 'Nbxd4', 'Rxh5', 'Qxh5+', 'cxb2', 'Kxg8', 'Qb3+', 'fxg6+', 'Kg7', 'gxh7', 'Qg5+', 'Qa6+', 'Kg1', 'Kc7', 'Rh8', 'Bf7+', 'Qxc8+', 'Nfg5', 'N4f3', 'dxe7', 'Nexd4', 'g2+', 'Qxg2', 'Nxh2', 'Nexd7', 'N1xd2', 'Bc5+', 'Kh2', 'Bxb3', 'Kxd7', 'Qg4+', 'Rxh3', 'Rxa8', 'Bxa8', 'Bxb6', 'Nc2+', 'Nxa1', 'Nxg7+', 'Nfxd4', 'Nd3+', 'N5b6', 'gxh4', 'exd6+', 'Nxc2+', 'Bxg1', 'Rxg1', 'Qxh2', 'dxc3+', 'Ncb1', 'Qxd5+', 'Qe1+', 'Nxf1', 'Bxe6+', 'Kxe6', 'Rac8', 'Rxg6', 'Rh6', 'Qc5+', 'Nbc7+', 'Qxa1', 'N2b3', 'Nxa7+', 'Nxh6', 'N4d5', 'gxh6', 'Bxd4+', 'Bxc2', 'Bf7', 'Rd8+', 'Bxh7+', 'Ne5+', 'Bxb4+', 'fxg4', 'Qd4+', 'Ke1', 'N5f3', 'Rxa6', 'Ned7', 'Ba4+', 'Ngxe2', 'Bxd1', 'gxh3', 'Bf2+', 'N2g3', 'Ng7', 'Bxf8', 'Kxf8', 'e6+', 'Bxh2', 'Rxh2', 'exf4+', 'Nge5', 'Nfxd5', 'Nxc7', 'Rh7', 'Nd6#', 'Qxh3', 'Ng5+', 'N5f6', 'Neg5', 'Nxh3', 'Ndc3', 'Qf7#', 'Nfg5+', 'Qxf4', 'Rxc1', 'Nc1', 'Rxh6', 'Ncxe4', 'Ncxe7', 'N5a3', 'Kc8']\n"
     ]
    }
   ],
   "source": [
    "counted16= {k: v for k, v in sorted(count16.items(), key=lambda item: item[1], reverse=True)}\n",
    "counted16_k= [k for k, v in sorted(count16.items(), key=lambda item: item[1], reverse=True)]\n",
    "print( len( counted16_k))\n",
    "print( counted16_k)"
   ]
  },
  {
   "cell_type": "code",
   "execution_count": 18,
   "id": "6829f945",
   "metadata": {},
   "outputs": [
    {
     "name": "stdout",
     "output_type": "stream",
     "text": [
      "424\n",
      "['Nf6', 'Nf3', 'd4', 'e4', 'Nc3', 'd5', 'e6', 'c5', 'c4', 'O-O', 'd6', 'Nc6', 'e5', 'g6', 'Bg7', 'g3', 'cxd4', 'c6', 'Bg2', 'e3', 'Nxd4', 'Be7', 'a6', 'c3', 'Bg5', 'exd5', 'Be2', 'd3', 'Bd3', 'Bc4', 'cxd5', 'Nbd7', 'Bb5', 'b6', 'Bb4', 'Be3', 'f4', 'Bg4', 'Bb7', 'b5', 'Bf5', 'f5', 'b3', 'h6', 'a3', 'Bf4', 'Nxe4', 'dxc4', 'Bc5', 'Bd6', 'exd4', 'Nbd2', 'Nd2', 'h3', 'Bd7', 'Nxd5', 'dxe4', 'Nd7', 'Bb2', 'Qc7', 'Qxd5', 'Nd5', 'Ba4', 'f3', 'Qc2', 'Qb6', 'dxe5', 'Bd2', 'Nge2', 'Re1', 'Bb4+', 'Ne7', 'Ne4', 'Nge7', 'Nfd7', 'a4', 'bxc3', 'Bxc3+', 'Bxc6', 'Nxe5', 'Nxc3', 'Qa5', 'Bxf6', 'Bb5+', 'Qxd4', 'Nb6', 'Ne2', 'Qe2', 'Bb3', 'bxc6', 'Ngf3', 'dxc5', 'Qb3', 'h4', 'Bh4', 'Qd2', 'b4', 'dxc6', 'Qe7', 'Ndb5', 'Ngf6', 'Nxc6', 'Be6', 'Ng3', 'Ne5', 'h5', 'Bg6', 'Bxc4', 'Bxf3', 'f6', 'cxb5', 'Nb5', 'Nb3', 'Nh6', 'Na6', 'Nd4', 'g4', 'dxc3', 'a5', 'Bb6', 'Ng5', 'Bxc3', 'exf6', 'exf4', 'exd6', 'fxe4', 'Ba6', 'Qf6', 'g5', 'Qa4+', 'Ng4', 'gxf6', 'Qa5+', 'Nxf6+', 'Bh5', 'Bxc5', 'Qxf6', 'Na5', 'Bxd3', 'Bxd7+', 'Qd6', 'Bxd2+', 'fxe5', 'Qf3', 'Qxc4', 'Nh3', 'Bxe7', 'Nd6', 'Qxd8+', 'Qd7', 'Qxc3', 'Qxe7', 'bxa6', 'Ng6', 'Qxf3', 'Kxd8', 'Qd3', 'Qd8', 'Bxa6', 'Na3', 'Qg4', 'Qxd7', 'Nce2', 'Rb8', 'Rb1', 'Bxd6', 'Bxc6+', 'exf3', 'Nb4', 'Ba5', 'dxe6', 'Nh4', 'bxc4', 'Qxd3', 'Nxf6', 'exf5', 'Re8', 'Nce7', 'cxd6', 'cxb4', 'Nbc6', 'Nc7', 'Nh5', 'Bxb4', 'Bc6', 'Qa4', 'Bxd4', 'Qc1', 'Qh4', 'Nxb5', 'Bc2', 'Qxc5', 'Nc2', 'Qxd1+', 'Bg3', 'Qh5', 'Ba7', 'Nxd7', 'Qxd2', 'Nxg5', 'N1c3', 'Nxd2', 'axb5', 'Nf5', 'Nxd6', 'Qe3', 'Qxd6', 'Nbxd2', 'Bxf4', 'Nc5', 'O-O-O', 'Nxc4', 'fxe6', 'Nbc3', 'Qc8', 'Qd5', 'Qh5+', 'Ng8', 'Kxf7', 'Bxf7+', 'Qxb2', 'Bxe4', 'Qxb6', 'Qh4+', 'Bf1', 'axb4', 'Qe2+', 'Kf1', 'Qe8', 'Qe7+', 'Nxf3+', 'Bf8', 'Qd1', 'Nfd2', 'Bxe5', 'Bxd7', 'Nec6', 'Nxf7', 'Bxb1', 'Nxf3', 'Bh6', 'Bxb5', 'Nc4', 'Bxe3', 'Bxf5', 'Bxe2', 'Nd6+', 'Qd4', 'Bxe6', 'Na4', 'Nb8', 'Kf8', 'Bxd5', 'Qe6+', 'gxf3', 'bxc5', 'Nf4', 'Nxg4', 'Qxb3', 'Bxd2', 'Bf3', 'exd3', 'Ne8', 'Rc1', 'Bh7', 'Kxd1', 'Qxc6', 'Kf7', 'Qb8', 'Rg8', 'Rxb1', 'cxb3', 'Nxb3', 'Qxe4', 'Nd3', 'hxg5', 'Nxc5', 'Qxe4+', 'Be4', 'Qxd2+', 'Nf7', 'Be5', 'Bxg8', 'fxg2', 'Ndf6', 'fxe3', 'Bf6', 'Ng1', 'Rg1', 'Ngxe5', 'Ndf3', 'fxg3', 'bxa3', 'Nxd8', 'fxg6', 'Nxf5', 'Qxf5', 'Qxg7', 'Qg6', 'Qxe5', 'N6d7', 'Rxg8', 'Nb1', 'Nxh5', 'Ba2', 'Nxb4', 'Kd7', 'Bc1', 'Bc8', 'Nxa6', 'Qg5', 'Qb4+', 'Nf2', 'Ngxe7', 'Qa3', 'Bxg5', 'Qxg5', 'dxe3', 'gxf5', 'Nec3', 'Qxe2', 'Bxc1', 'Ne6', 'Ke7', 'Qxe5+', 'Bxh6', 'Ba3', 'cxd3', 'Qg3', 'Qa6', 'Bxf2+', 'Bxd8', 'hxg6', 'Qf7', 'Nde2', 'Nbxd7', 'Qc5', 'Qc3', 'Qxb4+', 'Rxa1', 'Ned4', 'Bxh5', 'Bd5', 'Bxg7', 'Nxg7', 'Ngxf3', 'Qxe7+', 'Nde7', 'Qe1', 'Ngxe4', 'Bxb8', 'Rxb8', 'Nxe3', 'cxb2', 'Bxb2', 'Kxg8', 'fxg6+', 'Kg7', 'gxh7', 'Qg5+', 'Qa6+', 'Kc7', 'Rh8', 'Qxb7', 'gxh5', 'Qxg2', 'Qe5+', 'Bh4+', 'Qf5', 'Bxh3', 'Qc6', 'Nxg7+', 'Qe4', 'Qf4', 'Bxg1', 'Rxg1', 'Nxd1', 'Kd8', 'gxf4', 'Bf2', 'Bc4+', 'Qe4+', 'axb3', 'Rac8', 'fxg7', 'cxd2+', 'N5c3', 'Rxg6', 'Nxg3', 'Bd4', 'Rxe4', 'Nxb6', 'axb6', 'gxh6', 'fxg4', 'Kh7', 'N5f3', 'Ngxe2', 'Nxa3', 'Kxf2', 'Nce4', 'Ng7', 'Bxh2', 'Qe6', 'exf4+', 'Rxh8+', 'Bxh8', 'Qxb4', 'Bxg2', 'Rh7', 'Bh2', 'Qh6', 'Nd6#', 'Na2', 'Nxe6', 'Ke8', 'Bxa3', 'N8c6', 'Qxd7+', 'Bxg3', 'hxg3', 'Ncxe7', 'N5a3', 'Nxd3+']\n"
     ]
    }
   ],
   "source": [
    "def count_16( pgnfile):\n",
    "    with open(pgnfile) as f:\n",
    "        lines = [line.rstrip() for line in f]\n",
    "\n",
    "    lines= [re.sub(\"[\\[].*?[\\]]\", \"\", ln) for ln in lines]\n",
    "    lines= [ln[8:] for ln in lines]\n",
    "    lines= [ln.split() for ln in lines]\n",
    "\n",
    "    flat_tokens16 = [t for _list in lines for t in _list[0:16]]\n",
    "\n",
    "    count16= Counter( flat_tokens16)\n",
    "\n",
    "    counted16= {k: v for k, v in sorted(count16.items(), key=lambda item: item[1], reverse=True)}\n",
    "    counted16_k= [k for k, v in sorted(count16.items(), key=lambda item: item[1], reverse=True)]\n",
    "    print( len( counted16_k))\n",
    "    print( counted16_k)\n",
    "    \n",
    "count_16( \"C:/mestrado/datasets/unified/vocabulary/vocabulary/from-handmade/pgn_10k_eng.txt\")\n"
   ]
  },
  {
   "cell_type": "code",
   "execution_count": 40,
   "id": "62063232",
   "metadata": {},
   "outputs": [],
   "source": []
  },
  {
   "cell_type": "code",
   "execution_count": 20,
   "id": "42966c9c",
   "metadata": {},
   "outputs": [],
   "source": [
    "def read_label( path):\n",
    "  f= open( path)\n",
    "  d= f.read()\n",
    "  f.close()\n",
    "  return d "
   ]
  },
  {
   "cell_type": "code",
   "execution_count": 54,
   "id": "a96c4602",
   "metadata": {},
   "outputs": [
    {
     "data": {
      "text/plain": [
       "2124"
      ]
     },
     "execution_count": 54,
     "metadata": {},
     "output_type": "execute_result"
    }
   ],
   "source": [
    "files = glob( 'C:/mestrado/datasets/final/datasets_pool/hand/labels/*.pgn')\n",
    "lines = []\n",
    "for f in files:\n",
    "    lines.append( read_label(f))\n",
    "# files = glob( 'C:/mestrado/datasets/final/datasets_pool/torneio-except-test/labels/*.pgn')\n",
    "files = glob( 'C:/mestrado/datasets/final/test-set/new-random-8lines--v1--test-only/new-random-8lines--v1--test-only/test/labels/*.pgn')\n",
    "for f in files:\n",
    "    lines.append( read_label(f))\n",
    "len( lines)"
   ]
  },
  {
   "cell_type": "code",
   "execution_count": 55,
   "id": "bf1094a4",
   "metadata": {},
   "outputs": [
    {
     "name": "stdout",
     "output_type": "stream",
     "text": [
      "175\n",
      "['O-O', 'Nf6', 'Nf3', 'd4', 'Nc3', 'e4', 'e6', 'c5', 'd5', 'Nc6', 'c4', 'd6', 'e5', 'g6', 'Bg7', 'cxd4', 'Be7', 'g3', 'Bg2', 'a6', 'Nxd4', 'e3', 'c6', 'Bd3', 'Be2', 'Bg5', 'Nbd7', 'd3', 'c3', 'exd5', 'Be3', 'cxd5', 'b6', 'Bc4', 'Bb7', 'Nbd2', 'h6', 'b5', 'b3', 'Bb4', 'Qc7', 'f4', 'Bb5', 'h3', 'Re1', 'a3', 'Qd2', 'Bb3', 'Bb2', 'Qc2', 'exd4', 'Bd6', 'Bg4', 'Bd7', 'dxc4', 'Bf4', 'a4', 'Nge2', 'f3', 'Nge7', 'Qb6', 'Nb3', 'Nd2', 'Bf5', 'Ba4', 'Be6', 'Nd7', 'dxc5', 'Bc5', 'Nxd5', 'f5', 'a5', 'Nxe4', 'Bxf6', 'dxe4', 'Bh4', 'Bxc4', 'Ne7', 'Ne2', 'Nfd7', 'Re8', 'Nxc6', 'bxc6', 'Qxd4', 'Qe2', 'Ne5', 'Qb3', 'Qa5', 'Na6', 'Bxc6', 'b4', 'Bd2', 'Nb6', 'bxc3', 'Qxd5', 'Bxc5', 'Ne4', 'Bxc3+', 'Ngf3', 'Qe7', 'Nd5', 'Rb8', 'Bb4+', 'Rb1', 'Bb5+', 'dxc6', 'O-O-O', 'h5', 'Nd4', 'Na5', 'Bxc3', 'Nxe5', 'Ngf6', 'exf6', 'f6', 'g5', 'Qd3', 'gxf6', 'Qf3', 'Qd6', 'Nh5', 'Qxf6', 'Bg3', 'Nb5', 'Qa4', 'Nc5', 'Qd7', 'Bxd6', 'Ng5', 'h4', 'Qe1', 'Qd1', 'Ndb5', 'Nxf6+', 'Nb4', 'Qe8', 'Ba7', 'Nce7', 'Qf6', 'Qxd6', 'Qxc4', 'Qa5+', 'Rc8', 'Nc2', 'dxc3', 'cxd6', 'Ba5', 'Nd6+', 'Qxd8+', 'Kxd8', 'Bxd2+', 'Nbxd2', 'Qg6', 'Ne1', 'Bxb4', 'Qd4', 'Qxb2', 'Bh6', 'Na4', 'Qh4', 'Bxd7+', 'Nxd7', 'Nde2', 'Qd5', 'Nf1', 'Qxe4+', 'cxb3', 'Bh7', 'Qxc7', 'Be5', 'Qc3', 'Bf3', 'Qxb3', 'Bxc7', 'Kd8']\n"
     ]
    }
   ],
   "source": [
    "_lines= [ln.split() for ln in lines]\n",
    "\n",
    "flat_tokens16 = [t for _list in _lines for t in _list[0:16]]\n",
    "\n",
    "count16= Counter( flat_tokens16)\n",
    "\n",
    "counted16= {k: v for k, v in sorted(count16.items(), key=lambda item: item[1], reverse=True)}\n",
    "counted16_k= [k for k, v in sorted(count16.items(), key=lambda item: item[1], reverse=True)]\n",
    "print( len( counted16_k))\n",
    "print( counted16_k)"
   ]
  },
  {
   "cell_type": "code",
   "execution_count": 123,
   "id": "9ca6d018",
   "metadata": {},
   "outputs": [
    {
     "name": "stdout",
     "output_type": "stream",
     "text": [
      "C:/mestrado/datasets/final/datasets_pool/hand/labels/*.pgn\n",
      "C:/mestrado/datasets/final/datasets_pool/torneio-except-test/labels/*.pgn\n",
      "C:/mestrado/datasets/final/test-set/new-random-8lines--v1--test-only/new-random-8lines--v1--test-only/test/labels/*.pgn\n",
      "2502\n",
      "['C:/mestrado/datasets/final/datasets_pool/hand/labels\\\\a3__d5__d4__Nf6_5742_1494_R_part3_scan0145.pgn', 'C:/mestrado/datasets/final/datasets_pool/hand/labels\\\\a3__d5__d4__Nf6_5742_2491_L_part3_scan0644.pgn']\n",
      "237\n",
      "['O-O', 'Nf6', 'Nf3', 'd4', 'Nc3', 'e4', 'c5', 'Nc6', 'e6', 'd5', 'd6', 'c4', 'e5', 'g6', 'Bg7', 'cxd4', 'Be7', 'g3', 'Bg2', 'Nxd4', 'a6', 'e3', 'c6', 'Bd3', 'Be2', 'd3', 'c3', 'Bg5', 'Nbd7', 'Be3', 'exd5', 'cxd5', 'b6', 'Bc4', 'Bb7', 'Nbd2', 'b3', 'h6', 'b5', 'Bb4', 'h3', 'Bb5', 'Qc7', 'f4', 'Re1', 'Bb2', 'Qd2', 'a3', 'Bb3', 'Bg4', 'Qc2', 'Bd6', 'Bf4', 'Bd7', 'exd4', 'dxc4', 'Nge2', 'Nge7', 'a4', 'f3', 'Qb6', 'Nxd5', 'Bf5', 'Bc5', 'Nd2', 'Be6', 'Nd7', 'Nb3', 'Ba4', 'f5', 'dxe4', 'dxc5', 'a5', 'Nxe4', 'Bxf6', 'bxc6', 'Ne7', 'Bh4', 'Nfd7', 'Ne2', 'Nxc6', 'Bxc4', 'Nb6', 'Qb3', 'Bd2', 'Re8', 'Ne5', 'Qe2', 'Qxd4', 'Bxc6', 'bxc3', 'b4', 'Qa5', 'Na6', 'Nd5', 'Bxc3+', 'Ngf3', 'Qxd5', 'Ne4', 'Bxc5', 'Qe7', 'Rb8', 'Bb4+', 'Bb5+', 'dxc6', 'O-O-O', 'Nd4', 'Rb1', 'Ngf6', 'Bxc3', 'Nxe5', 'h5', 'exf6', 'f6', 'Na5', 'g5', 'Qf3', 'gxf6', 'Nh5', 'Qd3', 'Qd7', 'Qd6', 'Qa4', 'Bg3', 'Qxf6', 'Nb5', 'Bxd6', 'Ng5', 'Nxf6+', 'Nc5', 'h4', 'Ba7', 'Nce7', 'Nb4', 'Qa5+', 'Ndb5', 'Qe1', 'Qd1', 'Qxd6', 'Qe8', 'Qf6', 'Qxc4', 'dxc3', 'cxd6', 'Rc8', 'Nc2', 'Ba5', 'Bxb4', 'Nxd7', 'dxe5', 'Nxc3', 'Bxf3', 'Ne1', 'Bxd7+', 'Bxd2+', 'Nbxd2', 'Bh6', 'Nd6+', 'Nde2', 'Ng4', 'Qxd8+', 'Kxd8', 'Qd4', 'Qg6', 'Na4', 'Bh5', 'g4', 'Bf3', 'Qh4', 'Bh7', 'Qxb2', 'Qd5', 'Qxd7', 'Qxe4+', 'cxb3', 'Nf1', 'Nh4', 'Qxc7', 'Bxd4', 'Bxc6+', 'Qxc3', 'Bxb7', 'Qc3', 'Bxd3', 'Bb6', 'Bh3', 'Ng6', 'Bc2', 'Na3', 'Bxe4', 'Bxg7', 'Kxg7', 'exd6', 'exf5', 'Be5', 'Bg6', 'Qxb3', 'Bxc7', 'N1c3', 'Qg4', 'cxb4', 'Ra7', 'Qc1', 'Nxc4', 'Kd8', 'Nf5', 'Ba6', 'Nce2', 'Qxb7', 'Be4', 'Nxf4', 'Nc4', 'Qc5', 'Ne6', 'fxe4', 'Qg5', 'Nf7', 'Qxg2', 'Qa4+', 'Qh5+', 'Bxg2', 'Nxg2', 'fxe5', 'Qxf3', 'Qxd3', 'Nxg3', 'hxg3', 'Bxf4', 'exf4', 'Re1+', 'Qe3', 'Nc7', 'Bxf5', 'gxf5', 'Qxb6', 'axb6', 'Nxf6']\n"
     ]
    }
   ],
   "source": [
    "def read_files( paths):\n",
    "    files = []\n",
    "    for path in paths:\n",
    "        print ( path)\n",
    "        path_files = glob( path)\n",
    "        for f in path_files:\n",
    "            files.append( f)\n",
    "    return files\n",
    "\n",
    "files = read_files( [\n",
    "    'C:/mestrado/datasets/final/datasets_pool/hand/labels/*.pgn',\n",
    "    'C:/mestrado/datasets/final/datasets_pool/torneio-except-test/labels/*.pgn',\n",
    "    'C:/mestrado/datasets/final/test-set/new-random-8lines--v1--test-only/new-random-8lines--v1--test-only/test/labels/*.pgn'\n",
    "])\n",
    "print( len( files))\n",
    "print( files[0:2])\n",
    "lines = []\n",
    "for f in files:\n",
    "    lines.append( read_label(f))\n",
    "\n",
    "_lines= [ln.split() for ln in lines]\n",
    "\n",
    "flat_tokens16 = [t for _list in _lines for t in _list[0:]]\n",
    "\n",
    "count16= Counter( flat_tokens16)\n",
    "\n",
    "counted16= {k: v for k, v in sorted(count16.items(), key=lambda item: item[1], reverse=True)}\n",
    "counted16_k= [k for k, v in sorted(count16.items(), key=lambda item: item[1], reverse=True)]\n",
    "print( len( counted16_k))\n",
    "print( counted16_k)"
   ]
  },
  {
   "cell_type": "code",
   "execution_count": 116,
   "id": "17e32e21",
   "metadata": {},
   "outputs": [],
   "source": [
    "lance_1 = counted16_k    #todos"
   ]
  },
  {
   "cell_type": "code",
   "execution_count": 119,
   "id": "8009906c",
   "metadata": {},
   "outputs": [],
   "source": [
    "lance_2 = counted16_k   # manual + teste"
   ]
  },
  {
   "cell_type": "code",
   "execution_count": 128,
   "id": "8a460f37",
   "metadata": {},
   "outputs": [
    {
     "data": {
      "text/plain": [
       "'Ba4,Ba5,Ba6,Ba7,Bb2,Bb3,Bb4,Bb4+,Bb5,Bb5+,Bb6,Bb7,Bc2,Bc4,Bc5,Bd2,Bd3,Bd6,Bd7,Be2,Be3,Be4,Be5,Be6,Be7,Bf3,Bf4,Bf5,Bg2,Bg3,Bg4,Bg5,Bg6,Bg7,Bh3,Bh4,Bh5,Bh6,Bh7,Bxb4,Bxb7,Bxc3,Bxc3+,Bxc4,Bxc5,Bxc6,Bxc6+,Bxc7,Bxd2+,Bxd3,Bxd4,Bxd6,Bxd7+,Bxe4,Bxf3,Bxf4,Bxf5,Bxf6,Bxg2,Bxg7,Kd8,Kxd8,Kxg7,N1c3,Na3,Na4,Na5,Na6,Nb3,Nb4,Nb5,Nb6,Nbd2,Nbd7,Nbxd2,Nc2,Nc3,Nc4,Nc5,Nc6,Nc7,Nce2,Nce7,Nd2,Nd4,Nd5,Nd6+,Nd7,Ndb5,Nde2,Ne1,Ne2,Ne4,Ne5,Ne6,Ne7,Nf1,Nf3,Nf5,Nf6,Nf7,Nfd7,Ng4,Ng5,Ng6,Nge2,Nge7,Ngf3,Ngf6,Nh4,Nh5,Nxc3,Nxc4,Nxc6,Nxd4,Nxd5,Nxd7,Nxe4,Nxe5,Nxf4,Nxf6,Nxf6+,Nxg2,Nxg3,O-O,O-O-O,Qa4,Qa4+,Qa5,Qa5+,Qb3,Qb6,Qc1,Qc2,Qc3,Qc5,Qc7,Qd1,Qd2,Qd3,Qd4,Qd5,Qd6,Qd7,Qe1,Qe2,Qe3,Qe7,Qe8,Qf3,Qf6,Qg4,Qg5,Qg6,Qh4,Qh5+,Qxb2,Qxb3,Qxb6,Qxb7,Qxc3,Qxc4,Qxc7,Qxd3,Qxd4,Qxd5,Qxd6,Qxd7,Qxd8+,Qxe4+,Qxf3,Qxf6,Qxg2,Ra7,Rb1,Rb8,Rc8,Re1,Re1+,Re8,a3,a4,a5,a6,axb6,b3,b4,b5,b6,bxc3,bxc6,c3,c4,c5,c6,cxb3,cxb4,cxd4,cxd5,cxd6,d3,d4,d5,d6,dxc3,dxc4,dxc5,dxc6,dxe4,dxe5,e3,e4,e5,e6,exd4,exd5,exd6,exf4,exf5,exf6,f3,f4,f5,f6,fxe4,fxe5,g3,g4,g5,g6,gxf5,gxf6,h3,h4,h5,h6,hxg3'"
      ]
     },
     "execution_count": 128,
     "metadata": {},
     "output_type": "execute_result"
    }
   ],
   "source": [
    "','.join( sorted( lance_1))"
   ]
  },
  {
   "cell_type": "code",
   "execution_count": 129,
   "id": "53f1693f",
   "metadata": {},
   "outputs": [
    {
     "data": {
      "text/plain": [
       "'Ba4,Ba5,Ba7,Bb2,Bb3,Bb4,Bb4+,Bb5,Bb5+,Bb7,Bc4,Bc5,Bd2,Bd3,Bd6,Bd7,Be2,Be3,Be5,Be6,Be7,Bf3,Bf4,Bf5,Bg2,Bg3,Bg4,Bg5,Bg7,Bh4,Bh6,Bh7,Bxb4,Bxc3,Bxc3+,Bxc4,Bxc5,Bxc6,Bxc7,Bxd2+,Bxd6,Bxd7+,Bxf6,Kd8,Kxd8,Na4,Na5,Na6,Nb3,Nb4,Nb5,Nb6,Nbd2,Nbd7,Nbxd2,Nc2,Nc3,Nc5,Nc6,Nce7,Nd2,Nd4,Nd5,Nd6+,Nd7,Ndb5,Nde2,Ne1,Ne2,Ne4,Ne5,Ne7,Nf1,Nf3,Nf6,Nfd7,Ng5,Nge2,Nge7,Ngf3,Ngf6,Nh5,Nxc6,Nxd4,Nxd5,Nxd7,Nxe4,Nxe5,Nxf6+,O-O,O-O-O,Qa4,Qa5,Qa5+,Qb3,Qb6,Qc2,Qc3,Qc7,Qd1,Qd2,Qd3,Qd4,Qd5,Qd6,Qd7,Qe1,Qe2,Qe7,Qe8,Qf3,Qf6,Qg6,Qh4,Qxb2,Qxb3,Qxc4,Qxc7,Qxd4,Qxd5,Qxd6,Qxd8+,Qxe4+,Qxf6,Rb1,Rb8,Rc8,Re1,Re8,a3,a4,a5,a6,b3,b4,b5,b6,bxc3,bxc6,c3,c4,c5,c6,cxb3,cxd4,cxd5,cxd6,d3,d4,d5,d6,dxc3,dxc4,dxc5,dxc6,dxe4,e3,e4,e5,e6,exd4,exd5,exf6,f3,f4,f5,f6,g3,g5,g6,gxf6,h3,h4,h5,h6'"
      ]
     },
     "execution_count": 129,
     "metadata": {},
     "output_type": "execute_result"
    }
   ],
   "source": [
    "','.join( sorted( lance_2))"
   ]
  },
  {
   "cell_type": "code",
   "execution_count": 130,
   "id": "b9d6b22a",
   "metadata": {},
   "outputs": [
    {
     "data": {
      "text/plain": [
       "'Ba6,Bb6,Bc2,Be4,Bg6,Bh3,Bh5,Bxb7,Bxc6+,Bxd3,Bxd4,Bxe4,Bxf3,Bxf4,Bxf5,Bxg2,Bxg7,Kxg7,N1c3,Na3,Nc4,Nc7,Nce2,Ne6,Nf5,Nf7,Ng4,Ng6,Nh4,Nxc3,Nxc4,Nxf4,Nxf6,Nxg2,Nxg3,Qa4+,Qc1,Qc5,Qe3,Qg4,Qg5,Qh5+,Qxb6,Qxb7,Qxc3,Qxd3,Qxd7,Qxf3,Qxg2,Ra7,Re1+,axb6,cxb4,dxe5,exd6,exf4,exf5,fxe4,fxe5,g4,gxf5,hxg3'"
      ]
     },
     "execution_count": 130,
     "metadata": {},
     "output_type": "execute_result"
    }
   ],
   "source": [
    "','.join( sorted( [w for w in lance_1 if w not in lance_2]))"
   ]
  },
  {
   "cell_type": "code",
   "execution_count": 131,
   "id": "1548d332",
   "metadata": {},
   "outputs": [
    {
     "data": {
      "text/plain": [
       "62"
      ]
     },
     "execution_count": 131,
     "metadata": {},
     "output_type": "execute_result"
    }
   ],
   "source": [
    "len( [w for w in lance_1 if w not in lance_2])"
   ]
  },
  {
   "cell_type": "code",
   "execution_count": 121,
   "id": "1a178b3f",
   "metadata": {},
   "outputs": [
    {
     "data": {
      "text/plain": [
       "[]"
      ]
     },
     "execution_count": 121,
     "metadata": {},
     "output_type": "execute_result"
    }
   ],
   "source": [
    "[w for w in lance_2 if w not in lance_1]"
   ]
  },
  {
   "cell_type": "code",
   "execution_count": null,
   "id": "ef1fb0f6",
   "metadata": {},
   "outputs": [],
   "source": [
    "C:\\mestrado\\datasets\\final\\datasets_pool\\torneio-all\\labels\\*.pgn"
   ]
  },
  {
   "cell_type": "code",
   "execution_count": 75,
   "id": "1afdbf50",
   "metadata": {},
   "outputs": [],
   "source": [
    "files_test_all=get_files('C:/mestrado/repos-github/chess-attention/dataset-builder/pool_8lines/torneio-except-test/labels/*.pgn')\n",
    "files_test_except=('C:/mestrado/repos-github/chess-attention/dataset-builder/pool_8lines/torneio-all/labels/*.pgn')\n",
    "files_test= ('C:/mestrado/datasets/final/test-set/new-random-8lines--v1--test-only/new-random-8lines--v1--test-only/test/labels/*.pgn')"
   ]
  },
  {
   "cell_type": "code",
   "execution_count": 76,
   "id": "520843f5",
   "metadata": {},
   "outputs": [
    {
     "data": {
      "text/plain": [
       "['carnaval_0001_line_1_8.pgn',\n",
       " 'carnaval_0002_line_1_8.pgn',\n",
       " 'carnaval_0003_line_1_8.pgn',\n",
       " 'carnaval_0005_line_1_8.pgn',\n",
       " 'carnaval_0007_line_1_8.pgn',\n",
       " 'carnaval_0013_line_1_8.pgn',\n",
       " 'carnaval_0016_line_1_8.pgn',\n",
       " 'carnaval_0017_line_1_8.pgn',\n",
       " 'carnaval_0020_line_1_8.pgn',\n",
       " 'carnaval_0021_line_1_8.pgn',\n",
       " 'carnaval_0024_line_1_8.pgn',\n",
       " 'carnaval_0025_line_1_8.pgn',\n",
       " 'carnaval_0026_line_1_8.pgn',\n",
       " 'carnaval_0027_line_1_8.pgn',\n",
       " 'carnaval_0030_line_1_8.pgn',\n",
       " 'carnaval_0035_line_1_8.pgn',\n",
       " 'carnaval_0037_line_1_8.pgn',\n",
       " 'carnaval_0039_line_1_8.pgn',\n",
       " 'carnaval_0041_line_1_8.pgn',\n",
       " 'carnaval_0043_line_1_8.pgn',\n",
       " 'carnaval_0044_line_1_8.pgn',\n",
       " 'carnaval_0045_line_1_8.pgn',\n",
       " 'carnaval_0046_line_1_8.pgn',\n",
       " 'carnaval_0047_line_1_8.pgn',\n",
       " 'carnaval_0048_line_1_8.pgn',\n",
       " 'carnaval_0049_line_1_8.pgn',\n",
       " 'carnaval_0050_line_1_8.pgn',\n",
       " 'carnaval_0052_line_1_8.pgn',\n",
       " 'carnaval_0053_line_1_8.pgn',\n",
       " 'carnaval_0054_line_1_8.pgn',\n",
       " 'carnaval_0057_line_1_8.pgn',\n",
       " 'carnaval_0060_line_1_8.pgn',\n",
       " 'carnaval_0061_line_1_8.pgn',\n",
       " 'carnaval_0063_line_1_8.pgn',\n",
       " 'carnaval_0073_line_1_8.pgn',\n",
       " 'carnaval_0074_line_1_8.pgn',\n",
       " 'carnaval_0075_line_1_8.pgn',\n",
       " 'carnaval_0076_line_1_8.pgn',\n",
       " 'carnaval_0077_line_1_8.pgn',\n",
       " 'carnaval_0078_line_1_8.pgn',\n",
       " 'carnaval_0079_line_1_8.pgn',\n",
       " 'carnaval_0080_line_1_8.pgn',\n",
       " 'carnaval_0081_line_1_8.pgn',\n",
       " 'carnaval_0083_line_1_8.pgn',\n",
       " 'carnaval_0084_line_1_8.pgn',\n",
       " 'carnaval_0088_line_1_8.pgn',\n",
       " 'carnaval_0089_line_1_8.pgn',\n",
       " 'carnaval_0093_line_1_8.pgn',\n",
       " 'carnaval_0094_line_1_8.pgn',\n",
       " 'carnaval_0096_line_1_8.pgn',\n",
       " 'carnaval_0097_line_1_8.pgn',\n",
       " 'carnaval_0098_line_1_8.pgn',\n",
       " 'carnaval_0100_line_1_8.pgn',\n",
       " 'carnaval_0101_line_1_8.pgn',\n",
       " 'carnaval_0105_line_1_8.pgn',\n",
       " 'carnaval_0108_line_1_8.pgn',\n",
       " 'carnaval_0110_line_1_8.pgn',\n",
       " 'carnaval_0111_line_1_8.pgn',\n",
       " 'carnaval_0112_line_1_8.pgn',\n",
       " 'carnaval_0115_line_1_8.pgn',\n",
       " 'carnaval_0116_line_1_8.pgn',\n",
       " 'carnaval_0117_line_1_8.pgn',\n",
       " 'carnaval_0118_line_1_8.pgn',\n",
       " 'carnaval_0119_line_1_8.pgn',\n",
       " 'carnaval_0120_line_1_8.pgn',\n",
       " 'carnaval_0122_line_1_8.pgn',\n",
       " 'carnaval_0125_line_1_8.pgn',\n",
       " 'carnaval_0128_line_1_8.pgn',\n",
       " 'carnaval_0129_line_1_8.pgn',\n",
       " 'carnaval_0131_line_1_8.pgn',\n",
       " 'carnaval_0132_line_1_8.pgn',\n",
       " 'carnaval_0133_line_1_8.pgn',\n",
       " 'carnaval_0134_line_1_8.pgn',\n",
       " 'carnaval_0135_line_1_8.pgn',\n",
       " 'carnaval_0137_line_1_8.pgn',\n",
       " 'carnaval_0138_line_1_8.pgn',\n",
       " 'carnaval_0140_line_1_8.pgn',\n",
       " 'carnaval_0142_line_1_8.pgn',\n",
       " 'carnaval_0145_line_1_8.pgn',\n",
       " 'carnaval_0146_line_1_8.pgn',\n",
       " 'carnaval_0148_line_1_8.pgn',\n",
       " 'carnaval_0149_line_1_8.pgn',\n",
       " 'carnaval_0152_line_1_8.pgn',\n",
       " 'carnaval_0154_line_1_8.pgn',\n",
       " 'carnaval_0158_line_1_8.pgn',\n",
       " 'carnaval_0162_line_1_8.pgn',\n",
       " 'carnaval_0163_line_1_8.pgn',\n",
       " 'carnaval_0166_line_1_8.pgn',\n",
       " 'carnaval_0167_line_1_8.pgn',\n",
       " 'carnaval_0173_line_1_8.pgn',\n",
       " 'carnaval_0175_line_1_8.pgn',\n",
       " 'carnaval_0177_line_1_8.pgn',\n",
       " 'carnaval_0178_line_1_8.pgn',\n",
       " 'carnaval_0179_line_1_8.pgn',\n",
       " 'carnaval_0182_line_1_8.pgn',\n",
       " 'carnaval_0183_line_1_8.pgn',\n",
       " 'carnaval_0184_line_1_8.pgn',\n",
       " 'carnaval_0185_line_1_8.pgn',\n",
       " 'carnaval_0187_line_1_8.pgn',\n",
       " 'carnaval_0190_line_1_8.pgn',\n",
       " 'carnaval_0191_line_1_8.pgn',\n",
       " 'carnaval_0192_line_1_8.pgn',\n",
       " 'carnaval_0193_line_1_8.pgn',\n",
       " 'carnaval_0194_line_1_8.pgn',\n",
       " 'carnaval_0195_line_1_8.pgn',\n",
       " 'carnaval_0197_line_1_8.pgn',\n",
       " 'carnaval_0199_line_1_8.pgn',\n",
       " 'carnaval_0205_line_1_8.pgn',\n",
       " 'carnaval_0206_line_1_8.pgn',\n",
       " 'carnaval_0211_line_1_8.pgn',\n",
       " 'carnaval_0214_line_1_8.pgn',\n",
       " 'carnaval_0216_line_1_8.pgn',\n",
       " 'carnaval_0217_line_1_8.pgn',\n",
       " 'carnaval_0221_line_1_8.pgn',\n",
       " 'carnaval_0222_line_1_8.pgn',\n",
       " 'carnaval_0224_line_1_8.pgn',\n",
       " 'carnaval_0225_line_1_8.pgn',\n",
       " 'carnaval_0226_line_1_8.pgn',\n",
       " 'carnaval_0228_line_1_8.pgn',\n",
       " 'carnaval_0229_line_1_8.pgn',\n",
       " 'carnaval_0231_line_1_8.pgn',\n",
       " 'carnaval_0236_line_1_8.pgn',\n",
       " 'carnaval_0237_line_1_8.pgn',\n",
       " 'carnaval_0238_line_1_8.pgn',\n",
       " 'carnaval_0239_line_1_8.pgn',\n",
       " 'carnaval_0244_line_1_8.pgn',\n",
       " 'carnaval_0246_line_1_8.pgn',\n",
       " 'carnaval_0248_line_1_8.pgn',\n",
       " 'carnaval_0249_line_1_8.pgn',\n",
       " 'carnaval_0251_line_1_8.pgn',\n",
       " 'carnaval_0253_line_1_8.pgn',\n",
       " 'carnaval_0254_line_1_8.pgn',\n",
       " 'carnaval_0257_line_1_8.pgn',\n",
       " 'carnaval_0260_line_1_8.pgn',\n",
       " 'carnaval_0261_line_1_8.pgn',\n",
       " 'carnaval_0264_line_1_8.pgn',\n",
       " 'carnaval_0265_line_1_8.pgn',\n",
       " 'carnaval_0266_line_1_8.pgn',\n",
       " 'carnaval_0267_line_1_8.pgn',\n",
       " 'carnaval_0269_line_1_8.pgn',\n",
       " 'carnaval_0270_line_1_8.pgn',\n",
       " 'carnaval_0274_line_1_8.pgn',\n",
       " 'carnaval_0276_line_1_8.pgn',\n",
       " 'carnaval_0280_line_1_8.pgn',\n",
       " 'carnaval_0281_line_1_8.pgn',\n",
       " 'carnaval_0285_line_1_8.pgn',\n",
       " 'carnaval_0288_line_1_8.pgn',\n",
       " 'carnaval_0289_line_1_8.pgn',\n",
       " 'carnaval_0290_line_1_8.pgn',\n",
       " 'carnaval_0296_line_1_8.pgn',\n",
       " 'carnaval_0299_line_1_8.pgn',\n",
       " 'carnaval_0301_line_1_8.pgn',\n",
       " 'carnaval_0302_line_1_8.pgn',\n",
       " 'carnaval_0303_line_1_8.pgn',\n",
       " 'carnaval_0305_line_1_8.pgn',\n",
       " 'carnaval_0308_line_1_8.pgn',\n",
       " 'carnaval_0309_line_1_8.pgn',\n",
       " 'carnaval_0310_line_1_8.pgn',\n",
       " 'carnaval_0313_line_1_8.pgn',\n",
       " 'carnaval_0315_line_1_8.pgn',\n",
       " 'carnaval_0316_line_1_8.pgn',\n",
       " 'carnaval_0317_line_1_8.pgn',\n",
       " 'carnaval_0318_line_1_8.pgn',\n",
       " 'carnaval_0319_line_1_8.pgn',\n",
       " 'carnaval_0320_line_1_8.pgn',\n",
       " 'carnaval_0321_line_1_8.pgn',\n",
       " 'carnaval_0322_line_1_8.pgn',\n",
       " 'carnaval_0323_line_1_8.pgn',\n",
       " 'carnaval_0327_line_1_8.pgn',\n",
       " 'carnaval_0329_line_1_8.pgn',\n",
       " 'carnaval_0331_line_1_8.pgn',\n",
       " 'carnaval_0336_line_1_8.pgn',\n",
       " 'carnaval_0337_line_1_8.pgn',\n",
       " 'carnaval_0338_line_1_8.pgn',\n",
       " 'carnaval_0339_line_1_8.pgn',\n",
       " 'carnaval_0340_line_1_8.pgn',\n",
       " 'carnaval_0342_line_1_8.pgn',\n",
       " 'carnaval_0343_line_1_8.pgn',\n",
       " 'carnaval_0344_line_1_8.pgn',\n",
       " 'carnaval_0345_line_1_8.pgn',\n",
       " 'carnaval_0346_line_1_8.pgn',\n",
       " 'carnaval_0348_line_1_8.pgn',\n",
       " 'carnaval_0349_line_1_8.pgn',\n",
       " 'carnaval_0353_line_1_8.pgn',\n",
       " 'carnaval_0358_line_1_8.pgn',\n",
       " 'carnaval_0359_line_1_8.pgn',\n",
       " 'carnaval_0363_line_1_8.pgn',\n",
       " 'carnaval_0364_line_1_8.pgn',\n",
       " 'carnaval_0365_line_1_8.pgn',\n",
       " 'carnaval_0366_line_1_8.pgn',\n",
       " 'carnaval_0368_line_1_8.pgn',\n",
       " 'carnaval_0369_line_1_8.pgn',\n",
       " 'carnaval_0374_line_1_8.pgn',\n",
       " 'carnaval_0376_line_1_8.pgn',\n",
       " 'carnaval_0378_line_1_8.pgn',\n",
       " 'carnaval_0380_line_1_8.pgn',\n",
       " 'carnaval_0381_line_1_8.pgn',\n",
       " 'carnaval_0382_line_1_8.pgn',\n",
       " 'carnaval_0383_line_1_8.pgn',\n",
       " 'carnaval_0384_line_1_8.pgn',\n",
       " 'carnaval_0385_line_1_8.pgn',\n",
       " 'carnaval_0386_line_1_8.pgn',\n",
       " 'carnaval_0387_line_1_8.pgn',\n",
       " 'carnaval_0388_line_1_8.pgn',\n",
       " 'carnaval_0389_line_1_8.pgn',\n",
       " 'carnaval_0390_line_1_8.pgn',\n",
       " 'carnaval_0391_line_1_8.pgn',\n",
       " 'carnaval_0392_line_1_8.pgn',\n",
       " 'carnaval_0393_line_1_8.pgn',\n",
       " 'carnaval_0394_line_1_8.pgn',\n",
       " 'carnaval_0396_line_1_8.pgn',\n",
       " 'carnaval_0397_line_1_8.pgn',\n",
       " 'carnaval_0398_line_1_8.pgn',\n",
       " 'carnaval_0399_line_1_8.pgn',\n",
       " 'carnaval_0402_line_1_8.pgn',\n",
       " 'carnaval_0403_line_1_8.pgn',\n",
       " 'carnaval_0405_line_1_8.pgn',\n",
       " 'carnaval_0406_line_1_8.pgn',\n",
       " 'carnaval_0409_line_1_8.pgn',\n",
       " 'carnaval_0411_line_1_8.pgn',\n",
       " 'carnaval_0414_line_1_8.pgn',\n",
       " 'carnaval_0415_line_1_8.pgn',\n",
       " 'carnaval_0417_line_1_8.pgn',\n",
       " 'carnaval_0419_line_1_8.pgn',\n",
       " 'carnaval_0421_line_1_8.pgn',\n",
       " 'carnaval_0424_line_1_8.pgn',\n",
       " 'carnaval_0427_line_1_8.pgn',\n",
       " 'carnaval_0428_line_1_8.pgn',\n",
       " 'carnaval_0429_line_1_8.pgn',\n",
       " 'carnaval_0430_line_1_8.pgn',\n",
       " 'carnaval_0432_line_1_8.pgn',\n",
       " 'carnaval_0433_line_1_8.pgn',\n",
       " 'carnaval_0434_line_1_8.pgn',\n",
       " 'carnaval_0435_line_1_8.pgn',\n",
       " 'carnaval_0436_line_1_8.pgn',\n",
       " 'carnaval_0437_line_1_8.pgn',\n",
       " 'carnaval_0438_line_1_8.pgn',\n",
       " 'carnaval_0439_line_1_8.pgn',\n",
       " 'carnaval_0441_line_1_8.pgn',\n",
       " 'carnaval_0443_line_1_8.pgn',\n",
       " 'carnaval_0446_line_1_8.pgn',\n",
       " 'carnaval_0448_line_1_8.pgn',\n",
       " 'carnaval_0452_line_1_8.pgn',\n",
       " 'carnaval_0453_line_1_8.pgn',\n",
       " 'carnaval_0454_line_1_8.pgn',\n",
       " 'carnaval_0457_line_1_8.pgn',\n",
       " 'carnaval_0458_line_1_8.pgn',\n",
       " 'carnaval_0459_line_1_8.pgn',\n",
       " 'carnaval_0462_line_1_8.pgn',\n",
       " 'carnaval_0463_line_1_8.pgn',\n",
       " 'carnaval_0468_line_1_8.pgn',\n",
       " 'carnaval_0469_line_1_8.pgn',\n",
       " 'carnaval_0470_line_1_8.pgn',\n",
       " 'carnaval_0471_line_1_8.pgn',\n",
       " 'carnaval_0472_line_1_8.pgn',\n",
       " 'carnaval_0475_line_1_8.pgn',\n",
       " 'carnaval_0476_line_1_8.pgn',\n",
       " 'carnaval_0477_line_1_8.pgn',\n",
       " 'carnaval_0479_line_1_8.pgn',\n",
       " 'carnaval_0480_line_1_8.pgn',\n",
       " 'carnaval_0481_line_1_8.pgn',\n",
       " 'carnaval_0482_line_1_8.pgn',\n",
       " 'carnaval_0486_line_1_8.pgn',\n",
       " 'carnaval_0488_line_1_8.pgn',\n",
       " 'carnaval_0489_line_1_8.pgn',\n",
       " 'carnaval_0490_line_1_8.pgn',\n",
       " 'carnaval_0492_line_1_8.pgn',\n",
       " 'carnaval_0493_line_1_8.pgn',\n",
       " 'carnaval_0495_line_1_8.pgn',\n",
       " 'carnaval_0496_line_1_8.pgn',\n",
       " 'carnaval_0497_line_1_8.pgn',\n",
       " 'carnaval_0498_line_1_8.pgn',\n",
       " 'carnaval_0500_line_1_8.pgn',\n",
       " 'carnaval_0502_line_1_8.pgn',\n",
       " 'carnaval_0504_line_1_8.pgn',\n",
       " 'carnaval_0505_line_1_8.pgn',\n",
       " 'carnaval_0506_line_1_8.pgn',\n",
       " 'carnaval_0508_line_1_8.pgn',\n",
       " 'carnaval_0510_line_1_8.pgn',\n",
       " 'carnaval_0511_line_1_8.pgn',\n",
       " 'carnaval_0512_line_1_8.pgn',\n",
       " 'carnaval_0513_line_1_8.pgn',\n",
       " 'carnaval_0515_line_1_8.pgn',\n",
       " 'carnaval_0516_line_1_8.pgn',\n",
       " 'carnaval_0519_line_1_8.pgn',\n",
       " 'carnaval_0521_line_1_8.pgn',\n",
       " 'carnaval_0523_line_1_8.pgn',\n",
       " 'carnaval_0524_line_1_8.pgn',\n",
       " 'carnaval_0525_line_1_8.pgn',\n",
       " 'carnaval_0526_line_1_8.pgn',\n",
       " 'carnaval_0527_line_1_8.pgn',\n",
       " 'carnaval_0529_line_1_8.pgn',\n",
       " 'carnaval_0531_line_1_8.pgn',\n",
       " 'carnaval_0535_line_1_8.pgn',\n",
       " 'carnaval_0536_line_1_8.pgn',\n",
       " 'carnaval_0537_line_1_8.pgn',\n",
       " 'carnaval_0539_line_1_8.pgn',\n",
       " 'carnaval_0541_line_1_8.pgn',\n",
       " 'carnaval_0543_line_1_8.pgn',\n",
       " 'carnaval_0546_line_1_8.pgn',\n",
       " 'carnaval_0548_line_1_8.pgn',\n",
       " 'carnaval_0549_line_1_8.pgn',\n",
       " 'carnaval_0552_line_1_8.pgn',\n",
       " 'carnaval_0556_line_1_8.pgn',\n",
       " 'carnaval_0557_line_1_8.pgn',\n",
       " 'carnaval_0558_line_1_8.pgn',\n",
       " 'carnaval_0559_line_1_8.pgn',\n",
       " 'carnaval_0561_line_1_8.pgn',\n",
       " 'carnaval_0562_line_1_8.pgn',\n",
       " 'carnaval_0563_line_1_8.pgn',\n",
       " 'carnaval_0566_line_1_8.pgn',\n",
       " 'carnaval_0567_line_1_8.pgn',\n",
       " 'carnaval_0568_line_1_8.pgn',\n",
       " 'carnaval_0570_line_1_8.pgn',\n",
       " 'carnaval_0571_line_1_8.pgn',\n",
       " 'carnaval_0573_line_1_8.pgn',\n",
       " 'carnaval_0574_line_1_8.pgn',\n",
       " 'carnaval_0575_line_1_8.pgn',\n",
       " 'carnaval_0576_line_1_8.pgn',\n",
       " 'carnaval_0579_line_1_8.pgn',\n",
       " 'carnaval_0581_line_1_8.pgn',\n",
       " 'carnaval_0583_line_1_8.pgn',\n",
       " 'carnaval_0584_line_1_8.pgn',\n",
       " 'carnaval_0585_line_1_8.pgn',\n",
       " 'carnaval_0586_line_1_8.pgn',\n",
       " 'carnaval_0587_line_1_8.pgn',\n",
       " 'carnaval_0588_line_1_8.pgn',\n",
       " 'carnaval_0591_line_1_8.pgn',\n",
       " 'carnaval_0593_line_1_8.pgn',\n",
       " 'carnaval_0597_line_1_8.pgn',\n",
       " 'carnaval_0599_line_1_8.pgn',\n",
       " 'carnaval_0600_line_1_8.pgn',\n",
       " 'carnaval_0602_line_1_8.pgn',\n",
       " 'carnaval_0604_line_1_8.pgn',\n",
       " 'carnaval_0609_line_1_8.pgn',\n",
       " 'carnaval_0610_line_1_8.pgn',\n",
       " 'carnaval_0611_line_1_8.pgn',\n",
       " 'carnaval_0612_line_1_8.pgn',\n",
       " 'carnaval_0613_line_1_8.pgn',\n",
       " 'carnaval_0615_line_1_8.pgn',\n",
       " 'carnaval_0616_line_1_8.pgn',\n",
       " 'carnaval_0617_line_1_8.pgn',\n",
       " 'carnaval_0618_line_1_8.pgn',\n",
       " 'carnaval_0619_line_1_8.pgn',\n",
       " 'carnaval_0622_line_1_8.pgn',\n",
       " 'carnaval_0623_line_1_8.pgn',\n",
       " 'carnaval_0624_line_1_8.pgn',\n",
       " 'carnaval_0627_line_1_8.pgn',\n",
       " 'carnaval_0628_line_1_8.pgn',\n",
       " 'carnaval_0632_line_1_8.pgn',\n",
       " 'carnaval_0633_line_1_8.pgn',\n",
       " 'carnaval_0634_line_1_8.pgn',\n",
       " 'carnaval_0635_line_1_8.pgn',\n",
       " 'carnaval_0636_line_1_8.pgn',\n",
       " 'carnaval_0637_line_1_8.pgn',\n",
       " 'carnaval_0638_line_1_8.pgn',\n",
       " 'carnaval_0639_line_1_8.pgn',\n",
       " 'carnaval_0640_line_1_8.pgn',\n",
       " 'carnaval_0641_line_1_8.pgn',\n",
       " 'carnaval_0642_line_1_8.pgn',\n",
       " 'carnaval_0644_line_1_8.pgn',\n",
       " 'carnaval_0649_line_1_8.pgn',\n",
       " 'carnaval_0650_line_1_8.pgn',\n",
       " 'carnaval_0651_line_1_8.pgn',\n",
       " 'carnaval_0652_line_1_8.pgn',\n",
       " 'carnaval_0658_line_1_8.pgn',\n",
       " 'carnaval_0663_line_1_8.pgn',\n",
       " 'carnaval_0666_line_1_8.pgn',\n",
       " 'carnaval_0667_line_1_8.pgn',\n",
       " 'carnaval_0668_line_1_8.pgn',\n",
       " 'carnaval_0669_line_1_8.pgn',\n",
       " 'carnaval_0671_line_1_8.pgn',\n",
       " 'carnaval_0677_line_1_8.pgn',\n",
       " 'carnaval_0680_line_1_8.pgn',\n",
       " 'carnaval_0681_line_1_8.pgn',\n",
       " 'carnaval_0683_line_1_8.pgn',\n",
       " 'carnaval_0684_line_1_8.pgn',\n",
       " 'carnaval_0685_line_1_8.pgn']"
      ]
     },
     "execution_count": 76,
     "metadata": {},
     "output_type": "execute_result"
    }
   ],
   "source": [
    "def get_files( path):\n",
    "    files = glob( path)\n",
    "    files = [Path( f).name for f in files]\n",
    "    return files\n",
    "\n",
    "get_files('C:/mestrado/repos-github/chess-attention/dataset-builder/pool_8lines/torneio-except-test/labels/*.pgn') \n"
   ]
  },
  {
   "cell_type": "code",
   "execution_count": 102,
   "id": "51db83c0",
   "metadata": {},
   "outputs": [],
   "source": [
    "files_test_except=get_files('C:/mestrado/repos-github/chess-attention/dataset-builder/pool_8lines/torneio-except-test/labels/*.pgn')\n",
    "files_test_all=get_files('C:/mestrado/repos-github/chess-attention/dataset-builder/pool_8lines/torneio-all/labels/*.pgn')\n",
    "files_test= get_files('C:/mestrado/datasets/final/test-set/new-random-8lines--v1--test-only/new-random-8lines--v1--test-only/test/labels/*.pgn')"
   ]
  },
  {
   "cell_type": "code",
   "execution_count": 106,
   "id": "d400bb52",
   "metadata": {},
   "outputs": [
    {
     "name": "stdout",
     "output_type": "stream",
     "text": [
      "378\n",
      "471\n",
      "114\n"
     ]
    }
   ],
   "source": [
    "print( len( files_test_except))\n",
    "print( len( files_test_all))\n",
    "print( len( files_test))"
   ]
  },
  {
   "cell_type": "code",
   "execution_count": 107,
   "id": "fc9d2c53",
   "metadata": {},
   "outputs": [
    {
     "data": {
      "text/plain": [
       "[]"
      ]
     },
     "execution_count": 107,
     "metadata": {},
     "output_type": "execute_result"
    }
   ],
   "source": [
    "[f for f in files_test if f in files_test_except]"
   ]
  },
  {
   "cell_type": "code",
   "execution_count": 108,
   "id": "8138baf7",
   "metadata": {},
   "outputs": [
    {
     "data": {
      "text/plain": [
       "[]"
      ]
     },
     "execution_count": 108,
     "metadata": {},
     "output_type": "execute_result"
    }
   ],
   "source": [
    "[f for f in files_test_except if f in files_test]"
   ]
  },
  {
   "cell_type": "code",
   "execution_count": 109,
   "id": "cedda797",
   "metadata": {},
   "outputs": [
    {
     "data": {
      "text/plain": [
       "114"
      ]
     },
     "execution_count": 109,
     "metadata": {},
     "output_type": "execute_result"
    }
   ],
   "source": [
    "len( [f for f in files_test if f not in files_test_all])"
   ]
  },
  {
   "cell_type": "code",
   "execution_count": 110,
   "id": "b461bd59",
   "metadata": {},
   "outputs": [
    {
     "data": {
      "text/plain": [
       "0"
      ]
     },
     "execution_count": 110,
     "metadata": {},
     "output_type": "execute_result"
    }
   ],
   "source": [
    "len( [f for f in files_test_except if f not in files_test_all])"
   ]
  },
  {
   "cell_type": "code",
   "execution_count": 111,
   "id": "433dff04",
   "metadata": {},
   "outputs": [
    {
     "data": {
      "text/plain": [
       "0"
      ]
     },
     "execution_count": 111,
     "metadata": {},
     "output_type": "execute_result"
    }
   ],
   "source": [
    "len( [f for f in files_test_all if f in files_test])"
   ]
  },
  {
   "cell_type": "code",
   "execution_count": null,
   "id": "1f52d84b",
   "metadata": {},
   "outputs": [],
   "source": [
    "len( [f for f in files_test_all if f in files_test])"
   ]
  }
 ],
 "metadata": {
  "kernelspec": {
   "display_name": "Python 3 (ipykernel)",
   "language": "python",
   "name": "python3"
  },
  "language_info": {
   "codemirror_mode": {
    "name": "ipython",
    "version": 3
   },
   "file_extension": ".py",
   "mimetype": "text/x-python",
   "name": "python",
   "nbconvert_exporter": "python",
   "pygments_lexer": "ipython3",
   "version": "3.9.6"
  }
 },
 "nbformat": 4,
 "nbformat_minor": 5
}
