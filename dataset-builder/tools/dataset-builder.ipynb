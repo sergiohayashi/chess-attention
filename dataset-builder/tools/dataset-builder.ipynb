{
 "cells": [
  {
   "cell_type": "code",
   "execution_count": 1,
   "id": "ca0b66b4",
   "metadata": {},
   "outputs": [],
   "source": [
    "# import tensorflow as tf\n",
    "# device_name = tf.test.gpu_device_name()\n",
    "# if device_name != '/device:GPU:0':\n",
    "#   raise SystemError('GPU device not found')\n",
    "# print('Found GPU at: {}'.format(device_name))\n",
    "\n",
    "# You'll generate plots of attention in order to see which p arts of an image\n",
    "# our model focuses on during captioning\n",
    "import matplotlib.pyplot as plt\n",
    "\n",
    "# Scikit-learn includes many helpful utilities\n",
    "from sklearn.model_selection import train_test_split\n",
    "from sklearn.utils import shuffle\n",
    "\n",
    "import re\n",
    "import numpy as np  \n",
    "import os\n",
    "import time\n",
    "import json\n",
    "from glob import glob\n",
    "from PIL import Image\n",
    "import pickle\n",
    "import cv2\n",
    "from sklearn.utils import shuffle\n",
    "\n",
    "from IPython.display import clear_output, display\n",
    "import os.path\n",
    "from os import path\n",
    "import shutil\n",
    "import PIL\n",
    "from pathlib import Path\n",
    "from matplotlib import pyplot as plt\n",
    "\n",
    "from IPython.display import clear_output\n",
    "\n",
    "import numpy as np\n",
    "\n",
    "from PIL import ImageFont\n",
    "from PIL import Image, ImageDraw\n",
    "from PIL import ImageColor\n",
    "\n",
    "from scipy.ndimage.interpolation import map_coordinates\n",
    "from scipy.ndimage.filters import gaussian_filter\n",
    "\n",
    "import random\n",
    "\n",
    "import time\n",
    "import shutil\n",
    "import uuid\n",
    "from shutil import copyfile\n",
    "from collections import Counter"
   ]
  },
  {
   "cell_type": "code",
   "execution_count": 2,
   "id": "c7f813f0",
   "metadata": {},
   "outputs": [],
   "source": [
    "def generate_dataset_v2_8lines( name,\n",
    "                               n_hand, \n",
    "                               n_parts_rand, \n",
    "                               n_parts_ec,\n",
    "                               n_parts_seq,\n",
    "                               n_torneio):\n",
    "    # cria diretorio\n",
    "    root= 'C:/mestrado/repos-github/chess-attention/dataset-builder/datasets-8lines/'+ name\n",
    "    Path( os.path.join( root, 'train/images')).mkdir(parents=True, exist_ok=True)\n",
    "    Path( os.path.join( root, 'train/labels')).mkdir(parents=True, exist_ok=True)\n",
    "    Path( os.path.join( root, 'valid/images')).mkdir(parents=True, exist_ok=True)\n",
    "    Path( os.path.join( root, 'valid/labels')).mkdir(parents=True, exist_ok=True)\n",
    "    \n",
    "    parts = []\n",
    "    parts.append( (n_hand, 'hand')) if n_hand!= 0 else None\n",
    "    parts.append( (n_parts_rand, 'parts-random')) if n_parts_rand!= 0 else None\n",
    "    parts.append( (n_parts_seq, 'parts-seq')) if n_parts_seq!= 0 else None\n",
    "    parts.append( (n_parts_ec, 'parts-ec')) if n_parts_ec!= 0 else None\n",
    "    parts.append( (n_torneio, 'torneio-except-test')) if n_torneio!= 0 else None\n",
    "    \n",
    "    files= []\n",
    "    pool_dir = 'C:/mestrado/repos-github/chess-attention/dataset-builder/pool_8lines/'\n",
    "    for (n, folder) in parts:\n",
    "        print( folder, n)\n",
    "        parts_files = glob( os.path.join( pool_dir, folder, 'labels/*.pgn'))\n",
    "        files.extend( parts_files[:n] if n> 0 else parts_files)\n",
    "    \n",
    "#     N_train= int( len(files)*.8)\n",
    "    N_train= 10000  #aqui usa fixo\n",
    "    print( 'train, valid', N_train, len(files)-N_train)\n",
    "    \n",
    "    # shuffle\n",
    "    random.shuffle( files)\n",
    "    print( 'total', len( files))\n",
    "    \n",
    "    # copia\n",
    "    for i in range( 0, len( files)):\n",
    "        if( i%1000== 0):\n",
    "            print( i, '....')\n",
    "        \n",
    "        f= files[i]\n",
    "        folder= 'train' if i< N_train else 'valid'\n",
    "        \n",
    "        # copia\n",
    "        dest_file= os.path.join( root, folder, 'labels', Path(f).name)\n",
    "#         print( dest_file)\n",
    "        shutil.copyfile( f, dest_file)\n",
    "        shutil.copyfile( \n",
    "            f.replace( 'labels', 'images').replace( 'pgn', 'jpg'),                  \n",
    "            dest_file.replace( 'labels', 'images').replace( 'pgn', 'jpg'))\n",
    "\n",
    "    "
   ]
  },
  {
   "cell_type": "code",
   "execution_count": 9,
   "id": "12511aa6",
   "metadata": {},
   "outputs": [
    {
     "name": "stdout",
     "output_type": "stream",
     "text": [
      "hand 417\n",
      "parts-random 2750\n",
      "parts-seq 1485\n",
      "parts-ec 770\n",
      "torneio-except-test 78\n",
      "train, valid 5000 500\n",
      "total 5500\n",
      "0 ....\n",
      "1000 ....\n",
      "2000 ....\n",
      "3000 ....\n",
      "4000 ....\n",
      "5000 ....\n"
     ]
    }
   ],
   "source": [
    "generate_dataset_v2_8lines( name='-8linhas-curriculum--unico--5k',\n",
    "                           n_hand=417, \n",
    "                           n_torneio= 78,\n",
    "                           n_parts_rand=2750, \n",
    "                           n_parts_seq= 1485,\n",
    "                           n_parts_ec= 770,\n",
    "                           )"
   ]
  },
  {
   "cell_type": "code",
   "execution_count": 10,
   "id": "e816a46d",
   "metadata": {},
   "outputs": [
    {
     "name": "stdout",
     "output_type": "stream",
     "text": [
      "hand 2010\n",
      "parts-seq 3112\n",
      "torneio-except-test 378\n",
      "train, valid 5000 500\n",
      "total 5500\n",
      "0 ....\n",
      "1000 ....\n",
      "2000 ....\n",
      "3000 ....\n",
      "4000 ....\n",
      "5000 ....\n"
     ]
    }
   ],
   "source": [
    "generate_dataset_v2_8lines( name='-8linhas-handwritten--5k',\n",
    "                           n_hand=2010, \n",
    "                           n_torneio= 378,\n",
    "                           n_parts_rand=0, \n",
    "                           n_parts_seq= 3112,\n",
    "                           n_parts_ec= 0,\n",
    "                           )"
   ]
  },
  {
   "cell_type": "code",
   "execution_count": 3,
   "id": "7a7cce65",
   "metadata": {},
   "outputs": [
    {
     "name": "stdout",
     "output_type": "stream",
     "text": [
      "hand 2010\n",
      "torneio-except-test 378\n",
      "train, valid 2000 388\n",
      "total 2388\n",
      "0 ....\n",
      "1000 ....\n",
      "2000 ....\n"
     ]
    }
   ],
   "source": [
    "generate_dataset_v2_8lines( name='-8linhas-handwritten-only-2388',\n",
    "                           n_hand=2010, \n",
    "                           n_torneio= 378,\n",
    "                           n_parts_rand=0, \n",
    "                           n_parts_seq= 0,\n",
    "                           n_parts_ec= 0,\n",
    "                           )"
   ]
  },
  {
   "cell_type": "code",
   "execution_count": 4,
   "id": "3b87bbe3",
   "metadata": {},
   "outputs": [
    {
     "name": "stdout",
     "output_type": "stream",
     "text": [
      "parts-random 2388\n",
      "train, valid 2000 388\n",
      "total 2388\n",
      "0 ....\n",
      "1000 ....\n",
      "2000 ....\n"
     ]
    }
   ],
   "source": [
    "generate_dataset_v2_8lines( name='-8linhas-random-only-2388',\n",
    "                           n_hand=0, \n",
    "                           n_torneio= 0,\n",
    "                           n_parts_rand=2388, \n",
    "                           n_parts_seq= 0,\n",
    "                           n_parts_ec= 0,\n",
    "                           )"
   ]
  },
  {
   "cell_type": "code",
   "execution_count": 5,
   "id": "8ed14096",
   "metadata": {},
   "outputs": [
    {
     "name": "stdout",
     "output_type": "stream",
     "text": [
      "hand 2010\n",
      "parts-random 1012\n",
      "parts-seq 1100\n",
      "parts-ec 1000\n",
      "torneio-except-test 378\n",
      "train, valid 2000 3500\n",
      "total 5500\n",
      "0 ....\n",
      "1000 ....\n",
      "2000 ....\n",
      "3000 ....\n",
      "4000 ....\n",
      "5000 ....\n"
     ]
    }
   ],
   "source": [
    "generate_dataset_v2_8lines( name='curriculum-8-linhas--etapa-6-5500',\n",
    "                           n_hand=2010, \n",
    "                           n_torneio= 378,\n",
    "                           n_parts_rand=1012, \n",
    "                           n_parts_seq= 1100,\n",
    "                           n_parts_ec= 1000,\n",
    "                           )"
   ]
  },
  {
   "cell_type": "code",
   "execution_count": 3,
   "id": "31c9e8cd",
   "metadata": {},
   "outputs": [
    {
     "name": "stdout",
     "output_type": "stream",
     "text": [
      "hand 2010\n",
      "parts-seq 8612\n",
      "torneio-except-test 378\n",
      "train, valid 10000 1000\n",
      "total 11000\n",
      "0 ....\n",
      "1000 ....\n",
      "2000 ....\n",
      "3000 ....\n",
      "4000 ....\n",
      "5000 ....\n",
      "6000 ....\n",
      "7000 ....\n",
      "8000 ....\n",
      "9000 ....\n",
      "10000 ....\n"
     ]
    }
   ],
   "source": [
    "generate_dataset_v2_8lines( name='-8linhas-handwritten--10k',\n",
    "                           n_hand=2010, \n",
    "                           n_torneio= 378,\n",
    "                           n_parts_rand=0, \n",
    "                           n_parts_seq= 3112+5500,\n",
    "                           n_parts_ec= 0,\n",
    "                           )"
   ]
  }
 ],
 "metadata": {
  "kernelspec": {
   "display_name": "Python 3 (ipykernel)",
   "language": "python",
   "name": "python3"
  },
  "language_info": {
   "codemirror_mode": {
    "name": "ipython",
    "version": 3
   },
   "file_extension": ".py",
   "mimetype": "text/x-python",
   "name": "python",
   "nbconvert_exporter": "python",
   "pygments_lexer": "ipython3",
   "version": "3.9.6"
  }
 },
 "nbformat": 4,
 "nbformat_minor": 5
}
