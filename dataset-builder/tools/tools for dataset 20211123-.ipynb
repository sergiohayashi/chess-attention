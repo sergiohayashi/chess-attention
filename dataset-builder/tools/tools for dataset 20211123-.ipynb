{
 "cells": [
  {
   "cell_type": "code",
   "execution_count": 1,
   "metadata": {},
   "outputs": [],
   "source": [
    "# import tensorflow as tf\n",
    "# device_name = tf.test.gpu_device_name()\n",
    "# if device_name != '/device:GPU:0':\n",
    "#   raise SystemError('GPU device not found')\n",
    "# print('Found GPU at: {}'.format(device_name))\n",
    "\n",
    "# You'll generate plots of attention in order to see which p arts of an image\n",
    "# our model focuses on during captioning\n",
    "import matplotlib.pyplot as plt\n",
    "\n",
    "# Scikit-learn includes many helpful utilities\n",
    "from sklearn.model_selection import train_test_split\n",
    "from sklearn.utils import shuffle\n",
    "\n",
    "import re\n",
    "import numpy as np  \n",
    "import os\n",
    "import time\n",
    "import json\n",
    "from glob import glob\n",
    "from PIL import Image\n",
    "import pickle\n",
    "import cv2\n",
    "from sklearn.utils import shuffle\n",
    "\n",
    "from IPython.display import clear_output, display\n",
    "import os.path\n",
    "from os import path\n",
    "import shutil\n",
    "import PIL\n",
    "from pathlib import Path\n",
    "from matplotlib import pyplot as plt\n",
    "\n",
    "from IPython.display import clear_output\n",
    "\n",
    "import numpy as np\n",
    "\n",
    "from PIL import ImageFont\n",
    "from PIL import Image, ImageDraw\n",
    "from PIL import ImageColor\n",
    "\n",
    "from scipy.ndimage.interpolation import map_coordinates\n",
    "from scipy.ndimage.filters import gaussian_filter\n",
    "\n",
    "import random\n",
    "\n",
    "import time\n",
    "import shutil\n",
    "import uuid\n",
    "from shutil import copyfile\n",
    "from collections import Counter"
   ]
  },
  {
   "cell_type": "code",
   "execution_count": 2,
   "metadata": {},
   "outputs": [],
   "source": [
    "def read_label( path):\n",
    "  f= open( path)\n",
    "  d= f.read()\n",
    "  f.close()\n",
    "  return d \n",
    "\n",
    "def write_label( path, text):\n",
    "  f= open( path, \"w\")\n",
    "  f.write( text)\n",
    "  f.close()\n",
    "\n",
    "def show( img, name= 'noname'):\n",
    "  plt.imshow( img)\n",
    "  plt.title( name)\n",
    "  plt.show()\n",
    "\n",
    "def show_gimage( img, name= 'noname'):\n",
    "  plt.imshow( img, cmap= 'gray')\n",
    "  plt.title( name)\n",
    "  plt.show()\n",
    "\n",
    "def _load_image( path):\n",
    "  # return cv2.imread( path, cv2.IMREAD_GRAYSCALE)\n",
    "  return cv2.imread( path)\n",
    "  \n",
    "def write_image( path, img):\n",
    "  cv2.imwrite( path, img)\n",
    "\n",
    "# def resize( img, scale_percent= 60, verbose=False):\n",
    "#   #scale_percent = 60 # percent of original size\n",
    "#   width = int(img.shape[1] * scale_percent / 100)\n",
    "#   height = int(img.shape[0] * scale_percent / 100)\n",
    "#   dim = (width, height)\n",
    "#   if verbose:\n",
    "#     print( \"scale\", scale_percent)\n",
    "#     print( \"dim\", dim)\n",
    "#   # resize image\n",
    "#   return cv2.resize(img, dim, interpolation = cv2.INTER_AREA) "
   ]
  },
  {
   "cell_type": "code",
   "execution_count": 8,
   "metadata": {},
   "outputs": [],
   "source": [
    "pgnfile= \"C:/Users/hayashi/Documents/meo--20211123--hebreica.pgn\""
   ]
  },
  {
   "cell_type": "code",
   "execution_count": 9,
   "metadata": {},
   "outputs": [],
   "source": [
    "with open(pgnfile) as f:\n",
    "    lines = [line.rstrip() for line in f]"
   ]
  },
  {
   "cell_type": "code",
   "execution_count": 10,
   "metadata": {},
   "outputs": [
    {
     "data": {
      "text/plain": [
       "['0 e4 c5 Nf3 e6 d4 cxd4 Nxd4 Nf6 f3 Nc6 Nc3 Bd4 Nxc6 bxc6 Be3 0-0',\n",
       " '851 e4 c5 Nf3 e6 d4 cxd4 Nxd4 Nf6 f3 Nc6 Nc3 Bd4 Nxc6 bxc6 Be3 0-0',\n",
       " '852 e4 e5 Nf3 Nc6 Bc4 Bc5 c3 d6 d4 exd4 cxd4 Bb4 Nc3 h6 0-0 Bxc3']"
      ]
     },
     "execution_count": 10,
     "metadata": {},
     "output_type": "execute_result"
    }
   ],
   "source": [
    "lines[0:3]"
   ]
  },
  {
   "cell_type": "code",
   "execution_count": 11,
   "metadata": {},
   "outputs": [],
   "source": [
    "tokens= [ln.split() for ln in lines]"
   ]
  },
  {
   "cell_type": "code",
   "execution_count": 12,
   "metadata": {},
   "outputs": [],
   "source": [
    "for t in tokens:\n",
    "    if( len( t)!= 17):\n",
    "        print( t[0], len(t), t)"
   ]
  },
  {
   "cell_type": "code",
   "execution_count": null,
   "metadata": {},
   "outputs": [],
   "source": [
    "folder = 'C:/mestrado/datasets/hebraica/labels'\n",
    "for t in tokens:\n",
    "    fname = \"scan{}.pgn\".format( t[0].zfill(4))\n",
    "    file = os.path.join( folder, fname)\n",
    "    print( file)\n",
    "    \n",
    "    write_label( file, \" \".join( t[1:]))"
   ]
  },
  {
   "cell_type": "code",
   "execution_count": null,
   "metadata": {},
   "outputs": [],
   "source": []
  },
  {
   "cell_type": "code",
   "execution_count": null,
   "metadata": {},
   "outputs": [],
   "source": []
  },
  {
   "cell_type": "code",
   "execution_count": null,
   "metadata": {},
   "outputs": [],
   "source": [
    "#orig_imgdir= 'C:/mestrado/datasets/handmade/imagens-originais/paired-part5-/images_with_header'\n",
    "orig_imgdir= 'C:/mestrado/datasets/final/handmade/images_with_header'\n",
    "dest_imgdir= 'C:/mestrado/datasets/final/parts-lib/from-handmade'\n",
    "files= glob( os.path.join( orig_imgdir, \"*.jpg\"))"
   ]
  },
  {
   "cell_type": "code",
   "execution_count": null,
   "metadata": {},
   "outputs": [],
   "source": [
    "len( files)"
   ]
  },
  {
   "cell_type": "code",
   "execution_count": null,
   "metadata": {},
   "outputs": [],
   "source": [
    "str( uuid.uuid4())[:6]"
   ]
  },
  {
   "cell_type": "code",
   "execution_count": 4,
   "metadata": {},
   "outputs": [],
   "source": [
    "words= ['Ba4', 'Ba5', 'Ba7', 'Bb2', 'Bb3', 'Bb4', 'Bb4+', 'Bb5', 'Bb5+', 'Bb7', 'Bc4', 'Bc5', 'Bd2', 'Bd3', 'Bd6', 'Bd7', 'Be2', 'Be3', 'Be5', 'Be6', 'Be7', 'Bf3', 'Bf4', 'Bf5', 'Bg2', 'Bg3', 'Bg4', 'Bg5', 'Bg7', 'Bh4', 'Bh6', 'Bh7', 'Bxb4', 'Bxc3', 'Bxc3+', 'Bxc4', 'Bxc5', 'Bxc6', 'Bxc7', 'Bxd2+', 'Bxd6', 'Bxd7+', 'Bxf6', 'Kd8', 'Kxd8', 'Na4', 'Na5', 'Na6', 'Nb3', 'Nb4', 'Nb5', 'Nb6', 'Nbd2', 'Nbd7', 'Nbxd2', 'Nc2', 'Nc3', 'Nc5', 'Nc6', 'Nce7', 'Nd2', 'Nd4', 'Nd5', 'Nd6+', 'Nd7', 'Ndb5', 'Nde2', 'Ne1', 'Ne2', 'Ne4', 'Ne5', 'Ne7', 'Nf1', 'Nf3', 'Nf6', 'Nfd7', 'Ng5', 'Nge2', 'Nge7', 'Ngf3', 'Ngf6', 'Nh5', 'Nxc6', 'Nxd4', 'Nxd5', 'Nxd7', 'Nxe4', 'Nxe5', 'Nxf6+', 'O-O', 'O-O-O', 'Qa4', 'Qa5', 'Qa5+', 'Qb3', 'Qb6', 'Qc2', 'Qc3', 'Qc7', 'Qd1', 'Qd2', 'Qd3', 'Qd4', 'Qd5', 'Qd6', 'Qd7', 'Qe1', 'Qe2', 'Qe7', 'Qe8', 'Qf3', 'Qf6', 'Qg6', 'Qh4', 'Qxb2', 'Qxb3', 'Qxc4', 'Qxc7', 'Qxd4', 'Qxd5', 'Qxd6', 'Qxd8+', 'Qxe4+', 'Qxf6', 'Rb1', 'Rb8', 'Rc8', 'Re1', 'Re8', 'a3', 'a4', 'a5', 'a6', 'b3', 'b4', 'b5', 'b6', 'bxc3', 'bxc6', 'c3', 'c4', 'c5', 'c6', 'cxb3', 'cxd4', 'cxd5', 'cxd6', 'd3', 'd4', 'd5', 'd6', 'dxc3', 'dxc4', 'dxc5', 'dxc6', 'dxe4', 'e3', 'e4', 'e5', 'e6', 'exd4', 'exd5', 'exf6', 'f3', 'f4', 'f5', 'f6', 'g3', 'g5', 'g6', 'gxf6', 'h3', 'h4', 'h5', 'h6']"
   ]
  },
  {
   "cell_type": "code",
   "execution_count": 385,
   "metadata": {},
   "outputs": [
    {
     "data": {
      "text/plain": [
       "175"
      ]
     },
     "execution_count": 385,
     "metadata": {},
     "output_type": "execute_result"
    }
   ],
   "source": [
    "len( words)"
   ]
  },
  {
   "cell_type": "code",
   "execution_count": 389,
   "metadata": {},
   "outputs": [
    {
     "data": {
      "text/plain": [
       "'Ba4, Ba5, Ba7, Bb2, Bb3, Bb4, Bb4+, Bb5, Bb5+, Bb7, Bc4, Bc5, Bd2, Bd3, Bd6, Bd7, Be2, Be3, Be5, Be6, Be7, Bf3, Bf4, Bf5, Bg2, Bg3, Bg4, Bg5, Bg7, Bh4, Bh6, Bh7, Bxb4, Bxc3, Bxc3+, Bxc4, Bxc5, Bxc6, Bxc7, Bxd2+, Bxd6, Bxd7+, Bxf6, Rd8, Rxd8, Ca4, Ca5, Ca6, Cb3, Cb4, Cb5, Cb6, Cbd2, Cbd7, Cbxd2, Cc2, Cc3, Cc5, Cc6, Cce7, Cd2, Cd4, Cd5, Cd6+, Cd7, Cdb5, Cde2, Ce1, Ce2, Ce4, Ce5, Ce7, Cf1, Cf3, Cf6, Cfd7, Cg5, Cge2, Cge7, Cgf3, Cgf6, Ch5, Cxc6, Cxd4, Cxd5, Cxd7, Cxe4, Cxe5, Cxf6+, O-O, O-O-O, Da4, Da5, Da5+, Db3, Db6, Dc2, Dc3, Dc7, Dd1, Dd2, Dd3, Dd4, Dd5, Dd6, Dd7, De1, De2, De7, De8, Df3, Df6, Dg6, Dh4, Dxb2, Dxb3, Dxc4, Dxc7, Dxd4, Dxd5, Dxd6, Dxd8+, Dxe4+, Dxf6, Tb1, Tb8, Tc8, Te1, Te8, a3, a4, a5, a6, b3, b4, b5, b6, bxc3, bxc6, c3, c4, c5, c6, cxb3, cxd4, cxd5, cxd6, d3, d4, d5, d6, dxc3, dxc4, dxc5, dxc6, dxe4, e3, e4, e5, e6, exd4, exd5, exf6, f3, f4, f5, f6, g3, g5, g6, gxf6, h3, h4, h5, h6'"
      ]
     },
     "execution_count": 389,
     "metadata": {},
     "output_type": "execute_result"
    }
   ],
   "source": [
    "\", \".join( [pgn_to_pt(w) for w in words])"
   ]
  },
  {
   "cell_type": "code",
   "execution_count": null,
   "metadata": {},
   "outputs": [],
   "source": [
    "# #\n",
    "# # reduz words a top10\n",
    "# #\n",
    "# random.shuffle( words)\n"
   ]
  },
  {
   "cell_type": "code",
   "execution_count": null,
   "metadata": {},
   "outputs": [],
   "source": [
    "# words= words[:16]"
   ]
  },
  {
   "cell_type": "code",
   "execution_count": null,
   "metadata": {},
   "outputs": [],
   "source": [
    "words"
   ]
  },
  {
   "cell_type": "code",
   "execution_count": 5,
   "metadata": {},
   "outputs": [],
   "source": [
    "#\n",
    "# recorta a imagem em partes a partir da base de manuscritos..\n",
    "#\n",
    "def save_cuts( labels, cuts):\n",
    "    \n",
    "    for i in range( 0, len( cuts)):\n",
    "\n",
    "        label= labels[i].replace( '...', '___')\n",
    "        folder= os.path.join( dest_imgdir, label)\n",
    "        \n",
    "        Path(folder).mkdir(parents=True, exist_ok=True)\n",
    "        fname= label+\"_\"+ str( uuid.uuid4())[:8]+'.jpg'\n",
    "#         print( 'save to ', fname)\n",
    "        write_image( os.path.join( folder, fname), cuts[i])\n",
    "        \n",
    "\n",
    "def showsmall( img, name= 'noname'):\n",
    "    plt.figure(figsize = (4,6))    \n",
    "    plt.imshow( img)\n",
    "    plt.title( name)\n",
    "    plt.show()\n",
    "                    \n",
    "def showbig( img, name= 'noname'):\n",
    "    plt.figure(figsize = (10,2))    \n",
    "    plt.imshow( img)\n",
    "    plt.title( name)\n",
    "    plt.show()\n",
    "    \n",
    "    \n",
    "def crop_only( img, y, h, x, w):\n",
    "    y= max( y, 0)\n",
    "    x= max( x, 0)\n",
    "#     print( '>', y, h, x, w)\n",
    "    crop_img= img[ y:y+h, x:x+w]\n",
    "    return crop_img\n",
    "\n",
    "\n",
    "def get_cut_for( i, col_img):\n",
    "    img= col_img[0] if i%2== 0 else col_img[1]\n",
    "\n",
    "    h= 69.72\n",
    "    ln= int( i/2)\n",
    "    margin_h= 5\n",
    "    shift_h= 12\n",
    "    y= int( ln* h)+ shift_h\n",
    "    return crop_only( img, y-margin_h, int(h+2*margin_h), 0, img.shape[1])\n",
    "\n",
    "\n",
    "def generate_parts(_files):\n",
    "    # w= 335 \n",
    "    w= 320 \n",
    "    count= 0\n",
    "    for f in _files:\n",
    "        # trim\n",
    "    #     clear_output()\n",
    "        if count%10== 0:\n",
    "            print( count)\n",
    "        count+= 1\n",
    "\n",
    "    #     clear_output()\n",
    "        img= cv2.imread( f)\n",
    "#         show( img)\n",
    "\n",
    "        labels= read_label( os.path.join( 'C:/mestrado/datasets/final/handmade/labels',\n",
    "                                        Path( f).name.replace( '.jpg', '.pgn')\n",
    "                                        ))\n",
    "\n",
    "#         print( labels)\n",
    "\n",
    "        img1= img[504:,:]\n",
    "#         img2= np.concatenate((\n",
    "#             img1[:, 3:(3+w)],\n",
    "#             img1[:, 435:(435+w)],\n",
    "#             img1[:, 772:(772+w)],\n",
    "#             img1[:, 1200:(1200+w)]\n",
    "#         ), axis= 1)\n",
    "#         showsmall( img1[:, 5:(5+w)])\n",
    "#         showsmall( img1[:, 435:(435+w)])\n",
    "#         showsmall( img1[:, 772:(772+w)])\n",
    "#         showsmall( img1[:, 1200:(1200+w)])\n",
    "\n",
    "        img_1= img1[:, 5:(5+w)]\n",
    "        img_2= img1[:, 435:(435+w)]\n",
    "#         img_3= img1[:, 772:(772+w)]\n",
    "#         img_4= img1[:, 1200:(1200+w)]\n",
    "\n",
    "\n",
    "#         showsmall(img_1)\n",
    "#         showsmall(img_2)\n",
    "        pgn= labels.split()\n",
    "        col_img= [img_1, img_2]\n",
    "        cuts= []\n",
    "        labels= []\n",
    "        for i in range( 0, min( 50, len( pgn))):\n",
    "            if pgn[i] in words:\n",
    "                img_cut= get_cut_for( i, col_img)\n",
    "#                 showsmall( img_cut, pgn[i])\n",
    "\n",
    "                cuts.append( img_cut)\n",
    "                labels.append( pgn[i])\n",
    "            \n",
    "        save_cuts( labels, cuts)\n",
    "\n",
    "    #     m= input()    \n",
    "    #     img3= cv2.resize(img2, (678, 900), interpolation = cv2.INTER_AREA)  \n",
    "    #     img3= img2\n",
    "    #     to_file= os.path.join( dest_imgdir, Path( f).name)\n",
    "    #     print( 'save to ', to_file)\n",
    "    #     write_image( to_file, img3)\n",
    "\n",
    "# generate_parts( files[0:1])"
   ]
  },
  {
   "cell_type": "code",
   "execution_count": null,
   "metadata": {},
   "outputs": [],
   "source": [
    "#\n",
    "# gera 8 linhas de handmade\n",
    "#\n"
   ]
  },
  {
   "cell_type": "code",
   "execution_count": null,
   "metadata": {},
   "outputs": [],
   "source": [
    "#orig_imgdir= 'C:/mestrado/datasets/handmade/imagens-originais/paired-part5-/images_with_header'\n",
    "orig_imgdir= 'C:/mestrado/datasets/final/handmade/images_with_header'\n",
    "dest_imgdir= 'C:/mestrado/datasets/final/handmade-8lines'\n",
    "files= glob( os.path.join( orig_imgdir, \"*.jpg\"))"
   ]
  },
  {
   "cell_type": "code",
   "execution_count": null,
   "metadata": {},
   "outputs": [],
   "source": [
    "len( files)"
   ]
  },
  {
   "cell_type": "code",
   "execution_count": null,
   "metadata": {},
   "outputs": [],
   "source": [
    "#\n",
    "# sinteticos - para completar pelo menos 250 exemplares para cada word\n",
    "#"
   ]
  },
  {
   "cell_type": "code",
   "execution_count": 8,
   "metadata": {},
   "outputs": [],
   "source": [
    "# calcula quantos tem juntando sinteticos e torneios\n",
    "\n",
    "counter= {w:0 for w in words}"
   ]
  },
  {
   "cell_type": "code",
   "execution_count": 9,
   "metadata": {
    "scrolled": true
   },
   "outputs": [
    {
     "data": {
      "text/plain": [
       "{'Ba4': 0,\n",
       " 'Ba5': 0,\n",
       " 'Ba7': 0,\n",
       " 'Bb2': 0,\n",
       " 'Bb3': 0,\n",
       " 'Bb4': 0,\n",
       " 'Bb4+': 0,\n",
       " 'Bb5': 0,\n",
       " 'Bb5+': 0,\n",
       " 'Bb7': 0,\n",
       " 'Bc4': 0,\n",
       " 'Bc5': 0,\n",
       " 'Bd2': 0,\n",
       " 'Bd3': 0,\n",
       " 'Bd6': 0,\n",
       " 'Bd7': 0,\n",
       " 'Be2': 0,\n",
       " 'Be3': 0,\n",
       " 'Be5': 0,\n",
       " 'Be6': 0,\n",
       " 'Be7': 0,\n",
       " 'Bf3': 0,\n",
       " 'Bf4': 0,\n",
       " 'Bf5': 0,\n",
       " 'Bg2': 0,\n",
       " 'Bg3': 0,\n",
       " 'Bg4': 0,\n",
       " 'Bg5': 0,\n",
       " 'Bg7': 0,\n",
       " 'Bh4': 0,\n",
       " 'Bh6': 0,\n",
       " 'Bh7': 0,\n",
       " 'Bxb4': 0,\n",
       " 'Bxc3': 0,\n",
       " 'Bxc3+': 0,\n",
       " 'Bxc4': 0,\n",
       " 'Bxc5': 0,\n",
       " 'Bxc6': 0,\n",
       " 'Bxc7': 0,\n",
       " 'Bxd2+': 0,\n",
       " 'Bxd6': 0,\n",
       " 'Bxd7+': 0,\n",
       " 'Bxf6': 0,\n",
       " 'Kd8': 0,\n",
       " 'Kxd8': 0,\n",
       " 'Na4': 0,\n",
       " 'Na5': 0,\n",
       " 'Na6': 0,\n",
       " 'Nb3': 0,\n",
       " 'Nb4': 0,\n",
       " 'Nb5': 0,\n",
       " 'Nb6': 0,\n",
       " 'Nbd2': 0,\n",
       " 'Nbd7': 0,\n",
       " 'Nbxd2': 0,\n",
       " 'Nc2': 0,\n",
       " 'Nc3': 0,\n",
       " 'Nc5': 0,\n",
       " 'Nc6': 0,\n",
       " 'Nce7': 0,\n",
       " 'Nd2': 0,\n",
       " 'Nd4': 0,\n",
       " 'Nd5': 0,\n",
       " 'Nd6+': 0,\n",
       " 'Nd7': 0,\n",
       " 'Ndb5': 0,\n",
       " 'Nde2': 0,\n",
       " 'Ne1': 0,\n",
       " 'Ne2': 0,\n",
       " 'Ne4': 0,\n",
       " 'Ne5': 0,\n",
       " 'Ne7': 0,\n",
       " 'Nf1': 0,\n",
       " 'Nf3': 0,\n",
       " 'Nf6': 0,\n",
       " 'Nfd7': 0,\n",
       " 'Ng5': 0,\n",
       " 'Nge2': 0,\n",
       " 'Nge7': 0,\n",
       " 'Ngf3': 0,\n",
       " 'Ngf6': 0,\n",
       " 'Nh5': 0,\n",
       " 'Nxc6': 0,\n",
       " 'Nxd4': 0,\n",
       " 'Nxd5': 0,\n",
       " 'Nxd7': 0,\n",
       " 'Nxe4': 0,\n",
       " 'Nxe5': 0,\n",
       " 'Nxf6+': 0,\n",
       " 'O-O': 0,\n",
       " 'O-O-O': 0,\n",
       " 'Qa4': 0,\n",
       " 'Qa5': 0,\n",
       " 'Qa5+': 0,\n",
       " 'Qb3': 0,\n",
       " 'Qb6': 0,\n",
       " 'Qc2': 0,\n",
       " 'Qc3': 0,\n",
       " 'Qc7': 0,\n",
       " 'Qd1': 0,\n",
       " 'Qd2': 0,\n",
       " 'Qd3': 0,\n",
       " 'Qd4': 0,\n",
       " 'Qd5': 0,\n",
       " 'Qd6': 0,\n",
       " 'Qd7': 0,\n",
       " 'Qe1': 0,\n",
       " 'Qe2': 0,\n",
       " 'Qe7': 0,\n",
       " 'Qe8': 0,\n",
       " 'Qf3': 0,\n",
       " 'Qf6': 0,\n",
       " 'Qg6': 0,\n",
       " 'Qh4': 0,\n",
       " 'Qxb2': 0,\n",
       " 'Qxb3': 0,\n",
       " 'Qxc4': 0,\n",
       " 'Qxc7': 0,\n",
       " 'Qxd4': 0,\n",
       " 'Qxd5': 0,\n",
       " 'Qxd6': 0,\n",
       " 'Qxd8+': 0,\n",
       " 'Qxe4+': 0,\n",
       " 'Qxf6': 0,\n",
       " 'Rb1': 0,\n",
       " 'Rb8': 0,\n",
       " 'Rc8': 0,\n",
       " 'Re1': 0,\n",
       " 'Re8': 0,\n",
       " 'a3': 0,\n",
       " 'a4': 0,\n",
       " 'a5': 0,\n",
       " 'a6': 0,\n",
       " 'b3': 0,\n",
       " 'b4': 0,\n",
       " 'b5': 0,\n",
       " 'b6': 0,\n",
       " 'bxc3': 0,\n",
       " 'bxc6': 0,\n",
       " 'c3': 0,\n",
       " 'c4': 0,\n",
       " 'c5': 0,\n",
       " 'c6': 0,\n",
       " 'cxb3': 0,\n",
       " 'cxd4': 0,\n",
       " 'cxd5': 0,\n",
       " 'cxd6': 0,\n",
       " 'd3': 0,\n",
       " 'd4': 0,\n",
       " 'd5': 0,\n",
       " 'd6': 0,\n",
       " 'dxc3': 0,\n",
       " 'dxc4': 0,\n",
       " 'dxc5': 0,\n",
       " 'dxc6': 0,\n",
       " 'dxe4': 0,\n",
       " 'e3': 0,\n",
       " 'e4': 0,\n",
       " 'e5': 0,\n",
       " 'e6': 0,\n",
       " 'exd4': 0,\n",
       " 'exd5': 0,\n",
       " 'exf6': 0,\n",
       " 'f3': 0,\n",
       " 'f4': 0,\n",
       " 'f5': 0,\n",
       " 'f6': 0,\n",
       " 'g3': 0,\n",
       " 'g5': 0,\n",
       " 'g6': 0,\n",
       " 'gxf6': 0,\n",
       " 'h3': 0,\n",
       " 'h4': 0,\n",
       " 'h5': 0,\n",
       " 'h6': 0}"
      ]
     },
     "execution_count": 9,
     "metadata": {},
     "output_type": "execute_result"
    }
   ],
   "source": [
    "counter"
   ]
  },
  {
   "cell_type": "code",
   "execution_count": null,
   "metadata": {},
   "outputs": [],
   "source": [
    "len( words)"
   ]
  },
  {
   "cell_type": "code",
   "execution_count": 10,
   "metadata": {},
   "outputs": [],
   "source": [
    "parts_dir= 'C:/mestrado/datasets/final/parts-lib/*'"
   ]
  },
  {
   "cell_type": "code",
   "execution_count": 11,
   "metadata": {},
   "outputs": [
    {
     "name": "stdout",
     "output_type": "stream",
     "text": [
      "Ba4 250\n",
      "Ba5 250\n",
      "Ba7 250\n",
      "Bb2 250\n",
      "Bb3 250\n",
      "Bb4 250\n",
      "Bb4+ 250\n",
      "Bb5 250\n",
      "Bb5+ 250\n",
      "Bb7 250\n",
      "Bc4 250\n",
      "Bc5 250\n",
      "Bd2 250\n",
      "Bd3 250\n",
      "Bd6 250\n",
      "Bd7 250\n",
      "Be2 250\n",
      "Be3 250\n",
      "Be5 250\n",
      "Be6 250\n",
      "Be7 250\n",
      "Bf3 250\n",
      "Bf4 250\n",
      "Bf5 250\n",
      "Bg2 250\n",
      "Bg3 250\n",
      "Bg4 250\n",
      "Bg5 250\n",
      "Bg7 250\n",
      "Bh4 250\n",
      "Bh6 250\n",
      "Bh7 250\n",
      "Bxb4 250\n",
      "Bxc3 250\n",
      "Bxc3+ 250\n",
      "Bxc4 250\n",
      "Bxc5 250\n",
      "Bxc6 250\n",
      "Bxc7 250\n",
      "Bxd2+ 250\n",
      "Bxd6 250\n",
      "Bxd7+ 250\n",
      "Bxf6 250\n",
      "Kd8 250\n",
      "Kxd8 250\n",
      "Na4 250\n",
      "Na5 250\n",
      "Na6 250\n",
      "Nb3 250\n",
      "Nb4 250\n",
      "Nb5 250\n",
      "Nb6 250\n",
      "Nbd2 250\n",
      "Nbd7 250\n",
      "Nbxd2 250\n",
      "Nc2 250\n",
      "Nc3 261\n",
      "Nc5 250\n",
      "Nc6 250\n",
      "Nce7 250\n",
      "Nd2 250\n",
      "Nd4 252\n",
      "Nd5 250\n",
      "Nd6+ 250\n",
      "Nd7 250\n",
      "Ndb5 250\n",
      "Nde2 250\n",
      "Ne1 250\n",
      "Ne2 250\n",
      "Ne4 250\n",
      "Ne5 250\n",
      "Ne7 250\n",
      "Nf1 250\n",
      "Nf3 250\n",
      "Nf6 250\n",
      "Nfd7 250\n",
      "Ng5 250\n",
      "Nge2 250\n",
      "Nge7 250\n",
      "Ngf3 250\n",
      "Ngf6 250\n",
      "Nh5 250\n",
      "Nxc6 250\n",
      "Nxd4 250\n",
      "Nxd5 250\n",
      "Nxd7 250\n",
      "Nxe4 250\n",
      "Nxe5 250\n",
      "Nxf6+ 250\n",
      "O-O 250\n",
      "O-O-O 250\n",
      "Qa4 250\n",
      "Qa5 250\n",
      "Qa5+ 250\n",
      "Qb3 250\n",
      "Qb6 250\n",
      "Qc2 250\n",
      "Qc3 250\n",
      "Qc7 250\n",
      "Qd1 250\n",
      "Qd2 250\n",
      "Qd3 250\n",
      "Qd4 250\n",
      "Qd5 250\n",
      "Qd6 250\n",
      "Qd7 250\n",
      "Qe1 250\n",
      "Qe2 250\n",
      "Qe7 250\n",
      "Qe8 250\n",
      "Qf3 250\n",
      "Qf6 250\n",
      "Qg6 250\n",
      "Qh4 250\n",
      "Qxb2 250\n",
      "Qxb3 250\n",
      "Qxc4 250\n",
      "Qxc7 250\n",
      "Qxd4 250\n",
      "Qxd5 250\n",
      "Qxd6 250\n",
      "Qxd8+ 250\n",
      "Qxe4+ 250\n",
      "Qxf6 250\n",
      "Rb1 250\n",
      "Rb8 250\n",
      "Rc8 250\n",
      "Re1 250\n",
      "Re8 250\n",
      "a3 250\n",
      "a4 250\n",
      "a5 250\n",
      "a6 250\n",
      "b3 250\n",
      "b4 250\n",
      "b5 250\n",
      "b6 250\n",
      "bxc3 250\n",
      "bxc6 250\n",
      "c3 250\n",
      "c4 250\n",
      "c5 250\n",
      "c6 250\n",
      "cxb3 250\n",
      "cxd4 250\n",
      "cxd5 250\n",
      "cxd6 250\n",
      "d3 250\n",
      "d4 250\n",
      "d5 250\n",
      "d6 250\n",
      "dxc3 250\n",
      "dxc4 250\n",
      "dxc5 250\n",
      "dxc6 250\n",
      "dxe4 250\n",
      "e3 250\n",
      "e4 250\n",
      "e5 250\n",
      "e6 250\n",
      "exd4 250\n",
      "exd5 250\n",
      "exf6 250\n",
      "f3 250\n",
      "f4 250\n",
      "f5 250\n",
      "f6 250\n",
      "g3 250\n",
      "g5 250\n",
      "g6 250\n",
      "gxf6 250\n",
      "h3 250\n",
      "h4 250\n",
      "h5 250\n",
      "h6 250\n"
     ]
    }
   ],
   "source": [
    "for w in words:\n",
    "    n= len( glob( os.path.join( parts_dir, w, \"*.jpg\")))\n",
    "    print( w, n)\n",
    "    counter[w]= n"
   ]
  },
  {
   "cell_type": "code",
   "execution_count": null,
   "metadata": {},
   "outputs": [],
   "source": [
    "#\n",
    "#  gera sintetizados até a quantidade min(qtd*1.20, 250)\n",
    "#"
   ]
  },
  {
   "cell_type": "code",
   "execution_count": 22,
   "metadata": {},
   "outputs": [],
   "source": [
    "def resize_( img, width, height):\n",
    "    dim = (width, height)\n",
    "    return cv2.resize(img, dim, interpolation = cv2.INTER_AREA) "
   ]
  },
  {
   "cell_type": "code",
   "execution_count": 23,
   "metadata": {},
   "outputs": [
    {
     "data": {
      "image/png": "[encoded data removed]",
      "text/plain": [
       "<Figure size 432x288 with 1 Axes>"
      ]
     },
     "metadata": {
      "needs_background": "light"
     },
     "output_type": "display_data"
    }
   ],
   "source": [
    "def get_random_cut_for( w):\n",
    "    f= word_cuts[w][random.randrange( 0, len( word_cuts[w]))]\n",
    "#     print( w, f)\n",
    "    return resize_( _load_image( f), 339, 72)\n",
    "\n",
    "show( get_random_cut_for('Bf4'))"
   ]
  },
  {
   "cell_type": "code",
   "execution_count": 24,
   "metadata": {},
   "outputs": [],
   "source": [
    "def pt_to_pgn( w):\n",
    "    # R=> K\n",
    "    # T=> R\n",
    "    # C=> N\n",
    "    # B=> B\n",
    "    # D=> Q\n",
    "\n",
    "#     print( w, '=> ')\n",
    "    png= w.replace( 'R', 'K').replace( 'T', 'R').replace( 'C', 'N').replace( 'D', 'Q')\n",
    "#     print( png)\n",
    "    return png\n",
    "\n",
    "def to_pgn( label):\n",
    "    return [pt_to_pgn( w) for w in label]\n",
    "\n",
    "def pgn_to_pt( w):\n",
    "    # R => T\n",
    "    # K => R\n",
    "    # N => C\n",
    "    # Q => D\n",
    "    \n",
    "    return w.replace( 'R', 'T').replace( 'K', 'R').replace( 'N', 'C').replace( 'Q', 'D')"
   ]
  },
  {
   "cell_type": "code",
   "execution_count": null,
   "metadata": {},
   "outputs": [],
   "source": [
    "def get_random_cut_for( w):\n",
    "    f= word_cuts[w][random.randrange( 0, len( word_cuts[w]))]\n",
    "    if f is None:\n",
    "        print( 'Oops nao encontrado para ', w)\n",
    "        print( word_cuts[w])\n",
    "#     print( w, f)\n",
    "    return resize_( _load_image( f), 339, 72)\n",
    "\n",
    "\n",
    "def resize( img, width, height):\n",
    "    img= cv2.resize(img, (width, height), interpolation = cv2.INTER_AREA) \n",
    "    return img\n",
    "\n",
    "def rebuild( cuts):\n",
    "    col1= np.concatenate((\n",
    "            cuts[ 0], cuts[ 2], cuts[ 4], cuts[ 6], cuts[ 8], \n",
    "            cuts[10], cuts[12], cuts[14]\n",
    "          ), axis= 0)\n",
    "    col2= np.concatenate((\n",
    "            cuts[ 1], cuts[ 3], cuts[ 5], cuts[ 7], cuts[ 9], \n",
    "            cuts[11], cuts[13], cuts[15]\n",
    "          ), axis= 0)\n",
    "    return np.concatenate((col1, col2), axis= 1)\n",
    "\n",
    "def generate_for_label( label, seq, folder):    \n",
    "    cuts= []\n",
    "    for w in label:\n",
    "        cuts.append( get_random_cut_for( w))\n",
    "    img= rebuild( cuts)\n",
    "#     show( img)\n",
    "    img= resize( img, 345, 300)\n",
    "    \n",
    "    \n",
    "    fname= \"new-random_\"+str( uuid.uuid4())[:8] \n",
    "#     show( img)\n",
    "#     print( \" \".join( label))\n",
    "    write_image( os.path.join( folder, 'images', fname+ \".jpg\"), img)\n",
    "    write_label( os.path.join( folder, 'labels', fname+ \".pgn\"), \" \".join( label))\n",
    "    \n",
    "def generate_parts_pool( N):\n",
    "    folder= os.path.join( \"C:/mestrado/datasets/final/datasets_pool/parts\")\n",
    "    for i in range( 0, N):\n",
    "        if i%100== 0:\n",
    "            print( i)\n",
    "        generate_for_label( random_label_from_vocab(), i+1, folder)\n",
    "        \n",
    "# generate_parts_pool( 30000)"
   ]
  },
  {
   "cell_type": "code",
   "execution_count": null,
   "metadata": {},
   "outputs": [],
   "source": [
    "len( glob( os.path.join( 'C:/mestrado/datasets/final/parts-lib/from-handmade', 'bxc6', \"*.jpg\")))"
   ]
  },
  {
   "cell_type": "code",
   "execution_count": 46,
   "metadata": {},
   "outputs": [],
   "source": [
    "#\n",
    "# gera imagem montada, mas com sequencia validad e jogo\n",
    "#\n",
    "def get_30k_pgn():\n",
    "\n",
    "    en_pgnfile= \"C:/mestrado/datasets/jogos/pgn_30k_eng.txt\"\n",
    "    with open(en_pgnfile) as f:\n",
    "        en_lines = [line.rstrip() for line in f]\n",
    "\n",
    "    en_lines= [re.sub(\"[\\[].*?[\\]]\", \"\", ln) for ln in en_lines]\n",
    "    en_lines= [ln[8:] for ln in en_lines]\n",
    "    en_lines= [ln.split() for ln in en_lines]\n",
    "    return en_lines\n",
    "\n",
    "en_lines= get_30k_pgn()"
   ]
  },
  {
   "cell_type": "code",
   "execution_count": 349,
   "metadata": {},
   "outputs": [
    {
     "name": "stdout",
     "output_type": "stream",
     "text": [
      "30000\n"
     ]
    }
   ],
   "source": [
    "print( len( en_lines))"
   ]
  },
  {
   "cell_type": "code",
   "execution_count": 49,
   "metadata": {},
   "outputs": [
    {
     "name": "stdout",
     "output_type": "stream",
     "text": [
      "['d4', 'f5', 'Nf3', 'g6', 'g3', 'Bg7', 'Bg2', 'Nf6', 'b4', 'c6', 'c4', 'd5', 'Qb3', 'Be6', 'c5', 'Ne4', 'O-O', 'Nd7', 'Bf4', 'O-O', 'Nbd2', 'Bf7', 'Qe3', 'Qe8', 'Bh6', 'Ndf6', 'Ne5', 'Nxd2', 'Qxd2', 'Nd7', 'Bxg7', 'Kxg7', 'Qf4', 'Be6', 'a4', 'Nxe5', 'Qxe5+', 'Rf6', 'f4', 'Kg8', 'Rfb1', 'Bc8', 'Qc7', 'Qd7', 'Qxd7', 'Bxd7', 'b5', 'Rff8', 'e3', 'e6', 'Bf1', 'Kf7', 'a5', 'Rfb8', 'Rb2', 'Ke7', 'Rab1', 'Rc8', 'bxc6', 'bxc6', 'Ba6', 'Rc7', 'Rb8', 'Rxb8', 'Rxb8', 'Be8', 'Bb7', 'Bd7', 'a6', 'Be8', 'Ra8', 'Bd7', 'Kf2', 'Kf6', 'Rh8', 'Kg7', 'Ra8', 'Kf6', 'Ke2', 'h6', 'Kd2', 'g5', 'Kc3', 'gxf4', 'exf4']\n"
     ]
    }
   ],
   "source": [
    "print( en_lines[0])"
   ]
  },
  {
   "cell_type": "code",
   "execution_count": 50,
   "metadata": {},
   "outputs": [],
   "source": [
    "# pega somente os 16 primeiros\n",
    "en_lines_16= [line[0:16] for line in en_lines]"
   ]
  },
  {
   "cell_type": "code",
   "execution_count": 54,
   "metadata": {},
   "outputs": [
    {
     "data": {
      "text/plain": [
       "True"
      ]
     },
     "execution_count": 54,
     "metadata": {},
     "output_type": "execute_result"
    }
   ],
   "source": [
    "# filtra os que estão no vocabulario\n",
    "def is_all_in_words( label):\n",
    "    return all( w in words for w in label)\n",
    "\n",
    "is_all_in_words( en_lines_16[0])"
   ]
  },
  {
   "cell_type": "code",
   "execution_count": 55,
   "metadata": {},
   "outputs": [],
   "source": [
    "fitered_enlabels= [list for list in en_lines_16 if is_all_in_words( list)]"
   ]
  },
  {
   "cell_type": "code",
   "execution_count": 56,
   "metadata": {},
   "outputs": [
    {
     "name": "stdout",
     "output_type": "stream",
     "text": [
      "all 30000 filtered 17586\n"
     ]
    }
   ],
   "source": [
    "print( 'all', len( en_lines_16), 'filtered', len(fitered_enlabels ))"
   ]
  },
  {
   "cell_type": "code",
   "execution_count": 92,
   "metadata": {},
   "outputs": [
    {
     "name": "stdout",
     "output_type": "stream",
     "text": [
      "all 30000 filtered 17586 valid 17066\n"
     ]
    }
   ],
   "source": [
    "valid_enlabels= [list for list in fitered_enlabels if len( list)== 16]\n",
    "print( 'all', len( en_lines_16), 'filtered', len(fitered_enlabels ), 'valid', len( valid_enlabels))"
   ]
  },
  {
   "cell_type": "code",
   "execution_count": 112,
   "metadata": {},
   "outputs": [
    {
     "name": "stdout",
     "output_type": "stream",
     "text": [
      "['d4', 'd5', 'Nf3', 'Nf6', 'Bf4', 'e6', 'e3', 'c5', 'Nbd2', 'Nc6', 'c3', 'Bd6', 'Bg3', 'O-O', 'Bd3', 'b6']\n"
     ]
    }
   ],
   "source": [
    "#\n",
    "# returna lista\n",
    "#\n",
    "def random_label_from_jogos():\n",
    "    return valid_enlabels[ random.randrange( 0, len( valid_enlabels))]\n",
    "print( random_label_from_jogos())"
   ]
  },
  {
   "cell_type": "code",
   "execution_count": 249,
   "metadata": {},
   "outputs": [],
   "source": [
    "#\n",
    "# gera imagem montada, mas com sequencia validad e jogo\n",
    "#\n",
    "def get_random_cut_for( w):\n",
    "    f= word_cuts[w][random.randrange( 0, len( word_cuts[w]))]\n",
    "    if f is None:\n",
    "        print( 'Oops nao encontrado para ', w)\n",
    "        print( word_cuts[w])\n",
    "#     print( w, f)\n",
    "    return resize_( _load_image( f), 339, 72)\n",
    "\n",
    "\n",
    "def resize( img, width, height):\n",
    "    img= cv2.resize(img, (width, height), interpolation = cv2.INTER_AREA) \n",
    "    return img\n",
    "\n",
    "def rebuild( cuts):\n",
    "    col1= np.concatenate((\n",
    "            cuts[ 0], cuts[ 2], cuts[ 4], cuts[ 6], cuts[ 8], \n",
    "            cuts[10], cuts[12], cuts[14]\n",
    "          ), axis= 0)\n",
    "    col2= np.concatenate((\n",
    "            cuts[ 1], cuts[ 3], cuts[ 5], cuts[ 7], cuts[ 9], \n",
    "            cuts[11], cuts[13], cuts[15]\n",
    "          ), axis= 0)\n",
    "    return np.concatenate((col1, col2), axis= 1)\n",
    "\n",
    "def generate_for_label( label, folder, tag=None):    \n",
    "    cuts= []\n",
    "    for w in label:\n",
    "        cuts.append( get_random_cut_for( w))\n",
    "    img= rebuild( cuts)\n",
    "#     show( img)\n",
    "    img= resize( img, 345, 300)\n",
    "    \n",
    "    if tag is None:\n",
    "        tag= 'combined'\n",
    "    fname= tag+\"-\"+str( uuid.uuid4())[:8] \n",
    "#     show( img)\n",
    "#     print( \" \".join( label))\n",
    "    write_image( os.path.join( folder, 'images', fname+ \".jpg\"), img)\n",
    "    write_label( os.path.join( folder, 'labels', fname+ \".pgn\"), \" \".join( label))\n",
    "    \n",
    "def generate_parts_seq_pool( N):\n",
    "    folder= os.path.join( \"C:/mestrado/datasets/final/datasets_pool/parts-seq\")\n",
    "    for i in range( 0, N):\n",
    "        if i%100== 0:\n",
    "            print( i)\n",
    "            \n",
    "        label= random_label_from_jogos()    \n",
    "        generate_for_label( label, folder)\n",
    "        \n",
    "# generate_parts_seq_pool( 30000)"
   ]
  },
  {
   "cell_type": "code",
   "execution_count": 269,
   "metadata": {},
   "outputs": [
    {
     "name": "stdout",
     "output_type": "stream",
     "text": [
      "['Na4', 'Na5', 'Na6', 'Nb3', 'Nb4', 'Nb5', 'Nb6', 'Nbd2', 'Nbd7', 'Nc2', 'Nc3', 'Nc5', 'Nc6', 'Nce7', 'Nd2', 'Nd4', 'Nd5', 'Nd7', 'Ndb5', 'Nde2', 'Ne1', 'Ne2', 'Ne4', 'Ne5', 'Ne7', 'Nf1', 'Nf3', 'Nf6', 'Nfd7', 'Nh5', 'c3', 'c4', 'c5', 'c6', 'e3', 'e4', 'e5', 'e6']\n"
     ]
    }
   ],
   "source": [
    "words_ec= [w for w in words if (('e' in w or 'c' in w or 'N' in w) and 'x' not in w and not '+' in w and not 'Q' in w and not 'B' in w and 'R' not in w and 'Ng' not in w)]\n",
    "print( words_ec)"
   ]
  },
  {
   "cell_type": "code",
   "execution_count": 276,
   "metadata": {},
   "outputs": [
    {
     "name": "stdout",
     "output_type": "stream",
     "text": [
      "['Nge2', 'c5', 'Nb3', 'Nb5', 'Nxd4', 'e5', 'Nxd7', 'Be2', 'Be5', 'e4', 'Nce7', 'exf6', 'Nbd7', 'Nd2', 'e3', 'exd4', 'Ngf3', 'Ndb5', 'Nfd7', 'Nbxd2', 'Re8', 'Nh5', 'Nf6', 'Qxe4+', 'Nb4', 'Nge7', 'Nf1', 'Nxe4', 'Na4', 'c6', 'Nxf6+', 'Nc3', 'Nf3', 'Ne1', 'Ne2', 'Ne7', 'Qe7', 'c3', 'Nd4', 'Na6', 'Na5', 'Qe1', 'Nc2', 'e6', 'Nd7', 'c4', 'Re1', 'Nbd2', 'Be3', 'Nb6', 'Nxc6', 'Nxd5', 'Nd6+', 'Ne5', 'Nc5', 'Be6', 'Nxe5', 'Qe2', 'Ngf6', 'Nde2', 'exd5', 'dxe4', 'Ng5', 'Qe8', 'Ne4', 'Nc6', 'Nd5', 'Be7']\n"
     ]
    }
   ],
   "source": [
    "words_ec= list(set(\n",
    "    [w for w in words if 'e' in w]+ \n",
    "    [w for w in words if 'N' in w]+ \n",
    "    [w for w in words if 'c' in w and 'x' not in w and not '+' in w and not 'Q' in w and not 'B' in w and 'R' not in w and 'Ng' not in w]))\n",
    "print( words_ec)"
   ]
  },
  {
   "cell_type": "code",
   "execution_count": 384,
   "metadata": {},
   "outputs": [
    {
     "name": "stdout",
     "output_type": "stream",
     "text": [
      "68 175 13\n"
     ]
    }
   ],
   "source": [
    "print( len( words_ec), len( words), len( words_ec_v2))"
   ]
  },
  {
   "cell_type": "code",
   "execution_count": 279,
   "metadata": {},
   "outputs": [
    {
     "name": "stdout",
     "output_type": "stream",
     "text": [
      "['exd5', 'Qe1', 'Nxd4', 'e4', 'Ne2', 'Ne1', 'Re1', 'Nxd7', 'Nge7', 'Re8', 'Be6', 'Nge7', 'Qe7', 'Nxe5', 'Nd7', 'Nb6']\n"
     ]
    }
   ],
   "source": [
    "def random_label_from_vocab_ec():\n",
    "    label= []\n",
    "    for i in range( 0, 16):\n",
    "        label.append( \n",
    "            words_ec[random.randrange( 0, len( words_ec))]\n",
    "        )\n",
    "    return label\n",
    "\n",
    "print( random_label_from_vocab_ec())    "
   ]
  },
  {
   "cell_type": "code",
   "execution_count": 377,
   "metadata": {},
   "outputs": [
    {
     "data": {
      "text/plain": [
       "'Be2 Be3 Be5 Be6 Be7 Ca4 Ca5 Ca6 Cb3 Cb4 Cb5 Cb6 Cbd2 Cbd7 Cbxd2 Cc2 Cc3 Cc5 Cc6 Cce7 Cd2 Cd4 Cd5 Cd6+ Cd7 Cdb5 Cde2 Ce1 Ce2 Ce4 Ce5 Ce7 Cf1 Cf3 Cf6 Cfd7 Cg5 Cge2 Cge7 Cgf3 Cgf6 Ch5 Cxc6 Cxd4 Cxd5 Cxd7 Cxe4 Cxe5 Cxf6+ De1 De2 De7 De8 Dxe4+ Te1 Te8 c3 c4 c5 c6 dxe4 e3 e4 e5 e6 exd4 exd5 exf6'"
      ]
     },
     "execution_count": 377,
     "metadata": {},
     "output_type": "execute_result"
    }
   ],
   "source": [
    "_= [pgn_to_pt(w) for w in words_ec]\n",
    "_.sort()\n",
    "\" \".join(_)"
   ]
  },
  {
   "cell_type": "code",
   "execution_count": 280,
   "metadata": {},
   "outputs": [
    {
     "name": "stdout",
     "output_type": "stream",
     "text": [
      "0\n",
      "100\n",
      "200\n",
      "300\n",
      "400\n",
      "500\n",
      "600\n",
      "700\n",
      "800\n",
      "900\n",
      "1000\n",
      "1100\n",
      "1200\n",
      "1300\n",
      "1400\n",
      "1500\n",
      "1600\n",
      "1700\n",
      "1800\n",
      "1900\n",
      "2000\n",
      "2100\n",
      "2200\n",
      "2300\n",
      "2400\n",
      "2500\n",
      "2600\n",
      "2700\n",
      "2800\n",
      "2900\n",
      "3000\n",
      "3100\n",
      "3200\n",
      "3300\n",
      "3400\n",
      "3500\n",
      "3600\n",
      "3700\n",
      "3800\n",
      "3900\n",
      "4000\n",
      "4100\n",
      "4200\n",
      "4300\n",
      "4400\n",
      "4500\n",
      "4600\n",
      "4700\n",
      "4800\n",
      "4900\n",
      "5000\n",
      "5100\n",
      "5200\n",
      "5300\n",
      "5400\n",
      "5500\n",
      "5600\n",
      "5700\n",
      "5800\n",
      "5900\n",
      "6000\n",
      "6100\n",
      "6200\n",
      "6300\n",
      "6400\n",
      "6500\n",
      "6600\n",
      "6700\n",
      "6800\n",
      "6900\n",
      "7000\n",
      "7100\n",
      "7200\n",
      "7300\n",
      "7400\n",
      "7500\n",
      "7600\n",
      "7700\n",
      "7800\n",
      "7900\n",
      "8000\n",
      "8100\n",
      "8200\n",
      "8300\n",
      "8400\n",
      "8500\n",
      "8600\n",
      "8700\n",
      "8800\n",
      "8900\n",
      "9000\n",
      "9100\n",
      "9200\n",
      "9300\n",
      "9400\n",
      "9500\n",
      "9600\n",
      "9700\n",
      "9800\n",
      "9900\n",
      "10000\n",
      "10100\n",
      "10200\n",
      "10300\n",
      "10400\n",
      "10500\n",
      "10600\n",
      "10700\n",
      "10800\n",
      "10900\n",
      "11000\n",
      "11100\n",
      "11200\n",
      "11300\n",
      "11400\n",
      "11500\n",
      "11600\n",
      "11700\n",
      "11800\n",
      "11900\n",
      "12000\n",
      "12100\n",
      "12200\n",
      "12300\n",
      "12400\n",
      "12500\n",
      "12600\n",
      "12700\n",
      "12800\n",
      "12900\n",
      "13000\n",
      "13100\n",
      "13200\n",
      "13300\n",
      "13400\n",
      "13500\n",
      "13600\n",
      "13700\n",
      "13800\n",
      "13900\n",
      "14000\n",
      "14100\n",
      "14200\n",
      "14300\n",
      "14400\n",
      "14500\n",
      "14600\n",
      "14700\n",
      "14800\n",
      "14900\n",
      "15000\n",
      "15100\n",
      "15200\n",
      "15300\n",
      "15400\n",
      "15500\n",
      "15600\n",
      "15700\n",
      "15800\n",
      "15900\n",
      "16000\n",
      "16100\n",
      "16200\n",
      "16300\n",
      "16400\n",
      "16500\n",
      "16600\n",
      "16700\n",
      "16800\n",
      "16900\n",
      "17000\n",
      "17100\n",
      "17200\n",
      "17300\n",
      "17400\n",
      "17500\n",
      "17600\n",
      "17700\n",
      "17800\n",
      "17900\n",
      "18000\n",
      "18100\n",
      "18200\n",
      "18300\n",
      "18400\n",
      "18500\n",
      "18600\n",
      "18700\n",
      "18800\n",
      "18900\n",
      "19000\n",
      "19100\n",
      "19200\n",
      "19300\n",
      "19400\n",
      "19500\n",
      "19600\n",
      "19700\n",
      "19800\n",
      "19900\n"
     ]
    }
   ],
   "source": [
    "def generate_parts_ec_pool( N):\n",
    "    folder= os.path.join( \"C:/mestrado/datasets/final/datasets_pool/parts-ec\")\n",
    "    for i in range( 0, N):\n",
    "        if i%100== 0:\n",
    "            print( i)\n",
    "            \n",
    "        label= random_label_from_vocab_ec()    \n",
    "        generate_for_label( label, folder, 'shuffle-ec-only')\n",
    "        \n",
    "generate_parts_ec_pool( 20000)"
   ]
  },
  {
   "cell_type": "markdown",
   "metadata": {},
   "source": [
    "\n",
    "## pegando um conjunto ainda menor, baseado na matrix de confusao..\n",
    "\n",
    "\n",
    "Matriz de confusao paral len=1\n",
    "e4 => c4(0.1111111111111111) \n",
    "Cc3 => Cf3(1.0) \n",
    "d4 => e4(0.07692307692307693) \n",
    "c4 => e4(0.14285714285714285) d4(0.14285714285714285) \n",
    "g3 => e3(1.0)\n",
    "\n",
    "Matriz de confusao para len=4\n",
    "e4 => c4(0.14285714285714285) \n",
    "c5 => d5(0.043478260869565216) e6(0.021739130434782608) e5(0.06521739130434782) \n",
    "Bg5 => Cf3(1.0) \n",
    "Cc3 => Cf3(0.42857142857142855) \n",
    "exd5 => Cbd2(0.5) \n",
    "d5 => c5(0.038461538461538464) Cf6(0.038461538461538464) \n",
    "d4 => e4(0.05263157894736842) \n",
    "Cc6 => Cf6(0.05) \n",
    "Cf3 => O-O(0.014925373134328358) \n",
    "c4 => e4(0.1724137931034483) d4(0.034482758620689655) Ce4(0.034482758620689655) \n",
    "f5 => e5(0.5) Bg7(0.5) \n",
    "g6 => a6(0.05263157894736842) e6(0.05263157894736842) d6(0.05263157894736842) \n",
    "e6 => Cc6(0.03125) g6(0.125) d6(0.03125) c6(0.0625) \n",
    "Bb7 => g3(1.0) \n",
    "d6 => d5(0.13636363636363635) e6(0.045454545454545456) Cf6(0.045454545454545456) \n",
    "g3 => Bd2(0.1) \n",
    "e5 => e4(0.07692307692307693) c5(0.38461538461538464) d5(0.07692307692307693) \n",
    "b3 => Cf3(0.5) g3(0.5) \n",
    "Cf6 => d5(0.02631578947368421) e6(0.02631578947368421) d6(0.02631578947368421) O-O(0.02631578947368421) \n",
    "c6 => c5(0.2) Cc6(0.2) Cf6(0.2) "
   ]
  },
  {
   "cell_type": "code",
   "execution_count": 303,
   "metadata": {},
   "outputs": [],
   "source": [
    "words_ec_v2= ['b3', 'c5','c6', 'e3','e4','exd5','e5','g3','g6','Bg5', 'Nc3', 'Nf3','Nbd2']"
   ]
  },
  {
   "cell_type": "code",
   "execution_count": 304,
   "metadata": {},
   "outputs": [
    {
     "data": {
      "text/plain": [
       "[]"
      ]
     },
     "execution_count": 304,
     "metadata": {},
     "output_type": "execute_result"
    }
   ],
   "source": [
    "[ w for w in words_ec_v2 if w not in words]"
   ]
  },
  {
   "cell_type": "code",
   "execution_count": 335,
   "metadata": {},
   "outputs": [
    {
     "name": "stdout",
     "output_type": "stream",
     "text": [
      "['Nf3', 'g3', 'Nbd2', 'g6']\n"
     ]
    }
   ],
   "source": [
    "def random_label_from_vocab_ec_v2():\n",
    "    label= []\n",
    "    for i in range( 0, 4):\n",
    "        label.append( \n",
    "            words_ec_v2[random.randrange( 0, len( words_ec_v2))]\n",
    "        )\n",
    "    return label\n",
    "\n",
    "print( random_label_from_vocab_ec_v2())    "
   ]
  },
  {
   "cell_type": "code",
   "execution_count": 339,
   "metadata": {},
   "outputs": [
    {
     "name": "stdout",
     "output_type": "stream",
     "text": [
      "0\n",
      "100\n",
      "200\n",
      "300\n",
      "400\n",
      "500\n",
      "600\n",
      "700\n",
      "800\n",
      "900\n",
      "1000\n",
      "1100\n",
      "1200\n",
      "1300\n",
      "1400\n",
      "1500\n",
      "1600\n",
      "1700\n",
      "1800\n",
      "1900\n"
     ]
    }
   ],
   "source": [
    "def rebuild_2lines( cuts):\n",
    "    col1= np.concatenate((cuts[ 0], cuts[ 2]), axis= 0)\n",
    "    col2= np.concatenate((cuts[ 1], cuts[ 3]), axis= 0)\n",
    "    return np.concatenate((col1, col2), axis= 1)\n",
    "\n",
    "def generate_for_label_2lines( label, folder, tag=None):    \n",
    "    cuts= []\n",
    "    for w in label:\n",
    "        cuts.append( get_random_cut_for( w))\n",
    "    img= rebuild_2lines( cuts)\n",
    "#     show( img)\n",
    "    img= resize( img, 345, 80)\n",
    "    \n",
    "    if tag is None:\n",
    "        tag= 'combined'\n",
    "    fname= tag+\"-\"+str( uuid.uuid4())[:8] \n",
    "#     show( img)\n",
    "#     print( \" \".join( label))\n",
    "    write_image( os.path.join( folder, 'images', fname+ \".jpg\"), img)\n",
    "    write_label( os.path.join( folder, 'labels', fname+ \".pgn\"), \" \".join( label))\n",
    "\n",
    "def generate_parts_ec_v2_2lines_pool( N):\n",
    "    folder= os.path.join( \"C:/mestrado/datasets/final/datasets_pool_2lines/parts-ec-v2\")\n",
    "    for i in range( 0, N):\n",
    "        if i%100== 0:\n",
    "            print( i)\n",
    "            \n",
    "        label= random_label_from_vocab_ec_v2()    \n",
    "        generate_for_label_2lines( label, folder, 'shuffle-ec-v2-only')\n",
    "        \n",
    "generate_parts_ec_v2_2lines_pool( 2000)"
   ]
  },
  {
   "cell_type": "code",
   "execution_count": 345,
   "metadata": {},
   "outputs": [
    {
     "name": "stdout",
     "output_type": "stream",
     "text": [
      "['Nge2', 'c5', 'Nb3', 'Nb5', 'Nxd4', 'e5', 'Nxd7', 'Be2', 'Be5', 'e4', 'Nce7', 'exf6', 'Nbd7', 'Nd2', 'e3', 'exd4', 'Ngf3', 'Ndb5', 'Nfd7', 'Nbxd2', 'Re8', 'Nh5', 'Nf6', 'Qxe4+', 'Nb4', 'Nge7', 'Nf1', 'Nxe4', 'Na4', 'c6', 'Nxf6+', 'Nc3', 'Nf3', 'Ne1', 'Ne2', 'Ne7', 'Qe7', 'c3', 'Nd4', 'Na6', 'Na5', 'Qe1', 'Nc2', 'e6', 'Nd7', 'c4', 'Re1', 'Nbd2', 'Be3', 'Nb6', 'Nxc6', 'Nxd5', 'Nd6+', 'Ne5', 'Nc5', 'Be6', 'Nxe5', 'Qe2', 'Ngf6', 'Nde2', 'exd5', 'dxe4', 'Ng5', 'Qe8', 'Ne4', 'Nc6', 'Nd5', 'Be7']\n"
     ]
    }
   ],
   "source": [
    "#\n",
    "# subset mais reduzido de c e e\n",
    "#\n",
    "\n",
    "words_ec_v3= list(set(\n",
    "    [w for w in words if 'e' in w]+ \n",
    "    [w for w in words if 'c' in w])) # and 'x' not in w and not '+' in w and not 'Q' in w and not 'B' in w and 'R' not in w and 'Ng' not in w]))\n",
    "print( words_ec)\n",
    "\n"
   ]
  },
  {
   "cell_type": "code",
   "execution_count": null,
   "metadata": {},
   "outputs": [],
   "source": [
    "#\n",
    "# limpa datasets muito grandes. Deixa somente os 500 primeiros..\n",
    "#\n",
    "def limpa_datasets_grandes():\n",
    "    for w in words:\n",
    "        hand_files= glob( os.path.join( 'C:/mestrado/datasets/final/parts-lib/from-handmade', w, \"*.jpg\"))\n",
    "        print( w, len( hand_files))\n",
    "        if len( hand_files)> 300:\n",
    "            print( 'removendo ', w, len( hand_files[300:]))\n",
    "            for f in hand_files[300:]:\n",
    "                os.remove( f)\n",
    "\n",
    "    for w in words:\n",
    "        hand_files= glob( os.path.join( 'C:/mestrado/datasets/final/parts-lib/from-torneios', w, \"*.jpg\"))\n",
    "        print( w, len( hand_files))\n",
    "        if len( hand_files)> 300:\n",
    "            print( 'removendo ', w, len( hand_files[300:]))\n",
    "            for f in hand_files[300:]:\n",
    "                os.remove( f)"
   ]
  },
  {
   "cell_type": "code",
   "execution_count": null,
   "metadata": {},
   "outputs": [],
   "source": [
    "#\n",
    "# copia os manuais para o diretorio do dataset\n",
    "#\n",
    "\n",
    "org_dir= 'C:/mestrado/datasets/final/handmade-8lines/images'\n",
    "files= glob( os.path.join( org_dir, \"*.jpg\"))"
   ]
  },
  {
   "cell_type": "code",
   "execution_count": null,
   "metadata": {},
   "outputs": [],
   "source": [
    "len( files)"
   ]
  },
  {
   "cell_type": "code",
   "execution_count": null,
   "metadata": {},
   "outputs": [],
   "source": [
    "N_train= int(len( files)*0.8)"
   ]
  },
  {
   "cell_type": "code",
   "execution_count": null,
   "metadata": {},
   "outputs": [],
   "source": [
    "N_train"
   ]
  },
  {
   "cell_type": "code",
   "execution_count": null,
   "metadata": {},
   "outputs": [],
   "source": [
    "files[0:1]"
   ]
  },
  {
   "cell_type": "code",
   "execution_count": null,
   "metadata": {},
   "outputs": [],
   "source": [
    "random.shuffle(files)\n",
    "print( files[0:1])"
   ]
  },
  {
   "cell_type": "code",
   "execution_count": null,
   "metadata": {},
   "outputs": [],
   "source": [
    "#copia para o diretorio do dataset\n",
    "for i in range( 0, len( files)):\n",
    "    folder= \"train\" if i< N_train else \"valid\"\n",
    "    f= files[i]\n",
    "    \n",
    "    dest_dir= os.path.join( \"C:/mestrado/datasets/final/handmade-8lines/_splitted\", folder)\n",
    "    img_file= os.path.join( dest_dir, \"images\", Path(f).name)\n",
    "    shutil.copyfile( f, img_file)\n",
    "    shutil.copyfile( \n",
    "            f.replace( 'images', 'labels').replace( 'jpg', 'pgn'),                  \n",
    "            img_file.replace( 'images', 'labels').replace( 'jpg', 'pgn'))"
   ]
  },
  {
   "cell_type": "code",
   "execution_count": null,
   "metadata": {},
   "outputs": [],
   "source": [
    "#\n",
    "# limpa dataset de handmande para deixar só os que estão dentro do vocabulario\n",
    "#\n",
    "files= glob( os.path.join( \"C:/mestrado/datasets/final/handmade-8lines/all-/labels\", \"*.pgn\"))\n",
    "print( len( files))"
   ]
  },
  {
   "cell_type": "code",
   "execution_count": null,
   "metadata": {},
   "outputs": [],
   "source": [
    "valids=[]\n",
    "for f in files:\n",
    "    label= read_label(f).split()\n",
    "    if all( e in words for e in label):\n",
    "        valids.append( f)\n",
    "print( len( valids))"
   ]
  },
  {
   "cell_type": "code",
   "execution_count": null,
   "metadata": {},
   "outputs": [],
   "source": [
    "for f in valids:\n",
    "    shutil.copyfile( f, f.replace( 'all-', 'valids-for-vocab'))\n",
    "    shutil.copyfile( \n",
    "        f.replace( 'labels', 'images').replace( '.pgn', '.jpg'), \n",
    "        f.replace( 'labels', 'images').replace( '.pgn', '.jpg').replace( 'all-', 'valids-for-vocab'))    "
   ]
  },
  {
   "cell_type": "code",
   "execution_count": null,
   "metadata": {},
   "outputs": [],
   "source": [
    "for f in files:\n",
    "    label= read_label(f).split()\n",
    "    if not all( e in words for e in label):\n",
    "        print( label)\n",
    "        for w in label:\n",
    "            print( w, w in words)\n",
    "        break\n"
   ]
  },
  {
   "cell_type": "code",
   "execution_count": null,
   "metadata": {},
   "outputs": [],
   "source": [
    "#\n",
    "# gera random por fontes sinteticas\n",
    "#"
   ]
  },
  {
   "cell_type": "code",
   "execution_count": null,
   "metadata": {},
   "outputs": [],
   "source": [
    "def to_pgn( label):\n",
    "    return [pt_to_pgn( w) for w in label]\n",
    "\n",
    "\n",
    "img = Image.open(\"C:/mestrado/datasets/syn/template/template-2x.jpg\")  # load base image\n",
    "dctx = ImageDraw.Draw(img)  # create drawing context\n",
    "dh_top= 14\n",
    "dh_bottom= 26\n",
    "h= (img.height - dh_top - dh_bottom)/25.0\n",
    "w= img.width/4.0\n",
    "\n",
    "margin_left= w/4\n",
    "margin_top= h/6\n",
    "\n",
    "def generate_for( line):\n",
    "    img = Image.open(\"C:/mestrado/datasets/syn/template/template-2x.jpg\")  # load base image\n",
    "    dctx = ImageDraw.Draw(img)  # create drawing context\n",
    "\n",
    "    i= 0\n",
    "    for ln in range( 0, 8):\n",
    "        for col in range( 0, 2):\n",
    "            if i>= len( line):\n",
    "                del dctx\n",
    "                return img\n",
    "        \n",
    "            fnt= random.choice( all_fonts)\n",
    "            txtsz = dctx.textsize(line[i], fnt)\n",
    "        \n",
    "            x= w* col + (w - txtsz[0])/2\n",
    "            if random.random()< 0.7:\n",
    "                xmargem= int( (w - txtsz[0])/3)\n",
    "                x+= random.randint( -xmargem, xmargem)\n",
    "            y= dh_top + h*ln + (h - txtsz[1])/2 #+ margin_top\n",
    "\n",
    "            dctx.text( (x, y), line[i], font=fnt, fill=\"#000000\")\n",
    "            i= i+1\n",
    "            \n",
    "    del dctx \n",
    "    return img\n",
    "\n",
    "def cut( img):\n",
    "    h= 600\n",
    "    w= 690 #345\n",
    "\n",
    "    img1= img[:h, :w]\n",
    "    return img1\n",
    "\n",
    "def generate_one( label): \n",
    "    img= generate_for( label)\n",
    "    img= cut( np.asarray(img))\n",
    "    img= PIL.Image.fromarray(np.uint8(img))\n",
    "    return img\n",
    "\n",
    "def __generate_random( N):\n",
    "#     N_train= int(N*0.8)\n",
    "#     print( 'N', N, 'N_train', N_train)\n",
    "    \n",
    "    for i in range( 0, N):\n",
    "        if( i%100== 0):\n",
    "            clear_output(wait=True)\n",
    "            print( i, '....')\n",
    "        label_pt= random_label_pt_from_vocab()\n",
    "        img= generate_one( label_pt)\n",
    "#         img= random_transform( img, 0.3)\n",
    "        pgn= to_pgn( label_pt)\n",
    "\n",
    "#         folder= 'train' if i< N_train else 'valid'\n",
    "        \n",
    "        # save\n",
    "#         show( img)\n",
    "        img_file= os.path.join( 'C:/mestrado/datasets/final/datasets_pool/syn-2', \n",
    "                        'images', \"random-syn--\"+str( uuid.uuid4())[:6]+'.jpg')\n",
    "        img.save( img_file)\n",
    "        write_label( img_file.replace( 'images', 'labels').replace( '.jpg', '.pgn'), \n",
    "                    \" \".join( to_pgn( label_pt)))\n",
    "\n",
    "__generate_random( 20000)\n",
    "print( 'DONE!')"
   ]
  },
  {
   "cell_type": "code",
   "execution_count": null,
   "metadata": {},
   "outputs": [],
   "source": [
    "#\n",
    "# Gera dataset combinando quantidades x, y e z do datasets de parts, sync e handmade\n",
    "#\n",
    "\n",
    "# le quantidades\n",
    "files= glob( 'C:/mestrado/datasets/final/datasets_pool/*/labels/*.pgn')\n",
    "\n"
   ]
  },
  {
   "cell_type": "code",
   "execution_count": null,
   "metadata": {},
   "outputs": [],
   "source": [
    "len( files)"
   ]
  },
  {
   "cell_type": "code",
   "execution_count": null,
   "metadata": {},
   "outputs": [],
   "source": [
    "len( [f for f in files if 'from-syn' in f])"
   ]
  },
  {
   "cell_type": "code",
   "execution_count": null,
   "metadata": {},
   "outputs": [],
   "source": [
    "print( 'hand', len( [f for f in files if 'hand' in f]))\n",
    "print( 'parts', len( [f for f in files if 'parts' in f]))"
   ]
  },
  {
   "cell_type": "code",
   "execution_count": null,
   "metadata": {},
   "outputs": [],
   "source": [
    "def generate_dataset( N, n_parts, n_sync, N_hand_max= None, ver= 'undefined'):\n",
    "    #N_ratio = (parts,syn)\n",
    "    \n",
    "    # cria diretorio\n",
    "    root= 'C:/mestrado/datasets/final/datasets/new-random-8lines--'+ ver\n",
    "    Path( os.path.join( root, 'train/images')).mkdir(parents=True, exist_ok=True)\n",
    "    Path( os.path.join( root, 'train/labels')).mkdir(parents=True, exist_ok=True)\n",
    "    Path( os.path.join( root, 'valid/images')).mkdir(parents=True, exist_ok=True)\n",
    "    Path( os.path.join( root, 'valid/labels')).mkdir(parents=True, exist_ok=True)\n",
    "    \n",
    "    # le os arquivos\n",
    "    files_hand= glob( 'C:/mestrado/datasets/final/datasets_pool/hand/labels/*.pgn')\n",
    "    files_syn= glob( 'C:/mestrado/datasets/final/datasets_pool/syn/labels/*.pgn')\n",
    "    files_parts= glob( 'C:/mestrado/datasets/final/datasets_pool/parts/labels/*.pgn')\n",
    "    \n",
    "    N_hand= len( files_hand)\n",
    "    if N_hand_max is not None:\n",
    "        N_hand= min( N_hand_max, len( files_hand))\n",
    "\n",
    "    \n",
    "    N_parts= int( (N-N_hand)* (n_parts/(n_parts+n_sync)))\n",
    "    N_syn= N - N_hand - N_parts\n",
    "    \n",
    "    print( 'gerar total', N, 'hand', N_hand, 'parts', N_parts, 'syc', N_syn)\n",
    "    N_train= int( N*.8)\n",
    "    print( 'train, valid', N_train, N-N_train)\n",
    "    \n",
    "#     return\n",
    "    \n",
    "    files= []\n",
    "    files.extend( files_hand[:N_hand])\n",
    "    files.extend( files_syn[:N_syn])\n",
    "    files.extend( files_parts[:N_parts])\n",
    "    \n",
    "    # shuffle\n",
    "    random.shuffle( files)\n",
    "    print( len( files))\n",
    "    \n",
    "    # copia\n",
    "    for i in range( 0, len( files)):\n",
    "        if( i%100== 0):\n",
    "#             clear_output(wait=True)\n",
    "            print( i, '....')\n",
    "        \n",
    "        f= files[i]\n",
    "        folder= 'train' if i< N_train else 'valid'\n",
    "        \n",
    "        # copia\n",
    "        dest_file= os.path.join( root, folder, 'labels', Path(f).name)\n",
    "        shutil.copyfile( f, dest_file)\n",
    "        shutil.copyfile( \n",
    "            f.replace( 'labels', 'images').replace( 'pgn', 'jpg'),                  \n",
    "            dest_file.replace( 'labels', 'images').replace( 'pgn', 'jpg'))\n",
    "    \n",
    "#generate_dataset( 15000, (2,1), None, 'v2')"
   ]
  },
  {
   "cell_type": "code",
   "execution_count": null,
   "metadata": {},
   "outputs": [],
   "source": [
    "# def transform_file( f):\n",
    "#     img= Image.open( f)\n",
    "#     img= random_transform( img, None)\n",
    "#     img.save( f)\n",
    "    \n",
    "def resize( path, width, height):\n",
    "    img= cv2.imread( path)\n",
    "#     show( img)\n",
    "    img= cv2.resize(img, (width, height), interpolation = cv2.INTER_AREA) \n",
    "#     show( img)\n",
    "    cv2.imwrite( path, img)    \n",
    "\n",
    "def resize_all( folder):\n",
    "    # pega todas as imagens\n",
    "    img_files= glob( os.path.join( folder, '*.jpg'))\n",
    "    print( len( img_files))\n",
    "                    \n",
    "    # resize\n",
    "    for i in range( 0, len( img_files)):\n",
    "        if i%100== 0:\n",
    "            print( i)\n",
    "        f= img_files[ i]\n",
    "        resize( f, 345, 300)\n",
    "                    \n",
    "    # para os sinteticos faz uma transformacao\n",
    "#     synfiles= [f from f in img_files if 'syn' in f]\n",
    "#     for f in synfiles:\n",
    "#         transform_file( f)\n",
    "    \n",
    "    \n",
    "resize_all( r'C:\\mestrado\\datasets\\final\\datasets_pool\\syn\\images')"
   ]
  },
  {
   "cell_type": "code",
   "execution_count": null,
   "metadata": {
    "scrolled": true
   },
   "outputs": [],
   "source": [
    "def generate_dataset_v2( n_hand, n_parts, n_sync, n_shuffle, ver):\n",
    "    #N_ratio = (parts,syn)\n",
    "    \n",
    "    n_hand= min(2010 , n_hand)\n",
    "    N= n_parts+ n_sync+ n_hand\n",
    "    print( 'gerar total', N, 'hand', n_hand, 'parts', n_parts, 'syc', n_sync, 'shuffle', n_shuffle)\n",
    "    \n",
    "    \n",
    "    # cria diretorio\n",
    "    root= 'C:/mestrado/datasets/final/datasets/dataset-'+ ver\n",
    "    Path( os.path.join( root, 'train/images')).mkdir(parents=True, exist_ok=True)\n",
    "    Path( os.path.join( root, 'train/labels')).mkdir(parents=True, exist_ok=True)\n",
    "    Path( os.path.join( root, 'valid/images')).mkdir(parents=True, exist_ok=True)\n",
    "    Path( os.path.join( root, 'valid/labels')).mkdir(parents=True, exist_ok=True)\n",
    "    \n",
    "    # le os arquivos\n",
    "    files_hand= glob( 'C:/mestrado/datasets/final/datasets_pool/hand/labels/*.pgn')\n",
    "    print( 'files_hand', len( files_hand));\n",
    "    files_syn= glob( 'C:/mestrado/datasets/final/datasets_pool/syn/labels/*.pgn')\n",
    "    print( 'files_syn', len( files_syn));\n",
    "    files_parts= glob( 'C:/mestrado/datasets/final/datasets_pool/parts/labels/*.pgn')\n",
    "    print( 'files_parts', len( files_parts));\n",
    "    files_shuffle= glob( 'C:/mestrado/datasets/final/datasets_pool/shuffle/labels/*.pgn')\n",
    "    print( 'files_shuffle', len( files_shuffle));\n",
    "    \n",
    "#     N_hand= len( files_hand)\n",
    "#     if N_hand_max is not None:\n",
    "#         N_hand= min( N_hand_max, len( files_hand))\n",
    "\n",
    "    \n",
    "#     N_parts= int( (N-N_hand)* (n_parts/(n_parts+n_sync)))\n",
    "#     N_syn= N - N_hand - N_parts\n",
    "    \n",
    "#     print( 'gerar total', N, 'hand', N_hand, 'parts', N_parts, 'syc', N_syn)\n",
    "    N_train= int( N*.8)\n",
    "    print( 'train, valid', N_train, N-N_train)\n",
    "    \n",
    "#     return\n",
    "    \n",
    "    files= []\n",
    "    files.extend( files_hand[:n_hand])\n",
    "    files.extend( files_syn[:n_sync])\n",
    "    files.extend( files_parts[:n_parts])\n",
    "    files.extend( files_shuffle[:n_shuffle])\n",
    "    \n",
    "    # shuffle\n",
    "    random.shuffle( files)\n",
    "    print( 'total', len( files))\n",
    "#     return\n",
    "    \n",
    "    # copia\n",
    "    for i in range( 0, len( files)):\n",
    "        if( i%100== 0):\n",
    "#             clear_output(wait=True)\n",
    "            print( i, '....')\n",
    "        \n",
    "        f= files[i]\n",
    "        folder= 'train' if i< N_train else 'valid'\n",
    "        \n",
    "        # copia\n",
    "        dest_file= os.path.join( root, folder, 'labels', Path(f).name)\n",
    "        shutil.copyfile( f, dest_file)\n",
    "        shutil.copyfile( \n",
    "            f.replace( 'labels', 'images').replace( 'pgn', 'jpg'),                  \n",
    "            dest_file.replace( 'labels', 'images').replace( 'pgn', 'jpg'))\n",
    "    \n",
    "generate_dataset_v2( 0, 16000, 0,0, 'v028--parts--16k')"
   ]
  },
  {
   "cell_type": "code",
   "execution_count": 343,
   "metadata": {
    "scrolled": false
   },
   "outputs": [
    {
     "name": "stdout",
     "output_type": "stream",
     "text": [
      "files_parts_ec_v2 1200 / 2011\n",
      "train, valid 960 240\n",
      "total 1200\n",
      "0 ....\n",
      "100 ....\n",
      "200 ....\n",
      "300 ....\n",
      "400 ....\n",
      "500 ....\n",
      "600 ....\n",
      "700 ....\n",
      "800 ....\n",
      "900 ....\n",
      "1000 ....\n",
      "1100 ....\n"
     ]
    }
   ],
   "source": [
    "def generate_dataset_v2_2lines( ver,\n",
    "                               n_hand, n_parts, n_sync, n_shuffle, \n",
    "                               n_parts_seq,\n",
    "                               n_parts_ec,\n",
    "                               n_parts_ec_v2,\n",
    "                               include_all_except_test= False, test=True):\n",
    "    #N_ratio = (parts,syn)\n",
    "    \n",
    "    n_hand= min(2010 , n_hand)\n",
    "    N= n_parts+ n_sync+ n_hand+ n_shuffle+ n_parts_seq+ n_parts_ec+ n_parts_ec_v2\n",
    "#     print( 'gerar total', N, 'hand', n_hand, 'parts', n_parts, 'syc', n_sync, 'shuffle', n_shuffle,\n",
    "#          'parts_seq', n_parts_seq\n",
    "#          )\n",
    "    \n",
    "    \n",
    "    # cria diretorio\n",
    "    root= 'C:/mestrado/datasets/final/datasets/'+ ver\n",
    "    Path( os.path.join( root, 'train/images')).mkdir(parents=True, exist_ok=True)\n",
    "    Path( os.path.join( root, 'train/labels')).mkdir(parents=True, exist_ok=True)\n",
    "    Path( os.path.join( root, 'valid/images')).mkdir(parents=True, exist_ok=True)\n",
    "    Path( os.path.join( root, 'valid/labels')).mkdir(parents=True, exist_ok=True)\n",
    "    \n",
    "    \n",
    "    files= []\n",
    "    \n",
    "    # le os arquivos\n",
    "    if n_hand> 0:\n",
    "        files_hand= glob( 'C:/mestrado/datasets/final/datasets_pool_2lines/hand/labels/*.pgn')\n",
    "        print( 'files_hand', n_hand, '/', len( files_hand));\n",
    "        files.extend( files_hand[:n_hand])\n",
    "\n",
    "    if n_sync> 0:\n",
    "        files_syn= glob( 'C:/mestrado/datasets/final/datasets_pool_2lines/syn/labels/*.pgn')\n",
    "        print( 'files_syn', n_sync, '/', len( files_syn));\n",
    "        files.extend( files_syn[:n_sync])\n",
    "\n",
    "    if n_parts> 0:\n",
    "        files_parts= glob( 'C:/mestrado/datasets/final/datasets_pool_2lines/parts/labels/*.pgn')\n",
    "        print( 'files_parts', n_parts, '/', len( files_parts));\n",
    "        files.extend( files_parts[:n_parts])\n",
    "\n",
    "    if n_shuffle> 0:\n",
    "        files_shuffle= glob( 'C:/mestrado/datasets/final/datasets_pool_2lines/shuffle/labels/*.pgn')\n",
    "        print( 'files_parts', n_shuffle, '/', len( files_parts));\n",
    "        files.extend( files_shuffle[:n_shuffle])\n",
    "        \n",
    "    if n_parts_seq> 0:\n",
    "        files_parts_seq= glob( 'C:/mestrado/datasets/final/datasets_pool_2lines/parts-seq/labels/*.pgn')\n",
    "        print( 'files_parts_seq', n_parts_seq, '/', len( files_parts_seq));\n",
    "        files.extend( files_parts_seq[:n_parts_seq])\n",
    "    \n",
    "    if n_parts_ec> 0:\n",
    "        files_parts_ec= glob( 'C:/mestrado/datasets/final/datasets_pool_2lines/parts-ec/labels/*.pgn')\n",
    "        random.shuffle( files_parts_ec)\n",
    "        print( 'files_parts_ec', n_parts_ec, '/', len( files_parts_ec));\n",
    "        files.extend( files_parts_ec[:n_parts_ec])\n",
    "    \n",
    "    if n_parts_ec_v2> 0:\n",
    "        files_parts_ec_v2= glob( 'C:/mestrado/datasets/final/datasets_pool_2lines/parts-ec-v2/labels/*.pgn')\n",
    "        random.shuffle( files_parts_ec_v2)\n",
    "        print( 'files_parts_ec_v2', n_parts_ec_v2, '/', len( files_parts_ec_v2));\n",
    "        files.extend( files_parts_ec_v2[:n_parts_ec_v2])\n",
    "    \n",
    "\n",
    "    N_train= int( N*.8)\n",
    "    print( 'train, valid', N_train, N-N_train)\n",
    "    \n",
    "    # shuffle\n",
    "    random.shuffle( files)\n",
    "    print( 'total', len( files))\n",
    "    \n",
    "    if len( files)!= N:\n",
    "        print( 'total nao bate. Esperado=', N, 'obtido=', len(files))\n",
    "        return\n",
    "    \n",
    "    if test:\n",
    "        print( 'test. Done!')\n",
    "        return\n",
    "    \n",
    "    # copia\n",
    "    for i in range( 0, len( files)):\n",
    "        if( i%100== 0):\n",
    "            print( i, '....')\n",
    "        \n",
    "        f= files[i]\n",
    "        folder= 'train' if i< N_train else 'valid'\n",
    "        \n",
    "        # copia\n",
    "        dest_file= os.path.join( root, folder, 'labels', Path(f).name)\n",
    "        shutil.copyfile( f, dest_file)\n",
    "        shutil.copyfile( \n",
    "            f.replace( 'labels', 'images').replace( 'pgn', 'jpg'),                  \n",
    "            dest_file.replace( 'labels', 'images').replace( 'pgn', 'jpg'))\n",
    "\n",
    "    # os de teste copia todos para train\n",
    "    if include_all_except_test== True:\n",
    "        files= glob( 'C:/mestrado/datasets/final/datasets_pool_2lines/torneio-except-test/labels/*.pgn')        \n",
    "        print( 'copiando ', len( files), ' para train')\n",
    "        for f in files:\n",
    "            folder= 'train'\n",
    "            dest_file= os.path.join( root, folder, 'labels', Path(f).name)\n",
    "            shutil.copyfile( f, dest_file)\n",
    "            shutil.copyfile( \n",
    "                f.replace( 'labels', 'images').replace( 'pgn', 'jpg'),                  \n",
    "                dest_file.replace( 'labels', 'images').replace( 'pgn', 'jpg'))\n",
    "    \n",
    "#n_hand, n_parts, n_sync, n_shuffle, ver\n",
    "generate_dataset_v2_2lines( ver='dataset-v035--2lines-32k-v5.1.1',\n",
    "                           n_hand=0, \n",
    "                           n_parts=0, \n",
    "                           n_sync=0,\n",
    "                           n_shuffle=0,\n",
    "                           n_parts_seq= 0,\n",
    "                           n_parts_ec= 0,\n",
    "                           n_parts_ec_v2= 1200,\n",
    "                           include_all_except_test=False,\n",
    "                           test= False)"
   ]
  },
  {
   "cell_type": "code",
   "execution_count": 231,
   "metadata": {},
   "outputs": [
    {
     "data": {
      "text/plain": [
       "False"
      ]
     },
     "execution_count": 231,
     "metadata": {},
     "output_type": "execute_result"
    }
   ],
   "source": [
    "# cria shuffled parts somente com e-c\n"
   ]
  },
  {
   "cell_type": "code",
   "execution_count": null,
   "metadata": {},
   "outputs": [],
   "source": [
    "str(uuid.uuid4())[:8]"
   ]
  },
  {
   "cell_type": "code",
   "execution_count": null,
   "metadata": {},
   "outputs": [],
   "source": [
    "def generate_dataset_top16( n_parts, ver):\n",
    "    #N_ratio = (parts,syn)\n",
    "    \n",
    "    N= n_parts\n",
    "    print( 'gerar total', N, 'parts')\n",
    "    \n",
    "    \n",
    "    # cria diretorio\n",
    "    root= 'C:/mestrado/datasets/final/datasets/new-random-8lines--'+ ver\n",
    "    Path( os.path.join( root, 'train/images')).mkdir(parents=True, exist_ok=True)\n",
    "    Path( os.path.join( root, 'train/labels')).mkdir(parents=True, exist_ok=True)\n",
    "    Path( os.path.join( root, 'valid/images')).mkdir(parents=True, exist_ok=True)\n",
    "    Path( os.path.join( root, 'valid/labels')).mkdir(parents=True, exist_ok=True)\n",
    "    \n",
    "    files_parts= glob( 'C:/mestrado/datasets/final/datasets_pool/parts-top16/labels/*.pgn')\n",
    "    print( 'files_parts', len( files_parts));\n",
    "    \n",
    "#     N_hand= len( files_hand)\n",
    "#     if N_hand_max is not None:\n",
    "#         N_hand= min( N_hand_max, len( files_hand))\n",
    "\n",
    "    \n",
    "#     N_parts= int( (N-N_hand)* (n_parts/(n_parts+n_sync)))\n",
    "#     N_syn= N - N_hand - N_parts\n",
    "    \n",
    "#     print( 'gerar total', N, 'hand', N_hand, 'parts', N_parts, 'syc', N_syn)\n",
    "    N_train= int( N*.8)\n",
    "    print( 'train, valid', N_train, N-N_train)\n",
    "    \n",
    "#     return\n",
    "    \n",
    "    files= []\n",
    "    files.extend( files_parts[:n_parts])\n",
    "    \n",
    "    # shuffle\n",
    "    random.shuffle( files)\n",
    "    print( len( files))\n",
    "#     return\n",
    "    \n",
    "    # copia\n",
    "    for i in range( 0, len( files)):\n",
    "        if( i%100== 0):\n",
    "#             clear_output(wait=True)\n",
    "            print( i, '....')\n",
    "        \n",
    "        f= files[i]\n",
    "        folder= 'train' if i< N_train else 'valid'\n",
    "        \n",
    "        # copia\n",
    "        dest_file= os.path.join( root, folder, 'labels', Path(f).name)\n",
    "        shutil.copyfile( f, dest_file)\n",
    "        shutil.copyfile( \n",
    "            f.replace( 'labels', 'images').replace( 'pgn', 'jpg'),                  \n",
    "            dest_file.replace( 'labels', 'images').replace( 'pgn', 'jpg'))\n",
    "    \n",
    "generate_dataset_top16( 10000, 'v14--parts-to16--10k')"
   ]
  },
  {
   "cell_type": "code",
   "execution_count": null,
   "metadata": {},
   "outputs": [],
   "source": [
    "N_words= 32\n",
    "\n",
    "def generate_dataset_top16( n_parts, ver):\n",
    "    #N_ratio = (parts,syn)\n",
    "    \n",
    "    N= n_parts\n",
    "    print( 'gerar total', N, 'parts')\n",
    "    \n",
    "    \n",
    "    # cria diretorio\n",
    "    root= 'C:/mestrado/datasets/final/datasets/new-random-8lines--'+ ver\n",
    "    Path( os.path.join( root, 'train/images')).mkdir(parents=True, exist_ok=True)\n",
    "    Path( os.path.join( root, 'train/labels')).mkdir(parents=True, exist_ok=True)\n",
    "    Path( os.path.join( root, 'valid/images')).mkdir(parents=True, exist_ok=True)\n",
    "    Path( os.path.join( root, 'valid/labels')).mkdir(parents=True, exist_ok=True)\n",
    "    \n",
    "    files_parts= glob( 'C:/mestrado/datasets/final/datasets_pool/parts-top16/labels/*.pgn')\n",
    "    print( 'files_parts', len( files_parts));\n",
    "    \n",
    "#     N_hand= len( files_hand)\n",
    "#     if N_hand_max is not None:\n",
    "#         N_hand= min( N_hand_max, len( files_hand))\n",
    "\n",
    "    \n",
    "#     N_parts= int( (N-N_hand)* (n_parts/(n_parts+n_sync)))\n",
    "#     N_syn= N - N_hand - N_parts\n",
    "    \n",
    "#     print( 'gerar total', N, 'hand', N_hand, 'parts', N_parts, 'syc', N_syn)\n",
    "    N_train= int( N*.8)\n",
    "    print( 'train, valid', N_train, N-N_train)\n",
    "    \n",
    "#     return\n",
    "    \n",
    "    files= []\n",
    "    files.extend( files_parts[:n_parts])\n",
    "    \n",
    "    # shuffle\n",
    "    random.shuffle( files)\n",
    "    print( len( files))\n",
    "#     return\n",
    "    \n",
    "    # copia\n",
    "    for i in range( 0, len( files)):\n",
    "        if( i%100== 0):\n",
    "#             clear_output(wait=True)\n",
    "            print( i, '....')\n",
    "        \n",
    "        f= files[i]\n",
    "        folder= 'train' if i< N_train else 'valid'\n",
    "        \n",
    "        # copia\n",
    "        dest_file= os.path.join( root, folder, 'labels', Path(f).name)\n",
    "        shutil.copyfile( f, dest_file)\n",
    "        shutil.copyfile( \n",
    "            f.replace( 'labels', 'images').replace( 'pgn', 'jpg'),                  \n",
    "            dest_file.replace( 'labels', 'images').replace( 'pgn', 'jpg'))\n",
    "    \n",
    "generate_dataset_top16( 10000, 'v14--parts-to16--10k')"
   ]
  },
  {
   "cell_type": "code",
   "execution_count": null,
   "metadata": {},
   "outputs": [],
   "source": [
    "#\n",
    "# Constroi randomico a partir de vocabulario tal que na primeira posição venha somente os que aparecem \n",
    "# na primeira posição do dataset de testes\n",
    "#\n",
    "\n",
    "files= glob( r\"C:\\mestrado\\datasets\\final\\datasets\\new-random-8lines--v1--test-only\\test\\labels\\*.pgn\")\n",
    "print( len( files))"
   ]
  },
  {
   "cell_type": "code",
   "execution_count": null,
   "metadata": {},
   "outputs": [],
   "source": [
    "labels= [read_label(f) for f in files]"
   ]
  },
  {
   "cell_type": "code",
   "execution_count": null,
   "metadata": {},
   "outputs": [],
   "source": [
    "labels= [label.split() for label in labels]"
   ]
  },
  {
   "cell_type": "code",
   "execution_count": null,
   "metadata": {},
   "outputs": [],
   "source": [
    "p0= [label[0] for label in labels]"
   ]
  },
  {
   "cell_type": "code",
   "execution_count": null,
   "metadata": {},
   "outputs": [],
   "source": [
    "pc= Counter( p0)"
   ]
  },
  {
   "cell_type": "code",
   "execution_count": null,
   "metadata": {},
   "outputs": [],
   "source": [
    "pc"
   ]
  },
  {
   "cell_type": "code",
   "execution_count": null,
   "metadata": {},
   "outputs": [],
   "source": [
    "words_p0= [key for (key, value) in pc.items()]"
   ]
  },
  {
   "cell_type": "code",
   "execution_count": null,
   "metadata": {},
   "outputs": [],
   "source": [
    "words_p0"
   ]
  },
  {
   "cell_type": "code",
   "execution_count": null,
   "metadata": {},
   "outputs": [],
   "source": [
    "words"
   ]
  },
  {
   "cell_type": "code",
   "execution_count": null,
   "metadata": {},
   "outputs": [],
   "source": [
    "words= ['Ba4', 'Ba5', 'Ba7', 'Bb2', 'Bb3', 'Bb4', 'Bb4+', 'Bb5', 'Bb5+', 'Bb7', 'Bc4', 'Bc5', 'Bd2', 'Bd3', 'Bd6', 'Bd7', 'Be2', 'Be3', 'Be5', 'Be6', 'Be7', 'Bf3', 'Bf4', 'Bf5', 'Bg2', 'Bg3', 'Bg4', 'Bg5', 'Bg7', 'Bh4', 'Bh6', 'Bh7', 'Bxb4', 'Bxc3', 'Bxc3+', 'Bxc4', 'Bxc5', 'Bxc6', 'Bxc7', 'Bxd2+', 'Bxd6', 'Bxd7+', 'Bxf6', 'Kd8', 'Kxd8', 'Na4', 'Na5', 'Na6', 'Nb3', 'Nb4', 'Nb5', 'Nb6', 'Nbd2', 'Nbd7', 'Nbxd2', 'Nc2', 'Nc3', 'Nc5', 'Nc6', 'Nce7', 'Nd2', 'Nd4', 'Nd5', 'Nd6+', 'Nd7', 'Ndb5', 'Nde2', 'Ne1', 'Ne2', 'Ne4', 'Ne5', 'Ne7', 'Nf1', 'Nf3', 'Nf6', 'Nfd7', 'Ng5', 'Nge2', 'Nge7', 'Ngf3', 'Ngf6', 'Nh5', 'Nxc6', 'Nxd4', 'Nxd5', 'Nxd7', 'Nxe4', 'Nxe5', 'Nxf6+', 'O-O', 'O-O-O', 'Qa4', 'Qa5', 'Qa5+', 'Qb3', 'Qb6', 'Qc2', 'Qc3', 'Qc7', 'Qd1', 'Qd2', 'Qd3', 'Qd4', 'Qd5', 'Qd6', 'Qd7', 'Qe1', 'Qe2', 'Qe7', 'Qe8', 'Qf3', 'Qf6', 'Qg6', 'Qh4', 'Qxb2', 'Qxb3', 'Qxc4', 'Qxc7', 'Qxd4', 'Qxd5', 'Qxd6', 'Qxd8+', 'Qxe4+', 'Qxf6', 'Rb1', 'Rb8', 'Rc8', 'Re1', 'Re8', 'a3', 'a4', 'a5', 'a6', 'b3', 'b4', 'b5', 'b6', 'bxc3', 'bxc6', 'c3', 'c4', 'c5', 'c6', 'cxb3', 'cxd4', 'cxd5', 'cxd6', 'd3', 'd4', 'd5', 'd6', 'dxc3', 'dxc4', 'dxc5', 'dxc6', 'dxe4', 'e3', 'e4', 'e5', 'e6', 'exd4', 'exd5', 'exf6', 'f3', 'f4', 'f5', 'f6', 'g3', 'g5', 'g6', 'gxf6', 'h3', 'h4', 'h5', 'h6']\n",
    "   "
   ]
  },
  {
   "cell_type": "code",
   "execution_count": null,
   "metadata": {},
   "outputs": [],
   "source": [
    "def random_label_from_vocab_and_p0(w, w0):\n",
    "    label= []\n",
    "    label.append( w0[random.randrange( 0, len(w0))])\n",
    "    for i in range( 1, 16):\n",
    "        label.append( \n",
    "            words[random.randrange( 0, len( words))]\n",
    "        )\n",
    "    return label\n",
    "\n",
    "def resize( img, width, height):\n",
    "    img= cv2.resize(img, (width, height), interpolation = cv2.INTER_AREA) \n",
    "    return img\n",
    "\n",
    "def rebuild( cuts):\n",
    "    col1= np.concatenate((\n",
    "            cuts[ 0], cuts[ 2], cuts[ 4], cuts[ 6], cuts[ 8], \n",
    "            cuts[10], cuts[12], cuts[14]\n",
    "          ), axis= 0)\n",
    "    col2= np.concatenate((\n",
    "            cuts[ 1], cuts[ 3], cuts[ 5], cuts[ 7], cuts[ 9], \n",
    "            cuts[11], cuts[13], cuts[15]\n",
    "          ), axis= 0)\n",
    "    return np.concatenate((col1, col2), axis= 1)\n",
    "\n",
    "def generate_for_label( label, folder):\n",
    "#     print( 'label', label)\n",
    "    cuts= []\n",
    "    for w in label:\n",
    "        cuts.append( get_random_cut_for( w))\n",
    "    img= rebuild( cuts)\n",
    "    img= resize( img, 345, 300)\n",
    "    \n",
    "    fname= \"ss-8lines-\"+str( uuid.uuid4())[:8] \n",
    "#     show( img)\n",
    "    write_image( os.path.join( folder, 'images', fname+ \".jpg\"), img)\n",
    "    write_label( os.path.join( folder, 'labels', fname+ \".pgn\"), \" \".join( label))\n",
    "    \n",
    "def generate_database( N, dataset_name):\n",
    "    #N_ratio = (parts,syn)\n",
    "    \n",
    "    print( 'gerar total', N, 'parts')\n",
    "    \n",
    "    # cria diretorio\n",
    "    root= 'C:/mestrado/datasets/final/datasets/'+ dataset_name\n",
    "    Path( os.path.join( root, 'train/images')).mkdir(parents=True, exist_ok=True)\n",
    "    Path( os.path.join( root, 'train/labels')).mkdir(parents=True, exist_ok=True)\n",
    "    Path( os.path.join( root, 'valid/images')).mkdir(parents=True, exist_ok=True)\n",
    "    Path( os.path.join( root, 'valid/labels')).mkdir(parents=True, exist_ok=True)\n",
    "\n",
    "    N_train= int( N*0.8)\n",
    "    for i in range( 0, N):\n",
    "        if i%100== 0:\n",
    "            print( i)\n",
    "        folder= \"train\" if i< N_train else \"valid\"\n",
    "        label= random_label_from_vocab_and_p0(words, words_p0)\n",
    "        generate_for_label( label, os.path.join( root, folder))\n",
    "\n",
    "print( 'words na posicao 0', words_p0)        \n",
    "generate_database( 5000, 'dataset-v021-5k-voc180--parts-rd--p0-red')"
   ]
  },
  {
   "cell_type": "code",
   "execution_count": null,
   "metadata": {},
   "outputs": [],
   "source": []
  },
  {
   "cell_type": "code",
   "execution_count": null,
   "metadata": {},
   "outputs": [],
   "source": [
    "#\n",
    "# brincando com o conjunto randomico inicial\n",
    "#"
   ]
  },
  {
   "cell_type": "code",
   "execution_count": null,
   "metadata": {},
   "outputs": [],
   "source": [
    "labels_files= glob( r\"C:\\mestrado\\datasets\\final\\parts-lib-rand-1500\\carnaval_8lines_shuffle_parts\\labels\\*.pgn\")"
   ]
  },
  {
   "cell_type": "code",
   "execution_count": null,
   "metadata": {},
   "outputs": [],
   "source": [
    "len( labels)"
   ]
  },
  {
   "cell_type": "code",
   "execution_count": null,
   "metadata": {},
   "outputs": [],
   "source": [
    "labels= [read_label(f) for f in labels]"
   ]
  },
  {
   "cell_type": "code",
   "execution_count": null,
   "metadata": {},
   "outputs": [],
   "source": [
    "labels[0:10]"
   ]
  },
  {
   "cell_type": "code",
   "execution_count": null,
   "metadata": {},
   "outputs": [],
   "source": [
    "# labels= [label.split() for label in labels]\n",
    "# p0= [label[0] for label in labels]\n",
    "counter1= Counter( labels)\n",
    "words1= [key for (key, value) in counter1.items()]\n"
   ]
  },
  {
   "cell_type": "code",
   "execution_count": null,
   "metadata": {},
   "outputs": [],
   "source": [
    "len( words1)"
   ]
  },
  {
   "cell_type": "code",
   "execution_count": null,
   "metadata": {},
   "outputs": [],
   "source": [
    "WF-M5299def save_part( label, imgfile):\n",
    "    label= label.replace( '...', '___')\n",
    "    dest_imgdir= r\"C:\\mestrado\\datasets\\final\\parts-lib-rand-1500\\from-carnaval-1500\"\n",
    "    folder= os.path.join( dest_imgdir, label)\n",
    "\n",
    "    Path(folder).mkdir(parents=True, exist_ok=True)\n",
    "#     fname= label+\"_part1500_\"+ str( uuid.uuid4())[:6]+'.jpg'\n",
    "#         print( 'save to ', fname)\n",
    "\n",
    "#     destfile= os.path.join( folder, fname)\n",
    "#     print( imgfile, destfile)\n",
    "    copyfile( imgfile, os.path.join( folder, Path( imgfile).name))\n",
    "\n",
    "\n",
    "for i in range( 0, len( labels_files)): #len( labels_files):\n",
    "    f= labels_files[i]\n",
    "#     print( f, labels[i])\n",
    "    save_part( labels[i], f.replace( 'labels', 'images').replace( '.pgn', '.jpg'))"
   ]
  },
  {
   "cell_type": "code",
   "execution_count": null,
   "metadata": {},
   "outputs": [],
   "source": [
    "\n",
    "# le todas a partes e guarda em lista por word\n",
    "#\n",
    "word_cuts1= {}\n",
    "for w in words1:\n",
    "    word_cuts1[w]= glob( os.path.join( r'C:\\mestrado\\datasets\\final\\parts-lib-rand-1500\\from-carnaval-1500', w, \"*.jpg\"))\n",
    "\t\n",
    "for w in words1:\n",
    "    print( w, len( word_cuts1[w]))\n"
   ]
  },
  {
   "cell_type": "code",
   "execution_count": null,
   "metadata": {},
   "outputs": [],
   "source": [
    "# le todas as imagens e todos os labels. supoe que estao na mesma ordem\n",
    "shuffle_images= glob( r\"C:\\mestrado\\datasets\\final\\parts-lib-rand-1500\\from-carnaval-1500\\*\\*.jpg\")"
   ]
  },
  {
   "cell_type": "code",
   "execution_count": null,
   "metadata": {},
   "outputs": [],
   "source": [
    "print( len(shuffle_images ))"
   ]
  },
  {
   "cell_type": "code",
   "execution_count": null,
   "metadata": {},
   "outputs": [],
   "source": [
    "# Extrai label\n",
    "def get_label( f) :\n",
    "    return Path( f).name[11:16].replace( \"_\", \"\")\n",
    "    \n",
    "shuffle_labels= [get_label( f) for f in shuffle_images]\n",
    "print( shuffle_labels[0:10], '...', shuffle_labels[-10:])\n",
    "\n",
    "# resultado em shuffle_images e shuffle_labels"
   ]
  },
  {
   "cell_type": "code",
   "execution_count": null,
   "metadata": {},
   "outputs": [],
   "source": [
    "def get_random_cut_and_label():\n",
    "    cuts= []\n",
    "    labels= []\n",
    "    for i in range( 0, 16):\n",
    "        ix= random.randrange( 0, len( shuffle_labels))\n",
    "        \n",
    "        cuts.append( _load_image( shuffle_images[ix]))\n",
    "        labels.append( shuffle_labels[ix])\n",
    "    return cuts, labels\n",
    "\n",
    "        \n",
    "cuts, labels= get_random_cut_and_label()"
   ]
  },
  {
   "cell_type": "code",
   "execution_count": null,
   "metadata": {},
   "outputs": [],
   "source": [
    "print( labels)\n",
    "for cut in cuts:\n",
    "    show( cut)"
   ]
  },
  {
   "cell_type": "code",
   "execution_count": null,
   "metadata": {},
   "outputs": [],
   "source": [
    "# def random_label_from_vocab_and_p0(w, w0):\n",
    "#     label= []\n",
    "#     label.append( w0[random.randrange( 0, len(w0))])\n",
    "#     for i in range( 1, 16):\n",
    "#         label.append( \n",
    "#             words[random.randrange( 0, len( words))]\n",
    "#         )\n",
    "#     return label\n",
    "\n",
    "def resize( img, width, height):\n",
    "    img= cv2.resize(img, (width, height), interpolation = cv2.INTER_AREA) \n",
    "    return img\n",
    "\n",
    "def rebuild( cuts):\n",
    "    col1= np.concatenate((\n",
    "            cuts[ 0], cuts[ 2], cuts[ 4], cuts[ 6], cuts[ 8], \n",
    "            cuts[10], cuts[12], cuts[14]\n",
    "          ), axis= 0)\n",
    "    col2= np.concatenate((\n",
    "            cuts[ 1], cuts[ 3], cuts[ 5], cuts[ 7], cuts[ 9], \n",
    "            cuts[11], cuts[13], cuts[15]\n",
    "          ), axis= 0)\n",
    "    return np.concatenate((col1, col2), axis= 1)\n",
    "\n",
    "def generate_for_label( folder):\n",
    "#     print( 'label', label)\n",
    "#     cuts= []\n",
    "#     for w in label:\n",
    "#         cuts.append( get_random_cut_for( w))\n",
    "    cuts, labels= get_random_cut_and_label()\n",
    "    img= rebuild( cuts)\n",
    "    img= resize( img, 345, 300)\n",
    "    \n",
    "    fname= \"ss-8lines-shuffle-\"+str( uuid.uuid4())[:8] \n",
    "#     show( img)\n",
    "    write_image( os.path.join( folder, 'images', fname+ \".jpg\"), img)\n",
    "    write_label( os.path.join( folder, 'labels', fname+ \".pgn\"), \" \".join( labels))\n",
    "    \n",
    "def generate_database( N, dataset_name):\n",
    "    #N_ratio = (parts,syn)\n",
    "    \n",
    "    print( 'gerar total', N, 'parts')\n",
    "    \n",
    "    # cria diretorio\n",
    "    root= 'C:/mestrado/datasets/final/datasets/'+ dataset_name\n",
    "    Path( os.path.join( root, 'train/images')).mkdir(parents=True, exist_ok=True)\n",
    "    Path( os.path.join( root, 'train/labels')).mkdir(parents=True, exist_ok=True)\n",
    "    Path( os.path.join( root, 'valid/images')).mkdir(parents=True, exist_ok=True)\n",
    "    Path( os.path.join( root, 'valid/labels')).mkdir(parents=True, exist_ok=True)\n",
    "\n",
    "    N_train= int( N*0.8)\n",
    "    for i in range( 0, N):\n",
    "        if i%100== 0:\n",
    "            print( i)\n",
    "        folder= \"train\" if i< N_train else \"valid\"\n",
    "        generate_for_label( os.path.join( root, folder))\n",
    "\n",
    "# print( 'words na posicao 0', words_p0)        \n",
    "generate_database( 7000, 'dataset-v022-7k-shuffle-parts1500')"
   ]
  },
  {
   "cell_type": "code",
   "execution_count": null,
   "metadata": {},
   "outputs": [],
   "source": [
    "#\n",
    "# remove partes que tem 'f' e 'g'\n",
    "#"
   ]
  },
  {
   "cell_type": "code",
   "execution_count": null,
   "metadata": {},
   "outputs": [],
   "source": [
    "f_folders= glob( r'C:\\mestrado\\datasets\\final\\parts-lib\\from-handmade\\*f*')\n",
    "g_folders= glob( r'C:\\mestrado\\datasets\\final\\parts-lib\\from-handmade\\*g*')\n",
    "folders= f_folders+ g_folders"
   ]
  },
  {
   "cell_type": "code",
   "execution_count": null,
   "metadata": {},
   "outputs": [],
   "source": [
    "len( folders)"
   ]
  },
  {
   "cell_type": "code",
   "execution_count": null,
   "metadata": {},
   "outputs": [],
   "source": [
    "f_folders"
   ]
  },
  {
   "cell_type": "code",
   "execution_count": null,
   "metadata": {},
   "outputs": [],
   "source": [
    "g_folders"
   ]
  },
  {
   "cell_type": "code",
   "execution_count": null,
   "metadata": {},
   "outputs": [],
   "source": [
    "folders[0]"
   ]
  },
  {
   "cell_type": "code",
   "execution_count": null,
   "metadata": {},
   "outputs": [],
   "source": [
    "shutil.move( folders[0], r'C:\\mestrado\\datasets\\final\\parts-lib--f-and-g')"
   ]
  },
  {
   "cell_type": "code",
   "execution_count": null,
   "metadata": {},
   "outputs": [],
   "source": [
    "for f in folders:\n",
    "    shutil.move( f, r'C:\\mestrado\\datasets\\final\\parts-lib--f-and-g\\from-handmade')"
   ]
  },
  {
   "cell_type": "code",
   "execution_count": null,
   "metadata": {},
   "outputs": [],
   "source": [
    "#\n",
    "# Gerar dataset de 2 linhas\n",
    "#\n"
   ]
  },
  {
   "cell_type": "code",
   "execution_count": null,
   "metadata": {},
   "outputs": [],
   "source": [
    "imgfile= r\"C:\\mestrado\\datasets\\final\\datasets_pool\\parts\\images\\new-random_000e179e.jpg\""
   ]
  },
  {
   "cell_type": "code",
   "execution_count": null,
   "metadata": {},
   "outputs": [],
   "source": [
    "img= _load_image( imgfile)"
   ]
  },
  {
   "cell_type": "code",
   "execution_count": null,
   "metadata": {},
   "outputs": [],
   "source": [
    "show( img)"
   ]
  },
  {
   "cell_type": "code",
   "execution_count": null,
   "metadata": {},
   "outputs": [],
   "source": [
    "show( img[0:int(img.shape[0]/4),img[0:int(img.shape[1]/4)])"
   ]
  },
  {
   "cell_type": "code",
   "execution_count": null,
   "metadata": {},
   "outputs": [],
   "source": [
    "h= int(img.shape[0]/4)\n",
    "w= int(img.shape[1]/4)\n",
    "print( h, w)"
   ]
  },
  {
   "cell_type": "code",
   "execution_count": null,
   "metadata": {},
   "outputs": [],
   "source": [
    "show( img[:h,:])"
   ]
  },
  {
   "cell_type": "code",
   "execution_count": null,
   "metadata": {},
   "outputs": [],
   "source": [
    "files= glob( r\"C:\\mestrado\\datasets\\final\\datasets_pool\\parts\\images\\*.jpg\")"
   ]
  },
  {
   "cell_type": "code",
   "execution_count": null,
   "metadata": {},
   "outputs": [],
   "source": []
  },
  {
   "cell_type": "code",
   "execution_count": null,
   "metadata": {},
   "outputs": [],
   "source": [
    "\n",
    "    \n",
    "# img8to2lines( files[random.randrange( len( files))])"
   ]
  },
  {
   "cell_type": "code",
   "execution_count": 281,
   "metadata": {},
   "outputs": [
    {
     "name": "stdout",
     "output_type": "stream",
     "text": [
      "processando  30000  arquivos\n",
      "0\n",
      "500\n",
      "1000\n",
      "1500\n",
      "2000\n",
      "2500\n",
      "3000\n",
      "3500\n",
      "4000\n",
      "4500\n",
      "5000\n",
      "5500\n",
      "6000\n",
      "6500\n",
      "7000\n",
      "7500\n",
      "8000\n",
      "8500\n",
      "9000\n",
      "9500\n",
      "10000\n",
      "10500\n",
      "11000\n",
      "11500\n",
      "12000\n",
      "12500\n",
      "13000\n",
      "13500\n",
      "14000\n",
      "14500\n",
      "15000\n",
      "15500\n",
      "16000\n",
      "16500\n",
      "17000\n",
      "17500\n",
      "18000\n",
      "18500\n",
      "19000\n",
      "19500\n",
      "20000\n",
      "20500\n",
      "21000\n",
      "21500\n",
      "22000\n",
      "22500\n",
      "23000\n",
      "23500\n",
      "24000\n",
      "24500\n",
      "25000\n",
      "25500\n",
      "26000\n",
      "26500\n",
      "27000\n",
      "27500\n",
      "28000\n",
      "28500\n",
      "29000\n",
      "29500\n"
     ]
    }
   ],
   "source": [
    "def img8to2lines( f):\n",
    "    img= _load_image( f)\n",
    "    dh= 3\n",
    "    h= int(img.shape[0]/4)+dh\n",
    "    w= int(img.shape[1]/4)\n",
    "    cut= img[:h,:]\n",
    "    return cut\n",
    "\n",
    "def convert2lines( srcdir, destdir, test=False):\n",
    "    files= glob( os.path.join( srcdir, \"*.jpg\"))\n",
    "    random.shuffle(files)\n",
    "    print( 'processando ', len( files), ' arquivos')\n",
    "#     for i in range( 0, 2): \n",
    "    N= 1 if test==True else len( files)\n",
    "    for i in range( 0, N):\n",
    "        f= files[i]\n",
    "        if i%500== 0:\n",
    "            print( i)\n",
    "        cut= img8to2lines( f)\n",
    "        destfile= os.path.join( destdir, Path(f).name)\n",
    "        if test:\n",
    "            print( 'write to ', destfile)\n",
    "            show( cut)\n",
    "        else:\n",
    "            write_image( destfile, cut)    \n",
    "                \n",
    "convert2lines( \n",
    "    r\"C:\\mestrado\\datasets\\final\\datasets_pool\\parts-ec\\images\",\n",
    "    r\"C:\\mestrado\\datasets\\final\\datasets_pool_2lines\\parts-ec\\images\", test=False)"
   ]
  },
  {
   "cell_type": "code",
   "execution_count": 282,
   "metadata": {},
   "outputs": [
    {
     "name": "stdout",
     "output_type": "stream",
     "text": [
      "processando  30000  arquivos\n",
      "0\n",
      "500\n",
      "1000\n",
      "1500\n",
      "2000\n",
      "2500\n",
      "3000\n",
      "3500\n",
      "4000\n",
      "4500\n",
      "5000\n",
      "5500\n",
      "6000\n",
      "6500\n",
      "7000\n",
      "7500\n",
      "8000\n",
      "8500\n",
      "9000\n",
      "9500\n",
      "10000\n",
      "10500\n",
      "11000\n",
      "11500\n",
      "12000\n",
      "12500\n",
      "13000\n",
      "13500\n",
      "14000\n",
      "14500\n",
      "15000\n",
      "15500\n",
      "16000\n",
      "16500\n",
      "17000\n",
      "17500\n",
      "18000\n",
      "18500\n",
      "19000\n",
      "19500\n",
      "20000\n",
      "20500\n",
      "21000\n",
      "21500\n",
      "22000\n",
      "22500\n",
      "23000\n",
      "23500\n",
      "24000\n",
      "24500\n",
      "25000\n",
      "25500\n",
      "26000\n",
      "26500\n",
      "27000\n",
      "27500\n",
      "28000\n",
      "28500\n",
      "29000\n",
      "29500\n"
     ]
    }
   ],
   "source": [
    "def label8to2lines( f):\n",
    "    label= read_label( f)\n",
    "    label= \" \".join( label.split()[0:4])\n",
    "    return label\n",
    "\n",
    "# print( label8to2lines( r\"C:\\mestrado\\datasets\\final\\datasets_pool\\parts\\labels\\new-random_0000bdf6.pgn\"))\n",
    "                    \n",
    "def convert2lines_label( srcdir, destdir):\n",
    "    files= glob( os.path.join( srcdir, \"*.pgn\"))\n",
    "    print( 'processando ', len( files), ' arquivos')\n",
    "    for i in range( 0, len( files)):\n",
    "        f= files[i]\n",
    "        if i%500== 0:\n",
    "            print( i)\n",
    "        label= label8to2lines( f)\n",
    "        destfile= os.path.join( destdir, Path(f).name)\n",
    "        write_label( destfile, label)    \n",
    "                \n",
    "convert2lines_label( \n",
    "    r\"C:\\mestrado\\datasets\\final\\datasets_pool\\parts-ec\\labels\",\n",
    "    r\"C:\\mestrado\\datasets\\final\\datasets_pool_2lines\\parts-ec\\labels\")"
   ]
  },
  {
   "cell_type": "code",
   "execution_count": null,
   "metadata": {},
   "outputs": [],
   "source": [
    "def img8to2lines( f):\n",
    "    img= _load_image( f)\n",
    "    dh= 20\n",
    "    h= int(img.shape[0]/4)+dh\n",
    "    w= int(img.shape[1]/4)\n",
    "    cut= img[:h,:]\n",
    "#     show( cut)\n",
    "    return cut\n",
    "\n",
    "def convert2lines( srcdir, destdir):\n",
    "    files= glob( os.path.join( srcdir, \"*.jpg\"))\n",
    "    print( 'processando ', len( files), ' arquivos')\n",
    "    for i in range( 0, len( files)):\n",
    "        f= files[i]\n",
    "        if i%500== 0:\n",
    "            print( i)\n",
    "        cut= img8to2lines( f)\n",
    "        destfile= os.path.join( destdir, Path(f).name)\n",
    "        write_image( destfile, cut)    \n",
    "                \n",
    "convert2lines( \n",
    "    r\"C:\\mestrado\\datasets\\final\\datasets\\new-random-8lines--v1--test-only\\test--v2\\images\",\n",
    "    r\"C:\\mestrado\\datasets\\final\\datasets\\new-random-8lines--v1--test-only-2lines\\test--v2\\images\")\n",
    "\n"
   ]
  },
  {
   "cell_type": "code",
   "execution_count": null,
   "metadata": {},
   "outputs": [],
   "source": [
    "files= glob( r\"C:\\mestrado\\datasets\\final\\datasets\\new-random-8lines--v1--test-only\\test\\images\\*.jpg\")"
   ]
  },
  {
   "cell_type": "code",
   "execution_count": null,
   "metadata": {},
   "outputs": [],
   "source": [
    "show( img8to2lines( files[random.randrange( 0, len( files))]))"
   ]
  },
  {
   "cell_type": "code",
   "execution_count": null,
   "metadata": {},
   "outputs": [],
   "source": [
    "def shuffle_labels():\n",
    "    f= r\"C:\\mestrado\\datasets\\final\\datasets\\new-random-8lines--v1--test-only-2lines\\all-labels-.pgn\"\n",
    "    label= read_label( f).split()\n",
    "    print( label)\n",
    "    random.shuffle( label)\n",
    "    random.shuffle( label)\n",
    "    random.shuffle( label)\n",
    "    print( '- ', label)\n",
    "    write_label( r\"C:\\mestrado\\datasets\\final\\datasets\\new-random-8lines--v1--test-only-2lines\\all-labels-shuffle.pgn\",\n",
    "                \" \".join( label))\n",
    "    \n",
    "shuffle_labels()\n",
    "    \n",
    "    "
   ]
  },
  {
   "cell_type": "code",
   "execution_count": null,
   "metadata": {},
   "outputs": [],
   "source": [
    "#\n",
    "# rotina temporaria para limpar os que estao em testes\n",
    "#\n"
   ]
  },
  {
   "cell_type": "code",
   "execution_count": 193,
   "metadata": {},
   "outputs": [],
   "source": [
    "files= glob( r\"C:\\mestrado\\datasets\\final\\datasets\\new-random-8lines--v1--test-only-2lines\\test\\images\\*.jpg\" )"
   ]
  },
  {
   "cell_type": "code",
   "execution_count": 194,
   "metadata": {},
   "outputs": [
    {
     "data": {
      "text/plain": [
       "114"
      ]
     },
     "execution_count": 194,
     "metadata": {},
     "output_type": "execute_result"
    }
   ],
   "source": [
    "len( files)"
   ]
  },
  {
   "cell_type": "code",
   "execution_count": null,
   "metadata": {
    "scrolled": false
   },
   "outputs": [],
   "source": [
    "# remove da base original os que estao em files\n",
    "remove_dir= r\"C:\\mestrado\\datasets\\final\\datasets_pool\\torneio-except-test\\images\"\n",
    "\n",
    "for f in files:\n",
    "    fname= Path( f).name\n",
    "    \n",
    "    imgpath= os.path.join( remove_dir, 'carnaval_'+fname[9:13]+'_line_1_8.jpg')\n",
    "    if os.path.exists( imgpath):\n",
    "#     print( fullpath, '-> ', os.path.exists( imgpath))\n",
    "        print( 'remove ', imgpath)\n",
    "        os.remove( imgpath)\n",
    "    \n",
    "    labelpath= imgpath.replace( 'images', 'labels').replace( 'jpg', 'pgn')\n",
    "#     print( fullpath, '-> ', os.path.exists( imgpath))\n",
    "    if os.path.exists( labelpath):\n",
    "        print( 'remove ', labelpath)\n",
    "        os.remove( labelpath)\n"
   ]
  },
  {
   "cell_type": "code",
   "execution_count": null,
   "metadata": {},
   "outputs": [],
   "source": [
    "#\n",
    "# processa jogos da hebraica, para testes\n",
    "#"
   ]
  },
  {
   "cell_type": "code",
   "execution_count": 165,
   "metadata": {},
   "outputs": [],
   "source": [
    "# le todos os arquivs\n",
    "files= glob( r\"C:\\mestrado\\datasets\\extra-final-test\\hebraica\\originais\\*.jpg\")"
   ]
  },
  {
   "cell_type": "code",
   "execution_count": 166,
   "metadata": {},
   "outputs": [
    {
     "name": "stdout",
     "output_type": "stream",
     "text": [
      "284\n"
     ]
    }
   ],
   "source": [
    "print( len( files))"
   ]
  },
  {
   "cell_type": "code",
   "execution_count": 168,
   "metadata": {},
   "outputs": [
    {
     "data": {
      "image/png": "[encoded data removed]",
      "text/plain": [
       "<Figure size 432x288 with 1 Axes>"
      ]
     },
     "metadata": {
      "needs_background": "light"
     },
     "output_type": "display_data"
    }
   ],
   "source": [
    "img= _load_image( files[0])\n",
    "show( img)"
   ]
  },
  {
   "cell_type": "code",
   "execution_count": 171,
   "metadata": {},
   "outputs": [
    {
     "data": {
      "text/plain": [
       "(2480, 2480, 3)"
      ]
     },
     "execution_count": 171,
     "metadata": {},
     "output_type": "execute_result"
    }
   ],
   "source": [
    "img.shape"
   ]
  },
  {
   "cell_type": "code",
   "execution_count": 192,
   "metadata": {},
   "outputs": [
    {
     "data": {
      "image/png": "[encoded data removed]",
      "text/plain": [
       "<Figure size 432x288 with 1 Axes>"
      ]
     },
     "metadata": {
      "needs_background": "light"
     },
     "output_type": "display_data"
    },
    {
     "data": {
      "image/png": "[encoded data removed]",
      "text/plain": [
       "<Figure size 432x288 with 1 Axes>"
      ]
     },
     "metadata": {
      "needs_background": "light"
     },
     "output_type": "display_data"
    }
   ],
   "source": [
    "img= _load_image( files[random.randrange( 0, len( files))])\n",
    "img_8lines=img[1030:1790,415:1200] \n",
    "show( img)\n",
    "show( img_8lines)\n",
    "# show( img[:100, :200])"
   ]
  },
  {
   "cell_type": "code",
   "execution_count": 378,
   "metadata": {},
   "outputs": [],
   "source": [
    "#\n",
    "# cria o equivalente de 8 linhas de um dataset de 2 linhas\n",
    "#\n",
    "files= glob( r'C:\\mestrado\\datasets\\final\\datasets\\dataset-v035--2lines-32k-v5.1\\*\\images\\*.jpg')"
   ]
  },
  {
   "cell_type": "code",
   "execution_count": 379,
   "metadata": {},
   "outputs": [
    {
     "name": "stdout",
     "output_type": "stream",
     "text": [
      "34888\n"
     ]
    }
   ],
   "source": [
    "print( len( files))"
   ]
  },
  {
   "cell_type": "code",
   "execution_count": 200,
   "metadata": {},
   "outputs": [],
   "source": [
    "#   *scan*.jpg\n",
    "#   *combined*.jpg\n",
    "#   *new-random*.pgn\"\n",
    "#   *random-sys*.pgn\n",
    "#    *shuffled*.pgn\n",
    "\n",
    "fscan= [ f for f in files if 'scan' in f]"
   ]
  },
  {
   "cell_type": "code",
   "execution_count": 380,
   "metadata": {},
   "outputs": [],
   "source": [
    "fscan= [ f for f in files if 'scan' in f]\n",
    "fcombined= [ f for f in files if 'combined' in f]\n",
    "fnewrandom= [ f for f in files if 'new-random' in f]\n",
    "frandomsyn= [ f for f in files if 'random-syn' in f]\n",
    "fshuffled= [ f for f in files if 'shuffled' in f]\n",
    "fshuffled_ec= [ f for f in files if 'shuffle-ec-only' in f]\n",
    "fcarnaval= [ f for f in files if 'carnaval' in f]"
   ]
  },
  {
   "cell_type": "code",
   "execution_count": 381,
   "metadata": {},
   "outputs": [
    {
     "name": "stdout",
     "output_type": "stream",
     "text": [
      "fscan 2010\n",
      "fcombined 10000\n",
      "fnewrandom 10000\n",
      "frandomsyn 0\n",
      "fshuffled 2500\n",
      "fshuffled_ec 10000\n",
      "fcarnaval 378\n"
     ]
    }
   ],
   "source": [
    "print( 'fscan', len( fscan))\n",
    "print( 'fcombined', len( fcombined))\n",
    "print( 'fnewrandom', len( fnewrandom))\n",
    "print( 'frandomsyn', len( frandomsyn))\n",
    "print( 'fshuffled', len( fshuffled))\n",
    "print( 'fshuffled_ec', len( fshuffled_ec))\n",
    "print( 'fcarnaval', len( fcarnaval))\n"
   ]
  },
  {
   "cell_type": "code",
   "execution_count": 33,
   "metadata": {
    "scrolled": true
   },
   "outputs": [
    {
     "name": "stdout",
     "output_type": "stream",
     "text": [
      "('8.86 57.21 23.30 10.63', 22369, 'mixed-com-hebraica--metade-1')\n"
     ]
    }
   ],
   "source": [
    "def composicao_dataset_of( dataset, verbose=True):\n",
    "    \n",
    "    folder = r'C:\\mestrado\\repos-github\\chess-attention\\trained--for-evaluation\\notebooks\\train-folder\\tmp'\n",
    "    files= glob( os.path.join( folder, dataset, r'train\\images\\*.jpg'))\n",
    "    if verbose:\n",
    "        print( 'lidos', len( files), 'arquivos');\n",
    "    \n",
    "    files = [Path(f).name for f in files]\n",
    "\n",
    "\n",
    "    q = {}\n",
    "    q['scan']= len([ f for f in files if 'scan' in f])\n",
    "    q['combined']= len([ f for f in files if 'combined' in f])\n",
    "    q['newrandom']= len([ f for f in files if 'new-random' in f])\n",
    "    q['randomsyn']= len([ f for f in files if 'random-syn' in f])\n",
    "    q['shuffled']= len([ f for f in files if 'shuffled' in f])\n",
    "    q['shuffled_ec']= len([ f for f in files if 'shuffle-ec-only' in f])\n",
    "    q['carnaval']= len([ f for f in files if 'carnaval' in f])\n",
    "    q['hebraica']= len([ f for f in files if 'hebraica' in f])\n",
    "\n",
    "    if verbose:\n",
    "        print( q)\n",
    "        print( 'total', sum( q.values()))\n",
    "        for key in q.keys():\n",
    "            print( key, q[key])\n",
    "#     print( 'fscan (escritos à mão)','\\t', len( fscan))\n",
    "#     print( 'fcombined(combinados sequencia real)', '\\t', len( fcombined))\n",
    "#     print( 'fnewrandom (combinados random)', '\\t', len( fnewrandom))\n",
    "#     print( 'frandomsyn (combinados random syn)', '\\t', len( frandomsyn))\n",
    "#     print( 'fshuffled (randomicos fáceis)', '\\t', len( fshuffled))\n",
    "#     print( 'fshuffled_ec (randomicos e c somente)', '\\t', len( fshuffled_ec))\n",
    "#     print( 'fcarnaval (torneio)', '\\t', len( fcarnaval))\n",
    "#     print( 'hebraica (torneio)', '\\t', len( fhebraica))\n",
    "\n",
    "#     print( 'total somado= ', \n",
    "#                     len( fscan)+ len( fcombined)+ len( fnewrandom)+ len( frandomsyn)+\n",
    "#                     len( fshuffled)+ len( fshuffled_ec)+ len( fcarnaval)+ len( fhebraica))\n",
    "\n",
    "    if verbose:\n",
    "        print( 'total de imagens: ', len(files))\n",
    "    \n",
    "    total = len(files)\n",
    "    MANUAL = q['scan']+q['carnaval']+q['hebraica']\n",
    "    RAND =  q['newrandom'] + q['randomsyn'] + q['shuffled']\n",
    "    SUB = q['shuffled_ec']\n",
    "    SEQ = q['combined']\n",
    "\n",
    "    if verbose:\n",
    "        print( \"MANUAL RAND SEQ SUB\")\n",
    "        print( \"%d %d %d %d\" % (MANUAL, RAND, SEQ, SUB))\n",
    "        print( \"%.2f %.2f %.2f %.2f\" % (100*MANUAL/total, 100*RAND/total, 100*SEQ/total, 100*SUB/total))\n",
    "    return (\"%.2f %.2f %.2f %.2f\" % (100*MANUAL/total, 100*RAND/total, 100*SEQ/total, 100*SUB/total), total, dataset)\n",
    "    \n",
    "    \n",
    "\n",
    "# composicao_dataset_of( folder + r'\\nivel-0--dataset-v034--2lines-parts--42k')\n",
    "print( composicao_dataset_of( 'mixed-com-hebraica--metade-1', verbose=False))\n",
    "\n"
   ]
  },
  {
   "cell_type": "code",
   "execution_count": 26,
   "metadata": {},
   "outputs": [],
   "source": []
  },
  {
   "cell_type": "code",
   "execution_count": 34,
   "metadata": {},
   "outputs": [
    {
     "name": "stdout",
     "output_type": "stream",
     "text": [
      "('7.05 7.41 0.00 0.00', 1120, 'dataset-2lines-v.2.0.1')\n",
      "('5.23 59.49 24.22 11.05', 21512, 'mixed')\n",
      "('8.86 57.21 23.30 10.63', 22369, 'mixed-com-hebraica--metade-1')\n",
      "('4.79 95.21 0.00 0.00', 33608, 'nivel-0--dataset-v034--2lines-parts--42k')\n",
      "('4.73 76.21 19.05 0.00', 41986, 'nivel-1--dataset-v034--2lines-parts--42k-v3')\n",
      "('5.64 38.13 44.99 11.24', 35586, 'nivel-2--dataset-v034--2lines-parts--40k-v4')\n",
      "('7.33 47.93 29.73 15.01', 26786, 'nivel-4--dataset-v035--2lines-32k-v5.0')\n",
      "('7.04 35.70 28.64 28.62', 27986, 'nivel-5--dataset-v035--2lines-32k-v5.1')\n"
     ]
    }
   ],
   "source": [
    "datasets = glob( r'C:\\mestrado\\repos-github\\chess-attention\\trained--for-evaluation\\notebooks\\train-folder\\tmp\\*')\n",
    "datasets = [os.path.basename( f) for f in datasets]\n",
    "for d in datasets:\n",
    "    print( composicao_dataset_of( d, verbose=False))"
   ]
  },
  {
   "cell_type": "code",
   "execution_count": 35,
   "metadata": {},
   "outputs": [
    {
     "name": "stdout",
     "output_type": "stream",
     "text": [
      "('7.30 35.60 28.56 28.54', 28063, 'nivel-6--hebraica-metade-1')\n"
     ]
    }
   ],
   "source": [
    "print( composicao_dataset_of( 'nivel-6--hebraica-metade-1', verbose=False))"
   ]
  },
  {
   "cell_type": "code",
   "execution_count": 393,
   "metadata": {},
   "outputs": [
    {
     "name": "stdout",
     "output_type": "stream",
     "text": [
      "fscan (escritos à mão) \t 10\n"
     ]
    }
   ],
   "source": [
    "\tprint( 'fscan (escritos à mão)','\\t', 10)\n"
   ]
  },
  {
   "cell_type": "code",
   "execution_count": 208,
   "metadata": {},
   "outputs": [
    {
     "name": "stdout",
     "output_type": "stream",
     "text": [
      "52388\n",
      "52388\n"
     ]
    }
   ],
   "source": [
    "total= len( fscan)+ len( fcombined)+ len( fnewrandom)+ len( frandomsyn)+ len( fshuffled)+ len( fcarnaval)\n",
    "print( total)\n",
    "print( len( files))"
   ]
  },
  {
   "cell_type": "code",
   "execution_count": 214,
   "metadata": {},
   "outputs": [],
   "source": [
    "# verifica se tem o arquivo para 8 linhas\n",
    "for f in fscan:\n",
    "    ff= os.path.join( r\"C:\\mestrado\\datasets\\final\\datasets_pool\\hand\\images\", Path( f).name)\n",
    "    if not os.path.exists( ff):\n",
    "        print( ff)\n",
    "for f in fcombined:\n",
    "    ff= os.path.join( r\"C:\\mestrado\\datasets\\final\\datasets_pool\\parts-seq\\images\", Path( f).name)\n",
    "    if not os.path.exists( ff):\n",
    "        print( ff)\n",
    "for f in fnewrandom:\n",
    "    ff= os.path.join( r\"C:\\mestrado\\datasets\\final\\datasets_pool\\parts\\images\", Path( f).name)\n",
    "    if not os.path.exists( ff):\n",
    "        print( ff)\n",
    "for f in frandomsyn:\n",
    "    ff= os.path.join( r\"C:\\mestrado\\datasets\\final\\datasets_pool\\syn\\images\", Path( f).name)\n",
    "    if not os.path.exists( ff):\n",
    "        print( ff)\n",
    "for f in fshuffled:\n",
    "    ff= os.path.join( r\"C:\\mestrado\\datasets\\final\\datasets_pool\\shuffle\\images\", Path( f).name)\n",
    "    if not os.path.exists( ff):\n",
    "        print( ff)\n",
    "for f in fcarnaval:\n",
    "    ff= os.path.join( r\"C:\\mestrado\\datasets\\final\\datasets_pool\\torneio-except-test\\images\", Path( f).name)\n",
    "    if not os.path.exists( ff):\n",
    "        print( ff)"
   ]
  },
  {
   "cell_type": "code",
   "execution_count": 219,
   "metadata": {},
   "outputs": [],
   "source": [
    "for f in files:\n",
    "    fromFile= None \n",
    "    if 'scan' in f:\n",
    "        fromFile= os.path.join( r\"C:\\mestrado\\datasets\\final\\datasets_pool\\hand\\images\", Path( f).name)\n",
    "    if 'combined' in f:\n",
    "        fromFile= os.path.join( r\"C:\\mestrado\\datasets\\final\\datasets_pool\\parts-seq\\images\", Path( f).name)\n",
    "    if 'new-random' in f:\n",
    "        fromFile= os.path.join( r\"C:\\mestrado\\datasets\\final\\datasets_pool\\parts\\images\", Path( f).name)\n",
    "    if 'random-syn' in f:\n",
    "        fromFile= os.path.join( r\"C:\\mestrado\\datasets\\final\\datasets_pool\\syn\\images\", Path( f).name)\n",
    "    if 'shuffled' in f:\n",
    "        fromFile= os.path.join( r\"C:\\mestrado\\datasets\\final\\datasets_pool\\shuffle\\images\", Path( f).name)\n",
    "    if 'carnaval' in f:\n",
    "        fromFile= os.path.join( r\"C:\\mestrado\\datasets\\final\\datasets_pool\\torneio-except-test\\images\", Path( f).name)\n",
    "\n",
    "#     if not os.path.exists( fromFile):\n",
    "#         print( fromFile, 'not exists!')\n",
    "    toFile= f.replace( 'dataset-v034--2lines-parts--42k-v3', 'dataset-v034--parts--42k-v3')\n",
    "#     print( 'copy from ', fromFile, 'to ', toFile)\n",
    "    \n",
    "    shutil.copyfile( fromFile, toFile)\n",
    "    shutil.copyfile( \n",
    "            fromFile.replace( 'images', 'labels').replace( 'jpg', 'pgn'),                  \n",
    "            toFile.replace( 'images', 'labels').replace( 'jpg', 'pgn'))"
   ]
  },
  {
   "cell_type": "code",
   "execution_count": null,
   "metadata": {},
   "outputs": [],
   "source": [
    "#\n",
    "# validando dados de testes\n",
    "#"
   ]
  },
  {
   "cell_type": "code",
   "execution_count": 290,
   "metadata": {},
   "outputs": [],
   "source": [
    "files= glob( r'C:\\mestrado\\datasets\\final-target-test\\--2lines\\test\\labels\\*.pgn')"
   ]
  },
  {
   "cell_type": "code",
   "execution_count": 293,
   "metadata": {},
   "outputs": [],
   "source": [
    "labels= [ read_label(f).split()[:4] for f in files]"
   ]
  },
  {
   "cell_type": "code",
   "execution_count": 299,
   "metadata": {},
   "outputs": [
    {
     "name": "stdout",
     "output_type": "stream",
     "text": [
      "['e4', 'd5', 'exd5', 'Qxd5']\n",
      "C:\\mestrado\\datasets\\final-target-test\\--2lines\\test\\labels\\carnaval_0090_fullpage.pgn\n"
     ]
    },
    {
     "data": {
      "image/png": "[encoded data removed]",
      "text/plain": [
       "<Figure size 432x288 with 1 Axes>"
      ]
     },
     "metadata": {
      "needs_background": "light"
     },
     "output_type": "display_data"
    },
    {
     "name": "stdout",
     "output_type": "stream",
     "text": [
      "['e4', 'd5', 'exd5', 'Nf6']\n",
      "C:\\mestrado\\datasets\\final-target-test\\--2lines\\test\\labels\\carnaval_0232_fullpage.pgn\n"
     ]
    },
    {
     "data": {
      "image/png": "[encoded data removed]",
      "text/plain": [
       "<Figure size 432x288 with 1 Axes>"
      ]
     },
     "metadata": {
      "needs_background": "light"
     },
     "output_type": "display_data"
    }
   ],
   "source": [
    "def find_image_with( w):\n",
    "    for i in range( 0, len( labels)):\n",
    "        if w in labels[i]:\n",
    "            print( labels[i])\n",
    "            print( files[i])\n",
    "            show( _load_image( files[i].replace( '.pgn', '.jpg').replace( 'labels', 'images')))\n",
    "find_image_with( pt_to_pgn( 'exd5'))"
   ]
  },
  {
   "cell_type": "code",
   "execution_count": 301,
   "metadata": {},
   "outputs": [
    {
     "name": "stdout",
     "output_type": "stream",
     "text": [
      "['Nf3', 'b6', 'g3', 'Bb7']\n",
      "C:\\mestrado\\datasets\\final-target-test\\--2lines\\test\\labels\\carnaval_0592_fullpage.pgn\n"
     ]
    },
    {
     "data": {
      "image/png": "[encoded data removed]",
      "text/plain": [
       "<Figure size 432x288 with 1 Axes>"
      ]
     },
     "metadata": {
      "needs_background": "light"
     },
     "output_type": "display_data"
    }
   ],
   "source": [
    "find_image_with( pt_to_pgn( 'Bb7'))"
   ]
  },
  {
   "cell_type": "code",
   "execution_count": 348,
   "metadata": {},
   "outputs": [
    {
     "name": "stdout",
     "output_type": "stream",
     "text": [
      "['Nf3', 'b6', 'g3', 'Bb7']\n",
      "C:\\mestrado\\datasets\\final-target-test\\--2lines\\test\\labels\\carnaval_0592_fullpage.pgn\n"
     ]
    },
    {
     "data": {
      "image/png": "[encoded data removed]",
      "text/plain": [
       "<Figure size 432x288 with 1 Axes>"
      ]
     },
     "metadata": {
      "needs_background": "light"
     },
     "output_type": "display_data"
    }
   ],
   "source": [
    "find_image_with( pt_to_pgn( 'b6'))"
   ]
  },
  {
   "cell_type": "code",
   "execution_count": 360,
   "metadata": {},
   "outputs": [],
   "source": [
    "pt_lines= [[pgn_to_pt(w) for w in label] for label in en_lines]"
   ]
  },
  {
   "cell_type": "code",
   "execution_count": 361,
   "metadata": {
    "scrolled": true
   },
   "outputs": [
    {
     "data": {
      "text/plain": [
       "['d4',\n",
       " 'f5',\n",
       " 'Cf3',\n",
       " 'g6',\n",
       " 'g3',\n",
       " 'Bg7',\n",
       " 'Bg2',\n",
       " 'Cf6',\n",
       " 'b4',\n",
       " 'c6',\n",
       " 'c4',\n",
       " 'd5',\n",
       " 'Db3',\n",
       " 'Be6',\n",
       " 'c5',\n",
       " 'Ce4',\n",
       " 'O-O',\n",
       " 'Cd7',\n",
       " 'Bf4',\n",
       " 'O-O',\n",
       " 'Cbd2',\n",
       " 'Bf7',\n",
       " 'De3',\n",
       " 'De8',\n",
       " 'Bh6',\n",
       " 'Cdf6',\n",
       " 'Ce5',\n",
       " 'Cxd2',\n",
       " 'Dxd2',\n",
       " 'Cd7',\n",
       " 'Bxg7',\n",
       " 'Rxg7',\n",
       " 'Df4',\n",
       " 'Be6',\n",
       " 'a4',\n",
       " 'Cxe5',\n",
       " 'Dxe5+',\n",
       " 'Tf6',\n",
       " 'f4',\n",
       " 'Rg8',\n",
       " 'Tfb1',\n",
       " 'Bc8',\n",
       " 'Dc7',\n",
       " 'Dd7',\n",
       " 'Dxd7',\n",
       " 'Bxd7',\n",
       " 'b5',\n",
       " 'Tff8',\n",
       " 'e3',\n",
       " 'e6',\n",
       " 'Bf1',\n",
       " 'Rf7',\n",
       " 'a5',\n",
       " 'Tfb8',\n",
       " 'Tb2',\n",
       " 'Re7',\n",
       " 'Tab1',\n",
       " 'Tc8',\n",
       " 'bxc6',\n",
       " 'bxc6',\n",
       " 'Ba6',\n",
       " 'Tc7',\n",
       " 'Tb8',\n",
       " 'Txb8',\n",
       " 'Txb8',\n",
       " 'Be8',\n",
       " 'Bb7',\n",
       " 'Bd7',\n",
       " 'a6',\n",
       " 'Be8',\n",
       " 'Ta8',\n",
       " 'Bd7',\n",
       " 'Rf2',\n",
       " 'Rf6',\n",
       " 'Th8',\n",
       " 'Rg7',\n",
       " 'Ta8',\n",
       " 'Rf6',\n",
       " 'Re2',\n",
       " 'h6',\n",
       " 'Rd2',\n",
       " 'g5',\n",
       " 'Rc3',\n",
       " 'gxf4',\n",
       " 'exf4']"
      ]
     },
     "execution_count": 361,
     "metadata": {},
     "output_type": "execute_result"
    }
   ],
   "source": [
    "pt_lines[0]"
   ]
  },
  {
   "cell_type": "code",
   "execution_count": 369,
   "metadata": {},
   "outputs": [
    {
     "name": "stdout",
     "output_type": "stream",
     "text": [
      "c4 Cf6 Cc3 c5\n",
      "e4 e5 f4 exf4\n",
      "d4 d6 e4 Cd7\n",
      "e4 e5 Cf3 Cc6\n",
      "e4 e6 d4 d5\n",
      "c4 f5 b3 Cf6\n",
      "e4 e6 d4 d5\n",
      "d4 e6 Cf3 Cf6\n",
      "d4 Cf6 c4 e6\n",
      "d4 Cf6 c4 e6\n",
      "d4 d5 c4 dxc4\n",
      "d4 Cf6 Cf3 g6\n",
      "e4 e5 Cf3 Cc6\n",
      "f4 Cf6 Cf3 g6\n",
      "Cf3 d5 d4 Cf6\n",
      "d4 Cf6 c4 e6\n",
      "e4 c5 Cf3 Cc6\n",
      "e4 c5 Cf3 d6\n",
      "d4 Cf6 c4 e6\n",
      "Cf3 Cf6 c4 g6\n",
      "e4 c5 Cf3 Cc6\n",
      "Cf3 c5 e4 d6\n",
      "e4 c5 Cf3 Cc6\n",
      "d4 Cf6 Cf3 d5\n",
      "e4 e6 d4 d5\n",
      "e4 e5 Cf3 Cc6\n",
      "d4 d5 c4 Cc6\n",
      "d4 Cf6 c4 c5\n",
      "d4 d5 c4 dxc4\n",
      "d4 Cf6 c4 g6\n",
      "d4 Cf6 c4 g6\n",
      "e4 c5 Cf3 e6\n",
      "Cf3 e6 c4 f5\n",
      "Cf3 c5 g3 b6\n",
      "Cf3 Cf6 b3 g6\n"
     ]
    }
   ],
   "source": [
    "#\n",
    "# samples de jogos\n",
    "#\n",
    "for i in range( 0, 35):\n",
    "    print( \" \".join( pt_lines[random.randint( 0, len( pt_lines))][0:4]))"
   ]
  },
  {
   "cell_type": "code",
   "execution_count": null,
   "metadata": {},
   "outputs": [],
   "source": [
    "#\n",
    "# recorta a partir de tempate\n",
    "#\n",
    "\n"
   ]
  },
  {
   "cell_type": "code",
   "execution_count": 407,
   "metadata": {},
   "outputs": [],
   "source": [
    "img= _load_image( r\"C:\\mestrado\\datasets\\extra-final-test\\images--nina-20210130\\form_texto.jpg\")"
   ]
  },
  {
   "cell_type": "code",
   "execution_count": 421,
   "metadata": {},
   "outputs": [
    {
     "data": {
      "image/png": "[encoded data removed]",
      "text/plain": [
       "<Figure size 432x288 with 1 Axes>"
      ]
     },
     "metadata": {
      "needs_background": "light"
     },
     "output_type": "display_data"
    }
   ],
   "source": [
    "show( img[ 480:2970+52,300:2245+88 ])   #y, x\n"
   ]
  },
  {
   "cell_type": "code",
   "execution_count": 439,
   "metadata": {},
   "outputs": [],
   "source": [
    "# show( img[ 480:2970+52,300:2245+88 ])   #y, x\n",
    "spcw= 82\n",
    "spch=45\n",
    "\n",
    "# dx=310\n",
    "# dy=490\n",
    "\n",
    "h= (2970+spch-dy)/10\n",
    "w= (2245+spcw-dx)/2\n",
    "\n",
    "count= 1\n",
    "for j in range( 0, 2):\n",
    "    for i in range( 0, 10):\n",
    "        x0= int( dx+ w*j)\n",
    "        x1= int( x0+w-spcw)\n",
    "\n",
    "        y0= int(dy+i*h)\n",
    "        y1= int(y0+ h-spch)\n",
    "        \n",
    "        fname= 'recorte-'+str( count)+ \".jpg\"\n",
    "        write_image( os.path.join( r\"C:\\mestrado\\datasets\\extra-final-test\\images--nina-20210130\", fname),\n",
    "                    img[y0:y1,x0:x1])\n",
    "        count= count+1\n",
    "        \n",
    "# show( )"
   ]
  },
  {
   "cell_type": "code",
   "execution_count": 10,
   "metadata": {},
   "outputs": [
    {
     "name": "stdout",
     "output_type": "stream",
     "text": [
      "C:/mestrado/repos-github/chess-attention/dataset-builder/datasets/handwritten-only\\labels/*.pgn\n",
      "2388\n"
     ]
    }
   ],
   "source": [
    "#\n",
    "# split train valid\n",
    "#\n",
    "\n",
    "def split_train_valid( root):\n",
    "    Path( os.path.join( root, 'train/images')).mkdir(parents=True, exist_ok=True)\n",
    "    Path( os.path.join( root, 'train/labels')).mkdir(parents=True, exist_ok=True)\n",
    "    Path( os.path.join( root, 'valid/images')).mkdir(parents=True, exist_ok=True)\n",
    "    Path( os.path.join( root, 'valid/labels')).mkdir(parents=True, exist_ok=True)\n",
    "    \n",
    "    # le arquivos\n",
    "    print( os.path.join( root, 'labels/*.pgn'))\n",
    "    files = glob( os.path.join( root, 'labels/*.pgn'))\n",
    "    print( len( files))\n",
    "    random.shuffle( files)\n",
    "    n_train = int(len( files)* .8)\n",
    "\n",
    "    for i in range( 0, len( files)):\n",
    "        f= files[i]\n",
    "        folder= 'train' if i< n_train else 'valid'    \n",
    "        \n",
    "        # copia\n",
    "        dest_file= os.path.join( root, folder, 'labels', Path(f).name)\n",
    "        shutil.copyfile( f, dest_file)\n",
    "        shutil.copyfile( \n",
    "            f.replace( 'labels', 'images').replace( 'pgn', 'jpg'),                  \n",
    "            dest_file.replace( 'labels', 'images').replace( 'pgn', 'jpg'))\n",
    "            \n",
    "\n",
    "split_train_valid( 'C:/mestrado/repos-github/chess-attention/dataset-builder/datasets/handwritten-only')   \n",
    "    "
   ]
  },
  {
   "cell_type": "code",
   "execution_count": 6,
   "metadata": {
    "scrolled": true
   },
   "outputs": [],
   "source": [
    "def generate_dataset_v2_8lines( name,\n",
    "                               n_hand, \n",
    "                               n_parts_rand, \n",
    "                               n_parts_ec,\n",
    "                               n_parts_seq,\n",
    "                               n_torneio):\n",
    "    # cria diretorio\n",
    "    root= 'C:/mestrado/repos-github/chess-attention/dataset-builder/datasets-8lines/'+ name\n",
    "    Path( os.path.join( root, 'train/images')).mkdir(parents=True, exist_ok=True)\n",
    "    Path( os.path.join( root, 'train/labels')).mkdir(parents=True, exist_ok=True)\n",
    "    Path( os.path.join( root, 'valid/images')).mkdir(parents=True, exist_ok=True)\n",
    "    Path( os.path.join( root, 'valid/labels')).mkdir(parents=True, exist_ok=True)\n",
    "    \n",
    "    parts = []\n",
    "    parts.append( (n_hand, 'hand')) if n_hand!= 0 else None\n",
    "    parts.append( (n_parts_rand, 'parts-random')) if n_parts_rand!= 0 else None\n",
    "    parts.append( (n_parts_seq, 'parts-seq')) if n_parts_seq!= 0 else None\n",
    "    parts.append( (n_parts_ec, 'parts-ec')) if n_parts_ec!= 0 else None\n",
    "    parts.append( (n_torneio, 'torneio-except-test')) if n_torneio!= 0 else None\n",
    "    \n",
    "    files= []\n",
    "    pool_dir = 'C:/mestrado/repos-github/chess-attention/dataset-builder/pool_8lines/'\n",
    "    for (n, folder) in parts:\n",
    "        print( folder, n)\n",
    "        parts_files = glob( os.path.join( pool_dir, folder, 'labels/*.pgn'))\n",
    "        files.extend( parts_files[:n] if n> 0 else parts_files)\n",
    "    \n",
    "    N_train= int( len(files)*.8)\n",
    "    print( 'train, valid', N_train, len(files)-N_train)\n",
    "    \n",
    "    # shuffle\n",
    "    random.shuffle( files)\n",
    "    print( 'total', len( files))\n",
    "    \n",
    "    # copia\n",
    "    for i in range( 0, len( files)):\n",
    "        if( i%1000== 0):\n",
    "            print( i, '....')\n",
    "        \n",
    "        f= files[i]\n",
    "        folder= 'train' if i< N_train else 'valid'\n",
    "        \n",
    "        # copia\n",
    "        dest_file= os.path.join( root, folder, 'labels', Path(f).name)\n",
    "#         print( dest_file)\n",
    "        shutil.copyfile( f, dest_file)\n",
    "        shutil.copyfile( \n",
    "            f.replace( 'labels', 'images').replace( 'pgn', 'jpg'),                  \n",
    "            dest_file.replace( 'labels', 'images').replace( 'pgn', 'jpg'))\n",
    "\n",
    "    \n"
   ]
  },
  {
   "cell_type": "code",
   "execution_count": 9,
   "metadata": {},
   "outputs": [
    {
     "name": "stdout",
     "output_type": "stream",
     "text": [
      "hand -1\n",
      "parts-random 10000\n",
      "parts-seq 12000\n",
      "parts-ec 5000\n",
      "torneio-except-test -1\n",
      "train, valid 23510 5878\n",
      "total 29388\n",
      "0 ....\n",
      "1000 ....\n",
      "2000 ....\n",
      "3000 ....\n",
      "4000 ....\n",
      "5000 ....\n",
      "6000 ....\n",
      "7000 ....\n",
      "8000 ....\n",
      "9000 ....\n",
      "10000 ....\n",
      "11000 ....\n",
      "12000 ....\n",
      "13000 ....\n",
      "14000 ....\n",
      "15000 ....\n",
      "16000 ....\n",
      "17000 ....\n",
      "18000 ....\n",
      "19000 ....\n",
      "20000 ....\n",
      "21000 ....\n",
      "22000 ....\n",
      "23000 ....\n",
      "24000 ....\n",
      "25000 ....\n",
      "26000 ....\n",
      "27000 ....\n",
      "28000 ....\n",
      "29000 ....\n"
     ]
    }
   ],
   "source": [
    "generate_dataset_v2_8lines( name='curriculum-8-linhas--etapa-4',\n",
    "                           n_hand=-1, \n",
    "                           n_torneio= -1,\n",
    "                           n_parts_rand=10000, \n",
    "                           n_parts_seq= 12000,\n",
    "                           n_parts_ec= 5000,\n",
    "                           )"
   ]
  }
 ],
 "metadata": {
  "kernelspec": {
   "display_name": "Python 3 (ipykernel)",
   "language": "python",
   "name": "python3"
  },
  "language_info": {
   "codemirror_mode": {
    "name": "ipython",
    "version": 3
   },
   "file_extension": ".py",
   "mimetype": "text/x-python",
   "name": "python",
   "nbconvert_exporter": "python",
   "pygments_lexer": "ipython3",
   "version": "3.9.6"
  }
 },
 "nbformat": 4,
 "nbformat_minor": 4
}
